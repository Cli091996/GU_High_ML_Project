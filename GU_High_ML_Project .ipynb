{
 "cells": [
  {
   "cell_type": "markdown",
   "id": "5dddbc2c",
   "metadata": {},
   "source": [
    "# Import Libraries \n"
   ]
  },
  {
   "cell_type": "code",
   "execution_count": 13,
   "id": "ae270712",
   "metadata": {
    "ExecuteTime": {
     "end_time": "2024-01-07T19:13:29.989753Z",
     "start_time": "2024-01-07T19:13:27.172668Z"
    }
   },
   "outputs": [],
   "source": [
    "import pandas as pd\n",
    "from sklearn.model_selection import train_test_split"
   ]
  },
  {
   "cell_type": "markdown",
   "id": "72c874d1",
   "metadata": {
    "ExecuteTime": {
     "end_time": "2024-01-07T19:06:16.248336Z",
     "start_time": "2024-01-07T19:06:16.234142Z"
    }
   },
   "source": [
    "## Read Data \n",
    "\n",
    "\n"
   ]
  },
  {
   "cell_type": "code",
   "execution_count": 7,
   "id": "f365895f",
   "metadata": {
    "ExecuteTime": {
     "end_time": "2024-01-07T19:10:12.814083Z",
     "start_time": "2024-01-07T19:10:12.487795Z"
    }
   },
   "outputs": [
    {
     "data": {
      "text/html": [
       "<div>\n",
       "<style scoped>\n",
       "    .dataframe tbody tr th:only-of-type {\n",
       "        vertical-align: middle;\n",
       "    }\n",
       "\n",
       "    .dataframe tbody tr th {\n",
       "        vertical-align: top;\n",
       "    }\n",
       "\n",
       "    .dataframe thead th {\n",
       "        text-align: right;\n",
       "    }\n",
       "</style>\n",
       "<table border=\"1\" class=\"dataframe\">\n",
       "  <thead>\n",
       "    <tr style=\"text-align: right;\">\n",
       "      <th></th>\n",
       "      <th>datetime</th>\n",
       "      <th>open</th>\n",
       "      <th>high</th>\n",
       "      <th>low</th>\n",
       "      <th>close</th>\n",
       "      <th>25EMA</th>\n",
       "      <th>50EMA</th>\n",
       "      <th>75EMA</th>\n",
       "      <th>100EMA</th>\n",
       "      <th>125EMA</th>\n",
       "      <th>...</th>\n",
       "      <th>ROI Since Alert</th>\n",
       "      <th>2D Lowest Price</th>\n",
       "      <th>2D Highest Price</th>\n",
       "      <th>2D Low in Pips</th>\n",
       "      <th>2D High in Pips</th>\n",
       "      <th>2D Trade Status</th>\n",
       "      <th>2D Hard Stop Price</th>\n",
       "      <th>2D Hard Stop Loss</th>\n",
       "      <th>2D Trend Change Stop Price</th>\n",
       "      <th>2D Trend Change Stop Loss</th>\n",
       "    </tr>\n",
       "  </thead>\n",
       "  <tbody>\n",
       "    <tr>\n",
       "      <th>0</th>\n",
       "      <td>2020-12-10 19:00:00</td>\n",
       "      <td>1.21430</td>\n",
       "      <td>1.21605</td>\n",
       "      <td>1.21405</td>\n",
       "      <td>1.21580</td>\n",
       "      <td>1.215800</td>\n",
       "      <td>1.215800</td>\n",
       "      <td>1.215800</td>\n",
       "      <td>1.215800</td>\n",
       "      <td>1.215800</td>\n",
       "      <td>...</td>\n",
       "      <td>0.0</td>\n",
       "      <td>NaN</td>\n",
       "      <td>NaN</td>\n",
       "      <td>NaN</td>\n",
       "      <td>NaN</td>\n",
       "      <td>0</td>\n",
       "      <td>NaN</td>\n",
       "      <td>NaN</td>\n",
       "      <td>NaN</td>\n",
       "      <td>NaN</td>\n",
       "    </tr>\n",
       "    <tr>\n",
       "      <th>1</th>\n",
       "      <td>2020-12-10 23:00:00</td>\n",
       "      <td>1.21585</td>\n",
       "      <td>1.21635</td>\n",
       "      <td>1.21260</td>\n",
       "      <td>1.21300</td>\n",
       "      <td>1.215585</td>\n",
       "      <td>1.215690</td>\n",
       "      <td>1.215726</td>\n",
       "      <td>1.215745</td>\n",
       "      <td>1.215756</td>\n",
       "      <td>...</td>\n",
       "      <td>0.0</td>\n",
       "      <td>NaN</td>\n",
       "      <td>NaN</td>\n",
       "      <td>NaN</td>\n",
       "      <td>NaN</td>\n",
       "      <td>0</td>\n",
       "      <td>NaN</td>\n",
       "      <td>NaN</td>\n",
       "      <td>NaN</td>\n",
       "      <td>NaN</td>\n",
       "    </tr>\n",
       "    <tr>\n",
       "      <th>2</th>\n",
       "      <td>2020-12-11 03:00:00</td>\n",
       "      <td>1.21300</td>\n",
       "      <td>1.21375</td>\n",
       "      <td>1.21105</td>\n",
       "      <td>1.21205</td>\n",
       "      <td>1.215313</td>\n",
       "      <td>1.215547</td>\n",
       "      <td>1.215630</td>\n",
       "      <td>1.215671</td>\n",
       "      <td>1.215697</td>\n",
       "      <td>...</td>\n",
       "      <td>0.0</td>\n",
       "      <td>NaN</td>\n",
       "      <td>NaN</td>\n",
       "      <td>NaN</td>\n",
       "      <td>NaN</td>\n",
       "      <td>0</td>\n",
       "      <td>NaN</td>\n",
       "      <td>NaN</td>\n",
       "      <td>NaN</td>\n",
       "      <td>NaN</td>\n",
       "    </tr>\n",
       "    <tr>\n",
       "      <th>3</th>\n",
       "      <td>2020-12-11 07:00:00</td>\n",
       "      <td>1.21225</td>\n",
       "      <td>1.21315</td>\n",
       "      <td>1.21055</td>\n",
       "      <td>1.21055</td>\n",
       "      <td>1.214946</td>\n",
       "      <td>1.215351</td>\n",
       "      <td>1.215496</td>\n",
       "      <td>1.215570</td>\n",
       "      <td>1.215615</td>\n",
       "      <td>...</td>\n",
       "      <td>0.0</td>\n",
       "      <td>NaN</td>\n",
       "      <td>NaN</td>\n",
       "      <td>NaN</td>\n",
       "      <td>NaN</td>\n",
       "      <td>0</td>\n",
       "      <td>NaN</td>\n",
       "      <td>NaN</td>\n",
       "      <td>NaN</td>\n",
       "      <td>NaN</td>\n",
       "    </tr>\n",
       "    <tr>\n",
       "      <th>4</th>\n",
       "      <td>2020-12-11 11:00:00</td>\n",
       "      <td>1.21070</td>\n",
       "      <td>1.21205</td>\n",
       "      <td>1.21070</td>\n",
       "      <td>1.21140</td>\n",
       "      <td>1.214674</td>\n",
       "      <td>1.215197</td>\n",
       "      <td>1.215388</td>\n",
       "      <td>1.215487</td>\n",
       "      <td>1.215548</td>\n",
       "      <td>...</td>\n",
       "      <td>0.0</td>\n",
       "      <td>NaN</td>\n",
       "      <td>NaN</td>\n",
       "      <td>NaN</td>\n",
       "      <td>NaN</td>\n",
       "      <td>0</td>\n",
       "      <td>NaN</td>\n",
       "      <td>NaN</td>\n",
       "      <td>NaN</td>\n",
       "      <td>NaN</td>\n",
       "    </tr>\n",
       "  </tbody>\n",
       "</table>\n",
       "<p>5 rows × 39 columns</p>\n",
       "</div>"
      ],
      "text/plain": [
       "              datetime     open     high      low    close     25EMA   \n",
       "0  2020-12-10 19:00:00  1.21430  1.21605  1.21405  1.21580  1.215800  \\\n",
       "1  2020-12-10 23:00:00  1.21585  1.21635  1.21260  1.21300  1.215585   \n",
       "2  2020-12-11 03:00:00  1.21300  1.21375  1.21105  1.21205  1.215313   \n",
       "3  2020-12-11 07:00:00  1.21225  1.21315  1.21055  1.21055  1.214946   \n",
       "4  2020-12-11 11:00:00  1.21070  1.21205  1.21070  1.21140  1.214674   \n",
       "\n",
       "      50EMA     75EMA    100EMA    125EMA  ... ROI Since Alert   \n",
       "0  1.215800  1.215800  1.215800  1.215800  ...             0.0  \\\n",
       "1  1.215690  1.215726  1.215745  1.215756  ...             0.0   \n",
       "2  1.215547  1.215630  1.215671  1.215697  ...             0.0   \n",
       "3  1.215351  1.215496  1.215570  1.215615  ...             0.0   \n",
       "4  1.215197  1.215388  1.215487  1.215548  ...             0.0   \n",
       "\n",
       "  2D Lowest Price 2D Highest Price  2D Low in Pips  2D High in Pips   \n",
       "0             NaN              NaN             NaN              NaN  \\\n",
       "1             NaN              NaN             NaN              NaN   \n",
       "2             NaN              NaN             NaN              NaN   \n",
       "3             NaN              NaN             NaN              NaN   \n",
       "4             NaN              NaN             NaN              NaN   \n",
       "\n",
       "  2D Trade Status 2D Hard Stop Price 2D Hard Stop Loss   \n",
       "0               0                NaN               NaN  \\\n",
       "1               0                NaN               NaN   \n",
       "2               0                NaN               NaN   \n",
       "3               0                NaN               NaN   \n",
       "4               0                NaN               NaN   \n",
       "\n",
       "  2D Trend Change Stop Price  2D Trend Change Stop Loss  \n",
       "0                        NaN                        NaN  \n",
       "1                        NaN                        NaN  \n",
       "2                        NaN                        NaN  \n",
       "3                        NaN                        NaN  \n",
       "4                        NaN                        NaN  \n",
       "\n",
       "[5 rows x 39 columns]"
      ]
     },
     "execution_count": 7,
     "metadata": {},
     "output_type": "execute_result"
    }
   ],
   "source": [
    "df = pd.read_csv('/home/clivence/base_jupyter/Datadump/Master_data.csv')\n",
    "df.head()"
   ]
  },
  {
   "cell_type": "markdown",
   "id": "99688193",
   "metadata": {},
   "source": [
    "## Preprocessing \n"
   ]
  },
  {
   "cell_type": "code",
   "execution_count": 9,
   "id": "303d4d4c",
   "metadata": {
    "ExecuteTime": {
     "end_time": "2024-01-07T19:10:52.250017Z",
     "start_time": "2024-01-07T19:10:52.228641Z"
    }
   },
   "outputs": [],
   "source": [
    "#Subset for trades\n",
    "df = df[df['Alerts'] ==1] \n",
    "df = df[df['Action'] == 'Ultimate Action']\n",
    "df = df[df['Ticker'] == 'GBP/USD']\n",
    "df.fillna(0, inplace=True)"
   ]
  },
  {
   "cell_type": "code",
   "execution_count": 10,
   "id": "7206a569",
   "metadata": {
    "ExecuteTime": {
     "end_time": "2024-01-07T19:11:15.527035Z",
     "start_time": "2024-01-07T19:11:15.471773Z"
    }
   },
   "outputs": [],
   "source": [
    "#Subset of features to keep\n",
    "df= df[['open', 'high', 'low', 'close', '25EMA', '50EMA', '75EMA','100EMA', '125EMA',\n",
    "        'Trend Status', 'Spread','5075 Trend Status', '75100 Trend Status',\n",
    "       '100125 Trend Status', 'Action', 'Opportunity', 'Order Type','2D Lowest Price',\n",
    "       '2D Highest Price', '2D Low in Pips', '2D High in Pips',\n",
    "       '2D Trade Status', '2D Hard Stop Price', '2D Hard Stop Loss',\n",
    "       '2D Trend Change Stop Price', '2D Trend Change Stop Loss']]"
   ]
  },
  {
   "cell_type": "code",
   "execution_count": 11,
   "id": "286f253d",
   "metadata": {
    "ExecuteTime": {
     "end_time": "2024-01-07T19:12:40.965661Z",
     "start_time": "2024-01-07T19:12:40.905024Z"
    }
   },
   "outputs": [],
   "source": [
    "#Apply one-hot encoding \n",
    "df= pd.get_dummies(df,columns=['Trend Status','5075 Trend Status', '75100 Trend Status',\n",
    "       '100125 Trend Status', 'Action', 'Opportunity', 'Order Type'])"
   ]
  },
  {
   "cell_type": "code",
   "execution_count": 12,
   "id": "89ec68b0",
   "metadata": {
    "ExecuteTime": {
     "end_time": "2024-01-07T19:12:43.295968Z",
     "start_time": "2024-01-07T19:12:43.282400Z"
    }
   },
   "outputs": [],
   "source": [
    "#Indepedent Variables \n",
    "X = df[['open', 'high', 'low', 'close', '25EMA', '50EMA', '75EMA', '100EMA',\n",
    "       '125EMA', 'Spread','Trend Status_Bearish',\n",
    "       'Trend Status_Bullish', '5075 Trend Status_Bearish',\n",
    "       '5075 Trend Status_Bullish', '75100 Trend Status_Bearish',\n",
    "       '75100 Trend Status_Bullish', '100125 Trend Status_Bearish',\n",
    "       '100125 Trend Status_Bullish', 'Action_Ultimate Action',\n",
    "       'Opportunity_Optimal', 'Opportunity_Unfavorable', 'Order Type_BUY',\n",
    "       'Order Type_SELL']]\n",
    "#Dependent Variable\n",
    "Y = df['2D Trade Status'] "
   ]
  },
  {
   "cell_type": "code",
   "execution_count": null,
   "id": "ef80de3a",
   "metadata": {},
   "outputs": [],
   "source": [
    "X_train,X_test,Y_train, Y_test = train_test_split(X,Y, test_size=0.2, random_state=42)\n"
   ]
  }
 ],
 "metadata": {
  "kernelspec": {
   "display_name": "base_jupyter",
   "language": "python",
   "name": "base_jupyter"
  },
  "language_info": {
   "codemirror_mode": {
    "name": "ipython",
    "version": 3
   },
   "file_extension": ".py",
   "mimetype": "text/x-python",
   "name": "python",
   "nbconvert_exporter": "python",
   "pygments_lexer": "ipython3",
   "version": "3.9.2"
  }
 },
 "nbformat": 4,
 "nbformat_minor": 5
}
