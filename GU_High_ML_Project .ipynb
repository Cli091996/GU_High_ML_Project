{
 "cells": [
  {
   "cell_type": "markdown",
   "id": "5dddbc2c",
   "metadata": {},
   "source": [
    "# Import Libraries \n"
   ]
  },
  {
   "cell_type": "code",
   "execution_count": 18,
   "id": "ae270712",
   "metadata": {
    "ExecuteTime": {
     "end_time": "2024-01-07T20:19:18.215699Z",
     "start_time": "2024-01-07T20:19:16.159937Z"
    }
   },
   "outputs": [],
   "source": [
    "import pandas as pd\n",
    "import matplotlib.pyplot as plt\n",
    "from sklearn.model_selection import train_test_split"
   ]
  },
  {
   "cell_type": "markdown",
   "id": "72c874d1",
   "metadata": {
    "ExecuteTime": {
     "end_time": "2024-01-07T19:06:16.248336Z",
     "start_time": "2024-01-07T19:06:16.234142Z"
    }
   },
   "source": [
    "## Read Data \n",
    "\n",
    "\n"
   ]
  },
  {
   "cell_type": "code",
   "execution_count": 15,
   "id": "f365895f",
   "metadata": {
    "ExecuteTime": {
     "end_time": "2024-01-07T20:14:31.403257Z",
     "start_time": "2024-01-07T20:14:31.057034Z"
    },
    "scrolled": false
   },
   "outputs": [
    {
     "data": {
      "text/html": [
       "<div>\n",
       "<style scoped>\n",
       "    .dataframe tbody tr th:only-of-type {\n",
       "        vertical-align: middle;\n",
       "    }\n",
       "\n",
       "    .dataframe tbody tr th {\n",
       "        vertical-align: top;\n",
       "    }\n",
       "\n",
       "    .dataframe thead th {\n",
       "        text-align: right;\n",
       "    }\n",
       "</style>\n",
       "<table border=\"1\" class=\"dataframe\">\n",
       "  <thead>\n",
       "    <tr style=\"text-align: right;\">\n",
       "      <th></th>\n",
       "      <th>datetime</th>\n",
       "      <th>open</th>\n",
       "      <th>high</th>\n",
       "      <th>low</th>\n",
       "      <th>close</th>\n",
       "      <th>25EMA</th>\n",
       "      <th>50EMA</th>\n",
       "      <th>75EMA</th>\n",
       "      <th>100EMA</th>\n",
       "      <th>125EMA</th>\n",
       "      <th>...</th>\n",
       "      <th>ROI Since Alert</th>\n",
       "      <th>2D Lowest Price</th>\n",
       "      <th>2D Highest Price</th>\n",
       "      <th>2D Low in Pips</th>\n",
       "      <th>2D High in Pips</th>\n",
       "      <th>2D Trade Status</th>\n",
       "      <th>2D Hard Stop Price</th>\n",
       "      <th>2D Hard Stop Loss</th>\n",
       "      <th>2D Trend Change Stop Price</th>\n",
       "      <th>2D Trend Change Stop Loss</th>\n",
       "    </tr>\n",
       "  </thead>\n",
       "  <tbody>\n",
       "    <tr>\n",
       "      <th>0</th>\n",
       "      <td>2020-12-10 19:00:00</td>\n",
       "      <td>1.21430</td>\n",
       "      <td>1.21605</td>\n",
       "      <td>1.21405</td>\n",
       "      <td>1.21580</td>\n",
       "      <td>1.215800</td>\n",
       "      <td>1.215800</td>\n",
       "      <td>1.215800</td>\n",
       "      <td>1.215800</td>\n",
       "      <td>1.215800</td>\n",
       "      <td>...</td>\n",
       "      <td>0.0</td>\n",
       "      <td>NaN</td>\n",
       "      <td>NaN</td>\n",
       "      <td>NaN</td>\n",
       "      <td>NaN</td>\n",
       "      <td>0</td>\n",
       "      <td>NaN</td>\n",
       "      <td>NaN</td>\n",
       "      <td>NaN</td>\n",
       "      <td>NaN</td>\n",
       "    </tr>\n",
       "    <tr>\n",
       "      <th>1</th>\n",
       "      <td>2020-12-10 23:00:00</td>\n",
       "      <td>1.21585</td>\n",
       "      <td>1.21635</td>\n",
       "      <td>1.21260</td>\n",
       "      <td>1.21300</td>\n",
       "      <td>1.215585</td>\n",
       "      <td>1.215690</td>\n",
       "      <td>1.215726</td>\n",
       "      <td>1.215745</td>\n",
       "      <td>1.215756</td>\n",
       "      <td>...</td>\n",
       "      <td>0.0</td>\n",
       "      <td>NaN</td>\n",
       "      <td>NaN</td>\n",
       "      <td>NaN</td>\n",
       "      <td>NaN</td>\n",
       "      <td>0</td>\n",
       "      <td>NaN</td>\n",
       "      <td>NaN</td>\n",
       "      <td>NaN</td>\n",
       "      <td>NaN</td>\n",
       "    </tr>\n",
       "    <tr>\n",
       "      <th>2</th>\n",
       "      <td>2020-12-11 03:00:00</td>\n",
       "      <td>1.21300</td>\n",
       "      <td>1.21375</td>\n",
       "      <td>1.21105</td>\n",
       "      <td>1.21205</td>\n",
       "      <td>1.215313</td>\n",
       "      <td>1.215547</td>\n",
       "      <td>1.215630</td>\n",
       "      <td>1.215671</td>\n",
       "      <td>1.215697</td>\n",
       "      <td>...</td>\n",
       "      <td>0.0</td>\n",
       "      <td>NaN</td>\n",
       "      <td>NaN</td>\n",
       "      <td>NaN</td>\n",
       "      <td>NaN</td>\n",
       "      <td>0</td>\n",
       "      <td>NaN</td>\n",
       "      <td>NaN</td>\n",
       "      <td>NaN</td>\n",
       "      <td>NaN</td>\n",
       "    </tr>\n",
       "    <tr>\n",
       "      <th>3</th>\n",
       "      <td>2020-12-11 07:00:00</td>\n",
       "      <td>1.21225</td>\n",
       "      <td>1.21315</td>\n",
       "      <td>1.21055</td>\n",
       "      <td>1.21055</td>\n",
       "      <td>1.214946</td>\n",
       "      <td>1.215351</td>\n",
       "      <td>1.215496</td>\n",
       "      <td>1.215570</td>\n",
       "      <td>1.215615</td>\n",
       "      <td>...</td>\n",
       "      <td>0.0</td>\n",
       "      <td>NaN</td>\n",
       "      <td>NaN</td>\n",
       "      <td>NaN</td>\n",
       "      <td>NaN</td>\n",
       "      <td>0</td>\n",
       "      <td>NaN</td>\n",
       "      <td>NaN</td>\n",
       "      <td>NaN</td>\n",
       "      <td>NaN</td>\n",
       "    </tr>\n",
       "    <tr>\n",
       "      <th>4</th>\n",
       "      <td>2020-12-11 11:00:00</td>\n",
       "      <td>1.21070</td>\n",
       "      <td>1.21205</td>\n",
       "      <td>1.21070</td>\n",
       "      <td>1.21140</td>\n",
       "      <td>1.214674</td>\n",
       "      <td>1.215197</td>\n",
       "      <td>1.215388</td>\n",
       "      <td>1.215487</td>\n",
       "      <td>1.215548</td>\n",
       "      <td>...</td>\n",
       "      <td>0.0</td>\n",
       "      <td>NaN</td>\n",
       "      <td>NaN</td>\n",
       "      <td>NaN</td>\n",
       "      <td>NaN</td>\n",
       "      <td>0</td>\n",
       "      <td>NaN</td>\n",
       "      <td>NaN</td>\n",
       "      <td>NaN</td>\n",
       "      <td>NaN</td>\n",
       "    </tr>\n",
       "  </tbody>\n",
       "</table>\n",
       "<p>5 rows × 39 columns</p>\n",
       "</div>"
      ],
      "text/plain": [
       "              datetime     open     high      low    close     25EMA   \n",
       "0  2020-12-10 19:00:00  1.21430  1.21605  1.21405  1.21580  1.215800  \\\n",
       "1  2020-12-10 23:00:00  1.21585  1.21635  1.21260  1.21300  1.215585   \n",
       "2  2020-12-11 03:00:00  1.21300  1.21375  1.21105  1.21205  1.215313   \n",
       "3  2020-12-11 07:00:00  1.21225  1.21315  1.21055  1.21055  1.214946   \n",
       "4  2020-12-11 11:00:00  1.21070  1.21205  1.21070  1.21140  1.214674   \n",
       "\n",
       "      50EMA     75EMA    100EMA    125EMA  ... ROI Since Alert   \n",
       "0  1.215800  1.215800  1.215800  1.215800  ...             0.0  \\\n",
       "1  1.215690  1.215726  1.215745  1.215756  ...             0.0   \n",
       "2  1.215547  1.215630  1.215671  1.215697  ...             0.0   \n",
       "3  1.215351  1.215496  1.215570  1.215615  ...             0.0   \n",
       "4  1.215197  1.215388  1.215487  1.215548  ...             0.0   \n",
       "\n",
       "  2D Lowest Price 2D Highest Price  2D Low in Pips  2D High in Pips   \n",
       "0             NaN              NaN             NaN              NaN  \\\n",
       "1             NaN              NaN             NaN              NaN   \n",
       "2             NaN              NaN             NaN              NaN   \n",
       "3             NaN              NaN             NaN              NaN   \n",
       "4             NaN              NaN             NaN              NaN   \n",
       "\n",
       "  2D Trade Status 2D Hard Stop Price 2D Hard Stop Loss   \n",
       "0               0                NaN               NaN  \\\n",
       "1               0                NaN               NaN   \n",
       "2               0                NaN               NaN   \n",
       "3               0                NaN               NaN   \n",
       "4               0                NaN               NaN   \n",
       "\n",
       "  2D Trend Change Stop Price  2D Trend Change Stop Loss  \n",
       "0                        NaN                        NaN  \n",
       "1                        NaN                        NaN  \n",
       "2                        NaN                        NaN  \n",
       "3                        NaN                        NaN  \n",
       "4                        NaN                        NaN  \n",
       "\n",
       "[5 rows x 39 columns]"
      ]
     },
     "execution_count": 15,
     "metadata": {},
     "output_type": "execute_result"
    }
   ],
   "source": [
    "df = pd.read_csv('/home/clivence/base_jupyter/Datadump/Master_data.csv')\n",
    "df.head()"
   ]
  },
  {
   "cell_type": "code",
   "execution_count": 21,
   "id": "ea87b7e5",
   "metadata": {
    "ExecuteTime": {
     "end_time": "2024-01-07T20:26:53.470785Z",
     "start_time": "2024-01-07T20:24:00.844923Z"
    }
   },
   "outputs": [
    {
     "data": {
      "text/plain": [
       "<matplotlib.collections.PathCollection at 0x79d046b1d6a0>"
      ]
     },
     "execution_count": 21,
     "metadata": {},
     "output_type": "execute_result"
    },
    {
     "data": {
      "image/png": "[encoded data removed]",
      "text/plain": [
       "<Figure size 640x480 with 1 Axes>"
      ]
     },
     "metadata": {},
     "output_type": "display_data"
    }
   ],
   "source": [
    "plt.scatter(x=df['2D High in Pips'], y=df.datetime )"
   ]
  },
  {
   "cell_type": "code",
   "execution_count": 16,
   "id": "97f343b9",
   "metadata": {
    "ExecuteTime": {
     "end_time": "2024-01-07T20:14:41.568630Z",
     "start_time": "2024-01-07T20:14:41.515915Z"
    }
   },
   "outputs": [
    {
     "data": {
      "text/plain": [
       "Index(['datetime', 'open', 'high', 'low', 'close', '25EMA', '50EMA', '75EMA',\n",
       "       '100EMA', '125EMA', 'Ticker', 'Interval', 'Month', 'Month #', 'Year',\n",
       "       'Date', 'Primary_Key', 'Trend Status', 'Trend Status Enhanced',\n",
       "       'Spread', '5075 Trend Status', '75100 Trend Status',\n",
       "       '100125 Trend Status', 'Action', 'Opportunity', 'Order Type', 'Alerts',\n",
       "       'Index_Special', 'Alerts_Index', 'ROI Since Alert', '2D Lowest Price',\n",
       "       '2D Highest Price', '2D Low in Pips', '2D High in Pips',\n",
       "       '2D Trade Status', '2D Hard Stop Price', '2D Hard Stop Loss',\n",
       "       '2D Trend Change Stop Price', '2D Trend Change Stop Loss'],\n",
       "      dtype='object')"
      ]
     },
     "execution_count": 16,
     "metadata": {},
     "output_type": "execute_result"
    }
   ],
   "source": [
    "df.columns"
   ]
  },
  {
   "cell_type": "markdown",
   "id": "99688193",
   "metadata": {},
   "source": [
    "## Preprocessing \n"
   ]
  },
  {
   "cell_type": "code",
   "execution_count": 3,
   "id": "303d4d4c",
   "metadata": {
    "ExecuteTime": {
     "end_time": "2024-01-07T19:46:42.948058Z",
     "start_time": "2024-01-07T19:46:42.939060Z"
    }
   },
   "outputs": [],
   "source": [
    "#Subset for trades\n",
    "df = df[df['Alerts'] ==1] \n",
    "df = df[df['Action'] == 'Ultimate Action']\n",
    "df = df[df['Ticker'] == 'GBP/USD']\n",
    "\n",
    "df.fillna(0, inplace=True)"
   ]
  },
  {
   "cell_type": "code",
   "execution_count": 4,
   "id": "7206a569",
   "metadata": {
    "ExecuteTime": {
     "end_time": "2024-01-07T19:46:43.074879Z",
     "start_time": "2024-01-07T19:46:42.968046Z"
    }
   },
   "outputs": [],
   "source": [
    "#Subset of features to keep\n",
    "df= df[['open', 'high', 'low', 'close', '25EMA', '50EMA', '75EMA','100EMA', '125EMA',\n",
    "        'Trend Status', 'Spread','5075 Trend Status', '75100 Trend Status',\n",
    "       '100125 Trend Status', 'Action', 'Opportunity', 'Order Type','2D Lowest Price',\n",
    "       '2D Highest Price', '2D Low in Pips', '2D High in Pips',\n",
    "       '2D Trade Status', '2D Hard Stop Price', '2D Hard Stop Loss',\n",
    "       '2D Trend Change Stop Price', '2D Trend Change Stop Loss']]"
   ]
  },
  {
   "cell_type": "code",
   "execution_count": 5,
   "id": "286f253d",
   "metadata": {
    "ExecuteTime": {
     "end_time": "2024-01-07T19:46:43.137323Z",
     "start_time": "2024-01-07T19:46:43.087762Z"
    }
   },
   "outputs": [],
   "source": [
    "#Apply one-hot encoding \n",
    "df= pd.get_dummies(df,columns=['Trend Status','5075 Trend Status', '75100 Trend Status',\n",
    "       '100125 Trend Status', 'Action', 'Opportunity', 'Order Type'])"
   ]
  },
  {
   "cell_type": "code",
   "execution_count": 9,
   "id": "89ec68b0",
   "metadata": {
    "ExecuteTime": {
     "end_time": "2024-01-07T20:08:01.988567Z",
     "start_time": "2024-01-07T20:08:01.974572Z"
    }
   },
   "outputs": [],
   "source": [
    "#Indepedent Variables \n",
    "X = df[['open', 'high', 'low', 'close', '25EMA', '50EMA', '75EMA', '100EMA',\n",
    "       '125EMA', 'Spread','Trend Status_Bearish',\n",
    "       'Trend Status_Bullish', '5075 Trend Status_Bearish',\n",
    "       '5075 Trend Status_Bullish', '75100 Trend Status_Bearish',\n",
    "       '75100 Trend Status_Bullish', '100125 Trend Status_Bearish',\n",
    "       '100125 Trend Status_Bullish', 'Action_Ultimate Action',\n",
    "       'Opportunity_Optimal', 'Opportunity_Unfavorable', 'Order Type_BUY',\n",
    "       'Order Type_SELL']]\n",
    "#Dependent Variable\n",
    "Y = df['2D High in Pips'] "
   ]
  },
  {
   "cell_type": "code",
   "execution_count": 7,
   "id": "ef80de3a",
   "metadata": {
    "ExecuteTime": {
     "end_time": "2024-01-07T19:46:43.209256Z",
     "start_time": "2024-01-07T19:46:43.171607Z"
    }
   },
   "outputs": [],
   "source": [
    "X_train,X_test,Y_train, Y_test = train_test_split(X,Y, test_size=0.2, random_state=42)\n"
   ]
  },
  {
   "cell_type": "code",
   "execution_count": 10,
   "id": "ddd165c1",
   "metadata": {
    "ExecuteTime": {
     "end_time": "2024-01-07T20:08:48.799258Z",
     "start_time": "2024-01-07T20:08:48.790644Z"
    }
   },
   "outputs": [],
   "source": [
    "from sklearn.linear_model import LinearRegression"
   ]
  },
  {
   "cell_type": "code",
   "execution_count": 12,
   "id": "8320c6cb",
   "metadata": {
    "ExecuteTime": {
     "end_time": "2024-01-07T20:09:56.981573Z",
     "start_time": "2024-01-07T20:09:56.966683Z"
    }
   },
   "outputs": [],
   "source": [
    "lin_model = LinearRegression()"
   ]
  },
  {
   "cell_type": "code",
   "execution_count": 13,
   "id": "d7555409",
   "metadata": {
    "ExecuteTime": {
     "end_time": "2024-01-07T20:10:31.033644Z",
     "start_time": "2024-01-07T20:10:30.898825Z"
    }
   },
   "outputs": [
    {
     "data": {
      "text/html": [
       "<style>#sk-container-id-1 {color: black;}#sk-container-id-1 pre{padding: 0;}#sk-container-id-1 div.sk-toggleable {background-color: white;}#sk-container-id-1 label.sk-toggleable__label {cursor: pointer;display: block;width: 100%;margin-bottom: 0;padding: 0.3em;box-sizing: border-box;text-align: center;}#sk-container-id-1 label.sk-toggleable__label-arrow:before {content: \"▸\";float: left;margin-right: 0.25em;color: #696969;}#sk-container-id-1 label.sk-toggleable__label-arrow:hover:before {color: black;}#sk-container-id-1 div.sk-estimator:hover label.sk-toggleable__label-arrow:before {color: black;}#sk-container-id-1 div.sk-toggleable__content {max-height: 0;max-width: 0;overflow: hidden;text-align: left;background-color: #f0f8ff;}#sk-container-id-1 div.sk-toggleable__content pre {margin: 0.2em;color: black;border-radius: 0.25em;background-color: #f0f8ff;}#sk-container-id-1 input.sk-toggleable__control:checked~div.sk-toggleable__content {max-height: 200px;max-width: 100%;overflow: auto;}#sk-container-id-1 input.sk-toggleable__control:checked~label.sk-toggleable__label-arrow:before {content: \"▾\";}#sk-container-id-1 div.sk-estimator input.sk-toggleable__control:checked~label.sk-toggleable__label {background-color: #d4ebff;}#sk-container-id-1 div.sk-label input.sk-toggleable__control:checked~label.sk-toggleable__label {background-color: #d4ebff;}#sk-container-id-1 input.sk-hidden--visually {border: 0;clip: rect(1px 1px 1px 1px);clip: rect(1px, 1px, 1px, 1px);height: 1px;margin: -1px;overflow: hidden;padding: 0;position: absolute;width: 1px;}#sk-container-id-1 div.sk-estimator {font-family: monospace;background-color: #f0f8ff;border: 1px dotted black;border-radius: 0.25em;box-sizing: border-box;margin-bottom: 0.5em;}#sk-container-id-1 div.sk-estimator:hover {background-color: #d4ebff;}#sk-container-id-1 div.sk-parallel-item::after {content: \"\";width: 100%;border-bottom: 1px solid gray;flex-grow: 1;}#sk-container-id-1 div.sk-label:hover label.sk-toggleable__label {background-color: #d4ebff;}#sk-container-id-1 div.sk-serial::before {content: \"\";position: absolute;border-left: 1px solid gray;box-sizing: border-box;top: 0;bottom: 0;left: 50%;z-index: 0;}#sk-container-id-1 div.sk-serial {display: flex;flex-direction: column;align-items: center;background-color: white;padding-right: 0.2em;padding-left: 0.2em;position: relative;}#sk-container-id-1 div.sk-item {position: relative;z-index: 1;}#sk-container-id-1 div.sk-parallel {display: flex;align-items: stretch;justify-content: center;background-color: white;position: relative;}#sk-container-id-1 div.sk-item::before, #sk-container-id-1 div.sk-parallel-item::before {content: \"\";position: absolute;border-left: 1px solid gray;box-sizing: border-box;top: 0;bottom: 0;left: 50%;z-index: -1;}#sk-container-id-1 div.sk-parallel-item {display: flex;flex-direction: column;z-index: 1;position: relative;background-color: white;}#sk-container-id-1 div.sk-parallel-item:first-child::after {align-self: flex-end;width: 50%;}#sk-container-id-1 div.sk-parallel-item:last-child::after {align-self: flex-start;width: 50%;}#sk-container-id-1 div.sk-parallel-item:only-child::after {width: 0;}#sk-container-id-1 div.sk-dashed-wrapped {border: 1px dashed gray;margin: 0 0.4em 0.5em 0.4em;box-sizing: border-box;padding-bottom: 0.4em;background-color: white;}#sk-container-id-1 div.sk-label label {font-family: monospace;font-weight: bold;display: inline-block;line-height: 1.2em;}#sk-container-id-1 div.sk-label-container {text-align: center;}#sk-container-id-1 div.sk-container {/* jupyter's `normalize.less` sets `[hidden] { display: none; }` but bootstrap.min.css set `[hidden] { display: none !important; }` so we also need the `!important` here to be able to override the default hidden behavior on the sphinx rendered scikit-learn.org. See: https://github.com/scikit-learn/scikit-learn/issues/21755 */display: inline-block !important;position: relative;}#sk-container-id-1 div.sk-text-repr-fallback {display: none;}</style><div id=\"sk-container-id-1\" class=\"sk-top-container\"><div class=\"sk-text-repr-fallback\"><pre>LinearRegression()</pre><b>In a Jupyter environment, please rerun this cell to show the HTML representation or trust the notebook. <br />On GitHub, the HTML representation is unable to render, please try loading this page with nbviewer.org.</b></div><div class=\"sk-container\" hidden><div class=\"sk-item\"><div class=\"sk-estimator sk-toggleable\"><input class=\"sk-toggleable__control sk-hidden--visually\" id=\"sk-estimator-id-1\" type=\"checkbox\" checked><label for=\"sk-estimator-id-1\" class=\"sk-toggleable__label sk-toggleable__label-arrow\">LinearRegression</label><div class=\"sk-toggleable__content\"><pre>LinearRegression()</pre></div></div></div></div></div>"
      ],
      "text/plain": [
       "LinearRegression()"
      ]
     },
     "execution_count": 13,
     "metadata": {},
     "output_type": "execute_result"
    }
   ],
   "source": [
    "lin_model.fit(X_train,Y_train)"
   ]
  },
  {
   "cell_type": "code",
   "execution_count": 14,
   "id": "51792a23",
   "metadata": {
    "ExecuteTime": {
     "end_time": "2024-01-07T20:10:46.829876Z",
     "start_time": "2024-01-07T20:10:46.757051Z"
    }
   },
   "outputs": [
    {
     "data": {
      "text/plain": [
       "-0.1592626079511914"
      ]
     },
     "execution_count": 14,
     "metadata": {},
     "output_type": "execute_result"
    }
   ],
   "source": [
    "lin_model.score(X_test,Y_test)"
   ]
  },
  {
   "cell_type": "code",
   "execution_count": null,
   "id": "15711c1b",
   "metadata": {},
   "outputs": [],
   "source": []
  }
 ],
 "metadata": {
  "kernelspec": {
   "display_name": "base_jupyter",
   "language": "python",
   "name": "base_jupyter"
  },
  "language_info": {
   "codemirror_mode": {
    "name": "ipython",
    "version": 3
   },
   "file_extension": ".py",
   "mimetype": "text/x-python",
   "name": "python",
   "nbconvert_exporter": "python",
   "pygments_lexer": "ipython3",
   "version": "3.9.2"
  }
 },
 "nbformat": 4,
 "nbformat_minor": 5
}
