{
 "cells": [
  {
   "cell_type": "markdown",
   "id": "5dddbc2c",
   "metadata": {},
   "source": [
    "## Import Libraries \n"
   ]
  },
  {
   "cell_type": "code",
   "execution_count": 79,
   "id": "ae270712",
   "metadata": {
    "ExecuteTime": {
     "end_time": "2024-03-02T22:09:43.080059Z",
     "start_time": "2024-03-02T22:09:43.036261Z"
    }
   },
   "outputs": [
    {
     "data": {
      "text/html": [
       "<style>.container { width:100% !important; }</style>"
      ],
      "text/plain": [
       "<IPython.core.display.HTML object>"
      ]
     },
     "metadata": {},
     "output_type": "display_data"
    }
   ],
   "source": [
    "import pandas as pd\n",
    "import matplotlib.pyplot as plt\n",
    "import plotly.express as px\n",
    "from plotly.subplots import make_subplots\n",
    "from Standardization import metric_normalizer\n",
    "from sklearn.model_selection import train_test_split\n",
    "from IPython.display import display, HTML\n",
    "pd.set_option('display.max_columns', None)\n",
    "display(HTML(\"<style>.container { width:100% !important; }</style>\"))"
   ]
  },
  {
   "cell_type": "markdown",
   "id": "72c874d1",
   "metadata": {
    "ExecuteTime": {
     "end_time": "2024-01-07T19:06:16.248336Z",
     "start_time": "2024-01-07T19:06:16.234142Z"
    }
   },
   "source": [
    "## Read Data \n",
    "\n",
    "\n"
   ]
  },
  {
   "cell_type": "code",
   "execution_count": 86,
   "id": "f365895f",
   "metadata": {
    "ExecuteTime": {
     "end_time": "2024-03-02T22:10:29.865552Z",
     "start_time": "2024-03-02T22:10:29.567310Z"
    },
    "scrolled": false
   },
   "outputs": [
    {
     "data": {
      "text/html": [
       "<div>\n",
       "<style scoped>\n",
       "    .dataframe tbody tr th:only-of-type {\n",
       "        vertical-align: middle;\n",
       "    }\n",
       "\n",
       "    .dataframe tbody tr th {\n",
       "        vertical-align: top;\n",
       "    }\n",
       "\n",
       "    .dataframe thead th {\n",
       "        text-align: right;\n",
       "    }\n",
       "</style>\n",
       "<table border=\"1\" class=\"dataframe\">\n",
       "  <thead>\n",
       "    <tr style=\"text-align: right;\">\n",
       "      <th></th>\n",
       "      <th>Unnamed: 0</th>\n",
       "      <th>open</th>\n",
       "      <th>high</th>\n",
       "      <th>low</th>\n",
       "      <th>close</th>\n",
       "      <th>volume</th>\n",
       "      <th>Date</th>\n",
       "      <th>Year</th>\n",
       "      <th>Month</th>\n",
       "      <th>Day</th>\n",
       "      <th>Time</th>\n",
       "      <th>Ticker</th>\n",
       "      <th>Interval</th>\n",
       "      <th>25EMA</th>\n",
       "      <th>50EMA</th>\n",
       "      <th>75EMA</th>\n",
       "      <th>100EMA</th>\n",
       "      <th>125EMA</th>\n",
       "      <th>Primary_Key</th>\n",
       "      <th>Trend Status</th>\n",
       "      <th>Trend Status Enhanced</th>\n",
       "      <th>Spread</th>\n",
       "      <th>5075 Trend Status</th>\n",
       "      <th>75100 Trend Status</th>\n",
       "      <th>100125 Trend Status</th>\n",
       "      <th>Action</th>\n",
       "      <th>Opportunity</th>\n",
       "      <th>Order Type</th>\n",
       "      <th>Alerts</th>\n",
       "      <th>%K</th>\n",
       "      <th>%D</th>\n",
       "      <th>k_group</th>\n",
       "      <th>ADX</th>\n",
       "      <th>ADXR</th>\n",
       "      <th>slowk</th>\n",
       "      <th>slowd</th>\n",
       "      <th>CDL2CROWS</th>\n",
       "      <th>CDL3BLACKCROWS</th>\n",
       "      <th>CDL3INSIDE</th>\n",
       "      <th>CDL3LINESTRIKE</th>\n",
       "      <th>CDL3OUTSIDE</th>\n",
       "      <th>CDL3STARSINSOUTH</th>\n",
       "      <th>CDL3WHITESOLDIERS</th>\n",
       "      <th>CDLABANDONEDBABY</th>\n",
       "      <th>CDLADVANCEBLOCK</th>\n",
       "      <th>CDLBELTHOLD</th>\n",
       "      <th>CDLBREAKAWAY</th>\n",
       "      <th>CDLCLOSINGMARUBOZU</th>\n",
       "      <th>CDLCONCEALBABYSWALL</th>\n",
       "      <th>CDLCOUNTERATTACK</th>\n",
       "      <th>CDLDARKCLOUDCOVER</th>\n",
       "      <th>CDLDOJI</th>\n",
       "      <th>CDLDOJISTAR</th>\n",
       "      <th>CDLDRAGONFLYDOJI</th>\n",
       "      <th>CDLENGULFING</th>\n",
       "      <th>CDLEVENINGDOJISTAR</th>\n",
       "      <th>CDLEVENINGSTAR</th>\n",
       "      <th>CDLGAPSIDESIDEWHITE</th>\n",
       "      <th>CDLGRAVESTONEDOJI</th>\n",
       "      <th>CDLHAMMER</th>\n",
       "      <th>CDLHANGINGMAN</th>\n",
       "      <th>CDLHARAMI</th>\n",
       "      <th>CDLHARAMICROSS</th>\n",
       "      <th>CDLHIGHWAVE</th>\n",
       "      <th>CDLHIKKAKE</th>\n",
       "      <th>CDLHIKKAKEMOD</th>\n",
       "      <th>CDLHOMINGPIGEON</th>\n",
       "      <th>CDLIDENTICAL3CROWS</th>\n",
       "      <th>CDLINNECK</th>\n",
       "      <th>CDLINVERTEDHAMMER</th>\n",
       "      <th>CDLKICKING</th>\n",
       "      <th>CDLKICKINGBYLENGTH</th>\n",
       "      <th>CDLLADDERBOTTOM</th>\n",
       "      <th>CDLLONGLEGGEDDOJI</th>\n",
       "      <th>CDLLONGLINE</th>\n",
       "      <th>CDLMARUBOZU</th>\n",
       "      <th>CDLMATCHINGLOW</th>\n",
       "      <th>CDLMATHOLD</th>\n",
       "      <th>CDLMORNINGDOJISTAR</th>\n",
       "      <th>CDLMORNINGSTAR</th>\n",
       "      <th>CDLONNECK</th>\n",
       "      <th>CDLPIERCING</th>\n",
       "      <th>CDLRICKSHAWMAN</th>\n",
       "      <th>CDLRISEFALL3METHODS</th>\n",
       "      <th>CDLSEPARATINGLINES</th>\n",
       "      <th>CDLSHOOTINGSTAR</th>\n",
       "      <th>CDLSHORTLINE</th>\n",
       "      <th>CDLSPINNINGTOP</th>\n",
       "      <th>CDLSTALLEDPATTERN</th>\n",
       "      <th>CDLSTICKSANDWICH</th>\n",
       "      <th>CDLTAKURI</th>\n",
       "      <th>CDLTASUKIGAP</th>\n",
       "      <th>CDLTHRUSTING</th>\n",
       "      <th>CDLTRISTAR</th>\n",
       "      <th>CDLUNIQUE3RIVER</th>\n",
       "      <th>CDLUPSIDEGAP2CROWS</th>\n",
       "      <th>CDLXSIDEGAP3METHODS</th>\n",
       "      <th>candle_bullish_score</th>\n",
       "      <th>candle_bearish_score</th>\n",
       "      <th>2D Lowest Price</th>\n",
       "      <th>2D Highest Price</th>\n",
       "      <th>2D Low in Pips</th>\n",
       "      <th>2D High in Pips</th>\n",
       "      <th>2D Trade Status</th>\n",
       "      <th>2D Hard Stop Price</th>\n",
       "      <th>2D Hard Stop Loss</th>\n",
       "      <th>2D Trend Change Stop Price</th>\n",
       "      <th>2D Trend Change Stop Loss</th>\n",
       "    </tr>\n",
       "  </thead>\n",
       "  <tbody>\n",
       "    <tr>\n",
       "      <th>0</th>\n",
       "      <td>0</td>\n",
       "      <td>1.60274</td>\n",
       "      <td>1.60416</td>\n",
       "      <td>1.59746</td>\n",
       "      <td>1.59814</td>\n",
       "      <td>12756</td>\n",
       "      <td>2013-09-24</td>\n",
       "      <td>2013</td>\n",
       "      <td>9</td>\n",
       "      <td>24</td>\n",
       "      <td>05:00:00</td>\n",
       "      <td>GBP/USD</td>\n",
       "      <td>H4</td>\n",
       "      <td>1.601548</td>\n",
       "      <td>1.598155</td>\n",
       "      <td>1.595740</td>\n",
       "      <td>1.594108</td>\n",
       "      <td>1.592957</td>\n",
       "      <td>GBP/USDH42013-09-2405:00:00</td>\n",
       "      <td>Bullish</td>\n",
       "      <td>Ultimate Bullish Trend</td>\n",
       "      <td>0.003393</td>\n",
       "      <td>Bullish</td>\n",
       "      <td>Bullish</td>\n",
       "      <td>Bullish</td>\n",
       "      <td>Ultimate Action</td>\n",
       "      <td>Optimal</td>\n",
       "      <td>BUY</td>\n",
       "      <td>1</td>\n",
       "      <td>6.931702</td>\n",
       "      <td>36.264056</td>\n",
       "      <td>Undersold</td>\n",
       "      <td>28.749298</td>\n",
       "      <td>37.742748</td>\n",
       "      <td>19.261396</td>\n",
       "      <td>35.583653</td>\n",
       "      <td>0</td>\n",
       "      <td>0</td>\n",
       "      <td>0</td>\n",
       "      <td>0</td>\n",
       "      <td>0</td>\n",
       "      <td>0</td>\n",
       "      <td>0</td>\n",
       "      <td>0</td>\n",
       "      <td>0</td>\n",
       "      <td>0</td>\n",
       "      <td>0</td>\n",
       "      <td>0</td>\n",
       "      <td>0</td>\n",
       "      <td>0</td>\n",
       "      <td>0</td>\n",
       "      <td>0</td>\n",
       "      <td>0</td>\n",
       "      <td>0</td>\n",
       "      <td>0</td>\n",
       "      <td>0</td>\n",
       "      <td>0</td>\n",
       "      <td>0</td>\n",
       "      <td>0</td>\n",
       "      <td>0</td>\n",
       "      <td>0</td>\n",
       "      <td>0</td>\n",
       "      <td>0</td>\n",
       "      <td>0</td>\n",
       "      <td>0</td>\n",
       "      <td>0</td>\n",
       "      <td>0</td>\n",
       "      <td>0</td>\n",
       "      <td>0</td>\n",
       "      <td>0</td>\n",
       "      <td>0</td>\n",
       "      <td>0</td>\n",
       "      <td>0</td>\n",
       "      <td>0</td>\n",
       "      <td>0</td>\n",
       "      <td>0</td>\n",
       "      <td>0</td>\n",
       "      <td>0</td>\n",
       "      <td>0</td>\n",
       "      <td>0</td>\n",
       "      <td>0</td>\n",
       "      <td>0</td>\n",
       "      <td>0</td>\n",
       "      <td>0</td>\n",
       "      <td>0</td>\n",
       "      <td>0</td>\n",
       "      <td>0</td>\n",
       "      <td>0</td>\n",
       "      <td>0</td>\n",
       "      <td>0</td>\n",
       "      <td>0</td>\n",
       "      <td>0</td>\n",
       "      <td>0</td>\n",
       "      <td>0</td>\n",
       "      <td>0</td>\n",
       "      <td>0</td>\n",
       "      <td>0</td>\n",
       "      <td>0</td>\n",
       "      <td>0</td>\n",
       "      <td>1.59556</td>\n",
       "      <td>1.60960</td>\n",
       "      <td>0.00258</td>\n",
       "      <td>0.01146</td>\n",
       "      <td>1</td>\n",
       "      <td>NaN</td>\n",
       "      <td>NaN</td>\n",
       "      <td>NaN</td>\n",
       "      <td>NaN</td>\n",
       "    </tr>\n",
       "    <tr>\n",
       "      <th>1</th>\n",
       "      <td>1</td>\n",
       "      <td>1.61721</td>\n",
       "      <td>1.61744</td>\n",
       "      <td>1.60888</td>\n",
       "      <td>1.61085</td>\n",
       "      <td>12829</td>\n",
       "      <td>2013-10-04</td>\n",
       "      <td>2013</td>\n",
       "      <td>10</td>\n",
       "      <td>4</td>\n",
       "      <td>05:00:00</td>\n",
       "      <td>GBP/USD</td>\n",
       "      <td>H4</td>\n",
       "      <td>1.617322</td>\n",
       "      <td>1.613579</td>\n",
       "      <td>1.609944</td>\n",
       "      <td>1.606972</td>\n",
       "      <td>1.604592</td>\n",
       "      <td>GBP/USDH42013-10-0405:00:00</td>\n",
       "      <td>Bullish</td>\n",
       "      <td>Ultimate Bullish Trend</td>\n",
       "      <td>0.003743</td>\n",
       "      <td>Bullish</td>\n",
       "      <td>Bullish</td>\n",
       "      <td>Bullish</td>\n",
       "      <td>Ultimate Action</td>\n",
       "      <td>Optimal</td>\n",
       "      <td>BUY</td>\n",
       "      <td>1</td>\n",
       "      <td>12.145499</td>\n",
       "      <td>14.062217</td>\n",
       "      <td>Undersold</td>\n",
       "      <td>22.332568</td>\n",
       "      <td>26.148279</td>\n",
       "      <td>18.242703</td>\n",
       "      <td>13.359304</td>\n",
       "      <td>0</td>\n",
       "      <td>0</td>\n",
       "      <td>0</td>\n",
       "      <td>0</td>\n",
       "      <td>0</td>\n",
       "      <td>0</td>\n",
       "      <td>0</td>\n",
       "      <td>0</td>\n",
       "      <td>0</td>\n",
       "      <td>-100</td>\n",
       "      <td>0</td>\n",
       "      <td>0</td>\n",
       "      <td>0</td>\n",
       "      <td>0</td>\n",
       "      <td>0</td>\n",
       "      <td>0</td>\n",
       "      <td>0</td>\n",
       "      <td>0</td>\n",
       "      <td>-100</td>\n",
       "      <td>0</td>\n",
       "      <td>0</td>\n",
       "      <td>0</td>\n",
       "      <td>0</td>\n",
       "      <td>0</td>\n",
       "      <td>0</td>\n",
       "      <td>0</td>\n",
       "      <td>0</td>\n",
       "      <td>0</td>\n",
       "      <td>0</td>\n",
       "      <td>0</td>\n",
       "      <td>0</td>\n",
       "      <td>0</td>\n",
       "      <td>0</td>\n",
       "      <td>0</td>\n",
       "      <td>0</td>\n",
       "      <td>0</td>\n",
       "      <td>0</td>\n",
       "      <td>0</td>\n",
       "      <td>0</td>\n",
       "      <td>0</td>\n",
       "      <td>0</td>\n",
       "      <td>0</td>\n",
       "      <td>0</td>\n",
       "      <td>0</td>\n",
       "      <td>0</td>\n",
       "      <td>0</td>\n",
       "      <td>0</td>\n",
       "      <td>0</td>\n",
       "      <td>0</td>\n",
       "      <td>0</td>\n",
       "      <td>0</td>\n",
       "      <td>0</td>\n",
       "      <td>0</td>\n",
       "      <td>0</td>\n",
       "      <td>0</td>\n",
       "      <td>0</td>\n",
       "      <td>0</td>\n",
       "      <td>0</td>\n",
       "      <td>0</td>\n",
       "      <td>0</td>\n",
       "      <td>0</td>\n",
       "      <td>0</td>\n",
       "      <td>-200</td>\n",
       "      <td>1.60066</td>\n",
       "      <td>1.61181</td>\n",
       "      <td>0.01019</td>\n",
       "      <td>0.00096</td>\n",
       "      <td>0</td>\n",
       "      <td>1.60594</td>\n",
       "      <td>-0.00491</td>\n",
       "      <td>1.60594</td>\n",
       "      <td>-0.00491</td>\n",
       "    </tr>\n",
       "    <tr>\n",
       "      <th>2</th>\n",
       "      <td>2</td>\n",
       "      <td>1.61567</td>\n",
       "      <td>1.61685</td>\n",
       "      <td>1.61246</td>\n",
       "      <td>1.61428</td>\n",
       "      <td>15669</td>\n",
       "      <td>2013-10-28</td>\n",
       "      <td>2013</td>\n",
       "      <td>10</td>\n",
       "      <td>28</td>\n",
       "      <td>13:00:00</td>\n",
       "      <td>GBP/USD</td>\n",
       "      <td>H4</td>\n",
       "      <td>1.617229</td>\n",
       "      <td>1.614732</td>\n",
       "      <td>1.612677</td>\n",
       "      <td>1.611066</td>\n",
       "      <td>1.609654</td>\n",
       "      <td>GBP/USDH42013-10-2813:00:00</td>\n",
       "      <td>Bullish</td>\n",
       "      <td>Ultimate Bullish Trend</td>\n",
       "      <td>0.002498</td>\n",
       "      <td>Bullish</td>\n",
       "      <td>Bullish</td>\n",
       "      <td>Bullish</td>\n",
       "      <td>Ultimate Action</td>\n",
       "      <td>Optimal</td>\n",
       "      <td>BUY</td>\n",
       "      <td>1</td>\n",
       "      <td>14.796748</td>\n",
       "      <td>27.316678</td>\n",
       "      <td>Undersold</td>\n",
       "      <td>18.392643</td>\n",
       "      <td>20.999511</td>\n",
       "      <td>33.786845</td>\n",
       "      <td>43.074824</td>\n",
       "      <td>0</td>\n",
       "      <td>0</td>\n",
       "      <td>0</td>\n",
       "      <td>0</td>\n",
       "      <td>0</td>\n",
       "      <td>0</td>\n",
       "      <td>0</td>\n",
       "      <td>0</td>\n",
       "      <td>0</td>\n",
       "      <td>0</td>\n",
       "      <td>0</td>\n",
       "      <td>0</td>\n",
       "      <td>0</td>\n",
       "      <td>0</td>\n",
       "      <td>0</td>\n",
       "      <td>0</td>\n",
       "      <td>0</td>\n",
       "      <td>0</td>\n",
       "      <td>0</td>\n",
       "      <td>0</td>\n",
       "      <td>0</td>\n",
       "      <td>0</td>\n",
       "      <td>0</td>\n",
       "      <td>0</td>\n",
       "      <td>0</td>\n",
       "      <td>0</td>\n",
       "      <td>0</td>\n",
       "      <td>0</td>\n",
       "      <td>0</td>\n",
       "      <td>0</td>\n",
       "      <td>0</td>\n",
       "      <td>0</td>\n",
       "      <td>0</td>\n",
       "      <td>0</td>\n",
       "      <td>0</td>\n",
       "      <td>0</td>\n",
       "      <td>0</td>\n",
       "      <td>0</td>\n",
       "      <td>0</td>\n",
       "      <td>0</td>\n",
       "      <td>0</td>\n",
       "      <td>0</td>\n",
       "      <td>0</td>\n",
       "      <td>0</td>\n",
       "      <td>0</td>\n",
       "      <td>0</td>\n",
       "      <td>0</td>\n",
       "      <td>0</td>\n",
       "      <td>0</td>\n",
       "      <td>0</td>\n",
       "      <td>0</td>\n",
       "      <td>0</td>\n",
       "      <td>0</td>\n",
       "      <td>0</td>\n",
       "      <td>0</td>\n",
       "      <td>0</td>\n",
       "      <td>0</td>\n",
       "      <td>0</td>\n",
       "      <td>0</td>\n",
       "      <td>0</td>\n",
       "      <td>0</td>\n",
       "      <td>0</td>\n",
       "      <td>0</td>\n",
       "      <td>1.60232</td>\n",
       "      <td>1.61656</td>\n",
       "      <td>0.01196</td>\n",
       "      <td>0.00228</td>\n",
       "      <td>0</td>\n",
       "      <td>1.60652</td>\n",
       "      <td>-0.00776</td>\n",
       "      <td>1.60432</td>\n",
       "      <td>-0.00996</td>\n",
       "    </tr>\n",
       "    <tr>\n",
       "      <th>3</th>\n",
       "      <td>3</td>\n",
       "      <td>1.60351</td>\n",
       "      <td>1.60528</td>\n",
       "      <td>1.60346</td>\n",
       "      <td>1.60446</td>\n",
       "      <td>7454</td>\n",
       "      <td>2013-11-05</td>\n",
       "      <td>2013</td>\n",
       "      <td>11</td>\n",
       "      <td>5</td>\n",
       "      <td>18:00:00</td>\n",
       "      <td>GBP/USD</td>\n",
       "      <td>H4</td>\n",
       "      <td>1.601083</td>\n",
       "      <td>1.604016</td>\n",
       "      <td>1.605490</td>\n",
       "      <td>1.606024</td>\n",
       "      <td>1.606035</td>\n",
       "      <td>GBP/USDH42013-11-0518:00:00</td>\n",
       "      <td>Bearish</td>\n",
       "      <td>Ultimate Bearish Trend</td>\n",
       "      <td>0.002933</td>\n",
       "      <td>Bearish</td>\n",
       "      <td>Bearish</td>\n",
       "      <td>Bearish</td>\n",
       "      <td>Ultimate Action</td>\n",
       "      <td>Unfavorable</td>\n",
       "      <td>SELL</td>\n",
       "      <td>1</td>\n",
       "      <td>88.567839</td>\n",
       "      <td>84.924623</td>\n",
       "      <td>Oversold</td>\n",
       "      <td>28.482116</td>\n",
       "      <td>30.162938</td>\n",
       "      <td>79.100225</td>\n",
       "      <td>80.918476</td>\n",
       "      <td>0</td>\n",
       "      <td>0</td>\n",
       "      <td>0</td>\n",
       "      <td>0</td>\n",
       "      <td>0</td>\n",
       "      <td>0</td>\n",
       "      <td>0</td>\n",
       "      <td>0</td>\n",
       "      <td>0</td>\n",
       "      <td>0</td>\n",
       "      <td>0</td>\n",
       "      <td>0</td>\n",
       "      <td>0</td>\n",
       "      <td>0</td>\n",
       "      <td>0</td>\n",
       "      <td>0</td>\n",
       "      <td>0</td>\n",
       "      <td>0</td>\n",
       "      <td>100</td>\n",
       "      <td>0</td>\n",
       "      <td>0</td>\n",
       "      <td>0</td>\n",
       "      <td>0</td>\n",
       "      <td>0</td>\n",
       "      <td>0</td>\n",
       "      <td>0</td>\n",
       "      <td>0</td>\n",
       "      <td>0</td>\n",
       "      <td>0</td>\n",
       "      <td>0</td>\n",
       "      <td>0</td>\n",
       "      <td>0</td>\n",
       "      <td>0</td>\n",
       "      <td>0</td>\n",
       "      <td>0</td>\n",
       "      <td>0</td>\n",
       "      <td>0</td>\n",
       "      <td>0</td>\n",
       "      <td>0</td>\n",
       "      <td>0</td>\n",
       "      <td>0</td>\n",
       "      <td>0</td>\n",
       "      <td>0</td>\n",
       "      <td>0</td>\n",
       "      <td>0</td>\n",
       "      <td>0</td>\n",
       "      <td>0</td>\n",
       "      <td>0</td>\n",
       "      <td>0</td>\n",
       "      <td>0</td>\n",
       "      <td>100</td>\n",
       "      <td>0</td>\n",
       "      <td>0</td>\n",
       "      <td>0</td>\n",
       "      <td>0</td>\n",
       "      <td>0</td>\n",
       "      <td>0</td>\n",
       "      <td>0</td>\n",
       "      <td>0</td>\n",
       "      <td>0</td>\n",
       "      <td>0</td>\n",
       "      <td>200</td>\n",
       "      <td>0</td>\n",
       "      <td>1.60096</td>\n",
       "      <td>1.61179</td>\n",
       "      <td>0.00350</td>\n",
       "      <td>0.00733</td>\n",
       "      <td>0</td>\n",
       "      <td>1.60966</td>\n",
       "      <td>-0.00520</td>\n",
       "      <td>1.60948</td>\n",
       "      <td>-0.00502</td>\n",
       "    </tr>\n",
       "    <tr>\n",
       "      <th>4</th>\n",
       "      <td>4</td>\n",
       "      <td>1.59738</td>\n",
       "      <td>1.60466</td>\n",
       "      <td>1.59624</td>\n",
       "      <td>1.60250</td>\n",
       "      <td>21744</td>\n",
       "      <td>2013-11-13</td>\n",
       "      <td>2013</td>\n",
       "      <td>11</td>\n",
       "      <td>13</td>\n",
       "      <td>14:00:00</td>\n",
       "      <td>GBP/USD</td>\n",
       "      <td>H4</td>\n",
       "      <td>1.597471</td>\n",
       "      <td>1.600302</td>\n",
       "      <td>1.602049</td>\n",
       "      <td>1.603092</td>\n",
       "      <td>1.603632</td>\n",
       "      <td>GBP/USDH42013-11-1314:00:00</td>\n",
       "      <td>Bearish</td>\n",
       "      <td>Ultimate Bearish Trend</td>\n",
       "      <td>0.002832</td>\n",
       "      <td>Bearish</td>\n",
       "      <td>Bearish</td>\n",
       "      <td>Bearish</td>\n",
       "      <td>Ultimate Action</td>\n",
       "      <td>Unfavorable</td>\n",
       "      <td>SELL</td>\n",
       "      <td>1</td>\n",
       "      <td>88.744138</td>\n",
       "      <td>66.142447</td>\n",
       "      <td>Oversold</td>\n",
       "      <td>37.952936</td>\n",
       "      <td>33.555668</td>\n",
       "      <td>74.666413</td>\n",
       "      <td>57.482055</td>\n",
       "      <td>0</td>\n",
       "      <td>0</td>\n",
       "      <td>0</td>\n",
       "      <td>0</td>\n",
       "      <td>0</td>\n",
       "      <td>0</td>\n",
       "      <td>0</td>\n",
       "      <td>0</td>\n",
       "      <td>0</td>\n",
       "      <td>0</td>\n",
       "      <td>0</td>\n",
       "      <td>0</td>\n",
       "      <td>0</td>\n",
       "      <td>0</td>\n",
       "      <td>0</td>\n",
       "      <td>0</td>\n",
       "      <td>0</td>\n",
       "      <td>0</td>\n",
       "      <td>0</td>\n",
       "      <td>0</td>\n",
       "      <td>0</td>\n",
       "      <td>0</td>\n",
       "      <td>0</td>\n",
       "      <td>0</td>\n",
       "      <td>0</td>\n",
       "      <td>0</td>\n",
       "      <td>0</td>\n",
       "      <td>0</td>\n",
       "      <td>0</td>\n",
       "      <td>0</td>\n",
       "      <td>0</td>\n",
       "      <td>0</td>\n",
       "      <td>0</td>\n",
       "      <td>0</td>\n",
       "      <td>0</td>\n",
       "      <td>0</td>\n",
       "      <td>0</td>\n",
       "      <td>0</td>\n",
       "      <td>0</td>\n",
       "      <td>0</td>\n",
       "      <td>0</td>\n",
       "      <td>0</td>\n",
       "      <td>0</td>\n",
       "      <td>0</td>\n",
       "      <td>0</td>\n",
       "      <td>0</td>\n",
       "      <td>0</td>\n",
       "      <td>0</td>\n",
       "      <td>0</td>\n",
       "      <td>0</td>\n",
       "      <td>0</td>\n",
       "      <td>0</td>\n",
       "      <td>0</td>\n",
       "      <td>0</td>\n",
       "      <td>0</td>\n",
       "      <td>0</td>\n",
       "      <td>0</td>\n",
       "      <td>0</td>\n",
       "      <td>0</td>\n",
       "      <td>0</td>\n",
       "      <td>0</td>\n",
       "      <td>0</td>\n",
       "      <td>0</td>\n",
       "      <td>1.59888</td>\n",
       "      <td>1.61347</td>\n",
       "      <td>0.00362</td>\n",
       "      <td>0.01097</td>\n",
       "      <td>0</td>\n",
       "      <td>1.61034</td>\n",
       "      <td>-0.00784</td>\n",
       "      <td>1.60816</td>\n",
       "      <td>-0.00566</td>\n",
       "    </tr>\n",
       "  </tbody>\n",
       "</table>\n",
       "</div>"
      ],
      "text/plain": [
       "   Unnamed: 0     open     high      low    close  volume        Date  Year   \n",
       "0           0  1.60274  1.60416  1.59746  1.59814   12756  2013-09-24  2013  \\\n",
       "1           1  1.61721  1.61744  1.60888  1.61085   12829  2013-10-04  2013   \n",
       "2           2  1.61567  1.61685  1.61246  1.61428   15669  2013-10-28  2013   \n",
       "3           3  1.60351  1.60528  1.60346  1.60446    7454  2013-11-05  2013   \n",
       "4           4  1.59738  1.60466  1.59624  1.60250   21744  2013-11-13  2013   \n",
       "\n",
       "   Month  Day      Time   Ticker Interval     25EMA     50EMA     75EMA   \n",
       "0      9   24  05:00:00  GBP/USD       H4  1.601548  1.598155  1.595740  \\\n",
       "1     10    4  05:00:00  GBP/USD       H4  1.617322  1.613579  1.609944   \n",
       "2     10   28  13:00:00  GBP/USD       H4  1.617229  1.614732  1.612677   \n",
       "3     11    5  18:00:00  GBP/USD       H4  1.601083  1.604016  1.605490   \n",
       "4     11   13  14:00:00  GBP/USD       H4  1.597471  1.600302  1.602049   \n",
       "\n",
       "     100EMA    125EMA                  Primary_Key Trend Status   \n",
       "0  1.594108  1.592957  GBP/USDH42013-09-2405:00:00      Bullish  \\\n",
       "1  1.606972  1.604592  GBP/USDH42013-10-0405:00:00      Bullish   \n",
       "2  1.611066  1.609654  GBP/USDH42013-10-2813:00:00      Bullish   \n",
       "3  1.606024  1.606035  GBP/USDH42013-11-0518:00:00      Bearish   \n",
       "4  1.603092  1.603632  GBP/USDH42013-11-1314:00:00      Bearish   \n",
       "\n",
       "    Trend Status Enhanced    Spread 5075 Trend Status 75100 Trend Status   \n",
       "0  Ultimate Bullish Trend  0.003393           Bullish            Bullish  \\\n",
       "1  Ultimate Bullish Trend  0.003743           Bullish            Bullish   \n",
       "2  Ultimate Bullish Trend  0.002498           Bullish            Bullish   \n",
       "3  Ultimate Bearish Trend  0.002933           Bearish            Bearish   \n",
       "4  Ultimate Bearish Trend  0.002832           Bearish            Bearish   \n",
       "\n",
       "  100125 Trend Status           Action  Opportunity Order Type  Alerts   \n",
       "0             Bullish  Ultimate Action      Optimal        BUY       1  \\\n",
       "1             Bullish  Ultimate Action      Optimal        BUY       1   \n",
       "2             Bullish  Ultimate Action      Optimal        BUY       1   \n",
       "3             Bearish  Ultimate Action  Unfavorable       SELL       1   \n",
       "4             Bearish  Ultimate Action  Unfavorable       SELL       1   \n",
       "\n",
       "          %K         %D    k_group        ADX       ADXR      slowk   \n",
       "0   6.931702  36.264056  Undersold  28.749298  37.742748  19.261396  \\\n",
       "1  12.145499  14.062217  Undersold  22.332568  26.148279  18.242703   \n",
       "2  14.796748  27.316678  Undersold  18.392643  20.999511  33.786845   \n",
       "3  88.567839  84.924623   Oversold  28.482116  30.162938  79.100225   \n",
       "4  88.744138  66.142447   Oversold  37.952936  33.555668  74.666413   \n",
       "\n",
       "       slowd  CDL2CROWS  CDL3BLACKCROWS  CDL3INSIDE  CDL3LINESTRIKE   \n",
       "0  35.583653          0               0           0               0  \\\n",
       "1  13.359304          0               0           0               0   \n",
       "2  43.074824          0               0           0               0   \n",
       "3  80.918476          0               0           0               0   \n",
       "4  57.482055          0               0           0               0   \n",
       "\n",
       "   CDL3OUTSIDE  CDL3STARSINSOUTH  CDL3WHITESOLDIERS  CDLABANDONEDBABY   \n",
       "0            0                 0                  0                 0  \\\n",
       "1            0                 0                  0                 0   \n",
       "2            0                 0                  0                 0   \n",
       "3            0                 0                  0                 0   \n",
       "4            0                 0                  0                 0   \n",
       "\n",
       "   CDLADVANCEBLOCK  CDLBELTHOLD  CDLBREAKAWAY  CDLCLOSINGMARUBOZU   \n",
       "0                0            0             0                   0  \\\n",
       "1                0         -100             0                   0   \n",
       "2                0            0             0                   0   \n",
       "3                0            0             0                   0   \n",
       "4                0            0             0                   0   \n",
       "\n",
       "   CDLCONCEALBABYSWALL  CDLCOUNTERATTACK  CDLDARKCLOUDCOVER  CDLDOJI   \n",
       "0                    0                 0                  0        0  \\\n",
       "1                    0                 0                  0        0   \n",
       "2                    0                 0                  0        0   \n",
       "3                    0                 0                  0        0   \n",
       "4                    0                 0                  0        0   \n",
       "\n",
       "   CDLDOJISTAR  CDLDRAGONFLYDOJI  CDLENGULFING  CDLEVENINGDOJISTAR   \n",
       "0            0                 0             0                   0  \\\n",
       "1            0                 0          -100                   0   \n",
       "2            0                 0             0                   0   \n",
       "3            0                 0           100                   0   \n",
       "4            0                 0             0                   0   \n",
       "\n",
       "   CDLEVENINGSTAR  CDLGAPSIDESIDEWHITE  CDLGRAVESTONEDOJI  CDLHAMMER   \n",
       "0               0                    0                  0          0  \\\n",
       "1               0                    0                  0          0   \n",
       "2               0                    0                  0          0   \n",
       "3               0                    0                  0          0   \n",
       "4               0                    0                  0          0   \n",
       "\n",
       "   CDLHANGINGMAN  CDLHARAMI  CDLHARAMICROSS  CDLHIGHWAVE  CDLHIKKAKE   \n",
       "0              0          0               0            0           0  \\\n",
       "1              0          0               0            0           0   \n",
       "2              0          0               0            0           0   \n",
       "3              0          0               0            0           0   \n",
       "4              0          0               0            0           0   \n",
       "\n",
       "   CDLHIKKAKEMOD  CDLHOMINGPIGEON  CDLIDENTICAL3CROWS  CDLINNECK   \n",
       "0              0                0                   0          0  \\\n",
       "1              0                0                   0          0   \n",
       "2              0                0                   0          0   \n",
       "3              0                0                   0          0   \n",
       "4              0                0                   0          0   \n",
       "\n",
       "   CDLINVERTEDHAMMER  CDLKICKING  CDLKICKINGBYLENGTH  CDLLADDERBOTTOM   \n",
       "0                  0           0                   0                0  \\\n",
       "1                  0           0                   0                0   \n",
       "2                  0           0                   0                0   \n",
       "3                  0           0                   0                0   \n",
       "4                  0           0                   0                0   \n",
       "\n",
       "   CDLLONGLEGGEDDOJI  CDLLONGLINE  CDLMARUBOZU  CDLMATCHINGLOW  CDLMATHOLD   \n",
       "0                  0            0            0               0           0  \\\n",
       "1                  0            0            0               0           0   \n",
       "2                  0            0            0               0           0   \n",
       "3                  0            0            0               0           0   \n",
       "4                  0            0            0               0           0   \n",
       "\n",
       "   CDLMORNINGDOJISTAR  CDLMORNINGSTAR  CDLONNECK  CDLPIERCING  CDLRICKSHAWMAN   \n",
       "0                   0               0          0            0               0  \\\n",
       "1                   0               0          0            0               0   \n",
       "2                   0               0          0            0               0   \n",
       "3                   0               0          0            0               0   \n",
       "4                   0               0          0            0               0   \n",
       "\n",
       "   CDLRISEFALL3METHODS  CDLSEPARATINGLINES  CDLSHOOTINGSTAR  CDLSHORTLINE   \n",
       "0                    0                   0                0             0  \\\n",
       "1                    0                   0                0             0   \n",
       "2                    0                   0                0             0   \n",
       "3                    0                   0                0           100   \n",
       "4                    0                   0                0             0   \n",
       "\n",
       "   CDLSPINNINGTOP  CDLSTALLEDPATTERN  CDLSTICKSANDWICH  CDLTAKURI   \n",
       "0               0                  0                 0          0  \\\n",
       "1               0                  0                 0          0   \n",
       "2               0                  0                 0          0   \n",
       "3               0                  0                 0          0   \n",
       "4               0                  0                 0          0   \n",
       "\n",
       "   CDLTASUKIGAP  CDLTHRUSTING  CDLTRISTAR  CDLUNIQUE3RIVER   \n",
       "0             0             0           0                0  \\\n",
       "1             0             0           0                0   \n",
       "2             0             0           0                0   \n",
       "3             0             0           0                0   \n",
       "4             0             0           0                0   \n",
       "\n",
       "   CDLUPSIDEGAP2CROWS  CDLXSIDEGAP3METHODS  candle_bullish_score   \n",
       "0                   0                    0                     0  \\\n",
       "1                   0                    0                     0   \n",
       "2                   0                    0                     0   \n",
       "3                   0                    0                   200   \n",
       "4                   0                    0                     0   \n",
       "\n",
       "   candle_bearish_score  2D Lowest Price  2D Highest Price  2D Low in Pips   \n",
       "0                     0          1.59556           1.60960         0.00258  \\\n",
       "1                  -200          1.60066           1.61181         0.01019   \n",
       "2                     0          1.60232           1.61656         0.01196   \n",
       "3                     0          1.60096           1.61179         0.00350   \n",
       "4                     0          1.59888           1.61347         0.00362   \n",
       "\n",
       "   2D High in Pips  2D Trade Status  2D Hard Stop Price  2D Hard Stop Loss   \n",
       "0          0.01146                1                 NaN                NaN  \\\n",
       "1          0.00096                0             1.60594           -0.00491   \n",
       "2          0.00228                0             1.60652           -0.00776   \n",
       "3          0.00733                0             1.60966           -0.00520   \n",
       "4          0.01097                0             1.61034           -0.00784   \n",
       "\n",
       "   2D Trend Change Stop Price  2D Trend Change Stop Loss  \n",
       "0                         NaN                        NaN  \n",
       "1                     1.60594                   -0.00491  \n",
       "2                     1.60432                   -0.00996  \n",
       "3                     1.60948                   -0.00502  \n",
       "4                     1.60816                   -0.00566  "
      ]
     },
     "execution_count": 86,
     "metadata": {},
     "output_type": "execute_result"
    }
   ],
   "source": [
    "df = pd.read_csv('/home/clivence/base_jupyter/Datadump/Model_Data/GU_Model_Data_V1_16k')\n",
    "df.head()"
   ]
  },
  {
   "cell_type": "code",
   "execution_count": 3,
   "id": "85700c7d",
   "metadata": {
    "ExecuteTime": {
     "end_time": "2024-01-13T21:46:09.466774Z",
     "start_time": "2024-01-13T21:46:09.446595Z"
    }
   },
   "outputs": [],
   "source": [
    "# plt.scatter(x=df['2D High in Pips'], y=df.datetime )"
   ]
  },
  {
   "cell_type": "markdown",
   "id": "065dc76f",
   "metadata": {
    "ExecuteTime": {
     "end_time": "2024-01-08T03:46:47.598390Z",
     "start_time": "2024-01-08T03:46:47.550170Z"
    }
   },
   "source": [
    "## Custom Functions"
   ]
  },
  {
   "cell_type": "code",
   "execution_count": 4,
   "id": "2f0bfc0a",
   "metadata": {
    "ExecuteTime": {
     "end_time": "2024-01-13T21:46:09.533814Z",
     "start_time": "2024-01-13T21:46:09.496837Z"
    }
   },
   "outputs": [],
   "source": []
  },
  {
   "cell_type": "markdown",
   "id": "288f58fa",
   "metadata": {},
   "source": [
    "## Data Cleaning "
   ]
  },
  {
   "cell_type": "code",
   "execution_count": 87,
   "id": "05618576",
   "metadata": {
    "ExecuteTime": {
     "end_time": "2024-03-02T22:10:32.632013Z",
     "start_time": "2024-03-02T22:10:32.608509Z"
    }
   },
   "outputs": [],
   "source": [
    "#Subset for trades\n",
    "df = df[df['Alerts'] ==1] \n",
    "df = df[df['Action'] == 'Ultimate Action']\n",
    "df = df[df['Ticker'] == 'GBP/USD']\n",
    "\n",
    "df.fillna(0, inplace=True)"
   ]
  },
  {
   "cell_type": "code",
   "execution_count": 88,
   "id": "37c0c383",
   "metadata": {
    "ExecuteTime": {
     "end_time": "2024-03-02T22:10:35.401616Z",
     "start_time": "2024-03-02T22:10:34.738782Z"
    }
   },
   "outputs": [],
   "source": [
    "#Standardize the dataset\n",
    "df =  metric_normalizer(df)\n",
    "\n",
    "#Set date to datetime \n",
    "df['Date'] = pd.to_datetime(df['Date'])"
   ]
  },
  {
   "cell_type": "code",
   "execution_count": 7,
   "id": "8c066f4a",
   "metadata": {
    "ExecuteTime": {
     "end_time": "2024-02-27T02:55:42.996469Z",
     "start_time": "2024-02-27T02:55:42.832799Z"
    }
   },
   "outputs": [
    {
     "data": {
      "text/html": [
       "<div>\n",
       "<style scoped>\n",
       "    .dataframe tbody tr th:only-of-type {\n",
       "        vertical-align: middle;\n",
       "    }\n",
       "\n",
       "    .dataframe tbody tr th {\n",
       "        vertical-align: top;\n",
       "    }\n",
       "\n",
       "    .dataframe thead th {\n",
       "        text-align: right;\n",
       "    }\n",
       "</style>\n",
       "<table border=\"1\" class=\"dataframe\">\n",
       "  <thead>\n",
       "    <tr style=\"text-align: right;\">\n",
       "      <th></th>\n",
       "      <th>Unnamed: 0</th>\n",
       "      <th>open</th>\n",
       "      <th>high</th>\n",
       "      <th>low</th>\n",
       "      <th>close</th>\n",
       "      <th>volume</th>\n",
       "      <th>Date</th>\n",
       "      <th>Year</th>\n",
       "      <th>Month</th>\n",
       "      <th>Day</th>\n",
       "      <th>Time</th>\n",
       "      <th>Ticker</th>\n",
       "      <th>Interval</th>\n",
       "      <th>25EMA</th>\n",
       "      <th>50EMA</th>\n",
       "      <th>75EMA</th>\n",
       "      <th>100EMA</th>\n",
       "      <th>125EMA</th>\n",
       "      <th>Primary_Key</th>\n",
       "      <th>Trend Status</th>\n",
       "      <th>Trend Status Enhanced</th>\n",
       "      <th>Spread</th>\n",
       "      <th>5075 Trend Status</th>\n",
       "      <th>75100 Trend Status</th>\n",
       "      <th>100125 Trend Status</th>\n",
       "      <th>Action</th>\n",
       "      <th>Opportunity</th>\n",
       "      <th>Order Type</th>\n",
       "      <th>Alerts</th>\n",
       "      <th>%K</th>\n",
       "      <th>%D</th>\n",
       "      <th>k_group</th>\n",
       "      <th>ADX</th>\n",
       "      <th>ADXR</th>\n",
       "      <th>slowk</th>\n",
       "      <th>slowd</th>\n",
       "      <th>CDL2CROWS</th>\n",
       "      <th>CDL3BLACKCROWS</th>\n",
       "      <th>CDL3INSIDE</th>\n",
       "      <th>CDL3LINESTRIKE</th>\n",
       "      <th>CDL3OUTSIDE</th>\n",
       "      <th>CDL3STARSINSOUTH</th>\n",
       "      <th>CDL3WHITESOLDIERS</th>\n",
       "      <th>CDLABANDONEDBABY</th>\n",
       "      <th>CDLADVANCEBLOCK</th>\n",
       "      <th>CDLBELTHOLD</th>\n",
       "      <th>CDLBREAKAWAY</th>\n",
       "      <th>CDLCLOSINGMARUBOZU</th>\n",
       "      <th>CDLCONCEALBABYSWALL</th>\n",
       "      <th>CDLCOUNTERATTACK</th>\n",
       "      <th>CDLDARKCLOUDCOVER</th>\n",
       "      <th>CDLDOJI</th>\n",
       "      <th>CDLDOJISTAR</th>\n",
       "      <th>CDLDRAGONFLYDOJI</th>\n",
       "      <th>CDLENGULFING</th>\n",
       "      <th>CDLEVENINGDOJISTAR</th>\n",
       "      <th>CDLEVENINGSTAR</th>\n",
       "      <th>CDLGAPSIDESIDEWHITE</th>\n",
       "      <th>CDLGRAVESTONEDOJI</th>\n",
       "      <th>CDLHAMMER</th>\n",
       "      <th>CDLHANGINGMAN</th>\n",
       "      <th>CDLHARAMI</th>\n",
       "      <th>CDLHARAMICROSS</th>\n",
       "      <th>CDLHIGHWAVE</th>\n",
       "      <th>CDLHIKKAKE</th>\n",
       "      <th>CDLHIKKAKEMOD</th>\n",
       "      <th>CDLHOMINGPIGEON</th>\n",
       "      <th>CDLIDENTICAL3CROWS</th>\n",
       "      <th>CDLINNECK</th>\n",
       "      <th>CDLINVERTEDHAMMER</th>\n",
       "      <th>CDLKICKING</th>\n",
       "      <th>CDLKICKINGBYLENGTH</th>\n",
       "      <th>CDLLADDERBOTTOM</th>\n",
       "      <th>CDLLONGLEGGEDDOJI</th>\n",
       "      <th>CDLLONGLINE</th>\n",
       "      <th>CDLMARUBOZU</th>\n",
       "      <th>CDLMATCHINGLOW</th>\n",
       "      <th>CDLMATHOLD</th>\n",
       "      <th>CDLMORNINGDOJISTAR</th>\n",
       "      <th>CDLMORNINGSTAR</th>\n",
       "      <th>CDLONNECK</th>\n",
       "      <th>CDLPIERCING</th>\n",
       "      <th>CDLRICKSHAWMAN</th>\n",
       "      <th>CDLRISEFALL3METHODS</th>\n",
       "      <th>CDLSEPARATINGLINES</th>\n",
       "      <th>CDLSHOOTINGSTAR</th>\n",
       "      <th>CDLSHORTLINE</th>\n",
       "      <th>CDLSPINNINGTOP</th>\n",
       "      <th>CDLSTALLEDPATTERN</th>\n",
       "      <th>CDLSTICKSANDWICH</th>\n",
       "      <th>CDLTAKURI</th>\n",
       "      <th>CDLTASUKIGAP</th>\n",
       "      <th>CDLTHRUSTING</th>\n",
       "      <th>CDLTRISTAR</th>\n",
       "      <th>CDLUNIQUE3RIVER</th>\n",
       "      <th>CDLUPSIDEGAP2CROWS</th>\n",
       "      <th>CDLXSIDEGAP3METHODS</th>\n",
       "      <th>candle_bullish_score</th>\n",
       "      <th>candle_bearish_score</th>\n",
       "      <th>2D Lowest Price</th>\n",
       "      <th>2D Highest Price</th>\n",
       "      <th>2D Low in Pips</th>\n",
       "      <th>2D High in Pips</th>\n",
       "      <th>2D Trade Status</th>\n",
       "      <th>2D Hard Stop Price</th>\n",
       "      <th>2D Hard Stop Loss</th>\n",
       "      <th>2D Trend Change Stop Price</th>\n",
       "      <th>2D Trend Change Stop Loss</th>\n",
       "    </tr>\n",
       "  </thead>\n",
       "  <tbody>\n",
       "    <tr>\n",
       "      <th>235</th>\n",
       "      <td>235</td>\n",
       "      <td>1.28360</td>\n",
       "      <td>1.28644</td>\n",
       "      <td>1.28339</td>\n",
       "      <td>1.28568</td>\n",
       "      <td>14144</td>\n",
       "      <td>2018-11-26</td>\n",
       "      <td>2018</td>\n",
       "      <td>11</td>\n",
       "      <td>26</td>\n",
       "      <td>10:00:00</td>\n",
       "      <td>GBP/USD</td>\n",
       "      <td>H4</td>\n",
       "      <td>1.283254</td>\n",
       "      <td>1.285114</td>\n",
       "      <td>1.287126</td>\n",
       "      <td>1.288836</td>\n",
       "      <td>1.290288</td>\n",
       "      <td>GBP/USDH42018-11-2610:00:00</td>\n",
       "      <td>Bearish</td>\n",
       "      <td>Ultimate Bearish Trend</td>\n",
       "      <td>18.605155</td>\n",
       "      <td>Bearish</td>\n",
       "      <td>Bearish</td>\n",
       "      <td>Bearish</td>\n",
       "      <td>Ultimate Action</td>\n",
       "      <td>Unfavorable</td>\n",
       "      <td>SELL</td>\n",
       "      <td>1</td>\n",
       "      <td>54.289373</td>\n",
       "      <td>42.261637</td>\n",
       "      <td>Neutral</td>\n",
       "      <td>17.519992</td>\n",
       "      <td>18.282755</td>\n",
       "      <td>69.718075</td>\n",
       "      <td>44.930045</td>\n",
       "      <td>0</td>\n",
       "      <td>0</td>\n",
       "      <td>0</td>\n",
       "      <td>0</td>\n",
       "      <td>0</td>\n",
       "      <td>0</td>\n",
       "      <td>0</td>\n",
       "      <td>0</td>\n",
       "      <td>0</td>\n",
       "      <td>100</td>\n",
       "      <td>0</td>\n",
       "      <td>0</td>\n",
       "      <td>0</td>\n",
       "      <td>0</td>\n",
       "      <td>0</td>\n",
       "      <td>0</td>\n",
       "      <td>0</td>\n",
       "      <td>0</td>\n",
       "      <td>0</td>\n",
       "      <td>0</td>\n",
       "      <td>0</td>\n",
       "      <td>0</td>\n",
       "      <td>0</td>\n",
       "      <td>0</td>\n",
       "      <td>0</td>\n",
       "      <td>0</td>\n",
       "      <td>0</td>\n",
       "      <td>0</td>\n",
       "      <td>0</td>\n",
       "      <td>0</td>\n",
       "      <td>0</td>\n",
       "      <td>0</td>\n",
       "      <td>0</td>\n",
       "      <td>0</td>\n",
       "      <td>0</td>\n",
       "      <td>0</td>\n",
       "      <td>0</td>\n",
       "      <td>0</td>\n",
       "      <td>100</td>\n",
       "      <td>0</td>\n",
       "      <td>0</td>\n",
       "      <td>0</td>\n",
       "      <td>0</td>\n",
       "      <td>0</td>\n",
       "      <td>0</td>\n",
       "      <td>0</td>\n",
       "      <td>0</td>\n",
       "      <td>0</td>\n",
       "      <td>0</td>\n",
       "      <td>0</td>\n",
       "      <td>0</td>\n",
       "      <td>0</td>\n",
       "      <td>0</td>\n",
       "      <td>0</td>\n",
       "      <td>0</td>\n",
       "      <td>0</td>\n",
       "      <td>0</td>\n",
       "      <td>0</td>\n",
       "      <td>0</td>\n",
       "      <td>0</td>\n",
       "      <td>0</td>\n",
       "      <td>200</td>\n",
       "      <td>0</td>\n",
       "      <td>1.27255</td>\n",
       "      <td>1.28568</td>\n",
       "      <td>131.3</td>\n",
       "      <td>0.0</td>\n",
       "      <td>1</td>\n",
       "      <td>NaN</td>\n",
       "      <td>NaN</td>\n",
       "      <td>NaN</td>\n",
       "      <td>NaN</td>\n",
       "    </tr>\n",
       "    <tr>\n",
       "      <th>33</th>\n",
       "      <td>33</td>\n",
       "      <td>1.71192</td>\n",
       "      <td>1.71238</td>\n",
       "      <td>1.71050</td>\n",
       "      <td>1.71138</td>\n",
       "      <td>10938</td>\n",
       "      <td>2014-07-10</td>\n",
       "      <td>2014</td>\n",
       "      <td>7</td>\n",
       "      <td>10</td>\n",
       "      <td>09:00:00</td>\n",
       "      <td>GBP/USD</td>\n",
       "      <td>H4</td>\n",
       "      <td>1.713123</td>\n",
       "      <td>1.711574</td>\n",
       "      <td>1.709169</td>\n",
       "      <td>1.706700</td>\n",
       "      <td>1.704435</td>\n",
       "      <td>GBP/USDH42014-07-1009:00:00</td>\n",
       "      <td>Bullish</td>\n",
       "      <td>Ultimate Bullish Trend</td>\n",
       "      <td>15.489807</td>\n",
       "      <td>Bullish</td>\n",
       "      <td>Bullish</td>\n",
       "      <td>Bullish</td>\n",
       "      <td>Ultimate Action</td>\n",
       "      <td>Optimal</td>\n",
       "      <td>BUY</td>\n",
       "      <td>1</td>\n",
       "      <td>34.382567</td>\n",
       "      <td>52.824859</td>\n",
       "      <td>slightly_oversold</td>\n",
       "      <td>17.947065</td>\n",
       "      <td>18.900316</td>\n",
       "      <td>40.012766</td>\n",
       "      <td>65.644008</td>\n",
       "      <td>0</td>\n",
       "      <td>0</td>\n",
       "      <td>0</td>\n",
       "      <td>0</td>\n",
       "      <td>0</td>\n",
       "      <td>0</td>\n",
       "      <td>0</td>\n",
       "      <td>0</td>\n",
       "      <td>0</td>\n",
       "      <td>0</td>\n",
       "      <td>0</td>\n",
       "      <td>0</td>\n",
       "      <td>0</td>\n",
       "      <td>0</td>\n",
       "      <td>0</td>\n",
       "      <td>0</td>\n",
       "      <td>0</td>\n",
       "      <td>0</td>\n",
       "      <td>0</td>\n",
       "      <td>0</td>\n",
       "      <td>0</td>\n",
       "      <td>0</td>\n",
       "      <td>0</td>\n",
       "      <td>0</td>\n",
       "      <td>0</td>\n",
       "      <td>0</td>\n",
       "      <td>0</td>\n",
       "      <td>0</td>\n",
       "      <td>0</td>\n",
       "      <td>0</td>\n",
       "      <td>0</td>\n",
       "      <td>0</td>\n",
       "      <td>0</td>\n",
       "      <td>0</td>\n",
       "      <td>0</td>\n",
       "      <td>0</td>\n",
       "      <td>0</td>\n",
       "      <td>0</td>\n",
       "      <td>0</td>\n",
       "      <td>0</td>\n",
       "      <td>0</td>\n",
       "      <td>0</td>\n",
       "      <td>0</td>\n",
       "      <td>0</td>\n",
       "      <td>0</td>\n",
       "      <td>0</td>\n",
       "      <td>0</td>\n",
       "      <td>0</td>\n",
       "      <td>0</td>\n",
       "      <td>0</td>\n",
       "      <td>0</td>\n",
       "      <td>0</td>\n",
       "      <td>0</td>\n",
       "      <td>0</td>\n",
       "      <td>0</td>\n",
       "      <td>0</td>\n",
       "      <td>0</td>\n",
       "      <td>0</td>\n",
       "      <td>0</td>\n",
       "      <td>0</td>\n",
       "      <td>0</td>\n",
       "      <td>0</td>\n",
       "      <td>0</td>\n",
       "      <td>1.70752</td>\n",
       "      <td>1.71510</td>\n",
       "      <td>38.6</td>\n",
       "      <td>37.2</td>\n",
       "      <td>0</td>\n",
       "      <td>1.70765</td>\n",
       "      <td>-37.3</td>\n",
       "      <td>1.70836</td>\n",
       "      <td>-30.2</td>\n",
       "    </tr>\n",
       "    <tr>\n",
       "      <th>12</th>\n",
       "      <td>12</td>\n",
       "      <td>1.64982</td>\n",
       "      <td>1.65000</td>\n",
       "      <td>1.64219</td>\n",
       "      <td>1.64346</td>\n",
       "      <td>11262</td>\n",
       "      <td>2014-01-13</td>\n",
       "      <td>2014</td>\n",
       "      <td>1</td>\n",
       "      <td>13</td>\n",
       "      <td>06:00:00</td>\n",
       "      <td>GBP/USD</td>\n",
       "      <td>H4</td>\n",
       "      <td>1.645547</td>\n",
       "      <td>1.644539</td>\n",
       "      <td>1.643446</td>\n",
       "      <td>1.642143</td>\n",
       "      <td>1.640696</td>\n",
       "      <td>GBP/USDH42014-01-1306:00:00</td>\n",
       "      <td>Bullish</td>\n",
       "      <td>Ultimate Bullish Trend</td>\n",
       "      <td>10.073163</td>\n",
       "      <td>Bullish</td>\n",
       "      <td>Bullish</td>\n",
       "      <td>Bullish</td>\n",
       "      <td>Ultimate Action</td>\n",
       "      <td>Optimal</td>\n",
       "      <td>BUY</td>\n",
       "      <td>1</td>\n",
       "      <td>38.814815</td>\n",
       "      <td>68.888889</td>\n",
       "      <td>slightly_oversold</td>\n",
       "      <td>16.833700</td>\n",
       "      <td>16.597834</td>\n",
       "      <td>60.392730</td>\n",
       "      <td>71.818153</td>\n",
       "      <td>0</td>\n",
       "      <td>0</td>\n",
       "      <td>0</td>\n",
       "      <td>0</td>\n",
       "      <td>0</td>\n",
       "      <td>0</td>\n",
       "      <td>0</td>\n",
       "      <td>0</td>\n",
       "      <td>0</td>\n",
       "      <td>-100</td>\n",
       "      <td>0</td>\n",
       "      <td>0</td>\n",
       "      <td>0</td>\n",
       "      <td>0</td>\n",
       "      <td>0</td>\n",
       "      <td>0</td>\n",
       "      <td>0</td>\n",
       "      <td>0</td>\n",
       "      <td>0</td>\n",
       "      <td>0</td>\n",
       "      <td>0</td>\n",
       "      <td>0</td>\n",
       "      <td>0</td>\n",
       "      <td>0</td>\n",
       "      <td>0</td>\n",
       "      <td>0</td>\n",
       "      <td>0</td>\n",
       "      <td>0</td>\n",
       "      <td>-200</td>\n",
       "      <td>0</td>\n",
       "      <td>0</td>\n",
       "      <td>0</td>\n",
       "      <td>0</td>\n",
       "      <td>0</td>\n",
       "      <td>0</td>\n",
       "      <td>0</td>\n",
       "      <td>0</td>\n",
       "      <td>0</td>\n",
       "      <td>0</td>\n",
       "      <td>0</td>\n",
       "      <td>0</td>\n",
       "      <td>0</td>\n",
       "      <td>0</td>\n",
       "      <td>0</td>\n",
       "      <td>0</td>\n",
       "      <td>0</td>\n",
       "      <td>0</td>\n",
       "      <td>0</td>\n",
       "      <td>0</td>\n",
       "      <td>0</td>\n",
       "      <td>0</td>\n",
       "      <td>0</td>\n",
       "      <td>0</td>\n",
       "      <td>0</td>\n",
       "      <td>0</td>\n",
       "      <td>0</td>\n",
       "      <td>0</td>\n",
       "      <td>0</td>\n",
       "      <td>0</td>\n",
       "      <td>0</td>\n",
       "      <td>0</td>\n",
       "      <td>0</td>\n",
       "      <td>-300</td>\n",
       "      <td>1.63466</td>\n",
       "      <td>1.64666</td>\n",
       "      <td>88.0</td>\n",
       "      <td>32.0</td>\n",
       "      <td>0</td>\n",
       "      <td>1.64207</td>\n",
       "      <td>-13.9</td>\n",
       "      <td>1.63893</td>\n",
       "      <td>-45.3</td>\n",
       "    </tr>\n",
       "    <tr>\n",
       "      <th>388</th>\n",
       "      <td>388</td>\n",
       "      <td>1.38346</td>\n",
       "      <td>1.38378</td>\n",
       "      <td>1.38122</td>\n",
       "      <td>1.38226</td>\n",
       "      <td>5846</td>\n",
       "      <td>2021-09-16</td>\n",
       "      <td>2021</td>\n",
       "      <td>9</td>\n",
       "      <td>16</td>\n",
       "      <td>05:00:00</td>\n",
       "      <td>GBP/USD</td>\n",
       "      <td>H4</td>\n",
       "      <td>1.383218</td>\n",
       "      <td>1.382326</td>\n",
       "      <td>1.381445</td>\n",
       "      <td>1.380907</td>\n",
       "      <td>1.380667</td>\n",
       "      <td>GBP/USDH42021-09-1605:00:00</td>\n",
       "      <td>Bullish</td>\n",
       "      <td>Ultimate Bullish Trend</td>\n",
       "      <td>8.914350</td>\n",
       "      <td>Bullish</td>\n",
       "      <td>Bullish</td>\n",
       "      <td>Bullish</td>\n",
       "      <td>Ultimate Action</td>\n",
       "      <td>Optimal</td>\n",
       "      <td>BUY</td>\n",
       "      <td>1</td>\n",
       "      <td>24.750831</td>\n",
       "      <td>35.215947</td>\n",
       "      <td>slightly_oversold</td>\n",
       "      <td>16.789307</td>\n",
       "      <td>16.279315</td>\n",
       "      <td>55.927190</td>\n",
       "      <td>68.357462</td>\n",
       "      <td>0</td>\n",
       "      <td>0</td>\n",
       "      <td>0</td>\n",
       "      <td>0</td>\n",
       "      <td>-100</td>\n",
       "      <td>0</td>\n",
       "      <td>0</td>\n",
       "      <td>0</td>\n",
       "      <td>0</td>\n",
       "      <td>0</td>\n",
       "      <td>0</td>\n",
       "      <td>0</td>\n",
       "      <td>0</td>\n",
       "      <td>0</td>\n",
       "      <td>0</td>\n",
       "      <td>0</td>\n",
       "      <td>0</td>\n",
       "      <td>0</td>\n",
       "      <td>0</td>\n",
       "      <td>0</td>\n",
       "      <td>0</td>\n",
       "      <td>0</td>\n",
       "      <td>0</td>\n",
       "      <td>0</td>\n",
       "      <td>0</td>\n",
       "      <td>0</td>\n",
       "      <td>0</td>\n",
       "      <td>0</td>\n",
       "      <td>-200</td>\n",
       "      <td>0</td>\n",
       "      <td>0</td>\n",
       "      <td>0</td>\n",
       "      <td>0</td>\n",
       "      <td>0</td>\n",
       "      <td>0</td>\n",
       "      <td>0</td>\n",
       "      <td>0</td>\n",
       "      <td>0</td>\n",
       "      <td>0</td>\n",
       "      <td>0</td>\n",
       "      <td>0</td>\n",
       "      <td>0</td>\n",
       "      <td>0</td>\n",
       "      <td>0</td>\n",
       "      <td>0</td>\n",
       "      <td>0</td>\n",
       "      <td>0</td>\n",
       "      <td>0</td>\n",
       "      <td>0</td>\n",
       "      <td>0</td>\n",
       "      <td>0</td>\n",
       "      <td>0</td>\n",
       "      <td>0</td>\n",
       "      <td>0</td>\n",
       "      <td>0</td>\n",
       "      <td>0</td>\n",
       "      <td>0</td>\n",
       "      <td>0</td>\n",
       "      <td>0</td>\n",
       "      <td>0</td>\n",
       "      <td>0</td>\n",
       "      <td>0</td>\n",
       "      <td>-300</td>\n",
       "      <td>1.36621</td>\n",
       "      <td>1.38415</td>\n",
       "      <td>160.5</td>\n",
       "      <td>18.9</td>\n",
       "      <td>0</td>\n",
       "      <td>1.36744</td>\n",
       "      <td>-148.2</td>\n",
       "      <td>1.37472</td>\n",
       "      <td>-75.4</td>\n",
       "    </tr>\n",
       "    <tr>\n",
       "      <th>289</th>\n",
       "      <td>289</td>\n",
       "      <td>1.30126</td>\n",
       "      <td>1.30452</td>\n",
       "      <td>1.29954</td>\n",
       "      <td>1.30402</td>\n",
       "      <td>6568</td>\n",
       "      <td>2020-01-21</td>\n",
       "      <td>2020</td>\n",
       "      <td>1</td>\n",
       "      <td>21</td>\n",
       "      <td>06:00:00</td>\n",
       "      <td>GBP/USD</td>\n",
       "      <td>H4</td>\n",
       "      <td>1.302417</td>\n",
       "      <td>1.303823</td>\n",
       "      <td>1.304939</td>\n",
       "      <td>1.305585</td>\n",
       "      <td>1.305777</td>\n",
       "      <td>GBP/USDH42020-01-2106:00:00</td>\n",
       "      <td>Bearish</td>\n",
       "      <td>Ultimate Bearish Trend</td>\n",
       "      <td>14.056113</td>\n",
       "      <td>Bearish</td>\n",
       "      <td>Bearish</td>\n",
       "      <td>Bearish</td>\n",
       "      <td>Ultimate Action</td>\n",
       "      <td>Unfavorable</td>\n",
       "      <td>SELL</td>\n",
       "      <td>1</td>\n",
       "      <td>49.744898</td>\n",
       "      <td>35.586735</td>\n",
       "      <td>Neutral</td>\n",
       "      <td>20.134187</td>\n",
       "      <td>22.430715</td>\n",
       "      <td>82.544195</td>\n",
       "      <td>82.996204</td>\n",
       "      <td>0</td>\n",
       "      <td>0</td>\n",
       "      <td>0</td>\n",
       "      <td>0</td>\n",
       "      <td>100</td>\n",
       "      <td>0</td>\n",
       "      <td>0</td>\n",
       "      <td>0</td>\n",
       "      <td>0</td>\n",
       "      <td>0</td>\n",
       "      <td>0</td>\n",
       "      <td>0</td>\n",
       "      <td>0</td>\n",
       "      <td>0</td>\n",
       "      <td>0</td>\n",
       "      <td>0</td>\n",
       "      <td>0</td>\n",
       "      <td>0</td>\n",
       "      <td>0</td>\n",
       "      <td>0</td>\n",
       "      <td>0</td>\n",
       "      <td>0</td>\n",
       "      <td>0</td>\n",
       "      <td>0</td>\n",
       "      <td>0</td>\n",
       "      <td>0</td>\n",
       "      <td>0</td>\n",
       "      <td>0</td>\n",
       "      <td>0</td>\n",
       "      <td>0</td>\n",
       "      <td>0</td>\n",
       "      <td>0</td>\n",
       "      <td>0</td>\n",
       "      <td>0</td>\n",
       "      <td>0</td>\n",
       "      <td>0</td>\n",
       "      <td>0</td>\n",
       "      <td>0</td>\n",
       "      <td>0</td>\n",
       "      <td>0</td>\n",
       "      <td>0</td>\n",
       "      <td>0</td>\n",
       "      <td>0</td>\n",
       "      <td>0</td>\n",
       "      <td>0</td>\n",
       "      <td>0</td>\n",
       "      <td>0</td>\n",
       "      <td>0</td>\n",
       "      <td>0</td>\n",
       "      <td>0</td>\n",
       "      <td>0</td>\n",
       "      <td>0</td>\n",
       "      <td>0</td>\n",
       "      <td>0</td>\n",
       "      <td>0</td>\n",
       "      <td>0</td>\n",
       "      <td>0</td>\n",
       "      <td>0</td>\n",
       "      <td>0</td>\n",
       "      <td>0</td>\n",
       "      <td>0</td>\n",
       "      <td>100</td>\n",
       "      <td>0</td>\n",
       "      <td>1.30347</td>\n",
       "      <td>1.31532</td>\n",
       "      <td>5.5</td>\n",
       "      <td>113.0</td>\n",
       "      <td>0</td>\n",
       "      <td>1.31322</td>\n",
       "      <td>-92.0</td>\n",
       "      <td>1.31288</td>\n",
       "      <td>-88.6</td>\n",
       "    </tr>\n",
       "  </tbody>\n",
       "</table>\n",
       "</div>"
      ],
      "text/plain": [
       "     Unnamed: 0     open     high      low    close  volume       Date  Year   \n",
       "235         235  1.28360  1.28644  1.28339  1.28568   14144 2018-11-26  2018  \\\n",
       "33           33  1.71192  1.71238  1.71050  1.71138   10938 2014-07-10  2014   \n",
       "12           12  1.64982  1.65000  1.64219  1.64346   11262 2014-01-13  2014   \n",
       "388         388  1.38346  1.38378  1.38122  1.38226    5846 2021-09-16  2021   \n",
       "289         289  1.30126  1.30452  1.29954  1.30402    6568 2020-01-21  2020   \n",
       "\n",
       "     Month  Day      Time   Ticker Interval     25EMA     50EMA     75EMA   \n",
       "235     11   26  10:00:00  GBP/USD       H4  1.283254  1.285114  1.287126  \\\n",
       "33       7   10  09:00:00  GBP/USD       H4  1.713123  1.711574  1.709169   \n",
       "12       1   13  06:00:00  GBP/USD       H4  1.645547  1.644539  1.643446   \n",
       "388      9   16  05:00:00  GBP/USD       H4  1.383218  1.382326  1.381445   \n",
       "289      1   21  06:00:00  GBP/USD       H4  1.302417  1.303823  1.304939   \n",
       "\n",
       "       100EMA    125EMA                  Primary_Key Trend Status   \n",
       "235  1.288836  1.290288  GBP/USDH42018-11-2610:00:00      Bearish  \\\n",
       "33   1.706700  1.704435  GBP/USDH42014-07-1009:00:00      Bullish   \n",
       "12   1.642143  1.640696  GBP/USDH42014-01-1306:00:00      Bullish   \n",
       "388  1.380907  1.380667  GBP/USDH42021-09-1605:00:00      Bullish   \n",
       "289  1.305585  1.305777  GBP/USDH42020-01-2106:00:00      Bearish   \n",
       "\n",
       "      Trend Status Enhanced     Spread 5075 Trend Status 75100 Trend Status   \n",
       "235  Ultimate Bearish Trend  18.605155           Bearish            Bearish  \\\n",
       "33   Ultimate Bullish Trend  15.489807           Bullish            Bullish   \n",
       "12   Ultimate Bullish Trend  10.073163           Bullish            Bullish   \n",
       "388  Ultimate Bullish Trend   8.914350           Bullish            Bullish   \n",
       "289  Ultimate Bearish Trend  14.056113           Bearish            Bearish   \n",
       "\n",
       "    100125 Trend Status           Action  Opportunity Order Type  Alerts   \n",
       "235             Bearish  Ultimate Action  Unfavorable       SELL       1  \\\n",
       "33              Bullish  Ultimate Action      Optimal        BUY       1   \n",
       "12              Bullish  Ultimate Action      Optimal        BUY       1   \n",
       "388             Bullish  Ultimate Action      Optimal        BUY       1   \n",
       "289             Bearish  Ultimate Action  Unfavorable       SELL       1   \n",
       "\n",
       "            %K         %D            k_group        ADX       ADXR      slowk   \n",
       "235  54.289373  42.261637            Neutral  17.519992  18.282755  69.718075  \\\n",
       "33   34.382567  52.824859  slightly_oversold  17.947065  18.900316  40.012766   \n",
       "12   38.814815  68.888889  slightly_oversold  16.833700  16.597834  60.392730   \n",
       "388  24.750831  35.215947  slightly_oversold  16.789307  16.279315  55.927190   \n",
       "289  49.744898  35.586735            Neutral  20.134187  22.430715  82.544195   \n",
       "\n",
       "         slowd  CDL2CROWS  CDL3BLACKCROWS  CDL3INSIDE  CDL3LINESTRIKE   \n",
       "235  44.930045          0               0           0               0  \\\n",
       "33   65.644008          0               0           0               0   \n",
       "12   71.818153          0               0           0               0   \n",
       "388  68.357462          0               0           0               0   \n",
       "289  82.996204          0               0           0               0   \n",
       "\n",
       "     CDL3OUTSIDE  CDL3STARSINSOUTH  CDL3WHITESOLDIERS  CDLABANDONEDBABY   \n",
       "235            0                 0                  0                 0  \\\n",
       "33             0                 0                  0                 0   \n",
       "12             0                 0                  0                 0   \n",
       "388         -100                 0                  0                 0   \n",
       "289          100                 0                  0                 0   \n",
       "\n",
       "     CDLADVANCEBLOCK  CDLBELTHOLD  CDLBREAKAWAY  CDLCLOSINGMARUBOZU   \n",
       "235                0          100             0                   0  \\\n",
       "33                 0            0             0                   0   \n",
       "12                 0         -100             0                   0   \n",
       "388                0            0             0                   0   \n",
       "289                0            0             0                   0   \n",
       "\n",
       "     CDLCONCEALBABYSWALL  CDLCOUNTERATTACK  CDLDARKCLOUDCOVER  CDLDOJI   \n",
       "235                    0                 0                  0        0  \\\n",
       "33                     0                 0                  0        0   \n",
       "12                     0                 0                  0        0   \n",
       "388                    0                 0                  0        0   \n",
       "289                    0                 0                  0        0   \n",
       "\n",
       "     CDLDOJISTAR  CDLDRAGONFLYDOJI  CDLENGULFING  CDLEVENINGDOJISTAR   \n",
       "235            0                 0             0                   0  \\\n",
       "33             0                 0             0                   0   \n",
       "12             0                 0             0                   0   \n",
       "388            0                 0             0                   0   \n",
       "289            0                 0             0                   0   \n",
       "\n",
       "     CDLEVENINGSTAR  CDLGAPSIDESIDEWHITE  CDLGRAVESTONEDOJI  CDLHAMMER   \n",
       "235               0                    0                  0          0  \\\n",
       "33                0                    0                  0          0   \n",
       "12                0                    0                  0          0   \n",
       "388               0                    0                  0          0   \n",
       "289               0                    0                  0          0   \n",
       "\n",
       "     CDLHANGINGMAN  CDLHARAMI  CDLHARAMICROSS  CDLHIGHWAVE  CDLHIKKAKE   \n",
       "235              0          0               0            0           0  \\\n",
       "33               0          0               0            0           0   \n",
       "12               0          0               0            0        -200   \n",
       "388              0          0               0            0        -200   \n",
       "289              0          0               0            0           0   \n",
       "\n",
       "     CDLHIKKAKEMOD  CDLHOMINGPIGEON  CDLIDENTICAL3CROWS  CDLINNECK   \n",
       "235              0                0                   0          0  \\\n",
       "33               0                0                   0          0   \n",
       "12               0                0                   0          0   \n",
       "388              0                0                   0          0   \n",
       "289              0                0                   0          0   \n",
       "\n",
       "     CDLINVERTEDHAMMER  CDLKICKING  CDLKICKINGBYLENGTH  CDLLADDERBOTTOM   \n",
       "235                  0           0                   0                0  \\\n",
       "33                   0           0                   0                0   \n",
       "12                   0           0                   0                0   \n",
       "388                  0           0                   0                0   \n",
       "289                  0           0                   0                0   \n",
       "\n",
       "     CDLLONGLEGGEDDOJI  CDLLONGLINE  CDLMARUBOZU  CDLMATCHINGLOW  CDLMATHOLD   \n",
       "235                  0          100            0               0           0  \\\n",
       "33                   0            0            0               0           0   \n",
       "12                   0            0            0               0           0   \n",
       "388                  0            0            0               0           0   \n",
       "289                  0            0            0               0           0   \n",
       "\n",
       "     CDLMORNINGDOJISTAR  CDLMORNINGSTAR  CDLONNECK  CDLPIERCING   \n",
       "235                   0               0          0            0  \\\n",
       "33                    0               0          0            0   \n",
       "12                    0               0          0            0   \n",
       "388                   0               0          0            0   \n",
       "289                   0               0          0            0   \n",
       "\n",
       "     CDLRICKSHAWMAN  CDLRISEFALL3METHODS  CDLSEPARATINGLINES  CDLSHOOTINGSTAR   \n",
       "235               0                    0                   0                0  \\\n",
       "33                0                    0                   0                0   \n",
       "12                0                    0                   0                0   \n",
       "388               0                    0                   0                0   \n",
       "289               0                    0                   0                0   \n",
       "\n",
       "     CDLSHORTLINE  CDLSPINNINGTOP  CDLSTALLEDPATTERN  CDLSTICKSANDWICH   \n",
       "235             0               0                  0                 0  \\\n",
       "33              0               0                  0                 0   \n",
       "12              0               0                  0                 0   \n",
       "388             0               0                  0                 0   \n",
       "289             0               0                  0                 0   \n",
       "\n",
       "     CDLTAKURI  CDLTASUKIGAP  CDLTHRUSTING  CDLTRISTAR  CDLUNIQUE3RIVER   \n",
       "235          0             0             0           0                0  \\\n",
       "33           0             0             0           0                0   \n",
       "12           0             0             0           0                0   \n",
       "388          0             0             0           0                0   \n",
       "289          0             0             0           0                0   \n",
       "\n",
       "     CDLUPSIDEGAP2CROWS  CDLXSIDEGAP3METHODS  candle_bullish_score   \n",
       "235                   0                    0                   200  \\\n",
       "33                    0                    0                     0   \n",
       "12                    0                    0                     0   \n",
       "388                   0                    0                     0   \n",
       "289                   0                    0                   100   \n",
       "\n",
       "     candle_bearish_score  2D Lowest Price  2D Highest Price  2D Low in Pips   \n",
       "235                     0          1.27255           1.28568           131.3  \\\n",
       "33                      0          1.70752           1.71510            38.6   \n",
       "12                   -300          1.63466           1.64666            88.0   \n",
       "388                  -300          1.36621           1.38415           160.5   \n",
       "289                     0          1.30347           1.31532             5.5   \n",
       "\n",
       "     2D High in Pips  2D Trade Status  2D Hard Stop Price  2D Hard Stop Loss   \n",
       "235              0.0                1                 NaN                NaN  \\\n",
       "33              37.2                0             1.70765              -37.3   \n",
       "12              32.0                0             1.64207              -13.9   \n",
       "388             18.9                0             1.36744             -148.2   \n",
       "289            113.0                0             1.31322              -92.0   \n",
       "\n",
       "     2D Trend Change Stop Price  2D Trend Change Stop Loss  \n",
       "235                         NaN                        NaN  \n",
       "33                      1.70836                      -30.2  \n",
       "12                      1.63893                      -45.3  \n",
       "388                     1.37472                      -75.4  \n",
       "289                     1.31288                      -88.6  "
      ]
     },
     "execution_count": 7,
     "metadata": {},
     "output_type": "execute_result"
    }
   ],
   "source": [
    "df.sample(5)"
   ]
  },
  {
   "cell_type": "code",
   "execution_count": 11,
   "id": "997f50b3",
   "metadata": {
    "ExecuteTime": {
     "end_time": "2024-02-27T02:59:02.127301Z",
     "start_time": "2024-02-27T02:59:01.962713Z"
    },
    "scrolled": false
   },
   "outputs": [
    {
     "data": {
      "application/vnd.plotly.v1+json": {
       "config": {
        "plotlyServerURL": "https://plot.ly"
       },
       "data": [
        {
         "marker": {
          "color": [
           "green",
           "green",
           "green",
           "RED",
           "RED",
           "RED",
           "green",
           "green",
           "green",
           "green",
           "green",
           "green",
           "green",
           "green",
           "green",
           "RED",
           "green",
           "green",
           "green",
           "green",
           "green",
           "green",
           "green",
           "RED",
           "green",
           "green",
           "green",
           "green",
           "green",
           "green",
           "RED",
           "green",
           "green",
           "green",
           "green",
           "green",
           "green",
           "green",
           "RED",
           "RED",
           "RED",
           "RED",
           "RED",
           "RED",
           "RED",
           "RED",
           "RED",
           "RED",
           "RED",
           "RED",
           "RED",
           "RED",
           "RED",
           "RED",
           "RED",
           "RED",
           "RED",
           "RED",
           "RED",
           "green",
           "green",
           "green",
           "RED",
           "RED",
           "RED",
           "RED",
           "RED",
           "RED",
           "RED",
           "RED",
           "RED",
           "RED",
           "green",
           "green",
           "green",
           "green",
           "green",
           "green",
           "green",
           "green",
           "green",
           "green",
           "RED",
           "RED",
           "RED",
           "RED",
           "green",
           "RED",
           "green",
           "green",
           "green",
           "green",
           "RED",
           "green",
           "green",
           "green",
           "RED",
           "RED",
           "RED",
           "green",
           "RED",
           "green",
           "green",
           "green",
           "green",
           "RED",
           "RED",
           "RED",
           "RED",
           "RED",
           "RED",
           "RED",
           "RED",
           "RED",
           "RED",
           "RED",
           "RED",
           "RED",
           "RED",
           "green",
           "RED",
           "green",
           "green",
           "RED",
           "RED",
           "RED",
           "green",
           "green",
           "green",
           "green",
           "green",
           "green",
           "RED",
           "RED",
           "green",
           "RED",
           "RED",
           "RED",
           "RED",
           "RED",
           "RED",
           "RED",
           "RED",
           "RED",
           "green",
           "green",
           "RED",
           "RED",
           "RED",
           "green",
           "green",
           "green",
           "green",
           "RED",
           "RED",
           "RED",
           "RED",
           "RED",
           "green",
           "green",
           "green",
           "green",
           "RED",
           "RED",
           "green",
           "green",
           "green",
           "green",
           "green",
           "green",
           "green",
           "RED",
           "RED",
           "RED",
           "RED",
           "green",
           "green",
           "green",
           "green",
           "green",
           "RED",
           "green",
           "green",
           "RED",
           "RED",
           "RED",
           "RED",
           "RED",
           "RED",
           "RED",
           "RED",
           "RED",
           "green",
           "green",
           "green",
           "green",
           "green",
           "green",
           "green",
           "green",
           "green",
           "green",
           "RED",
           "RED",
           "RED",
           "RED",
           "green",
           "green",
           "green",
           "green",
           "green",
           "RED",
           "RED",
           "RED",
           "RED",
           "RED",
           "RED",
           "RED",
           "RED",
           "RED",
           "RED",
           "RED",
           "RED",
           "RED",
           "RED",
           "RED",
           "green",
           "green",
           "green",
           "green",
           "green",
           "RED",
           "RED",
           "RED",
           "RED",
           "RED",
           "RED",
           "RED",
           "RED",
           "RED",
           "RED",
           "RED",
           "RED",
           "RED",
           "RED",
           "green",
           "green",
           "green",
           "green",
           "green",
           "green",
           "green",
           "green",
           "green",
           "green",
           "RED",
           "RED",
           "RED",
           "RED",
           "RED",
           "RED",
           "RED",
           "RED",
           "RED",
           "RED",
           "RED",
           "RED",
           "RED",
           "RED",
           "RED",
           "RED",
           "RED",
           "RED",
           "RED",
           "green",
           "green",
           "green",
           "RED",
           "green",
           "green",
           "green",
           "green",
           "green",
           "green",
           "green",
           "green",
           "green",
           "green",
           "green",
           "RED",
           "green",
           "green",
           "RED",
           "green",
           "RED",
           "RED",
           "RED",
           "RED",
           "RED",
           "RED",
           "RED",
           "green",
           "green",
           "green",
           "green",
           "green",
           "green",
           "green",
           "RED",
           "RED",
           "RED",
           "green",
           "green",
           "green",
           "RED",
           "green",
           "green",
           "green",
           "green",
           "green",
           "green",
           "green",
           "green",
           "green",
           "green",
           "green",
           "green",
           "green",
           "green",
           "green",
           "RED",
           "RED",
           "RED",
           "RED",
           "RED",
           "green",
           "green",
           "green",
           "green",
           "green",
           "green",
           "green",
           "green",
           "green",
           "green",
           "green",
           "green",
           "green",
           "green",
           "green",
           "green",
           "green",
           "green",
           "green",
           "green",
           "green",
           "green",
           "green",
           "RED",
           "RED",
           "RED",
           "RED",
           "RED",
           "RED",
           "RED",
           "green",
           "green",
           "green",
           "green",
           "green",
           "green",
           "green",
           "green",
           "green",
           "green",
           "green",
           "RED",
           "RED",
           "RED",
           "RED",
           "RED",
           "RED",
           "RED",
           "RED",
           "green",
           "RED",
           "RED",
           "green",
           "green",
           "RED",
           "RED",
           "RED",
           "RED",
           "RED",
           "RED",
           "green",
           "green",
           "RED",
           "RED",
           "RED",
           "RED",
           "RED",
           "RED",
           "RED",
           "green",
           "green",
           "green",
           "green",
           "green",
           "green",
           "green",
           "green",
           "RED",
           "RED",
           "RED",
           "RED",
           "RED",
           "RED",
           "RED",
           "RED",
           "RED",
           "RED",
           "RED",
           "RED",
           "RED",
           "RED",
           "RED",
           "RED",
           "RED",
           "green",
           "green",
           "green",
           "RED",
           "RED",
           "RED",
           "RED",
           "RED",
           "green",
           "green",
           "green",
           "green",
           "green",
           "green",
           "RED",
           "green",
           "green",
           "green",
           "RED",
           "RED",
           "RED",
           "RED",
           "RED",
           "RED",
           "RED",
           "RED",
           "green",
           "green",
           "green",
           "green",
           "green",
           "green",
           "green",
           "RED",
           "RED",
           "green",
           "green",
           "green",
           "green",
           "green",
           "green",
           "RED",
           "RED",
           "RED",
           "RED",
           "RED",
           "RED",
           "RED",
           "RED",
           "RED",
           "RED",
           "RED",
           "RED",
           "RED",
           "green",
           "green",
           "green"
          ],
          "opacity": 0.8,
          "size": 10
         },
         "mode": "markers",
         "type": "scatter",
         "x": [
          "2013-09-24T00:00:00",
          "2013-10-04T00:00:00",
          "2013-10-28T00:00:00",
          "2013-11-05T00:00:00",
          "2013-11-13T00:00:00",
          "2013-11-14T00:00:00",
          "2013-12-11T00:00:00",
          "2013-12-12T00:00:00",
          "2014-01-02T00:00:00",
          "2014-01-02T00:00:00",
          "2014-01-03T00:00:00",
          "2014-01-10T00:00:00",
          "2014-01-13T00:00:00",
          "2014-01-24T00:00:00",
          "2014-01-30T00:00:00",
          "2014-02-07T00:00:00",
          "2014-02-21T00:00:00",
          "2014-02-24T00:00:00",
          "2014-02-26T00:00:00",
          "2014-02-27T00:00:00",
          "2014-03-03T00:00:00",
          "2014-03-04T00:00:00",
          "2014-03-10T00:00:00",
          "2014-03-26T00:00:00",
          "2014-04-03T00:00:00",
          "2014-04-23T00:00:00",
          "2014-04-24T00:00:00",
          "2014-04-27T00:00:00",
          "2014-05-09T00:00:00",
          "2014-05-23T00:00:00",
          "2014-06-05T00:00:00",
          "2014-07-08T00:00:00",
          "2014-07-09T00:00:00",
          "2014-07-10T00:00:00",
          "2014-07-11T00:00:00",
          "2014-07-14T00:00:00",
          "2014-07-14T00:00:00",
          "2014-07-17T00:00:00",
          "2014-09-01T00:00:00",
          "2014-09-01T00:00:00",
          "2014-09-16T00:00:00",
          "2014-09-18T00:00:00",
          "2014-10-08T00:00:00",
          "2014-10-16T00:00:00",
          "2014-10-24T00:00:00",
          "2014-11-12T00:00:00",
          "2014-11-25T00:00:00",
          "2014-12-01T00:00:00",
          "2014-12-03T00:00:00",
          "2014-12-04T00:00:00",
          "2014-12-09T00:00:00",
          "2014-12-31T00:00:00",
          "2015-01-14T00:00:00",
          "2015-01-15T00:00:00",
          "2015-01-16T00:00:00",
          "2015-01-20T00:00:00",
          "2015-01-27T00:00:00",
          "2015-01-27T00:00:00",
          "2015-02-03T00:00:00",
          "2015-02-26T00:00:00",
          "2015-02-27T00:00:00",
          "2015-03-01T00:00:00",
          "2015-03-18T00:00:00",
          "2015-03-20T00:00:00",
          "2015-03-23T00:00:00",
          "2015-03-25T00:00:00",
          "2015-03-26T00:00:00",
          "2015-03-27T00:00:00",
          "2015-04-01T00:00:00",
          "2015-04-03T00:00:00",
          "2015-04-14T00:00:00",
          "2015-04-15T00:00:00",
          "2015-05-01T00:00:00",
          "2015-05-05T00:00:00",
          "2015-05-06T00:00:00",
          "2015-05-19T00:00:00",
          "2015-05-22T00:00:00",
          "2015-06-24T00:00:00",
          "2015-06-26T00:00:00",
          "2015-06-28T00:00:00",
          "2015-06-30T00:00:00",
          "2015-06-30T00:00:00",
          "2015-07-10T00:00:00",
          "2015-07-10T00:00:00",
          "2015-07-13T00:00:00",
          "2015-07-14T00:00:00",
          "2015-07-23T00:00:00",
          "2015-07-27T00:00:00",
          "2015-07-31T00:00:00",
          "2015-08-03T00:00:00",
          "2015-08-04T00:00:00",
          "2015-08-04T00:00:00",
          "2015-08-10T00:00:00",
          "2015-08-17T00:00:00",
          "2015-08-20T00:00:00",
          "2015-08-26T00:00:00",
          "2015-09-08T00:00:00",
          "2015-10-02T00:00:00",
          "2015-10-06T00:00:00",
          "2015-10-22T00:00:00",
          "2015-10-30T00:00:00",
          "2015-11-03T00:00:00",
          "2015-11-04T00:00:00",
          "2015-11-04T00:00:00",
          "2015-11-05T00:00:00",
          "2015-11-11T00:00:00",
          "2015-11-12T00:00:00",
          "2015-11-13T00:00:00",
          "2015-11-13T00:00:00",
          "2015-11-17T00:00:00",
          "2015-11-18T00:00:00",
          "2015-11-18T00:00:00",
          "2015-12-03T00:00:00",
          "2015-12-09T00:00:00",
          "2016-01-22T00:00:00",
          "2016-01-26T00:00:00",
          "2016-01-28T00:00:00",
          "2016-02-19T00:00:00",
          "2016-03-02T00:00:00",
          "2016-03-22T00:00:00",
          "2016-03-28T00:00:00",
          "2016-04-01T00:00:00",
          "2016-04-04T00:00:00",
          "2016-04-11T00:00:00",
          "2016-04-15T00:00:00",
          "2016-04-18T00:00:00",
          "2016-05-03T00:00:00",
          "2016-05-04T00:00:00",
          "2016-05-20T00:00:00",
          "2016-05-23T00:00:00",
          "2016-05-31T00:00:00",
          "2016-05-31T00:00:00",
          "2016-06-17T00:00:00",
          "2016-06-17T00:00:00",
          "2016-06-23T00:00:00",
          "2016-07-12T00:00:00",
          "2016-07-14T00:00:00",
          "2016-07-20T00:00:00",
          "2016-07-21T00:00:00",
          "2016-07-27T00:00:00",
          "2016-07-28T00:00:00",
          "2016-08-16T00:00:00",
          "2016-08-17T00:00:00",
          "2016-08-17T00:00:00",
          "2016-09-09T00:00:00",
          "2016-09-13T00:00:00",
          "2016-09-28T00:00:00",
          "2016-10-31T00:00:00",
          "2016-11-01T00:00:00",
          "2016-12-07T00:00:00",
          "2016-12-08T00:00:00",
          "2016-12-09T00:00:00",
          "2016-12-14T00:00:00",
          "2016-12-30T00:00:00",
          "2017-01-04T00:00:00",
          "2017-01-05T00:00:00",
          "2017-01-12T00:00:00",
          "2017-01-17T00:00:00",
          "2017-01-30T00:00:00",
          "2017-01-31T00:00:00",
          "2017-02-02T00:00:00",
          "2017-02-24T00:00:00",
          "2017-03-15T00:00:00",
          "2017-03-15T00:00:00",
          "2017-03-28T00:00:00",
          "2017-04-04T00:00:00",
          "2017-04-06T00:00:00",
          "2017-05-11T00:00:00",
          "2017-05-23T00:00:00",
          "2017-05-24T00:00:00",
          "2017-05-25T00:00:00",
          "2017-06-19T00:00:00",
          "2017-06-23T00:00:00",
          "2017-06-23T00:00:00",
          "2017-06-27T00:00:00",
          "2017-07-07T00:00:00",
          "2017-07-20T00:00:00",
          "2017-07-21T00:00:00",
          "2017-08-03T00:00:00",
          "2017-08-04T00:00:00",
          "2017-08-25T00:00:00",
          "2017-09-25T00:00:00",
          "2017-09-26T00:00:00",
          "2017-10-23T00:00:00",
          "2017-10-23T00:00:00",
          "2017-10-25T00:00:00",
          "2017-10-30T00:00:00",
          "2017-11-06T00:00:00",
          "2017-11-07T00:00:00",
          "2017-11-09T00:00:00",
          "2017-11-10T00:00:00",
          "2017-11-14T00:00:00",
          "2017-12-06T00:00:00",
          "2017-12-08T00:00:00",
          "2018-01-09T00:00:00",
          "2018-01-10T00:00:00",
          "2018-01-10T00:00:00",
          "2018-02-02T00:00:00",
          "2018-02-19T00:00:00",
          "2018-02-19T00:00:00",
          "2018-02-20T00:00:00",
          "2018-02-21T00:00:00",
          "2018-03-06T00:00:00",
          "2018-03-07T00:00:00",
          "2018-03-08T00:00:00",
          "2018-03-12T00:00:00",
          "2018-03-19T00:00:00",
          "2018-03-28T00:00:00",
          "2018-04-18T00:00:00",
          "2018-04-18T00:00:00",
          "2018-04-19T00:00:00",
          "2018-06-01T00:00:00",
          "2018-06-05T00:00:00",
          "2018-06-21T00:00:00",
          "2018-06-22T00:00:00",
          "2018-06-25T00:00:00",
          "2018-06-25T00:00:00",
          "2018-06-29T00:00:00",
          "2018-07-03T00:00:00",
          "2018-07-03T00:00:00",
          "2018-07-13T00:00:00",
          "2018-07-20T00:00:00",
          "2018-07-24T00:00:00",
          "2018-07-30T00:00:00",
          "2018-08-20T00:00:00",
          "2018-09-05T00:00:00",
          "2018-09-21T00:00:00",
          "2018-09-24T00:00:00",
          "2018-09-27T00:00:00",
          "2018-10-14T00:00:00",
          "2018-10-17T00:00:00",
          "2018-11-01T00:00:00",
          "2018-11-13T00:00:00",
          "2018-11-14T00:00:00",
          "2018-11-22T00:00:00",
          "2018-11-26T00:00:00",
          "2018-11-28T00:00:00",
          "2018-12-04T00:00:00",
          "2018-12-06T00:00:00",
          "2018-12-07T00:00:00",
          "2018-12-18T00:00:00",
          "2018-12-18T00:00:00",
          "2018-12-19T00:00:00",
          "2018-12-20T00:00:00",
          "2019-01-04T00:00:00",
          "2019-01-15T00:00:00",
          "2019-01-21T00:00:00",
          "2019-02-01T00:00:00",
          "2019-02-04T00:00:00",
          "2019-03-05T00:00:00",
          "2019-03-05T00:00:00",
          "2019-03-05T00:00:00",
          "2019-03-07T00:00:00",
          "2019-03-20T00:00:00",
          "2019-03-21T00:00:00",
          "2019-04-09T00:00:00",
          "2019-04-10T00:00:00",
          "2019-04-10T00:00:00",
          "2019-04-12T00:00:00",
          "2019-04-14T00:00:00",
          "2019-04-30T00:00:00",
          "2019-06-03T00:00:00",
          "2019-06-04T00:00:00",
          "2019-06-19T00:00:00",
          "2019-07-11T00:00:00",
          "2019-07-12T00:00:00",
          "2019-07-18T00:00:00",
          "2019-07-19T00:00:00",
          "2019-07-22T00:00:00",
          "2019-07-24T00:00:00",
          "2019-07-25T00:00:00",
          "2019-08-15T00:00:00",
          "2019-08-16T00:00:00",
          "2019-09-04T00:00:00",
          "2019-09-23T00:00:00",
          "2019-09-24T00:00:00",
          "2019-09-25T00:00:00",
          "2019-10-10T00:00:00",
          "2019-10-25T00:00:00",
          "2019-10-27T00:00:00",
          "2019-11-04T00:00:00",
          "2019-11-05T00:00:00",
          "2019-11-06T00:00:00",
          "2019-11-22T00:00:00",
          "2019-12-17T00:00:00",
          "2020-01-03T00:00:00",
          "2020-01-07T00:00:00",
          "2020-01-07T00:00:00",
          "2020-01-08T00:00:00",
          "2020-01-21T00:00:00",
          "2020-01-24T00:00:00",
          "2020-01-27T00:00:00",
          "2020-01-30T00:00:00",
          "2020-02-03T00:00:00",
          "2020-02-05T00:00:00",
          "2020-02-12T00:00:00",
          "2020-02-13T00:00:00",
          "2020-02-21T00:00:00",
          "2020-02-25T00:00:00",
          "2020-03-04T00:00:00",
          "2020-03-26T00:00:00",
          "2020-04-16T00:00:00",
          "2020-04-17T00:00:00",
          "2020-04-20T00:00:00",
          "2020-04-20T00:00:00",
          "2020-05-03T00:00:00",
          "2020-05-05T00:00:00",
          "2020-05-05T00:00:00",
          "2020-05-19T00:00:00",
          "2020-05-20T00:00:00",
          "2020-05-26T00:00:00",
          "2020-06-11T00:00:00",
          "2020-06-12T00:00:00",
          "2020-06-16T00:00:00",
          "2020-07-01T00:00:00",
          "2020-07-13T00:00:00",
          "2020-07-14T00:00:00",
          "2020-07-16T00:00:00",
          "2020-07-16T00:00:00",
          "2020-07-17T00:00:00",
          "2020-07-19T00:00:00",
          "2020-08-11T00:00:00",
          "2020-08-12T00:00:00",
          "2020-08-13T00:00:00",
          "2020-08-19T00:00:00",
          "2020-08-21T00:00:00",
          "2020-09-03T00:00:00",
          "2020-09-03T00:00:00",
          "2020-09-04T00:00:00",
          "2020-09-06T00:00:00",
          "2020-09-16T00:00:00",
          "2020-09-17T00:00:00",
          "2020-09-18T00:00:00",
          "2020-09-28T00:00:00",
          "2020-09-30T00:00:00",
          "2020-10-15T00:00:00",
          "2020-10-26T00:00:00",
          "2020-10-27T00:00:00",
          "2020-10-28T00:00:00",
          "2020-11-12T00:00:00",
          "2020-12-02T00:00:00",
          "2020-12-07T00:00:00",
          "2020-12-07T00:00:00",
          "2020-12-09T00:00:00",
          "2020-12-09T00:00:00",
          "2020-12-20T00:00:00",
          "2020-12-21T00:00:00",
          "2020-12-28T00:00:00",
          "2021-01-06T00:00:00",
          "2021-01-07T00:00:00",
          "2021-01-08T00:00:00",
          "2021-01-15T00:00:00",
          "2021-01-26T00:00:00",
          "2021-01-28T00:00:00",
          "2021-01-29T00:00:00",
          "2021-02-01T00:00:00",
          "2021-02-02T00:00:00",
          "2021-02-25T00:00:00",
          "2021-03-29T00:00:00",
          "2021-03-31T00:00:00",
          "2021-03-31T00:00:00",
          "2021-04-01T00:00:00",
          "2021-04-14T00:00:00",
          "2021-04-14T00:00:00",
          "2021-04-15T00:00:00",
          "2021-04-22T00:00:00",
          "2021-04-23T00:00:00",
          "2021-04-27T00:00:00",
          "2021-04-28T00:00:00",
          "2021-04-28T00:00:00",
          "2021-04-30T00:00:00",
          "2021-05-26T00:00:00",
          "2021-05-28T00:00:00",
          "2021-06-01T00:00:00",
          "2021-06-03T00:00:00",
          "2021-06-03T00:00:00",
          "2021-06-23T00:00:00",
          "2021-07-05T00:00:00",
          "2021-07-05T00:00:00",
          "2021-07-06T00:00:00",
          "2021-07-09T00:00:00",
          "2021-07-22T00:00:00",
          "2021-07-23T00:00:00",
          "2021-07-26T00:00:00",
          "2021-08-06T00:00:00",
          "2021-08-25T00:00:00",
          "2021-08-27T00:00:00",
          "2021-09-14T00:00:00",
          "2021-09-16T00:00:00",
          "2021-09-23T00:00:00",
          "2021-09-23T00:00:00",
          "2021-09-28T00:00:00",
          "2021-10-04T00:00:00",
          "2021-10-06T00:00:00",
          "2021-10-07T00:00:00",
          "2021-10-27T00:00:00",
          "2021-10-29T00:00:00",
          "2021-11-17T00:00:00",
          "2021-11-18T00:00:00",
          "2021-12-10T00:00:00",
          "2021-12-15T00:00:00",
          "2021-12-15T00:00:00",
          "2021-12-16T00:00:00",
          "2021-12-21T00:00:00",
          "2022-01-18T00:00:00",
          "2022-01-19T00:00:00",
          "2022-01-20T00:00:00",
          "2022-02-09T00:00:00",
          "2022-02-11T00:00:00",
          "2022-02-14T00:00:00",
          "2022-02-22T00:00:00",
          "2022-02-23T00:00:00",
          "2022-03-16T00:00:00",
          "2022-03-17T00:00:00",
          "2022-03-18T00:00:00",
          "2022-03-30T00:00:00",
          "2022-03-31T00:00:00",
          "2022-04-05T00:00:00",
          "2022-04-13T00:00:00",
          "2022-04-14T00:00:00",
          "2022-04-15T00:00:00",
          "2022-04-20T00:00:00",
          "2022-05-04T00:00:00",
          "2022-05-16T00:00:00",
          "2022-06-16T00:00:00",
          "2022-06-21T00:00:00",
          "2022-06-21T00:00:00",
          "2022-06-24T00:00:00",
          "2022-07-18T00:00:00",
          "2022-08-04T00:00:00",
          "2022-08-05T00:00:00",
          "2022-08-12T00:00:00",
          "2022-09-09T00:00:00",
          "2022-09-09T00:00:00",
          "2022-09-29T00:00:00",
          "2022-10-11T00:00:00",
          "2022-10-13T00:00:00",
          "2022-11-01T00:00:00",
          "2022-11-02T00:00:00",
          "2022-11-09T00:00:00",
          "2022-11-29T00:00:00",
          "2022-11-30T00:00:00",
          "2022-12-15T00:00:00",
          "2023-01-06T00:00:00",
          "2023-01-24T00:00:00",
          "2023-01-31T00:00:00",
          "2023-02-02T00:00:00",
          "2023-02-09T00:00:00",
          "2023-02-13T00:00:00",
          "2023-02-21T00:00:00",
          "2023-02-27T00:00:00",
          "2023-03-01T00:00:00",
          "2023-03-03T00:00:00",
          "2023-03-06T00:00:00",
          "2023-03-10T00:00:00",
          "2023-04-03T00:00:00",
          "2023-04-10T00:00:00",
          "2023-04-14T00:00:00",
          "2023-04-25T00:00:00",
          "2023-05-02T00:00:00",
          "2023-05-02T00:00:00",
          "2023-05-11T00:00:00",
          "2023-05-30T00:00:00",
          "2023-05-31T00:00:00",
          "2023-06-23T00:00:00",
          "2023-06-23T00:00:00",
          "2023-06-26T00:00:00",
          "2023-06-26T00:00:00",
          "2023-06-28T00:00:00",
          "2023-07-19T00:00:00",
          "2023-08-10T00:00:00",
          "2023-08-16T00:00:00",
          "2023-08-16T00:00:00",
          "2023-08-17T00:00:00",
          "2023-08-30T00:00:00",
          "2023-09-29T00:00:00",
          "2023-10-05T00:00:00",
          "2023-10-06T00:00:00",
          "2023-10-09T00:00:00",
          "2023-10-23T00:00:00",
          "2023-10-30T00:00:00",
          "2023-10-31T00:00:00",
          "2023-11-01T00:00:00",
          "2023-11-09T00:00:00",
          "2023-12-05T00:00:00",
          "2023-12-20T00:00:00"
         ],
         "y": [
          114.6,
          9.6,
          22.8,
          73.3,
          109.699999999999,
          67.2,
          51.599999999999994,
          13.9,
          31.3,
          30.599999999999998,
          28.799999999999,
          101.60000000000099,
          32,
          141,
          67.5,
          95.199999999999,
          110.400000000001,
          105.69999999999901,
          131.499999999999,
          137,
          86.600000000001,
          104.999999999999,
          1.599999999999,
          91.899999999998,
          4.999999999999001,
          51.499999999999005,
          83.199999999998,
          73.29999999999801,
          51.800000000001006,
          33.199999999999,
          45.399999999999,
          69.800000000002,
          63.4,
          37.200000000001,
          58.899999999999,
          77,
          115.90000000000201,
          5.399999999999,
          7.2,
          8.000000000001,
          131.9,
          222.4,
          58.599999999999,
          81.7,
          110.60000000000001,
          10.200000000000001,
          119.299999999999,
          28.799999999999,
          23.599999999999,
          25.299999999999,
          86.19999999999999,
          39.699999999998,
          11.699999999998,
          6.5,
          1.999999999999,
          15,
          118.3,
          43.899999999998,
          213.2,
          51.399999999999,
          63.799999999998,
          11.699999999998,
          31.299999999998,
          21.999999999998998,
          84.39999999999999,
          68.699999999999,
          35.699999999998,
          23.599999999999,
          8.9,
          55.6,
          158.49999999999898,
          279.500000000001,
          93.9,
          278.399999999998,
          347.8,
          117.39999999999799,
          -0.3999999999981796,
          86.8,
          69.2,
          84.2,
          54.699999999998,
          20,
          111.9,
          121.299999999999,
          149.999999999999,
          70.999999999998,
          18.400000000000002,
          120.799999999998,
          112,
          66.59999999999799,
          69.099999999999,
          87.899999999998,
          65.599999999998,
          128.299999999998,
          106.399999999999,
          3.899999999998,
          34.199999999999,
          18.199999999999,
          146.300000000001,
          33.6,
          157.3,
          72.2,
          32.099999999999,
          19.8,
          12.499999999999,
          27.399999999999,
          34.399999999998,
          44.199999999998,
          3.199999999998,
          120.099999999998,
          106.1,
          122.599999999999,
          58.199999999999,
          90.799999999999,
          34.3,
          56.800000000001,
          98.800000000001,
          -94.19999999999901,
          184.199999999998,
          54.899999999999004,
          226.79999999999998,
          78.3,
          19.199999999999,
          151.299999999998,
          191.5,
          225.599999999999,
          36.799999999999,
          28.299999999998,
          142.1,
          242.999999999999,
          60.400000000000006,
          2.4999999999980003,
          474.49999999999903,
          470.59999999999803,
          57.799999999998,
          187.499999999998,
          279.4,
          81.39999999999999,
          82.799999999998,
          78.79999999999801,
          121.199999999999,
          136.199999999999,
          161.20000000000098,
          144.8,
          84.49999999999999,
          56.800000000001,
          1.900000000001,
          112.699999999998,
          124.599999999999,
          114.6,
          127.39999999999901,
          143.4,
          4.699999999999,
          44.700000000001,
          115.89999999999901,
          105.299999999999,
          38.199999999999,
          82.5,
          181.099999999998,
          289.8,
          9.5,
          13.400000000001,
          162.20000000000098,
          177.70000000000002,
          74.499999999999,
          64.600000000001,
          41.8,
          21.599999999999,
          54.499999999999005,
          83.1,
          8.2,
          10.6,
          27.8,
          141.4,
          246.799999999998,
          51.700000000001,
          78.199999999999,
          104.900000000001,
          46.399999999999004,
          9.999999999998002,
          96.199999999999,
          61.500000000000995,
          25.999999999999,
          70.899999999998,
          68.30000000000099,
          24.699999999998997,
          122.7,
          3.199999999998,
          8.6,
          82.299999999999,
          76.899999999999,
          35.6,
          136.800000000001,
          35,
          45.299999999999,
          46.399999999999004,
          183.19999999999803,
          30.399999999999,
          60.199999999999,
          46.399999999999004,
          51.799999999999,
          31.499999999998998,
          10.799999999999,
          28.999999999999,
          10.399999999999,
          134.7,
          174,
          20.999999999999,
          54.199999999998994,
          32.2,
          6.399999999998999,
          51.29999999999799,
          98.500000000001,
          56.699999999998,
          25.699999999999,
          30.200000000000003,
          18.599999999999,
          -1.299999999999,
          61.999999999999,
          79.8,
          56.899999999999,
          25.000000000001,
          74.999999999998,
          34.499999999999005,
          150.20000000000002,
          125.8,
          93.199999999999,
          101.89999999999901,
          39.4,
          126.8,
          7.2999999999980005,
          130.79999999999902,
          86.30000000000099,
          42.499999999997996,
          19.400000000000002,
          0,
          27.5,
          24.599999999999003,
          4.5999999999989996,
          2.200000000001,
          55.500000000001,
          44.399999999999,
          54.400000000001,
          21.4,
          126.8,
          234.199999999999,
          169.20000000000002,
          57.3,
          39.8,
          37.500000000001,
          67.099999999999,
          34.3,
          34.699999999998,
          101.200000000001,
          61.7,
          10.999999999998,
          20.199999999998997,
          35.799999999999,
          11.999999999999998,
          27.999999999998998,
          129.699999999999,
          76.799999999999,
          60.400000000000006,
          93.29999999999801,
          16.800000000001,
          11.999999999999998,
          7.8,
          16.899999999999,
          7.999999999999,
          33.399999999998,
          13.999999999998,
          49.999999999997996,
          29.5,
          201.39999999999802,
          82.299999999999,
          74.699999999998,
          10.499999999999,
          311.2,
          63.5,
          86.199999999998,
          34.799999999998995,
          26.2,
          20.199999999998997,
          38.7,
          20.999999999999,
          144.4,
          51.2,
          52.199999999999996,
          18.7,
          112.99999999999999,
          33.3,
          8.000000000001,
          111.49999999999899,
          10.599999999998,
          1.4999999999999998,
          88.799999999999,
          45.699999999998994,
          43.59999999999901,
          23.199999999998,
          180.4,
          563.999999999997,
          83.4,
          77,
          32.2,
          14.800000000000999,
          38.4,
          48.900000000000006,
          11.799999999999,
          21.600000000001003,
          29.000000000001,
          60.999999999999,
          51.400000000001,
          95.399999999998,
          0.7999999999985796,
          115.89999999999901,
          101.999999999999,
          121.500000000001,
          65.8,
          111.599999999998,
          200.299999999999,
          220.900000000001,
          76.800000000001,
          95.60000000000001,
          92.29999999999801,
          157.4,
          40.699999999997,
          50.099999999999,
          40.699999999999996,
          71.000000000001,
          3.5,
          26.699999999998997,
          27.599999999997998,
          13.799999999998999,
          104.39999999999999,
          130.20000000000002,
          58.4,
          62.8,
          62.599999999999,
          25.2,
          126.999999999999,
          201.599999999999,
          182.200000000001,
          121.200000000001,
          42.200000000001005,
          7.5,
          123.8,
          161.1,
          166.300000000001,
          68.2,
          87.39999999999901,
          101.599999999999,
          21.299999999999002,
          105.399999999999,
          107.70000000000101,
          90.9,
          32.100000000000996,
          23.300000000001,
          10.599999999998,
          36.799999999999,
          52.300000000000004,
          63.90000000000099,
          88.799999999999,
          39.299999999998995,
          31.499999999998998,
          111.49999999999899,
          86.199999999998,
          73.099999999999,
          116.799999999999,
          101.599999999999,
          108.599999999998,
          53.100000000001,
          97.59999999999901,
          108.89999999999799,
          43.59999999999901,
          41.1,
          43.699999999999,
          20.400000000000002,
          41.899999999999004,
          40.699999999999996,
          2.6999999999989996,
          70.2,
          31.900000000000002,
          66.600000000001,
          140,
          28.699999999999,
          43.000000000000995,
          29.799999999999,
          45.899999999998,
          18.899999999999,
          26.2,
          0.1999999999990898,
          3.1,
          42.5,
          65.199999999998,
          78.599999999999,
          91.6,
          25.600000000001,
          22.699999999999,
          11.6,
          7.6000000000000005,
          114.3,
          112.499999999999,
          82.8,
          181.8,
          22.799999999998,
          49.899999999998,
          4.399999999999,
          112.100000000001,
          76.399999999998,
          61.1,
          69.299999999998,
          2.999999999999,
          63.59999999999899,
          39.600000000000996,
          85.69999999999901,
          23.699999999999,
          7.999999999999,
          30.799999999999002,
          53.9,
          -0.700000000000145,
          4.399999999999,
          35.199999999999,
          0.4000000000004,
          171.9,
          17.599999999999,
          8.699999999999001,
          35.199999999999,
          53,
          100,
          62.900000000001,
          110.29999999999801,
          37.099999999998,
          122.799999999998,
          136.79999999999902,
          274.999999999998,
          218.799999999999,
          164.59999999999897,
          115,
          103.600000000001,
          386.200000000001,
          360.40000000000003,
          368.2,
          82.99999999999899,
          125.399999999999,
          138.199999999999,
          63.200000000001,
          47.6,
          1.8,
          134.7,
          56.199999999999,
          83.8,
          7.399999999999,
          21.600000000001003,
          24.300000000001,
          211.79999999999902,
          244.4,
          118.599999999999,
          44.8,
          91.000000000001,
          122.8,
          130.79999999999902,
          28.099999999999,
          63.59999999999899,
          101.599999999999,
          40.999999999999,
          60.999999999999,
          47.9,
          48.399999999999,
          3.899999999998,
          32.400000000001,
          4.999999999999001,
          29.399999999999,
          54.599999999997,
          16.999999999998,
          32.9,
          3.6000000000009997,
          81.79999999999801,
          57.599999999999,
          132.20000000000002,
          54.799999999998995,
          51.400000000001,
          28.6,
          238.7,
          58.4,
          18.599999999999,
          103.899999999999
         ]
        }
       ],
       "layout": {
        "template": {
         "data": {
          "bar": [
           {
            "error_x": {
             "color": "#2a3f5f"
            },
            "error_y": {
             "color": "#2a3f5f"
            },
            "marker": {
             "line": {
              "color": "#E5ECF6",
              "width": 0.5
             },
             "pattern": {
              "fillmode": "overlay",
              "size": 10,
              "solidity": 0.2
             }
            },
            "type": "bar"
           }
          ],
          "barpolar": [
           {
            "marker": {
             "line": {
              "color": "#E5ECF6",
              "width": 0.5
             },
             "pattern": {
              "fillmode": "overlay",
              "size": 10,
              "solidity": 0.2
             }
            },
            "type": "barpolar"
           }
          ],
          "carpet": [
           {
            "aaxis": {
             "endlinecolor": "#2a3f5f",
             "gridcolor": "white",
             "linecolor": "white",
             "minorgridcolor": "white",
             "startlinecolor": "#2a3f5f"
            },
            "baxis": {
             "endlinecolor": "#2a3f5f",
             "gridcolor": "white",
             "linecolor": "white",
             "minorgridcolor": "white",
             "startlinecolor": "#2a3f5f"
            },
            "type": "carpet"
           }
          ],
          "choropleth": [
           {
            "colorbar": {
             "outlinewidth": 0,
             "ticks": ""
            },
            "type": "choropleth"
           }
          ],
          "contour": [
           {
            "colorbar": {
             "outlinewidth": 0,
             "ticks": ""
            },
            "colorscale": [
             [
              0,
              "#0d0887"
             ],
             [
              0.1111111111111111,
              "#46039f"
             ],
             [
              0.2222222222222222,
              "#7201a8"
             ],
             [
              0.3333333333333333,
              "#9c179e"
             ],
             [
              0.4444444444444444,
              "#bd3786"
             ],
             [
              0.5555555555555556,
              "#d8576b"
             ],
             [
              0.6666666666666666,
              "#ed7953"
             ],
             [
              0.7777777777777778,
              "#fb9f3a"
             ],
             [
              0.8888888888888888,
              "#fdca26"
             ],
             [
              1,
              "#f0f921"
             ]
            ],
            "type": "contour"
           }
          ],
          "contourcarpet": [
           {
            "colorbar": {
             "outlinewidth": 0,
             "ticks": ""
            },
            "type": "contourcarpet"
           }
          ],
          "heatmap": [
           {
            "colorbar": {
             "outlinewidth": 0,
             "ticks": ""
            },
            "colorscale": [
             [
              0,
              "#0d0887"
             ],
             [
              0.1111111111111111,
              "#46039f"
             ],
             [
              0.2222222222222222,
              "#7201a8"
             ],
             [
              0.3333333333333333,
              "#9c179e"
             ],
             [
              0.4444444444444444,
              "#bd3786"
             ],
             [
              0.5555555555555556,
              "#d8576b"
             ],
             [
              0.6666666666666666,
              "#ed7953"
             ],
             [
              0.7777777777777778,
              "#fb9f3a"
             ],
             [
              0.8888888888888888,
              "#fdca26"
             ],
             [
              1,
              "#f0f921"
             ]
            ],
            "type": "heatmap"
           }
          ],
          "heatmapgl": [
           {
            "colorbar": {
             "outlinewidth": 0,
             "ticks": ""
            },
            "colorscale": [
             [
              0,
              "#0d0887"
             ],
             [
              0.1111111111111111,
              "#46039f"
             ],
             [
              0.2222222222222222,
              "#7201a8"
             ],
             [
              0.3333333333333333,
              "#9c179e"
             ],
             [
              0.4444444444444444,
              "#bd3786"
             ],
             [
              0.5555555555555556,
              "#d8576b"
             ],
             [
              0.6666666666666666,
              "#ed7953"
             ],
             [
              0.7777777777777778,
              "#fb9f3a"
             ],
             [
              0.8888888888888888,
              "#fdca26"
             ],
             [
              1,
              "#f0f921"
             ]
            ],
            "type": "heatmapgl"
           }
          ],
          "histogram": [
           {
            "marker": {
             "pattern": {
              "fillmode": "overlay",
              "size": 10,
              "solidity": 0.2
             }
            },
            "type": "histogram"
           }
          ],
          "histogram2d": [
           {
            "colorbar": {
             "outlinewidth": 0,
             "ticks": ""
            },
            "colorscale": [
             [
              0,
              "#0d0887"
             ],
             [
              0.1111111111111111,
              "#46039f"
             ],
             [
              0.2222222222222222,
              "#7201a8"
             ],
             [
              0.3333333333333333,
              "#9c179e"
             ],
             [
              0.4444444444444444,
              "#bd3786"
             ],
             [
              0.5555555555555556,
              "#d8576b"
             ],
             [
              0.6666666666666666,
              "#ed7953"
             ],
             [
              0.7777777777777778,
              "#fb9f3a"
             ],
             [
              0.8888888888888888,
              "#fdca26"
             ],
             [
              1,
              "#f0f921"
             ]
            ],
            "type": "histogram2d"
           }
          ],
          "histogram2dcontour": [
           {
            "colorbar": {
             "outlinewidth": 0,
             "ticks": ""
            },
            "colorscale": [
             [
              0,
              "#0d0887"
             ],
             [
              0.1111111111111111,
              "#46039f"
             ],
             [
              0.2222222222222222,
              "#7201a8"
             ],
             [
              0.3333333333333333,
              "#9c179e"
             ],
             [
              0.4444444444444444,
              "#bd3786"
             ],
             [
              0.5555555555555556,
              "#d8576b"
             ],
             [
              0.6666666666666666,
              "#ed7953"
             ],
             [
              0.7777777777777778,
              "#fb9f3a"
             ],
             [
              0.8888888888888888,
              "#fdca26"
             ],
             [
              1,
              "#f0f921"
             ]
            ],
            "type": "histogram2dcontour"
           }
          ],
          "mesh3d": [
           {
            "colorbar": {
             "outlinewidth": 0,
             "ticks": ""
            },
            "type": "mesh3d"
           }
          ],
          "parcoords": [
           {
            "line": {
             "colorbar": {
              "outlinewidth": 0,
              "ticks": ""
             }
            },
            "type": "parcoords"
           }
          ],
          "pie": [
           {
            "automargin": true,
            "type": "pie"
           }
          ],
          "scatter": [
           {
            "fillpattern": {
             "fillmode": "overlay",
             "size": 10,
             "solidity": 0.2
            },
            "type": "scatter"
           }
          ],
          "scatter3d": [
           {
            "line": {
             "colorbar": {
              "outlinewidth": 0,
              "ticks": ""
             }
            },
            "marker": {
             "colorbar": {
              "outlinewidth": 0,
              "ticks": ""
             }
            },
            "type": "scatter3d"
           }
          ],
          "scattercarpet": [
           {
            "marker": {
             "colorbar": {
              "outlinewidth": 0,
              "ticks": ""
             }
            },
            "type": "scattercarpet"
           }
          ],
          "scattergeo": [
           {
            "marker": {
             "colorbar": {
              "outlinewidth": 0,
              "ticks": ""
             }
            },
            "type": "scattergeo"
           }
          ],
          "scattergl": [
           {
            "marker": {
             "colorbar": {
              "outlinewidth": 0,
              "ticks": ""
             }
            },
            "type": "scattergl"
           }
          ],
          "scattermapbox": [
           {
            "marker": {
             "colorbar": {
              "outlinewidth": 0,
              "ticks": ""
             }
            },
            "type": "scattermapbox"
           }
          ],
          "scatterpolar": [
           {
            "marker": {
             "colorbar": {
              "outlinewidth": 0,
              "ticks": ""
             }
            },
            "type": "scatterpolar"
           }
          ],
          "scatterpolargl": [
           {
            "marker": {
             "colorbar": {
              "outlinewidth": 0,
              "ticks": ""
             }
            },
            "type": "scatterpolargl"
           }
          ],
          "scatterternary": [
           {
            "marker": {
             "colorbar": {
              "outlinewidth": 0,
              "ticks": ""
             }
            },
            "type": "scatterternary"
           }
          ],
          "surface": [
           {
            "colorbar": {
             "outlinewidth": 0,
             "ticks": ""
            },
            "colorscale": [
             [
              0,
              "#0d0887"
             ],
             [
              0.1111111111111111,
              "#46039f"
             ],
             [
              0.2222222222222222,
              "#7201a8"
             ],
             [
              0.3333333333333333,
              "#9c179e"
             ],
             [
              0.4444444444444444,
              "#bd3786"
             ],
             [
              0.5555555555555556,
              "#d8576b"
             ],
             [
              0.6666666666666666,
              "#ed7953"
             ],
             [
              0.7777777777777778,
              "#fb9f3a"
             ],
             [
              0.8888888888888888,
              "#fdca26"
             ],
             [
              1,
              "#f0f921"
             ]
            ],
            "type": "surface"
           }
          ],
          "table": [
           {
            "cells": {
             "fill": {
              "color": "#EBF0F8"
             },
             "line": {
              "color": "white"
             }
            },
            "header": {
             "fill": {
              "color": "#C8D4E3"
             },
             "line": {
              "color": "white"
             }
            },
            "type": "table"
           }
          ]
         },
         "layout": {
          "annotationdefaults": {
           "arrowcolor": "#2a3f5f",
           "arrowhead": 0,
           "arrowwidth": 1
          },
          "autotypenumbers": "strict",
          "coloraxis": {
           "colorbar": {
            "outlinewidth": 0,
            "ticks": ""
           }
          },
          "colorscale": {
           "diverging": [
            [
             0,
             "#8e0152"
            ],
            [
             0.1,
             "#c51b7d"
            ],
            [
             0.2,
             "#de77ae"
            ],
            [
             0.3,
             "#f1b6da"
            ],
            [
             0.4,
             "#fde0ef"
            ],
            [
             0.5,
             "#f7f7f7"
            ],
            [
             0.6,
             "#e6f5d0"
            ],
            [
             0.7,
             "#b8e186"
            ],
            [
             0.8,
             "#7fbc41"
            ],
            [
             0.9,
             "#4d9221"
            ],
            [
             1,
             "#276419"
            ]
           ],
           "sequential": [
            [
             0,
             "#0d0887"
            ],
            [
             0.1111111111111111,
             "#46039f"
            ],
            [
             0.2222222222222222,
             "#7201a8"
            ],
            [
             0.3333333333333333,
             "#9c179e"
            ],
            [
             0.4444444444444444,
             "#bd3786"
            ],
            [
             0.5555555555555556,
             "#d8576b"
            ],
            [
             0.6666666666666666,
             "#ed7953"
            ],
            [
             0.7777777777777778,
             "#fb9f3a"
            ],
            [
             0.8888888888888888,
             "#fdca26"
            ],
            [
             1,
             "#f0f921"
            ]
           ],
           "sequentialminus": [
            [
             0,
             "#0d0887"
            ],
            [
             0.1111111111111111,
             "#46039f"
            ],
            [
             0.2222222222222222,
             "#7201a8"
            ],
            [
             0.3333333333333333,
             "#9c179e"
            ],
            [
             0.4444444444444444,
             "#bd3786"
            ],
            [
             0.5555555555555556,
             "#d8576b"
            ],
            [
             0.6666666666666666,
             "#ed7953"
            ],
            [
             0.7777777777777778,
             "#fb9f3a"
            ],
            [
             0.8888888888888888,
             "#fdca26"
            ],
            [
             1,
             "#f0f921"
            ]
           ]
          },
          "colorway": [
           "#636efa",
           "#EF553B",
           "#00cc96",
           "#ab63fa",
           "#FFA15A",
           "#19d3f3",
           "#FF6692",
           "#B6E880",
           "#FF97FF",
           "#FECB52"
          ],
          "font": {
           "color": "#2a3f5f"
          },
          "geo": {
           "bgcolor": "white",
           "lakecolor": "white",
           "landcolor": "#E5ECF6",
           "showlakes": true,
           "showland": true,
           "subunitcolor": "white"
          },
          "hoverlabel": {
           "align": "left"
          },
          "hovermode": "closest",
          "mapbox": {
           "style": "light"
          },
          "paper_bgcolor": "white",
          "plot_bgcolor": "#E5ECF6",
          "polar": {
           "angularaxis": {
            "gridcolor": "white",
            "linecolor": "white",
            "ticks": ""
           },
           "bgcolor": "#E5ECF6",
           "radialaxis": {
            "gridcolor": "white",
            "linecolor": "white",
            "ticks": ""
           }
          },
          "scene": {
           "xaxis": {
            "backgroundcolor": "#E5ECF6",
            "gridcolor": "white",
            "gridwidth": 2,
            "linecolor": "white",
            "showbackground": true,
            "ticks": "",
            "zerolinecolor": "white"
           },
           "yaxis": {
            "backgroundcolor": "#E5ECF6",
            "gridcolor": "white",
            "gridwidth": 2,
            "linecolor": "white",
            "showbackground": true,
            "ticks": "",
            "zerolinecolor": "white"
           },
           "zaxis": {
            "backgroundcolor": "#E5ECF6",
            "gridcolor": "white",
            "gridwidth": 2,
            "linecolor": "white",
            "showbackground": true,
            "ticks": "",
            "zerolinecolor": "white"
           }
          },
          "shapedefaults": {
           "line": {
            "color": "#2a3f5f"
           }
          },
          "ternary": {
           "aaxis": {
            "gridcolor": "white",
            "linecolor": "white",
            "ticks": ""
           },
           "baxis": {
            "gridcolor": "white",
            "linecolor": "white",
            "ticks": ""
           },
           "bgcolor": "#E5ECF6",
           "caxis": {
            "gridcolor": "white",
            "linecolor": "white",
            "ticks": ""
           }
          },
          "title": {
           "x": 0.05
          },
          "xaxis": {
           "automargin": true,
           "gridcolor": "white",
           "linecolor": "white",
           "ticks": "",
           "title": {
            "standoff": 15
           },
           "zerolinecolor": "white",
           "zerolinewidth": 2
          },
          "yaxis": {
           "automargin": true,
           "gridcolor": "white",
           "linecolor": "white",
           "ticks": "",
           "title": {
            "standoff": 15
           },
           "zerolinecolor": "white",
           "zerolinewidth": 2
          }
         }
        },
        "title": {
         "text": "Order Type by Date"
        },
        "xaxis": {
         "title": {
          "text": "Date"
         }
        },
        "yaxis": {
         "title": {
          "text": "2D High In Pips"
         }
        }
       }
      },
      "text/html": [
       "<div>                            <div id=\"7cb42fdd-70b9-4495-b0cd-8b5fc571e846\" class=\"plotly-graph-div\" style=\"height:525px; width:100%;\"></div>            <script type=\"text/javascript\">                require([\"plotly\"], function(Plotly) {                    window.PLOTLYENV=window.PLOTLYENV || {};                                    if (document.getElementById(\"7cb42fdd-70b9-4495-b0cd-8b5fc571e846\")) {                    Plotly.newPlot(                        \"7cb42fdd-70b9-4495-b0cd-8b5fc571e846\",                        [{\"marker\":{\"color\":[\"green\",\"green\",\"green\",\"RED\",\"RED\",\"RED\",\"green\",\"green\",\"green\",\"green\",\"green\",\"green\",\"green\",\"green\",\"green\",\"RED\",\"green\",\"green\",\"green\",\"green\",\"green\",\"green\",\"green\",\"RED\",\"green\",\"green\",\"green\",\"green\",\"green\",\"green\",\"RED\",\"green\",\"green\",\"green\",\"green\",\"green\",\"green\",\"green\",\"RED\",\"RED\",\"RED\",\"RED\",\"RED\",\"RED\",\"RED\",\"RED\",\"RED\",\"RED\",\"RED\",\"RED\",\"RED\",\"RED\",\"RED\",\"RED\",\"RED\",\"RED\",\"RED\",\"RED\",\"RED\",\"green\",\"green\",\"green\",\"RED\",\"RED\",\"RED\",\"RED\",\"RED\",\"RED\",\"RED\",\"RED\",\"RED\",\"RED\",\"green\",\"green\",\"green\",\"green\",\"green\",\"green\",\"green\",\"green\",\"green\",\"green\",\"RED\",\"RED\",\"RED\",\"RED\",\"green\",\"RED\",\"green\",\"green\",\"green\",\"green\",\"RED\",\"green\",\"green\",\"green\",\"RED\",\"RED\",\"RED\",\"green\",\"RED\",\"green\",\"green\",\"green\",\"green\",\"RED\",\"RED\",\"RED\",\"RED\",\"RED\",\"RED\",\"RED\",\"RED\",\"RED\",\"RED\",\"RED\",\"RED\",\"RED\",\"RED\",\"green\",\"RED\",\"green\",\"green\",\"RED\",\"RED\",\"RED\",\"green\",\"green\",\"green\",\"green\",\"green\",\"green\",\"RED\",\"RED\",\"green\",\"RED\",\"RED\",\"RED\",\"RED\",\"RED\",\"RED\",\"RED\",\"RED\",\"RED\",\"green\",\"green\",\"RED\",\"RED\",\"RED\",\"green\",\"green\",\"green\",\"green\",\"RED\",\"RED\",\"RED\",\"RED\",\"RED\",\"green\",\"green\",\"green\",\"green\",\"RED\",\"RED\",\"green\",\"green\",\"green\",\"green\",\"green\",\"green\",\"green\",\"RED\",\"RED\",\"RED\",\"RED\",\"green\",\"green\",\"green\",\"green\",\"green\",\"RED\",\"green\",\"green\",\"RED\",\"RED\",\"RED\",\"RED\",\"RED\",\"RED\",\"RED\",\"RED\",\"RED\",\"green\",\"green\",\"green\",\"green\",\"green\",\"green\",\"green\",\"green\",\"green\",\"green\",\"RED\",\"RED\",\"RED\",\"RED\",\"green\",\"green\",\"green\",\"green\",\"green\",\"RED\",\"RED\",\"RED\",\"RED\",\"RED\",\"RED\",\"RED\",\"RED\",\"RED\",\"RED\",\"RED\",\"RED\",\"RED\",\"RED\",\"RED\",\"green\",\"green\",\"green\",\"green\",\"green\",\"RED\",\"RED\",\"RED\",\"RED\",\"RED\",\"RED\",\"RED\",\"RED\",\"RED\",\"RED\",\"RED\",\"RED\",\"RED\",\"RED\",\"green\",\"green\",\"green\",\"green\",\"green\",\"green\",\"green\",\"green\",\"green\",\"green\",\"RED\",\"RED\",\"RED\",\"RED\",\"RED\",\"RED\",\"RED\",\"RED\",\"RED\",\"RED\",\"RED\",\"RED\",\"RED\",\"RED\",\"RED\",\"RED\",\"RED\",\"RED\",\"RED\",\"green\",\"green\",\"green\",\"RED\",\"green\",\"green\",\"green\",\"green\",\"green\",\"green\",\"green\",\"green\",\"green\",\"green\",\"green\",\"RED\",\"green\",\"green\",\"RED\",\"green\",\"RED\",\"RED\",\"RED\",\"RED\",\"RED\",\"RED\",\"RED\",\"green\",\"green\",\"green\",\"green\",\"green\",\"green\",\"green\",\"RED\",\"RED\",\"RED\",\"green\",\"green\",\"green\",\"RED\",\"green\",\"green\",\"green\",\"green\",\"green\",\"green\",\"green\",\"green\",\"green\",\"green\",\"green\",\"green\",\"green\",\"green\",\"green\",\"RED\",\"RED\",\"RED\",\"RED\",\"RED\",\"green\",\"green\",\"green\",\"green\",\"green\",\"green\",\"green\",\"green\",\"green\",\"green\",\"green\",\"green\",\"green\",\"green\",\"green\",\"green\",\"green\",\"green\",\"green\",\"green\",\"green\",\"green\",\"green\",\"RED\",\"RED\",\"RED\",\"RED\",\"RED\",\"RED\",\"RED\",\"green\",\"green\",\"green\",\"green\",\"green\",\"green\",\"green\",\"green\",\"green\",\"green\",\"green\",\"RED\",\"RED\",\"RED\",\"RED\",\"RED\",\"RED\",\"RED\",\"RED\",\"green\",\"RED\",\"RED\",\"green\",\"green\",\"RED\",\"RED\",\"RED\",\"RED\",\"RED\",\"RED\",\"green\",\"green\",\"RED\",\"RED\",\"RED\",\"RED\",\"RED\",\"RED\",\"RED\",\"green\",\"green\",\"green\",\"green\",\"green\",\"green\",\"green\",\"green\",\"RED\",\"RED\",\"RED\",\"RED\",\"RED\",\"RED\",\"RED\",\"RED\",\"RED\",\"RED\",\"RED\",\"RED\",\"RED\",\"RED\",\"RED\",\"RED\",\"RED\",\"green\",\"green\",\"green\",\"RED\",\"RED\",\"RED\",\"RED\",\"RED\",\"green\",\"green\",\"green\",\"green\",\"green\",\"green\",\"RED\",\"green\",\"green\",\"green\",\"RED\",\"RED\",\"RED\",\"RED\",\"RED\",\"RED\",\"RED\",\"RED\",\"green\",\"green\",\"green\",\"green\",\"green\",\"green\",\"green\",\"RED\",\"RED\",\"green\",\"green\",\"green\",\"green\",\"green\",\"green\",\"RED\",\"RED\",\"RED\",\"RED\",\"RED\",\"RED\",\"RED\",\"RED\",\"RED\",\"RED\",\"RED\",\"RED\",\"RED\",\"green\",\"green\",\"green\"],\"opacity\":0.8,\"size\":10},\"mode\":\"markers\",\"x\":[\"2013-09-24T00:00:00\",\"2013-10-04T00:00:00\",\"2013-10-28T00:00:00\",\"2013-11-05T00:00:00\",\"2013-11-13T00:00:00\",\"2013-11-14T00:00:00\",\"2013-12-11T00:00:00\",\"2013-12-12T00:00:00\",\"2014-01-02T00:00:00\",\"2014-01-02T00:00:00\",\"2014-01-03T00:00:00\",\"2014-01-10T00:00:00\",\"2014-01-13T00:00:00\",\"2014-01-24T00:00:00\",\"2014-01-30T00:00:00\",\"2014-02-07T00:00:00\",\"2014-02-21T00:00:00\",\"2014-02-24T00:00:00\",\"2014-02-26T00:00:00\",\"2014-02-27T00:00:00\",\"2014-03-03T00:00:00\",\"2014-03-04T00:00:00\",\"2014-03-10T00:00:00\",\"2014-03-26T00:00:00\",\"2014-04-03T00:00:00\",\"2014-04-23T00:00:00\",\"2014-04-24T00:00:00\",\"2014-04-27T00:00:00\",\"2014-05-09T00:00:00\",\"2014-05-23T00:00:00\",\"2014-06-05T00:00:00\",\"2014-07-08T00:00:00\",\"2014-07-09T00:00:00\",\"2014-07-10T00:00:00\",\"2014-07-11T00:00:00\",\"2014-07-14T00:00:00\",\"2014-07-14T00:00:00\",\"2014-07-17T00:00:00\",\"2014-09-01T00:00:00\",\"2014-09-01T00:00:00\",\"2014-09-16T00:00:00\",\"2014-09-18T00:00:00\",\"2014-10-08T00:00:00\",\"2014-10-16T00:00:00\",\"2014-10-24T00:00:00\",\"2014-11-12T00:00:00\",\"2014-11-25T00:00:00\",\"2014-12-01T00:00:00\",\"2014-12-03T00:00:00\",\"2014-12-04T00:00:00\",\"2014-12-09T00:00:00\",\"2014-12-31T00:00:00\",\"2015-01-14T00:00:00\",\"2015-01-15T00:00:00\",\"2015-01-16T00:00:00\",\"2015-01-20T00:00:00\",\"2015-01-27T00:00:00\",\"2015-01-27T00:00:00\",\"2015-02-03T00:00:00\",\"2015-02-26T00:00:00\",\"2015-02-27T00:00:00\",\"2015-03-01T00:00:00\",\"2015-03-18T00:00:00\",\"2015-03-20T00:00:00\",\"2015-03-23T00:00:00\",\"2015-03-25T00:00:00\",\"2015-03-26T00:00:00\",\"2015-03-27T00:00:00\",\"2015-04-01T00:00:00\",\"2015-04-03T00:00:00\",\"2015-04-14T00:00:00\",\"2015-04-15T00:00:00\",\"2015-05-01T00:00:00\",\"2015-05-05T00:00:00\",\"2015-05-06T00:00:00\",\"2015-05-19T00:00:00\",\"2015-05-22T00:00:00\",\"2015-06-24T00:00:00\",\"2015-06-26T00:00:00\",\"2015-06-28T00:00:00\",\"2015-06-30T00:00:00\",\"2015-06-30T00:00:00\",\"2015-07-10T00:00:00\",\"2015-07-10T00:00:00\",\"2015-07-13T00:00:00\",\"2015-07-14T00:00:00\",\"2015-07-23T00:00:00\",\"2015-07-27T00:00:00\",\"2015-07-31T00:00:00\",\"2015-08-03T00:00:00\",\"2015-08-04T00:00:00\",\"2015-08-04T00:00:00\",\"2015-08-10T00:00:00\",\"2015-08-17T00:00:00\",\"2015-08-20T00:00:00\",\"2015-08-26T00:00:00\",\"2015-09-08T00:00:00\",\"2015-10-02T00:00:00\",\"2015-10-06T00:00:00\",\"2015-10-22T00:00:00\",\"2015-10-30T00:00:00\",\"2015-11-03T00:00:00\",\"2015-11-04T00:00:00\",\"2015-11-04T00:00:00\",\"2015-11-05T00:00:00\",\"2015-11-11T00:00:00\",\"2015-11-12T00:00:00\",\"2015-11-13T00:00:00\",\"2015-11-13T00:00:00\",\"2015-11-17T00:00:00\",\"2015-11-18T00:00:00\",\"2015-11-18T00:00:00\",\"2015-12-03T00:00:00\",\"2015-12-09T00:00:00\",\"2016-01-22T00:00:00\",\"2016-01-26T00:00:00\",\"2016-01-28T00:00:00\",\"2016-02-19T00:00:00\",\"2016-03-02T00:00:00\",\"2016-03-22T00:00:00\",\"2016-03-28T00:00:00\",\"2016-04-01T00:00:00\",\"2016-04-04T00:00:00\",\"2016-04-11T00:00:00\",\"2016-04-15T00:00:00\",\"2016-04-18T00:00:00\",\"2016-05-03T00:00:00\",\"2016-05-04T00:00:00\",\"2016-05-20T00:00:00\",\"2016-05-23T00:00:00\",\"2016-05-31T00:00:00\",\"2016-05-31T00:00:00\",\"2016-06-17T00:00:00\",\"2016-06-17T00:00:00\",\"2016-06-23T00:00:00\",\"2016-07-12T00:00:00\",\"2016-07-14T00:00:00\",\"2016-07-20T00:00:00\",\"2016-07-21T00:00:00\",\"2016-07-27T00:00:00\",\"2016-07-28T00:00:00\",\"2016-08-16T00:00:00\",\"2016-08-17T00:00:00\",\"2016-08-17T00:00:00\",\"2016-09-09T00:00:00\",\"2016-09-13T00:00:00\",\"2016-09-28T00:00:00\",\"2016-10-31T00:00:00\",\"2016-11-01T00:00:00\",\"2016-12-07T00:00:00\",\"2016-12-08T00:00:00\",\"2016-12-09T00:00:00\",\"2016-12-14T00:00:00\",\"2016-12-30T00:00:00\",\"2017-01-04T00:00:00\",\"2017-01-05T00:00:00\",\"2017-01-12T00:00:00\",\"2017-01-17T00:00:00\",\"2017-01-30T00:00:00\",\"2017-01-31T00:00:00\",\"2017-02-02T00:00:00\",\"2017-02-24T00:00:00\",\"2017-03-15T00:00:00\",\"2017-03-15T00:00:00\",\"2017-03-28T00:00:00\",\"2017-04-04T00:00:00\",\"2017-04-06T00:00:00\",\"2017-05-11T00:00:00\",\"2017-05-23T00:00:00\",\"2017-05-24T00:00:00\",\"2017-05-25T00:00:00\",\"2017-06-19T00:00:00\",\"2017-06-23T00:00:00\",\"2017-06-23T00:00:00\",\"2017-06-27T00:00:00\",\"2017-07-07T00:00:00\",\"2017-07-20T00:00:00\",\"2017-07-21T00:00:00\",\"2017-08-03T00:00:00\",\"2017-08-04T00:00:00\",\"2017-08-25T00:00:00\",\"2017-09-25T00:00:00\",\"2017-09-26T00:00:00\",\"2017-10-23T00:00:00\",\"2017-10-23T00:00:00\",\"2017-10-25T00:00:00\",\"2017-10-30T00:00:00\",\"2017-11-06T00:00:00\",\"2017-11-07T00:00:00\",\"2017-11-09T00:00:00\",\"2017-11-10T00:00:00\",\"2017-11-14T00:00:00\",\"2017-12-06T00:00:00\",\"2017-12-08T00:00:00\",\"2018-01-09T00:00:00\",\"2018-01-10T00:00:00\",\"2018-01-10T00:00:00\",\"2018-02-02T00:00:00\",\"2018-02-19T00:00:00\",\"2018-02-19T00:00:00\",\"2018-02-20T00:00:00\",\"2018-02-21T00:00:00\",\"2018-03-06T00:00:00\",\"2018-03-07T00:00:00\",\"2018-03-08T00:00:00\",\"2018-03-12T00:00:00\",\"2018-03-19T00:00:00\",\"2018-03-28T00:00:00\",\"2018-04-18T00:00:00\",\"2018-04-18T00:00:00\",\"2018-04-19T00:00:00\",\"2018-06-01T00:00:00\",\"2018-06-05T00:00:00\",\"2018-06-21T00:00:00\",\"2018-06-22T00:00:00\",\"2018-06-25T00:00:00\",\"2018-06-25T00:00:00\",\"2018-06-29T00:00:00\",\"2018-07-03T00:00:00\",\"2018-07-03T00:00:00\",\"2018-07-13T00:00:00\",\"2018-07-20T00:00:00\",\"2018-07-24T00:00:00\",\"2018-07-30T00:00:00\",\"2018-08-20T00:00:00\",\"2018-09-05T00:00:00\",\"2018-09-21T00:00:00\",\"2018-09-24T00:00:00\",\"2018-09-27T00:00:00\",\"2018-10-14T00:00:00\",\"2018-10-17T00:00:00\",\"2018-11-01T00:00:00\",\"2018-11-13T00:00:00\",\"2018-11-14T00:00:00\",\"2018-11-22T00:00:00\",\"2018-11-26T00:00:00\",\"2018-11-28T00:00:00\",\"2018-12-04T00:00:00\",\"2018-12-06T00:00:00\",\"2018-12-07T00:00:00\",\"2018-12-18T00:00:00\",\"2018-12-18T00:00:00\",\"2018-12-19T00:00:00\",\"2018-12-20T00:00:00\",\"2019-01-04T00:00:00\",\"2019-01-15T00:00:00\",\"2019-01-21T00:00:00\",\"2019-02-01T00:00:00\",\"2019-02-04T00:00:00\",\"2019-03-05T00:00:00\",\"2019-03-05T00:00:00\",\"2019-03-05T00:00:00\",\"2019-03-07T00:00:00\",\"2019-03-20T00:00:00\",\"2019-03-21T00:00:00\",\"2019-04-09T00:00:00\",\"2019-04-10T00:00:00\",\"2019-04-10T00:00:00\",\"2019-04-12T00:00:00\",\"2019-04-14T00:00:00\",\"2019-04-30T00:00:00\",\"2019-06-03T00:00:00\",\"2019-06-04T00:00:00\",\"2019-06-19T00:00:00\",\"2019-07-11T00:00:00\",\"2019-07-12T00:00:00\",\"2019-07-18T00:00:00\",\"2019-07-19T00:00:00\",\"2019-07-22T00:00:00\",\"2019-07-24T00:00:00\",\"2019-07-25T00:00:00\",\"2019-08-15T00:00:00\",\"2019-08-16T00:00:00\",\"2019-09-04T00:00:00\",\"2019-09-23T00:00:00\",\"2019-09-24T00:00:00\",\"2019-09-25T00:00:00\",\"2019-10-10T00:00:00\",\"2019-10-25T00:00:00\",\"2019-10-27T00:00:00\",\"2019-11-04T00:00:00\",\"2019-11-05T00:00:00\",\"2019-11-06T00:00:00\",\"2019-11-22T00:00:00\",\"2019-12-17T00:00:00\",\"2020-01-03T00:00:00\",\"2020-01-07T00:00:00\",\"2020-01-07T00:00:00\",\"2020-01-08T00:00:00\",\"2020-01-21T00:00:00\",\"2020-01-24T00:00:00\",\"2020-01-27T00:00:00\",\"2020-01-30T00:00:00\",\"2020-02-03T00:00:00\",\"2020-02-05T00:00:00\",\"2020-02-12T00:00:00\",\"2020-02-13T00:00:00\",\"2020-02-21T00:00:00\",\"2020-02-25T00:00:00\",\"2020-03-04T00:00:00\",\"2020-03-26T00:00:00\",\"2020-04-16T00:00:00\",\"2020-04-17T00:00:00\",\"2020-04-20T00:00:00\",\"2020-04-20T00:00:00\",\"2020-05-03T00:00:00\",\"2020-05-05T00:00:00\",\"2020-05-05T00:00:00\",\"2020-05-19T00:00:00\",\"2020-05-20T00:00:00\",\"2020-05-26T00:00:00\",\"2020-06-11T00:00:00\",\"2020-06-12T00:00:00\",\"2020-06-16T00:00:00\",\"2020-07-01T00:00:00\",\"2020-07-13T00:00:00\",\"2020-07-14T00:00:00\",\"2020-07-16T00:00:00\",\"2020-07-16T00:00:00\",\"2020-07-17T00:00:00\",\"2020-07-19T00:00:00\",\"2020-08-11T00:00:00\",\"2020-08-12T00:00:00\",\"2020-08-13T00:00:00\",\"2020-08-19T00:00:00\",\"2020-08-21T00:00:00\",\"2020-09-03T00:00:00\",\"2020-09-03T00:00:00\",\"2020-09-04T00:00:00\",\"2020-09-06T00:00:00\",\"2020-09-16T00:00:00\",\"2020-09-17T00:00:00\",\"2020-09-18T00:00:00\",\"2020-09-28T00:00:00\",\"2020-09-30T00:00:00\",\"2020-10-15T00:00:00\",\"2020-10-26T00:00:00\",\"2020-10-27T00:00:00\",\"2020-10-28T00:00:00\",\"2020-11-12T00:00:00\",\"2020-12-02T00:00:00\",\"2020-12-07T00:00:00\",\"2020-12-07T00:00:00\",\"2020-12-09T00:00:00\",\"2020-12-09T00:00:00\",\"2020-12-20T00:00:00\",\"2020-12-21T00:00:00\",\"2020-12-28T00:00:00\",\"2021-01-06T00:00:00\",\"2021-01-07T00:00:00\",\"2021-01-08T00:00:00\",\"2021-01-15T00:00:00\",\"2021-01-26T00:00:00\",\"2021-01-28T00:00:00\",\"2021-01-29T00:00:00\",\"2021-02-01T00:00:00\",\"2021-02-02T00:00:00\",\"2021-02-25T00:00:00\",\"2021-03-29T00:00:00\",\"2021-03-31T00:00:00\",\"2021-03-31T00:00:00\",\"2021-04-01T00:00:00\",\"2021-04-14T00:00:00\",\"2021-04-14T00:00:00\",\"2021-04-15T00:00:00\",\"2021-04-22T00:00:00\",\"2021-04-23T00:00:00\",\"2021-04-27T00:00:00\",\"2021-04-28T00:00:00\",\"2021-04-28T00:00:00\",\"2021-04-30T00:00:00\",\"2021-05-26T00:00:00\",\"2021-05-28T00:00:00\",\"2021-06-01T00:00:00\",\"2021-06-03T00:00:00\",\"2021-06-03T00:00:00\",\"2021-06-23T00:00:00\",\"2021-07-05T00:00:00\",\"2021-07-05T00:00:00\",\"2021-07-06T00:00:00\",\"2021-07-09T00:00:00\",\"2021-07-22T00:00:00\",\"2021-07-23T00:00:00\",\"2021-07-26T00:00:00\",\"2021-08-06T00:00:00\",\"2021-08-25T00:00:00\",\"2021-08-27T00:00:00\",\"2021-09-14T00:00:00\",\"2021-09-16T00:00:00\",\"2021-09-23T00:00:00\",\"2021-09-23T00:00:00\",\"2021-09-28T00:00:00\",\"2021-10-04T00:00:00\",\"2021-10-06T00:00:00\",\"2021-10-07T00:00:00\",\"2021-10-27T00:00:00\",\"2021-10-29T00:00:00\",\"2021-11-17T00:00:00\",\"2021-11-18T00:00:00\",\"2021-12-10T00:00:00\",\"2021-12-15T00:00:00\",\"2021-12-15T00:00:00\",\"2021-12-16T00:00:00\",\"2021-12-21T00:00:00\",\"2022-01-18T00:00:00\",\"2022-01-19T00:00:00\",\"2022-01-20T00:00:00\",\"2022-02-09T00:00:00\",\"2022-02-11T00:00:00\",\"2022-02-14T00:00:00\",\"2022-02-22T00:00:00\",\"2022-02-23T00:00:00\",\"2022-03-16T00:00:00\",\"2022-03-17T00:00:00\",\"2022-03-18T00:00:00\",\"2022-03-30T00:00:00\",\"2022-03-31T00:00:00\",\"2022-04-05T00:00:00\",\"2022-04-13T00:00:00\",\"2022-04-14T00:00:00\",\"2022-04-15T00:00:00\",\"2022-04-20T00:00:00\",\"2022-05-04T00:00:00\",\"2022-05-16T00:00:00\",\"2022-06-16T00:00:00\",\"2022-06-21T00:00:00\",\"2022-06-21T00:00:00\",\"2022-06-24T00:00:00\",\"2022-07-18T00:00:00\",\"2022-08-04T00:00:00\",\"2022-08-05T00:00:00\",\"2022-08-12T00:00:00\",\"2022-09-09T00:00:00\",\"2022-09-09T00:00:00\",\"2022-09-29T00:00:00\",\"2022-10-11T00:00:00\",\"2022-10-13T00:00:00\",\"2022-11-01T00:00:00\",\"2022-11-02T00:00:00\",\"2022-11-09T00:00:00\",\"2022-11-29T00:00:00\",\"2022-11-30T00:00:00\",\"2022-12-15T00:00:00\",\"2023-01-06T00:00:00\",\"2023-01-24T00:00:00\",\"2023-01-31T00:00:00\",\"2023-02-02T00:00:00\",\"2023-02-09T00:00:00\",\"2023-02-13T00:00:00\",\"2023-02-21T00:00:00\",\"2023-02-27T00:00:00\",\"2023-03-01T00:00:00\",\"2023-03-03T00:00:00\",\"2023-03-06T00:00:00\",\"2023-03-10T00:00:00\",\"2023-04-03T00:00:00\",\"2023-04-10T00:00:00\",\"2023-04-14T00:00:00\",\"2023-04-25T00:00:00\",\"2023-05-02T00:00:00\",\"2023-05-02T00:00:00\",\"2023-05-11T00:00:00\",\"2023-05-30T00:00:00\",\"2023-05-31T00:00:00\",\"2023-06-23T00:00:00\",\"2023-06-23T00:00:00\",\"2023-06-26T00:00:00\",\"2023-06-26T00:00:00\",\"2023-06-28T00:00:00\",\"2023-07-19T00:00:00\",\"2023-08-10T00:00:00\",\"2023-08-16T00:00:00\",\"2023-08-16T00:00:00\",\"2023-08-17T00:00:00\",\"2023-08-30T00:00:00\",\"2023-09-29T00:00:00\",\"2023-10-05T00:00:00\",\"2023-10-06T00:00:00\",\"2023-10-09T00:00:00\",\"2023-10-23T00:00:00\",\"2023-10-30T00:00:00\",\"2023-10-31T00:00:00\",\"2023-11-01T00:00:00\",\"2023-11-09T00:00:00\",\"2023-12-05T00:00:00\",\"2023-12-20T00:00:00\"],\"y\":[114.6,9.6,22.8,73.3,109.699999999999,67.2,51.599999999999994,13.9,31.3,30.599999999999998,28.799999999999,101.60000000000099,32.0,141.0,67.5,95.199999999999,110.400000000001,105.69999999999901,131.499999999999,137.0,86.600000000001,104.999999999999,1.599999999999,91.899999999998,4.999999999999001,51.499999999999005,83.199999999998,73.29999999999801,51.800000000001006,33.199999999999,45.399999999999,69.800000000002,63.4,37.200000000001,58.899999999999,77.0,115.90000000000201,5.399999999999,7.2,8.000000000001,131.9,222.4,58.599999999999,81.7,110.60000000000001,10.200000000000001,119.299999999999,28.799999999999,23.599999999999,25.299999999999,86.19999999999999,39.699999999998,11.699999999998,6.5,1.999999999999,15.0,118.3,43.899999999998,213.2,51.399999999999,63.799999999998,11.699999999998,31.299999999998,21.999999999998998,84.39999999999999,68.699999999999,35.699999999998,23.599999999999,8.9,55.6,158.49999999999898,279.500000000001,93.9,278.399999999998,347.8,117.39999999999799,-0.3999999999981796,86.8,69.2,84.2,54.699999999998,20.0,111.9,121.299999999999,149.999999999999,70.999999999998,18.400000000000002,120.799999999998,112.0,66.59999999999799,69.099999999999,87.899999999998,65.599999999998,128.299999999998,106.399999999999,3.899999999998,34.199999999999,18.199999999999,146.300000000001,33.6,157.3,72.2,32.099999999999,19.8,12.499999999999,27.399999999999,34.399999999998,44.199999999998,3.199999999998,120.099999999998,106.1,122.599999999999,58.199999999999,90.799999999999,34.3,56.800000000001,98.800000000001,-94.19999999999901,184.199999999998,54.899999999999004,226.79999999999998,78.3,19.199999999999,151.299999999998,191.5,225.599999999999,36.799999999999,28.299999999998,142.1,242.999999999999,60.400000000000006,2.4999999999980003,474.49999999999903,470.59999999999803,57.799999999998,187.499999999998,279.4,81.39999999999999,82.799999999998,78.79999999999801,121.199999999999,136.199999999999,161.20000000000098,144.8,84.49999999999999,56.800000000001,1.900000000001,112.699999999998,124.599999999999,114.6,127.39999999999901,143.4,4.699999999999,44.700000000001,115.89999999999901,105.299999999999,38.199999999999,82.5,181.099999999998,289.8,9.5,13.400000000001,162.20000000000098,177.70000000000002,74.499999999999,64.600000000001,41.8,21.599999999999,54.499999999999005,83.1,8.2,10.6,27.8,141.4,246.799999999998,51.700000000001,78.199999999999,104.900000000001,46.399999999999004,9.999999999998002,96.199999999999,61.500000000000995,25.999999999999,70.899999999998,68.30000000000099,24.699999999998997,122.7,3.199999999998,8.6,82.299999999999,76.899999999999,35.6,136.800000000001,35.0,45.299999999999,46.399999999999004,183.19999999999803,30.399999999999,60.199999999999,46.399999999999004,51.799999999999,31.499999999998998,10.799999999999,28.999999999999,10.399999999999,134.7,174.0,20.999999999999,54.199999999998994,32.2,6.399999999998999,51.29999999999799,98.500000000001,56.699999999998,25.699999999999,30.200000000000003,18.599999999999,-1.299999999999,61.999999999999,79.8,56.899999999999,25.000000000001,74.999999999998,34.499999999999005,150.20000000000002,125.8,93.199999999999,101.89999999999901,39.4,126.8,7.2999999999980005,130.79999999999902,86.30000000000099,42.499999999997996,19.400000000000002,0.0,27.5,24.599999999999003,4.5999999999989996,2.200000000001,55.500000000001,44.399999999999,54.400000000001,21.4,126.8,234.199999999999,169.20000000000002,57.3,39.8,37.500000000001,67.099999999999,34.3,34.699999999998,101.200000000001,61.7,10.999999999998,20.199999999998997,35.799999999999,11.999999999999998,27.999999999998998,129.699999999999,76.799999999999,60.400000000000006,93.29999999999801,16.800000000001,11.999999999999998,7.8,16.899999999999,7.999999999999,33.399999999998,13.999999999998,49.999999999997996,29.5,201.39999999999802,82.299999999999,74.699999999998,10.499999999999,311.2,63.5,86.199999999998,34.799999999998995,26.2,20.199999999998997,38.7,20.999999999999,144.4,51.2,52.199999999999996,18.7,112.99999999999999,33.3,8.000000000001,111.49999999999899,10.599999999998,1.4999999999999998,88.799999999999,45.699999999998994,43.59999999999901,23.199999999998,180.4,563.999999999997,83.4,77.0,32.2,14.800000000000999,38.4,48.900000000000006,11.799999999999,21.600000000001003,29.000000000001,60.999999999999,51.400000000001,95.399999999998,0.7999999999985796,115.89999999999901,101.999999999999,121.500000000001,65.8,111.599999999998,200.299999999999,220.900000000001,76.800000000001,95.60000000000001,92.29999999999801,157.4,40.699999999997,50.099999999999,40.699999999999996,71.000000000001,3.5,26.699999999998997,27.599999999997998,13.799999999998999,104.39999999999999,130.20000000000002,58.4,62.8,62.599999999999,25.2,126.999999999999,201.599999999999,182.200000000001,121.200000000001,42.200000000001005,7.5,123.8,161.1,166.300000000001,68.2,87.39999999999901,101.599999999999,21.299999999999002,105.399999999999,107.70000000000101,90.9,32.100000000000996,23.300000000001,10.599999999998,36.799999999999,52.300000000000004,63.90000000000099,88.799999999999,39.299999999998995,31.499999999998998,111.49999999999899,86.199999999998,73.099999999999,116.799999999999,101.599999999999,108.599999999998,53.100000000001,97.59999999999901,108.89999999999799,43.59999999999901,41.1,43.699999999999,20.400000000000002,41.899999999999004,40.699999999999996,2.6999999999989996,70.2,31.900000000000002,66.600000000001,140.0,28.699999999999,43.000000000000995,29.799999999999,45.899999999998,18.899999999999,26.2,0.1999999999990898,3.1,42.5,65.199999999998,78.599999999999,91.6,25.600000000001,22.699999999999,11.6,7.6000000000000005,114.3,112.499999999999,82.8,181.8,22.799999999998,49.899999999998,4.399999999999,112.100000000001,76.399999999998,61.1,69.299999999998,2.999999999999,63.59999999999899,39.600000000000996,85.69999999999901,23.699999999999,7.999999999999,30.799999999999002,53.9,-0.700000000000145,4.399999999999,35.199999999999,0.4000000000004,171.9,17.599999999999,8.699999999999001,35.199999999999,53.0,100.0,62.900000000001,110.29999999999801,37.099999999998,122.799999999998,136.79999999999902,274.999999999998,218.799999999999,164.59999999999897,115.0,103.600000000001,386.200000000001,360.40000000000003,368.2,82.99999999999899,125.399999999999,138.199999999999,63.200000000001,47.6,1.8,134.7,56.199999999999,83.8,7.399999999999,21.600000000001003,24.300000000001,211.79999999999902,244.4,118.599999999999,44.8,91.000000000001,122.8,130.79999999999902,28.099999999999,63.59999999999899,101.599999999999,40.999999999999,60.999999999999,47.9,48.399999999999,3.899999999998,32.400000000001,4.999999999999001,29.399999999999,54.599999999997,16.999999999998,32.9,3.6000000000009997,81.79999999999801,57.599999999999,132.20000000000002,54.799999999998995,51.400000000001,28.6,238.7,58.4,18.599999999999,103.899999999999],\"type\":\"scatter\"}],                        {\"template\":{\"data\":{\"histogram2dcontour\":[{\"type\":\"histogram2dcontour\",\"colorbar\":{\"outlinewidth\":0,\"ticks\":\"\"},\"colorscale\":[[0.0,\"#0d0887\"],[0.1111111111111111,\"#46039f\"],[0.2222222222222222,\"#7201a8\"],[0.3333333333333333,\"#9c179e\"],[0.4444444444444444,\"#bd3786\"],[0.5555555555555556,\"#d8576b\"],[0.6666666666666666,\"#ed7953\"],[0.7777777777777778,\"#fb9f3a\"],[0.8888888888888888,\"#fdca26\"],[1.0,\"#f0f921\"]]}],\"choropleth\":[{\"type\":\"choropleth\",\"colorbar\":{\"outlinewidth\":0,\"ticks\":\"\"}}],\"histogram2d\":[{\"type\":\"histogram2d\",\"colorbar\":{\"outlinewidth\":0,\"ticks\":\"\"},\"colorscale\":[[0.0,\"#0d0887\"],[0.1111111111111111,\"#46039f\"],[0.2222222222222222,\"#7201a8\"],[0.3333333333333333,\"#9c179e\"],[0.4444444444444444,\"#bd3786\"],[0.5555555555555556,\"#d8576b\"],[0.6666666666666666,\"#ed7953\"],[0.7777777777777778,\"#fb9f3a\"],[0.8888888888888888,\"#fdca26\"],[1.0,\"#f0f921\"]]}],\"heatmap\":[{\"type\":\"heatmap\",\"colorbar\":{\"outlinewidth\":0,\"ticks\":\"\"},\"colorscale\":[[0.0,\"#0d0887\"],[0.1111111111111111,\"#46039f\"],[0.2222222222222222,\"#7201a8\"],[0.3333333333333333,\"#9c179e\"],[0.4444444444444444,\"#bd3786\"],[0.5555555555555556,\"#d8576b\"],[0.6666666666666666,\"#ed7953\"],[0.7777777777777778,\"#fb9f3a\"],[0.8888888888888888,\"#fdca26\"],[1.0,\"#f0f921\"]]}],\"heatmapgl\":[{\"type\":\"heatmapgl\",\"colorbar\":{\"outlinewidth\":0,\"ticks\":\"\"},\"colorscale\":[[0.0,\"#0d0887\"],[0.1111111111111111,\"#46039f\"],[0.2222222222222222,\"#7201a8\"],[0.3333333333333333,\"#9c179e\"],[0.4444444444444444,\"#bd3786\"],[0.5555555555555556,\"#d8576b\"],[0.6666666666666666,\"#ed7953\"],[0.7777777777777778,\"#fb9f3a\"],[0.8888888888888888,\"#fdca26\"],[1.0,\"#f0f921\"]]}],\"contourcarpet\":[{\"type\":\"contourcarpet\",\"colorbar\":{\"outlinewidth\":0,\"ticks\":\"\"}}],\"contour\":[{\"type\":\"contour\",\"colorbar\":{\"outlinewidth\":0,\"ticks\":\"\"},\"colorscale\":[[0.0,\"#0d0887\"],[0.1111111111111111,\"#46039f\"],[0.2222222222222222,\"#7201a8\"],[0.3333333333333333,\"#9c179e\"],[0.4444444444444444,\"#bd3786\"],[0.5555555555555556,\"#d8576b\"],[0.6666666666666666,\"#ed7953\"],[0.7777777777777778,\"#fb9f3a\"],[0.8888888888888888,\"#fdca26\"],[1.0,\"#f0f921\"]]}],\"surface\":[{\"type\":\"surface\",\"colorbar\":{\"outlinewidth\":0,\"ticks\":\"\"},\"colorscale\":[[0.0,\"#0d0887\"],[0.1111111111111111,\"#46039f\"],[0.2222222222222222,\"#7201a8\"],[0.3333333333333333,\"#9c179e\"],[0.4444444444444444,\"#bd3786\"],[0.5555555555555556,\"#d8576b\"],[0.6666666666666666,\"#ed7953\"],[0.7777777777777778,\"#fb9f3a\"],[0.8888888888888888,\"#fdca26\"],[1.0,\"#f0f921\"]]}],\"mesh3d\":[{\"type\":\"mesh3d\",\"colorbar\":{\"outlinewidth\":0,\"ticks\":\"\"}}],\"scatter\":[{\"fillpattern\":{\"fillmode\":\"overlay\",\"size\":10,\"solidity\":0.2},\"type\":\"scatter\"}],\"parcoords\":[{\"type\":\"parcoords\",\"line\":{\"colorbar\":{\"outlinewidth\":0,\"ticks\":\"\"}}}],\"scatterpolargl\":[{\"type\":\"scatterpolargl\",\"marker\":{\"colorbar\":{\"outlinewidth\":0,\"ticks\":\"\"}}}],\"bar\":[{\"error_x\":{\"color\":\"#2a3f5f\"},\"error_y\":{\"color\":\"#2a3f5f\"},\"marker\":{\"line\":{\"color\":\"#E5ECF6\",\"width\":0.5},\"pattern\":{\"fillmode\":\"overlay\",\"size\":10,\"solidity\":0.2}},\"type\":\"bar\"}],\"scattergeo\":[{\"type\":\"scattergeo\",\"marker\":{\"colorbar\":{\"outlinewidth\":0,\"ticks\":\"\"}}}],\"scatterpolar\":[{\"type\":\"scatterpolar\",\"marker\":{\"colorbar\":{\"outlinewidth\":0,\"ticks\":\"\"}}}],\"histogram\":[{\"marker\":{\"pattern\":{\"fillmode\":\"overlay\",\"size\":10,\"solidity\":0.2}},\"type\":\"histogram\"}],\"scattergl\":[{\"type\":\"scattergl\",\"marker\":{\"colorbar\":{\"outlinewidth\":0,\"ticks\":\"\"}}}],\"scatter3d\":[{\"type\":\"scatter3d\",\"line\":{\"colorbar\":{\"outlinewidth\":0,\"ticks\":\"\"}},\"marker\":{\"colorbar\":{\"outlinewidth\":0,\"ticks\":\"\"}}}],\"scattermapbox\":[{\"type\":\"scattermapbox\",\"marker\":{\"colorbar\":{\"outlinewidth\":0,\"ticks\":\"\"}}}],\"scatterternary\":[{\"type\":\"scatterternary\",\"marker\":{\"colorbar\":{\"outlinewidth\":0,\"ticks\":\"\"}}}],\"scattercarpet\":[{\"type\":\"scattercarpet\",\"marker\":{\"colorbar\":{\"outlinewidth\":0,\"ticks\":\"\"}}}],\"carpet\":[{\"aaxis\":{\"endlinecolor\":\"#2a3f5f\",\"gridcolor\":\"white\",\"linecolor\":\"white\",\"minorgridcolor\":\"white\",\"startlinecolor\":\"#2a3f5f\"},\"baxis\":{\"endlinecolor\":\"#2a3f5f\",\"gridcolor\":\"white\",\"linecolor\":\"white\",\"minorgridcolor\":\"white\",\"startlinecolor\":\"#2a3f5f\"},\"type\":\"carpet\"}],\"table\":[{\"cells\":{\"fill\":{\"color\":\"#EBF0F8\"},\"line\":{\"color\":\"white\"}},\"header\":{\"fill\":{\"color\":\"#C8D4E3\"},\"line\":{\"color\":\"white\"}},\"type\":\"table\"}],\"barpolar\":[{\"marker\":{\"line\":{\"color\":\"#E5ECF6\",\"width\":0.5},\"pattern\":{\"fillmode\":\"overlay\",\"size\":10,\"solidity\":0.2}},\"type\":\"barpolar\"}],\"pie\":[{\"automargin\":true,\"type\":\"pie\"}]},\"layout\":{\"autotypenumbers\":\"strict\",\"colorway\":[\"#636efa\",\"#EF553B\",\"#00cc96\",\"#ab63fa\",\"#FFA15A\",\"#19d3f3\",\"#FF6692\",\"#B6E880\",\"#FF97FF\",\"#FECB52\"],\"font\":{\"color\":\"#2a3f5f\"},\"hovermode\":\"closest\",\"hoverlabel\":{\"align\":\"left\"},\"paper_bgcolor\":\"white\",\"plot_bgcolor\":\"#E5ECF6\",\"polar\":{\"bgcolor\":\"#E5ECF6\",\"angularaxis\":{\"gridcolor\":\"white\",\"linecolor\":\"white\",\"ticks\":\"\"},\"radialaxis\":{\"gridcolor\":\"white\",\"linecolor\":\"white\",\"ticks\":\"\"}},\"ternary\":{\"bgcolor\":\"#E5ECF6\",\"aaxis\":{\"gridcolor\":\"white\",\"linecolor\":\"white\",\"ticks\":\"\"},\"baxis\":{\"gridcolor\":\"white\",\"linecolor\":\"white\",\"ticks\":\"\"},\"caxis\":{\"gridcolor\":\"white\",\"linecolor\":\"white\",\"ticks\":\"\"}},\"coloraxis\":{\"colorbar\":{\"outlinewidth\":0,\"ticks\":\"\"}},\"colorscale\":{\"sequential\":[[0.0,\"#0d0887\"],[0.1111111111111111,\"#46039f\"],[0.2222222222222222,\"#7201a8\"],[0.3333333333333333,\"#9c179e\"],[0.4444444444444444,\"#bd3786\"],[0.5555555555555556,\"#d8576b\"],[0.6666666666666666,\"#ed7953\"],[0.7777777777777778,\"#fb9f3a\"],[0.8888888888888888,\"#fdca26\"],[1.0,\"#f0f921\"]],\"sequentialminus\":[[0.0,\"#0d0887\"],[0.1111111111111111,\"#46039f\"],[0.2222222222222222,\"#7201a8\"],[0.3333333333333333,\"#9c179e\"],[0.4444444444444444,\"#bd3786\"],[0.5555555555555556,\"#d8576b\"],[0.6666666666666666,\"#ed7953\"],[0.7777777777777778,\"#fb9f3a\"],[0.8888888888888888,\"#fdca26\"],[1.0,\"#f0f921\"]],\"diverging\":[[0,\"#8e0152\"],[0.1,\"#c51b7d\"],[0.2,\"#de77ae\"],[0.3,\"#f1b6da\"],[0.4,\"#fde0ef\"],[0.5,\"#f7f7f7\"],[0.6,\"#e6f5d0\"],[0.7,\"#b8e186\"],[0.8,\"#7fbc41\"],[0.9,\"#4d9221\"],[1,\"#276419\"]]},\"xaxis\":{\"gridcolor\":\"white\",\"linecolor\":\"white\",\"ticks\":\"\",\"title\":{\"standoff\":15},\"zerolinecolor\":\"white\",\"automargin\":true,\"zerolinewidth\":2},\"yaxis\":{\"gridcolor\":\"white\",\"linecolor\":\"white\",\"ticks\":\"\",\"title\":{\"standoff\":15},\"zerolinecolor\":\"white\",\"automargin\":true,\"zerolinewidth\":2},\"scene\":{\"xaxis\":{\"backgroundcolor\":\"#E5ECF6\",\"gridcolor\":\"white\",\"linecolor\":\"white\",\"showbackground\":true,\"ticks\":\"\",\"zerolinecolor\":\"white\",\"gridwidth\":2},\"yaxis\":{\"backgroundcolor\":\"#E5ECF6\",\"gridcolor\":\"white\",\"linecolor\":\"white\",\"showbackground\":true,\"ticks\":\"\",\"zerolinecolor\":\"white\",\"gridwidth\":2},\"zaxis\":{\"backgroundcolor\":\"#E5ECF6\",\"gridcolor\":\"white\",\"linecolor\":\"white\",\"showbackground\":true,\"ticks\":\"\",\"zerolinecolor\":\"white\",\"gridwidth\":2}},\"shapedefaults\":{\"line\":{\"color\":\"#2a3f5f\"}},\"annotationdefaults\":{\"arrowcolor\":\"#2a3f5f\",\"arrowhead\":0,\"arrowwidth\":1},\"geo\":{\"bgcolor\":\"white\",\"landcolor\":\"#E5ECF6\",\"subunitcolor\":\"white\",\"showland\":true,\"showlakes\":true,\"lakecolor\":\"white\"},\"title\":{\"x\":0.05},\"mapbox\":{\"style\":\"light\"}}},\"title\":{\"text\":\"Order Type by Date\"},\"xaxis\":{\"title\":{\"text\":\"Date\"}},\"yaxis\":{\"title\":{\"text\":\"2D High In Pips\"}}},                        {\"responsive\": true}                    ).then(function(){\n",
       "                            \n",
       "var gd = document.getElementById('7cb42fdd-70b9-4495-b0cd-8b5fc571e846');\n",
       "var x = new MutationObserver(function (mutations, observer) {{\n",
       "        var display = window.getComputedStyle(gd).display;\n",
       "        if (!display || display === 'none') {{\n",
       "            console.log([gd, 'removed!']);\n",
       "            Plotly.purge(gd);\n",
       "            observer.disconnect();\n",
       "        }}\n",
       "}});\n",
       "\n",
       "// Listen for the removal of the full notebook cells\n",
       "var notebookContainer = gd.closest('#notebook-container');\n",
       "if (notebookContainer) {{\n",
       "    x.observe(notebookContainer, {childList: true});\n",
       "}}\n",
       "\n",
       "// Listen for the clearing of the current output cell\n",
       "var outputEl = gd.closest('.output');\n",
       "if (outputEl) {{\n",
       "    x.observe(outputEl, {childList: true});\n",
       "}}\n",
       "\n",
       "                        })                };                });            </script>        </div>"
      ]
     },
     "metadata": {},
     "output_type": "display_data"
    }
   ],
   "source": [
    "import plotly.graph_objects as go\n",
    "\n",
    "# Create a list of colors based on the 'color_column'\n",
    "colors = ['green' if val == 'BUY' else 'RED' for val in df['Order Type']]\n",
    "\n",
    "fig = go.Figure(data=go.Scatter(\n",
    "    x=df['Date'],  # Access the 'x' column\n",
    "    y=df['2D High in Pips'],  # Access the 'y' column\n",
    "    mode='markers',\n",
    "    marker=dict(\n",
    "        size=10,\n",
    "        color=colors,  # Map colors from the 'color_column'\n",
    "        opacity=0.8\n",
    "    )\n",
    "))\n",
    "\n",
    "# Customize the layout\n",
    "fig.update_layout(\n",
    "    title=\"Order Type by Date\",\n",
    "    xaxis_title=\"Date\",\n",
    "    yaxis_title=\"2D High In Pips\",\n",
    "#     grid=True\n",
    ")\n",
    "fig.show()"
   ]
  },
  {
   "cell_type": "code",
   "execution_count": 13,
   "id": "98efd1eb",
   "metadata": {
    "ExecuteTime": {
     "end_time": "2024-02-27T03:00:06.068868Z",
     "start_time": "2024-02-27T03:00:05.935072Z"
    }
   },
   "outputs": [
    {
     "data": {
      "application/vnd.plotly.v1+json": {
       "config": {
        "plotlyServerURL": "https://plot.ly"
       },
       "data": [
        {
         "marker": {
          "color": [
           "green",
           "green",
           "green",
           "RED",
           "RED",
           "RED",
           "green",
           "green",
           "green",
           "green",
           "green",
           "green",
           "green",
           "green",
           "green",
           "RED",
           "green",
           "green",
           "green",
           "green",
           "green",
           "green",
           "green",
           "RED",
           "green",
           "green",
           "green",
           "green",
           "green",
           "green",
           "RED",
           "green",
           "green",
           "green",
           "green",
           "green",
           "green",
           "green",
           "RED",
           "RED",
           "RED",
           "RED",
           "RED",
           "RED",
           "RED",
           "RED",
           "RED",
           "RED",
           "RED",
           "RED",
           "RED",
           "RED",
           "RED",
           "RED",
           "RED",
           "RED",
           "RED",
           "RED",
           "RED",
           "green",
           "green",
           "green",
           "RED",
           "RED",
           "RED",
           "RED",
           "RED",
           "RED",
           "RED",
           "RED",
           "RED",
           "RED",
           "green",
           "green",
           "green",
           "green",
           "green",
           "green",
           "green",
           "green",
           "green",
           "green",
           "RED",
           "RED",
           "RED",
           "RED",
           "green",
           "RED",
           "green",
           "green",
           "green",
           "green",
           "RED",
           "green",
           "green",
           "green",
           "RED",
           "RED",
           "RED",
           "green",
           "RED",
           "green",
           "green",
           "green",
           "green",
           "RED",
           "RED",
           "RED",
           "RED",
           "RED",
           "RED",
           "RED",
           "RED",
           "RED",
           "RED",
           "RED",
           "RED",
           "RED",
           "RED",
           "green",
           "RED",
           "green",
           "green",
           "RED",
           "RED",
           "RED",
           "green",
           "green",
           "green",
           "green",
           "green",
           "green",
           "RED",
           "RED",
           "green",
           "RED",
           "RED",
           "RED",
           "RED",
           "RED",
           "RED",
           "RED",
           "RED",
           "RED",
           "green",
           "green",
           "RED",
           "RED",
           "RED",
           "green",
           "green",
           "green",
           "green",
           "RED",
           "RED",
           "RED",
           "RED",
           "RED",
           "green",
           "green",
           "green",
           "green",
           "RED",
           "RED",
           "green",
           "green",
           "green",
           "green",
           "green",
           "green",
           "green",
           "RED",
           "RED",
           "RED",
           "RED",
           "green",
           "green",
           "green",
           "green",
           "green",
           "RED",
           "green",
           "green",
           "RED",
           "RED",
           "RED",
           "RED",
           "RED",
           "RED",
           "RED",
           "RED",
           "RED",
           "green",
           "green",
           "green",
           "green",
           "green",
           "green",
           "green",
           "green",
           "green",
           "green",
           "RED",
           "RED",
           "RED",
           "RED",
           "green",
           "green",
           "green",
           "green",
           "green",
           "RED",
           "RED",
           "RED",
           "RED",
           "RED",
           "RED",
           "RED",
           "RED",
           "RED",
           "RED",
           "RED",
           "RED",
           "RED",
           "RED",
           "RED",
           "green",
           "green",
           "green",
           "green",
           "green",
           "RED",
           "RED",
           "RED",
           "RED",
           "RED",
           "RED",
           "RED",
           "RED",
           "RED",
           "RED",
           "RED",
           "RED",
           "RED",
           "RED",
           "green",
           "green",
           "green",
           "green",
           "green",
           "green",
           "green",
           "green",
           "green",
           "green",
           "RED",
           "RED",
           "RED",
           "RED",
           "RED",
           "RED",
           "RED",
           "RED",
           "RED",
           "RED",
           "RED",
           "RED",
           "RED",
           "RED",
           "RED",
           "RED",
           "RED",
           "RED",
           "RED",
           "green",
           "green",
           "green",
           "RED",
           "green",
           "green",
           "green",
           "green",
           "green",
           "green",
           "green",
           "green",
           "green",
           "green",
           "green",
           "RED",
           "green",
           "green",
           "RED",
           "green",
           "RED",
           "RED",
           "RED",
           "RED",
           "RED",
           "RED",
           "RED",
           "green",
           "green",
           "green",
           "green",
           "green",
           "green",
           "green",
           "RED",
           "RED",
           "RED",
           "green",
           "green",
           "green",
           "RED",
           "green",
           "green",
           "green",
           "green",
           "green",
           "green",
           "green",
           "green",
           "green",
           "green",
           "green",
           "green",
           "green",
           "green",
           "green",
           "RED",
           "RED",
           "RED",
           "RED",
           "RED",
           "green",
           "green",
           "green",
           "green",
           "green",
           "green",
           "green",
           "green",
           "green",
           "green",
           "green",
           "green",
           "green",
           "green",
           "green",
           "green",
           "green",
           "green",
           "green",
           "green",
           "green",
           "green",
           "green",
           "RED",
           "RED",
           "RED",
           "RED",
           "RED",
           "RED",
           "RED",
           "green",
           "green",
           "green",
           "green",
           "green",
           "green",
           "green",
           "green",
           "green",
           "green",
           "green",
           "RED",
           "RED",
           "RED",
           "RED",
           "RED",
           "RED",
           "RED",
           "RED",
           "green",
           "RED",
           "RED",
           "green",
           "green",
           "RED",
           "RED",
           "RED",
           "RED",
           "RED",
           "RED",
           "green",
           "green",
           "RED",
           "RED",
           "RED",
           "RED",
           "RED",
           "RED",
           "RED",
           "green",
           "green",
           "green",
           "green",
           "green",
           "green",
           "green",
           "green",
           "RED",
           "RED",
           "RED",
           "RED",
           "RED",
           "RED",
           "RED",
           "RED",
           "RED",
           "RED",
           "RED",
           "RED",
           "RED",
           "RED",
           "RED",
           "RED",
           "RED",
           "green",
           "green",
           "green",
           "RED",
           "RED",
           "RED",
           "RED",
           "RED",
           "green",
           "green",
           "green",
           "green",
           "green",
           "green",
           "RED",
           "green",
           "green",
           "green",
           "RED",
           "RED",
           "RED",
           "RED",
           "RED",
           "RED",
           "RED",
           "RED",
           "green",
           "green",
           "green",
           "green",
           "green",
           "green",
           "green",
           "RED",
           "RED",
           "green",
           "green",
           "green",
           "green",
           "green",
           "green",
           "RED",
           "RED",
           "RED",
           "RED",
           "RED",
           "RED",
           "RED",
           "RED",
           "RED",
           "RED",
           "RED",
           "RED",
           "RED",
           "green",
           "green",
           "green"
          ],
          "opacity": 0.8,
          "size": 10
         },
         "mode": "markers",
         "type": "scatter",
         "x": [
          1.59814,
          1.61085,
          1.61428,
          1.60446,
          1.6025,
          1.60818,
          1.6367,
          1.63584,
          1.64431,
          1.64438,
          1.64158,
          1.64156,
          1.64346,
          1.64844,
          1.64523,
          1.63925,
          1.66166,
          1.66213,
          1.66374,
          1.66319,
          1.66552,
          1.6673,
          1.67014,
          1.65596,
          1.66062,
          1.67788,
          1.67744,
          1.67843,
          1.68518,
          1.68492,
          1.68006,
          1.70982,
          1.71046,
          1.71138,
          1.71149,
          1.71154,
          1.70765,
          1.71122,
          1.66254,
          1.66072,
          1.6277,
          1.63026,
          1.6168,
          1.60693,
          1.6072,
          1.59306,
          1.57067,
          1.57353,
          1.5702,
          1.57003,
          1.56708,
          1.55804,
          1.5257,
          1.52284,
          1.52246,
          1.5198,
          1.51054,
          1.51798,
          1.51011,
          1.54074,
          1.5395,
          1.54098,
          1.49788,
          1.49681,
          1.48998,
          1.49254,
          1.49584,
          1.48976,
          1.48626,
          1.4926,
          1.47825,
          1.47741,
          1.51158,
          1.51696,
          1.51752,
          1.55502,
          1.55388,
          1.56834,
          1.572,
          1.5705,
          1.5721,
          1.57246,
          1.55232,
          1.55177,
          1.55258,
          1.56048,
          1.55558,
          1.55692,
          1.55662,
          1.55861,
          1.55836,
          1.55648,
          1.55946,
          1.55889,
          1.56204,
          1.56796,
          1.53786,
          1.52264,
          1.5226,
          1.53856,
          1.5342,
          1.53734,
          1.53696,
          1.53819,
          1.53806,
          1.52392,
          1.52322,
          1.52224,
          1.52356,
          1.52157,
          1.52297,
          1.52132,
          1.51008,
          1.51112,
          1.43288,
          1.43509,
          1.43146,
          1.44013,
          1.40646,
          1.42565,
          1.42248,
          1.42433,
          1.42724,
          1.41968,
          1.42275,
          1.41934,
          1.45351,
          1.45436,
          1.45003,
          1.44638,
          1.45932,
          1.45148,
          1.42935,
          1.43138,
          1.45238,
          1.31509,
          1.32012,
          1.32106,
          1.32092,
          1.3223,
          1.31806,
          1.30358,
          1.30246,
          1.3041,
          1.32628,
          1.32232,
          1.30507,
          1.22418,
          1.22299,
          1.25905,
          1.25702,
          1.25808,
          1.25635,
          1.23436,
          1.23166,
          1.23272,
          1.22666,
          1.23335,
          1.24791,
          1.24166,
          1.25287,
          1.24656,
          1.22278,
          1.22213,
          1.245,
          1.24368,
          1.24641,
          1.29139,
          1.29606,
          1.2932,
          1.29582,
          1.28042,
          1.27318,
          1.27206,
          1.27296,
          1.28761,
          1.29712,
          1.29791,
          1.31182,
          1.3082,
          1.28824,
          1.34534,
          1.34382,
          1.32004,
          1.32087,
          1.32546,
          1.31984,
          1.31742,
          1.31679,
          1.31474,
          1.31528,
          1.3179,
          1.33842,
          1.33968,
          1.35171,
          1.35184,
          1.35169,
          1.41198,
          1.3964,
          1.39778,
          1.39724,
          1.39779,
          1.3906,
          1.38812,
          1.38864,
          1.38607,
          1.39144,
          1.40756,
          1.41928,
          1.42138,
          1.41934,
          1.33475,
          1.33743,
          1.32587,
          1.32661,
          1.32616,
          1.32732,
          1.32097,
          1.319,
          1.31951,
          1.32362,
          1.3135,
          1.3138,
          1.31386,
          1.27867,
          1.2903,
          1.30828,
          1.31165,
          1.3124,
          1.31102,
          1.31438,
          1.29102,
          1.29866,
          1.29878,
          1.28703,
          1.28568,
          1.28225,
          1.28096,
          1.27952,
          1.27708,
          1.26507,
          1.26634,
          1.26534,
          1.26864,
          1.26712,
          1.2731,
          1.28358,
          1.3046,
          1.30635,
          1.31612,
          1.31178,
          1.31506,
          1.3118,
          1.31496,
          1.31618,
          1.31092,
          1.31126,
          1.3097,
          1.31208,
          1.30912,
          1.29726,
          1.26668,
          1.26832,
          1.2634,
          1.25622,
          1.2567,
          1.25487,
          1.25034,
          1.25035,
          1.24848,
          1.25042,
          1.21253,
          1.21458,
          1.21524,
          1.2421,
          1.24286,
          1.24337,
          1.2396,
          1.28131,
          1.28187,
          1.28827,
          1.2871,
          1.2858,
          1.28734,
          1.3194,
          1.30682,
          1.31184,
          1.31174,
          1.31052,
          1.30402,
          1.30721,
          1.30618,
          1.30983,
          1.30594,
          1.30659,
          1.29808,
          1.30239,
          1.29742,
          1.29946,
          1.2872,
          1.19216,
          1.24394,
          1.24406,
          1.246,
          1.24334,
          1.24454,
          1.24322,
          1.24418,
          1.2266,
          1.22586,
          1.23022,
          1.26019,
          1.25923,
          1.2593,
          1.2414,
          1.25476,
          1.25281,
          1.2559,
          1.2554,
          1.25162,
          1.2547,
          1.3048,
          1.30372,
          1.30505,
          1.30978,
          1.31082,
          1.3269,
          1.32784,
          1.32222,
          1.32541,
          1.29806,
          1.29723,
          1.29861,
          1.28255,
          1.28486,
          1.29474,
          1.30168,
          1.3017,
          1.30008,
          1.31155,
          1.33048,
          1.32672,
          1.33571,
          1.33713,
          1.33687,
          1.33752,
          1.34097,
          1.34523,
          1.35652,
          1.35484,
          1.35688,
          1.36059,
          1.36534,
          1.36502,
          1.3667,
          1.36784,
          1.36872,
          1.40172,
          1.381,
          1.38002,
          1.37886,
          1.37914,
          1.37697,
          1.37965,
          1.37781,
          1.38433,
          1.38564,
          1.38598,
          1.3875,
          1.3868,
          1.38787,
          1.41218,
          1.41416,
          1.41595,
          1.4162,
          1.41568,
          1.3981,
          1.38568,
          1.3858,
          1.38609,
          1.38402,
          1.37687,
          1.37669,
          1.37542,
          1.38659,
          1.3738,
          1.3778,
          1.3808,
          1.38226,
          1.37246,
          1.37354,
          1.37144,
          1.36055,
          1.35938,
          1.35952,
          1.37236,
          1.3673,
          1.34909,
          1.34982,
          1.3268,
          1.32603,
          1.32621,
          1.32918,
          1.3254,
          1.36264,
          1.36122,
          1.35981,
          1.35316,
          1.35332,
          1.35131,
          1.35514,
          1.35506,
          1.3148,
          1.31706,
          1.31882,
          1.3159,
          1.3144,
          1.31362,
          1.30936,
          1.30795,
          1.307,
          1.30554,
          1.26358,
          1.23294,
          1.23806,
          1.23093,
          1.22794,
          1.22796,
          1.19458,
          1.21129,
          1.20276,
          1.21113,
          1.1588,
          1.16016,
          1.10596,
          1.1162,
          1.12162,
          1.145,
          1.14614,
          1.14106,
          1.19506,
          1.19428,
          1.2159,
          1.20846,
          1.22925,
          1.23386,
          1.23446,
          1.21922,
          1.21356,
          1.20916,
          1.20596,
          1.2068,
          1.20437,
          1.2041,
          1.19882,
          1.2281,
          1.23517,
          1.24054,
          1.24246,
          1.24708,
          1.24681,
          1.25129,
          1.24234,
          1.24432,
          1.27078,
          1.26986,
          1.27117,
          1.27112,
          1.27113,
          1.29324,
          1.2781,
          1.27582,
          1.2733,
          1.27706,
          1.27137,
          1.22596,
          1.21798,
          1.2234,
          1.21838,
          1.2234,
          1.21494,
          1.21722,
          1.21511,
          1.2222,
          1.25952,
          1.26404
         ],
         "y": [
          114.6,
          9.6,
          22.8,
          73.3,
          109.699999999999,
          67.2,
          51.599999999999994,
          13.9,
          31.3,
          30.599999999999998,
          28.799999999999,
          101.60000000000099,
          32,
          141,
          67.5,
          95.199999999999,
          110.400000000001,
          105.69999999999901,
          131.499999999999,
          137,
          86.600000000001,
          104.999999999999,
          1.599999999999,
          91.899999999998,
          4.999999999999001,
          51.499999999999005,
          83.199999999998,
          73.29999999999801,
          51.800000000001006,
          33.199999999999,
          45.399999999999,
          69.800000000002,
          63.4,
          37.200000000001,
          58.899999999999,
          77,
          115.90000000000201,
          5.399999999999,
          7.2,
          8.000000000001,
          131.9,
          222.4,
          58.599999999999,
          81.7,
          110.60000000000001,
          10.200000000000001,
          119.299999999999,
          28.799999999999,
          23.599999999999,
          25.299999999999,
          86.19999999999999,
          39.699999999998,
          11.699999999998,
          6.5,
          1.999999999999,
          15,
          118.3,
          43.899999999998,
          213.2,
          51.399999999999,
          63.799999999998,
          11.699999999998,
          31.299999999998,
          21.999999999998998,
          84.39999999999999,
          68.699999999999,
          35.699999999998,
          23.599999999999,
          8.9,
          55.6,
          158.49999999999898,
          279.500000000001,
          93.9,
          278.399999999998,
          347.8,
          117.39999999999799,
          -0.3999999999981796,
          86.8,
          69.2,
          84.2,
          54.699999999998,
          20,
          111.9,
          121.299999999999,
          149.999999999999,
          70.999999999998,
          18.400000000000002,
          120.799999999998,
          112,
          66.59999999999799,
          69.099999999999,
          87.899999999998,
          65.599999999998,
          128.299999999998,
          106.399999999999,
          3.899999999998,
          34.199999999999,
          18.199999999999,
          146.300000000001,
          33.6,
          157.3,
          72.2,
          32.099999999999,
          19.8,
          12.499999999999,
          27.399999999999,
          34.399999999998,
          44.199999999998,
          3.199999999998,
          120.099999999998,
          106.1,
          122.599999999999,
          58.199999999999,
          90.799999999999,
          34.3,
          56.800000000001,
          98.800000000001,
          -94.19999999999901,
          184.199999999998,
          54.899999999999004,
          226.79999999999998,
          78.3,
          19.199999999999,
          151.299999999998,
          191.5,
          225.599999999999,
          36.799999999999,
          28.299999999998,
          142.1,
          242.999999999999,
          60.400000000000006,
          2.4999999999980003,
          474.49999999999903,
          470.59999999999803,
          57.799999999998,
          187.499999999998,
          279.4,
          81.39999999999999,
          82.799999999998,
          78.79999999999801,
          121.199999999999,
          136.199999999999,
          161.20000000000098,
          144.8,
          84.49999999999999,
          56.800000000001,
          1.900000000001,
          112.699999999998,
          124.599999999999,
          114.6,
          127.39999999999901,
          143.4,
          4.699999999999,
          44.700000000001,
          115.89999999999901,
          105.299999999999,
          38.199999999999,
          82.5,
          181.099999999998,
          289.8,
          9.5,
          13.400000000001,
          162.20000000000098,
          177.70000000000002,
          74.499999999999,
          64.600000000001,
          41.8,
          21.599999999999,
          54.499999999999005,
          83.1,
          8.2,
          10.6,
          27.8,
          141.4,
          246.799999999998,
          51.700000000001,
          78.199999999999,
          104.900000000001,
          46.399999999999004,
          9.999999999998002,
          96.199999999999,
          61.500000000000995,
          25.999999999999,
          70.899999999998,
          68.30000000000099,
          24.699999999998997,
          122.7,
          3.199999999998,
          8.6,
          82.299999999999,
          76.899999999999,
          35.6,
          136.800000000001,
          35,
          45.299999999999,
          46.399999999999004,
          183.19999999999803,
          30.399999999999,
          60.199999999999,
          46.399999999999004,
          51.799999999999,
          31.499999999998998,
          10.799999999999,
          28.999999999999,
          10.399999999999,
          134.7,
          174,
          20.999999999999,
          54.199999999998994,
          32.2,
          6.399999999998999,
          51.29999999999799,
          98.500000000001,
          56.699999999998,
          25.699999999999,
          30.200000000000003,
          18.599999999999,
          -1.299999999999,
          61.999999999999,
          79.8,
          56.899999999999,
          25.000000000001,
          74.999999999998,
          34.499999999999005,
          150.20000000000002,
          125.8,
          93.199999999999,
          101.89999999999901,
          39.4,
          126.8,
          7.2999999999980005,
          130.79999999999902,
          86.30000000000099,
          42.499999999997996,
          19.400000000000002,
          0,
          27.5,
          24.599999999999003,
          4.5999999999989996,
          2.200000000001,
          55.500000000001,
          44.399999999999,
          54.400000000001,
          21.4,
          126.8,
          234.199999999999,
          169.20000000000002,
          57.3,
          39.8,
          37.500000000001,
          67.099999999999,
          34.3,
          34.699999999998,
          101.200000000001,
          61.7,
          10.999999999998,
          20.199999999998997,
          35.799999999999,
          11.999999999999998,
          27.999999999998998,
          129.699999999999,
          76.799999999999,
          60.400000000000006,
          93.29999999999801,
          16.800000000001,
          11.999999999999998,
          7.8,
          16.899999999999,
          7.999999999999,
          33.399999999998,
          13.999999999998,
          49.999999999997996,
          29.5,
          201.39999999999802,
          82.299999999999,
          74.699999999998,
          10.499999999999,
          311.2,
          63.5,
          86.199999999998,
          34.799999999998995,
          26.2,
          20.199999999998997,
          38.7,
          20.999999999999,
          144.4,
          51.2,
          52.199999999999996,
          18.7,
          112.99999999999999,
          33.3,
          8.000000000001,
          111.49999999999899,
          10.599999999998,
          1.4999999999999998,
          88.799999999999,
          45.699999999998994,
          43.59999999999901,
          23.199999999998,
          180.4,
          563.999999999997,
          83.4,
          77,
          32.2,
          14.800000000000999,
          38.4,
          48.900000000000006,
          11.799999999999,
          21.600000000001003,
          29.000000000001,
          60.999999999999,
          51.400000000001,
          95.399999999998,
          0.7999999999985796,
          115.89999999999901,
          101.999999999999,
          121.500000000001,
          65.8,
          111.599999999998,
          200.299999999999,
          220.900000000001,
          76.800000000001,
          95.60000000000001,
          92.29999999999801,
          157.4,
          40.699999999997,
          50.099999999999,
          40.699999999999996,
          71.000000000001,
          3.5,
          26.699999999998997,
          27.599999999997998,
          13.799999999998999,
          104.39999999999999,
          130.20000000000002,
          58.4,
          62.8,
          62.599999999999,
          25.2,
          126.999999999999,
          201.599999999999,
          182.200000000001,
          121.200000000001,
          42.200000000001005,
          7.5,
          123.8,
          161.1,
          166.300000000001,
          68.2,
          87.39999999999901,
          101.599999999999,
          21.299999999999002,
          105.399999999999,
          107.70000000000101,
          90.9,
          32.100000000000996,
          23.300000000001,
          10.599999999998,
          36.799999999999,
          52.300000000000004,
          63.90000000000099,
          88.799999999999,
          39.299999999998995,
          31.499999999998998,
          111.49999999999899,
          86.199999999998,
          73.099999999999,
          116.799999999999,
          101.599999999999,
          108.599999999998,
          53.100000000001,
          97.59999999999901,
          108.89999999999799,
          43.59999999999901,
          41.1,
          43.699999999999,
          20.400000000000002,
          41.899999999999004,
          40.699999999999996,
          2.6999999999989996,
          70.2,
          31.900000000000002,
          66.600000000001,
          140,
          28.699999999999,
          43.000000000000995,
          29.799999999999,
          45.899999999998,
          18.899999999999,
          26.2,
          0.1999999999990898,
          3.1,
          42.5,
          65.199999999998,
          78.599999999999,
          91.6,
          25.600000000001,
          22.699999999999,
          11.6,
          7.6000000000000005,
          114.3,
          112.499999999999,
          82.8,
          181.8,
          22.799999999998,
          49.899999999998,
          4.399999999999,
          112.100000000001,
          76.399999999998,
          61.1,
          69.299999999998,
          2.999999999999,
          63.59999999999899,
          39.600000000000996,
          85.69999999999901,
          23.699999999999,
          7.999999999999,
          30.799999999999002,
          53.9,
          -0.700000000000145,
          4.399999999999,
          35.199999999999,
          0.4000000000004,
          171.9,
          17.599999999999,
          8.699999999999001,
          35.199999999999,
          53,
          100,
          62.900000000001,
          110.29999999999801,
          37.099999999998,
          122.799999999998,
          136.79999999999902,
          274.999999999998,
          218.799999999999,
          164.59999999999897,
          115,
          103.600000000001,
          386.200000000001,
          360.40000000000003,
          368.2,
          82.99999999999899,
          125.399999999999,
          138.199999999999,
          63.200000000001,
          47.6,
          1.8,
          134.7,
          56.199999999999,
          83.8,
          7.399999999999,
          21.600000000001003,
          24.300000000001,
          211.79999999999902,
          244.4,
          118.599999999999,
          44.8,
          91.000000000001,
          122.8,
          130.79999999999902,
          28.099999999999,
          63.59999999999899,
          101.599999999999,
          40.999999999999,
          60.999999999999,
          47.9,
          48.399999999999,
          3.899999999998,
          32.400000000001,
          4.999999999999001,
          29.399999999999,
          54.599999999997,
          16.999999999998,
          32.9,
          3.6000000000009997,
          81.79999999999801,
          57.599999999999,
          132.20000000000002,
          54.799999999998995,
          51.400000000001,
          28.6,
          238.7,
          58.4,
          18.599999999999,
          103.899999999999
         ]
        }
       ],
       "layout": {
        "template": {
         "data": {
          "bar": [
           {
            "error_x": {
             "color": "#2a3f5f"
            },
            "error_y": {
             "color": "#2a3f5f"
            },
            "marker": {
             "line": {
              "color": "#E5ECF6",
              "width": 0.5
             },
             "pattern": {
              "fillmode": "overlay",
              "size": 10,
              "solidity": 0.2
             }
            },
            "type": "bar"
           }
          ],
          "barpolar": [
           {
            "marker": {
             "line": {
              "color": "#E5ECF6",
              "width": 0.5
             },
             "pattern": {
              "fillmode": "overlay",
              "size": 10,
              "solidity": 0.2
             }
            },
            "type": "barpolar"
           }
          ],
          "carpet": [
           {
            "aaxis": {
             "endlinecolor": "#2a3f5f",
             "gridcolor": "white",
             "linecolor": "white",
             "minorgridcolor": "white",
             "startlinecolor": "#2a3f5f"
            },
            "baxis": {
             "endlinecolor": "#2a3f5f",
             "gridcolor": "white",
             "linecolor": "white",
             "minorgridcolor": "white",
             "startlinecolor": "#2a3f5f"
            },
            "type": "carpet"
           }
          ],
          "choropleth": [
           {
            "colorbar": {
             "outlinewidth": 0,
             "ticks": ""
            },
            "type": "choropleth"
           }
          ],
          "contour": [
           {
            "colorbar": {
             "outlinewidth": 0,
             "ticks": ""
            },
            "colorscale": [
             [
              0,
              "#0d0887"
             ],
             [
              0.1111111111111111,
              "#46039f"
             ],
             [
              0.2222222222222222,
              "#7201a8"
             ],
             [
              0.3333333333333333,
              "#9c179e"
             ],
             [
              0.4444444444444444,
              "#bd3786"
             ],
             [
              0.5555555555555556,
              "#d8576b"
             ],
             [
              0.6666666666666666,
              "#ed7953"
             ],
             [
              0.7777777777777778,
              "#fb9f3a"
             ],
             [
              0.8888888888888888,
              "#fdca26"
             ],
             [
              1,
              "#f0f921"
             ]
            ],
            "type": "contour"
           }
          ],
          "contourcarpet": [
           {
            "colorbar": {
             "outlinewidth": 0,
             "ticks": ""
            },
            "type": "contourcarpet"
           }
          ],
          "heatmap": [
           {
            "colorbar": {
             "outlinewidth": 0,
             "ticks": ""
            },
            "colorscale": [
             [
              0,
              "#0d0887"
             ],
             [
              0.1111111111111111,
              "#46039f"
             ],
             [
              0.2222222222222222,
              "#7201a8"
             ],
             [
              0.3333333333333333,
              "#9c179e"
             ],
             [
              0.4444444444444444,
              "#bd3786"
             ],
             [
              0.5555555555555556,
              "#d8576b"
             ],
             [
              0.6666666666666666,
              "#ed7953"
             ],
             [
              0.7777777777777778,
              "#fb9f3a"
             ],
             [
              0.8888888888888888,
              "#fdca26"
             ],
             [
              1,
              "#f0f921"
             ]
            ],
            "type": "heatmap"
           }
          ],
          "heatmapgl": [
           {
            "colorbar": {
             "outlinewidth": 0,
             "ticks": ""
            },
            "colorscale": [
             [
              0,
              "#0d0887"
             ],
             [
              0.1111111111111111,
              "#46039f"
             ],
             [
              0.2222222222222222,
              "#7201a8"
             ],
             [
              0.3333333333333333,
              "#9c179e"
             ],
             [
              0.4444444444444444,
              "#bd3786"
             ],
             [
              0.5555555555555556,
              "#d8576b"
             ],
             [
              0.6666666666666666,
              "#ed7953"
             ],
             [
              0.7777777777777778,
              "#fb9f3a"
             ],
             [
              0.8888888888888888,
              "#fdca26"
             ],
             [
              1,
              "#f0f921"
             ]
            ],
            "type": "heatmapgl"
           }
          ],
          "histogram": [
           {
            "marker": {
             "pattern": {
              "fillmode": "overlay",
              "size": 10,
              "solidity": 0.2
             }
            },
            "type": "histogram"
           }
          ],
          "histogram2d": [
           {
            "colorbar": {
             "outlinewidth": 0,
             "ticks": ""
            },
            "colorscale": [
             [
              0,
              "#0d0887"
             ],
             [
              0.1111111111111111,
              "#46039f"
             ],
             [
              0.2222222222222222,
              "#7201a8"
             ],
             [
              0.3333333333333333,
              "#9c179e"
             ],
             [
              0.4444444444444444,
              "#bd3786"
             ],
             [
              0.5555555555555556,
              "#d8576b"
             ],
             [
              0.6666666666666666,
              "#ed7953"
             ],
             [
              0.7777777777777778,
              "#fb9f3a"
             ],
             [
              0.8888888888888888,
              "#fdca26"
             ],
             [
              1,
              "#f0f921"
             ]
            ],
            "type": "histogram2d"
           }
          ],
          "histogram2dcontour": [
           {
            "colorbar": {
             "outlinewidth": 0,
             "ticks": ""
            },
            "colorscale": [
             [
              0,
              "#0d0887"
             ],
             [
              0.1111111111111111,
              "#46039f"
             ],
             [
              0.2222222222222222,
              "#7201a8"
             ],
             [
              0.3333333333333333,
              "#9c179e"
             ],
             [
              0.4444444444444444,
              "#bd3786"
             ],
             [
              0.5555555555555556,
              "#d8576b"
             ],
             [
              0.6666666666666666,
              "#ed7953"
             ],
             [
              0.7777777777777778,
              "#fb9f3a"
             ],
             [
              0.8888888888888888,
              "#fdca26"
             ],
             [
              1,
              "#f0f921"
             ]
            ],
            "type": "histogram2dcontour"
           }
          ],
          "mesh3d": [
           {
            "colorbar": {
             "outlinewidth": 0,
             "ticks": ""
            },
            "type": "mesh3d"
           }
          ],
          "parcoords": [
           {
            "line": {
             "colorbar": {
              "outlinewidth": 0,
              "ticks": ""
             }
            },
            "type": "parcoords"
           }
          ],
          "pie": [
           {
            "automargin": true,
            "type": "pie"
           }
          ],
          "scatter": [
           {
            "fillpattern": {
             "fillmode": "overlay",
             "size": 10,
             "solidity": 0.2
            },
            "type": "scatter"
           }
          ],
          "scatter3d": [
           {
            "line": {
             "colorbar": {
              "outlinewidth": 0,
              "ticks": ""
             }
            },
            "marker": {
             "colorbar": {
              "outlinewidth": 0,
              "ticks": ""
             }
            },
            "type": "scatter3d"
           }
          ],
          "scattercarpet": [
           {
            "marker": {
             "colorbar": {
              "outlinewidth": 0,
              "ticks": ""
             }
            },
            "type": "scattercarpet"
           }
          ],
          "scattergeo": [
           {
            "marker": {
             "colorbar": {
              "outlinewidth": 0,
              "ticks": ""
             }
            },
            "type": "scattergeo"
           }
          ],
          "scattergl": [
           {
            "marker": {
             "colorbar": {
              "outlinewidth": 0,
              "ticks": ""
             }
            },
            "type": "scattergl"
           }
          ],
          "scattermapbox": [
           {
            "marker": {
             "colorbar": {
              "outlinewidth": 0,
              "ticks": ""
             }
            },
            "type": "scattermapbox"
           }
          ],
          "scatterpolar": [
           {
            "marker": {
             "colorbar": {
              "outlinewidth": 0,
              "ticks": ""
             }
            },
            "type": "scatterpolar"
           }
          ],
          "scatterpolargl": [
           {
            "marker": {
             "colorbar": {
              "outlinewidth": 0,
              "ticks": ""
             }
            },
            "type": "scatterpolargl"
           }
          ],
          "scatterternary": [
           {
            "marker": {
             "colorbar": {
              "outlinewidth": 0,
              "ticks": ""
             }
            },
            "type": "scatterternary"
           }
          ],
          "surface": [
           {
            "colorbar": {
             "outlinewidth": 0,
             "ticks": ""
            },
            "colorscale": [
             [
              0,
              "#0d0887"
             ],
             [
              0.1111111111111111,
              "#46039f"
             ],
             [
              0.2222222222222222,
              "#7201a8"
             ],
             [
              0.3333333333333333,
              "#9c179e"
             ],
             [
              0.4444444444444444,
              "#bd3786"
             ],
             [
              0.5555555555555556,
              "#d8576b"
             ],
             [
              0.6666666666666666,
              "#ed7953"
             ],
             [
              0.7777777777777778,
              "#fb9f3a"
             ],
             [
              0.8888888888888888,
              "#fdca26"
             ],
             [
              1,
              "#f0f921"
             ]
            ],
            "type": "surface"
           }
          ],
          "table": [
           {
            "cells": {
             "fill": {
              "color": "#EBF0F8"
             },
             "line": {
              "color": "white"
             }
            },
            "header": {
             "fill": {
              "color": "#C8D4E3"
             },
             "line": {
              "color": "white"
             }
            },
            "type": "table"
           }
          ]
         },
         "layout": {
          "annotationdefaults": {
           "arrowcolor": "#2a3f5f",
           "arrowhead": 0,
           "arrowwidth": 1
          },
          "autotypenumbers": "strict",
          "coloraxis": {
           "colorbar": {
            "outlinewidth": 0,
            "ticks": ""
           }
          },
          "colorscale": {
           "diverging": [
            [
             0,
             "#8e0152"
            ],
            [
             0.1,
             "#c51b7d"
            ],
            [
             0.2,
             "#de77ae"
            ],
            [
             0.3,
             "#f1b6da"
            ],
            [
             0.4,
             "#fde0ef"
            ],
            [
             0.5,
             "#f7f7f7"
            ],
            [
             0.6,
             "#e6f5d0"
            ],
            [
             0.7,
             "#b8e186"
            ],
            [
             0.8,
             "#7fbc41"
            ],
            [
             0.9,
             "#4d9221"
            ],
            [
             1,
             "#276419"
            ]
           ],
           "sequential": [
            [
             0,
             "#0d0887"
            ],
            [
             0.1111111111111111,
             "#46039f"
            ],
            [
             0.2222222222222222,
             "#7201a8"
            ],
            [
             0.3333333333333333,
             "#9c179e"
            ],
            [
             0.4444444444444444,
             "#bd3786"
            ],
            [
             0.5555555555555556,
             "#d8576b"
            ],
            [
             0.6666666666666666,
             "#ed7953"
            ],
            [
             0.7777777777777778,
             "#fb9f3a"
            ],
            [
             0.8888888888888888,
             "#fdca26"
            ],
            [
             1,
             "#f0f921"
            ]
           ],
           "sequentialminus": [
            [
             0,
             "#0d0887"
            ],
            [
             0.1111111111111111,
             "#46039f"
            ],
            [
             0.2222222222222222,
             "#7201a8"
            ],
            [
             0.3333333333333333,
             "#9c179e"
            ],
            [
             0.4444444444444444,
             "#bd3786"
            ],
            [
             0.5555555555555556,
             "#d8576b"
            ],
            [
             0.6666666666666666,
             "#ed7953"
            ],
            [
             0.7777777777777778,
             "#fb9f3a"
            ],
            [
             0.8888888888888888,
             "#fdca26"
            ],
            [
             1,
             "#f0f921"
            ]
           ]
          },
          "colorway": [
           "#636efa",
           "#EF553B",
           "#00cc96",
           "#ab63fa",
           "#FFA15A",
           "#19d3f3",
           "#FF6692",
           "#B6E880",
           "#FF97FF",
           "#FECB52"
          ],
          "font": {
           "color": "#2a3f5f"
          },
          "geo": {
           "bgcolor": "white",
           "lakecolor": "white",
           "landcolor": "#E5ECF6",
           "showlakes": true,
           "showland": true,
           "subunitcolor": "white"
          },
          "hoverlabel": {
           "align": "left"
          },
          "hovermode": "closest",
          "mapbox": {
           "style": "light"
          },
          "paper_bgcolor": "white",
          "plot_bgcolor": "#E5ECF6",
          "polar": {
           "angularaxis": {
            "gridcolor": "white",
            "linecolor": "white",
            "ticks": ""
           },
           "bgcolor": "#E5ECF6",
           "radialaxis": {
            "gridcolor": "white",
            "linecolor": "white",
            "ticks": ""
           }
          },
          "scene": {
           "xaxis": {
            "backgroundcolor": "#E5ECF6",
            "gridcolor": "white",
            "gridwidth": 2,
            "linecolor": "white",
            "showbackground": true,
            "ticks": "",
            "zerolinecolor": "white"
           },
           "yaxis": {
            "backgroundcolor": "#E5ECF6",
            "gridcolor": "white",
            "gridwidth": 2,
            "linecolor": "white",
            "showbackground": true,
            "ticks": "",
            "zerolinecolor": "white"
           },
           "zaxis": {
            "backgroundcolor": "#E5ECF6",
            "gridcolor": "white",
            "gridwidth": 2,
            "linecolor": "white",
            "showbackground": true,
            "ticks": "",
            "zerolinecolor": "white"
           }
          },
          "shapedefaults": {
           "line": {
            "color": "#2a3f5f"
           }
          },
          "ternary": {
           "aaxis": {
            "gridcolor": "white",
            "linecolor": "white",
            "ticks": ""
           },
           "baxis": {
            "gridcolor": "white",
            "linecolor": "white",
            "ticks": ""
           },
           "bgcolor": "#E5ECF6",
           "caxis": {
            "gridcolor": "white",
            "linecolor": "white",
            "ticks": ""
           }
          },
          "title": {
           "x": 0.05
          },
          "xaxis": {
           "automargin": true,
           "gridcolor": "white",
           "linecolor": "white",
           "ticks": "",
           "title": {
            "standoff": 15
           },
           "zerolinecolor": "white",
           "zerolinewidth": 2
          },
          "yaxis": {
           "automargin": true,
           "gridcolor": "white",
           "linecolor": "white",
           "ticks": "",
           "title": {
            "standoff": 15
           },
           "zerolinecolor": "white",
           "zerolinewidth": 2
          }
         }
        },
        "title": {
         "text": "Scatter Plot from DataFrame"
        },
        "xaxis": {
         "title": {
          "text": "Close"
         }
        },
        "yaxis": {
         "title": {
          "text": "2D High In Pips"
         }
        }
       }
      },
      "text/html": [
       "<div>                            <div id=\"24ab14aa-df6a-40e6-bbbf-e529b25b95c7\" class=\"plotly-graph-div\" style=\"height:525px; width:100%;\"></div>            <script type=\"text/javascript\">                require([\"plotly\"], function(Plotly) {                    window.PLOTLYENV=window.PLOTLYENV || {};                                    if (document.getElementById(\"24ab14aa-df6a-40e6-bbbf-e529b25b95c7\")) {                    Plotly.newPlot(                        \"24ab14aa-df6a-40e6-bbbf-e529b25b95c7\",                        [{\"marker\":{\"color\":[\"green\",\"green\",\"green\",\"RED\",\"RED\",\"RED\",\"green\",\"green\",\"green\",\"green\",\"green\",\"green\",\"green\",\"green\",\"green\",\"RED\",\"green\",\"green\",\"green\",\"green\",\"green\",\"green\",\"green\",\"RED\",\"green\",\"green\",\"green\",\"green\",\"green\",\"green\",\"RED\",\"green\",\"green\",\"green\",\"green\",\"green\",\"green\",\"green\",\"RED\",\"RED\",\"RED\",\"RED\",\"RED\",\"RED\",\"RED\",\"RED\",\"RED\",\"RED\",\"RED\",\"RED\",\"RED\",\"RED\",\"RED\",\"RED\",\"RED\",\"RED\",\"RED\",\"RED\",\"RED\",\"green\",\"green\",\"green\",\"RED\",\"RED\",\"RED\",\"RED\",\"RED\",\"RED\",\"RED\",\"RED\",\"RED\",\"RED\",\"green\",\"green\",\"green\",\"green\",\"green\",\"green\",\"green\",\"green\",\"green\",\"green\",\"RED\",\"RED\",\"RED\",\"RED\",\"green\",\"RED\",\"green\",\"green\",\"green\",\"green\",\"RED\",\"green\",\"green\",\"green\",\"RED\",\"RED\",\"RED\",\"green\",\"RED\",\"green\",\"green\",\"green\",\"green\",\"RED\",\"RED\",\"RED\",\"RED\",\"RED\",\"RED\",\"RED\",\"RED\",\"RED\",\"RED\",\"RED\",\"RED\",\"RED\",\"RED\",\"green\",\"RED\",\"green\",\"green\",\"RED\",\"RED\",\"RED\",\"green\",\"green\",\"green\",\"green\",\"green\",\"green\",\"RED\",\"RED\",\"green\",\"RED\",\"RED\",\"RED\",\"RED\",\"RED\",\"RED\",\"RED\",\"RED\",\"RED\",\"green\",\"green\",\"RED\",\"RED\",\"RED\",\"green\",\"green\",\"green\",\"green\",\"RED\",\"RED\",\"RED\",\"RED\",\"RED\",\"green\",\"green\",\"green\",\"green\",\"RED\",\"RED\",\"green\",\"green\",\"green\",\"green\",\"green\",\"green\",\"green\",\"RED\",\"RED\",\"RED\",\"RED\",\"green\",\"green\",\"green\",\"green\",\"green\",\"RED\",\"green\",\"green\",\"RED\",\"RED\",\"RED\",\"RED\",\"RED\",\"RED\",\"RED\",\"RED\",\"RED\",\"green\",\"green\",\"green\",\"green\",\"green\",\"green\",\"green\",\"green\",\"green\",\"green\",\"RED\",\"RED\",\"RED\",\"RED\",\"green\",\"green\",\"green\",\"green\",\"green\",\"RED\",\"RED\",\"RED\",\"RED\",\"RED\",\"RED\",\"RED\",\"RED\",\"RED\",\"RED\",\"RED\",\"RED\",\"RED\",\"RED\",\"RED\",\"green\",\"green\",\"green\",\"green\",\"green\",\"RED\",\"RED\",\"RED\",\"RED\",\"RED\",\"RED\",\"RED\",\"RED\",\"RED\",\"RED\",\"RED\",\"RED\",\"RED\",\"RED\",\"green\",\"green\",\"green\",\"green\",\"green\",\"green\",\"green\",\"green\",\"green\",\"green\",\"RED\",\"RED\",\"RED\",\"RED\",\"RED\",\"RED\",\"RED\",\"RED\",\"RED\",\"RED\",\"RED\",\"RED\",\"RED\",\"RED\",\"RED\",\"RED\",\"RED\",\"RED\",\"RED\",\"green\",\"green\",\"green\",\"RED\",\"green\",\"green\",\"green\",\"green\",\"green\",\"green\",\"green\",\"green\",\"green\",\"green\",\"green\",\"RED\",\"green\",\"green\",\"RED\",\"green\",\"RED\",\"RED\",\"RED\",\"RED\",\"RED\",\"RED\",\"RED\",\"green\",\"green\",\"green\",\"green\",\"green\",\"green\",\"green\",\"RED\",\"RED\",\"RED\",\"green\",\"green\",\"green\",\"RED\",\"green\",\"green\",\"green\",\"green\",\"green\",\"green\",\"green\",\"green\",\"green\",\"green\",\"green\",\"green\",\"green\",\"green\",\"green\",\"RED\",\"RED\",\"RED\",\"RED\",\"RED\",\"green\",\"green\",\"green\",\"green\",\"green\",\"green\",\"green\",\"green\",\"green\",\"green\",\"green\",\"green\",\"green\",\"green\",\"green\",\"green\",\"green\",\"green\",\"green\",\"green\",\"green\",\"green\",\"green\",\"RED\",\"RED\",\"RED\",\"RED\",\"RED\",\"RED\",\"RED\",\"green\",\"green\",\"green\",\"green\",\"green\",\"green\",\"green\",\"green\",\"green\",\"green\",\"green\",\"RED\",\"RED\",\"RED\",\"RED\",\"RED\",\"RED\",\"RED\",\"RED\",\"green\",\"RED\",\"RED\",\"green\",\"green\",\"RED\",\"RED\",\"RED\",\"RED\",\"RED\",\"RED\",\"green\",\"green\",\"RED\",\"RED\",\"RED\",\"RED\",\"RED\",\"RED\",\"RED\",\"green\",\"green\",\"green\",\"green\",\"green\",\"green\",\"green\",\"green\",\"RED\",\"RED\",\"RED\",\"RED\",\"RED\",\"RED\",\"RED\",\"RED\",\"RED\",\"RED\",\"RED\",\"RED\",\"RED\",\"RED\",\"RED\",\"RED\",\"RED\",\"green\",\"green\",\"green\",\"RED\",\"RED\",\"RED\",\"RED\",\"RED\",\"green\",\"green\",\"green\",\"green\",\"green\",\"green\",\"RED\",\"green\",\"green\",\"green\",\"RED\",\"RED\",\"RED\",\"RED\",\"RED\",\"RED\",\"RED\",\"RED\",\"green\",\"green\",\"green\",\"green\",\"green\",\"green\",\"green\",\"RED\",\"RED\",\"green\",\"green\",\"green\",\"green\",\"green\",\"green\",\"RED\",\"RED\",\"RED\",\"RED\",\"RED\",\"RED\",\"RED\",\"RED\",\"RED\",\"RED\",\"RED\",\"RED\",\"RED\",\"green\",\"green\",\"green\"],\"opacity\":0.8,\"size\":10},\"mode\":\"markers\",\"x\":[1.59814,1.61085,1.61428,1.60446,1.6025,1.60818,1.6367,1.63584,1.64431,1.64438,1.64158,1.64156,1.64346,1.64844,1.64523,1.63925,1.66166,1.66213,1.66374,1.66319,1.66552,1.6673,1.67014,1.65596,1.66062,1.67788,1.67744,1.67843,1.68518,1.68492,1.68006,1.70982,1.71046,1.71138,1.71149,1.71154,1.70765,1.71122,1.66254,1.66072,1.6277,1.63026,1.6168,1.60693,1.6072,1.59306,1.57067,1.57353,1.5702,1.57003,1.56708,1.55804,1.5257,1.52284,1.52246,1.5198,1.51054,1.51798,1.51011,1.54074,1.5395,1.54098,1.49788,1.49681,1.48998,1.49254,1.49584,1.48976,1.48626,1.4926,1.47825,1.47741,1.51158,1.51696,1.51752,1.55502,1.55388,1.56834,1.572,1.5705,1.5721,1.57246,1.55232,1.55177,1.55258,1.56048,1.55558,1.55692,1.55662,1.55861,1.55836,1.55648,1.55946,1.55889,1.56204,1.56796,1.53786,1.52264,1.5226,1.53856,1.5342,1.53734,1.53696,1.53819,1.53806,1.52392,1.52322,1.52224,1.52356,1.52157,1.52297,1.52132,1.51008,1.51112,1.43288,1.43509,1.43146,1.44013,1.40646,1.42565,1.42248,1.42433,1.42724,1.41968,1.42275,1.41934,1.45351,1.45436,1.45003,1.44638,1.45932,1.45148,1.42935,1.43138,1.45238,1.31509,1.32012,1.32106,1.32092,1.3223,1.31806,1.30358,1.30246,1.3041,1.32628,1.32232,1.30507,1.22418,1.22299,1.25905,1.25702,1.25808,1.25635,1.23436,1.23166,1.23272,1.22666,1.23335,1.24791,1.24166,1.25287,1.24656,1.22278,1.22213,1.245,1.24368,1.24641,1.29139,1.29606,1.2932,1.29582,1.28042,1.27318,1.27206,1.27296,1.28761,1.29712,1.29791,1.31182,1.3082,1.28824,1.34534,1.34382,1.32004,1.32087,1.32546,1.31984,1.31742,1.31679,1.31474,1.31528,1.3179,1.33842,1.33968,1.35171,1.35184,1.35169,1.41198,1.3964,1.39778,1.39724,1.39779,1.3906,1.38812,1.38864,1.38607,1.39144,1.40756,1.41928,1.42138,1.41934,1.33475,1.33743,1.32587,1.32661,1.32616,1.32732,1.32097,1.319,1.31951,1.32362,1.3135,1.3138,1.31386,1.27867,1.2903,1.30828,1.31165,1.3124,1.31102,1.31438,1.29102,1.29866,1.29878,1.28703,1.28568,1.28225,1.28096,1.27952,1.27708,1.26507,1.26634,1.26534,1.26864,1.26712,1.2731,1.28358,1.3046,1.30635,1.31612,1.31178,1.31506,1.3118,1.31496,1.31618,1.31092,1.31126,1.3097,1.31208,1.30912,1.29726,1.26668,1.26832,1.2634,1.25622,1.2567,1.25487,1.25034,1.25035,1.24848,1.25042,1.21253,1.21458,1.21524,1.2421,1.24286,1.24337,1.2396,1.28131,1.28187,1.28827,1.2871,1.2858,1.28734,1.3194,1.30682,1.31184,1.31174,1.31052,1.30402,1.30721,1.30618,1.30983,1.30594,1.30659,1.29808,1.30239,1.29742,1.29946,1.2872,1.19216,1.24394,1.24406,1.246,1.24334,1.24454,1.24322,1.24418,1.2266,1.22586,1.23022,1.26019,1.25923,1.2593,1.2414,1.25476,1.25281,1.2559,1.2554,1.25162,1.2547,1.3048,1.30372,1.30505,1.30978,1.31082,1.3269,1.32784,1.32222,1.32541,1.29806,1.29723,1.29861,1.28255,1.28486,1.29474,1.30168,1.3017,1.30008,1.31155,1.33048,1.32672,1.33571,1.33713,1.33687,1.33752,1.34097,1.34523,1.35652,1.35484,1.35688,1.36059,1.36534,1.36502,1.3667,1.36784,1.36872,1.40172,1.381,1.38002,1.37886,1.37914,1.37697,1.37965,1.37781,1.38433,1.38564,1.38598,1.3875,1.3868,1.38787,1.41218,1.41416,1.41595,1.4162,1.41568,1.3981,1.38568,1.3858,1.38609,1.38402,1.37687,1.37669,1.37542,1.38659,1.3738,1.3778,1.3808,1.38226,1.37246,1.37354,1.37144,1.36055,1.35938,1.35952,1.37236,1.3673,1.34909,1.34982,1.3268,1.32603,1.32621,1.32918,1.3254,1.36264,1.36122,1.35981,1.35316,1.35332,1.35131,1.35514,1.35506,1.3148,1.31706,1.31882,1.3159,1.3144,1.31362,1.30936,1.30795,1.307,1.30554,1.26358,1.23294,1.23806,1.23093,1.22794,1.22796,1.19458,1.21129,1.20276,1.21113,1.1588,1.16016,1.10596,1.1162,1.12162,1.145,1.14614,1.14106,1.19506,1.19428,1.2159,1.20846,1.22925,1.23386,1.23446,1.21922,1.21356,1.20916,1.20596,1.2068,1.20437,1.2041,1.19882,1.2281,1.23517,1.24054,1.24246,1.24708,1.24681,1.25129,1.24234,1.24432,1.27078,1.26986,1.27117,1.27112,1.27113,1.29324,1.2781,1.27582,1.2733,1.27706,1.27137,1.22596,1.21798,1.2234,1.21838,1.2234,1.21494,1.21722,1.21511,1.2222,1.25952,1.26404],\"y\":[114.6,9.6,22.8,73.3,109.699999999999,67.2,51.599999999999994,13.9,31.3,30.599999999999998,28.799999999999,101.60000000000099,32.0,141.0,67.5,95.199999999999,110.400000000001,105.69999999999901,131.499999999999,137.0,86.600000000001,104.999999999999,1.599999999999,91.899999999998,4.999999999999001,51.499999999999005,83.199999999998,73.29999999999801,51.800000000001006,33.199999999999,45.399999999999,69.800000000002,63.4,37.200000000001,58.899999999999,77.0,115.90000000000201,5.399999999999,7.2,8.000000000001,131.9,222.4,58.599999999999,81.7,110.60000000000001,10.200000000000001,119.299999999999,28.799999999999,23.599999999999,25.299999999999,86.19999999999999,39.699999999998,11.699999999998,6.5,1.999999999999,15.0,118.3,43.899999999998,213.2,51.399999999999,63.799999999998,11.699999999998,31.299999999998,21.999999999998998,84.39999999999999,68.699999999999,35.699999999998,23.599999999999,8.9,55.6,158.49999999999898,279.500000000001,93.9,278.399999999998,347.8,117.39999999999799,-0.3999999999981796,86.8,69.2,84.2,54.699999999998,20.0,111.9,121.299999999999,149.999999999999,70.999999999998,18.400000000000002,120.799999999998,112.0,66.59999999999799,69.099999999999,87.899999999998,65.599999999998,128.299999999998,106.399999999999,3.899999999998,34.199999999999,18.199999999999,146.300000000001,33.6,157.3,72.2,32.099999999999,19.8,12.499999999999,27.399999999999,34.399999999998,44.199999999998,3.199999999998,120.099999999998,106.1,122.599999999999,58.199999999999,90.799999999999,34.3,56.800000000001,98.800000000001,-94.19999999999901,184.199999999998,54.899999999999004,226.79999999999998,78.3,19.199999999999,151.299999999998,191.5,225.599999999999,36.799999999999,28.299999999998,142.1,242.999999999999,60.400000000000006,2.4999999999980003,474.49999999999903,470.59999999999803,57.799999999998,187.499999999998,279.4,81.39999999999999,82.799999999998,78.79999999999801,121.199999999999,136.199999999999,161.20000000000098,144.8,84.49999999999999,56.800000000001,1.900000000001,112.699999999998,124.599999999999,114.6,127.39999999999901,143.4,4.699999999999,44.700000000001,115.89999999999901,105.299999999999,38.199999999999,82.5,181.099999999998,289.8,9.5,13.400000000001,162.20000000000098,177.70000000000002,74.499999999999,64.600000000001,41.8,21.599999999999,54.499999999999005,83.1,8.2,10.6,27.8,141.4,246.799999999998,51.700000000001,78.199999999999,104.900000000001,46.399999999999004,9.999999999998002,96.199999999999,61.500000000000995,25.999999999999,70.899999999998,68.30000000000099,24.699999999998997,122.7,3.199999999998,8.6,82.299999999999,76.899999999999,35.6,136.800000000001,35.0,45.299999999999,46.399999999999004,183.19999999999803,30.399999999999,60.199999999999,46.399999999999004,51.799999999999,31.499999999998998,10.799999999999,28.999999999999,10.399999999999,134.7,174.0,20.999999999999,54.199999999998994,32.2,6.399999999998999,51.29999999999799,98.500000000001,56.699999999998,25.699999999999,30.200000000000003,18.599999999999,-1.299999999999,61.999999999999,79.8,56.899999999999,25.000000000001,74.999999999998,34.499999999999005,150.20000000000002,125.8,93.199999999999,101.89999999999901,39.4,126.8,7.2999999999980005,130.79999999999902,86.30000000000099,42.499999999997996,19.400000000000002,0.0,27.5,24.599999999999003,4.5999999999989996,2.200000000001,55.500000000001,44.399999999999,54.400000000001,21.4,126.8,234.199999999999,169.20000000000002,57.3,39.8,37.500000000001,67.099999999999,34.3,34.699999999998,101.200000000001,61.7,10.999999999998,20.199999999998997,35.799999999999,11.999999999999998,27.999999999998998,129.699999999999,76.799999999999,60.400000000000006,93.29999999999801,16.800000000001,11.999999999999998,7.8,16.899999999999,7.999999999999,33.399999999998,13.999999999998,49.999999999997996,29.5,201.39999999999802,82.299999999999,74.699999999998,10.499999999999,311.2,63.5,86.199999999998,34.799999999998995,26.2,20.199999999998997,38.7,20.999999999999,144.4,51.2,52.199999999999996,18.7,112.99999999999999,33.3,8.000000000001,111.49999999999899,10.599999999998,1.4999999999999998,88.799999999999,45.699999999998994,43.59999999999901,23.199999999998,180.4,563.999999999997,83.4,77.0,32.2,14.800000000000999,38.4,48.900000000000006,11.799999999999,21.600000000001003,29.000000000001,60.999999999999,51.400000000001,95.399999999998,0.7999999999985796,115.89999999999901,101.999999999999,121.500000000001,65.8,111.599999999998,200.299999999999,220.900000000001,76.800000000001,95.60000000000001,92.29999999999801,157.4,40.699999999997,50.099999999999,40.699999999999996,71.000000000001,3.5,26.699999999998997,27.599999999997998,13.799999999998999,104.39999999999999,130.20000000000002,58.4,62.8,62.599999999999,25.2,126.999999999999,201.599999999999,182.200000000001,121.200000000001,42.200000000001005,7.5,123.8,161.1,166.300000000001,68.2,87.39999999999901,101.599999999999,21.299999999999002,105.399999999999,107.70000000000101,90.9,32.100000000000996,23.300000000001,10.599999999998,36.799999999999,52.300000000000004,63.90000000000099,88.799999999999,39.299999999998995,31.499999999998998,111.49999999999899,86.199999999998,73.099999999999,116.799999999999,101.599999999999,108.599999999998,53.100000000001,97.59999999999901,108.89999999999799,43.59999999999901,41.1,43.699999999999,20.400000000000002,41.899999999999004,40.699999999999996,2.6999999999989996,70.2,31.900000000000002,66.600000000001,140.0,28.699999999999,43.000000000000995,29.799999999999,45.899999999998,18.899999999999,26.2,0.1999999999990898,3.1,42.5,65.199999999998,78.599999999999,91.6,25.600000000001,22.699999999999,11.6,7.6000000000000005,114.3,112.499999999999,82.8,181.8,22.799999999998,49.899999999998,4.399999999999,112.100000000001,76.399999999998,61.1,69.299999999998,2.999999999999,63.59999999999899,39.600000000000996,85.69999999999901,23.699999999999,7.999999999999,30.799999999999002,53.9,-0.700000000000145,4.399999999999,35.199999999999,0.4000000000004,171.9,17.599999999999,8.699999999999001,35.199999999999,53.0,100.0,62.900000000001,110.29999999999801,37.099999999998,122.799999999998,136.79999999999902,274.999999999998,218.799999999999,164.59999999999897,115.0,103.600000000001,386.200000000001,360.40000000000003,368.2,82.99999999999899,125.399999999999,138.199999999999,63.200000000001,47.6,1.8,134.7,56.199999999999,83.8,7.399999999999,21.600000000001003,24.300000000001,211.79999999999902,244.4,118.599999999999,44.8,91.000000000001,122.8,130.79999999999902,28.099999999999,63.59999999999899,101.599999999999,40.999999999999,60.999999999999,47.9,48.399999999999,3.899999999998,32.400000000001,4.999999999999001,29.399999999999,54.599999999997,16.999999999998,32.9,3.6000000000009997,81.79999999999801,57.599999999999,132.20000000000002,54.799999999998995,51.400000000001,28.6,238.7,58.4,18.599999999999,103.899999999999],\"type\":\"scatter\"}],                        {\"template\":{\"data\":{\"histogram2dcontour\":[{\"type\":\"histogram2dcontour\",\"colorbar\":{\"outlinewidth\":0,\"ticks\":\"\"},\"colorscale\":[[0.0,\"#0d0887\"],[0.1111111111111111,\"#46039f\"],[0.2222222222222222,\"#7201a8\"],[0.3333333333333333,\"#9c179e\"],[0.4444444444444444,\"#bd3786\"],[0.5555555555555556,\"#d8576b\"],[0.6666666666666666,\"#ed7953\"],[0.7777777777777778,\"#fb9f3a\"],[0.8888888888888888,\"#fdca26\"],[1.0,\"#f0f921\"]]}],\"choropleth\":[{\"type\":\"choropleth\",\"colorbar\":{\"outlinewidth\":0,\"ticks\":\"\"}}],\"histogram2d\":[{\"type\":\"histogram2d\",\"colorbar\":{\"outlinewidth\":0,\"ticks\":\"\"},\"colorscale\":[[0.0,\"#0d0887\"],[0.1111111111111111,\"#46039f\"],[0.2222222222222222,\"#7201a8\"],[0.3333333333333333,\"#9c179e\"],[0.4444444444444444,\"#bd3786\"],[0.5555555555555556,\"#d8576b\"],[0.6666666666666666,\"#ed7953\"],[0.7777777777777778,\"#fb9f3a\"],[0.8888888888888888,\"#fdca26\"],[1.0,\"#f0f921\"]]}],\"heatmap\":[{\"type\":\"heatmap\",\"colorbar\":{\"outlinewidth\":0,\"ticks\":\"\"},\"colorscale\":[[0.0,\"#0d0887\"],[0.1111111111111111,\"#46039f\"],[0.2222222222222222,\"#7201a8\"],[0.3333333333333333,\"#9c179e\"],[0.4444444444444444,\"#bd3786\"],[0.5555555555555556,\"#d8576b\"],[0.6666666666666666,\"#ed7953\"],[0.7777777777777778,\"#fb9f3a\"],[0.8888888888888888,\"#fdca26\"],[1.0,\"#f0f921\"]]}],\"heatmapgl\":[{\"type\":\"heatmapgl\",\"colorbar\":{\"outlinewidth\":0,\"ticks\":\"\"},\"colorscale\":[[0.0,\"#0d0887\"],[0.1111111111111111,\"#46039f\"],[0.2222222222222222,\"#7201a8\"],[0.3333333333333333,\"#9c179e\"],[0.4444444444444444,\"#bd3786\"],[0.5555555555555556,\"#d8576b\"],[0.6666666666666666,\"#ed7953\"],[0.7777777777777778,\"#fb9f3a\"],[0.8888888888888888,\"#fdca26\"],[1.0,\"#f0f921\"]]}],\"contourcarpet\":[{\"type\":\"contourcarpet\",\"colorbar\":{\"outlinewidth\":0,\"ticks\":\"\"}}],\"contour\":[{\"type\":\"contour\",\"colorbar\":{\"outlinewidth\":0,\"ticks\":\"\"},\"colorscale\":[[0.0,\"#0d0887\"],[0.1111111111111111,\"#46039f\"],[0.2222222222222222,\"#7201a8\"],[0.3333333333333333,\"#9c179e\"],[0.4444444444444444,\"#bd3786\"],[0.5555555555555556,\"#d8576b\"],[0.6666666666666666,\"#ed7953\"],[0.7777777777777778,\"#fb9f3a\"],[0.8888888888888888,\"#fdca26\"],[1.0,\"#f0f921\"]]}],\"surface\":[{\"type\":\"surface\",\"colorbar\":{\"outlinewidth\":0,\"ticks\":\"\"},\"colorscale\":[[0.0,\"#0d0887\"],[0.1111111111111111,\"#46039f\"],[0.2222222222222222,\"#7201a8\"],[0.3333333333333333,\"#9c179e\"],[0.4444444444444444,\"#bd3786\"],[0.5555555555555556,\"#d8576b\"],[0.6666666666666666,\"#ed7953\"],[0.7777777777777778,\"#fb9f3a\"],[0.8888888888888888,\"#fdca26\"],[1.0,\"#f0f921\"]]}],\"mesh3d\":[{\"type\":\"mesh3d\",\"colorbar\":{\"outlinewidth\":0,\"ticks\":\"\"}}],\"scatter\":[{\"fillpattern\":{\"fillmode\":\"overlay\",\"size\":10,\"solidity\":0.2},\"type\":\"scatter\"}],\"parcoords\":[{\"type\":\"parcoords\",\"line\":{\"colorbar\":{\"outlinewidth\":0,\"ticks\":\"\"}}}],\"scatterpolargl\":[{\"type\":\"scatterpolargl\",\"marker\":{\"colorbar\":{\"outlinewidth\":0,\"ticks\":\"\"}}}],\"bar\":[{\"error_x\":{\"color\":\"#2a3f5f\"},\"error_y\":{\"color\":\"#2a3f5f\"},\"marker\":{\"line\":{\"color\":\"#E5ECF6\",\"width\":0.5},\"pattern\":{\"fillmode\":\"overlay\",\"size\":10,\"solidity\":0.2}},\"type\":\"bar\"}],\"scattergeo\":[{\"type\":\"scattergeo\",\"marker\":{\"colorbar\":{\"outlinewidth\":0,\"ticks\":\"\"}}}],\"scatterpolar\":[{\"type\":\"scatterpolar\",\"marker\":{\"colorbar\":{\"outlinewidth\":0,\"ticks\":\"\"}}}],\"histogram\":[{\"marker\":{\"pattern\":{\"fillmode\":\"overlay\",\"size\":10,\"solidity\":0.2}},\"type\":\"histogram\"}],\"scattergl\":[{\"type\":\"scattergl\",\"marker\":{\"colorbar\":{\"outlinewidth\":0,\"ticks\":\"\"}}}],\"scatter3d\":[{\"type\":\"scatter3d\",\"line\":{\"colorbar\":{\"outlinewidth\":0,\"ticks\":\"\"}},\"marker\":{\"colorbar\":{\"outlinewidth\":0,\"ticks\":\"\"}}}],\"scattermapbox\":[{\"type\":\"scattermapbox\",\"marker\":{\"colorbar\":{\"outlinewidth\":0,\"ticks\":\"\"}}}],\"scatterternary\":[{\"type\":\"scatterternary\",\"marker\":{\"colorbar\":{\"outlinewidth\":0,\"ticks\":\"\"}}}],\"scattercarpet\":[{\"type\":\"scattercarpet\",\"marker\":{\"colorbar\":{\"outlinewidth\":0,\"ticks\":\"\"}}}],\"carpet\":[{\"aaxis\":{\"endlinecolor\":\"#2a3f5f\",\"gridcolor\":\"white\",\"linecolor\":\"white\",\"minorgridcolor\":\"white\",\"startlinecolor\":\"#2a3f5f\"},\"baxis\":{\"endlinecolor\":\"#2a3f5f\",\"gridcolor\":\"white\",\"linecolor\":\"white\",\"minorgridcolor\":\"white\",\"startlinecolor\":\"#2a3f5f\"},\"type\":\"carpet\"}],\"table\":[{\"cells\":{\"fill\":{\"color\":\"#EBF0F8\"},\"line\":{\"color\":\"white\"}},\"header\":{\"fill\":{\"color\":\"#C8D4E3\"},\"line\":{\"color\":\"white\"}},\"type\":\"table\"}],\"barpolar\":[{\"marker\":{\"line\":{\"color\":\"#E5ECF6\",\"width\":0.5},\"pattern\":{\"fillmode\":\"overlay\",\"size\":10,\"solidity\":0.2}},\"type\":\"barpolar\"}],\"pie\":[{\"automargin\":true,\"type\":\"pie\"}]},\"layout\":{\"autotypenumbers\":\"strict\",\"colorway\":[\"#636efa\",\"#EF553B\",\"#00cc96\",\"#ab63fa\",\"#FFA15A\",\"#19d3f3\",\"#FF6692\",\"#B6E880\",\"#FF97FF\",\"#FECB52\"],\"font\":{\"color\":\"#2a3f5f\"},\"hovermode\":\"closest\",\"hoverlabel\":{\"align\":\"left\"},\"paper_bgcolor\":\"white\",\"plot_bgcolor\":\"#E5ECF6\",\"polar\":{\"bgcolor\":\"#E5ECF6\",\"angularaxis\":{\"gridcolor\":\"white\",\"linecolor\":\"white\",\"ticks\":\"\"},\"radialaxis\":{\"gridcolor\":\"white\",\"linecolor\":\"white\",\"ticks\":\"\"}},\"ternary\":{\"bgcolor\":\"#E5ECF6\",\"aaxis\":{\"gridcolor\":\"white\",\"linecolor\":\"white\",\"ticks\":\"\"},\"baxis\":{\"gridcolor\":\"white\",\"linecolor\":\"white\",\"ticks\":\"\"},\"caxis\":{\"gridcolor\":\"white\",\"linecolor\":\"white\",\"ticks\":\"\"}},\"coloraxis\":{\"colorbar\":{\"outlinewidth\":0,\"ticks\":\"\"}},\"colorscale\":{\"sequential\":[[0.0,\"#0d0887\"],[0.1111111111111111,\"#46039f\"],[0.2222222222222222,\"#7201a8\"],[0.3333333333333333,\"#9c179e\"],[0.4444444444444444,\"#bd3786\"],[0.5555555555555556,\"#d8576b\"],[0.6666666666666666,\"#ed7953\"],[0.7777777777777778,\"#fb9f3a\"],[0.8888888888888888,\"#fdca26\"],[1.0,\"#f0f921\"]],\"sequentialminus\":[[0.0,\"#0d0887\"],[0.1111111111111111,\"#46039f\"],[0.2222222222222222,\"#7201a8\"],[0.3333333333333333,\"#9c179e\"],[0.4444444444444444,\"#bd3786\"],[0.5555555555555556,\"#d8576b\"],[0.6666666666666666,\"#ed7953\"],[0.7777777777777778,\"#fb9f3a\"],[0.8888888888888888,\"#fdca26\"],[1.0,\"#f0f921\"]],\"diverging\":[[0,\"#8e0152\"],[0.1,\"#c51b7d\"],[0.2,\"#de77ae\"],[0.3,\"#f1b6da\"],[0.4,\"#fde0ef\"],[0.5,\"#f7f7f7\"],[0.6,\"#e6f5d0\"],[0.7,\"#b8e186\"],[0.8,\"#7fbc41\"],[0.9,\"#4d9221\"],[1,\"#276419\"]]},\"xaxis\":{\"gridcolor\":\"white\",\"linecolor\":\"white\",\"ticks\":\"\",\"title\":{\"standoff\":15},\"zerolinecolor\":\"white\",\"automargin\":true,\"zerolinewidth\":2},\"yaxis\":{\"gridcolor\":\"white\",\"linecolor\":\"white\",\"ticks\":\"\",\"title\":{\"standoff\":15},\"zerolinecolor\":\"white\",\"automargin\":true,\"zerolinewidth\":2},\"scene\":{\"xaxis\":{\"backgroundcolor\":\"#E5ECF6\",\"gridcolor\":\"white\",\"linecolor\":\"white\",\"showbackground\":true,\"ticks\":\"\",\"zerolinecolor\":\"white\",\"gridwidth\":2},\"yaxis\":{\"backgroundcolor\":\"#E5ECF6\",\"gridcolor\":\"white\",\"linecolor\":\"white\",\"showbackground\":true,\"ticks\":\"\",\"zerolinecolor\":\"white\",\"gridwidth\":2},\"zaxis\":{\"backgroundcolor\":\"#E5ECF6\",\"gridcolor\":\"white\",\"linecolor\":\"white\",\"showbackground\":true,\"ticks\":\"\",\"zerolinecolor\":\"white\",\"gridwidth\":2}},\"shapedefaults\":{\"line\":{\"color\":\"#2a3f5f\"}},\"annotationdefaults\":{\"arrowcolor\":\"#2a3f5f\",\"arrowhead\":0,\"arrowwidth\":1},\"geo\":{\"bgcolor\":\"white\",\"landcolor\":\"#E5ECF6\",\"subunitcolor\":\"white\",\"showland\":true,\"showlakes\":true,\"lakecolor\":\"white\"},\"title\":{\"x\":0.05},\"mapbox\":{\"style\":\"light\"}}},\"title\":{\"text\":\"Scatter Plot from DataFrame\"},\"xaxis\":{\"title\":{\"text\":\"Close\"}},\"yaxis\":{\"title\":{\"text\":\"2D High In Pips\"}}},                        {\"responsive\": true}                    ).then(function(){\n",
       "                            \n",
       "var gd = document.getElementById('24ab14aa-df6a-40e6-bbbf-e529b25b95c7');\n",
       "var x = new MutationObserver(function (mutations, observer) {{\n",
       "        var display = window.getComputedStyle(gd).display;\n",
       "        if (!display || display === 'none') {{\n",
       "            console.log([gd, 'removed!']);\n",
       "            Plotly.purge(gd);\n",
       "            observer.disconnect();\n",
       "        }}\n",
       "}});\n",
       "\n",
       "// Listen for the removal of the full notebook cells\n",
       "var notebookContainer = gd.closest('#notebook-container');\n",
       "if (notebookContainer) {{\n",
       "    x.observe(notebookContainer, {childList: true});\n",
       "}}\n",
       "\n",
       "// Listen for the clearing of the current output cell\n",
       "var outputEl = gd.closest('.output');\n",
       "if (outputEl) {{\n",
       "    x.observe(outputEl, {childList: true});\n",
       "}}\n",
       "\n",
       "                        })                };                });            </script>        </div>"
      ]
     },
     "metadata": {},
     "output_type": "display_data"
    }
   ],
   "source": [
    "# Create a list of colors based on the 'color_column'\n",
    "# colors = ['green' if val == 'BUY' else 'RED' for val in df['Order Type']]\n",
    "\n",
    "fig = go.Figure(data=go.Scatter(\n",
    "    x=df['close'],  # Access the 'x' column\n",
    "    y=df['2D High in Pips'],  # Access the 'y' column\n",
    "    mode='markers',\n",
    "    marker=dict(\n",
    "        size=10,\n",
    "        color=colors,  # Map colors from the 'color_column'\n",
    "        opacity=0.8\n",
    "    )\n",
    "))\n",
    "\n",
    "# Customize the layout\n",
    "fig.update_layout(\n",
    "    title=\"Scatter Plot from DataFrame\",\n",
    "    xaxis_title=\"Close\",\n",
    "    yaxis_title=\"2D High In Pips\",\n",
    "#     grid=True\n",
    ")\n",
    "fig.show()"
   ]
  },
  {
   "cell_type": "code",
   "execution_count": 14,
   "id": "a32e9417",
   "metadata": {
    "ExecuteTime": {
     "end_time": "2024-02-27T03:00:25.288495Z",
     "start_time": "2024-02-27T03:00:25.267260Z"
    }
   },
   "outputs": [
    {
     "data": {
      "text/plain": [
       "count    486.000000\n",
       "mean      76.050412\n",
       "std       72.396115\n",
       "min      -94.200000\n",
       "25%       28.150000\n",
       "50%       58.000000\n",
       "75%      106.000000\n",
       "max      564.000000\n",
       "Name: 2D High in Pips, dtype: float64"
      ]
     },
     "execution_count": 14,
     "metadata": {},
     "output_type": "execute_result"
    }
   ],
   "source": [
    "df['2D High in Pips'].describe()"
   ]
  },
  {
   "cell_type": "markdown",
   "id": "99688193",
   "metadata": {},
   "source": [
    "## Preprocessing \n"
   ]
  },
  {
   "cell_type": "code",
   "execution_count": 89,
   "id": "303d4d4c",
   "metadata": {
    "ExecuteTime": {
     "end_time": "2024-03-02T22:10:40.508065Z",
     "start_time": "2024-03-02T22:10:40.499363Z"
    }
   },
   "outputs": [],
   "source": [
    "from sklearn.preprocessing import OneHotEncoder"
   ]
  },
  {
   "cell_type": "code",
   "execution_count": 21,
   "id": "0c8a8f5f",
   "metadata": {
    "ExecuteTime": {
     "end_time": "2024-02-27T03:29:01.100888Z",
     "start_time": "2024-02-27T03:29:01.085211Z"
    }
   },
   "outputs": [],
   "source": [
    "ohe = OneHotEncoder()"
   ]
  },
  {
   "cell_type": "code",
   "execution_count": 27,
   "id": "aa64db55",
   "metadata": {
    "ExecuteTime": {
     "end_time": "2024-02-27T03:35:48.241764Z",
     "start_time": "2024-02-27T03:35:48.235008Z"
    }
   },
   "outputs": [],
   "source": [
    "# test = ohe.fit_transform(df[['Trend Status','5075 Trend Status', '75100 Trend Status',\n",
    "#        '100125 Trend Status', 'Action', 'Opportunity', 'Order Type']]).to_array()\n",
    "\n",
    "# test.values"
   ]
  },
  {
   "cell_type": "code",
   "execution_count": 30,
   "id": "1144539e",
   "metadata": {
    "ExecuteTime": {
     "end_time": "2024-02-27T03:36:17.654283Z",
     "start_time": "2024-02-27T03:36:17.624923Z"
    }
   },
   "outputs": [
    {
     "data": {
      "text/plain": [
       "Index(['75EMA', '100EMA', '125EMA', 'Primary_Key', 'Trend Status',\n",
       "       'Trend Status Enhanced', 'Spread', '5075 Trend Status',\n",
       "       '75100 Trend Status', '100125 Trend Status', 'Action', 'Opportunity',\n",
       "       'Order Type', 'Alerts', '%K'],\n",
       "      dtype='object')"
      ]
     },
     "execution_count": 30,
     "metadata": {},
     "output_type": "execute_result"
    }
   ],
   "source": [
    "df.columns[15:30]"
   ]
  },
  {
   "cell_type": "code",
   "execution_count": 90,
   "id": "7206a569",
   "metadata": {
    "ExecuteTime": {
     "end_time": "2024-03-02T22:10:43.087715Z",
     "start_time": "2024-03-02T22:10:43.073391Z"
    }
   },
   "outputs": [],
   "source": [
    "#Subset of features to keep\n",
    "df= df[['open', 'high', 'low', 'close', '25EMA', '50EMA', '75EMA','100EMA', '125EMA',\n",
    "        'Trend Status', 'Spread','5075 Trend Status', '75100 Trend Status',\n",
    "       '100125 Trend Status', 'Action', 'Opportunity', 'Order Type','2D Lowest Price',\n",
    "       '2D Highest Price', '2D Low in Pips', '2D High in Pips',\n",
    "       '2D Trade Status', '2D Hard Stop Price', '2D Hard Stop Loss',\n",
    "       '2D Trend Change Stop Price', '2D Trend Change Stop Loss','k_group']]"
   ]
  },
  {
   "cell_type": "code",
   "execution_count": 91,
   "id": "286f253d",
   "metadata": {
    "ExecuteTime": {
     "end_time": "2024-03-02T22:10:45.286551Z",
     "start_time": "2024-03-02T22:10:45.236170Z"
    }
   },
   "outputs": [],
   "source": [
    "#Apply one-hot encoding \n",
    "df= pd.get_dummies(df,columns=['Trend Status','5075 Trend Status', '75100 Trend Status',\n",
    "       '100125 Trend Status', 'Action', 'Opportunity', 'Order Type','k_group'])"
   ]
  },
  {
   "cell_type": "code",
   "execution_count": 32,
   "id": "5c2bed56",
   "metadata": {
    "ExecuteTime": {
     "end_time": "2024-02-27T03:37:09.698360Z",
     "start_time": "2024-02-27T03:37:09.683743Z"
    }
   },
   "outputs": [
    {
     "data": {
      "text/plain": [
       "Index(['Unnamed: 0', 'open', 'high', 'low', 'close', 'volume', 'Date', 'Year',\n",
       "       'Month', 'Day',\n",
       "       ...\n",
       "       '100125 Trend Status_Bullish', 'Action_Ultimate Action',\n",
       "       'Opportunity_Optimal', 'Opportunity_Unfavorable', 'Order Type_BUY',\n",
       "       'Order Type_SELL', 'k_group_Neutral', 'k_group_Oversold',\n",
       "       'k_group_Undersold', 'k_group_slightly_oversold'],\n",
       "      dtype='object', length=117)"
      ]
     },
     "execution_count": 32,
     "metadata": {},
     "output_type": "execute_result"
    }
   ],
   "source": [
    "df.columns"
   ]
  },
  {
   "cell_type": "code",
   "execution_count": 92,
   "id": "89ec68b0",
   "metadata": {
    "ExecuteTime": {
     "end_time": "2024-03-02T22:10:57.072285Z",
     "start_time": "2024-03-02T22:10:57.047878Z"
    }
   },
   "outputs": [],
   "source": [
    "#Indepedent Variables \n",
    "X = df[['open', 'high', 'low', 'close', '25EMA', '50EMA', '75EMA', '100EMA',\n",
    "       '125EMA', 'Spread','Trend Status_Bearish',\n",
    "       'Trend Status_Bullish', '5075 Trend Status_Bearish',\n",
    "       '5075 Trend Status_Bullish', '75100 Trend Status_Bearish',\n",
    "       '75100 Trend Status_Bullish', '100125 Trend Status_Bearish',\n",
    "       '100125 Trend Status_Bullish', 'Action_Ultimate Action',\n",
    "       'Opportunity_Optimal', 'Opportunity_Unfavorable', 'Order Type_BUY',\n",
    "       'Order Type_SELL']]\n",
    "#Dependent Variable\n",
    "Y = df['2D High in Pips'] "
   ]
  },
  {
   "cell_type": "code",
   "execution_count": 34,
   "id": "ef80de3a",
   "metadata": {
    "ExecuteTime": {
     "end_time": "2024-02-27T03:37:40.523309Z",
     "start_time": "2024-02-27T03:37:40.499909Z"
    }
   },
   "outputs": [],
   "source": [
    "X_train,X_test,Y_train, Y_test = train_test_split(X,Y, test_size=0.2, random_state=42)\n"
   ]
  },
  {
   "cell_type": "markdown",
   "id": "4e5a2bea",
   "metadata": {},
   "source": [
    "## Linear Model "
   ]
  },
  {
   "cell_type": "markdown",
   "id": "3685574e",
   "metadata": {
    "heading_collapsed": true
   },
   "source": [
    "### Linear Mode on All Data"
   ]
  },
  {
   "cell_type": "code",
   "execution_count": 35,
   "id": "a6630d41",
   "metadata": {
    "ExecuteTime": {
     "end_time": "2024-02-27T03:38:15.186231Z",
     "start_time": "2024-02-27T03:38:14.890612Z"
    },
    "hidden": true
   },
   "outputs": [],
   "source": [
    "from sklearn.linear_model import LinearRegression\n",
    "from sklearn.metrics import mean_absolute_error, mean_squared_error\n",
    "from sklearn.model_selection import cross_val_score"
   ]
  },
  {
   "cell_type": "code",
   "execution_count": 36,
   "id": "7b1a5216",
   "metadata": {
    "ExecuteTime": {
     "end_time": "2024-02-27T03:38:19.283642Z",
     "start_time": "2024-02-27T03:38:19.155500Z"
    },
    "hidden": true,
    "scrolled": true
   },
   "outputs": [
    {
     "name": "stdout",
     "output_type": "stream",
     "text": [
      "MAE: 49.142909416773634\n",
      "MSE: 4897.6396575743565\n",
      "RMSE: 69.98313838042958\n"
     ]
    }
   ],
   "source": [
    "#Create and fit linear regression model \n",
    "lin_model = LinearRegression().fit(X_train,Y_train)\n",
    "\n",
    "#Make Predictions on test data\n",
    "y_preds = lin_model.predict(X_test)\n",
    "\n",
    "#Evaluate Model Performance \n",
    "mae = mean_absolute_error(Y_test, y_preds)\n",
    "mse = mean_squared_error(Y_test, y_preds)\n",
    "rmse = mean_squared_error(Y_test, y_preds, squared=False)\n",
    "\n",
    "print( 'MAE:', mae)\n",
    "print( 'MSE:', mse)\n",
    "print( 'RMSE:', rmse)"
   ]
  },
  {
   "cell_type": "code",
   "execution_count": 37,
   "id": "63207896",
   "metadata": {
    "ExecuteTime": {
     "end_time": "2024-02-27T03:38:37.591841Z",
     "start_time": "2024-02-27T03:38:36.847832Z"
    },
    "hidden": true
   },
   "outputs": [
    {
     "data": {
      "image/png": "[encoded data removed]",
      "text/plain": [
       "<Figure size 640x480 with 1 Axes>"
      ]
     },
     "metadata": {},
     "output_type": "display_data"
    }
   ],
   "source": [
    "import matplotlib.pyplot as plt\n",
    "\n",
    "plt.scatter(Y_test, y_preds)\n",
    "plt.xlabel(\"Actual Values\")\n",
    "plt.ylabel(\"Predicted Values\")\n",
    "plt.title(\"Actuals vs. Predictions\")\n",
    "plt.grid(True)\n",
    "plt.show()\n"
   ]
  },
  {
   "cell_type": "code",
   "execution_count": 38,
   "id": "58505a8d",
   "metadata": {
    "ExecuteTime": {
     "end_time": "2024-02-27T03:39:58.643898Z",
     "start_time": "2024-02-27T03:39:58.633402Z"
    },
    "hidden": true
   },
   "outputs": [
    {
     "name": "stdout",
     "output_type": "stream",
     "text": [
      "Feature Importance: [-1.81405654e+03  1.18202102e+03  9.45585674e+01 -3.40339179e+03\n",
      " -7.89655342e+03  4.13761624e+04 -7.81286620e+04  6.66358968e+04\n",
      " -1.80887342e+04  7.11993200e-01 -2.38460158e+00  2.38460164e+00\n",
      " -2.38460158e+00  2.38460164e+00 -2.38460158e+00  2.38460164e+00\n",
      " -2.38460158e+00  2.38460164e+00  0.00000000e+00  2.38460164e+00\n",
      " -2.38460158e+00  2.38460164e+00 -2.38460158e+00]\n"
     ]
    }
   ],
   "source": [
    "# Feature Importance Analysis \n",
    "coef = lin_model.coef_\n",
    "print('Feature Importance:', coef)"
   ]
  },
  {
   "cell_type": "code",
   "execution_count": 39,
   "id": "6bcb81ef",
   "metadata": {
    "ExecuteTime": {
     "end_time": "2024-02-27T03:40:16.534353Z",
     "start_time": "2024-02-27T03:40:16.496662Z"
    },
    "hidden": true
   },
   "outputs": [
    {
     "data": {
      "text/plain": [
       "-0.054194818626714714"
      ]
     },
     "execution_count": 39,
     "metadata": {},
     "output_type": "execute_result"
    }
   ],
   "source": [
    "lin_model.score(X_test,Y_test)"
   ]
  },
  {
   "cell_type": "code",
   "execution_count": 40,
   "id": "b6a6906c",
   "metadata": {
    "ExecuteTime": {
     "end_time": "2024-02-27T03:40:28.477946Z",
     "start_time": "2024-02-27T03:40:28.318764Z"
    },
    "hidden": true
   },
   "outputs": [
    {
     "name": "stdout",
     "output_type": "stream",
     "text": [
      "Cross-validation scores: [53.97484851 63.11899835 48.17776197 45.10603758 54.29961053]\n",
      "Average MAE: 52.93545138796545\n"
     ]
    }
   ],
   "source": [
    "#Perform k-folk cross validation \n",
    "sell_trade_high_scores = cross_val_score(LinearRegression(),X, Y,cv=5, scoring ='neg_mean_absolute_error' )\n",
    "\n",
    "print('Cross-validation scores:', -sell_trade_high_scores)\n",
    "print('Average MAE:', -sell_trade_high_scores.mean())"
   ]
  },
  {
   "cell_type": "markdown",
   "id": "519d69e9",
   "metadata": {
    "heading_collapsed": true
   },
   "source": [
    "### Linear Model on Buy Trades HIGH "
   ]
  },
  {
   "cell_type": "code",
   "execution_count": 41,
   "id": "59e44912",
   "metadata": {
    "ExecuteTime": {
     "end_time": "2024-02-27T03:40:53.235311Z",
     "start_time": "2024-02-27T03:40:53.221216Z"
    },
    "hidden": true
   },
   "outputs": [
    {
     "data": {
      "text/plain": [
       "(239, 117)"
      ]
     },
     "execution_count": 41,
     "metadata": {},
     "output_type": "execute_result"
    }
   ],
   "source": [
    "#Create a subset of df with Buy Trades \n",
    "buy_df =  df[df['Order Type_BUY'] == True]\n",
    "\n",
    "buy_df.shape"
   ]
  },
  {
   "cell_type": "code",
   "execution_count": 42,
   "id": "b7b74539",
   "metadata": {
    "ExecuteTime": {
     "end_time": "2024-02-27T03:41:02.495116Z",
     "start_time": "2024-02-27T03:41:02.420759Z"
    },
    "hidden": true
   },
   "outputs": [
    {
     "data": {
      "application/vnd.plotly.v1+json": {
       "config": {
        "plotlyServerURL": "https://plot.ly"
       },
       "data": [
        {
         "mode": "markers",
         "type": "scatter",
         "x": [
          1.59814,
          1.61085,
          1.61428,
          1.6367,
          1.63584,
          1.64431,
          1.64438,
          1.64158,
          1.64156,
          1.64346,
          1.64844,
          1.64523,
          1.66166,
          1.66213,
          1.66374,
          1.66319,
          1.66552,
          1.6673,
          1.67014,
          1.66062,
          1.67788,
          1.67744,
          1.67843,
          1.68518,
          1.68492,
          1.70982,
          1.71046,
          1.71138,
          1.71149,
          1.71154,
          1.70765,
          1.71122,
          1.54074,
          1.5395,
          1.54098,
          1.51158,
          1.51696,
          1.51752,
          1.55502,
          1.55388,
          1.56834,
          1.572,
          1.5705,
          1.5721,
          1.57246,
          1.55558,
          1.55662,
          1.55861,
          1.55836,
          1.55648,
          1.55889,
          1.56204,
          1.56796,
          1.53856,
          1.53734,
          1.53696,
          1.53819,
          1.53806,
          1.42565,
          1.42433,
          1.42724,
          1.45351,
          1.45436,
          1.45003,
          1.44638,
          1.45932,
          1.45148,
          1.45238,
          1.32628,
          1.32232,
          1.25905,
          1.25702,
          1.25808,
          1.25635,
          1.24791,
          1.24166,
          1.25287,
          1.24656,
          1.245,
          1.24368,
          1.24641,
          1.29139,
          1.29606,
          1.2932,
          1.29582,
          1.28761,
          1.29712,
          1.29791,
          1.31182,
          1.3082,
          1.34534,
          1.34382,
          1.33842,
          1.33968,
          1.35171,
          1.35184,
          1.35169,
          1.41198,
          1.3964,
          1.39778,
          1.39724,
          1.39779,
          1.39144,
          1.40756,
          1.41928,
          1.42138,
          1.41934,
          1.30828,
          1.31165,
          1.3124,
          1.31102,
          1.31438,
          1.2731,
          1.28358,
          1.3046,
          1.30635,
          1.31612,
          1.31178,
          1.31506,
          1.3118,
          1.31496,
          1.31618,
          1.2421,
          1.24286,
          1.24337,
          1.28131,
          1.28187,
          1.28827,
          1.2871,
          1.2858,
          1.28734,
          1.3194,
          1.30682,
          1.31184,
          1.31174,
          1.31052,
          1.30721,
          1.30618,
          1.30594,
          1.24394,
          1.24406,
          1.246,
          1.24334,
          1.24454,
          1.24322,
          1.24418,
          1.26019,
          1.25923,
          1.2593,
          1.25476,
          1.25281,
          1.2559,
          1.2554,
          1.25162,
          1.2547,
          1.3048,
          1.30372,
          1.30505,
          1.30978,
          1.31082,
          1.3269,
          1.32784,
          1.32222,
          1.32541,
          1.29474,
          1.30168,
          1.3017,
          1.30008,
          1.31155,
          1.33048,
          1.32672,
          1.33571,
          1.33713,
          1.33687,
          1.33752,
          1.34097,
          1.34523,
          1.35652,
          1.35484,
          1.35688,
          1.36059,
          1.36534,
          1.36502,
          1.3667,
          1.36784,
          1.36872,
          1.40172,
          1.38433,
          1.38564,
          1.38598,
          1.3875,
          1.3868,
          1.38787,
          1.41218,
          1.41416,
          1.41595,
          1.4162,
          1.41568,
          1.38659,
          1.3808,
          1.38226,
          1.37236,
          1.3673,
          1.36264,
          1.36122,
          1.35981,
          1.35316,
          1.35332,
          1.35131,
          1.35514,
          1.35506,
          1.21129,
          1.20276,
          1.21113,
          1.145,
          1.14614,
          1.14106,
          1.19506,
          1.19428,
          1.2159,
          1.22925,
          1.23386,
          1.23446,
          1.2281,
          1.23517,
          1.24054,
          1.24246,
          1.24708,
          1.24681,
          1.25129,
          1.27078,
          1.26986,
          1.27117,
          1.27112,
          1.27113,
          1.29324,
          1.2222,
          1.25952,
          1.26404
         ],
         "y": [
          114.6,
          9.6,
          22.8,
          51.599999999999994,
          13.9,
          31.3,
          30.599999999999998,
          28.799999999999,
          101.60000000000099,
          32,
          141,
          67.5,
          110.400000000001,
          105.69999999999901,
          131.499999999999,
          137,
          86.600000000001,
          104.999999999999,
          1.599999999999,
          4.999999999999001,
          51.499999999999005,
          83.199999999998,
          73.29999999999801,
          51.800000000001006,
          33.199999999999,
          69.800000000002,
          63.4,
          37.200000000001,
          58.899999999999,
          77,
          115.90000000000201,
          5.399999999999,
          51.399999999999,
          63.799999999998,
          11.699999999998,
          93.9,
          278.399999999998,
          347.8,
          117.39999999999799,
          -0.3999999999981796,
          86.8,
          69.2,
          84.2,
          54.699999999998,
          20,
          18.400000000000002,
          112,
          66.59999999999799,
          69.099999999999,
          87.899999999998,
          128.299999999998,
          106.399999999999,
          3.899999999998,
          33.6,
          72.2,
          32.099999999999,
          19.8,
          12.499999999999,
          54.899999999999004,
          78.3,
          19.199999999999,
          36.799999999999,
          28.299999999998,
          142.1,
          242.999999999999,
          60.400000000000006,
          2.4999999999980003,
          57.799999999998,
          84.49999999999999,
          56.800000000001,
          114.6,
          127.39999999999901,
          143.4,
          4.699999999999,
          181.099999999998,
          289.8,
          9.5,
          13.400000000001,
          74.499999999999,
          64.600000000001,
          41.8,
          21.599999999999,
          54.499999999999005,
          83.1,
          8.2,
          51.700000000001,
          78.199999999999,
          104.900000000001,
          46.399999999999004,
          9.999999999998002,
          61.500000000000995,
          25.999999999999,
          136.800000000001,
          35,
          45.299999999999,
          46.399999999999004,
          183.19999999999803,
          30.399999999999,
          60.199999999999,
          46.399999999999004,
          51.799999999999,
          31.499999999998998,
          174,
          20.999999999999,
          54.199999999998994,
          32.2,
          6.399999999998999,
          93.199999999999,
          101.89999999999901,
          39.4,
          126.8,
          7.2999999999980005,
          234.199999999999,
          169.20000000000002,
          57.3,
          39.8,
          37.500000000001,
          67.099999999999,
          34.3,
          34.699999999998,
          101.200000000001,
          61.7,
          82.299999999999,
          74.699999999998,
          10.499999999999,
          63.5,
          86.199999999998,
          34.799999999998995,
          26.2,
          20.199999999998997,
          38.7,
          20.999999999999,
          144.4,
          51.2,
          52.199999999999996,
          18.7,
          33.3,
          8.000000000001,
          10.599999999998,
          83.4,
          77,
          32.2,
          14.800000000000999,
          38.4,
          48.900000000000006,
          11.799999999999,
          51.400000000001,
          95.399999999998,
          0.7999999999985796,
          101.999999999999,
          121.500000000001,
          65.8,
          111.599999999998,
          200.299999999999,
          220.900000000001,
          76.800000000001,
          95.60000000000001,
          92.29999999999801,
          157.4,
          40.699999999997,
          50.099999999999,
          40.699999999999996,
          71.000000000001,
          3.5,
          58.4,
          62.8,
          62.599999999999,
          25.2,
          126.999999999999,
          201.599999999999,
          182.200000000001,
          121.200000000001,
          42.200000000001005,
          7.5,
          123.8,
          161.1,
          166.300000000001,
          68.2,
          87.39999999999901,
          101.599999999999,
          21.299999999999002,
          105.399999999999,
          107.70000000000101,
          90.9,
          32.100000000000996,
          23.300000000001,
          10.599999999998,
          86.199999999998,
          73.099999999999,
          116.799999999999,
          101.599999999999,
          108.599999999998,
          53.100000000001,
          97.59999999999901,
          108.89999999999799,
          43.59999999999901,
          41.1,
          43.699999999999,
          28.699999999999,
          45.899999999998,
          18.899999999999,
          91.6,
          25.600000000001,
          22.799999999998,
          49.899999999998,
          4.399999999999,
          112.100000000001,
          76.399999999998,
          61.1,
          69.299999999998,
          2.999999999999,
          62.900000000001,
          110.29999999999801,
          37.099999999998,
          115,
          103.600000000001,
          386.200000000001,
          360.40000000000003,
          368.2,
          82.99999999999899,
          138.199999999999,
          63.200000000001,
          47.6,
          244.4,
          118.599999999999,
          44.8,
          91.000000000001,
          122.8,
          130.79999999999902,
          28.099999999999,
          40.999999999999,
          60.999999999999,
          47.9,
          48.399999999999,
          3.899999999998,
          32.400000000001,
          58.4,
          18.599999999999,
          103.899999999999
         ]
        }
       ],
       "layout": {
        "template": {
         "data": {
          "bar": [
           {
            "error_x": {
             "color": "#2a3f5f"
            },
            "error_y": {
             "color": "#2a3f5f"
            },
            "marker": {
             "line": {
              "color": "#E5ECF6",
              "width": 0.5
             },
             "pattern": {
              "fillmode": "overlay",
              "size": 10,
              "solidity": 0.2
             }
            },
            "type": "bar"
           }
          ],
          "barpolar": [
           {
            "marker": {
             "line": {
              "color": "#E5ECF6",
              "width": 0.5
             },
             "pattern": {
              "fillmode": "overlay",
              "size": 10,
              "solidity": 0.2
             }
            },
            "type": "barpolar"
           }
          ],
          "carpet": [
           {
            "aaxis": {
             "endlinecolor": "#2a3f5f",
             "gridcolor": "white",
             "linecolor": "white",
             "minorgridcolor": "white",
             "startlinecolor": "#2a3f5f"
            },
            "baxis": {
             "endlinecolor": "#2a3f5f",
             "gridcolor": "white",
             "linecolor": "white",
             "minorgridcolor": "white",
             "startlinecolor": "#2a3f5f"
            },
            "type": "carpet"
           }
          ],
          "choropleth": [
           {
            "colorbar": {
             "outlinewidth": 0,
             "ticks": ""
            },
            "type": "choropleth"
           }
          ],
          "contour": [
           {
            "colorbar": {
             "outlinewidth": 0,
             "ticks": ""
            },
            "colorscale": [
             [
              0,
              "#0d0887"
             ],
             [
              0.1111111111111111,
              "#46039f"
             ],
             [
              0.2222222222222222,
              "#7201a8"
             ],
             [
              0.3333333333333333,
              "#9c179e"
             ],
             [
              0.4444444444444444,
              "#bd3786"
             ],
             [
              0.5555555555555556,
              "#d8576b"
             ],
             [
              0.6666666666666666,
              "#ed7953"
             ],
             [
              0.7777777777777778,
              "#fb9f3a"
             ],
             [
              0.8888888888888888,
              "#fdca26"
             ],
             [
              1,
              "#f0f921"
             ]
            ],
            "type": "contour"
           }
          ],
          "contourcarpet": [
           {
            "colorbar": {
             "outlinewidth": 0,
             "ticks": ""
            },
            "type": "contourcarpet"
           }
          ],
          "heatmap": [
           {
            "colorbar": {
             "outlinewidth": 0,
             "ticks": ""
            },
            "colorscale": [
             [
              0,
              "#0d0887"
             ],
             [
              0.1111111111111111,
              "#46039f"
             ],
             [
              0.2222222222222222,
              "#7201a8"
             ],
             [
              0.3333333333333333,
              "#9c179e"
             ],
             [
              0.4444444444444444,
              "#bd3786"
             ],
             [
              0.5555555555555556,
              "#d8576b"
             ],
             [
              0.6666666666666666,
              "#ed7953"
             ],
             [
              0.7777777777777778,
              "#fb9f3a"
             ],
             [
              0.8888888888888888,
              "#fdca26"
             ],
             [
              1,
              "#f0f921"
             ]
            ],
            "type": "heatmap"
           }
          ],
          "heatmapgl": [
           {
            "colorbar": {
             "outlinewidth": 0,
             "ticks": ""
            },
            "colorscale": [
             [
              0,
              "#0d0887"
             ],
             [
              0.1111111111111111,
              "#46039f"
             ],
             [
              0.2222222222222222,
              "#7201a8"
             ],
             [
              0.3333333333333333,
              "#9c179e"
             ],
             [
              0.4444444444444444,
              "#bd3786"
             ],
             [
              0.5555555555555556,
              "#d8576b"
             ],
             [
              0.6666666666666666,
              "#ed7953"
             ],
             [
              0.7777777777777778,
              "#fb9f3a"
             ],
             [
              0.8888888888888888,
              "#fdca26"
             ],
             [
              1,
              "#f0f921"
             ]
            ],
            "type": "heatmapgl"
           }
          ],
          "histogram": [
           {
            "marker": {
             "pattern": {
              "fillmode": "overlay",
              "size": 10,
              "solidity": 0.2
             }
            },
            "type": "histogram"
           }
          ],
          "histogram2d": [
           {
            "colorbar": {
             "outlinewidth": 0,
             "ticks": ""
            },
            "colorscale": [
             [
              0,
              "#0d0887"
             ],
             [
              0.1111111111111111,
              "#46039f"
             ],
             [
              0.2222222222222222,
              "#7201a8"
             ],
             [
              0.3333333333333333,
              "#9c179e"
             ],
             [
              0.4444444444444444,
              "#bd3786"
             ],
             [
              0.5555555555555556,
              "#d8576b"
             ],
             [
              0.6666666666666666,
              "#ed7953"
             ],
             [
              0.7777777777777778,
              "#fb9f3a"
             ],
             [
              0.8888888888888888,
              "#fdca26"
             ],
             [
              1,
              "#f0f921"
             ]
            ],
            "type": "histogram2d"
           }
          ],
          "histogram2dcontour": [
           {
            "colorbar": {
             "outlinewidth": 0,
             "ticks": ""
            },
            "colorscale": [
             [
              0,
              "#0d0887"
             ],
             [
              0.1111111111111111,
              "#46039f"
             ],
             [
              0.2222222222222222,
              "#7201a8"
             ],
             [
              0.3333333333333333,
              "#9c179e"
             ],
             [
              0.4444444444444444,
              "#bd3786"
             ],
             [
              0.5555555555555556,
              "#d8576b"
             ],
             [
              0.6666666666666666,
              "#ed7953"
             ],
             [
              0.7777777777777778,
              "#fb9f3a"
             ],
             [
              0.8888888888888888,
              "#fdca26"
             ],
             [
              1,
              "#f0f921"
             ]
            ],
            "type": "histogram2dcontour"
           }
          ],
          "mesh3d": [
           {
            "colorbar": {
             "outlinewidth": 0,
             "ticks": ""
            },
            "type": "mesh3d"
           }
          ],
          "parcoords": [
           {
            "line": {
             "colorbar": {
              "outlinewidth": 0,
              "ticks": ""
             }
            },
            "type": "parcoords"
           }
          ],
          "pie": [
           {
            "automargin": true,
            "type": "pie"
           }
          ],
          "scatter": [
           {
            "fillpattern": {
             "fillmode": "overlay",
             "size": 10,
             "solidity": 0.2
            },
            "type": "scatter"
           }
          ],
          "scatter3d": [
           {
            "line": {
             "colorbar": {
              "outlinewidth": 0,
              "ticks": ""
             }
            },
            "marker": {
             "colorbar": {
              "outlinewidth": 0,
              "ticks": ""
             }
            },
            "type": "scatter3d"
           }
          ],
          "scattercarpet": [
           {
            "marker": {
             "colorbar": {
              "outlinewidth": 0,
              "ticks": ""
             }
            },
            "type": "scattercarpet"
           }
          ],
          "scattergeo": [
           {
            "marker": {
             "colorbar": {
              "outlinewidth": 0,
              "ticks": ""
             }
            },
            "type": "scattergeo"
           }
          ],
          "scattergl": [
           {
            "marker": {
             "colorbar": {
              "outlinewidth": 0,
              "ticks": ""
             }
            },
            "type": "scattergl"
           }
          ],
          "scattermapbox": [
           {
            "marker": {
             "colorbar": {
              "outlinewidth": 0,
              "ticks": ""
             }
            },
            "type": "scattermapbox"
           }
          ],
          "scatterpolar": [
           {
            "marker": {
             "colorbar": {
              "outlinewidth": 0,
              "ticks": ""
             }
            },
            "type": "scatterpolar"
           }
          ],
          "scatterpolargl": [
           {
            "marker": {
             "colorbar": {
              "outlinewidth": 0,
              "ticks": ""
             }
            },
            "type": "scatterpolargl"
           }
          ],
          "scatterternary": [
           {
            "marker": {
             "colorbar": {
              "outlinewidth": 0,
              "ticks": ""
             }
            },
            "type": "scatterternary"
           }
          ],
          "surface": [
           {
            "colorbar": {
             "outlinewidth": 0,
             "ticks": ""
            },
            "colorscale": [
             [
              0,
              "#0d0887"
             ],
             [
              0.1111111111111111,
              "#46039f"
             ],
             [
              0.2222222222222222,
              "#7201a8"
             ],
             [
              0.3333333333333333,
              "#9c179e"
             ],
             [
              0.4444444444444444,
              "#bd3786"
             ],
             [
              0.5555555555555556,
              "#d8576b"
             ],
             [
              0.6666666666666666,
              "#ed7953"
             ],
             [
              0.7777777777777778,
              "#fb9f3a"
             ],
             [
              0.8888888888888888,
              "#fdca26"
             ],
             [
              1,
              "#f0f921"
             ]
            ],
            "type": "surface"
           }
          ],
          "table": [
           {
            "cells": {
             "fill": {
              "color": "#EBF0F8"
             },
             "line": {
              "color": "white"
             }
            },
            "header": {
             "fill": {
              "color": "#C8D4E3"
             },
             "line": {
              "color": "white"
             }
            },
            "type": "table"
           }
          ]
         },
         "layout": {
          "annotationdefaults": {
           "arrowcolor": "#2a3f5f",
           "arrowhead": 0,
           "arrowwidth": 1
          },
          "autotypenumbers": "strict",
          "coloraxis": {
           "colorbar": {
            "outlinewidth": 0,
            "ticks": ""
           }
          },
          "colorscale": {
           "diverging": [
            [
             0,
             "#8e0152"
            ],
            [
             0.1,
             "#c51b7d"
            ],
            [
             0.2,
             "#de77ae"
            ],
            [
             0.3,
             "#f1b6da"
            ],
            [
             0.4,
             "#fde0ef"
            ],
            [
             0.5,
             "#f7f7f7"
            ],
            [
             0.6,
             "#e6f5d0"
            ],
            [
             0.7,
             "#b8e186"
            ],
            [
             0.8,
             "#7fbc41"
            ],
            [
             0.9,
             "#4d9221"
            ],
            [
             1,
             "#276419"
            ]
           ],
           "sequential": [
            [
             0,
             "#0d0887"
            ],
            [
             0.1111111111111111,
             "#46039f"
            ],
            [
             0.2222222222222222,
             "#7201a8"
            ],
            [
             0.3333333333333333,
             "#9c179e"
            ],
            [
             0.4444444444444444,
             "#bd3786"
            ],
            [
             0.5555555555555556,
             "#d8576b"
            ],
            [
             0.6666666666666666,
             "#ed7953"
            ],
            [
             0.7777777777777778,
             "#fb9f3a"
            ],
            [
             0.8888888888888888,
             "#fdca26"
            ],
            [
             1,
             "#f0f921"
            ]
           ],
           "sequentialminus": [
            [
             0,
             "#0d0887"
            ],
            [
             0.1111111111111111,
             "#46039f"
            ],
            [
             0.2222222222222222,
             "#7201a8"
            ],
            [
             0.3333333333333333,
             "#9c179e"
            ],
            [
             0.4444444444444444,
             "#bd3786"
            ],
            [
             0.5555555555555556,
             "#d8576b"
            ],
            [
             0.6666666666666666,
             "#ed7953"
            ],
            [
             0.7777777777777778,
             "#fb9f3a"
            ],
            [
             0.8888888888888888,
             "#fdca26"
            ],
            [
             1,
             "#f0f921"
            ]
           ]
          },
          "colorway": [
           "#636efa",
           "#EF553B",
           "#00cc96",
           "#ab63fa",
           "#FFA15A",
           "#19d3f3",
           "#FF6692",
           "#B6E880",
           "#FF97FF",
           "#FECB52"
          ],
          "font": {
           "color": "#2a3f5f"
          },
          "geo": {
           "bgcolor": "white",
           "lakecolor": "white",
           "landcolor": "#E5ECF6",
           "showlakes": true,
           "showland": true,
           "subunitcolor": "white"
          },
          "hoverlabel": {
           "align": "left"
          },
          "hovermode": "closest",
          "mapbox": {
           "style": "light"
          },
          "paper_bgcolor": "white",
          "plot_bgcolor": "#E5ECF6",
          "polar": {
           "angularaxis": {
            "gridcolor": "white",
            "linecolor": "white",
            "ticks": ""
           },
           "bgcolor": "#E5ECF6",
           "radialaxis": {
            "gridcolor": "white",
            "linecolor": "white",
            "ticks": ""
           }
          },
          "scene": {
           "xaxis": {
            "backgroundcolor": "#E5ECF6",
            "gridcolor": "white",
            "gridwidth": 2,
            "linecolor": "white",
            "showbackground": true,
            "ticks": "",
            "zerolinecolor": "white"
           },
           "yaxis": {
            "backgroundcolor": "#E5ECF6",
            "gridcolor": "white",
            "gridwidth": 2,
            "linecolor": "white",
            "showbackground": true,
            "ticks": "",
            "zerolinecolor": "white"
           },
           "zaxis": {
            "backgroundcolor": "#E5ECF6",
            "gridcolor": "white",
            "gridwidth": 2,
            "linecolor": "white",
            "showbackground": true,
            "ticks": "",
            "zerolinecolor": "white"
           }
          },
          "shapedefaults": {
           "line": {
            "color": "#2a3f5f"
           }
          },
          "ternary": {
           "aaxis": {
            "gridcolor": "white",
            "linecolor": "white",
            "ticks": ""
           },
           "baxis": {
            "gridcolor": "white",
            "linecolor": "white",
            "ticks": ""
           },
           "bgcolor": "#E5ECF6",
           "caxis": {
            "gridcolor": "white",
            "linecolor": "white",
            "ticks": ""
           }
          },
          "title": {
           "x": 0.05
          },
          "xaxis": {
           "automargin": true,
           "gridcolor": "white",
           "linecolor": "white",
           "ticks": "",
           "title": {
            "standoff": 15
           },
           "zerolinecolor": "white",
           "zerolinewidth": 2
          },
          "yaxis": {
           "automargin": true,
           "gridcolor": "white",
           "linecolor": "white",
           "ticks": "",
           "title": {
            "standoff": 15
           },
           "zerolinecolor": "white",
           "zerolinewidth": 2
          }
         }
        },
        "title": {
         "text": "Buy Trades 2D High Price"
        },
        "xaxis": {
         "title": {
          "text": "Closed Price at Trade Open"
         }
        },
        "yaxis": {
         "title": {
          "text": "2D High in Pips"
         }
        }
       }
      },
      "text/html": [
       "<div>                            <div id=\"647fc455-5324-4bd8-8458-badbc9c44ec4\" class=\"plotly-graph-div\" style=\"height:525px; width:100%;\"></div>            <script type=\"text/javascript\">                require([\"plotly\"], function(Plotly) {                    window.PLOTLYENV=window.PLOTLYENV || {};                                    if (document.getElementById(\"647fc455-5324-4bd8-8458-badbc9c44ec4\")) {                    Plotly.newPlot(                        \"647fc455-5324-4bd8-8458-badbc9c44ec4\",                        [{\"mode\":\"markers\",\"x\":[1.59814,1.61085,1.61428,1.6367,1.63584,1.64431,1.64438,1.64158,1.64156,1.64346,1.64844,1.64523,1.66166,1.66213,1.66374,1.66319,1.66552,1.6673,1.67014,1.66062,1.67788,1.67744,1.67843,1.68518,1.68492,1.70982,1.71046,1.71138,1.71149,1.71154,1.70765,1.71122,1.54074,1.5395,1.54098,1.51158,1.51696,1.51752,1.55502,1.55388,1.56834,1.572,1.5705,1.5721,1.57246,1.55558,1.55662,1.55861,1.55836,1.55648,1.55889,1.56204,1.56796,1.53856,1.53734,1.53696,1.53819,1.53806,1.42565,1.42433,1.42724,1.45351,1.45436,1.45003,1.44638,1.45932,1.45148,1.45238,1.32628,1.32232,1.25905,1.25702,1.25808,1.25635,1.24791,1.24166,1.25287,1.24656,1.245,1.24368,1.24641,1.29139,1.29606,1.2932,1.29582,1.28761,1.29712,1.29791,1.31182,1.3082,1.34534,1.34382,1.33842,1.33968,1.35171,1.35184,1.35169,1.41198,1.3964,1.39778,1.39724,1.39779,1.39144,1.40756,1.41928,1.42138,1.41934,1.30828,1.31165,1.3124,1.31102,1.31438,1.2731,1.28358,1.3046,1.30635,1.31612,1.31178,1.31506,1.3118,1.31496,1.31618,1.2421,1.24286,1.24337,1.28131,1.28187,1.28827,1.2871,1.2858,1.28734,1.3194,1.30682,1.31184,1.31174,1.31052,1.30721,1.30618,1.30594,1.24394,1.24406,1.246,1.24334,1.24454,1.24322,1.24418,1.26019,1.25923,1.2593,1.25476,1.25281,1.2559,1.2554,1.25162,1.2547,1.3048,1.30372,1.30505,1.30978,1.31082,1.3269,1.32784,1.32222,1.32541,1.29474,1.30168,1.3017,1.30008,1.31155,1.33048,1.32672,1.33571,1.33713,1.33687,1.33752,1.34097,1.34523,1.35652,1.35484,1.35688,1.36059,1.36534,1.36502,1.3667,1.36784,1.36872,1.40172,1.38433,1.38564,1.38598,1.3875,1.3868,1.38787,1.41218,1.41416,1.41595,1.4162,1.41568,1.38659,1.3808,1.38226,1.37236,1.3673,1.36264,1.36122,1.35981,1.35316,1.35332,1.35131,1.35514,1.35506,1.21129,1.20276,1.21113,1.145,1.14614,1.14106,1.19506,1.19428,1.2159,1.22925,1.23386,1.23446,1.2281,1.23517,1.24054,1.24246,1.24708,1.24681,1.25129,1.27078,1.26986,1.27117,1.27112,1.27113,1.29324,1.2222,1.25952,1.26404],\"y\":[114.6,9.6,22.8,51.599999999999994,13.9,31.3,30.599999999999998,28.799999999999,101.60000000000099,32.0,141.0,67.5,110.400000000001,105.69999999999901,131.499999999999,137.0,86.600000000001,104.999999999999,1.599999999999,4.999999999999001,51.499999999999005,83.199999999998,73.29999999999801,51.800000000001006,33.199999999999,69.800000000002,63.4,37.200000000001,58.899999999999,77.0,115.90000000000201,5.399999999999,51.399999999999,63.799999999998,11.699999999998,93.9,278.399999999998,347.8,117.39999999999799,-0.3999999999981796,86.8,69.2,84.2,54.699999999998,20.0,18.400000000000002,112.0,66.59999999999799,69.099999999999,87.899999999998,128.299999999998,106.399999999999,3.899999999998,33.6,72.2,32.099999999999,19.8,12.499999999999,54.899999999999004,78.3,19.199999999999,36.799999999999,28.299999999998,142.1,242.999999999999,60.400000000000006,2.4999999999980003,57.799999999998,84.49999999999999,56.800000000001,114.6,127.39999999999901,143.4,4.699999999999,181.099999999998,289.8,9.5,13.400000000001,74.499999999999,64.600000000001,41.8,21.599999999999,54.499999999999005,83.1,8.2,51.700000000001,78.199999999999,104.900000000001,46.399999999999004,9.999999999998002,61.500000000000995,25.999999999999,136.800000000001,35.0,45.299999999999,46.399999999999004,183.19999999999803,30.399999999999,60.199999999999,46.399999999999004,51.799999999999,31.499999999998998,174.0,20.999999999999,54.199999999998994,32.2,6.399999999998999,93.199999999999,101.89999999999901,39.4,126.8,7.2999999999980005,234.199999999999,169.20000000000002,57.3,39.8,37.500000000001,67.099999999999,34.3,34.699999999998,101.200000000001,61.7,82.299999999999,74.699999999998,10.499999999999,63.5,86.199999999998,34.799999999998995,26.2,20.199999999998997,38.7,20.999999999999,144.4,51.2,52.199999999999996,18.7,33.3,8.000000000001,10.599999999998,83.4,77.0,32.2,14.800000000000999,38.4,48.900000000000006,11.799999999999,51.400000000001,95.399999999998,0.7999999999985796,101.999999999999,121.500000000001,65.8,111.599999999998,200.299999999999,220.900000000001,76.800000000001,95.60000000000001,92.29999999999801,157.4,40.699999999997,50.099999999999,40.699999999999996,71.000000000001,3.5,58.4,62.8,62.599999999999,25.2,126.999999999999,201.599999999999,182.200000000001,121.200000000001,42.200000000001005,7.5,123.8,161.1,166.300000000001,68.2,87.39999999999901,101.599999999999,21.299999999999002,105.399999999999,107.70000000000101,90.9,32.100000000000996,23.300000000001,10.599999999998,86.199999999998,73.099999999999,116.799999999999,101.599999999999,108.599999999998,53.100000000001,97.59999999999901,108.89999999999799,43.59999999999901,41.1,43.699999999999,28.699999999999,45.899999999998,18.899999999999,91.6,25.600000000001,22.799999999998,49.899999999998,4.399999999999,112.100000000001,76.399999999998,61.1,69.299999999998,2.999999999999,62.900000000001,110.29999999999801,37.099999999998,115.0,103.600000000001,386.200000000001,360.40000000000003,368.2,82.99999999999899,138.199999999999,63.200000000001,47.6,244.4,118.599999999999,44.8,91.000000000001,122.8,130.79999999999902,28.099999999999,40.999999999999,60.999999999999,47.9,48.399999999999,3.899999999998,32.400000000001,58.4,18.599999999999,103.899999999999],\"type\":\"scatter\"}],                        {\"template\":{\"data\":{\"histogram2dcontour\":[{\"type\":\"histogram2dcontour\",\"colorbar\":{\"outlinewidth\":0,\"ticks\":\"\"},\"colorscale\":[[0.0,\"#0d0887\"],[0.1111111111111111,\"#46039f\"],[0.2222222222222222,\"#7201a8\"],[0.3333333333333333,\"#9c179e\"],[0.4444444444444444,\"#bd3786\"],[0.5555555555555556,\"#d8576b\"],[0.6666666666666666,\"#ed7953\"],[0.7777777777777778,\"#fb9f3a\"],[0.8888888888888888,\"#fdca26\"],[1.0,\"#f0f921\"]]}],\"choropleth\":[{\"type\":\"choropleth\",\"colorbar\":{\"outlinewidth\":0,\"ticks\":\"\"}}],\"histogram2d\":[{\"type\":\"histogram2d\",\"colorbar\":{\"outlinewidth\":0,\"ticks\":\"\"},\"colorscale\":[[0.0,\"#0d0887\"],[0.1111111111111111,\"#46039f\"],[0.2222222222222222,\"#7201a8\"],[0.3333333333333333,\"#9c179e\"],[0.4444444444444444,\"#bd3786\"],[0.5555555555555556,\"#d8576b\"],[0.6666666666666666,\"#ed7953\"],[0.7777777777777778,\"#fb9f3a\"],[0.8888888888888888,\"#fdca26\"],[1.0,\"#f0f921\"]]}],\"heatmap\":[{\"type\":\"heatmap\",\"colorbar\":{\"outlinewidth\":0,\"ticks\":\"\"},\"colorscale\":[[0.0,\"#0d0887\"],[0.1111111111111111,\"#46039f\"],[0.2222222222222222,\"#7201a8\"],[0.3333333333333333,\"#9c179e\"],[0.4444444444444444,\"#bd3786\"],[0.5555555555555556,\"#d8576b\"],[0.6666666666666666,\"#ed7953\"],[0.7777777777777778,\"#fb9f3a\"],[0.8888888888888888,\"#fdca26\"],[1.0,\"#f0f921\"]]}],\"heatmapgl\":[{\"type\":\"heatmapgl\",\"colorbar\":{\"outlinewidth\":0,\"ticks\":\"\"},\"colorscale\":[[0.0,\"#0d0887\"],[0.1111111111111111,\"#46039f\"],[0.2222222222222222,\"#7201a8\"],[0.3333333333333333,\"#9c179e\"],[0.4444444444444444,\"#bd3786\"],[0.5555555555555556,\"#d8576b\"],[0.6666666666666666,\"#ed7953\"],[0.7777777777777778,\"#fb9f3a\"],[0.8888888888888888,\"#fdca26\"],[1.0,\"#f0f921\"]]}],\"contourcarpet\":[{\"type\":\"contourcarpet\",\"colorbar\":{\"outlinewidth\":0,\"ticks\":\"\"}}],\"contour\":[{\"type\":\"contour\",\"colorbar\":{\"outlinewidth\":0,\"ticks\":\"\"},\"colorscale\":[[0.0,\"#0d0887\"],[0.1111111111111111,\"#46039f\"],[0.2222222222222222,\"#7201a8\"],[0.3333333333333333,\"#9c179e\"],[0.4444444444444444,\"#bd3786\"],[0.5555555555555556,\"#d8576b\"],[0.6666666666666666,\"#ed7953\"],[0.7777777777777778,\"#fb9f3a\"],[0.8888888888888888,\"#fdca26\"],[1.0,\"#f0f921\"]]}],\"surface\":[{\"type\":\"surface\",\"colorbar\":{\"outlinewidth\":0,\"ticks\":\"\"},\"colorscale\":[[0.0,\"#0d0887\"],[0.1111111111111111,\"#46039f\"],[0.2222222222222222,\"#7201a8\"],[0.3333333333333333,\"#9c179e\"],[0.4444444444444444,\"#bd3786\"],[0.5555555555555556,\"#d8576b\"],[0.6666666666666666,\"#ed7953\"],[0.7777777777777778,\"#fb9f3a\"],[0.8888888888888888,\"#fdca26\"],[1.0,\"#f0f921\"]]}],\"mesh3d\":[{\"type\":\"mesh3d\",\"colorbar\":{\"outlinewidth\":0,\"ticks\":\"\"}}],\"scatter\":[{\"fillpattern\":{\"fillmode\":\"overlay\",\"size\":10,\"solidity\":0.2},\"type\":\"scatter\"}],\"parcoords\":[{\"type\":\"parcoords\",\"line\":{\"colorbar\":{\"outlinewidth\":0,\"ticks\":\"\"}}}],\"scatterpolargl\":[{\"type\":\"scatterpolargl\",\"marker\":{\"colorbar\":{\"outlinewidth\":0,\"ticks\":\"\"}}}],\"bar\":[{\"error_x\":{\"color\":\"#2a3f5f\"},\"error_y\":{\"color\":\"#2a3f5f\"},\"marker\":{\"line\":{\"color\":\"#E5ECF6\",\"width\":0.5},\"pattern\":{\"fillmode\":\"overlay\",\"size\":10,\"solidity\":0.2}},\"type\":\"bar\"}],\"scattergeo\":[{\"type\":\"scattergeo\",\"marker\":{\"colorbar\":{\"outlinewidth\":0,\"ticks\":\"\"}}}],\"scatterpolar\":[{\"type\":\"scatterpolar\",\"marker\":{\"colorbar\":{\"outlinewidth\":0,\"ticks\":\"\"}}}],\"histogram\":[{\"marker\":{\"pattern\":{\"fillmode\":\"overlay\",\"size\":10,\"solidity\":0.2}},\"type\":\"histogram\"}],\"scattergl\":[{\"type\":\"scattergl\",\"marker\":{\"colorbar\":{\"outlinewidth\":0,\"ticks\":\"\"}}}],\"scatter3d\":[{\"type\":\"scatter3d\",\"line\":{\"colorbar\":{\"outlinewidth\":0,\"ticks\":\"\"}},\"marker\":{\"colorbar\":{\"outlinewidth\":0,\"ticks\":\"\"}}}],\"scattermapbox\":[{\"type\":\"scattermapbox\",\"marker\":{\"colorbar\":{\"outlinewidth\":0,\"ticks\":\"\"}}}],\"scatterternary\":[{\"type\":\"scatterternary\",\"marker\":{\"colorbar\":{\"outlinewidth\":0,\"ticks\":\"\"}}}],\"scattercarpet\":[{\"type\":\"scattercarpet\",\"marker\":{\"colorbar\":{\"outlinewidth\":0,\"ticks\":\"\"}}}],\"carpet\":[{\"aaxis\":{\"endlinecolor\":\"#2a3f5f\",\"gridcolor\":\"white\",\"linecolor\":\"white\",\"minorgridcolor\":\"white\",\"startlinecolor\":\"#2a3f5f\"},\"baxis\":{\"endlinecolor\":\"#2a3f5f\",\"gridcolor\":\"white\",\"linecolor\":\"white\",\"minorgridcolor\":\"white\",\"startlinecolor\":\"#2a3f5f\"},\"type\":\"carpet\"}],\"table\":[{\"cells\":{\"fill\":{\"color\":\"#EBF0F8\"},\"line\":{\"color\":\"white\"}},\"header\":{\"fill\":{\"color\":\"#C8D4E3\"},\"line\":{\"color\":\"white\"}},\"type\":\"table\"}],\"barpolar\":[{\"marker\":{\"line\":{\"color\":\"#E5ECF6\",\"width\":0.5},\"pattern\":{\"fillmode\":\"overlay\",\"size\":10,\"solidity\":0.2}},\"type\":\"barpolar\"}],\"pie\":[{\"automargin\":true,\"type\":\"pie\"}]},\"layout\":{\"autotypenumbers\":\"strict\",\"colorway\":[\"#636efa\",\"#EF553B\",\"#00cc96\",\"#ab63fa\",\"#FFA15A\",\"#19d3f3\",\"#FF6692\",\"#B6E880\",\"#FF97FF\",\"#FECB52\"],\"font\":{\"color\":\"#2a3f5f\"},\"hovermode\":\"closest\",\"hoverlabel\":{\"align\":\"left\"},\"paper_bgcolor\":\"white\",\"plot_bgcolor\":\"#E5ECF6\",\"polar\":{\"bgcolor\":\"#E5ECF6\",\"angularaxis\":{\"gridcolor\":\"white\",\"linecolor\":\"white\",\"ticks\":\"\"},\"radialaxis\":{\"gridcolor\":\"white\",\"linecolor\":\"white\",\"ticks\":\"\"}},\"ternary\":{\"bgcolor\":\"#E5ECF6\",\"aaxis\":{\"gridcolor\":\"white\",\"linecolor\":\"white\",\"ticks\":\"\"},\"baxis\":{\"gridcolor\":\"white\",\"linecolor\":\"white\",\"ticks\":\"\"},\"caxis\":{\"gridcolor\":\"white\",\"linecolor\":\"white\",\"ticks\":\"\"}},\"coloraxis\":{\"colorbar\":{\"outlinewidth\":0,\"ticks\":\"\"}},\"colorscale\":{\"sequential\":[[0.0,\"#0d0887\"],[0.1111111111111111,\"#46039f\"],[0.2222222222222222,\"#7201a8\"],[0.3333333333333333,\"#9c179e\"],[0.4444444444444444,\"#bd3786\"],[0.5555555555555556,\"#d8576b\"],[0.6666666666666666,\"#ed7953\"],[0.7777777777777778,\"#fb9f3a\"],[0.8888888888888888,\"#fdca26\"],[1.0,\"#f0f921\"]],\"sequentialminus\":[[0.0,\"#0d0887\"],[0.1111111111111111,\"#46039f\"],[0.2222222222222222,\"#7201a8\"],[0.3333333333333333,\"#9c179e\"],[0.4444444444444444,\"#bd3786\"],[0.5555555555555556,\"#d8576b\"],[0.6666666666666666,\"#ed7953\"],[0.7777777777777778,\"#fb9f3a\"],[0.8888888888888888,\"#fdca26\"],[1.0,\"#f0f921\"]],\"diverging\":[[0,\"#8e0152\"],[0.1,\"#c51b7d\"],[0.2,\"#de77ae\"],[0.3,\"#f1b6da\"],[0.4,\"#fde0ef\"],[0.5,\"#f7f7f7\"],[0.6,\"#e6f5d0\"],[0.7,\"#b8e186\"],[0.8,\"#7fbc41\"],[0.9,\"#4d9221\"],[1,\"#276419\"]]},\"xaxis\":{\"gridcolor\":\"white\",\"linecolor\":\"white\",\"ticks\":\"\",\"title\":{\"standoff\":15},\"zerolinecolor\":\"white\",\"automargin\":true,\"zerolinewidth\":2},\"yaxis\":{\"gridcolor\":\"white\",\"linecolor\":\"white\",\"ticks\":\"\",\"title\":{\"standoff\":15},\"zerolinecolor\":\"white\",\"automargin\":true,\"zerolinewidth\":2},\"scene\":{\"xaxis\":{\"backgroundcolor\":\"#E5ECF6\",\"gridcolor\":\"white\",\"linecolor\":\"white\",\"showbackground\":true,\"ticks\":\"\",\"zerolinecolor\":\"white\",\"gridwidth\":2},\"yaxis\":{\"backgroundcolor\":\"#E5ECF6\",\"gridcolor\":\"white\",\"linecolor\":\"white\",\"showbackground\":true,\"ticks\":\"\",\"zerolinecolor\":\"white\",\"gridwidth\":2},\"zaxis\":{\"backgroundcolor\":\"#E5ECF6\",\"gridcolor\":\"white\",\"linecolor\":\"white\",\"showbackground\":true,\"ticks\":\"\",\"zerolinecolor\":\"white\",\"gridwidth\":2}},\"shapedefaults\":{\"line\":{\"color\":\"#2a3f5f\"}},\"annotationdefaults\":{\"arrowcolor\":\"#2a3f5f\",\"arrowhead\":0,\"arrowwidth\":1},\"geo\":{\"bgcolor\":\"white\",\"landcolor\":\"#E5ECF6\",\"subunitcolor\":\"white\",\"showland\":true,\"showlakes\":true,\"lakecolor\":\"white\"},\"title\":{\"x\":0.05},\"mapbox\":{\"style\":\"light\"}}},\"title\":{\"text\":\"Buy Trades 2D High Price\"},\"xaxis\":{\"title\":{\"text\":\"Closed Price at Trade Open\"}},\"yaxis\":{\"title\":{\"text\":\"2D High in Pips\"}}},                        {\"responsive\": true}                    ).then(function(){\n",
       "                            \n",
       "var gd = document.getElementById('647fc455-5324-4bd8-8458-badbc9c44ec4');\n",
       "var x = new MutationObserver(function (mutations, observer) {{\n",
       "        var display = window.getComputedStyle(gd).display;\n",
       "        if (!display || display === 'none') {{\n",
       "            console.log([gd, 'removed!']);\n",
       "            Plotly.purge(gd);\n",
       "            observer.disconnect();\n",
       "        }}\n",
       "}});\n",
       "\n",
       "// Listen for the removal of the full notebook cells\n",
       "var notebookContainer = gd.closest('#notebook-container');\n",
       "if (notebookContainer) {{\n",
       "    x.observe(notebookContainer, {childList: true});\n",
       "}}\n",
       "\n",
       "// Listen for the clearing of the current output cell\n",
       "var outputEl = gd.closest('.output');\n",
       "if (outputEl) {{\n",
       "    x.observe(outputEl, {childList: true});\n",
       "}}\n",
       "\n",
       "                        })                };                });            </script>        </div>"
      ]
     },
     "metadata": {},
     "output_type": "display_data"
    }
   ],
   "source": [
    "#Visualize the high of buy trades \n",
    "fig = go.Figure(data=go.Scatter(\n",
    "    x=buy_df['close'],  # Access the 'x' column\n",
    "    y=buy_df['2D High in Pips'],  # Access the 'y' column\n",
    "    mode='markers',\n",
    "#     marker=dict(\n",
    "#         size=10,\n",
    "#         color=colors,  # Map colors from the 'color_column'\n",
    "#         opacity=0.8\n",
    "#     )\n",
    "))\n",
    "\n",
    "# Customize the layout\n",
    "fig.update_layout(\n",
    "    title=\"Buy Trades 2D High Price\",\n",
    "    xaxis_title=\"Closed Price at Trade Open\",\n",
    "    yaxis_title=\"2D High in Pips\",\n",
    "#     grid=True\n",
    ")\n",
    "fig.show()"
   ]
  },
  {
   "cell_type": "code",
   "execution_count": 43,
   "id": "a68018ed",
   "metadata": {
    "ExecuteTime": {
     "end_time": "2024-02-27T03:41:19.167037Z",
     "start_time": "2024-02-27T03:41:19.153223Z"
    },
    "hidden": true
   },
   "outputs": [
    {
     "data": {
      "text/plain": [
       "75.11799163179869"
      ]
     },
     "execution_count": 43,
     "metadata": {},
     "output_type": "execute_result"
    }
   ],
   "source": [
    "buy_trade_high_mean = buy_df['2D High in Pips'].mean()\n",
    "buy_trade_high_mean"
   ]
  },
  {
   "cell_type": "code",
   "execution_count": 44,
   "id": "30720638",
   "metadata": {
    "ExecuteTime": {
     "end_time": "2024-02-27T03:41:28.121584Z",
     "start_time": "2024-02-27T03:41:28.094891Z"
    },
    "hidden": true
   },
   "outputs": [],
   "source": [
    "#Seperate features and label \n",
    "#Indepedent Variables \n",
    "X = buy_df[['open', 'high', 'low', 'close', '25EMA', '50EMA', '75EMA', '100EMA',\n",
    "       '125EMA', 'Spread','Trend Status_Bearish',\n",
    "       'Trend Status_Bullish', '5075 Trend Status_Bearish',\n",
    "       '5075 Trend Status_Bullish', '75100 Trend Status_Bearish',\n",
    "       '75100 Trend Status_Bullish', '100125 Trend Status_Bearish',\n",
    "       '100125 Trend Status_Bullish', 'Action_Ultimate Action',\n",
    "       'Opportunity_Optimal', 'Opportunity_Unfavorable']]\n",
    "#Dependent Variable\n",
    "Y = buy_df['2D High in Pips'] \n",
    "\n",
    "X_train,X_test,Y_train, Y_test = train_test_split(X,Y, test_size=0.2, random_state=42)"
   ]
  },
  {
   "cell_type": "code",
   "execution_count": 45,
   "id": "546f4a6c",
   "metadata": {
    "ExecuteTime": {
     "end_time": "2024-02-27T03:41:41.938936Z",
     "start_time": "2024-02-27T03:41:41.879003Z"
    },
    "hidden": true,
    "scrolled": true
   },
   "outputs": [
    {
     "name": "stdout",
     "output_type": "stream",
     "text": [
      "Mean 75.11799163179869\n",
      "MAE: 51.83192228713441\n",
      "MSE: 4620.380811046404\n",
      "RMSE: 67.97338310726047\n"
     ]
    }
   ],
   "source": [
    "#Create and fit linear regression model \n",
    "lin_model = LinearRegression().fit(X_train,Y_train)\n",
    "\n",
    "#Create and fit linear regression model \n",
    "lin_model = LinearRegression().fit(X_train,Y_train)\n",
    "\n",
    "#Make Predictions on test data\n",
    "y_preds = lin_model.predict(X_test)\n",
    "\n",
    "#Evaluate Model Performance \n",
    "mae = mean_absolute_error(Y_test, y_preds)\n",
    "mse = mean_squared_error(Y_test, y_preds)\n",
    "rmse = mean_squared_error(Y_test, y_preds, squared=False)\n",
    "\n",
    "print('Mean', buy_trade_high_mean)\n",
    "print( 'MAE:', mae)\n",
    "print( 'MSE:', mse)\n",
    "print( 'RMSE:', rmse)"
   ]
  },
  {
   "cell_type": "markdown",
   "id": "69b5632c",
   "metadata": {
    "heading_collapsed": true
   },
   "source": [
    "### Linear Model on SELL Trades HIGH "
   ]
  },
  {
   "cell_type": "code",
   "execution_count": 77,
   "id": "42f58d2f",
   "metadata": {
    "ExecuteTime": {
     "end_time": "2024-02-27T04:22:08.896274Z",
     "start_time": "2024-02-27T04:22:08.834155Z"
    },
    "hidden": true
   },
   "outputs": [
    {
     "data": {
      "text/plain": [
       "(247, 117)"
      ]
     },
     "execution_count": 77,
     "metadata": {},
     "output_type": "execute_result"
    }
   ],
   "source": [
    "#Create a subset of df with Buy Trades \n",
    "sell_df =  df[df['Order Type_SELL'] == True]\n",
    "\n",
    "sell_df.shape"
   ]
  },
  {
   "cell_type": "code",
   "execution_count": 47,
   "id": "679ece5c",
   "metadata": {
    "ExecuteTime": {
     "end_time": "2024-02-27T03:42:34.361452Z",
     "start_time": "2024-02-27T03:42:34.316375Z"
    },
    "hidden": true
   },
   "outputs": [
    {
     "data": {
      "application/vnd.plotly.v1+json": {
       "config": {
        "plotlyServerURL": "https://plot.ly"
       },
       "data": [
        {
         "mode": "markers",
         "type": "scatter",
         "x": [
          1.60446,
          1.6025,
          1.60818,
          1.63925,
          1.65596,
          1.68006,
          1.66254,
          1.66072,
          1.6277,
          1.63026,
          1.6168,
          1.60693,
          1.6072,
          1.59306,
          1.57067,
          1.57353,
          1.5702,
          1.57003,
          1.56708,
          1.55804,
          1.5257,
          1.52284,
          1.52246,
          1.5198,
          1.51054,
          1.51798,
          1.51011,
          1.49788,
          1.49681,
          1.48998,
          1.49254,
          1.49584,
          1.48976,
          1.48626,
          1.4926,
          1.47825,
          1.47741,
          1.55232,
          1.55177,
          1.55258,
          1.56048,
          1.55692,
          1.55946,
          1.53786,
          1.52264,
          1.5226,
          1.5342,
          1.52392,
          1.52322,
          1.52224,
          1.52356,
          1.52157,
          1.52297,
          1.52132,
          1.51008,
          1.51112,
          1.43288,
          1.43509,
          1.43146,
          1.44013,
          1.40646,
          1.42248,
          1.41968,
          1.42275,
          1.41934,
          1.42935,
          1.43138,
          1.31509,
          1.32012,
          1.32106,
          1.32092,
          1.3223,
          1.31806,
          1.30358,
          1.30246,
          1.3041,
          1.30507,
          1.22418,
          1.22299,
          1.23436,
          1.23166,
          1.23272,
          1.22666,
          1.23335,
          1.22278,
          1.22213,
          1.28042,
          1.27318,
          1.27206,
          1.27296,
          1.28824,
          1.32004,
          1.32087,
          1.32546,
          1.31984,
          1.31742,
          1.31679,
          1.31474,
          1.31528,
          1.3179,
          1.3906,
          1.38812,
          1.38864,
          1.38607,
          1.33475,
          1.33743,
          1.32587,
          1.32661,
          1.32616,
          1.32732,
          1.32097,
          1.319,
          1.31951,
          1.32362,
          1.3135,
          1.3138,
          1.31386,
          1.27867,
          1.2903,
          1.29102,
          1.29866,
          1.29878,
          1.28703,
          1.28568,
          1.28225,
          1.28096,
          1.27952,
          1.27708,
          1.26507,
          1.26634,
          1.26534,
          1.26864,
          1.26712,
          1.31092,
          1.31126,
          1.3097,
          1.31208,
          1.30912,
          1.29726,
          1.26668,
          1.26832,
          1.2634,
          1.25622,
          1.2567,
          1.25487,
          1.25034,
          1.25035,
          1.24848,
          1.25042,
          1.21253,
          1.21458,
          1.21524,
          1.2396,
          1.30402,
          1.30983,
          1.30659,
          1.29808,
          1.30239,
          1.29742,
          1.29946,
          1.2872,
          1.19216,
          1.2266,
          1.22586,
          1.23022,
          1.2414,
          1.29806,
          1.29723,
          1.29861,
          1.28255,
          1.28486,
          1.381,
          1.38002,
          1.37886,
          1.37914,
          1.37697,
          1.37965,
          1.37781,
          1.3981,
          1.38568,
          1.3858,
          1.38609,
          1.38402,
          1.37687,
          1.37669,
          1.37542,
          1.3738,
          1.3778,
          1.37246,
          1.37354,
          1.37144,
          1.36055,
          1.35938,
          1.35952,
          1.34909,
          1.34982,
          1.3268,
          1.32603,
          1.32621,
          1.32918,
          1.3254,
          1.3148,
          1.31706,
          1.31882,
          1.3159,
          1.3144,
          1.31362,
          1.30936,
          1.30795,
          1.307,
          1.30554,
          1.26358,
          1.23294,
          1.23806,
          1.23093,
          1.22794,
          1.22796,
          1.19458,
          1.1588,
          1.16016,
          1.10596,
          1.1162,
          1.12162,
          1.20846,
          1.21922,
          1.21356,
          1.20916,
          1.20596,
          1.2068,
          1.20437,
          1.2041,
          1.19882,
          1.24234,
          1.24432,
          1.2781,
          1.27582,
          1.2733,
          1.27706,
          1.27137,
          1.22596,
          1.21798,
          1.2234,
          1.21838,
          1.2234,
          1.21494,
          1.21722,
          1.21511
         ],
         "y": [
          73.3,
          109.699999999999,
          67.2,
          95.199999999999,
          91.899999999998,
          45.399999999999,
          7.2,
          8.000000000001,
          131.9,
          222.4,
          58.599999999999,
          81.7,
          110.60000000000001,
          10.200000000000001,
          119.299999999999,
          28.799999999999,
          23.599999999999,
          25.299999999999,
          86.19999999999999,
          39.699999999998,
          11.699999999998,
          6.5,
          1.999999999999,
          15,
          118.3,
          43.899999999998,
          213.2,
          31.299999999998,
          21.999999999998998,
          84.39999999999999,
          68.699999999999,
          35.699999999998,
          23.599999999999,
          8.9,
          55.6,
          158.49999999999898,
          279.500000000001,
          111.9,
          121.299999999999,
          149.999999999999,
          70.999999999998,
          120.799999999998,
          65.599999999998,
          34.199999999999,
          18.199999999999,
          146.300000000001,
          157.3,
          27.399999999999,
          34.399999999998,
          44.199999999998,
          3.199999999998,
          120.099999999998,
          106.1,
          122.599999999999,
          58.199999999999,
          90.799999999999,
          34.3,
          56.800000000001,
          98.800000000001,
          -94.19999999999901,
          184.199999999998,
          226.79999999999998,
          151.299999999998,
          191.5,
          225.599999999999,
          474.49999999999903,
          470.59999999999803,
          187.499999999998,
          279.4,
          81.39999999999999,
          82.799999999998,
          78.79999999999801,
          121.199999999999,
          136.199999999999,
          161.20000000000098,
          144.8,
          1.900000000001,
          112.699999999998,
          124.599999999999,
          44.700000000001,
          115.89999999999901,
          105.299999999999,
          38.199999999999,
          82.5,
          162.20000000000098,
          177.70000000000002,
          10.6,
          27.8,
          141.4,
          246.799999999998,
          96.199999999999,
          70.899999999998,
          68.30000000000099,
          24.699999999998997,
          122.7,
          3.199999999998,
          8.6,
          82.299999999999,
          76.899999999999,
          35.6,
          10.799999999999,
          28.999999999999,
          10.399999999999,
          134.7,
          51.29999999999799,
          98.500000000001,
          56.699999999998,
          25.699999999999,
          30.200000000000003,
          18.599999999999,
          -1.299999999999,
          61.999999999999,
          79.8,
          56.899999999999,
          25.000000000001,
          74.999999999998,
          34.499999999999005,
          150.20000000000002,
          125.8,
          130.79999999999902,
          86.30000000000099,
          42.499999999997996,
          19.400000000000002,
          0,
          27.5,
          24.599999999999003,
          4.5999999999989996,
          2.200000000001,
          55.500000000001,
          44.399999999999,
          54.400000000001,
          21.4,
          126.8,
          10.999999999998,
          20.199999999998997,
          35.799999999999,
          11.999999999999998,
          27.999999999998998,
          129.699999999999,
          76.799999999999,
          60.400000000000006,
          93.29999999999801,
          16.800000000001,
          11.999999999999998,
          7.8,
          16.899999999999,
          7.999999999999,
          33.399999999998,
          13.999999999998,
          49.999999999997996,
          29.5,
          201.39999999999802,
          311.2,
          112.99999999999999,
          111.49999999999899,
          1.4999999999999998,
          88.799999999999,
          45.699999999998994,
          43.59999999999901,
          23.199999999998,
          180.4,
          563.999999999997,
          21.600000000001003,
          29.000000000001,
          60.999999999999,
          115.89999999999901,
          26.699999999998997,
          27.599999999997998,
          13.799999999998999,
          104.39999999999999,
          130.20000000000002,
          36.799999999999,
          52.300000000000004,
          63.90000000000099,
          88.799999999999,
          39.299999999998995,
          31.499999999998998,
          111.49999999999899,
          20.400000000000002,
          41.899999999999004,
          40.699999999999996,
          2.6999999999989996,
          70.2,
          31.900000000000002,
          66.600000000001,
          140,
          43.000000000000995,
          29.799999999999,
          26.2,
          0.1999999999990898,
          3.1,
          42.5,
          65.199999999998,
          78.599999999999,
          22.699999999999,
          11.6,
          7.6000000000000005,
          114.3,
          112.499999999999,
          82.8,
          181.8,
          63.59999999999899,
          39.600000000000996,
          85.69999999999901,
          23.699999999999,
          7.999999999999,
          30.799999999999002,
          53.9,
          -0.700000000000145,
          4.399999999999,
          35.199999999999,
          0.4000000000004,
          171.9,
          17.599999999999,
          8.699999999999001,
          35.199999999999,
          53,
          100,
          122.799999999998,
          136.79999999999902,
          274.999999999998,
          218.799999999999,
          164.59999999999897,
          125.399999999999,
          1.8,
          134.7,
          56.199999999999,
          83.8,
          7.399999999999,
          21.600000000001003,
          24.300000000001,
          211.79999999999902,
          63.59999999999899,
          101.599999999999,
          4.999999999999001,
          29.399999999999,
          54.599999999997,
          16.999999999998,
          32.9,
          3.6000000000009997,
          81.79999999999801,
          57.599999999999,
          132.20000000000002,
          54.799999999998995,
          51.400000000001,
          28.6,
          238.7
         ]
        }
       ],
       "layout": {
        "template": {
         "data": {
          "bar": [
           {
            "error_x": {
             "color": "#2a3f5f"
            },
            "error_y": {
             "color": "#2a3f5f"
            },
            "marker": {
             "line": {
              "color": "#E5ECF6",
              "width": 0.5
             },
             "pattern": {
              "fillmode": "overlay",
              "size": 10,
              "solidity": 0.2
             }
            },
            "type": "bar"
           }
          ],
          "barpolar": [
           {
            "marker": {
             "line": {
              "color": "#E5ECF6",
              "width": 0.5
             },
             "pattern": {
              "fillmode": "overlay",
              "size": 10,
              "solidity": 0.2
             }
            },
            "type": "barpolar"
           }
          ],
          "carpet": [
           {
            "aaxis": {
             "endlinecolor": "#2a3f5f",
             "gridcolor": "white",
             "linecolor": "white",
             "minorgridcolor": "white",
             "startlinecolor": "#2a3f5f"
            },
            "baxis": {
             "endlinecolor": "#2a3f5f",
             "gridcolor": "white",
             "linecolor": "white",
             "minorgridcolor": "white",
             "startlinecolor": "#2a3f5f"
            },
            "type": "carpet"
           }
          ],
          "choropleth": [
           {
            "colorbar": {
             "outlinewidth": 0,
             "ticks": ""
            },
            "type": "choropleth"
           }
          ],
          "contour": [
           {
            "colorbar": {
             "outlinewidth": 0,
             "ticks": ""
            },
            "colorscale": [
             [
              0,
              "#0d0887"
             ],
             [
              0.1111111111111111,
              "#46039f"
             ],
             [
              0.2222222222222222,
              "#7201a8"
             ],
             [
              0.3333333333333333,
              "#9c179e"
             ],
             [
              0.4444444444444444,
              "#bd3786"
             ],
             [
              0.5555555555555556,
              "#d8576b"
             ],
             [
              0.6666666666666666,
              "#ed7953"
             ],
             [
              0.7777777777777778,
              "#fb9f3a"
             ],
             [
              0.8888888888888888,
              "#fdca26"
             ],
             [
              1,
              "#f0f921"
             ]
            ],
            "type": "contour"
           }
          ],
          "contourcarpet": [
           {
            "colorbar": {
             "outlinewidth": 0,
             "ticks": ""
            },
            "type": "contourcarpet"
           }
          ],
          "heatmap": [
           {
            "colorbar": {
             "outlinewidth": 0,
             "ticks": ""
            },
            "colorscale": [
             [
              0,
              "#0d0887"
             ],
             [
              0.1111111111111111,
              "#46039f"
             ],
             [
              0.2222222222222222,
              "#7201a8"
             ],
             [
              0.3333333333333333,
              "#9c179e"
             ],
             [
              0.4444444444444444,
              "#bd3786"
             ],
             [
              0.5555555555555556,
              "#d8576b"
             ],
             [
              0.6666666666666666,
              "#ed7953"
             ],
             [
              0.7777777777777778,
              "#fb9f3a"
             ],
             [
              0.8888888888888888,
              "#fdca26"
             ],
             [
              1,
              "#f0f921"
             ]
            ],
            "type": "heatmap"
           }
          ],
          "heatmapgl": [
           {
            "colorbar": {
             "outlinewidth": 0,
             "ticks": ""
            },
            "colorscale": [
             [
              0,
              "#0d0887"
             ],
             [
              0.1111111111111111,
              "#46039f"
             ],
             [
              0.2222222222222222,
              "#7201a8"
             ],
             [
              0.3333333333333333,
              "#9c179e"
             ],
             [
              0.4444444444444444,
              "#bd3786"
             ],
             [
              0.5555555555555556,
              "#d8576b"
             ],
             [
              0.6666666666666666,
              "#ed7953"
             ],
             [
              0.7777777777777778,
              "#fb9f3a"
             ],
             [
              0.8888888888888888,
              "#fdca26"
             ],
             [
              1,
              "#f0f921"
             ]
            ],
            "type": "heatmapgl"
           }
          ],
          "histogram": [
           {
            "marker": {
             "pattern": {
              "fillmode": "overlay",
              "size": 10,
              "solidity": 0.2
             }
            },
            "type": "histogram"
           }
          ],
          "histogram2d": [
           {
            "colorbar": {
             "outlinewidth": 0,
             "ticks": ""
            },
            "colorscale": [
             [
              0,
              "#0d0887"
             ],
             [
              0.1111111111111111,
              "#46039f"
             ],
             [
              0.2222222222222222,
              "#7201a8"
             ],
             [
              0.3333333333333333,
              "#9c179e"
             ],
             [
              0.4444444444444444,
              "#bd3786"
             ],
             [
              0.5555555555555556,
              "#d8576b"
             ],
             [
              0.6666666666666666,
              "#ed7953"
             ],
             [
              0.7777777777777778,
              "#fb9f3a"
             ],
             [
              0.8888888888888888,
              "#fdca26"
             ],
             [
              1,
              "#f0f921"
             ]
            ],
            "type": "histogram2d"
           }
          ],
          "histogram2dcontour": [
           {
            "colorbar": {
             "outlinewidth": 0,
             "ticks": ""
            },
            "colorscale": [
             [
              0,
              "#0d0887"
             ],
             [
              0.1111111111111111,
              "#46039f"
             ],
             [
              0.2222222222222222,
              "#7201a8"
             ],
             [
              0.3333333333333333,
              "#9c179e"
             ],
             [
              0.4444444444444444,
              "#bd3786"
             ],
             [
              0.5555555555555556,
              "#d8576b"
             ],
             [
              0.6666666666666666,
              "#ed7953"
             ],
             [
              0.7777777777777778,
              "#fb9f3a"
             ],
             [
              0.8888888888888888,
              "#fdca26"
             ],
             [
              1,
              "#f0f921"
             ]
            ],
            "type": "histogram2dcontour"
           }
          ],
          "mesh3d": [
           {
            "colorbar": {
             "outlinewidth": 0,
             "ticks": ""
            },
            "type": "mesh3d"
           }
          ],
          "parcoords": [
           {
            "line": {
             "colorbar": {
              "outlinewidth": 0,
              "ticks": ""
             }
            },
            "type": "parcoords"
           }
          ],
          "pie": [
           {
            "automargin": true,
            "type": "pie"
           }
          ],
          "scatter": [
           {
            "fillpattern": {
             "fillmode": "overlay",
             "size": 10,
             "solidity": 0.2
            },
            "type": "scatter"
           }
          ],
          "scatter3d": [
           {
            "line": {
             "colorbar": {
              "outlinewidth": 0,
              "ticks": ""
             }
            },
            "marker": {
             "colorbar": {
              "outlinewidth": 0,
              "ticks": ""
             }
            },
            "type": "scatter3d"
           }
          ],
          "scattercarpet": [
           {
            "marker": {
             "colorbar": {
              "outlinewidth": 0,
              "ticks": ""
             }
            },
            "type": "scattercarpet"
           }
          ],
          "scattergeo": [
           {
            "marker": {
             "colorbar": {
              "outlinewidth": 0,
              "ticks": ""
             }
            },
            "type": "scattergeo"
           }
          ],
          "scattergl": [
           {
            "marker": {
             "colorbar": {
              "outlinewidth": 0,
              "ticks": ""
             }
            },
            "type": "scattergl"
           }
          ],
          "scattermapbox": [
           {
            "marker": {
             "colorbar": {
              "outlinewidth": 0,
              "ticks": ""
             }
            },
            "type": "scattermapbox"
           }
          ],
          "scatterpolar": [
           {
            "marker": {
             "colorbar": {
              "outlinewidth": 0,
              "ticks": ""
             }
            },
            "type": "scatterpolar"
           }
          ],
          "scatterpolargl": [
           {
            "marker": {
             "colorbar": {
              "outlinewidth": 0,
              "ticks": ""
             }
            },
            "type": "scatterpolargl"
           }
          ],
          "scatterternary": [
           {
            "marker": {
             "colorbar": {
              "outlinewidth": 0,
              "ticks": ""
             }
            },
            "type": "scatterternary"
           }
          ],
          "surface": [
           {
            "colorbar": {
             "outlinewidth": 0,
             "ticks": ""
            },
            "colorscale": [
             [
              0,
              "#0d0887"
             ],
             [
              0.1111111111111111,
              "#46039f"
             ],
             [
              0.2222222222222222,
              "#7201a8"
             ],
             [
              0.3333333333333333,
              "#9c179e"
             ],
             [
              0.4444444444444444,
              "#bd3786"
             ],
             [
              0.5555555555555556,
              "#d8576b"
             ],
             [
              0.6666666666666666,
              "#ed7953"
             ],
             [
              0.7777777777777778,
              "#fb9f3a"
             ],
             [
              0.8888888888888888,
              "#fdca26"
             ],
             [
              1,
              "#f0f921"
             ]
            ],
            "type": "surface"
           }
          ],
          "table": [
           {
            "cells": {
             "fill": {
              "color": "#EBF0F8"
             },
             "line": {
              "color": "white"
             }
            },
            "header": {
             "fill": {
              "color": "#C8D4E3"
             },
             "line": {
              "color": "white"
             }
            },
            "type": "table"
           }
          ]
         },
         "layout": {
          "annotationdefaults": {
           "arrowcolor": "#2a3f5f",
           "arrowhead": 0,
           "arrowwidth": 1
          },
          "autotypenumbers": "strict",
          "coloraxis": {
           "colorbar": {
            "outlinewidth": 0,
            "ticks": ""
           }
          },
          "colorscale": {
           "diverging": [
            [
             0,
             "#8e0152"
            ],
            [
             0.1,
             "#c51b7d"
            ],
            [
             0.2,
             "#de77ae"
            ],
            [
             0.3,
             "#f1b6da"
            ],
            [
             0.4,
             "#fde0ef"
            ],
            [
             0.5,
             "#f7f7f7"
            ],
            [
             0.6,
             "#e6f5d0"
            ],
            [
             0.7,
             "#b8e186"
            ],
            [
             0.8,
             "#7fbc41"
            ],
            [
             0.9,
             "#4d9221"
            ],
            [
             1,
             "#276419"
            ]
           ],
           "sequential": [
            [
             0,
             "#0d0887"
            ],
            [
             0.1111111111111111,
             "#46039f"
            ],
            [
             0.2222222222222222,
             "#7201a8"
            ],
            [
             0.3333333333333333,
             "#9c179e"
            ],
            [
             0.4444444444444444,
             "#bd3786"
            ],
            [
             0.5555555555555556,
             "#d8576b"
            ],
            [
             0.6666666666666666,
             "#ed7953"
            ],
            [
             0.7777777777777778,
             "#fb9f3a"
            ],
            [
             0.8888888888888888,
             "#fdca26"
            ],
            [
             1,
             "#f0f921"
            ]
           ],
           "sequentialminus": [
            [
             0,
             "#0d0887"
            ],
            [
             0.1111111111111111,
             "#46039f"
            ],
            [
             0.2222222222222222,
             "#7201a8"
            ],
            [
             0.3333333333333333,
             "#9c179e"
            ],
            [
             0.4444444444444444,
             "#bd3786"
            ],
            [
             0.5555555555555556,
             "#d8576b"
            ],
            [
             0.6666666666666666,
             "#ed7953"
            ],
            [
             0.7777777777777778,
             "#fb9f3a"
            ],
            [
             0.8888888888888888,
             "#fdca26"
            ],
            [
             1,
             "#f0f921"
            ]
           ]
          },
          "colorway": [
           "#636efa",
           "#EF553B",
           "#00cc96",
           "#ab63fa",
           "#FFA15A",
           "#19d3f3",
           "#FF6692",
           "#B6E880",
           "#FF97FF",
           "#FECB52"
          ],
          "font": {
           "color": "#2a3f5f"
          },
          "geo": {
           "bgcolor": "white",
           "lakecolor": "white",
           "landcolor": "#E5ECF6",
           "showlakes": true,
           "showland": true,
           "subunitcolor": "white"
          },
          "hoverlabel": {
           "align": "left"
          },
          "hovermode": "closest",
          "mapbox": {
           "style": "light"
          },
          "paper_bgcolor": "white",
          "plot_bgcolor": "#E5ECF6",
          "polar": {
           "angularaxis": {
            "gridcolor": "white",
            "linecolor": "white",
            "ticks": ""
           },
           "bgcolor": "#E5ECF6",
           "radialaxis": {
            "gridcolor": "white",
            "linecolor": "white",
            "ticks": ""
           }
          },
          "scene": {
           "xaxis": {
            "backgroundcolor": "#E5ECF6",
            "gridcolor": "white",
            "gridwidth": 2,
            "linecolor": "white",
            "showbackground": true,
            "ticks": "",
            "zerolinecolor": "white"
           },
           "yaxis": {
            "backgroundcolor": "#E5ECF6",
            "gridcolor": "white",
            "gridwidth": 2,
            "linecolor": "white",
            "showbackground": true,
            "ticks": "",
            "zerolinecolor": "white"
           },
           "zaxis": {
            "backgroundcolor": "#E5ECF6",
            "gridcolor": "white",
            "gridwidth": 2,
            "linecolor": "white",
            "showbackground": true,
            "ticks": "",
            "zerolinecolor": "white"
           }
          },
          "shapedefaults": {
           "line": {
            "color": "#2a3f5f"
           }
          },
          "ternary": {
           "aaxis": {
            "gridcolor": "white",
            "linecolor": "white",
            "ticks": ""
           },
           "baxis": {
            "gridcolor": "white",
            "linecolor": "white",
            "ticks": ""
           },
           "bgcolor": "#E5ECF6",
           "caxis": {
            "gridcolor": "white",
            "linecolor": "white",
            "ticks": ""
           }
          },
          "title": {
           "x": 0.05
          },
          "xaxis": {
           "automargin": true,
           "gridcolor": "white",
           "linecolor": "white",
           "ticks": "",
           "title": {
            "standoff": 15
           },
           "zerolinecolor": "white",
           "zerolinewidth": 2
          },
          "yaxis": {
           "automargin": true,
           "gridcolor": "white",
           "linecolor": "white",
           "ticks": "",
           "title": {
            "standoff": 15
           },
           "zerolinecolor": "white",
           "zerolinewidth": 2
          }
         }
        },
        "title": {
         "text": "Buy Trades 2D High Price"
        },
        "xaxis": {
         "title": {
          "text": "Closed Price at Trade Open"
         }
        },
        "yaxis": {
         "title": {
          "text": "2D High in Pips"
         }
        }
       }
      },
      "text/html": [
       "<div>                            <div id=\"86249456-c64b-462f-ab1b-5321a7f45c36\" class=\"plotly-graph-div\" style=\"height:525px; width:100%;\"></div>            <script type=\"text/javascript\">                require([\"plotly\"], function(Plotly) {                    window.PLOTLYENV=window.PLOTLYENV || {};                                    if (document.getElementById(\"86249456-c64b-462f-ab1b-5321a7f45c36\")) {                    Plotly.newPlot(                        \"86249456-c64b-462f-ab1b-5321a7f45c36\",                        [{\"mode\":\"markers\",\"x\":[1.60446,1.6025,1.60818,1.63925,1.65596,1.68006,1.66254,1.66072,1.6277,1.63026,1.6168,1.60693,1.6072,1.59306,1.57067,1.57353,1.5702,1.57003,1.56708,1.55804,1.5257,1.52284,1.52246,1.5198,1.51054,1.51798,1.51011,1.49788,1.49681,1.48998,1.49254,1.49584,1.48976,1.48626,1.4926,1.47825,1.47741,1.55232,1.55177,1.55258,1.56048,1.55692,1.55946,1.53786,1.52264,1.5226,1.5342,1.52392,1.52322,1.52224,1.52356,1.52157,1.52297,1.52132,1.51008,1.51112,1.43288,1.43509,1.43146,1.44013,1.40646,1.42248,1.41968,1.42275,1.41934,1.42935,1.43138,1.31509,1.32012,1.32106,1.32092,1.3223,1.31806,1.30358,1.30246,1.3041,1.30507,1.22418,1.22299,1.23436,1.23166,1.23272,1.22666,1.23335,1.22278,1.22213,1.28042,1.27318,1.27206,1.27296,1.28824,1.32004,1.32087,1.32546,1.31984,1.31742,1.31679,1.31474,1.31528,1.3179,1.3906,1.38812,1.38864,1.38607,1.33475,1.33743,1.32587,1.32661,1.32616,1.32732,1.32097,1.319,1.31951,1.32362,1.3135,1.3138,1.31386,1.27867,1.2903,1.29102,1.29866,1.29878,1.28703,1.28568,1.28225,1.28096,1.27952,1.27708,1.26507,1.26634,1.26534,1.26864,1.26712,1.31092,1.31126,1.3097,1.31208,1.30912,1.29726,1.26668,1.26832,1.2634,1.25622,1.2567,1.25487,1.25034,1.25035,1.24848,1.25042,1.21253,1.21458,1.21524,1.2396,1.30402,1.30983,1.30659,1.29808,1.30239,1.29742,1.29946,1.2872,1.19216,1.2266,1.22586,1.23022,1.2414,1.29806,1.29723,1.29861,1.28255,1.28486,1.381,1.38002,1.37886,1.37914,1.37697,1.37965,1.37781,1.3981,1.38568,1.3858,1.38609,1.38402,1.37687,1.37669,1.37542,1.3738,1.3778,1.37246,1.37354,1.37144,1.36055,1.35938,1.35952,1.34909,1.34982,1.3268,1.32603,1.32621,1.32918,1.3254,1.3148,1.31706,1.31882,1.3159,1.3144,1.31362,1.30936,1.30795,1.307,1.30554,1.26358,1.23294,1.23806,1.23093,1.22794,1.22796,1.19458,1.1588,1.16016,1.10596,1.1162,1.12162,1.20846,1.21922,1.21356,1.20916,1.20596,1.2068,1.20437,1.2041,1.19882,1.24234,1.24432,1.2781,1.27582,1.2733,1.27706,1.27137,1.22596,1.21798,1.2234,1.21838,1.2234,1.21494,1.21722,1.21511],\"y\":[73.3,109.699999999999,67.2,95.199999999999,91.899999999998,45.399999999999,7.2,8.000000000001,131.9,222.4,58.599999999999,81.7,110.60000000000001,10.200000000000001,119.299999999999,28.799999999999,23.599999999999,25.299999999999,86.19999999999999,39.699999999998,11.699999999998,6.5,1.999999999999,15.0,118.3,43.899999999998,213.2,31.299999999998,21.999999999998998,84.39999999999999,68.699999999999,35.699999999998,23.599999999999,8.9,55.6,158.49999999999898,279.500000000001,111.9,121.299999999999,149.999999999999,70.999999999998,120.799999999998,65.599999999998,34.199999999999,18.199999999999,146.300000000001,157.3,27.399999999999,34.399999999998,44.199999999998,3.199999999998,120.099999999998,106.1,122.599999999999,58.199999999999,90.799999999999,34.3,56.800000000001,98.800000000001,-94.19999999999901,184.199999999998,226.79999999999998,151.299999999998,191.5,225.599999999999,474.49999999999903,470.59999999999803,187.499999999998,279.4,81.39999999999999,82.799999999998,78.79999999999801,121.199999999999,136.199999999999,161.20000000000098,144.8,1.900000000001,112.699999999998,124.599999999999,44.700000000001,115.89999999999901,105.299999999999,38.199999999999,82.5,162.20000000000098,177.70000000000002,10.6,27.8,141.4,246.799999999998,96.199999999999,70.899999999998,68.30000000000099,24.699999999998997,122.7,3.199999999998,8.6,82.299999999999,76.899999999999,35.6,10.799999999999,28.999999999999,10.399999999999,134.7,51.29999999999799,98.500000000001,56.699999999998,25.699999999999,30.200000000000003,18.599999999999,-1.299999999999,61.999999999999,79.8,56.899999999999,25.000000000001,74.999999999998,34.499999999999005,150.20000000000002,125.8,130.79999999999902,86.30000000000099,42.499999999997996,19.400000000000002,0.0,27.5,24.599999999999003,4.5999999999989996,2.200000000001,55.500000000001,44.399999999999,54.400000000001,21.4,126.8,10.999999999998,20.199999999998997,35.799999999999,11.999999999999998,27.999999999998998,129.699999999999,76.799999999999,60.400000000000006,93.29999999999801,16.800000000001,11.999999999999998,7.8,16.899999999999,7.999999999999,33.399999999998,13.999999999998,49.999999999997996,29.5,201.39999999999802,311.2,112.99999999999999,111.49999999999899,1.4999999999999998,88.799999999999,45.699999999998994,43.59999999999901,23.199999999998,180.4,563.999999999997,21.600000000001003,29.000000000001,60.999999999999,115.89999999999901,26.699999999998997,27.599999999997998,13.799999999998999,104.39999999999999,130.20000000000002,36.799999999999,52.300000000000004,63.90000000000099,88.799999999999,39.299999999998995,31.499999999998998,111.49999999999899,20.400000000000002,41.899999999999004,40.699999999999996,2.6999999999989996,70.2,31.900000000000002,66.600000000001,140.0,43.000000000000995,29.799999999999,26.2,0.1999999999990898,3.1,42.5,65.199999999998,78.599999999999,22.699999999999,11.6,7.6000000000000005,114.3,112.499999999999,82.8,181.8,63.59999999999899,39.600000000000996,85.69999999999901,23.699999999999,7.999999999999,30.799999999999002,53.9,-0.700000000000145,4.399999999999,35.199999999999,0.4000000000004,171.9,17.599999999999,8.699999999999001,35.199999999999,53.0,100.0,122.799999999998,136.79999999999902,274.999999999998,218.799999999999,164.59999999999897,125.399999999999,1.8,134.7,56.199999999999,83.8,7.399999999999,21.600000000001003,24.300000000001,211.79999999999902,63.59999999999899,101.599999999999,4.999999999999001,29.399999999999,54.599999999997,16.999999999998,32.9,3.6000000000009997,81.79999999999801,57.599999999999,132.20000000000002,54.799999999998995,51.400000000001,28.6,238.7],\"type\":\"scatter\"}],                        {\"template\":{\"data\":{\"histogram2dcontour\":[{\"type\":\"histogram2dcontour\",\"colorbar\":{\"outlinewidth\":0,\"ticks\":\"\"},\"colorscale\":[[0.0,\"#0d0887\"],[0.1111111111111111,\"#46039f\"],[0.2222222222222222,\"#7201a8\"],[0.3333333333333333,\"#9c179e\"],[0.4444444444444444,\"#bd3786\"],[0.5555555555555556,\"#d8576b\"],[0.6666666666666666,\"#ed7953\"],[0.7777777777777778,\"#fb9f3a\"],[0.8888888888888888,\"#fdca26\"],[1.0,\"#f0f921\"]]}],\"choropleth\":[{\"type\":\"choropleth\",\"colorbar\":{\"outlinewidth\":0,\"ticks\":\"\"}}],\"histogram2d\":[{\"type\":\"histogram2d\",\"colorbar\":{\"outlinewidth\":0,\"ticks\":\"\"},\"colorscale\":[[0.0,\"#0d0887\"],[0.1111111111111111,\"#46039f\"],[0.2222222222222222,\"#7201a8\"],[0.3333333333333333,\"#9c179e\"],[0.4444444444444444,\"#bd3786\"],[0.5555555555555556,\"#d8576b\"],[0.6666666666666666,\"#ed7953\"],[0.7777777777777778,\"#fb9f3a\"],[0.8888888888888888,\"#fdca26\"],[1.0,\"#f0f921\"]]}],\"heatmap\":[{\"type\":\"heatmap\",\"colorbar\":{\"outlinewidth\":0,\"ticks\":\"\"},\"colorscale\":[[0.0,\"#0d0887\"],[0.1111111111111111,\"#46039f\"],[0.2222222222222222,\"#7201a8\"],[0.3333333333333333,\"#9c179e\"],[0.4444444444444444,\"#bd3786\"],[0.5555555555555556,\"#d8576b\"],[0.6666666666666666,\"#ed7953\"],[0.7777777777777778,\"#fb9f3a\"],[0.8888888888888888,\"#fdca26\"],[1.0,\"#f0f921\"]]}],\"heatmapgl\":[{\"type\":\"heatmapgl\",\"colorbar\":{\"outlinewidth\":0,\"ticks\":\"\"},\"colorscale\":[[0.0,\"#0d0887\"],[0.1111111111111111,\"#46039f\"],[0.2222222222222222,\"#7201a8\"],[0.3333333333333333,\"#9c179e\"],[0.4444444444444444,\"#bd3786\"],[0.5555555555555556,\"#d8576b\"],[0.6666666666666666,\"#ed7953\"],[0.7777777777777778,\"#fb9f3a\"],[0.8888888888888888,\"#fdca26\"],[1.0,\"#f0f921\"]]}],\"contourcarpet\":[{\"type\":\"contourcarpet\",\"colorbar\":{\"outlinewidth\":0,\"ticks\":\"\"}}],\"contour\":[{\"type\":\"contour\",\"colorbar\":{\"outlinewidth\":0,\"ticks\":\"\"},\"colorscale\":[[0.0,\"#0d0887\"],[0.1111111111111111,\"#46039f\"],[0.2222222222222222,\"#7201a8\"],[0.3333333333333333,\"#9c179e\"],[0.4444444444444444,\"#bd3786\"],[0.5555555555555556,\"#d8576b\"],[0.6666666666666666,\"#ed7953\"],[0.7777777777777778,\"#fb9f3a\"],[0.8888888888888888,\"#fdca26\"],[1.0,\"#f0f921\"]]}],\"surface\":[{\"type\":\"surface\",\"colorbar\":{\"outlinewidth\":0,\"ticks\":\"\"},\"colorscale\":[[0.0,\"#0d0887\"],[0.1111111111111111,\"#46039f\"],[0.2222222222222222,\"#7201a8\"],[0.3333333333333333,\"#9c179e\"],[0.4444444444444444,\"#bd3786\"],[0.5555555555555556,\"#d8576b\"],[0.6666666666666666,\"#ed7953\"],[0.7777777777777778,\"#fb9f3a\"],[0.8888888888888888,\"#fdca26\"],[1.0,\"#f0f921\"]]}],\"mesh3d\":[{\"type\":\"mesh3d\",\"colorbar\":{\"outlinewidth\":0,\"ticks\":\"\"}}],\"scatter\":[{\"fillpattern\":{\"fillmode\":\"overlay\",\"size\":10,\"solidity\":0.2},\"type\":\"scatter\"}],\"parcoords\":[{\"type\":\"parcoords\",\"line\":{\"colorbar\":{\"outlinewidth\":0,\"ticks\":\"\"}}}],\"scatterpolargl\":[{\"type\":\"scatterpolargl\",\"marker\":{\"colorbar\":{\"outlinewidth\":0,\"ticks\":\"\"}}}],\"bar\":[{\"error_x\":{\"color\":\"#2a3f5f\"},\"error_y\":{\"color\":\"#2a3f5f\"},\"marker\":{\"line\":{\"color\":\"#E5ECF6\",\"width\":0.5},\"pattern\":{\"fillmode\":\"overlay\",\"size\":10,\"solidity\":0.2}},\"type\":\"bar\"}],\"scattergeo\":[{\"type\":\"scattergeo\",\"marker\":{\"colorbar\":{\"outlinewidth\":0,\"ticks\":\"\"}}}],\"scatterpolar\":[{\"type\":\"scatterpolar\",\"marker\":{\"colorbar\":{\"outlinewidth\":0,\"ticks\":\"\"}}}],\"histogram\":[{\"marker\":{\"pattern\":{\"fillmode\":\"overlay\",\"size\":10,\"solidity\":0.2}},\"type\":\"histogram\"}],\"scattergl\":[{\"type\":\"scattergl\",\"marker\":{\"colorbar\":{\"outlinewidth\":0,\"ticks\":\"\"}}}],\"scatter3d\":[{\"type\":\"scatter3d\",\"line\":{\"colorbar\":{\"outlinewidth\":0,\"ticks\":\"\"}},\"marker\":{\"colorbar\":{\"outlinewidth\":0,\"ticks\":\"\"}}}],\"scattermapbox\":[{\"type\":\"scattermapbox\",\"marker\":{\"colorbar\":{\"outlinewidth\":0,\"ticks\":\"\"}}}],\"scatterternary\":[{\"type\":\"scatterternary\",\"marker\":{\"colorbar\":{\"outlinewidth\":0,\"ticks\":\"\"}}}],\"scattercarpet\":[{\"type\":\"scattercarpet\",\"marker\":{\"colorbar\":{\"outlinewidth\":0,\"ticks\":\"\"}}}],\"carpet\":[{\"aaxis\":{\"endlinecolor\":\"#2a3f5f\",\"gridcolor\":\"white\",\"linecolor\":\"white\",\"minorgridcolor\":\"white\",\"startlinecolor\":\"#2a3f5f\"},\"baxis\":{\"endlinecolor\":\"#2a3f5f\",\"gridcolor\":\"white\",\"linecolor\":\"white\",\"minorgridcolor\":\"white\",\"startlinecolor\":\"#2a3f5f\"},\"type\":\"carpet\"}],\"table\":[{\"cells\":{\"fill\":{\"color\":\"#EBF0F8\"},\"line\":{\"color\":\"white\"}},\"header\":{\"fill\":{\"color\":\"#C8D4E3\"},\"line\":{\"color\":\"white\"}},\"type\":\"table\"}],\"barpolar\":[{\"marker\":{\"line\":{\"color\":\"#E5ECF6\",\"width\":0.5},\"pattern\":{\"fillmode\":\"overlay\",\"size\":10,\"solidity\":0.2}},\"type\":\"barpolar\"}],\"pie\":[{\"automargin\":true,\"type\":\"pie\"}]},\"layout\":{\"autotypenumbers\":\"strict\",\"colorway\":[\"#636efa\",\"#EF553B\",\"#00cc96\",\"#ab63fa\",\"#FFA15A\",\"#19d3f3\",\"#FF6692\",\"#B6E880\",\"#FF97FF\",\"#FECB52\"],\"font\":{\"color\":\"#2a3f5f\"},\"hovermode\":\"closest\",\"hoverlabel\":{\"align\":\"left\"},\"paper_bgcolor\":\"white\",\"plot_bgcolor\":\"#E5ECF6\",\"polar\":{\"bgcolor\":\"#E5ECF6\",\"angularaxis\":{\"gridcolor\":\"white\",\"linecolor\":\"white\",\"ticks\":\"\"},\"radialaxis\":{\"gridcolor\":\"white\",\"linecolor\":\"white\",\"ticks\":\"\"}},\"ternary\":{\"bgcolor\":\"#E5ECF6\",\"aaxis\":{\"gridcolor\":\"white\",\"linecolor\":\"white\",\"ticks\":\"\"},\"baxis\":{\"gridcolor\":\"white\",\"linecolor\":\"white\",\"ticks\":\"\"},\"caxis\":{\"gridcolor\":\"white\",\"linecolor\":\"white\",\"ticks\":\"\"}},\"coloraxis\":{\"colorbar\":{\"outlinewidth\":0,\"ticks\":\"\"}},\"colorscale\":{\"sequential\":[[0.0,\"#0d0887\"],[0.1111111111111111,\"#46039f\"],[0.2222222222222222,\"#7201a8\"],[0.3333333333333333,\"#9c179e\"],[0.4444444444444444,\"#bd3786\"],[0.5555555555555556,\"#d8576b\"],[0.6666666666666666,\"#ed7953\"],[0.7777777777777778,\"#fb9f3a\"],[0.8888888888888888,\"#fdca26\"],[1.0,\"#f0f921\"]],\"sequentialminus\":[[0.0,\"#0d0887\"],[0.1111111111111111,\"#46039f\"],[0.2222222222222222,\"#7201a8\"],[0.3333333333333333,\"#9c179e\"],[0.4444444444444444,\"#bd3786\"],[0.5555555555555556,\"#d8576b\"],[0.6666666666666666,\"#ed7953\"],[0.7777777777777778,\"#fb9f3a\"],[0.8888888888888888,\"#fdca26\"],[1.0,\"#f0f921\"]],\"diverging\":[[0,\"#8e0152\"],[0.1,\"#c51b7d\"],[0.2,\"#de77ae\"],[0.3,\"#f1b6da\"],[0.4,\"#fde0ef\"],[0.5,\"#f7f7f7\"],[0.6,\"#e6f5d0\"],[0.7,\"#b8e186\"],[0.8,\"#7fbc41\"],[0.9,\"#4d9221\"],[1,\"#276419\"]]},\"xaxis\":{\"gridcolor\":\"white\",\"linecolor\":\"white\",\"ticks\":\"\",\"title\":{\"standoff\":15},\"zerolinecolor\":\"white\",\"automargin\":true,\"zerolinewidth\":2},\"yaxis\":{\"gridcolor\":\"white\",\"linecolor\":\"white\",\"ticks\":\"\",\"title\":{\"standoff\":15},\"zerolinecolor\":\"white\",\"automargin\":true,\"zerolinewidth\":2},\"scene\":{\"xaxis\":{\"backgroundcolor\":\"#E5ECF6\",\"gridcolor\":\"white\",\"linecolor\":\"white\",\"showbackground\":true,\"ticks\":\"\",\"zerolinecolor\":\"white\",\"gridwidth\":2},\"yaxis\":{\"backgroundcolor\":\"#E5ECF6\",\"gridcolor\":\"white\",\"linecolor\":\"white\",\"showbackground\":true,\"ticks\":\"\",\"zerolinecolor\":\"white\",\"gridwidth\":2},\"zaxis\":{\"backgroundcolor\":\"#E5ECF6\",\"gridcolor\":\"white\",\"linecolor\":\"white\",\"showbackground\":true,\"ticks\":\"\",\"zerolinecolor\":\"white\",\"gridwidth\":2}},\"shapedefaults\":{\"line\":{\"color\":\"#2a3f5f\"}},\"annotationdefaults\":{\"arrowcolor\":\"#2a3f5f\",\"arrowhead\":0,\"arrowwidth\":1},\"geo\":{\"bgcolor\":\"white\",\"landcolor\":\"#E5ECF6\",\"subunitcolor\":\"white\",\"showland\":true,\"showlakes\":true,\"lakecolor\":\"white\"},\"title\":{\"x\":0.05},\"mapbox\":{\"style\":\"light\"}}},\"title\":{\"text\":\"Buy Trades 2D High Price\"},\"xaxis\":{\"title\":{\"text\":\"Closed Price at Trade Open\"}},\"yaxis\":{\"title\":{\"text\":\"2D High in Pips\"}}},                        {\"responsive\": true}                    ).then(function(){\n",
       "                            \n",
       "var gd = document.getElementById('86249456-c64b-462f-ab1b-5321a7f45c36');\n",
       "var x = new MutationObserver(function (mutations, observer) {{\n",
       "        var display = window.getComputedStyle(gd).display;\n",
       "        if (!display || display === 'none') {{\n",
       "            console.log([gd, 'removed!']);\n",
       "            Plotly.purge(gd);\n",
       "            observer.disconnect();\n",
       "        }}\n",
       "}});\n",
       "\n",
       "// Listen for the removal of the full notebook cells\n",
       "var notebookContainer = gd.closest('#notebook-container');\n",
       "if (notebookContainer) {{\n",
       "    x.observe(notebookContainer, {childList: true});\n",
       "}}\n",
       "\n",
       "// Listen for the clearing of the current output cell\n",
       "var outputEl = gd.closest('.output');\n",
       "if (outputEl) {{\n",
       "    x.observe(outputEl, {childList: true});\n",
       "}}\n",
       "\n",
       "                        })                };                });            </script>        </div>"
      ]
     },
     "metadata": {},
     "output_type": "display_data"
    }
   ],
   "source": [
    "#Visualize the high of sell trades \n",
    "fig = go.Figure(data=go.Scatter(\n",
    "    x=sell_df['close'],  # Access the 'x' column\n",
    "    y=sell_df['2D High in Pips'],  # Access the 'y' column\n",
    "    mode='markers',\n",
    "#     marker=dict(\n",
    "#         size=10,\n",
    "#         color=colors,  # Map colors from the 'color_column'\n",
    "#         opacity=0.8\n",
    "#     )\n",
    "))\n",
    "\n",
    "# Customize the layout\n",
    "fig.update_layout(\n",
    "    title=\"Buy Trades 2D High Price\",\n",
    "    xaxis_title=\"Closed Price at Trade Open\",\n",
    "    yaxis_title=\"2D High in Pips\",\n",
    "#     grid=True\n",
    ")\n",
    "fig.show()"
   ]
  },
  {
   "cell_type": "code",
   "execution_count": 48,
   "id": "f76c82c9",
   "metadata": {
    "ExecuteTime": {
     "end_time": "2024-02-27T03:42:43.284664Z",
     "start_time": "2024-02-27T03:42:43.263064Z"
    },
    "hidden": true
   },
   "outputs": [
    {
     "data": {
      "text/plain": [
       "76.95263157894675"
      ]
     },
     "execution_count": 48,
     "metadata": {},
     "output_type": "execute_result"
    }
   ],
   "source": [
    "sell_trade_high_mean = sell_df['2D High in Pips'].mean()\n",
    "sell_trade_high_mean"
   ]
  },
  {
   "cell_type": "code",
   "execution_count": 49,
   "id": "36cc80f8",
   "metadata": {
    "ExecuteTime": {
     "end_time": "2024-02-27T03:43:26.830972Z",
     "start_time": "2024-02-27T03:43:26.791512Z"
    },
    "hidden": true
   },
   "outputs": [],
   "source": [
    "#Seperate features and label \n",
    "#Indepedent Variables \n",
    "X = sell_df[['open', 'high', 'low', 'close', '25EMA', '50EMA', '75EMA', '100EMA',\n",
    "       '125EMA', 'Spread','Trend Status_Bearish',\n",
    "       'Trend Status_Bullish', '5075 Trend Status_Bearish',\n",
    "       '5075 Trend Status_Bullish', '75100 Trend Status_Bearish',\n",
    "       '75100 Trend Status_Bullish', '100125 Trend Status_Bearish',\n",
    "       '100125 Trend Status_Bullish', 'Action_Ultimate Action',\n",
    "       'Opportunity_Optimal', 'Opportunity_Unfavorable']]\n",
    "#Dependent Variable\n",
    "Y = sell_df['2D High in Pips'] \n",
    "\n",
    "X_train,X_test,Y_train, Y_test = train_test_split(X,Y, test_size=0.3, random_state=42)"
   ]
  },
  {
   "cell_type": "code",
   "execution_count": 50,
   "id": "af34859d",
   "metadata": {
    "ExecuteTime": {
     "end_time": "2024-02-27T03:43:40.568822Z",
     "start_time": "2024-02-27T03:43:40.519281Z"
    },
    "hidden": true
   },
   "outputs": [
    {
     "name": "stdout",
     "output_type": "stream",
     "text": [
      "MAE: 56.26150624417033\n",
      "MSE: 6073.19975976131\n",
      "RMSE: 77.93073693839492\n"
     ]
    }
   ],
   "source": [
    "#Create and fit linear regression model \n",
    "lin_model = LinearRegression().fit(X_train,Y_train)\n",
    "\n",
    "#Create and fit linear regression model \n",
    "lin_model = LinearRegression().fit(X_train,Y_train)\n",
    "\n",
    "#Make Predictions on test data\n",
    "y_preds = lin_model.predict(X_test)\n",
    "\n",
    "#Evaluate Model Performance \n",
    "mae = mean_absolute_error(Y_test, y_preds)\n",
    "mse = mean_squared_error(Y_test, y_preds)\n",
    "rmse = mean_squared_error(Y_test, y_preds, squared=False)\n",
    "\n",
    "print( 'MAE:', mae)\n",
    "print( 'MSE:', mse)\n",
    "print( 'RMSE:', rmse)"
   ]
  },
  {
   "cell_type": "code",
   "execution_count": 51,
   "id": "244fa9f8",
   "metadata": {
    "ExecuteTime": {
     "end_time": "2024-02-27T03:43:57.405880Z",
     "start_time": "2024-02-27T03:43:56.861270Z"
    },
    "hidden": true
   },
   "outputs": [
    {
     "data": {
      "image/png": "[encoded data removed]",
      "text/plain": [
       "<Figure size 640x480 with 1 Axes>"
      ]
     },
     "metadata": {},
     "output_type": "display_data"
    }
   ],
   "source": [
    "import matplotlib.pyplot as plt\n",
    "\n",
    "plt.scatter(Y_test, y_preds)\n",
    "plt.xlabel(\"Actual Values\")\n",
    "plt.ylabel(\"Predicted Values\")\n",
    "plt.title(\"Actuals vs. Predictions\")\n",
    "plt.grid(True)\n",
    "plt.show()\n"
   ]
  },
  {
   "cell_type": "code",
   "execution_count": 52,
   "id": "03bd0795",
   "metadata": {
    "ExecuteTime": {
     "end_time": "2024-02-27T03:44:39.786712Z",
     "start_time": "2024-02-27T03:44:39.691748Z"
    },
    "hidden": true
   },
   "outputs": [
    {
     "name": "stdout",
     "output_type": "stream",
     "text": [
      "Cross-validation scores: [62.49430399 78.86048062 47.03828755 56.19831784 50.65147582]\n",
      "Average MAE: 59.04857316570248\n"
     ]
    }
   ],
   "source": [
    "#Perform k-folk cross validation \n",
    "sell_trade_high_scores = cross_val_score(LinearRegression(),X, Y,cv=5, scoring ='neg_mean_absolute_error' )\n",
    "\n",
    "print('Cross-validation scores:', -sell_trade_high_scores)\n",
    "print('Average MAE:', -sell_trade_high_scores.mean())"
   ]
  },
  {
   "cell_type": "markdown",
   "id": "81149ebf",
   "metadata": {},
   "source": [
    "## Random Forest Model"
   ]
  },
  {
   "cell_type": "code",
   "execution_count": 93,
   "id": "150daca6",
   "metadata": {
    "ExecuteTime": {
     "end_time": "2024-03-02T22:12:01.268657Z",
     "start_time": "2024-03-02T22:12:01.241323Z"
    }
   },
   "outputs": [],
   "source": [
    "#Indepedent Variables \n",
    "X = df[['open', 'high', 'low', 'close', '25EMA', '50EMA', '75EMA', '100EMA',\n",
    "       '125EMA', 'Spread','Trend Status_Bearish',\n",
    "       'Trend Status_Bullish', '5075 Trend Status_Bearish',\n",
    "       '5075 Trend Status_Bullish', '75100 Trend Status_Bearish',\n",
    "       '75100 Trend Status_Bullish', '100125 Trend Status_Bearish',\n",
    "       '100125 Trend Status_Bullish', 'Action_Ultimate Action',\n",
    "       'Opportunity_Optimal', 'Opportunity_Unfavorable', 'Order Type_BUY',\n",
    "       'Order Type_SELL']]\n",
    "#Dependent Variable\n",
    "Y = df['2D High in Pips'] "
   ]
  },
  {
   "cell_type": "code",
   "execution_count": 94,
   "id": "c937c3f7",
   "metadata": {
    "ExecuteTime": {
     "end_time": "2024-03-02T22:13:12.688094Z",
     "start_time": "2024-03-02T22:13:12.668598Z"
    }
   },
   "outputs": [],
   "source": [
    "from sklearn.ensemble import RandomForestRegressor"
   ]
  },
  {
   "cell_type": "code",
   "execution_count": 95,
   "id": "f333aebf",
   "metadata": {
    "ExecuteTime": {
     "end_time": "2024-03-02T22:13:29.287732Z",
     "start_time": "2024-03-02T22:13:29.257920Z"
    }
   },
   "outputs": [],
   "source": [
    "X_train,X_test,Y_train, Y_test = train_test_split(X,Y, test_size=0.2, random_state=42)\n"
   ]
  },
  {
   "cell_type": "code",
   "execution_count": 97,
   "id": "649a15d2",
   "metadata": {
    "ExecuteTime": {
     "end_time": "2024-03-02T22:15:04.839824Z",
     "start_time": "2024-03-02T22:15:04.468471Z"
    }
   },
   "outputs": [],
   "source": [
    "RF_Model = RandomForestRegressor(n_estimators=50, max_depth=5).fit(X_train, Y_train)"
   ]
  },
  {
   "cell_type": "code",
   "execution_count": 98,
   "id": "82dc83c7",
   "metadata": {
    "ExecuteTime": {
     "end_time": "2024-03-02T22:15:47.412499Z",
     "start_time": "2024-03-02T22:15:47.387551Z"
    }
   },
   "outputs": [],
   "source": [
    "RF_Predictions =  RF_Model.predict(X_test)"
   ]
  },
  {
   "cell_type": "code",
   "execution_count": 99,
   "id": "e0b3e0d5",
   "metadata": {
    "ExecuteTime": {
     "end_time": "2024-03-02T22:16:13.349912Z",
     "start_time": "2024-03-02T22:16:13.343447Z"
    }
   },
   "outputs": [],
   "source": [
    "from sklearn.metrics import mean_absolute_error"
   ]
  },
  {
   "cell_type": "code",
   "execution_count": 100,
   "id": "2549b522",
   "metadata": {
    "ExecuteTime": {
     "end_time": "2024-03-02T22:16:41.901247Z",
     "start_time": "2024-03-02T22:16:41.875852Z"
    }
   },
   "outputs": [
    {
     "data": {
      "text/plain": [
       "50.81598604369205"
      ]
     },
     "execution_count": 100,
     "metadata": {},
     "output_type": "execute_result"
    }
   ],
   "source": [
    "mean_absolute_error(Y_test, RF_Predictions)"
   ]
  },
  {
   "cell_type": "markdown",
   "id": "c7e35612",
   "metadata": {},
   "source": [
    "## Gradient Boosting Model "
   ]
  },
  {
   "cell_type": "markdown",
   "id": "27a674be",
   "metadata": {
    "ExecuteTime": {
     "end_time": "2024-01-13T19:41:11.062468Z",
     "start_time": "2024-01-13T19:41:11.039657Z"
    }
   },
   "source": [
    "### Gradient Boost Model on all Data"
   ]
  },
  {
   "cell_type": "code",
   "execution_count": null,
   "id": "0d4e40cc",
   "metadata": {},
   "outputs": [],
   "source": []
  },
  {
   "cell_type": "code",
   "execution_count": 53,
   "id": "cf6ce528",
   "metadata": {
    "ExecuteTime": {
     "end_time": "2024-02-27T03:44:49.852738Z",
     "start_time": "2024-02-27T03:44:49.507586Z"
    }
   },
   "outputs": [],
   "source": [
    "from sklearn.ensemble import GradientBoostingRegressor"
   ]
  },
  {
   "cell_type": "code",
   "execution_count": 54,
   "id": "fa9f9689",
   "metadata": {
    "ExecuteTime": {
     "end_time": "2024-02-27T03:44:53.054245Z",
     "start_time": "2024-02-27T03:44:53.044772Z"
    }
   },
   "outputs": [],
   "source": [
    "#Indepedent Variables \n",
    "X = df[['open', 'high', 'low', 'close', '25EMA', '50EMA', '75EMA', '100EMA',\n",
    "       '125EMA', 'Spread','Trend Status_Bearish',\n",
    "       'Trend Status_Bullish', '5075 Trend Status_Bearish',\n",
    "       '5075 Trend Status_Bullish', '75100 Trend Status_Bearish',\n",
    "       '75100 Trend Status_Bullish', '100125 Trend Status_Bearish',\n",
    "       '100125 Trend Status_Bullish', 'Action_Ultimate Action',\n",
    "       'Opportunity_Optimal', 'Opportunity_Unfavorable', 'Order Type_BUY',\n",
    "       'Order Type_SELL']]\n",
    "#Dependent Variable\n",
    "Y = df['2D High in Pips'] "
   ]
  },
  {
   "cell_type": "code",
   "execution_count": 55,
   "id": "34674305",
   "metadata": {
    "ExecuteTime": {
     "end_time": "2024-02-27T03:45:02.685507Z",
     "start_time": "2024-02-27T03:45:02.574559Z"
    }
   },
   "outputs": [
    {
     "name": "stdout",
     "output_type": "stream",
     "text": [
      "MAE: 49.5587107052741\n",
      "MSE: 4308.351451728391\n",
      "RMSE: 65.63803357603267\n",
      "Score 0.07264680646505906\n"
     ]
    }
   ],
   "source": [
    "X_train,X_test,Y_train, Y_test = train_test_split(X,Y, test_size=0.2, random_state=42)\n",
    "\n",
    "gbr = GradientBoostingRegressor(n_estimators=5,learning_rate= 0.1, random_state=0).fit(X_train,Y_train)\n",
    "\n",
    "y_preds =gbr.predict(X_test)\n",
    "    \n",
    "#Evaluate Model Performance \n",
    "mae = mean_absolute_error(Y_test, y_preds)\n",
    "mse = mean_squared_error(Y_test, y_preds)\n",
    "rmse = mean_squared_error(Y_test, y_preds, squared=False)\n",
    "gbr_score = gbr.score(X_test, Y_test)\n",
    "\n",
    "print( 'MAE:', mae)\n",
    "print( 'MSE:', mse)\n",
    "print( 'RMSE:', rmse)\n",
    "print('Score', gbr_score)"
   ]
  },
  {
   "cell_type": "code",
   "execution_count": 56,
   "id": "33f97df2",
   "metadata": {
    "ExecuteTime": {
     "end_time": "2024-02-27T03:45:17.196041Z",
     "start_time": "2024-02-27T03:45:16.980558Z"
    }
   },
   "outputs": [
    {
     "name": "stdout",
     "output_type": "stream",
     "text": [
      "Cross-validation scores: [44.06122631 61.18759262 47.50158839 45.35824177 58.3143893 ]\n",
      "Average MAE: 51.28460767940332\n"
     ]
    }
   ],
   "source": [
    "#Perform k-folk cross validation \n",
    "all_trade_high_scores = cross_val_score(GradientBoostingRegressor(n_estimators=5,learning_rate= 0.1, random_state=0),X, Y,cv=5, scoring ='neg_mean_absolute_error' )\n",
    "\n",
    "print('Cross-validation scores:', -all_trade_high_scores)\n",
    "print('Average MAE:', -all_trade_high_scores.mean())"
   ]
  },
  {
   "cell_type": "code",
   "execution_count": 57,
   "id": "a78a194e",
   "metadata": {
    "ExecuteTime": {
     "end_time": "2024-02-27T03:45:26.491357Z",
     "start_time": "2024-02-27T03:45:25.956077Z"
    }
   },
   "outputs": [
    {
     "data": {
      "image/png": "[encoded data removed]",
      "text/plain": [
       "<Figure size 640x480 with 1 Axes>"
      ]
     },
     "metadata": {},
     "output_type": "display_data"
    }
   ],
   "source": [
    "plt.scatter(Y_test, y_preds)\n",
    "plt.xlabel(\"Actual Values\")\n",
    "plt.ylabel(\"Predicted Values\")\n",
    "plt.title(\"Actuals vs. Predictions\")\n",
    "plt.grid(True)\n",
    "plt.show()"
   ]
  },
  {
   "cell_type": "markdown",
   "id": "e3c51036",
   "metadata": {
    "ExecuteTime": {
     "end_time": "2024-01-13T20:15:09.583836Z",
     "start_time": "2024-01-13T20:15:09.569454Z"
    }
   },
   "source": [
    "### Gradient Boosting Model on Buy Trades HIGH "
   ]
  },
  {
   "cell_type": "code",
   "execution_count": 58,
   "id": "5849aa7e",
   "metadata": {
    "ExecuteTime": {
     "end_time": "2024-02-27T03:46:07.304341Z",
     "start_time": "2024-02-27T03:46:07.287149Z"
    }
   },
   "outputs": [],
   "source": [
    "#Seperate features and label \n",
    "#Indepedent Variables \n",
    "X = buy_df[['open', 'high', 'low', 'close', '25EMA', '50EMA', '75EMA', '100EMA',\n",
    "       '125EMA', 'Spread','Trend Status_Bearish',\n",
    "       'Trend Status_Bullish', '5075 Trend Status_Bearish',\n",
    "       '5075 Trend Status_Bullish', '75100 Trend Status_Bearish',\n",
    "       '75100 Trend Status_Bullish', '100125 Trend Status_Bearish',\n",
    "       '100125 Trend Status_Bullish', 'Action_Ultimate Action',\n",
    "       'Opportunity_Optimal', 'Opportunity_Unfavorable']]\n",
    "#Dependent Variable\n",
    "Y = buy_df['2D High in Pips'] \n",
    "\n",
    "X_train,X_test,Y_train, Y_test = train_test_split(X,Y, test_size=0.2, random_state=42)"
   ]
  },
  {
   "cell_type": "code",
   "execution_count": 61,
   "id": "717418d4",
   "metadata": {
    "ExecuteTime": {
     "end_time": "2024-02-27T03:49:25.871642Z",
     "start_time": "2024-02-27T03:49:25.833641Z"
    }
   },
   "outputs": [
    {
     "data": {
      "text/plain": [
       "75.11799163179869"
      ]
     },
     "execution_count": 61,
     "metadata": {},
     "output_type": "execute_result"
    }
   ],
   "source": [
    "buy_trade_high_mean"
   ]
  },
  {
   "cell_type": "code",
   "execution_count": 62,
   "id": "b534809c",
   "metadata": {
    "ExecuteTime": {
     "end_time": "2024-02-27T03:49:32.997883Z",
     "start_time": "2024-02-27T03:49:32.720308Z"
    }
   },
   "outputs": [
    {
     "name": "stdout",
     "output_type": "stream",
     "text": [
      "Mean 75.11799163179869\n",
      "MAE: 53.54006240924959\n",
      "MSE: 4914.163090561091\n",
      "RMSE: 70.10109193558323\n",
      "Score -0.05570258036259279\n"
     ]
    }
   ],
   "source": [
    "gbr = GradientBoostingRegressor(n_estimators=100,learning_rate= 0.1, random_state=0).fit(X_train,Y_train)\n",
    "\n",
    "y_preds =gbr.predict(X_test)\n",
    "    \n",
    "#Evaluate Model Performance \n",
    "mae = mean_absolute_error(Y_test, y_preds)\n",
    "mse = mean_squared_error(Y_test, y_preds)\n",
    "rmse = mean_squared_error(Y_test, y_preds, squared=False)\n",
    "gbr_score = gbr.score(X_test, Y_test)\n",
    "\n",
    "print('Mean', buy_trade_high_mean)\n",
    "print( 'MAE:', mae)\n",
    "print( 'MSE:', mse)\n",
    "print( 'RMSE:', rmse)\n",
    "print('Score', gbr_score)"
   ]
  },
  {
   "cell_type": "code",
   "execution_count": 63,
   "id": "52805544",
   "metadata": {
    "ExecuteTime": {
     "end_time": "2024-02-27T03:49:47.507552Z",
     "start_time": "2024-02-27T03:49:47.317776Z"
    }
   },
   "outputs": [
    {
     "name": "stdout",
     "output_type": "stream",
     "text": [
      "Cross-validation scores: [43.03249981 44.22085813 42.36008332 43.50613258 58.35797147]\n",
      "Average MAE: 46.29550906267349\n"
     ]
    }
   ],
   "source": [
    "#Perform k-folk cross validation \n",
    "all_trade_high_scores = cross_val_score(GradientBoostingRegressor(n_estimators=5,learning_rate= 0.1, random_state=0),X, Y,cv=5, scoring ='neg_mean_absolute_error' )\n",
    "\n",
    "print('Cross-validation scores:', -all_trade_high_scores)\n",
    "print('Average MAE:', -all_trade_high_scores.mean())"
   ]
  },
  {
   "cell_type": "code",
   "execution_count": 64,
   "id": "fa2def3a",
   "metadata": {
    "ExecuteTime": {
     "end_time": "2024-02-27T03:50:21.812064Z",
     "start_time": "2024-02-27T03:50:21.268639Z"
    }
   },
   "outputs": [
    {
     "data": {
      "image/png": "[encoded data removed]",
      "text/plain": [
       "<Figure size 640x480 with 1 Axes>"
      ]
     },
     "metadata": {},
     "output_type": "display_data"
    }
   ],
   "source": [
    "plt.scatter(Y_test, y_preds)\n",
    "plt.xlabel(\"Actual Values\")\n",
    "plt.ylabel(\"Predicted Values\")\n",
    "plt.title(\"Actuals vs. Predictions\")\n",
    "plt.grid(True)\n",
    "plt.show()"
   ]
  },
  {
   "cell_type": "markdown",
   "id": "41a84e68",
   "metadata": {
    "ExecuteTime": {
     "end_time": "2024-01-13T21:46:16.914418Z",
     "start_time": "2024-01-13T21:46:16.885770Z"
    }
   },
   "source": [
    "### Gradient Boosting Model on SELL Trades HIGH "
   ]
  },
  {
   "cell_type": "code",
   "execution_count": 65,
   "id": "6ff69640",
   "metadata": {
    "ExecuteTime": {
     "end_time": "2024-02-27T03:51:25.940160Z",
     "start_time": "2024-02-27T03:51:25.910979Z"
    }
   },
   "outputs": [],
   "source": [
    "#Seperate features and label \n",
    "#Indepedent Variables \n",
    "X = sell_df[['open', 'high', 'low', 'close', '25EMA', '50EMA', '75EMA', '100EMA',\n",
    "       '125EMA', 'Spread','Trend Status_Bearish',\n",
    "       'Trend Status_Bullish', '5075 Trend Status_Bearish',\n",
    "       '5075 Trend Status_Bullish', '75100 Trend Status_Bearish',\n",
    "       '75100 Trend Status_Bullish', '100125 Trend Status_Bearish',\n",
    "       '100125 Trend Status_Bullish', 'Action_Ultimate Action',\n",
    "       'Opportunity_Optimal', 'Opportunity_Unfavorable']]\n",
    "#Dependent Variable\n",
    "Y = sell_df['2D High in Pips'] \n",
    "\n",
    "X_train,X_test,Y_train, Y_test = train_test_split(X,Y, test_size=0.3, random_state=42)"
   ]
  },
  {
   "cell_type": "code",
   "execution_count": 66,
   "id": "69290728",
   "metadata": {
    "ExecuteTime": {
     "end_time": "2024-02-27T03:51:32.769600Z",
     "start_time": "2024-02-27T03:51:32.488662Z"
    }
   },
   "outputs": [
    {
     "name": "stdout",
     "output_type": "stream",
     "text": [
      "Mean 75.11799163179869\n",
      "MAE: 59.7656055590972\n",
      "MSE: 6940.610836676501\n",
      "RMSE: 83.31032851139467\n",
      "Score -0.17958526928216356\n"
     ]
    }
   ],
   "source": [
    "gbr = GradientBoostingRegressor(n_estimators=100,learning_rate= 0.1, random_state=0).fit(X_train,Y_train)\n",
    "\n",
    "y_preds =gbr.predict(X_test)\n",
    "    \n",
    "#Evaluate Model Performance \n",
    "mae = mean_absolute_error(Y_test, y_preds)\n",
    "mse = mean_squared_error(Y_test, y_preds)\n",
    "rmse = mean_squared_error(Y_test, y_preds, squared=False)\n",
    "gbr_score = gbr.score(X_test, Y_test)\n",
    "\n",
    "print('Mean', buy_trade_high_mean)\n",
    "print( 'MAE:', mae)\n",
    "print( 'MSE:', mse)\n",
    "print( 'RMSE:', rmse)\n",
    "print('Score', gbr_score)"
   ]
  },
  {
   "cell_type": "code",
   "execution_count": 67,
   "id": "151ca6c1",
   "metadata": {
    "ExecuteTime": {
     "end_time": "2024-02-27T03:51:47.268628Z",
     "start_time": "2024-02-27T03:51:47.081100Z"
    }
   },
   "outputs": [
    {
     "name": "stdout",
     "output_type": "stream",
     "text": [
      "Cross-validation scores: [51.72868336 76.52280533 47.29566488 57.85082419 60.80914331]\n",
      "Average MAE: 58.84142421392632\n"
     ]
    }
   ],
   "source": [
    "#Perform k-folk cross validation \n",
    "sell_trade_high_scores = cross_val_score(GradientBoostingRegressor(n_estimators=5,learning_rate= 0.1, random_state=0),X, Y,cv=5, scoring ='neg_mean_absolute_error' )\n",
    "\n",
    "print('Cross-validation scores:', -sell_trade_high_scores)\n",
    "print('Average MAE:', -sell_trade_high_scores.mean())"
   ]
  },
  {
   "cell_type": "code",
   "execution_count": 69,
   "id": "578f1458",
   "metadata": {
    "ExecuteTime": {
     "end_time": "2024-02-27T03:55:17.537565Z",
     "start_time": "2024-02-27T03:55:16.950826Z"
    }
   },
   "outputs": [
    {
     "data": {
      "image/png": "[encoded data removed]",
      "text/plain": [
       "<Figure size 640x480 with 1 Axes>"
      ]
     },
     "metadata": {},
     "output_type": "display_data"
    }
   ],
   "source": [
    "plt.scatter(Y_test, y_preds)\n",
    "plt.xlabel(\"Actual Values\")\n",
    "plt.ylabel(\"Predicted Values\")\n",
    "plt.title(\"Actuals vs. Predictions\")\n",
    "plt.grid(True)\n",
    "plt.show()"
   ]
  },
  {
   "cell_type": "markdown",
   "id": "81a08f49",
   "metadata": {},
   "source": [
    "## Bagging & Gradient Boosting "
   ]
  },
  {
   "cell_type": "markdown",
   "id": "dcd36c66",
   "metadata": {},
   "source": [
    "### Bagging & Gradient Boosting All Trades"
   ]
  },
  {
   "cell_type": "code",
   "execution_count": 70,
   "id": "31085056",
   "metadata": {
    "ExecuteTime": {
     "end_time": "2024-02-27T03:55:40.525123Z",
     "start_time": "2024-02-27T03:55:40.518872Z"
    }
   },
   "outputs": [],
   "source": [
    "from sklearn.ensemble import BaggingRegressor"
   ]
  },
  {
   "cell_type": "code",
   "execution_count": 71,
   "id": "5dc376bc",
   "metadata": {
    "ExecuteTime": {
     "end_time": "2024-02-27T03:55:44.103051Z",
     "start_time": "2024-02-27T03:55:44.078820Z"
    }
   },
   "outputs": [],
   "source": [
    "#Indepedent Variables \n",
    "X = df[['open', 'high', 'low', 'close', '25EMA', '50EMA', '75EMA', '100EMA',\n",
    "       '125EMA', 'Spread','Trend Status_Bearish',\n",
    "       'Trend Status_Bullish', '5075 Trend Status_Bearish',\n",
    "       '5075 Trend Status_Bullish', '75100 Trend Status_Bearish',\n",
    "       '75100 Trend Status_Bullish', '100125 Trend Status_Bearish',\n",
    "       '100125 Trend Status_Bullish', 'Action_Ultimate Action',\n",
    "       'Opportunity_Optimal', 'Opportunity_Unfavorable', 'Order Type_BUY',\n",
    "       'Order Type_SELL']]\n",
    "#Dependent Variable\n",
    "Y = df['2D High in Pips'] \n",
    "\n",
    "X_train,X_test,Y_train, Y_test = train_test_split(X,Y, test_size=0.2, random_state=42)\n"
   ]
  },
  {
   "cell_type": "code",
   "execution_count": 72,
   "id": "35a10e98",
   "metadata": {
    "ExecuteTime": {
     "end_time": "2024-02-27T03:55:51.258103Z",
     "start_time": "2024-02-27T03:55:48.393227Z"
    }
   },
   "outputs": [
    {
     "name": "stdout",
     "output_type": "stream",
     "text": [
      "Mean 75.11799163179869\n",
      "MAE: 49.364145097025634\n",
      "MSE: 4289.906304532158\n",
      "RMSE: 65.4973763179271\n",
      "Score 0.05584753010132104\n"
     ]
    }
   ],
   "source": [
    "basic_bag_model = BaggingRegressor(\n",
    "    estimator=GradientBoostingRegressor(n_estimators=5,learning_rate= 0.1, random_state=0),\n",
    "    n_estimators=100,\n",
    "    max_samples=.8,\n",
    "    oob_score=True,\n",
    "    random_state=0\n",
    ")\n",
    "\n",
    "basic_bag_model.fit(X_train,Y_train)\n",
    "\n",
    "#fix variable name \n",
    "score = basic_bag_model.oob_score_\n",
    "\n",
    "y_preds = basic_bag_model.predict(X_test)\n",
    "\n",
    "\n",
    "#Evaluate Model Performance \n",
    "mae = mean_absolute_error(Y_test, y_preds)\n",
    "mse = mean_squared_error(Y_test, y_preds)\n",
    "rmse = mean_squared_error(Y_test, y_preds, squared=False)\n",
    "# gbr_score = gbr.score(X_test, Y_test)\n",
    "\n",
    "print('Mean', buy_trade_high_mean)\n",
    "print( 'MAE:', mae)\n",
    "print( 'MSE:', mse)\n",
    "print( 'RMSE:', rmse)\n",
    "print('Score', score)"
   ]
  },
  {
   "cell_type": "markdown",
   "id": "1c415b6b",
   "metadata": {},
   "source": [
    "### Bagging & Gradient Boosting BUY Trades\n"
   ]
  },
  {
   "cell_type": "code",
   "execution_count": 78,
   "id": "45592f8d",
   "metadata": {
    "ExecuteTime": {
     "end_time": "2024-02-27T04:41:42.507113Z",
     "start_time": "2024-02-27T04:41:42.464781Z"
    }
   },
   "outputs": [],
   "source": [
    "#Seperate features and label \n",
    "#Indepedent Variables \n",
    "X = buy_df[['open', 'high', 'low', 'close', '25EMA', '50EMA', '75EMA', '100EMA',\n",
    "       '125EMA', 'Spread','Trend Status_Bearish',\n",
    "       'Trend Status_Bullish', '5075 Trend Status_Bearish',\n",
    "       '5075 Trend Status_Bullish', '75100 Trend Status_Bearish',\n",
    "       '75100 Trend Status_Bullish', '100125 Trend Status_Bearish',\n",
    "       '100125 Trend Status_Bullish', 'Action_Ultimate Action',\n",
    "       'Opportunity_Optimal', 'Opportunity_Unfavorable']]\n",
    "#Dependent Variable\n",
    "Y = buy_df['2D High in Pips'] \n",
    "\n",
    "X_train,X_test,Y_train, Y_test = train_test_split(X,Y, test_size=0.2, random_state=42)"
   ]
  },
  {
   "cell_type": "code",
   "execution_count": null,
   "id": "e99d5b4e",
   "metadata": {},
   "outputs": [],
   "source": []
  },
  {
   "cell_type": "code",
   "execution_count": 74,
   "id": "d304fe95",
   "metadata": {
    "ExecuteTime": {
     "end_time": "2024-02-27T03:57:09.316020Z",
     "start_time": "2024-02-27T03:56:49.465264Z"
    }
   },
   "outputs": [
    {
     "name": "stdout",
     "output_type": "stream",
     "text": [
      "Mean 75.11799163179869\n",
      "MAE: 49.42846373095318\n",
      "MSE: 4011.3290960670165\n",
      "RMSE: 63.33505424381522\n",
      "Score 0.05964942572461773\n"
     ]
    }
   ],
   "source": [
    "basic_bag_model = BaggingRegressor(\n",
    "    estimator=GradientBoostingRegressor(n_estimators=100,learning_rate= 0.1, random_state=0),\n",
    "    n_estimators=100,\n",
    "    max_samples=.8,\n",
    "    oob_score=True,\n",
    "    random_state=0\n",
    ")\n",
    "\n",
    "basic_bag_model.fit(X_train,Y_train)\n",
    "\n",
    "#fix variable name \n",
    "score = basic_bag_model.oob_score_\n",
    "\n",
    "y_preds = basic_bag_model.predict(X_test)\n",
    "\n",
    "\n",
    "#Evaluate Model Performance \n",
    "mae = mean_absolute_error(Y_test, y_preds)\n",
    "mse = mean_squared_error(Y_test, y_preds)\n",
    "rmse = mean_squared_error(Y_test, y_preds, squared=False)\n",
    "# gbr_score = gbr.score(X_test, Y_test)\n",
    "\n",
    "print('Mean', buy_trade_high_mean)\n",
    "print( 'MAE:', mae)\n",
    "print( 'MSE:', mse)\n",
    "print( 'RMSE:', rmse)\n",
    "print('Score', score)"
   ]
  },
  {
   "cell_type": "markdown",
   "id": "213e903d",
   "metadata": {
    "ExecuteTime": {
     "end_time": "2024-01-13T21:32:08.710193Z",
     "start_time": "2024-01-13T21:32:08.704715Z"
    }
   },
   "source": [
    "### Bagging & Gradient Boosting SELL Trades\n"
   ]
  },
  {
   "cell_type": "code",
   "execution_count": 75,
   "id": "6f7eb780",
   "metadata": {
    "ExecuteTime": {
     "end_time": "2024-02-27T03:57:38.771211Z",
     "start_time": "2024-02-27T03:57:38.746875Z"
    }
   },
   "outputs": [],
   "source": [
    "#Seperate features and label \n",
    "#Indepedent Variables \n",
    "X = sell_df[['open', 'high', 'low', 'close', '25EMA', '50EMA', '75EMA', '100EMA',\n",
    "       '125EMA', 'Spread','Trend Status_Bearish',\n",
    "       'Trend Status_Bullish', '5075 Trend Status_Bearish',\n",
    "       '5075 Trend Status_Bullish', '75100 Trend Status_Bearish',\n",
    "       '75100 Trend Status_Bullish', '100125 Trend Status_Bearish',\n",
    "       '100125 Trend Status_Bullish', 'Action_Ultimate Action',\n",
    "       'Opportunity_Optimal', 'Opportunity_Unfavorable']]\n",
    "#Dependent Variable\n",
    "Y = sell_df['2D High in Pips'] \n",
    "\n",
    "X_train,X_test,Y_train, Y_test = train_test_split(X,Y, test_size=0.3, random_state=42)"
   ]
  },
  {
   "cell_type": "code",
   "execution_count": 76,
   "id": "a17db715",
   "metadata": {
    "ExecuteTime": {
     "end_time": "2024-02-27T03:58:00.183664Z",
     "start_time": "2024-02-27T03:57:42.231577Z"
    }
   },
   "outputs": [
    {
     "name": "stdout",
     "output_type": "stream",
     "text": [
      "Mean 76.95263157894675\n",
      "MAE: 57.03513668894472\n",
      "MSE: 6630.908248860665\n",
      "RMSE: 81.43038897647895\n",
      "Score -0.0563374880291041\n"
     ]
    }
   ],
   "source": [
    "basic_bag_model = BaggingRegressor(\n",
    "    estimator=GradientBoostingRegressor(n_estimators=100,learning_rate= 0.2, random_state=0),\n",
    "    n_estimators=100,\n",
    "    max_samples=.8,\n",
    "    oob_score=True,\n",
    "    random_state=0\n",
    ")\n",
    "\n",
    "basic_bag_model.fit(X_train,Y_train)\n",
    "\n",
    "#fix variable name \n",
    "score = basic_bag_model.oob_score_\n",
    "\n",
    "y_preds = basic_bag_model.predict(X_test)\n",
    "\n",
    "\n",
    "#Evaluate Model Performance \n",
    "mae = mean_absolute_error(Y_test, y_preds)\n",
    "mse = mean_squared_error(Y_test, y_preds)\n",
    "rmse = mean_squared_error(Y_test, y_preds, squared=False)\n",
    "# gbr_score = gbr.score(X_test, Y_test)\n",
    "\n",
    "print('Mean', sell_trade_high_mean)\n",
    "print( 'MAE:', mae)\n",
    "print( 'MSE:', mse)\n",
    "print( 'RMSE:', rmse)\n",
    "print('Score', score)"
   ]
  },
  {
   "cell_type": "code",
   "execution_count": null,
   "id": "13e3a246",
   "metadata": {},
   "outputs": [],
   "source": []
  }
 ],
 "metadata": {
  "kernelspec": {
   "display_name": "base_jupyter",
   "language": "python",
   "name": "base_jupyter"
  },
  "language_info": {
   "codemirror_mode": {
    "name": "ipython",
    "version": 3
   },
   "file_extension": ".py",
   "mimetype": "text/x-python",
   "name": "python",
   "nbconvert_exporter": "python",
   "pygments_lexer": "ipython3",
   "version": "3.9.2"
  }
 },
 "nbformat": 4,
 "nbformat_minor": 5
}
