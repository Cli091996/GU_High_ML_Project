{
 "cells": [
  {
   "cell_type": "markdown",
   "id": "5dddbc2c",
   "metadata": {},
   "source": [
    "## Import Libraries \n"
   ]
  },
  {
   "cell_type": "code",
   "execution_count": 1,
   "id": "ae270712",
   "metadata": {
    "ExecuteTime": {
     "end_time": "2024-03-13T02:42:18.647468Z",
     "start_time": "2024-03-13T02:42:15.463819Z"
    }
   },
   "outputs": [
    {
     "data": {
      "text/html": [
       "<style>.container { width:100% !important; }</style>"
      ],
      "text/plain": [
       "<IPython.core.display.HTML object>"
      ]
     },
     "metadata": {},
     "output_type": "display_data"
    }
   ],
   "source": [
    "import pandas as pd\n",
    "import matplotlib.pyplot as plt\n",
    "import plotly.express as px\n",
    "from plotly.subplots import make_subplots\n",
    "from Standardization import metric_normalizer\n",
    "from sklearn.model_selection import train_test_split\n",
    "from IPython.display import display, HTML\n",
    "pd.set_option('display.max_columns', None)\n",
    "display(HTML(\"<style>.container { width:100% !important; }</style>\"))\n",
    "\n",
    "import numpy as np\n",
    "from sklearn.compose import make_column_transformer\n",
    "from sklearn.preprocessing import OneHotEncoder, OrdinalEncoder\n",
    "from sklearn.preprocessing import StandardScaler, Normalizer, MinMaxScaler\n",
    "from sklearn.decomposition import PCA \n",
    "from sklearn.pipeline import Pipeline \n",
    "from sklearn.ensemble import RandomForestRegressor\n",
    "from sklearn.metrics import mean_absolute_error\n",
    "from sklearn.feature_selection import SelectKBest, chi2"
   ]
  },
  {
   "cell_type": "markdown",
   "id": "72c874d1",
   "metadata": {
    "ExecuteTime": {
     "end_time": "2024-01-07T19:06:16.248336Z",
     "start_time": "2024-01-07T19:06:16.234142Z"
    }
   },
   "source": [
    "## Read Data \n",
    "\n",
    "\n"
   ]
  },
  {
   "cell_type": "code",
   "execution_count": 2,
   "id": "e51819d7",
   "metadata": {
    "ExecuteTime": {
     "end_time": "2024-03-13T02:42:23.449905Z",
     "start_time": "2024-03-13T02:42:23.361975Z"
    }
   },
   "outputs": [],
   "source": [
    "df = pd.read_csv('/home/clivence/base_jupyter/Datadump/Model_Data/GU_Model_Data_V1_16k')"
   ]
  },
  {
   "cell_type": "markdown",
   "id": "288f58fa",
   "metadata": {},
   "source": [
    "## Data Cleaning "
   ]
  },
  {
   "cell_type": "code",
   "execution_count": 3,
   "id": "05618576",
   "metadata": {
    "ExecuteTime": {
     "end_time": "2024-03-13T02:42:28.280324Z",
     "start_time": "2024-03-13T02:42:28.061212Z"
    }
   },
   "outputs": [],
   "source": [
    "#Filter out negative values - evetually need to research why this is happening \n",
    "df  = df[(df['2D Low in Pips'] > 0) | (df['2D Low in Pips'] > 0)] \n",
    "\n",
    "df = df[df['Action'] == 'Ultimate Action']\n",
    "df = df[df['Ticker'] == 'GBP/USD']\n",
    "\n",
    "df.fillna(0, inplace=True)\n",
    "\n",
    "#Standardize the dataset\n",
    "df =  metric_normalizer(df)\n",
    "\n",
    "#Set date to datetime \n",
    "df['Date'] = pd.to_datetime(df['Date'])\n",
    "\n",
    "#Create Date Derived Features \n",
    "df['Trade_Week_Year'] = df['Date'].dt.isocalendar().week\n",
    "df['Trade_Week_Month'] = (df['Date'].dt.day -1)//7+1\n",
    "df['Trade_Day_Week'] = df['Date'].dt.weekday + 1\n",
    "\n",
    "#Create a new feature to identify the status of the previous trade \n",
    "df['Previous_Trade_Status'] = df['2D Trade Status'].shift(fill_value=0)"
   ]
  },
  {
   "cell_type": "markdown",
   "id": "7a29c5c4",
   "metadata": {
    "heading_collapsed": true
   },
   "source": [
    "### Unwanted for now "
   ]
  },
  {
   "cell_type": "code",
   "execution_count": 51,
   "id": "997f50b3",
   "metadata": {
    "ExecuteTime": {
     "end_time": "2024-03-04T02:46:31.754332Z",
     "start_time": "2024-03-04T02:46:31.742889Z"
    },
    "hidden": true,
    "scrolled": false
   },
   "outputs": [],
   "source": [
    "# import plotly.graph_objects as go\n",
    "\n",
    "# # Create a list of colors based on the 'color_column'\n",
    "# colors = ['green' if val == 'BUY' else 'RED' for val in df['Order Type']]\n",
    "\n",
    "# fig = go.Figure(data=go.Scatter(\n",
    "#     x=df['Date'],  # Access the 'x' column\n",
    "#     y=df['2D High in Pips'],  # Access the 'y' column\n",
    "#     mode='markers',\n",
    "#     marker=dict(\n",
    "#         size=10,\n",
    "#         color=colors,  # Map colors from the 'color_column'\n",
    "#         opacity=0.8\n",
    "#     )\n",
    "# ))\n",
    "\n",
    "# # Customize the layout\n",
    "# fig.update_layout(\n",
    "#     title=\"Order Type by Date\",\n",
    "#     xaxis_title=\"Date\",\n",
    "#     yaxis_title=\"2D High In Pips\",\n",
    "# #     grid=True\n",
    "# )\n",
    "# fig.show()"
   ]
  },
  {
   "cell_type": "code",
   "execution_count": 52,
   "id": "98efd1eb",
   "metadata": {
    "ExecuteTime": {
     "end_time": "2024-03-04T02:46:36.451252Z",
     "start_time": "2024-03-04T02:46:36.407928Z"
    },
    "hidden": true
   },
   "outputs": [],
   "source": [
    "# # Create a list of colors based on the 'color_column'\n",
    "# # colors = ['green' if val == 'BUY' else 'RED' for val in df['Order Type']]\n",
    "\n",
    "# fig = go.Figure(data=go.Scatter(\n",
    "#     x=df['close'],  # Access the 'x' column\n",
    "#     y=df['2D High in Pips'],  # Access the 'y' column\n",
    "#     mode='markers',\n",
    "#     marker=dict(\n",
    "#         size=10,\n",
    "#         color=colors,  # Map colors from the 'color_column'\n",
    "#         opacity=0.8\n",
    "#     )\n",
    "# ))\n",
    "\n",
    "# # Customize the layout\n",
    "# fig.update_layout(\n",
    "#     title=\"Scatter Plot from DataFrame\",\n",
    "#     xaxis_title=\"Close\",\n",
    "#     yaxis_title=\"2D High In Pips\",\n",
    "# #     grid=True\n",
    "# )\n",
    "# fig.show()"
   ]
  },
  {
   "cell_type": "markdown",
   "id": "99688193",
   "metadata": {},
   "source": [
    "## Data Preprocessing \n"
   ]
  },
  {
   "cell_type": "code",
   "execution_count": 4,
   "id": "89ec68b0",
   "metadata": {
    "ExecuteTime": {
     "end_time": "2024-03-13T02:43:05.865518Z",
     "start_time": "2024-03-13T02:43:05.833678Z"
    }
   },
   "outputs": [
    {
     "data": {
      "text/plain": [
       "((483, 112), (483, 95), (483, 1))"
      ]
     },
     "execution_count": 4,
     "metadata": {},
     "output_type": "execute_result"
    }
   ],
   "source": [
    "#Subset Selection\n",
    "X= df[['open', 'high', 'low', 'close', 'volume','Trade_Week_Year','Trade_Week_Month','Trade_Day_Week',\n",
    "       'Day','Month','Time','25EMA', '50EMA', '75EMA','100EMA', '125EMA',\n",
    "        'Trend Status', 'Spread','5075 Trend Status', '75100 Trend Status',\n",
    "       '100125 Trend Status', 'Action', 'Opportunity', 'Order Type', \n",
    "        '%K', '%D', 'k_group', 'ADX', 'ADXR', 'slowk','slowd','CDL2CROWS', 'CDL3BLACKCROWS',\n",
    "        'CDL3INSIDE', 'CDL3LINESTRIKE', 'CDL3OUTSIDE',\n",
    "        'CDL3STARSINSOUTH', 'CDL3WHITESOLDIERS', 'CDLABANDONEDBABY', 'CDLADVANCEBLOCK',\n",
    "        'CDLBELTHOLD', 'CDLBREAKAWAY', 'CDLCLOSINGMARUBOZU', 'CDLCONCEALBABYSWALL',\n",
    "        'CDLCOUNTERATTACK', 'CDLDARKCLOUDCOVER', 'CDLDOJI', 'CDLDOJISTAR', 'CDLDRAGONFLYDOJI',\n",
    "        'CDLENGULFING', 'CDLEVENINGDOJISTAR', 'CDLEVENINGSTAR', 'CDLGAPSIDESIDEWHITE',\n",
    "        'CDLGRAVESTONEDOJI', 'CDLHAMMER', 'CDLHANGINGMAN', 'CDLHARAMI', 'CDLHARAMICROSS',\n",
    "        'CDLHIGHWAVE', 'CDLHIKKAKE', 'CDLHIKKAKEMOD', 'CDLHOMINGPIGEON', 'CDLIDENTICAL3CROWS',\n",
    "        'CDLINNECK', 'CDLINVERTEDHAMMER', 'CDLKICKING', 'CDLKICKINGBYLENGTH', 'CDLLADDERBOTTOM',\n",
    "        'CDLLONGLEGGEDDOJI', 'CDLLONGLINE', 'CDLMARUBOZU', 'CDLMATCHINGLOW', 'CDLMATHOLD',\n",
    "        'CDLMORNINGDOJISTAR', 'CDLMORNINGSTAR', 'CDLONNECK', 'CDLPIERCING', 'CDLRICKSHAWMAN',\n",
    "        'CDLRISEFALL3METHODS', 'CDLSEPARATINGLINES', 'CDLSHOOTINGSTAR', 'CDLSHORTLINE',\n",
    "        'CDLSPINNINGTOP', 'CDLSTALLEDPATTERN', 'CDLSTICKSANDWICH', 'CDLTAKURI', 'CDLTASUKIGAP',\n",
    "        'CDLTHRUSTING', 'CDLTRISTAR', 'CDLUNIQUE3RIVER', 'CDLUPSIDEGAP2CROWS', 'CDLXSIDEGAP3METHODS',\n",
    "        'candle_bullish_score','candle_bearish_score','Previous_Trade_Status']]\n",
    "Y = df[['2D High in Pips']]\n",
    "\n",
    "\n",
    "#Create a list of columns to encode \n",
    "cat_cols_to_encode = ['Time','Trend Status','5075 Trend Status', '75100 Trend Status',\n",
    "                    '100125 Trend Status', 'Action', 'Opportunity', 'Order Type',\n",
    "                    'k_group']\n",
    "#Create a list of cols for ordinal encoding \n",
    "cat_cols_for_ordinal_encoding = []\n",
    "\n",
    "#Create a list of cols to scale \n",
    "num_cols_to_scale = ['volume']\n",
    "\n",
    "#View row, cols count\n",
    "df.shape ,  X.shape, Y.shape"
   ]
  },
  {
   "cell_type": "code",
   "execution_count": 48,
   "id": "328e5580",
   "metadata": {
    "ExecuteTime": {
     "end_time": "2024-03-13T03:50:38.395559Z",
     "start_time": "2024-03-13T03:50:38.370013Z"
    }
   },
   "outputs": [
    {
     "name": "stdout",
     "output_type": "stream",
     "text": [
      "Training Set: (384, 95)       \n",
      "Test Set: (99, 95)\n"
     ]
    }
   ],
   "source": [
    " #Split the data into training and test set \n",
    "X_train, X_test, y_train, y_test = train_test_split( X, Y, test_size=.204, random_state=42, stratify=X['Order Type'])\n",
    "\n",
    "print(f\"Training Set: {X_train.shape}\\\n",
    "        \\nTest Set: {X_test.shape}\")"
   ]
  },
  {
   "cell_type": "code",
   "execution_count": 14,
   "id": "62bd1fad",
   "metadata": {
    "ExecuteTime": {
     "end_time": "2024-03-13T03:13:19.061228Z",
     "start_time": "2024-03-13T03:13:19.002944Z"
    }
   },
   "outputs": [
    {
     "data": {
      "text/html": [
       "<style>#sk-container-id-2 {color: black;}#sk-container-id-2 pre{padding: 0;}#sk-container-id-2 div.sk-toggleable {background-color: white;}#sk-container-id-2 label.sk-toggleable__label {cursor: pointer;display: block;width: 100%;margin-bottom: 0;padding: 0.3em;box-sizing: border-box;text-align: center;}#sk-container-id-2 label.sk-toggleable__label-arrow:before {content: \"▸\";float: left;margin-right: 0.25em;color: #696969;}#sk-container-id-2 label.sk-toggleable__label-arrow:hover:before {color: black;}#sk-container-id-2 div.sk-estimator:hover label.sk-toggleable__label-arrow:before {color: black;}#sk-container-id-2 div.sk-toggleable__content {max-height: 0;max-width: 0;overflow: hidden;text-align: left;background-color: #f0f8ff;}#sk-container-id-2 div.sk-toggleable__content pre {margin: 0.2em;color: black;border-radius: 0.25em;background-color: #f0f8ff;}#sk-container-id-2 input.sk-toggleable__control:checked~div.sk-toggleable__content {max-height: 200px;max-width: 100%;overflow: auto;}#sk-container-id-2 input.sk-toggleable__control:checked~label.sk-toggleable__label-arrow:before {content: \"▾\";}#sk-container-id-2 div.sk-estimator input.sk-toggleable__control:checked~label.sk-toggleable__label {background-color: #d4ebff;}#sk-container-id-2 div.sk-label input.sk-toggleable__control:checked~label.sk-toggleable__label {background-color: #d4ebff;}#sk-container-id-2 input.sk-hidden--visually {border: 0;clip: rect(1px 1px 1px 1px);clip: rect(1px, 1px, 1px, 1px);height: 1px;margin: -1px;overflow: hidden;padding: 0;position: absolute;width: 1px;}#sk-container-id-2 div.sk-estimator {font-family: monospace;background-color: #f0f8ff;border: 1px dotted black;border-radius: 0.25em;box-sizing: border-box;margin-bottom: 0.5em;}#sk-container-id-2 div.sk-estimator:hover {background-color: #d4ebff;}#sk-container-id-2 div.sk-parallel-item::after {content: \"\";width: 100%;border-bottom: 1px solid gray;flex-grow: 1;}#sk-container-id-2 div.sk-label:hover label.sk-toggleable__label {background-color: #d4ebff;}#sk-container-id-2 div.sk-serial::before {content: \"\";position: absolute;border-left: 1px solid gray;box-sizing: border-box;top: 0;bottom: 0;left: 50%;z-index: 0;}#sk-container-id-2 div.sk-serial {display: flex;flex-direction: column;align-items: center;background-color: white;padding-right: 0.2em;padding-left: 0.2em;position: relative;}#sk-container-id-2 div.sk-item {position: relative;z-index: 1;}#sk-container-id-2 div.sk-parallel {display: flex;align-items: stretch;justify-content: center;background-color: white;position: relative;}#sk-container-id-2 div.sk-item::before, #sk-container-id-2 div.sk-parallel-item::before {content: \"\";position: absolute;border-left: 1px solid gray;box-sizing: border-box;top: 0;bottom: 0;left: 50%;z-index: -1;}#sk-container-id-2 div.sk-parallel-item {display: flex;flex-direction: column;z-index: 1;position: relative;background-color: white;}#sk-container-id-2 div.sk-parallel-item:first-child::after {align-self: flex-end;width: 50%;}#sk-container-id-2 div.sk-parallel-item:last-child::after {align-self: flex-start;width: 50%;}#sk-container-id-2 div.sk-parallel-item:only-child::after {width: 0;}#sk-container-id-2 div.sk-dashed-wrapped {border: 1px dashed gray;margin: 0 0.4em 0.5em 0.4em;box-sizing: border-box;padding-bottom: 0.4em;background-color: white;}#sk-container-id-2 div.sk-label label {font-family: monospace;font-weight: bold;display: inline-block;line-height: 1.2em;}#sk-container-id-2 div.sk-label-container {text-align: center;}#sk-container-id-2 div.sk-container {/* jupyter's `normalize.less` sets `[hidden] { display: none; }` but bootstrap.min.css set `[hidden] { display: none !important; }` so we also need the `!important` here to be able to override the default hidden behavior on the sphinx rendered scikit-learn.org. See: https://github.com/scikit-learn/scikit-learn/issues/21755 */display: inline-block !important;position: relative;}#sk-container-id-2 div.sk-text-repr-fallback {display: none;}</style><div id=\"sk-container-id-2\" class=\"sk-top-container\"><div class=\"sk-text-repr-fallback\"><pre>Pipeline(steps=[(&#x27;Preprocessor&#x27;,\n",
       "                 ColumnTransformer(remainder=&#x27;passthrough&#x27;,\n",
       "                                   transformers=[(&#x27;standardscaler&#x27;,\n",
       "                                                  StandardScaler(),\n",
       "                                                  [&#x27;volume&#x27;]),\n",
       "                                                 (&#x27;onehotencoder&#x27;,\n",
       "                                                  OneHotEncoder(drop=&#x27;first&#x27;,\n",
       "                                                                feature_name_combiner=&lt;function custom_combiner at 0x798dfb3c68b0&gt;,\n",
       "                                                                sparse_output=False),\n",
       "                                                  [&#x27;Time&#x27;, &#x27;Trend Status&#x27;,\n",
       "                                                   &#x27;5075 Trend Status&#x27;,\n",
       "                                                   &#x27;75100 Trend Status&#x27;,\n",
       "                                                   &#x27;100125 Trend Status&#x27;,\n",
       "                                                   &#x27;Action&#x27;, &#x27;Opportunity&#x27;,\n",
       "                                                   &#x27;Order Type&#x27;,\n",
       "                                                   &#x27;k_group&#x27;])])),\n",
       "                (&#x27;RF_Model&#x27;, RandomForestRegressor(max_depth=5))])</pre><b>In a Jupyter environment, please rerun this cell to show the HTML representation or trust the notebook. <br />On GitHub, the HTML representation is unable to render, please try loading this page with nbviewer.org.</b></div><div class=\"sk-container\" hidden><div class=\"sk-item sk-dashed-wrapped\"><div class=\"sk-label-container\"><div class=\"sk-label sk-toggleable\"><input class=\"sk-toggleable__control sk-hidden--visually\" id=\"sk-estimator-id-10\" type=\"checkbox\" ><label for=\"sk-estimator-id-10\" class=\"sk-toggleable__label sk-toggleable__label-arrow\">Pipeline</label><div class=\"sk-toggleable__content\"><pre>Pipeline(steps=[(&#x27;Preprocessor&#x27;,\n",
       "                 ColumnTransformer(remainder=&#x27;passthrough&#x27;,\n",
       "                                   transformers=[(&#x27;standardscaler&#x27;,\n",
       "                                                  StandardScaler(),\n",
       "                                                  [&#x27;volume&#x27;]),\n",
       "                                                 (&#x27;onehotencoder&#x27;,\n",
       "                                                  OneHotEncoder(drop=&#x27;first&#x27;,\n",
       "                                                                feature_name_combiner=&lt;function custom_combiner at 0x798dfb3c68b0&gt;,\n",
       "                                                                sparse_output=False),\n",
       "                                                  [&#x27;Time&#x27;, &#x27;Trend Status&#x27;,\n",
       "                                                   &#x27;5075 Trend Status&#x27;,\n",
       "                                                   &#x27;75100 Trend Status&#x27;,\n",
       "                                                   &#x27;100125 Trend Status&#x27;,\n",
       "                                                   &#x27;Action&#x27;, &#x27;Opportunity&#x27;,\n",
       "                                                   &#x27;Order Type&#x27;,\n",
       "                                                   &#x27;k_group&#x27;])])),\n",
       "                (&#x27;RF_Model&#x27;, RandomForestRegressor(max_depth=5))])</pre></div></div></div><div class=\"sk-serial\"><div class=\"sk-item sk-dashed-wrapped\"><div class=\"sk-label-container\"><div class=\"sk-label sk-toggleable\"><input class=\"sk-toggleable__control sk-hidden--visually\" id=\"sk-estimator-id-11\" type=\"checkbox\" ><label for=\"sk-estimator-id-11\" class=\"sk-toggleable__label sk-toggleable__label-arrow\">Preprocessor: ColumnTransformer</label><div class=\"sk-toggleable__content\"><pre>ColumnTransformer(remainder=&#x27;passthrough&#x27;,\n",
       "                  transformers=[(&#x27;standardscaler&#x27;, StandardScaler(),\n",
       "                                 [&#x27;volume&#x27;]),\n",
       "                                (&#x27;onehotencoder&#x27;,\n",
       "                                 OneHotEncoder(drop=&#x27;first&#x27;,\n",
       "                                               feature_name_combiner=&lt;function custom_combiner at 0x798dfb3c68b0&gt;,\n",
       "                                               sparse_output=False),\n",
       "                                 [&#x27;Time&#x27;, &#x27;Trend Status&#x27;, &#x27;5075 Trend Status&#x27;,\n",
       "                                  &#x27;75100 Trend Status&#x27;, &#x27;100125 Trend Status&#x27;,\n",
       "                                  &#x27;Action&#x27;, &#x27;Opportunity&#x27;, &#x27;Order Type&#x27;,\n",
       "                                  &#x27;k_group&#x27;])])</pre></div></div></div><div class=\"sk-parallel\"><div class=\"sk-parallel-item\"><div class=\"sk-item\"><div class=\"sk-label-container\"><div class=\"sk-label sk-toggleable\"><input class=\"sk-toggleable__control sk-hidden--visually\" id=\"sk-estimator-id-12\" type=\"checkbox\" ><label for=\"sk-estimator-id-12\" class=\"sk-toggleable__label sk-toggleable__label-arrow\">standardscaler</label><div class=\"sk-toggleable__content\"><pre>[&#x27;volume&#x27;]</pre></div></div></div><div class=\"sk-serial\"><div class=\"sk-item\"><div class=\"sk-estimator sk-toggleable\"><input class=\"sk-toggleable__control sk-hidden--visually\" id=\"sk-estimator-id-13\" type=\"checkbox\" ><label for=\"sk-estimator-id-13\" class=\"sk-toggleable__label sk-toggleable__label-arrow\">StandardScaler</label><div class=\"sk-toggleable__content\"><pre>StandardScaler()</pre></div></div></div></div></div></div><div class=\"sk-parallel-item\"><div class=\"sk-item\"><div class=\"sk-label-container\"><div class=\"sk-label sk-toggleable\"><input class=\"sk-toggleable__control sk-hidden--visually\" id=\"sk-estimator-id-14\" type=\"checkbox\" ><label for=\"sk-estimator-id-14\" class=\"sk-toggleable__label sk-toggleable__label-arrow\">onehotencoder</label><div class=\"sk-toggleable__content\"><pre>[&#x27;Time&#x27;, &#x27;Trend Status&#x27;, &#x27;5075 Trend Status&#x27;, &#x27;75100 Trend Status&#x27;, &#x27;100125 Trend Status&#x27;, &#x27;Action&#x27;, &#x27;Opportunity&#x27;, &#x27;Order Type&#x27;, &#x27;k_group&#x27;]</pre></div></div></div><div class=\"sk-serial\"><div class=\"sk-item\"><div class=\"sk-estimator sk-toggleable\"><input class=\"sk-toggleable__control sk-hidden--visually\" id=\"sk-estimator-id-15\" type=\"checkbox\" ><label for=\"sk-estimator-id-15\" class=\"sk-toggleable__label sk-toggleable__label-arrow\">OneHotEncoder</label><div class=\"sk-toggleable__content\"><pre>OneHotEncoder(drop=&#x27;first&#x27;,\n",
       "              feature_name_combiner=&lt;function custom_combiner at 0x798dfb3c68b0&gt;,\n",
       "              sparse_output=False)</pre></div></div></div></div></div></div><div class=\"sk-parallel-item\"><div class=\"sk-item\"><div class=\"sk-label-container\"><div class=\"sk-label sk-toggleable\"><input class=\"sk-toggleable__control sk-hidden--visually\" id=\"sk-estimator-id-16\" type=\"checkbox\" ><label for=\"sk-estimator-id-16\" class=\"sk-toggleable__label sk-toggleable__label-arrow\">remainder</label><div class=\"sk-toggleable__content\"><pre></pre></div></div></div><div class=\"sk-serial\"><div class=\"sk-item\"><div class=\"sk-estimator sk-toggleable\"><input class=\"sk-toggleable__control sk-hidden--visually\" id=\"sk-estimator-id-17\" type=\"checkbox\" ><label for=\"sk-estimator-id-17\" class=\"sk-toggleable__label sk-toggleable__label-arrow\">passthrough</label><div class=\"sk-toggleable__content\"><pre>passthrough</pre></div></div></div></div></div></div></div></div><div class=\"sk-item\"><div class=\"sk-estimator sk-toggleable\"><input class=\"sk-toggleable__control sk-hidden--visually\" id=\"sk-estimator-id-18\" type=\"checkbox\" ><label for=\"sk-estimator-id-18\" class=\"sk-toggleable__label sk-toggleable__label-arrow\">RandomForestRegressor</label><div class=\"sk-toggleable__content\"><pre>RandomForestRegressor(max_depth=5)</pre></div></div></div></div></div></div></div>"
      ],
      "text/plain": [
       "Pipeline(steps=[('Preprocessor',\n",
       "                 ColumnTransformer(remainder='passthrough',\n",
       "                                   transformers=[('standardscaler',\n",
       "                                                  StandardScaler(),\n",
       "                                                  ['volume']),\n",
       "                                                 ('onehotencoder',\n",
       "                                                  OneHotEncoder(drop='first',\n",
       "                                                                feature_name_combiner=<function custom_combiner at 0x798dfb3c68b0>,\n",
       "                                                                sparse_output=False),\n",
       "                                                  ['Time', 'Trend Status',\n",
       "                                                   '5075 Trend Status',\n",
       "                                                   '75100 Trend Status',\n",
       "                                                   '100125 Trend Status',\n",
       "                                                   'Action', 'Opportunity',\n",
       "                                                   'Order Type',\n",
       "                                                   'k_group'])])),\n",
       "                ('RF_Model', RandomForestRegressor(max_depth=5))])"
      ]
     },
     "execution_count": 14,
     "metadata": {},
     "output_type": "execute_result"
    }
   ],
   "source": [
    "def custom_combiner(feature, ):\n",
    "    name = 'encoded'\n",
    "    return str(name)+ \"_\" + str(feature)\n",
    "\n",
    "#Create Column Tranformer \n",
    "Preprocessor = make_column_transformer(\n",
    "                                (StandardScaler(), num_cols_to_scale),\n",
    "                                (OneHotEncoder(feature_name_combiner=custom_combiner,drop='first',sparse_output=False),cat_cols_to_encode,{'prefix':'encoded'}),\n",
    "#                                 (OrdinalEncoder(), cat_cols_for_ordinal_encoding),\n",
    "                                remainder='passthrough')\n",
    "\n",
    "# Preprocessor.set_output(transform='pandas')\n",
    "\n",
    "#Create Pieline to be used in Model\n",
    "Model_Pipeline = Pipeline(steps=[\n",
    "    ('Preprocessor', Preprocessor),\n",
    "    ('RF_Model',RandomForestRegressor(n_estimators=100, max_depth=5))])\n",
    "\n",
    "#View Pipeline \n",
    "Model_Pipeline"
   ]
  },
  {
   "cell_type": "code",
   "execution_count": 7,
   "id": "980ccf8a",
   "metadata": {
    "ExecuteTime": {
     "end_time": "2024-03-13T03:10:27.193371Z",
     "start_time": "2024-03-13T03:10:27.133984Z"
    }
   },
   "outputs": [
    {
     "ename": "NameError",
     "evalue": "name 'Model_Pipeline' is not defined",
     "output_type": "error",
     "traceback": [
      "\u001b[0;31m---------------------------------------------------------------------------\u001b[0m",
      "\u001b[0;31mNameError\u001b[0m                                 Traceback (most recent call last)",
      "Cell \u001b[0;32mIn[7], line 2\u001b[0m\n\u001b[1;32m      1\u001b[0m \u001b[38;5;66;03m#Fit the training data \u001b[39;00m\n\u001b[0;32m----> 2\u001b[0m \u001b[43mModel_Pipeline\u001b[49m\u001b[38;5;241m.\u001b[39mfit(X_train, y_train)\n\u001b[1;32m      4\u001b[0m \u001b[38;5;66;03m#Make Predictions on the test set \u001b[39;00m\n\u001b[1;32m      5\u001b[0m RF_Model_Predictions \u001b[38;5;241m=\u001b[39m Model_Pipeline\u001b[38;5;241m.\u001b[39mpredict(X_test)\n",
      "\u001b[0;31mNameError\u001b[0m: name 'Model_Pipeline' is not defined"
     ]
    }
   ],
   "source": [
    "#Fit the training data \n",
    "Model_Pipeline.fit(X_train, y_train)\n",
    "\n",
    "#Make Predictions on the test set \n",
    "RF_Model_Predictions = Model_Pipeline.predict(X_test)\n",
    "\n",
    "#Get Error Metrics of Random Forest Model\n",
    "mean_absolute_error(y_test, RF_Model_Predictions)"
   ]
  },
  {
   "cell_type": "markdown",
   "id": "d577a73c",
   "metadata": {},
   "source": [
    "### Build Baseline Model "
   ]
  },
  {
   "cell_type": "code",
   "execution_count": 53,
   "id": "03b6e395",
   "metadata": {
    "ExecuteTime": {
     "end_time": "2024-03-13T03:55:47.250248Z",
     "start_time": "2024-03-13T03:55:47.229440Z"
    }
   },
   "outputs": [
    {
     "data": {
      "text/plain": [
       "51.01187657828274"
      ]
     },
     "execution_count": 53,
     "metadata": {},
     "output_type": "execute_result"
    }
   ],
   "source": [
    "average_2d_high_pips= y_train['2D High in Pips'].mean()\n",
    "baseline_model_test_predictions = [average_2d_high_pips] * len(y_test)\n",
    "\n",
    "mean_absolute_error(baseline_model_test_predictions, y_test)"
   ]
  },
  {
   "cell_type": "code",
   "execution_count": 86,
   "id": "5a6e2a9b",
   "metadata": {
    "ExecuteTime": {
     "end_time": "2024-03-13T04:38:30.721395Z",
     "start_time": "2024-03-13T04:38:30.710463Z"
    }
   },
   "outputs": [],
   "source": [
    "# Sample data for the second set (make a copy)\n",
    "actual2 = np.array(y_test).reshape(-1)\n",
    "predicted2 = np.array(baseline_model_test_predictions).reshape(-1)\n",
    "\n",
    "# Sample data for the order type column (replace this with your actual order_type data)\n",
    "# order_type = np.random.choice(['Type A', 'Type B'], len(actual2))\n",
    "order_type = X_test['Order Type']\n",
    "\n",
    "# Calculate the errors for the second set\n",
    "errors2 = actual2 - predicted2"
   ]
  },
  {
   "cell_type": "code",
   "execution_count": 33,
   "id": "a105e167",
   "metadata": {
    "ExecuteTime": {
     "end_time": "2024-03-13T03:27:54.877806Z",
     "start_time": "2024-03-13T03:27:54.105681Z"
    },
    "scrolled": false
   },
   "outputs": [
    {
     "data": {
      "image/png": "[encoded data removed]",
      "text/plain": [
       "<Figure size 800x500 with 2 Axes>"
      ]
     },
     "metadata": {},
     "output_type": "display_data"
    }
   ],
   "source": [
    "import numpy as np\n",
    "import matplotlib.pyplot as plt\n",
    "\n",
    "# Sample data for the second set (make a copy)\n",
    "actual2 = np.array(y_test)  \n",
    "predicted2 = np.array(baseline_model_test_predictions)\n",
    "\n",
    "# Calculate the errors for the second set\n",
    "errors2 = actual2 - predicted2\n",
    "\n",
    "# Create the primary plot with scatter points for the first set\n",
    "fig, axs = plt.subplots(figsize=(8, 5))\n",
    "\n",
    "# Second subplot (1, 2, 2)\n",
    "axs.scatter(actual2, predicted2, alpha=0.5, color='blue', label='Predicted vs. Actual')\n",
    "axs.set_xlabel('Actual Values')\n",
    "axs.set_ylabel('Predicted Values', color='blue')\n",
    "axs.tick_params(axis='y', labelcolor='blue')\n",
    "axs.legend()\n",
    "axs.set_title('Baseline Model Prediction vs Actuals with Error Visualization')\n",
    "\n",
    "# Create the secondary y-axis for errors for the second set\n",
    "ax3 = axs.twinx()  \n",
    "ax3.set_ylabel('Error', color='red')  \n",
    "ax3.tick_params(axis='y', labelcolor='red')\n",
    "\n",
    "# Adding vertical lines for each point to represent the error for the second set\n",
    "for i in range(len(actual2)):\n",
    "    plt.vlines(actual2[i], predicted2[i], actual2[i], color='red', alpha=0.7, linewidth=0.5)\n",
    "\n",
    "# Adjust layout for better spacing\n",
    "plt.tight_layout()\n",
    "\n",
    "plt.show()"
   ]
  },
  {
   "cell_type": "code",
   "execution_count": 106,
   "id": "f8400288",
   "metadata": {
    "ExecuteTime": {
     "end_time": "2024-03-13T05:17:37.149894Z",
     "start_time": "2024-03-13T05:17:35.227073Z"
    }
   },
   "outputs": [
    {
     "data": {
      "application/vnd.plotly.v1+json": {
       "config": {
        "plotlyServerURL": "https://plot.ly"
       },
       "data": [
        {
         "hovertemplate": "OrderType=BUY<br>Actual Values=%{x}<br>Predicted Values=%{y}<extra></extra>",
         "legendgroup": "BUY",
         "marker": {
          "color": "#636efa",
          "opacity": 0.5,
          "symbol": "circle"
         },
         "mode": "markers",
         "name": "BUY",
         "orientation": "v",
         "showlegend": true,
         "type": "scatter",
         "x": [
          6.399999999998999,
          123.8,
          83.199999999998,
          20.999999999999,
          104.900000000001,
          69.099999999999,
          9.6,
          82.99999999999899,
          101.999999999999,
          131.499999999999,
          128.299999999998,
          201.599999999999,
          50.099999999999,
          136.800000000001,
          73.099999999999,
          60.999999999999,
          142.1,
          174,
          25.600000000001,
          181.099999999998,
          116.799999999999,
          347.8,
          65.8,
          130.79999999999902,
          38.7,
          93.199999999999,
          101.599999999999,
          86.199999999998,
          108.599999999998,
          46.399999999999004,
          118.599999999999,
          43.699999999999,
          103.899999999999,
          51.499999999999005,
          61.7,
          28.699999999999,
          37.500000000001,
          32.400000000001,
          54.899999999999004,
          92.29999999999801,
          127.39999999999901,
          12.499999999999,
          2.999999999999,
          3.899999999998,
          46.399999999999004,
          115,
          22.799999999998,
          20.199999999998997,
          72.2
         ],
         "xaxis": "x",
         "y": [
          73.58619791666617,
          73.58619791666617,
          73.58619791666617,
          73.58619791666617,
          73.58619791666617,
          73.58619791666617,
          73.58619791666617,
          73.58619791666617,
          73.58619791666617,
          73.58619791666617,
          73.58619791666617,
          73.58619791666617,
          73.58619791666617,
          73.58619791666617,
          73.58619791666617,
          73.58619791666617,
          73.58619791666617,
          73.58619791666617,
          73.58619791666617,
          73.58619791666617,
          73.58619791666617,
          73.58619791666617,
          73.58619791666617,
          73.58619791666617,
          73.58619791666617,
          73.58619791666617,
          73.58619791666617,
          73.58619791666617,
          73.58619791666617,
          73.58619791666617,
          73.58619791666617,
          73.58619791666617,
          73.58619791666617,
          73.58619791666617,
          73.58619791666617,
          73.58619791666617,
          73.58619791666617,
          73.58619791666617,
          73.58619791666617,
          73.58619791666617,
          73.58619791666617,
          73.58619791666617,
          73.58619791666617,
          73.58619791666617,
          73.58619791666617,
          73.58619791666617,
          73.58619791666617,
          73.58619791666617,
          73.58619791666617
         ],
         "yaxis": "y"
        },
        {
         "hovertemplate": "OrderType=SELL<br>Actual Values=%{x}<br>Predicted Values=%{y}<extra></extra>",
         "legendgroup": "SELL",
         "marker": {
          "color": "#EF553B",
          "opacity": 0.5,
          "symbol": "circle"
         },
         "mode": "markers",
         "name": "SELL",
         "orientation": "v",
         "showlegend": true,
         "type": "scatter",
         "x": [
          79.8,
          81.79999999999801,
          40.699999999999996,
          184.199999999998,
          28.6,
          162.20000000000098,
          29.000000000001,
          35.6,
          16.899999999999,
          49.999999999997996,
          274.999999999998,
          1.8,
          34.399999999998,
          55.500000000001,
          21.4,
          65.599999999998,
          111.9,
          56.899999999999,
          164.59999999999897,
          58.599999999999,
          125.399999999999,
          149.999999999999,
          51.29999999999799,
          13.999999999998,
          44.399999999999,
          58.199999999999,
          82.8,
          109.699999999999,
          21.600000000001003,
          29.399999999999,
          96.199999999999,
          144.8,
          111.49999999999899,
          93.29999999999801,
          26.699999999998997,
          7.2,
          34.499999999999005,
          86.30000000000099,
          38.199999999999,
          13.799999999998999,
          130.20000000000002,
          21.600000000001003,
          131.9,
          563.999999999997,
          136.79999999999902,
          112.99999999999999,
          -0.700000000000145,
          3.6000000000009997,
          29.799999999999,
          35.199999999999
         ],
         "xaxis": "x",
         "y": [
          73.58619791666617,
          73.58619791666617,
          73.58619791666617,
          73.58619791666617,
          73.58619791666617,
          73.58619791666617,
          73.58619791666617,
          73.58619791666617,
          73.58619791666617,
          73.58619791666617,
          73.58619791666617,
          73.58619791666617,
          73.58619791666617,
          73.58619791666617,
          73.58619791666617,
          73.58619791666617,
          73.58619791666617,
          73.58619791666617,
          73.58619791666617,
          73.58619791666617,
          73.58619791666617,
          73.58619791666617,
          73.58619791666617,
          73.58619791666617,
          73.58619791666617,
          73.58619791666617,
          73.58619791666617,
          73.58619791666617,
          73.58619791666617,
          73.58619791666617,
          73.58619791666617,
          73.58619791666617,
          73.58619791666617,
          73.58619791666617,
          73.58619791666617,
          73.58619791666617,
          73.58619791666617,
          73.58619791666617,
          73.58619791666617,
          73.58619791666617,
          73.58619791666617,
          73.58619791666617,
          73.58619791666617,
          73.58619791666617,
          73.58619791666617,
          73.58619791666617,
          73.58619791666617,
          73.58619791666617,
          73.58619791666617,
          73.58619791666617
         ],
         "yaxis": "y"
        },
        {
         "line": {
          "color": "red",
          "dash": "dot",
          "width": 0.0001
         },
         "marker": {
          "color": "red",
          "opacity": 0.1,
          "size": 1
         },
         "mode": "lines",
         "name": "Errors Trend",
         "type": "scatter",
         "visible": false,
         "x": [
          6.399999999998999,
          79.8,
          81.79999999999801,
          40.699999999999996,
          123.8,
          184.199999999998,
          28.6,
          83.199999999998,
          162.20000000000098,
          29.000000000001,
          20.999999999999,
          104.900000000001,
          35.6,
          69.099999999999,
          16.899999999999,
          49.999999999997996,
          274.999999999998,
          9.6,
          1.8,
          82.99999999999899,
          34.399999999998,
          101.999999999999,
          55.500000000001,
          21.4,
          131.499999999999,
          128.299999999998,
          201.599999999999,
          65.599999999998,
          50.099999999999,
          111.9,
          56.899999999999,
          164.59999999999897,
          136.800000000001,
          58.599999999999,
          125.399999999999,
          73.099999999999,
          149.999999999999,
          51.29999999999799,
          13.999999999998,
          44.399999999999,
          60.999999999999,
          142.1,
          58.199999999999,
          174,
          82.8,
          25.600000000001,
          181.099999999998,
          109.699999999999,
          21.600000000001003,
          29.399999999999,
          116.799999999999,
          347.8,
          65.8,
          96.199999999999,
          130.79999999999902,
          38.7,
          93.199999999999,
          101.599999999999,
          144.8,
          111.49999999999899,
          93.29999999999801,
          86.199999999998,
          108.599999999998,
          26.699999999998997,
          46.399999999999004,
          7.2,
          34.499999999999005,
          86.30000000000099,
          38.199999999999,
          118.599999999999,
          13.799999999998999,
          43.699999999999,
          103.899999999999,
          51.499999999999005,
          61.7,
          28.699999999999,
          37.500000000001,
          130.20000000000002,
          21.600000000001003,
          32.400000000001,
          131.9,
          563.999999999997,
          54.899999999999004,
          136.79999999999902,
          92.29999999999801,
          127.39999999999901,
          112.99999999999999,
          12.499999999999,
          -0.700000000000145,
          2.999999999999,
          3.6000000000009997,
          3.899999999998,
          29.799999999999,
          35.199999999999,
          46.399999999999004,
          115,
          22.799999999998,
          20.199999999998997,
          72.2
         ],
         "y": [
          -67.18619791666717,
          6.213802083333832,
          8.213802083331842,
          -32.88619791666617,
          50.21380208333383,
          110.61380208333183,
          -44.986197916666164,
          9.613802083331834,
          88.61380208333482,
          -44.58619791666517,
          -52.58619791666716,
          31.313802083334835,
          -37.986197916666164,
          -4.486197916667166,
          -56.68619791666717,
          -23.58619791666817,
          201.41380208333186,
          -63.986197916666164,
          -71.78619791666617,
          9.413802083332826,
          -39.18619791666816,
          28.41380208333284,
          -18.086197916665164,
          -52.18619791666617,
          57.91380208333284,
          54.71380208333183,
          128.01380208333285,
          -7.986197916668161,
          -23.486197916667166,
          38.31380208333384,
          -16.68619791666717,
          91.0138020833328,
          63.21380208333484,
          -14.986197916667166,
          51.81380208333283,
          -0.48619791666716594,
          76.41380208333284,
          -22.286197916668172,
          -59.58619791666817,
          -29.18619791666717,
          -12.586197916667167,
          68.51380208333383,
          -15.386197916667165,
          100.41380208333383,
          9.213802083333832,
          -47.98619791666516,
          107.51380208333184,
          36.11380208333283,
          -51.98619791666516,
          -44.18619791666717,
          43.21380208333284,
          274.21380208333386,
          -7.786197916666168,
          22.61380208333283,
          57.21380208333285,
          -34.88619791666616,
          19.61380208333283,
          28.013802083332834,
          71.21380208333385,
          37.913802083332826,
          19.713802083331842,
          12.613802083331834,
          35.01380208333184,
          -46.88619791666717,
          -27.18619791666716,
          -66.38619791666616,
          -39.08619791666716,
          12.713802083334826,
          -35.386197916667165,
          45.013802083332834,
          -59.78619791666716,
          -29.886197916667165,
          30.31380208333283,
          -22.08619791666716,
          -11.886197916666163,
          -44.886197916667165,
          -36.086197916665164,
          56.61380208333385,
          -51.98619791666516,
          -41.186197916665165,
          58.31380208333384,
          490.4138020833309,
          -18.68619791666716,
          63.21380208333285,
          18.713802083331842,
          53.813802083332845,
          39.41380208333382,
          -61.08619791666717,
          -74.28619791666631,
          -70.58619791666716,
          -69.98619791666516,
          -69.68619791666816,
          -43.78619791666716,
          -38.386197916667165,
          -27.18619791666716,
          41.413802083333835,
          -50.786197916668165,
          -53.38619791666717,
          -1.3861979166661627
         ],
         "yaxis": "y2"
        }
       ],
       "layout": {
        "legend": {
         "title": {
          "text": "OrderType"
         },
         "tracegroupgap": 0
        },
        "shapes": [
         {
          "line": {
           "color": "red",
           "dash": "solid",
           "width": 1
          },
          "type": "line",
          "x0": 6.399999999998999,
          "x1": 6.399999999998999,
          "y0": 73.58619791666617,
          "y1": -60.78619791666817
         },
         {
          "line": {
           "color": "red",
           "dash": "solid",
           "width": 1
          },
          "type": "line",
          "x0": 79.8,
          "x1": 79.8,
          "y0": 73.58619791666617,
          "y1": 86.01380208333383
         },
         {
          "line": {
           "color": "red",
           "dash": "solid",
           "width": 1
          },
          "type": "line",
          "x0": 81.79999999999801,
          "x1": 81.79999999999801,
          "y0": 73.58619791666617,
          "y1": 90.01380208332985
         },
         {
          "line": {
           "color": "red",
           "dash": "solid",
           "width": 1
          },
          "type": "line",
          "x0": 40.699999999999996,
          "x1": 40.699999999999996,
          "y0": 73.58619791666617,
          "y1": 7.813802083333826
         },
         {
          "line": {
           "color": "red",
           "dash": "solid",
           "width": 1
          },
          "type": "line",
          "x0": 123.8,
          "x1": 123.8,
          "y0": 73.58619791666617,
          "y1": 174.01380208333381
         },
         {
          "line": {
           "color": "red",
           "dash": "solid",
           "width": 1
          },
          "type": "line",
          "x0": 184.199999999998,
          "x1": 184.199999999998,
          "y0": 73.58619791666617,
          "y1": 294.81380208332985
         },
         {
          "line": {
           "color": "red",
           "dash": "solid",
           "width": 1
          },
          "type": "line",
          "x0": 28.6,
          "x1": 28.6,
          "y0": 73.58619791666617,
          "y1": -16.386197916666163
         },
         {
          "line": {
           "color": "red",
           "dash": "solid",
           "width": 1
          },
          "type": "line",
          "x0": 83.199999999998,
          "x1": 83.199999999998,
          "y0": 73.58619791666617,
          "y1": 92.81380208332983
         },
         {
          "line": {
           "color": "red",
           "dash": "solid",
           "width": 1
          },
          "type": "line",
          "x0": 162.20000000000098,
          "x1": 162.20000000000098,
          "y0": 73.58619791666617,
          "y1": 250.81380208333582
         },
         {
          "line": {
           "color": "red",
           "dash": "solid",
           "width": 1
          },
          "type": "line",
          "x0": 29.000000000001,
          "x1": 29.000000000001,
          "y0": 73.58619791666617,
          "y1": -15.586197916664172
         },
         {
          "line": {
           "color": "red",
           "dash": "solid",
           "width": 1
          },
          "type": "line",
          "x0": 20.999999999999,
          "x1": 20.999999999999,
          "y0": 73.58619791666617,
          "y1": -31.58619791666816
         },
         {
          "line": {
           "color": "red",
           "dash": "solid",
           "width": 1
          },
          "type": "line",
          "x0": 104.900000000001,
          "x1": 104.900000000001,
          "y0": 73.58619791666617,
          "y1": 136.21380208333585
         },
         {
          "line": {
           "color": "red",
           "dash": "solid",
           "width": 1
          },
          "type": "line",
          "x0": 35.6,
          "x1": 35.6,
          "y0": 73.58619791666617,
          "y1": -2.3861979166661627
         },
         {
          "line": {
           "color": "red",
           "dash": "solid",
           "width": 1
          },
          "type": "line",
          "x0": 69.099999999999,
          "x1": 69.099999999999,
          "y0": 73.58619791666617,
          "y1": 64.61380208333183
         },
         {
          "line": {
           "color": "red",
           "dash": "solid",
           "width": 1
          },
          "type": "line",
          "x0": 16.899999999999,
          "x1": 16.899999999999,
          "y0": 73.58619791666617,
          "y1": -39.78619791666817
         },
         {
          "line": {
           "color": "red",
           "dash": "solid",
           "width": 1
          },
          "type": "line",
          "x0": 49.999999999997996,
          "x1": 49.999999999997996,
          "y0": 73.58619791666617,
          "y1": 26.413802083329827
         },
         {
          "line": {
           "color": "red",
           "dash": "solid",
           "width": 1
          },
          "type": "line",
          "x0": 274.999999999998,
          "x1": 274.999999999998,
          "y0": 73.58619791666617,
          "y1": 476.41380208332987
         },
         {
          "line": {
           "color": "red",
           "dash": "solid",
           "width": 1
          },
          "type": "line",
          "x0": 9.6,
          "x1": 9.6,
          "y0": 73.58619791666617,
          "y1": -54.38619791666616
         },
         {
          "line": {
           "color": "red",
           "dash": "solid",
           "width": 1
          },
          "type": "line",
          "x0": 1.8,
          "x1": 1.8,
          "y0": 73.58619791666617,
          "y1": -69.98619791666617
         },
         {
          "line": {
           "color": "red",
           "dash": "solid",
           "width": 1
          },
          "type": "line",
          "x0": 82.99999999999899,
          "x1": 82.99999999999899,
          "y0": 73.58619791666617,
          "y1": 92.41380208333182
         },
         {
          "line": {
           "color": "red",
           "dash": "solid",
           "width": 1
          },
          "type": "line",
          "x0": 34.399999999998,
          "x1": 34.399999999998,
          "y0": 73.58619791666617,
          "y1": -4.786197916670162
         },
         {
          "line": {
           "color": "red",
           "dash": "solid",
           "width": 1
          },
          "type": "line",
          "x0": 101.999999999999,
          "x1": 101.999999999999,
          "y0": 73.58619791666617,
          "y1": 130.41380208333186
         },
         {
          "line": {
           "color": "red",
           "dash": "solid",
           "width": 1
          },
          "type": "line",
          "x0": 55.500000000001,
          "x1": 55.500000000001,
          "y0": 73.58619791666617,
          "y1": 37.41380208333584
         },
         {
          "line": {
           "color": "red",
           "dash": "solid",
           "width": 1
          },
          "type": "line",
          "x0": 21.4,
          "x1": 21.4,
          "y0": 73.58619791666617,
          "y1": -30.78619791666617
         },
         {
          "line": {
           "color": "red",
           "dash": "solid",
           "width": 1
          },
          "type": "line",
          "x0": 131.499999999999,
          "x1": 131.499999999999,
          "y0": 73.58619791666617,
          "y1": 189.41380208333186
         },
         {
          "line": {
           "color": "red",
           "dash": "solid",
           "width": 1
          },
          "type": "line",
          "x0": 128.299999999998,
          "x1": 128.299999999998,
          "y0": 73.58619791666617,
          "y1": 183.01380208332984
         },
         {
          "line": {
           "color": "red",
           "dash": "solid",
           "width": 1
          },
          "type": "line",
          "x0": 201.599999999999,
          "x1": 201.599999999999,
          "y0": 73.58619791666617,
          "y1": 329.61380208333185
         },
         {
          "line": {
           "color": "red",
           "dash": "solid",
           "width": 1
          },
          "type": "line",
          "x0": 65.599999999998,
          "x1": 65.599999999998,
          "y0": 73.58619791666617,
          "y1": 57.613802083329844
         },
         {
          "line": {
           "color": "red",
           "dash": "solid",
           "width": 1
          },
          "type": "line",
          "x0": 50.099999999999,
          "x1": 50.099999999999,
          "y0": 73.58619791666617,
          "y1": 26.613802083331834
         },
         {
          "line": {
           "color": "red",
           "dash": "solid",
           "width": 1
          },
          "type": "line",
          "x0": 111.9,
          "x1": 111.9,
          "y0": 73.58619791666617,
          "y1": 150.21380208333386
         },
         {
          "line": {
           "color": "red",
           "dash": "solid",
           "width": 1
          },
          "type": "line",
          "x0": 56.899999999999,
          "x1": 56.899999999999,
          "y0": 73.58619791666617,
          "y1": 40.21380208333183
         },
         {
          "line": {
           "color": "red",
           "dash": "solid",
           "width": 1
          },
          "type": "line",
          "x0": 164.59999999999897,
          "x1": 164.59999999999897,
          "y0": 73.58619791666617,
          "y1": 255.6138020833318
         },
         {
          "line": {
           "color": "red",
           "dash": "solid",
           "width": 1
          },
          "type": "line",
          "x0": 136.800000000001,
          "x1": 136.800000000001,
          "y0": 73.58619791666617,
          "y1": 200.01380208333586
         },
         {
          "line": {
           "color": "red",
           "dash": "solid",
           "width": 1
          },
          "type": "line",
          "x0": 58.599999999999,
          "x1": 58.599999999999,
          "y0": 73.58619791666617,
          "y1": 43.613802083331834
         },
         {
          "line": {
           "color": "red",
           "dash": "solid",
           "width": 1
          },
          "type": "line",
          "x0": 125.399999999999,
          "x1": 125.399999999999,
          "y0": 73.58619791666617,
          "y1": 177.2138020833318
         },
         {
          "line": {
           "color": "red",
           "dash": "solid",
           "width": 1
          },
          "type": "line",
          "x0": 73.099999999999,
          "x1": 73.099999999999,
          "y0": 73.58619791666617,
          "y1": 72.61380208333183
         },
         {
          "line": {
           "color": "red",
           "dash": "solid",
           "width": 1
          },
          "type": "line",
          "x0": 149.999999999999,
          "x1": 149.999999999999,
          "y0": 73.58619791666617,
          "y1": 226.41380208333186
         },
         {
          "line": {
           "color": "red",
           "dash": "solid",
           "width": 1
          },
          "type": "line",
          "x0": 51.29999999999799,
          "x1": 51.29999999999799,
          "y0": 73.58619791666617,
          "y1": 29.01380208332982
         },
         {
          "line": {
           "color": "red",
           "dash": "solid",
           "width": 1
          },
          "type": "line",
          "x0": 13.999999999998,
          "x1": 13.999999999998,
          "y0": 73.58619791666617,
          "y1": -45.58619791667017
         },
         {
          "line": {
           "color": "red",
           "dash": "solid",
           "width": 1
          },
          "type": "line",
          "x0": 44.399999999999,
          "x1": 44.399999999999,
          "y0": 73.58619791666617,
          "y1": 15.213802083331828
         },
         {
          "line": {
           "color": "red",
           "dash": "solid",
           "width": 1
          },
          "type": "line",
          "x0": 60.999999999999,
          "x1": 60.999999999999,
          "y0": 73.58619791666617,
          "y1": 48.41380208333183
         },
         {
          "line": {
           "color": "red",
           "dash": "solid",
           "width": 1
          },
          "type": "line",
          "x0": 142.1,
          "x1": 142.1,
          "y0": 73.58619791666617,
          "y1": 210.61380208333384
         },
         {
          "line": {
           "color": "red",
           "dash": "solid",
           "width": 1
          },
          "type": "line",
          "x0": 58.199999999999,
          "x1": 58.199999999999,
          "y0": 73.58619791666617,
          "y1": 42.81380208333184
         },
         {
          "line": {
           "color": "red",
           "dash": "solid",
           "width": 1
          },
          "type": "line",
          "x0": 174,
          "x1": 174,
          "y0": 73.58619791666617,
          "y1": 274.41380208333385
         },
         {
          "line": {
           "color": "red",
           "dash": "solid",
           "width": 1
          },
          "type": "line",
          "x0": 82.8,
          "x1": 82.8,
          "y0": 73.58619791666617,
          "y1": 92.01380208333383
         },
         {
          "line": {
           "color": "red",
           "dash": "solid",
           "width": 1
          },
          "type": "line",
          "x0": 25.600000000001,
          "x1": 25.600000000001,
          "y0": 73.58619791666617,
          "y1": -22.386197916664162
         },
         {
          "line": {
           "color": "red",
           "dash": "solid",
           "width": 1
          },
          "type": "line",
          "x0": 181.099999999998,
          "x1": 181.099999999998,
          "y0": 73.58619791666617,
          "y1": 288.61380208332986
         },
         {
          "line": {
           "color": "red",
           "dash": "solid",
           "width": 1
          },
          "type": "line",
          "x0": 109.699999999999,
          "x1": 109.699999999999,
          "y0": 73.58619791666617,
          "y1": 145.81380208333184
         },
         {
          "line": {
           "color": "red",
           "dash": "solid",
           "width": 1
          },
          "type": "line",
          "x0": 21.600000000001003,
          "x1": 21.600000000001003,
          "y0": 73.58619791666617,
          "y1": -30.38619791666416
         },
         {
          "line": {
           "color": "red",
           "dash": "solid",
           "width": 1
          },
          "type": "line",
          "x0": 29.399999999999,
          "x1": 29.399999999999,
          "y0": 73.58619791666617,
          "y1": -14.786197916668169
         },
         {
          "line": {
           "color": "red",
           "dash": "solid",
           "width": 1
          },
          "type": "line",
          "x0": 116.799999999999,
          "x1": 116.799999999999,
          "y0": 73.58619791666617,
          "y1": 160.01380208333183
         },
         {
          "line": {
           "color": "red",
           "dash": "solid",
           "width": 1
          },
          "type": "line",
          "x0": 347.8,
          "x1": 347.8,
          "y0": 73.58619791666617,
          "y1": 622.0138020833339
         },
         {
          "line": {
           "color": "red",
           "dash": "solid",
           "width": 1
          },
          "type": "line",
          "x0": 65.8,
          "x1": 65.8,
          "y0": 73.58619791666617,
          "y1": 58.01380208333383
         },
         {
          "line": {
           "color": "red",
           "dash": "solid",
           "width": 1
          },
          "type": "line",
          "x0": 96.199999999999,
          "x1": 96.199999999999,
          "y0": 73.58619791666617,
          "y1": 118.81380208333182
         },
         {
          "line": {
           "color": "red",
           "dash": "solid",
           "width": 1
          },
          "type": "line",
          "x0": 130.79999999999902,
          "x1": 130.79999999999902,
          "y0": 73.58619791666617,
          "y1": 188.01380208333188
         },
         {
          "line": {
           "color": "red",
           "dash": "solid",
           "width": 1
          },
          "type": "line",
          "x0": 38.7,
          "x1": 38.7,
          "y0": 73.58619791666617,
          "y1": 3.81380208333384
         },
         {
          "line": {
           "color": "red",
           "dash": "solid",
           "width": 1
          },
          "type": "line",
          "x0": 93.199999999999,
          "x1": 93.199999999999,
          "y0": 73.58619791666617,
          "y1": 112.81380208333182
         },
         {
          "line": {
           "color": "red",
           "dash": "solid",
           "width": 1
          },
          "type": "line",
          "x0": 101.599999999999,
          "x1": 101.599999999999,
          "y0": 73.58619791666617,
          "y1": 129.61380208333185
         },
         {
          "line": {
           "color": "red",
           "dash": "solid",
           "width": 1
          },
          "type": "line",
          "x0": 144.8,
          "x1": 144.8,
          "y0": 73.58619791666617,
          "y1": 216.01380208333387
         },
         {
          "line": {
           "color": "red",
           "dash": "solid",
           "width": 1
          },
          "type": "line",
          "x0": 111.49999999999899,
          "x1": 111.49999999999899,
          "y0": 73.58619791666617,
          "y1": 149.4138020833318
         },
         {
          "line": {
           "color": "red",
           "dash": "solid",
           "width": 1
          },
          "type": "line",
          "x0": 93.29999999999801,
          "x1": 93.29999999999801,
          "y0": 73.58619791666617,
          "y1": 113.01380208332985
         },
         {
          "line": {
           "color": "red",
           "dash": "solid",
           "width": 1
          },
          "type": "line",
          "x0": 86.199999999998,
          "x1": 86.199999999998,
          "y0": 73.58619791666617,
          "y1": 98.81380208332983
         },
         {
          "line": {
           "color": "red",
           "dash": "solid",
           "width": 1
          },
          "type": "line",
          "x0": 108.599999999998,
          "x1": 108.599999999998,
          "y0": 73.58619791666617,
          "y1": 143.61380208332986
         },
         {
          "line": {
           "color": "red",
           "dash": "solid",
           "width": 1
          },
          "type": "line",
          "x0": 26.699999999998997,
          "x1": 26.699999999998997,
          "y0": 73.58619791666617,
          "y1": -20.186197916668174
         },
         {
          "line": {
           "color": "red",
           "dash": "solid",
           "width": 1
          },
          "type": "line",
          "x0": 46.399999999999004,
          "x1": 46.399999999999004,
          "y0": 73.58619791666617,
          "y1": 19.213802083331842
         },
         {
          "line": {
           "color": "red",
           "dash": "solid",
           "width": 1
          },
          "type": "line",
          "x0": 7.2,
          "x1": 7.2,
          "y0": 73.58619791666617,
          "y1": -59.18619791666616
         },
         {
          "line": {
           "color": "red",
           "dash": "solid",
           "width": 1
          },
          "type": "line",
          "x0": 34.499999999999005,
          "x1": 34.499999999999005,
          "y0": 73.58619791666617,
          "y1": -4.586197916668155
         },
         {
          "line": {
           "color": "red",
           "dash": "solid",
           "width": 1
          },
          "type": "line",
          "x0": 86.30000000000099,
          "x1": 86.30000000000099,
          "y0": 73.58619791666617,
          "y1": 99.01380208333582
         },
         {
          "line": {
           "color": "red",
           "dash": "solid",
           "width": 1
          },
          "type": "line",
          "x0": 38.199999999999,
          "x1": 38.199999999999,
          "y0": 73.58619791666617,
          "y1": 2.8138020833318365
         },
         {
          "line": {
           "color": "red",
           "dash": "solid",
           "width": 1
          },
          "type": "line",
          "x0": 118.599999999999,
          "x1": 118.599999999999,
          "y0": 73.58619791666617,
          "y1": 163.61380208333185
         },
         {
          "line": {
           "color": "red",
           "dash": "solid",
           "width": 1
          },
          "type": "line",
          "x0": 13.799999999998999,
          "x1": 13.799999999998999,
          "y0": 73.58619791666617,
          "y1": -45.98619791666816
         },
         {
          "line": {
           "color": "red",
           "dash": "solid",
           "width": 1
          },
          "type": "line",
          "x0": 43.699999999999,
          "x1": 43.699999999999,
          "y0": 73.58619791666617,
          "y1": 13.813802083331836
         },
         {
          "line": {
           "color": "red",
           "dash": "solid",
           "width": 1
          },
          "type": "line",
          "x0": 103.899999999999,
          "x1": 103.899999999999,
          "y0": 73.58619791666617,
          "y1": 134.2138020833318
         },
         {
          "line": {
           "color": "red",
           "dash": "solid",
           "width": 1
          },
          "type": "line",
          "x0": 51.499999999999005,
          "x1": 51.499999999999005,
          "y0": 73.58619791666617,
          "y1": 29.413802083331845
         },
         {
          "line": {
           "color": "red",
           "dash": "solid",
           "width": 1
          },
          "type": "line",
          "x0": 61.7,
          "x1": 61.7,
          "y0": 73.58619791666617,
          "y1": 49.81380208333384
         },
         {
          "line": {
           "color": "red",
           "dash": "solid",
           "width": 1
          },
          "type": "line",
          "x0": 28.699999999999,
          "x1": 28.699999999999,
          "y0": 73.58619791666617,
          "y1": -16.186197916668164
         },
         {
          "line": {
           "color": "red",
           "dash": "solid",
           "width": 1
          },
          "type": "line",
          "x0": 37.500000000001,
          "x1": 37.500000000001,
          "y0": 73.58619791666617,
          "y1": 1.4138020833358382
         },
         {
          "line": {
           "color": "red",
           "dash": "solid",
           "width": 1
          },
          "type": "line",
          "x0": 130.20000000000002,
          "x1": 130.20000000000002,
          "y0": 73.58619791666617,
          "y1": 186.81380208333388
         },
         {
          "line": {
           "color": "red",
           "dash": "solid",
           "width": 1
          },
          "type": "line",
          "x0": 21.600000000001003,
          "x1": 21.600000000001003,
          "y0": 73.58619791666617,
          "y1": -30.38619791666416
         },
         {
          "line": {
           "color": "red",
           "dash": "solid",
           "width": 1
          },
          "type": "line",
          "x0": 32.400000000001,
          "x1": 32.400000000001,
          "y0": 73.58619791666617,
          "y1": -8.786197916664165
         },
         {
          "line": {
           "color": "red",
           "dash": "solid",
           "width": 1
          },
          "type": "line",
          "x0": 131.9,
          "x1": 131.9,
          "y0": 73.58619791666617,
          "y1": 190.21380208333386
         },
         {
          "line": {
           "color": "red",
           "dash": "solid",
           "width": 1
          },
          "type": "line",
          "x0": 563.999999999997,
          "x1": 563.999999999997,
          "y0": 73.58619791666617,
          "y1": 1054.413802083328
         },
         {
          "line": {
           "color": "red",
           "dash": "solid",
           "width": 1
          },
          "type": "line",
          "x0": 54.899999999999004,
          "x1": 54.899999999999004,
          "y0": 73.58619791666617,
          "y1": 36.21380208333184
         },
         {
          "line": {
           "color": "red",
           "dash": "solid",
           "width": 1
          },
          "type": "line",
          "x0": 136.79999999999902,
          "x1": 136.79999999999902,
          "y0": 73.58619791666617,
          "y1": 200.01380208333188
         },
         {
          "line": {
           "color": "red",
           "dash": "solid",
           "width": 1
          },
          "type": "line",
          "x0": 92.29999999999801,
          "x1": 92.29999999999801,
          "y0": 73.58619791666617,
          "y1": 111.01380208332985
         },
         {
          "line": {
           "color": "red",
           "dash": "solid",
           "width": 1
          },
          "type": "line",
          "x0": 127.39999999999901,
          "x1": 127.39999999999901,
          "y0": 73.58619791666617,
          "y1": 181.21380208333187
         },
         {
          "line": {
           "color": "red",
           "dash": "solid",
           "width": 1
          },
          "type": "line",
          "x0": 112.99999999999999,
          "x1": 112.99999999999999,
          "y0": 73.58619791666617,
          "y1": 152.4138020833338
         },
         {
          "line": {
           "color": "red",
           "dash": "solid",
           "width": 1
          },
          "type": "line",
          "x0": 12.499999999999,
          "x1": 12.499999999999,
          "y0": 73.58619791666617,
          "y1": -48.58619791666817
         },
         {
          "line": {
           "color": "red",
           "dash": "solid",
           "width": 1
          },
          "type": "line",
          "x0": -0.700000000000145,
          "x1": -0.700000000000145,
          "y0": 73.58619791666617,
          "y1": -74.98619791666646
         },
         {
          "line": {
           "color": "red",
           "dash": "solid",
           "width": 1
          },
          "type": "line",
          "x0": 2.999999999999,
          "x1": 2.999999999999,
          "y0": 73.58619791666617,
          "y1": -67.58619791666816
         },
         {
          "line": {
           "color": "red",
           "dash": "solid",
           "width": 1
          },
          "type": "line",
          "x0": 3.6000000000009997,
          "x1": 3.6000000000009997,
          "y0": 73.58619791666617,
          "y1": -66.38619791666416
         },
         {
          "line": {
           "color": "red",
           "dash": "solid",
           "width": 1
          },
          "type": "line",
          "x0": 3.899999999998,
          "x1": 3.899999999998,
          "y0": 73.58619791666617,
          "y1": -65.78619791667016
         },
         {
          "line": {
           "color": "red",
           "dash": "solid",
           "width": 1
          },
          "type": "line",
          "x0": 29.799999999999,
          "x1": 29.799999999999,
          "y0": 73.58619791666617,
          "y1": -13.986197916668164
         },
         {
          "line": {
           "color": "red",
           "dash": "solid",
           "width": 1
          },
          "type": "line",
          "x0": 35.199999999999,
          "x1": 35.199999999999,
          "y0": 73.58619791666617,
          "y1": -3.1861979166681635
         },
         {
          "line": {
           "color": "red",
           "dash": "solid",
           "width": 1
          },
          "type": "line",
          "x0": 46.399999999999004,
          "x1": 46.399999999999004,
          "y0": 73.58619791666617,
          "y1": 19.213802083331842
         },
         {
          "line": {
           "color": "red",
           "dash": "solid",
           "width": 1
          },
          "type": "line",
          "x0": 115,
          "x1": 115,
          "y0": 73.58619791666617,
          "y1": 156.41380208333385
         },
         {
          "line": {
           "color": "red",
           "dash": "solid",
           "width": 1
          },
          "type": "line",
          "x0": 22.799999999998,
          "x1": 22.799999999998,
          "y0": 73.58619791666617,
          "y1": -27.986197916670164
         },
         {
          "line": {
           "color": "red",
           "dash": "solid",
           "width": 1
          },
          "type": "line",
          "x0": 20.199999999998997,
          "x1": 20.199999999998997,
          "y0": 73.58619791666617,
          "y1": -33.18619791666818
         },
         {
          "line": {
           "color": "red",
           "dash": "solid",
           "width": 1
          },
          "type": "line",
          "x0": 72.2,
          "x1": 72.2,
          "y0": 73.58619791666617,
          "y1": 70.81380208333384
         }
        ],
        "template": {
         "data": {
          "bar": [
           {
            "error_x": {
             "color": "#2a3f5f"
            },
            "error_y": {
             "color": "#2a3f5f"
            },
            "marker": {
             "line": {
              "color": "#E5ECF6",
              "width": 0.5
             },
             "pattern": {
              "fillmode": "overlay",
              "size": 10,
              "solidity": 0.2
             }
            },
            "type": "bar"
           }
          ],
          "barpolar": [
           {
            "marker": {
             "line": {
              "color": "#E5ECF6",
              "width": 0.5
             },
             "pattern": {
              "fillmode": "overlay",
              "size": 10,
              "solidity": 0.2
             }
            },
            "type": "barpolar"
           }
          ],
          "carpet": [
           {
            "aaxis": {
             "endlinecolor": "#2a3f5f",
             "gridcolor": "white",
             "linecolor": "white",
             "minorgridcolor": "white",
             "startlinecolor": "#2a3f5f"
            },
            "baxis": {
             "endlinecolor": "#2a3f5f",
             "gridcolor": "white",
             "linecolor": "white",
             "minorgridcolor": "white",
             "startlinecolor": "#2a3f5f"
            },
            "type": "carpet"
           }
          ],
          "choropleth": [
           {
            "colorbar": {
             "outlinewidth": 0,
             "ticks": ""
            },
            "type": "choropleth"
           }
          ],
          "contour": [
           {
            "colorbar": {
             "outlinewidth": 0,
             "ticks": ""
            },
            "colorscale": [
             [
              0,
              "#0d0887"
             ],
             [
              0.1111111111111111,
              "#46039f"
             ],
             [
              0.2222222222222222,
              "#7201a8"
             ],
             [
              0.3333333333333333,
              "#9c179e"
             ],
             [
              0.4444444444444444,
              "#bd3786"
             ],
             [
              0.5555555555555556,
              "#d8576b"
             ],
             [
              0.6666666666666666,
              "#ed7953"
             ],
             [
              0.7777777777777778,
              "#fb9f3a"
             ],
             [
              0.8888888888888888,
              "#fdca26"
             ],
             [
              1,
              "#f0f921"
             ]
            ],
            "type": "contour"
           }
          ],
          "contourcarpet": [
           {
            "colorbar": {
             "outlinewidth": 0,
             "ticks": ""
            },
            "type": "contourcarpet"
           }
          ],
          "heatmap": [
           {
            "colorbar": {
             "outlinewidth": 0,
             "ticks": ""
            },
            "colorscale": [
             [
              0,
              "#0d0887"
             ],
             [
              0.1111111111111111,
              "#46039f"
             ],
             [
              0.2222222222222222,
              "#7201a8"
             ],
             [
              0.3333333333333333,
              "#9c179e"
             ],
             [
              0.4444444444444444,
              "#bd3786"
             ],
             [
              0.5555555555555556,
              "#d8576b"
             ],
             [
              0.6666666666666666,
              "#ed7953"
             ],
             [
              0.7777777777777778,
              "#fb9f3a"
             ],
             [
              0.8888888888888888,
              "#fdca26"
             ],
             [
              1,
              "#f0f921"
             ]
            ],
            "type": "heatmap"
           }
          ],
          "heatmapgl": [
           {
            "colorbar": {
             "outlinewidth": 0,
             "ticks": ""
            },
            "colorscale": [
             [
              0,
              "#0d0887"
             ],
             [
              0.1111111111111111,
              "#46039f"
             ],
             [
              0.2222222222222222,
              "#7201a8"
             ],
             [
              0.3333333333333333,
              "#9c179e"
             ],
             [
              0.4444444444444444,
              "#bd3786"
             ],
             [
              0.5555555555555556,
              "#d8576b"
             ],
             [
              0.6666666666666666,
              "#ed7953"
             ],
             [
              0.7777777777777778,
              "#fb9f3a"
             ],
             [
              0.8888888888888888,
              "#fdca26"
             ],
             [
              1,
              "#f0f921"
             ]
            ],
            "type": "heatmapgl"
           }
          ],
          "histogram": [
           {
            "marker": {
             "pattern": {
              "fillmode": "overlay",
              "size": 10,
              "solidity": 0.2
             }
            },
            "type": "histogram"
           }
          ],
          "histogram2d": [
           {
            "colorbar": {
             "outlinewidth": 0,
             "ticks": ""
            },
            "colorscale": [
             [
              0,
              "#0d0887"
             ],
             [
              0.1111111111111111,
              "#46039f"
             ],
             [
              0.2222222222222222,
              "#7201a8"
             ],
             [
              0.3333333333333333,
              "#9c179e"
             ],
             [
              0.4444444444444444,
              "#bd3786"
             ],
             [
              0.5555555555555556,
              "#d8576b"
             ],
             [
              0.6666666666666666,
              "#ed7953"
             ],
             [
              0.7777777777777778,
              "#fb9f3a"
             ],
             [
              0.8888888888888888,
              "#fdca26"
             ],
             [
              1,
              "#f0f921"
             ]
            ],
            "type": "histogram2d"
           }
          ],
          "histogram2dcontour": [
           {
            "colorbar": {
             "outlinewidth": 0,
             "ticks": ""
            },
            "colorscale": [
             [
              0,
              "#0d0887"
             ],
             [
              0.1111111111111111,
              "#46039f"
             ],
             [
              0.2222222222222222,
              "#7201a8"
             ],
             [
              0.3333333333333333,
              "#9c179e"
             ],
             [
              0.4444444444444444,
              "#bd3786"
             ],
             [
              0.5555555555555556,
              "#d8576b"
             ],
             [
              0.6666666666666666,
              "#ed7953"
             ],
             [
              0.7777777777777778,
              "#fb9f3a"
             ],
             [
              0.8888888888888888,
              "#fdca26"
             ],
             [
              1,
              "#f0f921"
             ]
            ],
            "type": "histogram2dcontour"
           }
          ],
          "mesh3d": [
           {
            "colorbar": {
             "outlinewidth": 0,
             "ticks": ""
            },
            "type": "mesh3d"
           }
          ],
          "parcoords": [
           {
            "line": {
             "colorbar": {
              "outlinewidth": 0,
              "ticks": ""
             }
            },
            "type": "parcoords"
           }
          ],
          "pie": [
           {
            "automargin": true,
            "type": "pie"
           }
          ],
          "scatter": [
           {
            "fillpattern": {
             "fillmode": "overlay",
             "size": 10,
             "solidity": 0.2
            },
            "type": "scatter"
           }
          ],
          "scatter3d": [
           {
            "line": {
             "colorbar": {
              "outlinewidth": 0,
              "ticks": ""
             }
            },
            "marker": {
             "colorbar": {
              "outlinewidth": 0,
              "ticks": ""
             }
            },
            "type": "scatter3d"
           }
          ],
          "scattercarpet": [
           {
            "marker": {
             "colorbar": {
              "outlinewidth": 0,
              "ticks": ""
             }
            },
            "type": "scattercarpet"
           }
          ],
          "scattergeo": [
           {
            "marker": {
             "colorbar": {
              "outlinewidth": 0,
              "ticks": ""
             }
            },
            "type": "scattergeo"
           }
          ],
          "scattergl": [
           {
            "marker": {
             "colorbar": {
              "outlinewidth": 0,
              "ticks": ""
             }
            },
            "type": "scattergl"
           }
          ],
          "scattermapbox": [
           {
            "marker": {
             "colorbar": {
              "outlinewidth": 0,
              "ticks": ""
             }
            },
            "type": "scattermapbox"
           }
          ],
          "scatterpolar": [
           {
            "marker": {
             "colorbar": {
              "outlinewidth": 0,
              "ticks": ""
             }
            },
            "type": "scatterpolar"
           }
          ],
          "scatterpolargl": [
           {
            "marker": {
             "colorbar": {
              "outlinewidth": 0,
              "ticks": ""
             }
            },
            "type": "scatterpolargl"
           }
          ],
          "scatterternary": [
           {
            "marker": {
             "colorbar": {
              "outlinewidth": 0,
              "ticks": ""
             }
            },
            "type": "scatterternary"
           }
          ],
          "surface": [
           {
            "colorbar": {
             "outlinewidth": 0,
             "ticks": ""
            },
            "colorscale": [
             [
              0,
              "#0d0887"
             ],
             [
              0.1111111111111111,
              "#46039f"
             ],
             [
              0.2222222222222222,
              "#7201a8"
             ],
             [
              0.3333333333333333,
              "#9c179e"
             ],
             [
              0.4444444444444444,
              "#bd3786"
             ],
             [
              0.5555555555555556,
              "#d8576b"
             ],
             [
              0.6666666666666666,
              "#ed7953"
             ],
             [
              0.7777777777777778,
              "#fb9f3a"
             ],
             [
              0.8888888888888888,
              "#fdca26"
             ],
             [
              1,
              "#f0f921"
             ]
            ],
            "type": "surface"
           }
          ],
          "table": [
           {
            "cells": {
             "fill": {
              "color": "#EBF0F8"
             },
             "line": {
              "color": "white"
             }
            },
            "header": {
             "fill": {
              "color": "#C8D4E3"
             },
             "line": {
              "color": "white"
             }
            },
            "type": "table"
           }
          ]
         },
         "layout": {
          "annotationdefaults": {
           "arrowcolor": "#2a3f5f",
           "arrowhead": 0,
           "arrowwidth": 1
          },
          "autotypenumbers": "strict",
          "coloraxis": {
           "colorbar": {
            "outlinewidth": 0,
            "ticks": ""
           }
          },
          "colorscale": {
           "diverging": [
            [
             0,
             "#8e0152"
            ],
            [
             0.1,
             "#c51b7d"
            ],
            [
             0.2,
             "#de77ae"
            ],
            [
             0.3,
             "#f1b6da"
            ],
            [
             0.4,
             "#fde0ef"
            ],
            [
             0.5,
             "#f7f7f7"
            ],
            [
             0.6,
             "#e6f5d0"
            ],
            [
             0.7,
             "#b8e186"
            ],
            [
             0.8,
             "#7fbc41"
            ],
            [
             0.9,
             "#4d9221"
            ],
            [
             1,
             "#276419"
            ]
           ],
           "sequential": [
            [
             0,
             "#0d0887"
            ],
            [
             0.1111111111111111,
             "#46039f"
            ],
            [
             0.2222222222222222,
             "#7201a8"
            ],
            [
             0.3333333333333333,
             "#9c179e"
            ],
            [
             0.4444444444444444,
             "#bd3786"
            ],
            [
             0.5555555555555556,
             "#d8576b"
            ],
            [
             0.6666666666666666,
             "#ed7953"
            ],
            [
             0.7777777777777778,
             "#fb9f3a"
            ],
            [
             0.8888888888888888,
             "#fdca26"
            ],
            [
             1,
             "#f0f921"
            ]
           ],
           "sequentialminus": [
            [
             0,
             "#0d0887"
            ],
            [
             0.1111111111111111,
             "#46039f"
            ],
            [
             0.2222222222222222,
             "#7201a8"
            ],
            [
             0.3333333333333333,
             "#9c179e"
            ],
            [
             0.4444444444444444,
             "#bd3786"
            ],
            [
             0.5555555555555556,
             "#d8576b"
            ],
            [
             0.6666666666666666,
             "#ed7953"
            ],
            [
             0.7777777777777778,
             "#fb9f3a"
            ],
            [
             0.8888888888888888,
             "#fdca26"
            ],
            [
             1,
             "#f0f921"
            ]
           ]
          },
          "colorway": [
           "#636efa",
           "#EF553B",
           "#00cc96",
           "#ab63fa",
           "#FFA15A",
           "#19d3f3",
           "#FF6692",
           "#B6E880",
           "#FF97FF",
           "#FECB52"
          ],
          "font": {
           "color": "#2a3f5f"
          },
          "geo": {
           "bgcolor": "white",
           "lakecolor": "white",
           "landcolor": "#E5ECF6",
           "showlakes": true,
           "showland": true,
           "subunitcolor": "white"
          },
          "hoverlabel": {
           "align": "left"
          },
          "hovermode": "closest",
          "mapbox": {
           "style": "light"
          },
          "paper_bgcolor": "white",
          "plot_bgcolor": "#E5ECF6",
          "polar": {
           "angularaxis": {
            "gridcolor": "white",
            "linecolor": "white",
            "ticks": ""
           },
           "bgcolor": "#E5ECF6",
           "radialaxis": {
            "gridcolor": "white",
            "linecolor": "white",
            "ticks": ""
           }
          },
          "scene": {
           "xaxis": {
            "backgroundcolor": "#E5ECF6",
            "gridcolor": "white",
            "gridwidth": 2,
            "linecolor": "white",
            "showbackground": true,
            "ticks": "",
            "zerolinecolor": "white"
           },
           "yaxis": {
            "backgroundcolor": "#E5ECF6",
            "gridcolor": "white",
            "gridwidth": 2,
            "linecolor": "white",
            "showbackground": true,
            "ticks": "",
            "zerolinecolor": "white"
           },
           "zaxis": {
            "backgroundcolor": "#E5ECF6",
            "gridcolor": "white",
            "gridwidth": 2,
            "linecolor": "white",
            "showbackground": true,
            "ticks": "",
            "zerolinecolor": "white"
           }
          },
          "shapedefaults": {
           "line": {
            "color": "#2a3f5f"
           }
          },
          "ternary": {
           "aaxis": {
            "gridcolor": "white",
            "linecolor": "white",
            "ticks": ""
           },
           "baxis": {
            "gridcolor": "white",
            "linecolor": "white",
            "ticks": ""
           },
           "bgcolor": "#E5ECF6",
           "caxis": {
            "gridcolor": "white",
            "linecolor": "white",
            "ticks": ""
           }
          },
          "title": {
           "x": 0.05
          },
          "xaxis": {
           "automargin": true,
           "gridcolor": "white",
           "linecolor": "white",
           "ticks": "",
           "title": {
            "standoff": 15
           },
           "zerolinecolor": "white",
           "zerolinewidth": 2
          },
          "yaxis": {
           "automargin": true,
           "gridcolor": "white",
           "linecolor": "white",
           "ticks": "",
           "title": {
            "standoff": 15
           },
           "zerolinecolor": "white",
           "zerolinewidth": 2
          }
         }
        },
        "title": {
         "text": "Baseline Model Prediction vs Actuals with Error Visualization"
        },
        "updatemenus": [
         {
          "buttons": [
           {
            "args": [
             {
              "visible": [
               true,
               true,
               true,
               true,
               true,
               true,
               true,
               true,
               true,
               true,
               true,
               true,
               true,
               true,
               true,
               true,
               true,
               true,
               true,
               true,
               true,
               true,
               true,
               true,
               true,
               true,
               true,
               true,
               true,
               true,
               true,
               true,
               true,
               true,
               true,
               true,
               true,
               true,
               true,
               true,
               true,
               true,
               true,
               true,
               true,
               true,
               true,
               true,
               true,
               true,
               true,
               true,
               true,
               true,
               true,
               true,
               true,
               true,
               true,
               true,
               true,
               true,
               true,
               true,
               true,
               true,
               true,
               true,
               true,
               true,
               true,
               true,
               true,
               true,
               true,
               true,
               true,
               true,
               true,
               true,
               true,
               true,
               true,
               true,
               true,
               true,
               true,
               true,
               true,
               true,
               true,
               true,
               true,
               true,
               true,
               true,
               true,
               true,
               true,
               true,
               false,
               false,
               false,
               false
              ]
             },
             {
              "title": "Baseline Model Prediction vs Actuals with Error Visualization - All Order Types",
              "yaxis2.overlaying": "y",
              "yaxis2.side": "right",
              "yaxis2.title": "Error"
             }
            ],
            "label": "All",
            "method": "update"
           },
           {
            "args": [
             {
              "visible": [
               true,
               false,
               false,
               false,
               true,
               false,
               false,
               true,
               false,
               false,
               true,
               true,
               false,
               true,
               false,
               false,
               false,
               true,
               false,
               true,
               false,
               true,
               false,
               false,
               true,
               true,
               true,
               false,
               true,
               false,
               false,
               false,
               true,
               false,
               false,
               true,
               false,
               false,
               false,
               false,
               true,
               true,
               false,
               true,
               false,
               true,
               true,
               false,
               false,
               false,
               true,
               true,
               true,
               false,
               true,
               true,
               true,
               true,
               false,
               false,
               false,
               true,
               true,
               false,
               true,
               false,
               false,
               false,
               false,
               true,
               false,
               true,
               true,
               true,
               true,
               true,
               true,
               false,
               false,
               true,
               false,
               false,
               true,
               false,
               true,
               true,
               false,
               true,
               false,
               true,
               false,
               true,
               false,
               false,
               true,
               true,
               true,
               true,
               true,
               true,
               false,
               false,
               false,
               true,
               false,
               false,
               true,
               false,
               false,
               true,
               true,
               false,
               true,
               false,
               false,
               false,
               true,
               false,
               true,
               false,
               true,
               false,
               false,
               true,
               true,
               true,
               false,
               true,
               false,
               false,
               false,
               true,
               false,
               false,
               true,
               false,
               false,
               false,
               false,
               true,
               true,
               false,
               true,
               false,
               true,
               true,
               false,
               false,
               false,
               true,
               true,
               true,
               false,
               true,
               true,
               true,
               true,
               false,
               false,
               false,
               true,
               true,
               false,
               true,
               false,
               false,
               false,
               false,
               true,
               false,
               true,
               true,
               true,
               true,
               true,
               true,
               false,
               false,
               true,
               false,
               false,
               true,
               false,
               true,
               true,
               false,
               true,
               false,
               true,
               false,
               true,
               false,
               false,
               true,
               true,
               true,
               true,
               true,
               false
              ]
             },
             {
              "title": "Baseline Model Prediction vs Actuals with Error Visualization - Order Type: BUY",
              "yaxis2.overlaying": "y",
              "yaxis2.side": "right",
              "yaxis2.title": "Error"
             }
            ],
            "label": "BUY",
            "method": "update"
           },
           {
            "args": [
             {
              "visible": [
               false,
               true,
               true,
               true,
               false,
               true,
               true,
               false,
               true,
               true,
               false,
               false,
               true,
               false,
               true,
               true,
               true,
               false,
               true,
               false,
               true,
               false,
               true,
               true,
               false,
               false,
               false,
               true,
               false,
               true,
               true,
               true,
               false,
               true,
               true,
               false,
               true,
               true,
               true,
               true,
               false,
               false,
               true,
               false,
               true,
               false,
               false,
               true,
               true,
               true,
               false,
               false,
               false,
               true,
               false,
               false,
               false,
               false,
               true,
               true,
               true,
               false,
               false,
               true,
               false,
               true,
               true,
               true,
               true,
               false,
               true,
               false,
               false,
               false,
               false,
               false,
               false,
               true,
               true,
               false,
               true,
               true,
               false,
               true,
               false,
               false,
               true,
               false,
               true,
               false,
               true,
               false,
               true,
               true,
               false,
               false,
               false,
               false,
               false,
               false,
               true,
               true,
               true,
               false,
               true,
               true,
               false,
               true,
               true,
               false,
               false,
               true,
               false,
               true,
               true,
               true,
               false,
               true,
               false,
               true,
               false,
               true,
               true,
               false,
               false,
               false,
               true,
               false,
               true,
               true,
               true,
               false,
               true,
               true,
               false,
               true,
               true,
               true,
               true,
               false,
               false,
               true,
               false,
               true,
               false,
               false,
               true,
               true,
               true,
               false,
               false,
               false,
               true,
               false,
               false,
               false,
               false,
               true,
               true,
               true,
               false,
               false,
               true,
               false,
               true,
               true,
               true,
               true,
               false,
               true,
               false,
               false,
               false,
               false,
               false,
               false,
               true,
               true,
               false,
               true,
               true,
               false,
               true,
               false,
               false,
               true,
               false,
               true,
               false,
               true,
               false,
               true,
               true,
               false,
               false,
               false,
               false,
               false,
               false
              ]
             },
             {
              "title": "Baseline Model Prediction vs Actuals with Error Visualization - Order Type: SELL",
              "yaxis2.overlaying": "y",
              "yaxis2.side": "right",
              "yaxis2.title": "Error"
             }
            ],
            "label": "SELL",
            "method": "update"
           }
          ],
          "direction": "down",
          "pad": {
           "r": 10,
           "t": 10
          },
          "showactive": true,
          "x": 0.11,
          "xanchor": "left",
          "y": 1.15,
          "yanchor": "top"
         }
        ],
        "xaxis": {
         "anchor": "y",
         "domain": [
          0,
          1
         ],
         "title": {
          "text": "Actual Values"
         }
        },
        "yaxis": {
         "anchor": "x",
         "domain": [
          0,
          1
         ],
         "title": {
          "text": "Predicted Values"
         }
        },
        "yaxis2": {
         "overlaying": "y",
         "showgrid": false,
         "showticklabels": true,
         "side": "right",
         "title": {
          "text": "Error"
         }
        }
       }
      },
      "text/html": [
       "<div>                            <div id=\"60aae162-d6c7-4b24-a3bf-0828a497edb5\" class=\"plotly-graph-div\" style=\"height:525px; width:100%;\"></div>            <script type=\"text/javascript\">                require([\"plotly\"], function(Plotly) {                    window.PLOTLYENV=window.PLOTLYENV || {};                                    if (document.getElementById(\"60aae162-d6c7-4b24-a3bf-0828a497edb5\")) {                    Plotly.newPlot(                        \"60aae162-d6c7-4b24-a3bf-0828a497edb5\",                        [{\"hovertemplate\":\"OrderType=BUY\\u003cbr\\u003eActual Values=%{x}\\u003cbr\\u003ePredicted Values=%{y}\\u003cextra\\u003e\\u003c\\u002fextra\\u003e\",\"legendgroup\":\"BUY\",\"marker\":{\"color\":\"#636efa\",\"opacity\":0.5,\"symbol\":\"circle\"},\"mode\":\"markers\",\"name\":\"BUY\",\"orientation\":\"v\",\"showlegend\":true,\"x\":[6.399999999998999,123.8,83.199999999998,20.999999999999,104.900000000001,69.099999999999,9.6,82.99999999999899,101.999999999999,131.499999999999,128.299999999998,201.599999999999,50.099999999999,136.800000000001,73.099999999999,60.999999999999,142.1,174.0,25.600000000001,181.099999999998,116.799999999999,347.8,65.8,130.79999999999902,38.7,93.199999999999,101.599999999999,86.199999999998,108.599999999998,46.399999999999004,118.599999999999,43.699999999999,103.899999999999,51.499999999999005,61.7,28.699999999999,37.500000000001,32.400000000001,54.899999999999004,92.29999999999801,127.39999999999901,12.499999999999,2.999999999999,3.899999999998,46.399999999999004,115.0,22.799999999998,20.199999999998997,72.2],\"xaxis\":\"x\",\"y\":[73.58619791666617,73.58619791666617,73.58619791666617,73.58619791666617,73.58619791666617,73.58619791666617,73.58619791666617,73.58619791666617,73.58619791666617,73.58619791666617,73.58619791666617,73.58619791666617,73.58619791666617,73.58619791666617,73.58619791666617,73.58619791666617,73.58619791666617,73.58619791666617,73.58619791666617,73.58619791666617,73.58619791666617,73.58619791666617,73.58619791666617,73.58619791666617,73.58619791666617,73.58619791666617,73.58619791666617,73.58619791666617,73.58619791666617,73.58619791666617,73.58619791666617,73.58619791666617,73.58619791666617,73.58619791666617,73.58619791666617,73.58619791666617,73.58619791666617,73.58619791666617,73.58619791666617,73.58619791666617,73.58619791666617,73.58619791666617,73.58619791666617,73.58619791666617,73.58619791666617,73.58619791666617,73.58619791666617,73.58619791666617,73.58619791666617],\"yaxis\":\"y\",\"type\":\"scatter\"},{\"hovertemplate\":\"OrderType=SELL\\u003cbr\\u003eActual Values=%{x}\\u003cbr\\u003ePredicted Values=%{y}\\u003cextra\\u003e\\u003c\\u002fextra\\u003e\",\"legendgroup\":\"SELL\",\"marker\":{\"color\":\"#EF553B\",\"opacity\":0.5,\"symbol\":\"circle\"},\"mode\":\"markers\",\"name\":\"SELL\",\"orientation\":\"v\",\"showlegend\":true,\"x\":[79.8,81.79999999999801,40.699999999999996,184.199999999998,28.6,162.20000000000098,29.000000000001,35.6,16.899999999999,49.999999999997996,274.999999999998,1.8,34.399999999998,55.500000000001,21.4,65.599999999998,111.9,56.899999999999,164.59999999999897,58.599999999999,125.399999999999,149.999999999999,51.29999999999799,13.999999999998,44.399999999999,58.199999999999,82.8,109.699999999999,21.600000000001003,29.399999999999,96.199999999999,144.8,111.49999999999899,93.29999999999801,26.699999999998997,7.2,34.499999999999005,86.30000000000099,38.199999999999,13.799999999998999,130.20000000000002,21.600000000001003,131.9,563.999999999997,136.79999999999902,112.99999999999999,-0.700000000000145,3.6000000000009997,29.799999999999,35.199999999999],\"xaxis\":\"x\",\"y\":[73.58619791666617,73.58619791666617,73.58619791666617,73.58619791666617,73.58619791666617,73.58619791666617,73.58619791666617,73.58619791666617,73.58619791666617,73.58619791666617,73.58619791666617,73.58619791666617,73.58619791666617,73.58619791666617,73.58619791666617,73.58619791666617,73.58619791666617,73.58619791666617,73.58619791666617,73.58619791666617,73.58619791666617,73.58619791666617,73.58619791666617,73.58619791666617,73.58619791666617,73.58619791666617,73.58619791666617,73.58619791666617,73.58619791666617,73.58619791666617,73.58619791666617,73.58619791666617,73.58619791666617,73.58619791666617,73.58619791666617,73.58619791666617,73.58619791666617,73.58619791666617,73.58619791666617,73.58619791666617,73.58619791666617,73.58619791666617,73.58619791666617,73.58619791666617,73.58619791666617,73.58619791666617,73.58619791666617,73.58619791666617,73.58619791666617,73.58619791666617],\"yaxis\":\"y\",\"type\":\"scatter\"},{\"line\":{\"color\":\"red\",\"dash\":\"dot\",\"width\":0.0001},\"marker\":{\"color\":\"red\",\"opacity\":0.1,\"size\":1},\"mode\":\"lines\",\"name\":\"Errors Trend\",\"visible\":false,\"x\":[6.399999999998999,79.8,81.79999999999801,40.699999999999996,123.8,184.199999999998,28.6,83.199999999998,162.20000000000098,29.000000000001,20.999999999999,104.900000000001,35.6,69.099999999999,16.899999999999,49.999999999997996,274.999999999998,9.6,1.8,82.99999999999899,34.399999999998,101.999999999999,55.500000000001,21.4,131.499999999999,128.299999999998,201.599999999999,65.599999999998,50.099999999999,111.9,56.899999999999,164.59999999999897,136.800000000001,58.599999999999,125.399999999999,73.099999999999,149.999999999999,51.29999999999799,13.999999999998,44.399999999999,60.999999999999,142.1,58.199999999999,174.0,82.8,25.600000000001,181.099999999998,109.699999999999,21.600000000001003,29.399999999999,116.799999999999,347.8,65.8,96.199999999999,130.79999999999902,38.7,93.199999999999,101.599999999999,144.8,111.49999999999899,93.29999999999801,86.199999999998,108.599999999998,26.699999999998997,46.399999999999004,7.2,34.499999999999005,86.30000000000099,38.199999999999,118.599999999999,13.799999999998999,43.699999999999,103.899999999999,51.499999999999005,61.7,28.699999999999,37.500000000001,130.20000000000002,21.600000000001003,32.400000000001,131.9,563.999999999997,54.899999999999004,136.79999999999902,92.29999999999801,127.39999999999901,112.99999999999999,12.499999999999,-0.700000000000145,2.999999999999,3.6000000000009997,3.899999999998,29.799999999999,35.199999999999,46.399999999999004,115.0,22.799999999998,20.199999999998997,72.2],\"y\":[-67.18619791666717,6.213802083333832,8.213802083331842,-32.88619791666617,50.21380208333383,110.61380208333183,-44.986197916666164,9.613802083331834,88.61380208333482,-44.58619791666517,-52.58619791666716,31.313802083334835,-37.986197916666164,-4.486197916667166,-56.68619791666717,-23.58619791666817,201.41380208333186,-63.986197916666164,-71.78619791666617,9.413802083332826,-39.18619791666816,28.41380208333284,-18.086197916665164,-52.18619791666617,57.91380208333284,54.71380208333183,128.01380208333285,-7.986197916668161,-23.486197916667166,38.31380208333384,-16.68619791666717,91.0138020833328,63.21380208333484,-14.986197916667166,51.81380208333283,-0.48619791666716594,76.41380208333284,-22.286197916668172,-59.58619791666817,-29.18619791666717,-12.586197916667167,68.51380208333383,-15.386197916667165,100.41380208333383,9.213802083333832,-47.98619791666516,107.51380208333184,36.11380208333283,-51.98619791666516,-44.18619791666717,43.21380208333284,274.21380208333386,-7.786197916666168,22.61380208333283,57.21380208333285,-34.88619791666616,19.61380208333283,28.013802083332834,71.21380208333385,37.913802083332826,19.713802083331842,12.613802083331834,35.01380208333184,-46.88619791666717,-27.18619791666716,-66.38619791666616,-39.08619791666716,12.713802083334826,-35.386197916667165,45.013802083332834,-59.78619791666716,-29.886197916667165,30.31380208333283,-22.08619791666716,-11.886197916666163,-44.886197916667165,-36.086197916665164,56.61380208333385,-51.98619791666516,-41.186197916665165,58.31380208333384,490.4138020833309,-18.68619791666716,63.21380208333285,18.713802083331842,53.813802083332845,39.41380208333382,-61.08619791666717,-74.28619791666631,-70.58619791666716,-69.98619791666516,-69.68619791666816,-43.78619791666716,-38.386197916667165,-27.18619791666716,41.413802083333835,-50.786197916668165,-53.38619791666717,-1.3861979166661627],\"yaxis\":\"y2\",\"type\":\"scatter\"}],                        {\"template\":{\"data\":{\"histogram2dcontour\":[{\"type\":\"histogram2dcontour\",\"colorbar\":{\"outlinewidth\":0,\"ticks\":\"\"},\"colorscale\":[[0.0,\"#0d0887\"],[0.1111111111111111,\"#46039f\"],[0.2222222222222222,\"#7201a8\"],[0.3333333333333333,\"#9c179e\"],[0.4444444444444444,\"#bd3786\"],[0.5555555555555556,\"#d8576b\"],[0.6666666666666666,\"#ed7953\"],[0.7777777777777778,\"#fb9f3a\"],[0.8888888888888888,\"#fdca26\"],[1.0,\"#f0f921\"]]}],\"choropleth\":[{\"type\":\"choropleth\",\"colorbar\":{\"outlinewidth\":0,\"ticks\":\"\"}}],\"histogram2d\":[{\"type\":\"histogram2d\",\"colorbar\":{\"outlinewidth\":0,\"ticks\":\"\"},\"colorscale\":[[0.0,\"#0d0887\"],[0.1111111111111111,\"#46039f\"],[0.2222222222222222,\"#7201a8\"],[0.3333333333333333,\"#9c179e\"],[0.4444444444444444,\"#bd3786\"],[0.5555555555555556,\"#d8576b\"],[0.6666666666666666,\"#ed7953\"],[0.7777777777777778,\"#fb9f3a\"],[0.8888888888888888,\"#fdca26\"],[1.0,\"#f0f921\"]]}],\"heatmap\":[{\"type\":\"heatmap\",\"colorbar\":{\"outlinewidth\":0,\"ticks\":\"\"},\"colorscale\":[[0.0,\"#0d0887\"],[0.1111111111111111,\"#46039f\"],[0.2222222222222222,\"#7201a8\"],[0.3333333333333333,\"#9c179e\"],[0.4444444444444444,\"#bd3786\"],[0.5555555555555556,\"#d8576b\"],[0.6666666666666666,\"#ed7953\"],[0.7777777777777778,\"#fb9f3a\"],[0.8888888888888888,\"#fdca26\"],[1.0,\"#f0f921\"]]}],\"heatmapgl\":[{\"type\":\"heatmapgl\",\"colorbar\":{\"outlinewidth\":0,\"ticks\":\"\"},\"colorscale\":[[0.0,\"#0d0887\"],[0.1111111111111111,\"#46039f\"],[0.2222222222222222,\"#7201a8\"],[0.3333333333333333,\"#9c179e\"],[0.4444444444444444,\"#bd3786\"],[0.5555555555555556,\"#d8576b\"],[0.6666666666666666,\"#ed7953\"],[0.7777777777777778,\"#fb9f3a\"],[0.8888888888888888,\"#fdca26\"],[1.0,\"#f0f921\"]]}],\"contourcarpet\":[{\"type\":\"contourcarpet\",\"colorbar\":{\"outlinewidth\":0,\"ticks\":\"\"}}],\"contour\":[{\"type\":\"contour\",\"colorbar\":{\"outlinewidth\":0,\"ticks\":\"\"},\"colorscale\":[[0.0,\"#0d0887\"],[0.1111111111111111,\"#46039f\"],[0.2222222222222222,\"#7201a8\"],[0.3333333333333333,\"#9c179e\"],[0.4444444444444444,\"#bd3786\"],[0.5555555555555556,\"#d8576b\"],[0.6666666666666666,\"#ed7953\"],[0.7777777777777778,\"#fb9f3a\"],[0.8888888888888888,\"#fdca26\"],[1.0,\"#f0f921\"]]}],\"surface\":[{\"type\":\"surface\",\"colorbar\":{\"outlinewidth\":0,\"ticks\":\"\"},\"colorscale\":[[0.0,\"#0d0887\"],[0.1111111111111111,\"#46039f\"],[0.2222222222222222,\"#7201a8\"],[0.3333333333333333,\"#9c179e\"],[0.4444444444444444,\"#bd3786\"],[0.5555555555555556,\"#d8576b\"],[0.6666666666666666,\"#ed7953\"],[0.7777777777777778,\"#fb9f3a\"],[0.8888888888888888,\"#fdca26\"],[1.0,\"#f0f921\"]]}],\"mesh3d\":[{\"type\":\"mesh3d\",\"colorbar\":{\"outlinewidth\":0,\"ticks\":\"\"}}],\"scatter\":[{\"fillpattern\":{\"fillmode\":\"overlay\",\"size\":10,\"solidity\":0.2},\"type\":\"scatter\"}],\"parcoords\":[{\"type\":\"parcoords\",\"line\":{\"colorbar\":{\"outlinewidth\":0,\"ticks\":\"\"}}}],\"scatterpolargl\":[{\"type\":\"scatterpolargl\",\"marker\":{\"colorbar\":{\"outlinewidth\":0,\"ticks\":\"\"}}}],\"bar\":[{\"error_x\":{\"color\":\"#2a3f5f\"},\"error_y\":{\"color\":\"#2a3f5f\"},\"marker\":{\"line\":{\"color\":\"#E5ECF6\",\"width\":0.5},\"pattern\":{\"fillmode\":\"overlay\",\"size\":10,\"solidity\":0.2}},\"type\":\"bar\"}],\"scattergeo\":[{\"type\":\"scattergeo\",\"marker\":{\"colorbar\":{\"outlinewidth\":0,\"ticks\":\"\"}}}],\"scatterpolar\":[{\"type\":\"scatterpolar\",\"marker\":{\"colorbar\":{\"outlinewidth\":0,\"ticks\":\"\"}}}],\"histogram\":[{\"marker\":{\"pattern\":{\"fillmode\":\"overlay\",\"size\":10,\"solidity\":0.2}},\"type\":\"histogram\"}],\"scattergl\":[{\"type\":\"scattergl\",\"marker\":{\"colorbar\":{\"outlinewidth\":0,\"ticks\":\"\"}}}],\"scatter3d\":[{\"type\":\"scatter3d\",\"line\":{\"colorbar\":{\"outlinewidth\":0,\"ticks\":\"\"}},\"marker\":{\"colorbar\":{\"outlinewidth\":0,\"ticks\":\"\"}}}],\"scattermapbox\":[{\"type\":\"scattermapbox\",\"marker\":{\"colorbar\":{\"outlinewidth\":0,\"ticks\":\"\"}}}],\"scatterternary\":[{\"type\":\"scatterternary\",\"marker\":{\"colorbar\":{\"outlinewidth\":0,\"ticks\":\"\"}}}],\"scattercarpet\":[{\"type\":\"scattercarpet\",\"marker\":{\"colorbar\":{\"outlinewidth\":0,\"ticks\":\"\"}}}],\"carpet\":[{\"aaxis\":{\"endlinecolor\":\"#2a3f5f\",\"gridcolor\":\"white\",\"linecolor\":\"white\",\"minorgridcolor\":\"white\",\"startlinecolor\":\"#2a3f5f\"},\"baxis\":{\"endlinecolor\":\"#2a3f5f\",\"gridcolor\":\"white\",\"linecolor\":\"white\",\"minorgridcolor\":\"white\",\"startlinecolor\":\"#2a3f5f\"},\"type\":\"carpet\"}],\"table\":[{\"cells\":{\"fill\":{\"color\":\"#EBF0F8\"},\"line\":{\"color\":\"white\"}},\"header\":{\"fill\":{\"color\":\"#C8D4E3\"},\"line\":{\"color\":\"white\"}},\"type\":\"table\"}],\"barpolar\":[{\"marker\":{\"line\":{\"color\":\"#E5ECF6\",\"width\":0.5},\"pattern\":{\"fillmode\":\"overlay\",\"size\":10,\"solidity\":0.2}},\"type\":\"barpolar\"}],\"pie\":[{\"automargin\":true,\"type\":\"pie\"}]},\"layout\":{\"autotypenumbers\":\"strict\",\"colorway\":[\"#636efa\",\"#EF553B\",\"#00cc96\",\"#ab63fa\",\"#FFA15A\",\"#19d3f3\",\"#FF6692\",\"#B6E880\",\"#FF97FF\",\"#FECB52\"],\"font\":{\"color\":\"#2a3f5f\"},\"hovermode\":\"closest\",\"hoverlabel\":{\"align\":\"left\"},\"paper_bgcolor\":\"white\",\"plot_bgcolor\":\"#E5ECF6\",\"polar\":{\"bgcolor\":\"#E5ECF6\",\"angularaxis\":{\"gridcolor\":\"white\",\"linecolor\":\"white\",\"ticks\":\"\"},\"radialaxis\":{\"gridcolor\":\"white\",\"linecolor\":\"white\",\"ticks\":\"\"}},\"ternary\":{\"bgcolor\":\"#E5ECF6\",\"aaxis\":{\"gridcolor\":\"white\",\"linecolor\":\"white\",\"ticks\":\"\"},\"baxis\":{\"gridcolor\":\"white\",\"linecolor\":\"white\",\"ticks\":\"\"},\"caxis\":{\"gridcolor\":\"white\",\"linecolor\":\"white\",\"ticks\":\"\"}},\"coloraxis\":{\"colorbar\":{\"outlinewidth\":0,\"ticks\":\"\"}},\"colorscale\":{\"sequential\":[[0.0,\"#0d0887\"],[0.1111111111111111,\"#46039f\"],[0.2222222222222222,\"#7201a8\"],[0.3333333333333333,\"#9c179e\"],[0.4444444444444444,\"#bd3786\"],[0.5555555555555556,\"#d8576b\"],[0.6666666666666666,\"#ed7953\"],[0.7777777777777778,\"#fb9f3a\"],[0.8888888888888888,\"#fdca26\"],[1.0,\"#f0f921\"]],\"sequentialminus\":[[0.0,\"#0d0887\"],[0.1111111111111111,\"#46039f\"],[0.2222222222222222,\"#7201a8\"],[0.3333333333333333,\"#9c179e\"],[0.4444444444444444,\"#bd3786\"],[0.5555555555555556,\"#d8576b\"],[0.6666666666666666,\"#ed7953\"],[0.7777777777777778,\"#fb9f3a\"],[0.8888888888888888,\"#fdca26\"],[1.0,\"#f0f921\"]],\"diverging\":[[0,\"#8e0152\"],[0.1,\"#c51b7d\"],[0.2,\"#de77ae\"],[0.3,\"#f1b6da\"],[0.4,\"#fde0ef\"],[0.5,\"#f7f7f7\"],[0.6,\"#e6f5d0\"],[0.7,\"#b8e186\"],[0.8,\"#7fbc41\"],[0.9,\"#4d9221\"],[1,\"#276419\"]]},\"xaxis\":{\"gridcolor\":\"white\",\"linecolor\":\"white\",\"ticks\":\"\",\"title\":{\"standoff\":15},\"zerolinecolor\":\"white\",\"automargin\":true,\"zerolinewidth\":2},\"yaxis\":{\"gridcolor\":\"white\",\"linecolor\":\"white\",\"ticks\":\"\",\"title\":{\"standoff\":15},\"zerolinecolor\":\"white\",\"automargin\":true,\"zerolinewidth\":2},\"scene\":{\"xaxis\":{\"backgroundcolor\":\"#E5ECF6\",\"gridcolor\":\"white\",\"linecolor\":\"white\",\"showbackground\":true,\"ticks\":\"\",\"zerolinecolor\":\"white\",\"gridwidth\":2},\"yaxis\":{\"backgroundcolor\":\"#E5ECF6\",\"gridcolor\":\"white\",\"linecolor\":\"white\",\"showbackground\":true,\"ticks\":\"\",\"zerolinecolor\":\"white\",\"gridwidth\":2},\"zaxis\":{\"backgroundcolor\":\"#E5ECF6\",\"gridcolor\":\"white\",\"linecolor\":\"white\",\"showbackground\":true,\"ticks\":\"\",\"zerolinecolor\":\"white\",\"gridwidth\":2}},\"shapedefaults\":{\"line\":{\"color\":\"#2a3f5f\"}},\"annotationdefaults\":{\"arrowcolor\":\"#2a3f5f\",\"arrowhead\":0,\"arrowwidth\":1},\"geo\":{\"bgcolor\":\"white\",\"landcolor\":\"#E5ECF6\",\"subunitcolor\":\"white\",\"showland\":true,\"showlakes\":true,\"lakecolor\":\"white\"},\"title\":{\"x\":0.05},\"mapbox\":{\"style\":\"light\"}}},\"xaxis\":{\"anchor\":\"y\",\"domain\":[0.0,1.0],\"title\":{\"text\":\"Actual Values\"}},\"yaxis\":{\"anchor\":\"x\",\"domain\":[0.0,1.0],\"title\":{\"text\":\"Predicted Values\"}},\"legend\":{\"title\":{\"text\":\"OrderType\"},\"tracegroupgap\":0},\"title\":{\"text\":\"Baseline Model Prediction vs Actuals with Error Visualization\"},\"shapes\":[{\"line\":{\"color\":\"red\",\"dash\":\"solid\",\"width\":1},\"type\":\"line\",\"x0\":6.399999999998999,\"x1\":6.399999999998999,\"y0\":73.58619791666617,\"y1\":-60.78619791666817},{\"line\":{\"color\":\"red\",\"dash\":\"solid\",\"width\":1},\"type\":\"line\",\"x0\":79.8,\"x1\":79.8,\"y0\":73.58619791666617,\"y1\":86.01380208333383},{\"line\":{\"color\":\"red\",\"dash\":\"solid\",\"width\":1},\"type\":\"line\",\"x0\":81.79999999999801,\"x1\":81.79999999999801,\"y0\":73.58619791666617,\"y1\":90.01380208332985},{\"line\":{\"color\":\"red\",\"dash\":\"solid\",\"width\":1},\"type\":\"line\",\"x0\":40.699999999999996,\"x1\":40.699999999999996,\"y0\":73.58619791666617,\"y1\":7.813802083333826},{\"line\":{\"color\":\"red\",\"dash\":\"solid\",\"width\":1},\"type\":\"line\",\"x0\":123.8,\"x1\":123.8,\"y0\":73.58619791666617,\"y1\":174.01380208333381},{\"line\":{\"color\":\"red\",\"dash\":\"solid\",\"width\":1},\"type\":\"line\",\"x0\":184.199999999998,\"x1\":184.199999999998,\"y0\":73.58619791666617,\"y1\":294.81380208332985},{\"line\":{\"color\":\"red\",\"dash\":\"solid\",\"width\":1},\"type\":\"line\",\"x0\":28.6,\"x1\":28.6,\"y0\":73.58619791666617,\"y1\":-16.386197916666163},{\"line\":{\"color\":\"red\",\"dash\":\"solid\",\"width\":1},\"type\":\"line\",\"x0\":83.199999999998,\"x1\":83.199999999998,\"y0\":73.58619791666617,\"y1\":92.81380208332983},{\"line\":{\"color\":\"red\",\"dash\":\"solid\",\"width\":1},\"type\":\"line\",\"x0\":162.20000000000098,\"x1\":162.20000000000098,\"y0\":73.58619791666617,\"y1\":250.81380208333582},{\"line\":{\"color\":\"red\",\"dash\":\"solid\",\"width\":1},\"type\":\"line\",\"x0\":29.000000000001,\"x1\":29.000000000001,\"y0\":73.58619791666617,\"y1\":-15.586197916664172},{\"line\":{\"color\":\"red\",\"dash\":\"solid\",\"width\":1},\"type\":\"line\",\"x0\":20.999999999999,\"x1\":20.999999999999,\"y0\":73.58619791666617,\"y1\":-31.58619791666816},{\"line\":{\"color\":\"red\",\"dash\":\"solid\",\"width\":1},\"type\":\"line\",\"x0\":104.900000000001,\"x1\":104.900000000001,\"y0\":73.58619791666617,\"y1\":136.21380208333585},{\"line\":{\"color\":\"red\",\"dash\":\"solid\",\"width\":1},\"type\":\"line\",\"x0\":35.6,\"x1\":35.6,\"y0\":73.58619791666617,\"y1\":-2.3861979166661627},{\"line\":{\"color\":\"red\",\"dash\":\"solid\",\"width\":1},\"type\":\"line\",\"x0\":69.099999999999,\"x1\":69.099999999999,\"y0\":73.58619791666617,\"y1\":64.61380208333183},{\"line\":{\"color\":\"red\",\"dash\":\"solid\",\"width\":1},\"type\":\"line\",\"x0\":16.899999999999,\"x1\":16.899999999999,\"y0\":73.58619791666617,\"y1\":-39.78619791666817},{\"line\":{\"color\":\"red\",\"dash\":\"solid\",\"width\":1},\"type\":\"line\",\"x0\":49.999999999997996,\"x1\":49.999999999997996,\"y0\":73.58619791666617,\"y1\":26.413802083329827},{\"line\":{\"color\":\"red\",\"dash\":\"solid\",\"width\":1},\"type\":\"line\",\"x0\":274.999999999998,\"x1\":274.999999999998,\"y0\":73.58619791666617,\"y1\":476.41380208332987},{\"line\":{\"color\":\"red\",\"dash\":\"solid\",\"width\":1},\"type\":\"line\",\"x0\":9.6,\"x1\":9.6,\"y0\":73.58619791666617,\"y1\":-54.38619791666616},{\"line\":{\"color\":\"red\",\"dash\":\"solid\",\"width\":1},\"type\":\"line\",\"x0\":1.8,\"x1\":1.8,\"y0\":73.58619791666617,\"y1\":-69.98619791666617},{\"line\":{\"color\":\"red\",\"dash\":\"solid\",\"width\":1},\"type\":\"line\",\"x0\":82.99999999999899,\"x1\":82.99999999999899,\"y0\":73.58619791666617,\"y1\":92.41380208333182},{\"line\":{\"color\":\"red\",\"dash\":\"solid\",\"width\":1},\"type\":\"line\",\"x0\":34.399999999998,\"x1\":34.399999999998,\"y0\":73.58619791666617,\"y1\":-4.786197916670162},{\"line\":{\"color\":\"red\",\"dash\":\"solid\",\"width\":1},\"type\":\"line\",\"x0\":101.999999999999,\"x1\":101.999999999999,\"y0\":73.58619791666617,\"y1\":130.41380208333186},{\"line\":{\"color\":\"red\",\"dash\":\"solid\",\"width\":1},\"type\":\"line\",\"x0\":55.500000000001,\"x1\":55.500000000001,\"y0\":73.58619791666617,\"y1\":37.41380208333584},{\"line\":{\"color\":\"red\",\"dash\":\"solid\",\"width\":1},\"type\":\"line\",\"x0\":21.4,\"x1\":21.4,\"y0\":73.58619791666617,\"y1\":-30.78619791666617},{\"line\":{\"color\":\"red\",\"dash\":\"solid\",\"width\":1},\"type\":\"line\",\"x0\":131.499999999999,\"x1\":131.499999999999,\"y0\":73.58619791666617,\"y1\":189.41380208333186},{\"line\":{\"color\":\"red\",\"dash\":\"solid\",\"width\":1},\"type\":\"line\",\"x0\":128.299999999998,\"x1\":128.299999999998,\"y0\":73.58619791666617,\"y1\":183.01380208332984},{\"line\":{\"color\":\"red\",\"dash\":\"solid\",\"width\":1},\"type\":\"line\",\"x0\":201.599999999999,\"x1\":201.599999999999,\"y0\":73.58619791666617,\"y1\":329.61380208333185},{\"line\":{\"color\":\"red\",\"dash\":\"solid\",\"width\":1},\"type\":\"line\",\"x0\":65.599999999998,\"x1\":65.599999999998,\"y0\":73.58619791666617,\"y1\":57.613802083329844},{\"line\":{\"color\":\"red\",\"dash\":\"solid\",\"width\":1},\"type\":\"line\",\"x0\":50.099999999999,\"x1\":50.099999999999,\"y0\":73.58619791666617,\"y1\":26.613802083331834},{\"line\":{\"color\":\"red\",\"dash\":\"solid\",\"width\":1},\"type\":\"line\",\"x0\":111.9,\"x1\":111.9,\"y0\":73.58619791666617,\"y1\":150.21380208333386},{\"line\":{\"color\":\"red\",\"dash\":\"solid\",\"width\":1},\"type\":\"line\",\"x0\":56.899999999999,\"x1\":56.899999999999,\"y0\":73.58619791666617,\"y1\":40.21380208333183},{\"line\":{\"color\":\"red\",\"dash\":\"solid\",\"width\":1},\"type\":\"line\",\"x0\":164.59999999999897,\"x1\":164.59999999999897,\"y0\":73.58619791666617,\"y1\":255.6138020833318},{\"line\":{\"color\":\"red\",\"dash\":\"solid\",\"width\":1},\"type\":\"line\",\"x0\":136.800000000001,\"x1\":136.800000000001,\"y0\":73.58619791666617,\"y1\":200.01380208333586},{\"line\":{\"color\":\"red\",\"dash\":\"solid\",\"width\":1},\"type\":\"line\",\"x0\":58.599999999999,\"x1\":58.599999999999,\"y0\":73.58619791666617,\"y1\":43.613802083331834},{\"line\":{\"color\":\"red\",\"dash\":\"solid\",\"width\":1},\"type\":\"line\",\"x0\":125.399999999999,\"x1\":125.399999999999,\"y0\":73.58619791666617,\"y1\":177.2138020833318},{\"line\":{\"color\":\"red\",\"dash\":\"solid\",\"width\":1},\"type\":\"line\",\"x0\":73.099999999999,\"x1\":73.099999999999,\"y0\":73.58619791666617,\"y1\":72.61380208333183},{\"line\":{\"color\":\"red\",\"dash\":\"solid\",\"width\":1},\"type\":\"line\",\"x0\":149.999999999999,\"x1\":149.999999999999,\"y0\":73.58619791666617,\"y1\":226.41380208333186},{\"line\":{\"color\":\"red\",\"dash\":\"solid\",\"width\":1},\"type\":\"line\",\"x0\":51.29999999999799,\"x1\":51.29999999999799,\"y0\":73.58619791666617,\"y1\":29.01380208332982},{\"line\":{\"color\":\"red\",\"dash\":\"solid\",\"width\":1},\"type\":\"line\",\"x0\":13.999999999998,\"x1\":13.999999999998,\"y0\":73.58619791666617,\"y1\":-45.58619791667017},{\"line\":{\"color\":\"red\",\"dash\":\"solid\",\"width\":1},\"type\":\"line\",\"x0\":44.399999999999,\"x1\":44.399999999999,\"y0\":73.58619791666617,\"y1\":15.213802083331828},{\"line\":{\"color\":\"red\",\"dash\":\"solid\",\"width\":1},\"type\":\"line\",\"x0\":60.999999999999,\"x1\":60.999999999999,\"y0\":73.58619791666617,\"y1\":48.41380208333183},{\"line\":{\"color\":\"red\",\"dash\":\"solid\",\"width\":1},\"type\":\"line\",\"x0\":142.1,\"x1\":142.1,\"y0\":73.58619791666617,\"y1\":210.61380208333384},{\"line\":{\"color\":\"red\",\"dash\":\"solid\",\"width\":1},\"type\":\"line\",\"x0\":58.199999999999,\"x1\":58.199999999999,\"y0\":73.58619791666617,\"y1\":42.81380208333184},{\"line\":{\"color\":\"red\",\"dash\":\"solid\",\"width\":1},\"type\":\"line\",\"x0\":174.0,\"x1\":174.0,\"y0\":73.58619791666617,\"y1\":274.41380208333385},{\"line\":{\"color\":\"red\",\"dash\":\"solid\",\"width\":1},\"type\":\"line\",\"x0\":82.8,\"x1\":82.8,\"y0\":73.58619791666617,\"y1\":92.01380208333383},{\"line\":{\"color\":\"red\",\"dash\":\"solid\",\"width\":1},\"type\":\"line\",\"x0\":25.600000000001,\"x1\":25.600000000001,\"y0\":73.58619791666617,\"y1\":-22.386197916664162},{\"line\":{\"color\":\"red\",\"dash\":\"solid\",\"width\":1},\"type\":\"line\",\"x0\":181.099999999998,\"x1\":181.099999999998,\"y0\":73.58619791666617,\"y1\":288.61380208332986},{\"line\":{\"color\":\"red\",\"dash\":\"solid\",\"width\":1},\"type\":\"line\",\"x0\":109.699999999999,\"x1\":109.699999999999,\"y0\":73.58619791666617,\"y1\":145.81380208333184},{\"line\":{\"color\":\"red\",\"dash\":\"solid\",\"width\":1},\"type\":\"line\",\"x0\":21.600000000001003,\"x1\":21.600000000001003,\"y0\":73.58619791666617,\"y1\":-30.38619791666416},{\"line\":{\"color\":\"red\",\"dash\":\"solid\",\"width\":1},\"type\":\"line\",\"x0\":29.399999999999,\"x1\":29.399999999999,\"y0\":73.58619791666617,\"y1\":-14.786197916668169},{\"line\":{\"color\":\"red\",\"dash\":\"solid\",\"width\":1},\"type\":\"line\",\"x0\":116.799999999999,\"x1\":116.799999999999,\"y0\":73.58619791666617,\"y1\":160.01380208333183},{\"line\":{\"color\":\"red\",\"dash\":\"solid\",\"width\":1},\"type\":\"line\",\"x0\":347.8,\"x1\":347.8,\"y0\":73.58619791666617,\"y1\":622.0138020833339},{\"line\":{\"color\":\"red\",\"dash\":\"solid\",\"width\":1},\"type\":\"line\",\"x0\":65.8,\"x1\":65.8,\"y0\":73.58619791666617,\"y1\":58.01380208333383},{\"line\":{\"color\":\"red\",\"dash\":\"solid\",\"width\":1},\"type\":\"line\",\"x0\":96.199999999999,\"x1\":96.199999999999,\"y0\":73.58619791666617,\"y1\":118.81380208333182},{\"line\":{\"color\":\"red\",\"dash\":\"solid\",\"width\":1},\"type\":\"line\",\"x0\":130.79999999999902,\"x1\":130.79999999999902,\"y0\":73.58619791666617,\"y1\":188.01380208333188},{\"line\":{\"color\":\"red\",\"dash\":\"solid\",\"width\":1},\"type\":\"line\",\"x0\":38.7,\"x1\":38.7,\"y0\":73.58619791666617,\"y1\":3.81380208333384},{\"line\":{\"color\":\"red\",\"dash\":\"solid\",\"width\":1},\"type\":\"line\",\"x0\":93.199999999999,\"x1\":93.199999999999,\"y0\":73.58619791666617,\"y1\":112.81380208333182},{\"line\":{\"color\":\"red\",\"dash\":\"solid\",\"width\":1},\"type\":\"line\",\"x0\":101.599999999999,\"x1\":101.599999999999,\"y0\":73.58619791666617,\"y1\":129.61380208333185},{\"line\":{\"color\":\"red\",\"dash\":\"solid\",\"width\":1},\"type\":\"line\",\"x0\":144.8,\"x1\":144.8,\"y0\":73.58619791666617,\"y1\":216.01380208333387},{\"line\":{\"color\":\"red\",\"dash\":\"solid\",\"width\":1},\"type\":\"line\",\"x0\":111.49999999999899,\"x1\":111.49999999999899,\"y0\":73.58619791666617,\"y1\":149.4138020833318},{\"line\":{\"color\":\"red\",\"dash\":\"solid\",\"width\":1},\"type\":\"line\",\"x0\":93.29999999999801,\"x1\":93.29999999999801,\"y0\":73.58619791666617,\"y1\":113.01380208332985},{\"line\":{\"color\":\"red\",\"dash\":\"solid\",\"width\":1},\"type\":\"line\",\"x0\":86.199999999998,\"x1\":86.199999999998,\"y0\":73.58619791666617,\"y1\":98.81380208332983},{\"line\":{\"color\":\"red\",\"dash\":\"solid\",\"width\":1},\"type\":\"line\",\"x0\":108.599999999998,\"x1\":108.599999999998,\"y0\":73.58619791666617,\"y1\":143.61380208332986},{\"line\":{\"color\":\"red\",\"dash\":\"solid\",\"width\":1},\"type\":\"line\",\"x0\":26.699999999998997,\"x1\":26.699999999998997,\"y0\":73.58619791666617,\"y1\":-20.186197916668174},{\"line\":{\"color\":\"red\",\"dash\":\"solid\",\"width\":1},\"type\":\"line\",\"x0\":46.399999999999004,\"x1\":46.399999999999004,\"y0\":73.58619791666617,\"y1\":19.213802083331842},{\"line\":{\"color\":\"red\",\"dash\":\"solid\",\"width\":1},\"type\":\"line\",\"x0\":7.2,\"x1\":7.2,\"y0\":73.58619791666617,\"y1\":-59.18619791666616},{\"line\":{\"color\":\"red\",\"dash\":\"solid\",\"width\":1},\"type\":\"line\",\"x0\":34.499999999999005,\"x1\":34.499999999999005,\"y0\":73.58619791666617,\"y1\":-4.586197916668155},{\"line\":{\"color\":\"red\",\"dash\":\"solid\",\"width\":1},\"type\":\"line\",\"x0\":86.30000000000099,\"x1\":86.30000000000099,\"y0\":73.58619791666617,\"y1\":99.01380208333582},{\"line\":{\"color\":\"red\",\"dash\":\"solid\",\"width\":1},\"type\":\"line\",\"x0\":38.199999999999,\"x1\":38.199999999999,\"y0\":73.58619791666617,\"y1\":2.8138020833318365},{\"line\":{\"color\":\"red\",\"dash\":\"solid\",\"width\":1},\"type\":\"line\",\"x0\":118.599999999999,\"x1\":118.599999999999,\"y0\":73.58619791666617,\"y1\":163.61380208333185},{\"line\":{\"color\":\"red\",\"dash\":\"solid\",\"width\":1},\"type\":\"line\",\"x0\":13.799999999998999,\"x1\":13.799999999998999,\"y0\":73.58619791666617,\"y1\":-45.98619791666816},{\"line\":{\"color\":\"red\",\"dash\":\"solid\",\"width\":1},\"type\":\"line\",\"x0\":43.699999999999,\"x1\":43.699999999999,\"y0\":73.58619791666617,\"y1\":13.813802083331836},{\"line\":{\"color\":\"red\",\"dash\":\"solid\",\"width\":1},\"type\":\"line\",\"x0\":103.899999999999,\"x1\":103.899999999999,\"y0\":73.58619791666617,\"y1\":134.2138020833318},{\"line\":{\"color\":\"red\",\"dash\":\"solid\",\"width\":1},\"type\":\"line\",\"x0\":51.499999999999005,\"x1\":51.499999999999005,\"y0\":73.58619791666617,\"y1\":29.413802083331845},{\"line\":{\"color\":\"red\",\"dash\":\"solid\",\"width\":1},\"type\":\"line\",\"x0\":61.7,\"x1\":61.7,\"y0\":73.58619791666617,\"y1\":49.81380208333384},{\"line\":{\"color\":\"red\",\"dash\":\"solid\",\"width\":1},\"type\":\"line\",\"x0\":28.699999999999,\"x1\":28.699999999999,\"y0\":73.58619791666617,\"y1\":-16.186197916668164},{\"line\":{\"color\":\"red\",\"dash\":\"solid\",\"width\":1},\"type\":\"line\",\"x0\":37.500000000001,\"x1\":37.500000000001,\"y0\":73.58619791666617,\"y1\":1.4138020833358382},{\"line\":{\"color\":\"red\",\"dash\":\"solid\",\"width\":1},\"type\":\"line\",\"x0\":130.20000000000002,\"x1\":130.20000000000002,\"y0\":73.58619791666617,\"y1\":186.81380208333388},{\"line\":{\"color\":\"red\",\"dash\":\"solid\",\"width\":1},\"type\":\"line\",\"x0\":21.600000000001003,\"x1\":21.600000000001003,\"y0\":73.58619791666617,\"y1\":-30.38619791666416},{\"line\":{\"color\":\"red\",\"dash\":\"solid\",\"width\":1},\"type\":\"line\",\"x0\":32.400000000001,\"x1\":32.400000000001,\"y0\":73.58619791666617,\"y1\":-8.786197916664165},{\"line\":{\"color\":\"red\",\"dash\":\"solid\",\"width\":1},\"type\":\"line\",\"x0\":131.9,\"x1\":131.9,\"y0\":73.58619791666617,\"y1\":190.21380208333386},{\"line\":{\"color\":\"red\",\"dash\":\"solid\",\"width\":1},\"type\":\"line\",\"x0\":563.999999999997,\"x1\":563.999999999997,\"y0\":73.58619791666617,\"y1\":1054.413802083328},{\"line\":{\"color\":\"red\",\"dash\":\"solid\",\"width\":1},\"type\":\"line\",\"x0\":54.899999999999004,\"x1\":54.899999999999004,\"y0\":73.58619791666617,\"y1\":36.21380208333184},{\"line\":{\"color\":\"red\",\"dash\":\"solid\",\"width\":1},\"type\":\"line\",\"x0\":136.79999999999902,\"x1\":136.79999999999902,\"y0\":73.58619791666617,\"y1\":200.01380208333188},{\"line\":{\"color\":\"red\",\"dash\":\"solid\",\"width\":1},\"type\":\"line\",\"x0\":92.29999999999801,\"x1\":92.29999999999801,\"y0\":73.58619791666617,\"y1\":111.01380208332985},{\"line\":{\"color\":\"red\",\"dash\":\"solid\",\"width\":1},\"type\":\"line\",\"x0\":127.39999999999901,\"x1\":127.39999999999901,\"y0\":73.58619791666617,\"y1\":181.21380208333187},{\"line\":{\"color\":\"red\",\"dash\":\"solid\",\"width\":1},\"type\":\"line\",\"x0\":112.99999999999999,\"x1\":112.99999999999999,\"y0\":73.58619791666617,\"y1\":152.4138020833338},{\"line\":{\"color\":\"red\",\"dash\":\"solid\",\"width\":1},\"type\":\"line\",\"x0\":12.499999999999,\"x1\":12.499999999999,\"y0\":73.58619791666617,\"y1\":-48.58619791666817},{\"line\":{\"color\":\"red\",\"dash\":\"solid\",\"width\":1},\"type\":\"line\",\"x0\":-0.700000000000145,\"x1\":-0.700000000000145,\"y0\":73.58619791666617,\"y1\":-74.98619791666646},{\"line\":{\"color\":\"red\",\"dash\":\"solid\",\"width\":1},\"type\":\"line\",\"x0\":2.999999999999,\"x1\":2.999999999999,\"y0\":73.58619791666617,\"y1\":-67.58619791666816},{\"line\":{\"color\":\"red\",\"dash\":\"solid\",\"width\":1},\"type\":\"line\",\"x0\":3.6000000000009997,\"x1\":3.6000000000009997,\"y0\":73.58619791666617,\"y1\":-66.38619791666416},{\"line\":{\"color\":\"red\",\"dash\":\"solid\",\"width\":1},\"type\":\"line\",\"x0\":3.899999999998,\"x1\":3.899999999998,\"y0\":73.58619791666617,\"y1\":-65.78619791667016},{\"line\":{\"color\":\"red\",\"dash\":\"solid\",\"width\":1},\"type\":\"line\",\"x0\":29.799999999999,\"x1\":29.799999999999,\"y0\":73.58619791666617,\"y1\":-13.986197916668164},{\"line\":{\"color\":\"red\",\"dash\":\"solid\",\"width\":1},\"type\":\"line\",\"x0\":35.199999999999,\"x1\":35.199999999999,\"y0\":73.58619791666617,\"y1\":-3.1861979166681635},{\"line\":{\"color\":\"red\",\"dash\":\"solid\",\"width\":1},\"type\":\"line\",\"x0\":46.399999999999004,\"x1\":46.399999999999004,\"y0\":73.58619791666617,\"y1\":19.213802083331842},{\"line\":{\"color\":\"red\",\"dash\":\"solid\",\"width\":1},\"type\":\"line\",\"x0\":115.0,\"x1\":115.0,\"y0\":73.58619791666617,\"y1\":156.41380208333385},{\"line\":{\"color\":\"red\",\"dash\":\"solid\",\"width\":1},\"type\":\"line\",\"x0\":22.799999999998,\"x1\":22.799999999998,\"y0\":73.58619791666617,\"y1\":-27.986197916670164},{\"line\":{\"color\":\"red\",\"dash\":\"solid\",\"width\":1},\"type\":\"line\",\"x0\":20.199999999998997,\"x1\":20.199999999998997,\"y0\":73.58619791666617,\"y1\":-33.18619791666818},{\"line\":{\"color\":\"red\",\"dash\":\"solid\",\"width\":1},\"type\":\"line\",\"x0\":72.2,\"x1\":72.2,\"y0\":73.58619791666617,\"y1\":70.81380208333384}],\"yaxis2\":{\"title\":{\"text\":\"Error\"},\"overlaying\":\"y\",\"side\":\"right\",\"showgrid\":false,\"showticklabels\":true},\"updatemenus\":[{\"buttons\":[{\"args\":[{\"visible\":[true,true,true,true,true,true,true,true,true,true,true,true,true,true,true,true,true,true,true,true,true,true,true,true,true,true,true,true,true,true,true,true,true,true,true,true,true,true,true,true,true,true,true,true,true,true,true,true,true,true,true,true,true,true,true,true,true,true,true,true,true,true,true,true,true,true,true,true,true,true,true,true,true,true,true,true,true,true,true,true,true,true,true,true,true,true,true,true,true,true,true,true,true,true,true,true,true,true,true,true,false,false,false,false]},{\"title\":\"Baseline Model Prediction vs Actuals with Error Visualization - All Order Types\",\"yaxis2.title\":\"Error\",\"yaxis2.overlaying\":\"y\",\"yaxis2.side\":\"right\"}],\"label\":\"All\",\"method\":\"update\"},{\"args\":[{\"visible\":[true,false,false,false,true,false,false,true,false,false,true,true,false,true,false,false,false,true,false,true,false,true,false,false,true,true,true,false,true,false,false,false,true,false,false,true,false,false,false,false,true,true,false,true,false,true,true,false,false,false,true,true,true,false,true,true,true,true,false,false,false,true,true,false,true,false,false,false,false,true,false,true,true,true,true,true,true,false,false,true,false,false,true,false,true,true,false,true,false,true,false,true,false,false,true,true,true,true,true,true,false,false,false,true,false,false,true,false,false,true,true,false,true,false,false,false,true,false,true,false,true,false,false,true,true,true,false,true,false,false,false,true,false,false,true,false,false,false,false,true,true,false,true,false,true,true,false,false,false,true,true,true,false,true,true,true,true,false,false,false,true,true,false,true,false,false,false,false,true,false,true,true,true,true,true,true,false,false,true,false,false,true,false,true,true,false,true,false,true,false,true,false,false,true,true,true,true,true,false]},{\"title\":\"Baseline Model Prediction vs Actuals with Error Visualization - Order Type: BUY\",\"yaxis2.title\":\"Error\",\"yaxis2.overlaying\":\"y\",\"yaxis2.side\":\"right\"}],\"label\":\"BUY\",\"method\":\"update\"},{\"args\":[{\"visible\":[false,true,true,true,false,true,true,false,true,true,false,false,true,false,true,true,true,false,true,false,true,false,true,true,false,false,false,true,false,true,true,true,false,true,true,false,true,true,true,true,false,false,true,false,true,false,false,true,true,true,false,false,false,true,false,false,false,false,true,true,true,false,false,true,false,true,true,true,true,false,true,false,false,false,false,false,false,true,true,false,true,true,false,true,false,false,true,false,true,false,true,false,true,true,false,false,false,false,false,false,true,true,true,false,true,true,false,true,true,false,false,true,false,true,true,true,false,true,false,true,false,true,true,false,false,false,true,false,true,true,true,false,true,true,false,true,true,true,true,false,false,true,false,true,false,false,true,true,true,false,false,false,true,false,false,false,false,true,true,true,false,false,true,false,true,true,true,true,false,true,false,false,false,false,false,false,true,true,false,true,true,false,true,false,false,true,false,true,false,true,false,true,true,false,false,false,false,false,false]},{\"title\":\"Baseline Model Prediction vs Actuals with Error Visualization - Order Type: SELL\",\"yaxis2.title\":\"Error\",\"yaxis2.overlaying\":\"y\",\"yaxis2.side\":\"right\"}],\"label\":\"SELL\",\"method\":\"update\"}],\"direction\":\"down\",\"pad\":{\"r\":10,\"t\":10},\"showactive\":true,\"x\":0.11,\"xanchor\":\"left\",\"y\":1.15,\"yanchor\":\"top\"}]},                        {\"responsive\": true}                    ).then(function(){\n",
       "                            \n",
       "var gd = document.getElementById('60aae162-d6c7-4b24-a3bf-0828a497edb5');\n",
       "var x = new MutationObserver(function (mutations, observer) {{\n",
       "        var display = window.getComputedStyle(gd).display;\n",
       "        if (!display || display === 'none') {{\n",
       "            console.log([gd, 'removed!']);\n",
       "            Plotly.purge(gd);\n",
       "            observer.disconnect();\n",
       "        }}\n",
       "}});\n",
       "\n",
       "// Listen for the removal of the full notebook cells\n",
       "var notebookContainer = gd.closest('#notebook-container');\n",
       "if (notebookContainer) {{\n",
       "    x.observe(notebookContainer, {childList: true});\n",
       "}}\n",
       "\n",
       "// Listen for the clearing of the current output cell\n",
       "var outputEl = gd.closest('.output');\n",
       "if (outputEl) {{\n",
       "    x.observe(outputEl, {childList: true});\n",
       "}}\n",
       "\n",
       "                        })                };                });            </script>        </div>"
      ]
     },
     "metadata": {},
     "output_type": "display_data"
    }
   ],
   "source": [
    "import plotly.express as px\n",
    "import plotly.graph_objects as go\n",
    "import numpy as np\n",
    "import pandas as pd\n",
    "\n",
    "# Assuming actual2, predicted2, errors2, and order_type are predefined lists or arrays\n",
    "actual2 = actual2\n",
    "predicted2 = predicted2\n",
    "errors2 = errors2  # Make sure you have defined errors2 somewhere in your code\n",
    "order_type = order_type\n",
    "\n",
    "df = pd.DataFrame({'Actual': actual2, 'Predicted': predicted2, 'Error': errors2, 'OrderType': order_type})\n",
    "\n",
    "# Define your base title here\n",
    "base_title = 'Baseline Model Prediction vs Actuals with Error Visualization'\n",
    "\n",
    "# Initial scatter plot with the base title\n",
    "fig = px.scatter(df, x='Actual', y='Predicted', color='OrderType', opacity=0.5,\n",
    "                 labels={'Actual': 'Actual Values', 'Predicted': 'Predicted Values'},\n",
    "                 title=base_title)\n",
    "\n",
    "# Adding error lines using iterrows\n",
    "for index, row in df.iterrows():\n",
    "    fig.add_shape(\n",
    "        go.layout.Shape(\n",
    "            type=\"line\",\n",
    "            x0=row['Actual'],\n",
    "            y0=row['Predicted'],\n",
    "            x1=row['Actual'],\n",
    "            y1=row['Actual'] + row['Error'],\n",
    "            line=dict(color='red', width=1, dash='solid'),\n",
    "        )\n",
    "    )\n",
    "\n",
    "# Add error trend on secondary y-axis\n",
    "fig.add_trace(\n",
    "    go.Scatter(\n",
    "        x=df['Actual'],\n",
    "        y=df['Error'],\n",
    "        mode='lines',\n",
    "        line=dict(dash='dot', color='red', width=.0001),\n",
    "        marker=dict(color='red', size=1, opacity=0.1),\n",
    "        yaxis='y2',\n",
    "        name='Errors Trend',\n",
    "        visible=False  # Ensure the trendline is initially hidden\n",
    "    )\n",
    ")\n",
    "\n",
    "# Dropdown menus\n",
    "order_types = df['OrderType'].unique()\n",
    "dropdown_buttons = [\n",
    "    dict(label='All',\n",
    "         method='update',\n",
    "         args=[{'visible': [True] * (len(df) + 1) + [False] * len(order_types) * 2},\n",
    "               {'title': f'{base_title} - All Order Types', 'yaxis2.title': 'Error', 'yaxis2.overlaying': 'y', 'yaxis2.side': 'right'}])\n",
    "]\n",
    "\n",
    "for ot in order_types:\n",
    "    errors_trend_visibility = (ot == \"Sell\")\n",
    "\n",
    "    visible = ([row['OrderType'] == ot for _, row in df.iterrows()] * 2) + [errors_trend_visibility]\n",
    "    dropdown_buttons.append(\n",
    "        dict(label=ot,\n",
    "             method='update',\n",
    "             args=[{'visible': visible},\n",
    "                   {'title': f'{base_title} - Order Type: {ot}',\n",
    "                    'yaxis2.title': 'Error',\n",
    "                    'yaxis2.overlaying': 'y',\n",
    "                    'yaxis2.side': 'right'}])\n",
    "    )\n",
    "\n",
    "# Update layout with dropdown and ensure the secondary Y-axis is correctly configured\n",
    "fig.update_layout(\n",
    "    updatemenus=[\n",
    "        dict(\n",
    "            buttons=dropdown_buttons,\n",
    "            direction=\"down\",\n",
    "            pad={\"r\": 10, \"t\": 10},\n",
    "            showactive=True,\n",
    "            x=0.11,\n",
    "            xanchor=\"left\",\n",
    "            y=1.15,\n",
    "            yanchor=\"top\"\n",
    "        ),\n",
    "    ],\n",
    "    yaxis2=dict(\n",
    "        title='Error',\n",
    "        overlaying='y',\n",
    "        side='right',\n",
    "        showgrid=False,\n",
    "        showticklabels=True,\n",
    "    )\n",
    ")\n",
    "\n",
    "fig.show()\n"
   ]
  },
  {
   "cell_type": "markdown",
   "id": "db2eb3ca",
   "metadata": {},
   "source": [
    "# Follow Everything From Tutorial"
   ]
  },
  {
   "cell_type": "code",
   "execution_count": null,
   "id": "2ef61d37",
   "metadata": {
    "ExecuteTime": {
     "end_time": "2024-03-03T21:38:24.309445Z",
     "start_time": "2024-03-03T21:38:24.309390Z"
    }
   },
   "outputs": [],
   "source": [
    "df_model = df_model.sample(frac=1, random_state=42)\n",
    "train_df = df_model[:386]\n",
    "train_df = train_df.reset_index(drop=True)\n",
    "\n",
    "test_df = df_model[386:]\n",
    "test_df = test_df.reset_index(drop=True)"
   ]
  },
  {
   "cell_type": "code",
   "execution_count": null,
   "id": "f542993a",
   "metadata": {
    "ExecuteTime": {
     "end_time": "2024-03-03T21:38:24.312496Z",
     "start_time": "2024-03-03T21:38:24.312412Z"
    }
   },
   "outputs": [],
   "source": [
    "y_train = train_df['remainder__2D High in Pips'].to_numpy()\n",
    "y_test = test_df['remainder__2D High in Pips'].to_numpy()\n",
    "\n",
    "y_train.shape, y_test.shape"
   ]
  },
  {
   "cell_type": "code",
   "execution_count": null,
   "id": "1f9d702a",
   "metadata": {
    "ExecuteTime": {
     "end_time": "2024-03-03T21:38:24.334999Z",
     "start_time": "2024-03-03T21:38:24.334976Z"
    }
   },
   "outputs": [],
   "source": [
    "\n",
    "from sklearn.metrics import mean_absolute_error\n",
    "\n",
    "average_median_house_value = train_df['remainder__2D High in Pips'].mean()\n",
    "baseline_model_test_predictions = [average_median_house_value] * len(test_df)\n",
    "\n",
    "mean_absolute_error(baseline_model_test_predictions, y_test)"
   ]
  },
  {
   "cell_type": "code",
   "execution_count": null,
   "id": "f9ad2fa7",
   "metadata": {
    "ExecuteTime": {
     "end_time": "2024-03-03T21:38:24.340252Z",
     "start_time": "2024-03-03T21:38:24.340228Z"
    }
   },
   "outputs": [],
   "source": [
    "\n",
    "import matplotlib.pyplot as plt\n",
    "import numpy as np\n",
    "\n",
    "# Sample data - replace with your actual and predicted values\n",
    "actual = np.array(y_test)  # Assuming y_test is your actual values\n",
    "predicted = np.array(baseline_model_test_predictions)  # Your predicted values\n",
    "errors = actual - predicted  # Calculate the errors\n",
    "\n",
    "# Create the primary plot with scatter points\n",
    "fig, ax1 = plt.subplots()\n",
    "\n",
    "# Scatter plot for actual vs. predicted values\n",
    "ax1.scatter(actual, predicted, alpha=0.5, color='blue', label='Predicted vs. Actual')\n",
    "ax1.set_xlabel('Actual Values')\n",
    "ax1.set_ylabel('Predicted Values', color='blue')\n",
    "ax1.tick_params(axis='y', labelcolor='blue')\n",
    "\n",
    "# Create the secondary y-axis for errors\n",
    "ax2 = ax1.twinx()  \n",
    "ax2.set_ylabel('Error', color='red')  \n",
    "ax2.tick_params(axis='y', labelcolor='red')\n",
    "\n",
    "# Adding vertical lines for each point to represent the error\n",
    "for i in range(len(actual)):\n",
    "    plt.vlines(actual[i], predicted[i], actual[i], color='red', alpha=0.7, linewidth=0.5)\n",
    "\n",
    "# Optional: Add legend\n",
    "ax1.legend()\n",
    "\n",
    "plt.title('Base Model Predictions vs Actuals with Error Visualization')\n",
    "plt.show()\n"
   ]
  },
  {
   "cell_type": "markdown",
   "id": "9add8167",
   "metadata": {
    "heading_collapsed": true
   },
   "source": [
    "### PCA"
   ]
  },
  {
   "cell_type": "code",
   "execution_count": null,
   "id": "89fff83c",
   "metadata": {
    "ExecuteTime": {
     "end_time": "2024-03-03T21:38:24.358662Z",
     "start_time": "2024-03-03T21:38:24.358615Z"
    },
    "hidden": true
   },
   "outputs": [],
   "source": [
    "train_df[['onehotencoder__Trend Status_Bullish',\n",
    " 'onehotencoder__5075 Trend Status_Bullish',\n",
    " 'onehotencoder__75100 Trend Status_Bullish',\n",
    " 'onehotencoder__100125 Trend Status_Bullish',\n",
    " 'onehotencoder__Opportunity_Unfavorable',\n",
    " 'onehotencoder__Order Type_SELL',\n",
    " 'onehotencoder__k_group_Oversold',\n",
    " 'onehotencoder__k_group_Undersold',\n",
    " 'onehotencoder__k_group_slightly_oversold',\n",
    " 'remainder__open',\n",
    " 'remainder__high',\n",
    " 'remainder__low',\n",
    " 'remainder__close',\n",
    " 'remainder__volume',\n",
    " 'remainder__Trade_Week_Year',\n",
    " 'remainder__Trade_Week_Month',\n",
    " 'remainder__Trade_Day_Week',\n",
    " 'remainder__Day',\n",
    " 'remainder__Month',\n",
    " 'remainder__25EMA',\n",
    " 'remainder__50EMA',\n",
    " 'remainder__75EMA',\n",
    " 'remainder__100EMA',\n",
    " 'remainder__125EMA',\n",
    " 'remainder__Spread',\n",
    " 'remainder__%K',\n",
    " 'remainder__%D',\n",
    " 'remainder__ADX',\n",
    " 'remainder__ADXR',\n",
    " 'remainder__slowk',\n",
    " 'remainder__slowd',\n",
    "'remainder__candle_bullish_score',\n",
    " 'remainder__candle_bearish_score',\n",
    "'remainder__Previous_Trade_Status']].corr()"
   ]
  },
  {
   "cell_type": "code",
   "execution_count": null,
   "id": "b30ef5f7",
   "metadata": {
    "ExecuteTime": {
     "end_time": "2024-03-03T21:38:24.363375Z",
     "start_time": "2024-03-03T21:38:24.363350Z"
    },
    "hidden": true
   },
   "outputs": [],
   "source": [
    "X_train_34 = train_df[['onehotencoder__Trend Status_Bullish',\n",
    " 'onehotencoder__5075 Trend Status_Bullish',\n",
    " 'onehotencoder__75100 Trend Status_Bullish',\n",
    " 'onehotencoder__100125 Trend Status_Bullish',\n",
    " 'onehotencoder__Opportunity_Unfavorable',\n",
    " 'onehotencoder__Order Type_SELL',\n",
    " 'onehotencoder__k_group_Oversold',\n",
    " 'onehotencoder__k_group_Undersold',\n",
    " 'onehotencoder__k_group_slightly_oversold',\n",
    " 'remainder__open',\n",
    " 'remainder__high',\n",
    " 'remainder__low',\n",
    " 'remainder__close',\n",
    " 'remainder__volume',\n",
    " 'remainder__Trade_Week_Year',\n",
    " 'remainder__Trade_Week_Month',\n",
    " 'remainder__Trade_Day_Week',\n",
    " 'remainder__Day',\n",
    " 'remainder__Month',\n",
    " 'remainder__25EMA',\n",
    " 'remainder__50EMA',\n",
    " 'remainder__75EMA',\n",
    " 'remainder__100EMA',\n",
    " 'remainder__125EMA',\n",
    " 'remainder__Spread',\n",
    " 'remainder__%K',\n",
    " 'remainder__%D',\n",
    " 'remainder__ADX',\n",
    " 'remainder__ADXR',\n",
    " 'remainder__slowk',\n",
    " 'remainder__slowd',\n",
    "'remainder__candle_bullish_score',\n",
    " 'remainder__candle_bearish_score',\n",
    " 'remainder__Previous_Trade_Status']].to_numpy()\n",
    "\n",
    "X_train_34.shape"
   ]
  },
  {
   "cell_type": "code",
   "execution_count": null,
   "id": "0e5bdf8d",
   "metadata": {
    "ExecuteTime": {
     "end_time": "2024-03-03T21:38:24.396561Z",
     "start_time": "2024-03-03T21:38:24.389948Z"
    },
    "hidden": true
   },
   "outputs": [],
   "source": [
    "X_test_34 = test_df[['onehotencoder__Trend Status_Bullish',\n",
    " 'onehotencoder__5075 Trend Status_Bullish',\n",
    " 'onehotencoder__75100 Trend Status_Bullish',\n",
    " 'onehotencoder__100125 Trend Status_Bullish',\n",
    " 'onehotencoder__Opportunity_Unfavorable',\n",
    " 'onehotencoder__Order Type_SELL',\n",
    " 'onehotencoder__k_group_Oversold',\n",
    " 'onehotencoder__k_group_Undersold',\n",
    " 'onehotencoder__k_group_slightly_oversold',\n",
    " 'remainder__open',\n",
    " 'remainder__high',\n",
    " 'remainder__low',\n",
    " 'remainder__close',\n",
    " 'remainder__volume',\n",
    " 'remainder__Trade_Week_Year',\n",
    " 'remainder__Trade_Week_Month',\n",
    " 'remainder__Trade_Day_Week',\n",
    " 'remainder__Day',\n",
    " 'remainder__Month',\n",
    " 'remainder__25EMA',\n",
    " 'remainder__50EMA',\n",
    " 'remainder__75EMA',\n",
    " 'remainder__100EMA',\n",
    " 'remainder__125EMA',\n",
    " 'remainder__Spread',\n",
    " 'remainder__%K',\n",
    " 'remainder__%D',\n",
    " 'remainder__ADX',\n",
    " 'remainder__ADXR',\n",
    " 'remainder__slowk',\n",
    " 'remainder__slowd',\n",
    "'remainder__candle_bullish_score',\n",
    " 'remainder__candle_bearish_score',\n",
    "'remainder__Previous_Trade_Status']].to_numpy()\n",
    "\n",
    "X_test_34.shape"
   ]
  },
  {
   "cell_type": "code",
   "execution_count": null,
   "id": "ddc075ba",
   "metadata": {
    "ExecuteTime": {
     "end_time": "2024-03-03T21:38:24.398207Z",
     "start_time": "2024-03-03T21:38:24.398184Z"
    },
    "hidden": true
   },
   "outputs": [],
   "source": [
    "\n",
    "forest_base = RandomForestRegressor(n_estimators=100, max_depth=5).fit(X_train_34, y_train)\n",
    "forest_base_test_predictions = forest_base.predict(X_test_34)\n",
    "mean_absolute_error(y_test, forest_base_test_predictions)"
   ]
  },
  {
   "cell_type": "code",
   "execution_count": null,
   "id": "0a49c877",
   "metadata": {
    "ExecuteTime": {
     "end_time": "2024-03-03T21:38:24.405108Z",
     "start_time": "2024-03-03T21:38:24.405086Z"
    },
    "hidden": true
   },
   "outputs": [],
   "source": [
    "# Plotting scatter plot\n",
    "plt.scatter(y_test, forest_base_test_predictions, alpha=0.5)\n",
    "plt.title('Scatter Plot of Predictions vs Actuals')\n",
    "plt.xlabel('Actual Values')\n",
    "plt.ylabel('Predicted Values')\n",
    "plt.show()"
   ]
  },
  {
   "cell_type": "code",
   "execution_count": null,
   "id": "7df453d1",
   "metadata": {
    "ExecuteTime": {
     "end_time": "2024-03-03T21:38:24.417999Z",
     "start_time": "2024-03-03T21:38:24.417961Z"
    },
    "hidden": true
   },
   "outputs": [],
   "source": [
    "# Sample data - replace with your actual and predicted values\n",
    "actual = np.array(y_test)  # Assuming y_test is your actual values\n",
    "predicted = np.array(forest_base_test_predictions)  # Your predicted values\n",
    "errors = actual - predicted  # Calculate the errors\n",
    "\n",
    "# Create the primary plot with scatter points\n",
    "fig, ax1 = plt.subplots()\n",
    "\n",
    "# Scatter plot for actual vs. predicted values\n",
    "ax1.scatter(actual, predicted, alpha=0.5, color='blue', label='Predicted vs. Actual')\n",
    "ax1.set_xlabel('Actual Values')\n",
    "ax1.set_ylabel('Predicted Values', color='blue')\n",
    "ax1.tick_params(axis='y', labelcolor='blue')\n",
    "\n",
    "# Create the secondary y-axis for errors\n",
    "ax2 = ax1.twinx()  \n",
    "ax2.set_ylabel('Error', color='red')  \n",
    "ax2.tick_params(axis='y', labelcolor='red')\n",
    "\n",
    "# Adding vertical lines for each point to represent the error\n",
    "for i in range(len(actual)):\n",
    "    plt.vlines(actual[i], predicted[i], actual[i], color='red', alpha=0.7, linewidth=0.5)\n",
    "\n",
    "# Optional: Add legend\n",
    "ax1.legend()\n",
    "\n",
    "plt.title('Random Forest Model Predictions vs Actuals with Error Visualization')\n",
    "plt.show()"
   ]
  },
  {
   "cell_type": "code",
   "execution_count": null,
   "id": "e350c78e",
   "metadata": {
    "ExecuteTime": {
     "end_time": "2024-03-03T21:38:24.472954Z",
     "start_time": "2024-03-03T21:38:24.472931Z"
    },
    "hidden": true
   },
   "outputs": [],
   "source": [
    "from sklearn.decomposition import PCA \n",
    "from sklearn.pipeline import Pipeline \n"
   ]
  },
  {
   "cell_type": "code",
   "execution_count": null,
   "id": "2eefacb8",
   "metadata": {
    "ExecuteTime": {
     "end_time": "2024-03-03T21:38:24.479149Z",
     "start_time": "2024-03-03T21:38:24.479102Z"
    },
    "hidden": true
   },
   "outputs": [],
   "source": [
    "pca = PCA(n_components=32)\n",
    "pca = pca.fit(X_train_34)\n",
    "\n",
    "pca"
   ]
  },
  {
   "cell_type": "code",
   "execution_count": null,
   "id": "1bf16c9a",
   "metadata": {
    "ExecuteTime": {
     "end_time": "2024-03-03T21:38:24.480679Z",
     "start_time": "2024-03-03T21:38:24.480659Z"
    },
    "hidden": true
   },
   "outputs": [],
   "source": [
    "X_train_pca = pca.transform(X_train_34)\n",
    "X_test_pca = pca.transform(X_test_34)\n",
    "\n",
    "X_train_pca.shape, X_test_pca.shape"
   ]
  },
  {
   "cell_type": "code",
   "execution_count": null,
   "id": "0513e775",
   "metadata": {
    "ExecuteTime": {
     "end_time": "2024-03-03T21:38:24.493195Z",
     "start_time": "2024-03-03T21:38:24.493169Z"
    },
    "hidden": true
   },
   "outputs": [],
   "source": [
    "# Get error of Random Forest training on (X_train_pca, y_train) and testing on (X_test_pca, y_test)\n",
    "\n",
    "forest_pca = RandomForestRegressor(n_estimators=100, max_depth=5).fit(X_train_pca, y_train)\n",
    "forest_pca_test_predictions = forest_pca.predict(X_test_pca)\n",
    "\n",
    "mean_absolute_error(y_test, forest_pca_test_predictions)"
   ]
  },
  {
   "cell_type": "code",
   "execution_count": null,
   "id": "0433cc04",
   "metadata": {
    "ExecuteTime": {
     "end_time": "2024-03-03T21:38:24.503953Z",
     "start_time": "2024-03-03T21:38:24.501379Z"
    },
    "hidden": true
   },
   "outputs": [],
   "source": [
    "from sklearn.preprocessing import StandardScaler, Normalizer, MinMaxScaler"
   ]
  },
  {
   "cell_type": "code",
   "execution_count": null,
   "id": "51a129c5",
   "metadata": {
    "ExecuteTime": {
     "end_time": "2024-03-03T21:38:24.505779Z",
     "start_time": "2024-03-03T21:38:24.505758Z"
    },
    "hidden": true
   },
   "outputs": [],
   "source": [
    "#Test Different Preprocessing Functions on Subset \n",
    "Scaler = Normalizer().fit(X_train_34)\n",
    "\n",
    "X_train_34_scaled = Scaler.transform(X_train_34)\n",
    "\n",
    "plt.hist(X_train_34_scaled[:,8])"
   ]
  },
  {
   "cell_type": "code",
   "execution_count": null,
   "id": "979f89ca",
   "metadata": {
    "ExecuteTime": {
     "end_time": "2024-03-03T21:38:24.507105Z",
     "start_time": "2024-03-03T21:38:24.507084Z"
    },
    "hidden": true
   },
   "outputs": [],
   "source": [
    "#Preprocess X_test \n",
    "X_test_34_scaled = Scaler.transform(X_test_34)\n",
    "\n",
    "X_test_34_scaled.shape\n"
   ]
  },
  {
   "cell_type": "code",
   "execution_count": null,
   "id": "3b6f4d7d",
   "metadata": {
    "ExecuteTime": {
     "end_time": "2024-03-03T21:38:24.509048Z",
     "start_time": "2024-03-03T21:38:24.508992Z"
    },
    "hidden": true
   },
   "outputs": [],
   "source": [
    "#Get error for RF Model training with scaled data and testing on scaled data \n",
    "\n",
    "RF_Model_Scaled = RandomForestRegressor(n_estimators=100, max_depth=5).fit(X_train_34_scaled, y_train)\n",
    "\n",
    "RF_Model_Scaled_Predictions =  RF_Model_Scaled.predict(X_test_34_scaled)\n",
    "\n",
    "mean_absolute_error(y_test, RF_Model_Scaled_Predictions)"
   ]
  },
  {
   "cell_type": "code",
   "execution_count": null,
   "id": "b3d0464c",
   "metadata": {
    "ExecuteTime": {
     "end_time": "2024-03-03T21:38:24.525496Z",
     "start_time": "2024-03-03T21:38:24.525423Z"
    },
    "hidden": true
   },
   "outputs": [],
   "source": [
    "#Create a Pipeline of Standardization, PCA, Random Forest \n",
    "\n",
    "\n",
    "Scaled_PCA_Pipeline_RF = Pipeline(\n",
    "                                steps=[('Scaler', Normalizer()),\n",
    "                                       ('PCA', PCA(n_components=32)),\n",
    "                                       ('RF', RandomForestRegressor(n_estimators=100, max_depth=5))])\n",
    "\n",
    "Scaled_PCA_Pipeline_RF"
   ]
  },
  {
   "cell_type": "code",
   "execution_count": null,
   "id": "d35ddfab",
   "metadata": {
    "ExecuteTime": {
     "end_time": "2024-03-03T21:38:24.583196Z",
     "start_time": "2024-03-03T21:38:24.583150Z"
    },
    "hidden": true
   },
   "outputs": [],
   "source": [
    "Scaled_PCA_Pipeline_RF.fit(X_train_34, y_train)\n",
    "\n",
    "Scaled_PCA_Pipeline_RF_Predictions = Scaled_PCA_Pipeline_RF.predict(X_test_34)\n",
    "\n",
    "mean_absolute_error(y_test, Scaled_PCA_Pipeline_RF_Predictions)"
   ]
  },
  {
   "cell_type": "code",
   "execution_count": null,
   "id": "89b9500a",
   "metadata": {
    "ExecuteTime": {
     "end_time": "2024-03-03T21:38:24.627996Z",
     "start_time": "2024-03-03T21:38:24.627959Z"
    },
    "hidden": true
   },
   "outputs": [],
   "source": [
    "#Create a Pipeline of Standardization, PCA, Random Forest \n",
    "\n",
    "from sklearn.pipeline import Pipeline \n",
    "\n",
    "Scaled_PCA_Pipeline_RF = Pipeline(\n",
    "                                steps=[('Encoder', )\n",
    "                                       ('Scaler', Normalizer()),\n",
    "                                       ('PCA', PCA(n_components=32)),\n",
    "                                       ('RF', RandomForestRegressor(n_estimators=100, max_depth=5))])\n",
    "\n",
    "Scaled_PCA_Pipeline_RF"
   ]
  },
  {
   "cell_type": "markdown",
   "id": "b8f9b81a",
   "metadata": {
    "heading_collapsed": true
   },
   "source": [
    "# Build a Model Based on the Encoded Features  "
   ]
  },
  {
   "cell_type": "code",
   "execution_count": null,
   "id": "e037964a",
   "metadata": {
    "ExecuteTime": {
     "end_time": "2024-03-03T21:38:24.629609Z",
     "start_time": "2024-03-03T21:38:24.629587Z"
    },
    "hidden": true
   },
   "outputs": [],
   "source": [
    "X_train_Dummies = train_df[['onehotencoder__Time_02:00:00', 'onehotencoder__Time_05:00:00',\n",
    "       'onehotencoder__Time_06:00:00', 'onehotencoder__Time_09:00:00',\n",
    "       'onehotencoder__Time_10:00:00', 'onehotencoder__Time_13:00:00',\n",
    "       'onehotencoder__Time_14:00:00', 'onehotencoder__Time_17:00:00',\n",
    "       'onehotencoder__Time_18:00:00', 'onehotencoder__Time_21:00:00',\n",
    "       'onehotencoder__Time_22:00:00', 'onehotencoder__Trend Status_Bullish',\n",
    "       'onehotencoder__5075 Trend Status_Bullish',\n",
    "       'onehotencoder__75100 Trend Status_Bullish',\n",
    "       'onehotencoder__100125 Trend Status_Bullish',\n",
    "       'onehotencoder__Opportunity_Unfavorable',\n",
    "       'onehotencoder__Order Type_SELL', 'onehotencoder__k_group_Oversold',\n",
    "       'onehotencoder__k_group_Undersold',\n",
    "       'onehotencoder__k_group_slightly_oversold']]\n",
    "\n",
    "X_test_Dummies = test_df[['onehotencoder__Time_02:00:00', 'onehotencoder__Time_05:00:00',\n",
    "       'onehotencoder__Time_06:00:00', 'onehotencoder__Time_09:00:00',\n",
    "       'onehotencoder__Time_10:00:00', 'onehotencoder__Time_13:00:00',\n",
    "       'onehotencoder__Time_14:00:00', 'onehotencoder__Time_17:00:00',\n",
    "       'onehotencoder__Time_18:00:00', 'onehotencoder__Time_21:00:00',\n",
    "       'onehotencoder__Time_22:00:00', 'onehotencoder__Trend Status_Bullish',\n",
    "       'onehotencoder__5075 Trend Status_Bullish',\n",
    "       'onehotencoder__75100 Trend Status_Bullish',\n",
    "       'onehotencoder__100125 Trend Status_Bullish',\n",
    "       'onehotencoder__Opportunity_Unfavorable',\n",
    "       'onehotencoder__Order Type_SELL', 'onehotencoder__k_group_Oversold',\n",
    "       'onehotencoder__k_group_Undersold',\n",
    "       'onehotencoder__k_group_slightly_oversold']]\n",
    "\n",
    "\n"
   ]
  },
  {
   "cell_type": "code",
   "execution_count": null,
   "id": "ce72c75f",
   "metadata": {
    "ExecuteTime": {
     "end_time": "2024-03-03T21:38:24.674747Z",
     "start_time": "2024-03-03T21:38:24.674709Z"
    },
    "hidden": true
   },
   "outputs": [],
   "source": [
    "X_train_Dummies.shape, X_test_Dummies.shape"
   ]
  },
  {
   "cell_type": "code",
   "execution_count": null,
   "id": "602a9e67",
   "metadata": {
    "ExecuteTime": {
     "end_time": "2024-03-03T21:38:24.676338Z",
     "start_time": "2024-03-03T21:38:24.676316Z"
    },
    "hidden": true
   },
   "outputs": [],
   "source": [
    "y_train.shape, y_test.shape"
   ]
  },
  {
   "cell_type": "code",
   "execution_count": null,
   "id": "71467876",
   "metadata": {
    "ExecuteTime": {
     "end_time": "2024-03-03T21:38:24.677566Z",
     "start_time": "2024-03-03T21:38:24.677545Z"
    },
    "hidden": true
   },
   "outputs": [],
   "source": [
    "from sklearn.linear_model import LinearRegression"
   ]
  },
  {
   "cell_type": "code",
   "execution_count": null,
   "id": "f5393ad9",
   "metadata": {
    "ExecuteTime": {
     "end_time": "2024-03-03T21:38:24.694846Z",
     "start_time": "2024-03-03T21:38:24.694803Z"
    },
    "hidden": true
   },
   "outputs": [],
   "source": [
    "#Create Linear Regresion Model\n",
    "Lin_Reg_Dummy_model = LinearRegression().fit(X_train_Dummies, y_train)\n",
    "Lin_Reg_Dummy_Prediction = Lin_Reg_Dummy_model.predict(X_test_Dummies)\n",
    "\n",
    "mean_absolute_error(y_test, Lin_Reg_Dummy_Prediction)"
   ]
  },
  {
   "cell_type": "markdown",
   "id": "4a16e3ba",
   "metadata": {
    "heading_collapsed": true,
    "hidden": true
   },
   "source": [
    "## Binning (Grouping Aggregating )"
   ]
  },
  {
   "cell_type": "code",
   "execution_count": null,
   "id": "dca0305f",
   "metadata": {
    "ExecuteTime": {
     "end_time": "2024-03-03T21:38:24.730709Z",
     "start_time": "2024-03-03T21:38:24.730685Z"
    },
    "hidden": true
   },
   "outputs": [],
   "source": [
    "train_df['remainder__2D High in Pips'].hist()"
   ]
  },
  {
   "cell_type": "markdown",
   "id": "1bbe49f6",
   "metadata": {
    "ExecuteTime": {
     "end_time": "2024-03-03T14:45:30.472971Z",
     "start_time": "2024-03-03T14:45:30.232625Z"
    },
    "hidden": true
   },
   "source": [
    "### Cluster "
   ]
  },
  {
   "cell_type": "code",
   "execution_count": null,
   "id": "db2b4cf6",
   "metadata": {
    "ExecuteTime": {
     "end_time": "2024-03-03T21:38:24.731945Z",
     "start_time": "2024-03-03T21:38:24.731925Z"
    },
    "hidden": true
   },
   "outputs": [],
   "source": [
    "plt.scatter(df['Trade_Week_Year'], df['volume'])"
   ]
  },
  {
   "cell_type": "code",
   "execution_count": null,
   "id": "43e4d3d5",
   "metadata": {
    "ExecuteTime": {
     "end_time": "2024-03-03T21:38:24.746548Z",
     "start_time": "2024-03-03T21:38:24.746483Z"
    },
    "hidden": true
   },
   "outputs": [],
   "source": [
    "from sklearn.cluster import KMeans\n",
    "\n",
    "X_Train_Trade_Week_Year_Volume = train_df[['remainder__Trade_Week_Year','remainder__volume']]\n",
    "\n",
    "KMeans = KMeans(n_clusters=7).fit(X_Train_Trade_Week_Year_Volume)\n",
    "\n",
    "KMeans.labels_"
   ]
  },
  {
   "cell_type": "code",
   "execution_count": null,
   "id": "25d82afc",
   "metadata": {
    "ExecuteTime": {
     "end_time": "2024-03-03T21:38:24.749913Z",
     "start_time": "2024-03-03T21:38:24.749870Z"
    },
    "hidden": true
   },
   "outputs": [],
   "source": [
    "import plotly.express as px"
   ]
  },
  {
   "cell_type": "code",
   "execution_count": null,
   "id": "458548e5",
   "metadata": {
    "ExecuteTime": {
     "end_time": "2024-03-03T21:38:24.763420Z",
     "start_time": "2024-03-03T21:38:24.763385Z"
    },
    "hidden": true
   },
   "outputs": [],
   "source": [
    "\n",
    "import plotly.io as pio\n",
    "pio.renderers.default = \"notebook_connected\"\n",
    "\n",
    "\n",
    "px.scatter(x=train_df['remainder__Trade_Week_Year'], y=train_df['remainder__volume'], color=KMeans.labels_)"
   ]
  },
  {
   "cell_type": "code",
   "execution_count": null,
   "id": "51e35b4a",
   "metadata": {
    "ExecuteTime": {
     "end_time": "2024-03-03T21:38:24.772916Z",
     "start_time": "2024-03-03T21:38:24.772864Z"
    },
    "hidden": true
   },
   "outputs": [],
   "source": [
    "X_train_Cluster = pd.get_dummies(pd.Series(KMeans.labels_)).astype(int).to_numpy()\n",
    "\n",
    "\n",
    "#Predict the clusters for the Test date \n",
    "X_Test_Trade_Week_Year_Volume = test_df[['remainder__Trade_Week_Year','remainder__volume']].to_numpy()\n",
    "X_Test_Cluster = pd.get_dummies(pd.Series(KMeans.predict(X_Test_Trade_Week_Year_Volume))).astype(int).to_numpy()\n",
    "\n",
    "\n",
    "Lin_Reg_Cluster  = LinearRegression().fit(X_train_Cluster, y_train)\n",
    "Lin_Reg_Cluster_Predictions = Lin_Reg_Cluster.predict(X_Test_Cluster)\n",
    "\n",
    "mean_absolute_error(y_test, Lin_Reg_Cluster_Predictions)"
   ]
  },
  {
   "cell_type": "code",
   "execution_count": null,
   "id": "fe648d2e",
   "metadata": {
    "ExecuteTime": {
     "end_time": "2024-03-03T20:39:48.566697Z",
     "start_time": "2024-03-03T20:39:48.529577Z"
    },
    "hidden": true
   },
   "outputs": [],
   "source": []
  },
  {
   "cell_type": "code",
   "execution_count": null,
   "id": "bf089588",
   "metadata": {
    "ExecuteTime": {
     "end_time": "2024-03-03T21:38:24.778542Z",
     "start_time": "2024-03-03T21:38:24.778492Z"
    },
    "hidden": true
   },
   "outputs": [],
   "source": [
    "import pandas as pd\n",
    "\n",
    "# Assume n_clusters is the number of clusters you used\n",
    "n_clusters = max(KMeans.labels_.max(), KMeans.predict(X_Test_Trade_Week_Year_Volume).max()) + 1\n",
    "all_possible_clusters = pd.Series(range(n_clusters))\n",
    "\n",
    "# For training data\n",
    "X_train_Cluster = pd.get_dummies(pd.Categorical(pd.Series(KMeans.labels_), categories=all_possible_clusters)).astype(int).to_numpy()\n",
    "\n",
    "# For test data\n",
    "test_clusters = KMeans.predict(X_Test_Trade_Week_Year_Volume)\n",
    "X_Test_Cluster = pd.get_dummies(pd.Categorical(pd.Series(test_clusters), categories=all_possible_clusters)).astype(int).to_numpy()\n"
   ]
  },
  {
   "cell_type": "code",
   "execution_count": null,
   "id": "3a6c5651",
   "metadata": {
    "ExecuteTime": {
     "end_time": "2024-03-03T21:38:24.799318Z",
     "start_time": "2024-03-03T21:38:24.799296Z"
    },
    "hidden": true
   },
   "outputs": [],
   "source": [
    "Lin_Reg_Cluster  = LinearRegression().fit(X_train_Cluster, y_train)\n",
    "Lin_Reg_Cluster_Predictions = Lin_Reg_Cluster.predict(X_Test_Cluster)\n",
    "\n",
    "mean_absolute_error(y_test, Lin_Reg_Cluster_Predictions)"
   ]
  },
  {
   "cell_type": "code",
   "execution_count": null,
   "id": "2ce3b9b2",
   "metadata": {
    "ExecuteTime": {
     "end_time": "2024-03-03T21:38:24.804884Z",
     "start_time": "2024-03-03T21:38:24.804856Z"
    },
    "hidden": true
   },
   "outputs": [],
   "source": [
    "# Plotting scatter plot\n",
    "plt.scatter(y_test, Lin_Reg_Cluster_Predictions, alpha=0.5)\n",
    "plt.title('Scatter Plot of Predictions vs Actuals')\n",
    "plt.xlabel('Actual Values')\n",
    "plt.ylabel('Predicted Values')\n",
    "plt.show()"
   ]
  },
  {
   "cell_type": "code",
   "execution_count": null,
   "id": "9f5cafc0",
   "metadata": {
    "ExecuteTime": {
     "end_time": "2024-03-03T21:38:24.839261Z",
     "start_time": "2024-03-03T21:38:24.839237Z"
    },
    "hidden": true
   },
   "outputs": [],
   "source": [
    "# Sample data - replace with your actual and predicted values\n",
    "actual = np.array(y_test)  # Assuming y_test is your actual values\n",
    "predicted = np.array(Lin_Reg_Cluster_Predictions)  # Your predicted values\n",
    "errors = actual - predicted  # Calculate the errors\n",
    "\n",
    "# Create the primary plot with scatter points\n",
    "fig, ax1 = plt.subplots()\n",
    "\n",
    "# Scatter plot for actual vs. predicted values\n",
    "ax1.scatter(actual, predicted, alpha=0.5, color='blue', label='Predicted vs. Actual')\n",
    "ax1.set_xlabel('Actual Values')\n",
    "ax1.set_ylabel('Predicted Values', color='blue')\n",
    "ax1.tick_params(axis='y', labelcolor='blue')\n",
    "\n",
    "# Create the secondary y-axis for errors\n",
    "ax2 = ax1.twinx()  \n",
    "ax2.set_ylabel('Error', color='red')  \n",
    "ax2.tick_params(axis='y', labelcolor='red')\n",
    "\n",
    "# Adding vertical lines for each point to represent the error\n",
    "for i in range(len(actual)):\n",
    "    plt.vlines(actual[i], predicted[i], actual[i], color='red', alpha=0.7, linewidth=0.5)\n",
    "\n",
    "# Optional: Add legend\n",
    "ax1.legend()\n",
    "\n",
    "plt.title('Random Forest Model Predictions vs Actuals with Error Visualization')\n",
    "plt.show()"
   ]
  },
  {
   "cell_type": "code",
   "execution_count": null,
   "id": "24e8395c",
   "metadata": {
    "ExecuteTime": {
     "end_time": "2024-03-03T21:38:24.880085Z",
     "start_time": "2024-03-03T21:38:24.880039Z"
    },
    "hidden": true
   },
   "outputs": [],
   "source": [
    "RF_Cluster  = RandomForestRegressor(n_estimators=100, max_depth=5).fit(X_train_Cluster, y_train)\n",
    "RF_Cluster_Predictions = RF_Cluster.predict(X_Test_Cluster)\n",
    "\n",
    "mean_absolute_error(y_test, RF_Cluster_Predictions)"
   ]
  },
  {
   "cell_type": "markdown",
   "id": "e48d3ab5",
   "metadata": {
    "ExecuteTime": {
     "end_time": "2024-03-03T15:57:21.852644Z",
     "start_time": "2024-03-03T15:57:21.534991Z"
    },
    "hidden": true
   },
   "source": [
    "### Feature Selection "
   ]
  },
  {
   "cell_type": "code",
   "execution_count": null,
   "id": "10cd4b02",
   "metadata": {
    "ExecuteTime": {
     "end_time": "2024-03-03T21:38:24.901935Z",
     "start_time": "2024-03-03T21:38:24.901894Z"
    },
    "hidden": true
   },
   "outputs": [],
   "source": [
    "X_train_Cluster.shape, X_train_Dummies.shape"
   ]
  },
  {
   "cell_type": "code",
   "execution_count": null,
   "id": "eba412e8",
   "metadata": {
    "ExecuteTime": {
     "end_time": "2024-03-03T21:38:24.924874Z",
     "start_time": "2024-03-03T21:38:24.924828Z"
    },
    "hidden": true
   },
   "outputs": [],
   "source": [
    "#Concatenante Training Arrays \n",
    "\n",
    "X_train_full = np.concatenate([X_train_Cluster, X_train_Dummies], axis=1)\n",
    "\n",
    "X_train_full.shape"
   ]
  },
  {
   "cell_type": "code",
   "execution_count": null,
   "id": "2600e655",
   "metadata": {
    "ExecuteTime": {
     "end_time": "2024-03-03T21:38:24.944128Z",
     "start_time": "2024-03-03T21:38:24.944093Z"
    },
    "hidden": true
   },
   "outputs": [],
   "source": [
    "X_Test_Cluster.shape,  X_test_Dummies.shape"
   ]
  },
  {
   "cell_type": "code",
   "execution_count": null,
   "id": "271b6735",
   "metadata": {
    "ExecuteTime": {
     "end_time": "2024-03-03T21:38:24.952478Z",
     "start_time": "2024-03-03T21:38:24.952397Z"
    },
    "hidden": true
   },
   "outputs": [],
   "source": [
    "#Concatenante Tets Arrays \n",
    "\n",
    "X_test_full = np.concatenate([X_Test_Cluster,  X_test_Dummies], axis=1)\n",
    "\n",
    "X_test_full.shape"
   ]
  },
  {
   "cell_type": "code",
   "execution_count": null,
   "id": "176d8ed0",
   "metadata": {
    "ExecuteTime": {
     "end_time": "2024-03-03T21:38:24.956554Z",
     "start_time": "2024-03-03T21:38:24.956513Z"
    },
    "hidden": true
   },
   "outputs": [],
   "source": [
    "RF_Model_Full = RandomForestRegressor(n_estimators=50, max_depth=5).fit(X_train_full, y_train)\n",
    "\n",
    "RF_Model_Predictions = RF_Model_Full.predict(X_test_full)\n",
    "\n",
    "mean_absolute_error(y_test, RF_Model_Predictions)"
   ]
  },
  {
   "cell_type": "code",
   "execution_count": null,
   "id": "50bc4c3d",
   "metadata": {
    "hidden": true
   },
   "outputs": [],
   "source": []
  },
  {
   "cell_type": "code",
   "execution_count": null,
   "id": "ff49b328",
   "metadata": {
    "hidden": true
   },
   "outputs": [],
   "source": []
  },
  {
   "cell_type": "code",
   "execution_count": null,
   "id": "6dc3e11a",
   "metadata": {
    "hidden": true
   },
   "outputs": [],
   "source": []
  },
  {
   "cell_type": "code",
   "execution_count": null,
   "id": "2e525e6f",
   "metadata": {
    "hidden": true
   },
   "outputs": [],
   "source": []
  },
  {
   "cell_type": "code",
   "execution_count": null,
   "id": "326b6d1a",
   "metadata": {
    "hidden": true
   },
   "outputs": [],
   "source": []
  },
  {
   "cell_type": "code",
   "execution_count": null,
   "id": "262cf301",
   "metadata": {
    "hidden": true
   },
   "outputs": [],
   "source": []
  },
  {
   "cell_type": "markdown",
   "id": "20e497aa",
   "metadata": {
    "ExecuteTime": {
     "end_time": "2024-03-02T15:39:25.531808Z",
     "start_time": "2024-03-02T15:39:25.319965Z"
    },
    "hidden": true
   },
   "source": [
    "### Test Train "
   ]
  },
  {
   "cell_type": "code",
   "execution_count": null,
   "id": "a6921431",
   "metadata": {
    "ExecuteTime": {
     "end_time": "2024-03-03T21:38:24.976558Z",
     "start_time": "2024-03-03T21:38:24.976499Z"
    },
    "hidden": true
   },
   "outputs": [],
   "source": [
    "from sklearn.model_selection import TimeSeriesSplit"
   ]
  },
  {
   "cell_type": "code",
   "execution_count": null,
   "id": "33b6d308",
   "metadata": {
    "ExecuteTime": {
     "end_time": "2024-03-03T21:38:24.986098Z",
     "start_time": "2024-03-03T21:38:24.986055Z"
    },
    "hidden": true
   },
   "outputs": [],
   "source": [
    "Y = df_model[['remainder__2D High in Pips']]\n",
    "X = df_model.drop('remainder__2D High in Pips', axis=1)"
   ]
  },
  {
   "cell_type": "code",
   "execution_count": null,
   "id": "b08bc2b4",
   "metadata": {
    "ExecuteTime": {
     "end_time": "2024-03-03T21:38:24.988299Z",
     "start_time": "2024-03-03T21:38:24.988267Z"
    },
    "hidden": true
   },
   "outputs": [],
   "source": [
    " #Split the data into training and test set \n",
    "X_train, X_test, y_train, y_test = train_test_split( X, Y, test_size=.204, random_state=42, stratify=X['onehotencoder__Order Type_SELL'])\n",
    "\n",
    "print(f\"Training Set: {X_train.shape}\\\n",
    "        \\nTest Set: {X_test.shape}\")"
   ]
  },
  {
   "cell_type": "markdown",
   "id": "05eb3efe",
   "metadata": {
    "ExecuteTime": {
     "end_time": "2024-03-02T16:47:42.947129Z",
     "start_time": "2024-03-02T16:47:42.911696Z"
    }
   },
   "source": [
    "# Baseline Model "
   ]
  },
  {
   "cell_type": "code",
   "execution_count": null,
   "id": "41c006e3",
   "metadata": {
    "ExecuteTime": {
     "end_time": "2024-03-03T21:38:24.990372Z",
     "start_time": "2024-03-03T21:38:24.990338Z"
    }
   },
   "outputs": [],
   "source": [
    "from sklearn.metrics import mean_absolute_error"
   ]
  },
  {
   "cell_type": "code",
   "execution_count": null,
   "id": "17341362",
   "metadata": {
    "ExecuteTime": {
     "end_time": "2024-03-03T21:38:24.995056Z",
     "start_time": "2024-03-03T21:38:24.994975Z"
    }
   },
   "outputs": [],
   "source": [
    "#Create a New Training DF based on the Split \n",
    "y_train = pd.DataFrame(y_train, index=X_train.index, columns=['remainder__2D High in Pips'])\n",
    "\n",
    "full_df_train = pd.concat([X_train,y_train ],axis=1)\n",
    "\n",
    "#Create a new Test DF based on the Split \n",
    "y_test = pd.DataFrame(y_test, index=X_test.index, columns=['remainder__2D High in Pips'])\n",
    "\n",
    "full_df_test = pd.concat([X_test,y_test ],axis=1)\n",
    "\n",
    "\n",
    "print(f\"Base_Model_Training Set: {full_df_train.shape}\\\n",
    "        \\nTBase_Model_Test Set: {full_df_test.shape}\")\n",
    "\n",
    "\n",
    "# train_df.fillna(0, inplace=True)\n",
    "# test_df.fillna(0, inplace=True)\n"
   ]
  },
  {
   "cell_type": "code",
   "execution_count": null,
   "id": "b431d6ba",
   "metadata": {
    "ExecuteTime": {
     "end_time": "2024-03-03T21:38:25.008120Z",
     "start_time": "2024-03-03T21:38:25.008062Z"
    }
   },
   "outputs": [],
   "source": [
    "#Extract the target variable from the train and test date \n",
    "y_train = full_df_train['remainder__2D High in Pips'].to_numpy()\n",
    "y_test = full_df_test['remainder__2D High in Pips'].to_numpy()\n",
    "\n",
    "#Calculate the average \n",
    "average_2d_high_for_all_trades = full_df_train['remainder__2D High in Pips'].mean()\n",
    "\n",
    "baseline_model_test_predictions =  [average_2d_high_for_all_trades] * len(y_test)\n",
    "\n",
    "mean_absolute_error(baseline_model_test_predictions, y_test)"
   ]
  },
  {
   "cell_type": "markdown",
   "id": "434b2b91",
   "metadata": {
    "ExecuteTime": {
     "end_time": "2024-03-02T18:34:03.193166Z",
     "start_time": "2024-03-02T18:34:03.139079Z"
    }
   },
   "source": [
    "### 1. Dimensionality Reduction (PCA)"
   ]
  },
  {
   "cell_type": "code",
   "execution_count": null,
   "id": "e94a303f",
   "metadata": {
    "ExecuteTime": {
     "end_time": "2024-03-03T21:38:25.018073Z",
     "start_time": "2024-03-03T21:38:25.017948Z"
    }
   },
   "outputs": [],
   "source": [
    "#Observe the correlation between 34 features \n",
    "\n",
    "full_df_train[['onehotencoder__Trend Status_Bullish',\n",
    " 'onehotencoder__5075 Trend Status_Bullish',\n",
    " 'onehotencoder__75100 Trend Status_Bullish',\n",
    " 'onehotencoder__100125 Trend Status_Bullish',\n",
    " 'onehotencoder__Opportunity_Unfavorable',\n",
    " 'onehotencoder__Order Type_SELL',\n",
    " 'onehotencoder__k_group_Oversold',\n",
    " 'onehotencoder__k_group_Undersold',\n",
    " 'onehotencoder__k_group_slightly_oversold',\n",
    " 'remainder__open',\n",
    " 'remainder__high',\n",
    " 'remainder__low',\n",
    " 'remainder__close',\n",
    " 'remainder__volume',\n",
    " 'remainder__Trade_Week_Year',\n",
    " 'remainder__Trade_Week_Month',\n",
    " 'remainder__Trade_Day_Week',\n",
    " 'remainder__Day',\n",
    " 'remainder__Month',\n",
    " 'remainder__25EMA',\n",
    " 'remainder__50EMA',\n",
    " 'remainder__75EMA',\n",
    " 'remainder__100EMA',\n",
    " 'remainder__125EMA',\n",
    " 'remainder__Spread',\n",
    " 'remainder__%K',\n",
    " 'remainder__%D',\n",
    " 'remainder__ADX',\n",
    " 'remainder__ADXR',\n",
    " 'remainder__slowk',\n",
    " 'remainder__slowd',\n",
    "'remainder__candle_bullish_score',\n",
    " 'remainder__candle_bearish_score']].corr()"
   ]
  },
  {
   "cell_type": "code",
   "execution_count": null,
   "id": "2c21329f",
   "metadata": {
    "ExecuteTime": {
     "end_time": "2024-03-03T21:38:25.021674Z",
     "start_time": "2024-03-03T21:38:25.021625Z"
    }
   },
   "outputs": [],
   "source": [
    "X_train34 = full_df_train[['onehotencoder__Trend Status_Bullish',\n",
    " 'onehotencoder__5075 Trend Status_Bullish',\n",
    " 'onehotencoder__75100 Trend Status_Bullish',\n",
    " 'onehotencoder__100125 Trend Status_Bullish',\n",
    " 'onehotencoder__Opportunity_Unfavorable',\n",
    " 'onehotencoder__Order Type_SELL',\n",
    " 'onehotencoder__k_group_Oversold',\n",
    " 'onehotencoder__k_group_Undersold',\n",
    " 'onehotencoder__k_group_slightly_oversold',\n",
    " 'remainder__open',\n",
    " 'remainder__high',\n",
    " 'remainder__low',\n",
    " 'remainder__close',\n",
    " 'remainder__volume',\n",
    " 'remainder__Trade_Week_Year',\n",
    " 'remainder__Trade_Week_Month',\n",
    " 'remainder__Trade_Day_Week',\n",
    " 'remainder__Day',\n",
    " 'remainder__Month',\n",
    " 'remainder__25EMA',\n",
    " 'remainder__50EMA',\n",
    " 'remainder__75EMA',\n",
    " 'remainder__100EMA',\n",
    " 'remainder__125EMA',\n",
    " 'remainder__Spread',\n",
    " 'remainder__%K',\n",
    " 'remainder__%D',\n",
    " 'remainder__ADX',\n",
    " 'remainder__ADXR',\n",
    " 'remainder__slowk',\n",
    " 'remainder__slowd',\n",
    "'remainder__candle_bullish_score',\n",
    " 'remainder__candle_bearish_score']].to_numpy()\n",
    "X_train34.shape"
   ]
  },
  {
   "cell_type": "code",
   "execution_count": null,
   "id": "35a29c2b",
   "metadata": {
    "ExecuteTime": {
     "end_time": "2024-03-03T21:38:25.030343Z",
     "start_time": "2024-03-03T21:38:25.030310Z"
    }
   },
   "outputs": [],
   "source": [
    "X_test34 = full_df_test[['onehotencoder__Trend Status_Bullish',\n",
    " 'onehotencoder__5075 Trend Status_Bullish',\n",
    " 'onehotencoder__75100 Trend Status_Bullish',\n",
    " 'onehotencoder__100125 Trend Status_Bullish',\n",
    " 'onehotencoder__Opportunity_Unfavorable',\n",
    " 'onehotencoder__Order Type_SELL',\n",
    " 'onehotencoder__k_group_Oversold',\n",
    " 'onehotencoder__k_group_Undersold',\n",
    " 'onehotencoder__k_group_slightly_oversold',\n",
    " 'remainder__open',\n",
    " 'remainder__high',\n",
    " 'remainder__low',\n",
    " 'remainder__close',\n",
    " 'remainder__volume',\n",
    " 'remainder__Trade_Week_Year',\n",
    " 'remainder__Trade_Week_Month',\n",
    " 'remainder__Trade_Day_Week',\n",
    " 'remainder__Day',\n",
    " 'remainder__Month',\n",
    " 'remainder__25EMA',\n",
    " 'remainder__50EMA',\n",
    " 'remainder__75EMA',\n",
    " 'remainder__100EMA',\n",
    " 'remainder__125EMA',\n",
    " 'remainder__Spread',\n",
    " 'remainder__%K',\n",
    " 'remainder__%D',\n",
    " 'remainder__ADX',\n",
    " 'remainder__ADXR',\n",
    " 'remainder__slowk',\n",
    " 'remainder__slowd',\n",
    "'remainder__candle_bullish_score',\n",
    " 'remainder__candle_bearish_score']].to_numpy()\n",
    "\n",
    "X_test34.shape"
   ]
  },
  {
   "cell_type": "code",
   "execution_count": null,
   "id": "2059c903",
   "metadata": {
    "ExecuteTime": {
     "end_time": "2024-03-03T21:38:25.057639Z",
     "start_time": "2024-03-03T21:38:25.057600Z"
    }
   },
   "outputs": [],
   "source": [
    "#Get errr of RF model on (X_train3, y_train) and testing on X_test3 and y_test)\n",
    "\n",
    "from sklearn.ensemble import RandomForestRegressor\n",
    "\n",
    "RF_model = RandomForestRegressor(n_estimators=50, max_depth=5).fit(X_train34, y_train)\n",
    "RF_predictions = RF_model.predict(X_test34)\n",
    "mean_absolute_error(y_test, RF_predictions)"
   ]
  },
  {
   "cell_type": "markdown",
   "id": "3df6a07d",
   "metadata": {},
   "source": [
    "### "
   ]
  },
  {
   "cell_type": "raw",
   "id": "4df32b76",
   "metadata": {},
   "source": []
  },
  {
   "cell_type": "code",
   "execution_count": null,
   "id": "d5e4deb5",
   "metadata": {},
   "outputs": [],
   "source": []
  },
  {
   "cell_type": "code",
   "execution_count": null,
   "id": "735b01c6",
   "metadata": {},
   "outputs": [],
   "source": []
  },
  {
   "cell_type": "code",
   "execution_count": null,
   "id": "fe366f34",
   "metadata": {},
   "outputs": [],
   "source": []
  },
  {
   "cell_type": "code",
   "execution_count": null,
   "id": "43fd7e3b",
   "metadata": {},
   "outputs": [],
   "source": []
  },
  {
   "cell_type": "code",
   "execution_count": null,
   "id": "62eb10e2",
   "metadata": {},
   "outputs": [],
   "source": []
  },
  {
   "cell_type": "code",
   "execution_count": null,
   "id": "d7919c87",
   "metadata": {},
   "outputs": [],
   "source": []
  },
  {
   "cell_type": "code",
   "execution_count": null,
   "id": "dc7b4939",
   "metadata": {},
   "outputs": [],
   "source": []
  },
  {
   "cell_type": "code",
   "execution_count": null,
   "id": "56a07508",
   "metadata": {},
   "outputs": [],
   "source": []
  },
  {
   "cell_type": "code",
   "execution_count": null,
   "id": "933e3763",
   "metadata": {},
   "outputs": [],
   "source": []
  },
  {
   "cell_type": "code",
   "execution_count": null,
   "id": "7d338b69",
   "metadata": {},
   "outputs": [],
   "source": []
  },
  {
   "cell_type": "code",
   "execution_count": null,
   "id": "6bad700f",
   "metadata": {
    "ExecuteTime": {
     "end_time": "2024-03-03T21:38:25.070478Z",
     "start_time": "2024-03-03T21:38:25.070410Z"
    }
   },
   "outputs": [],
   "source": [
    "y_train = train_df['remainder__2D High in Pips'].to_numpy()\n",
    "y_test = test_df['remainder__2D High in Pips'].to_numpy()\n",
    "\n",
    "average_2d_high_for_all_trades = train_df['remainder__2D High in Pips'].mean()\n",
    "\n",
    "baseline_model_test_predictions =  [average_2d_high_for_all_trades] * len(y_test)\n",
    "\n",
    "mean_absolute_error(baseline_model_test_predictions, y_test)"
   ]
  },
  {
   "cell_type": "code",
   "execution_count": null,
   "id": "906dbd13",
   "metadata": {
    "ExecuteTime": {
     "end_time": "2024-03-03T21:38:25.076487Z",
     "start_time": "2024-03-03T21:38:25.076449Z"
    }
   },
   "outputs": [],
   "source": [
    "average_2d_high_for_all_trades = train_df['remainder__2D High in Pips'].mean()\n",
    "\n",
    "baseline_model_test_predictions =  [average_2d_high_for_all_trades] * len(y_test)\n",
    "\n",
    "mean_absolute_error(baseline_model_test_predictions, y_test)"
   ]
  },
  {
   "cell_type": "code",
   "execution_count": null,
   "id": "487938ce",
   "metadata": {
    "ExecuteTime": {
     "end_time": "2024-03-03T21:38:25.079925Z",
     "start_time": "2024-03-03T21:38:25.079883Z"
    }
   },
   "outputs": [],
   "source": [
    "X = np.array(ct.fit_transform(X))"
   ]
  },
  {
   "cell_type": "code",
   "execution_count": null,
   "id": "0c8a8f5f",
   "metadata": {
    "ExecuteTime": {
     "end_time": "2024-03-03T21:38:25.088877Z",
     "start_time": "2024-03-03T21:38:25.088832Z"
    }
   },
   "outputs": [],
   "source": [
    "??pd.concat"
   ]
  },
  {
   "cell_type": "code",
   "execution_count": null,
   "id": "b3eb9e33",
   "metadata": {
    "ExecuteTime": {
     "end_time": "2024-03-03T21:38:25.093832Z",
     "start_time": "2024-03-03T21:38:25.093759Z"
    }
   },
   "outputs": [],
   "source": [
    "# test = ohe.fit_transform(df[['Trend Status','5075 Trend Status', '75100 Trend Status',\n",
    "#        '100125 Trend Status', 'Action', 'Opportunity', 'Order Type']]).to_array()\n",
    "\n",
    "# test.values"
   ]
  },
  {
   "cell_type": "code",
   "execution_count": null,
   "id": "3e5c614c",
   "metadata": {
    "ExecuteTime": {
     "end_time": "2024-03-03T21:38:25.109534Z",
     "start_time": "2024-03-03T21:38:25.109467Z"
    }
   },
   "outputs": [],
   "source": [
    "df.columns[20:40]"
   ]
  },
  {
   "cell_type": "code",
   "execution_count": null,
   "id": "7206a569",
   "metadata": {
    "ExecuteTime": {
     "end_time": "2024-03-03T21:38:25.113340Z",
     "start_time": "2024-03-03T21:38:25.113304Z"
    }
   },
   "outputs": [],
   "source": [
    "#Subset of features to keep\n",
    "df= df[['open', 'high', 'low', 'close', '25EMA', '50EMA', '75EMA','100EMA', '125EMA',\n",
    "        'Trend Status', 'Spread','5075 Trend Status', '75100 Trend Status',\n",
    "       '100125 Trend Status', 'Action', 'Opportunity', 'Order Type','2D Lowest Price',\n",
    "       '2D Highest Price', '2D Low in Pips', '2D High in Pips',\n",
    "       '2D Trade Status', '2D Hard Stop Price', '2D Hard Stop Loss',\n",
    "       '2D Trend Change Stop Price', '2D Trend Change Stop Loss', '%K', '%D', 'k_group', 'ADX', 'ADXR', 'slowk',\n",
    "       'slowd']]"
   ]
  },
  {
   "cell_type": "code",
   "execution_count": null,
   "id": "286f253d",
   "metadata": {
    "ExecuteTime": {
     "end_time": "2024-03-03T21:38:25.124318Z",
     "start_time": "2024-03-03T21:38:25.124272Z"
    }
   },
   "outputs": [],
   "source": [
    "#Apply one-hot encoding \n",
    "df= pd.get_dummies(df,columns=['Trend Status','5075 Trend Status', '75100 Trend Status',\n",
    "       '100125 Trend Status', 'Action', 'Opportunity', 'Order Type','k_group'])"
   ]
  },
  {
   "cell_type": "code",
   "execution_count": null,
   "id": "85db0599",
   "metadata": {
    "ExecuteTime": {
     "end_time": "2024-03-03T21:38:25.130102Z",
     "start_time": "2024-03-03T21:38:25.130054Z"
    }
   },
   "outputs": [],
   "source": [
    "df.columns"
   ]
  },
  {
   "cell_type": "code",
   "execution_count": null,
   "id": "ef80de3a",
   "metadata": {
    "ExecuteTime": {
     "end_time": "2024-03-03T21:38:25.132800Z",
     "start_time": "2024-03-03T21:38:25.132755Z"
    }
   },
   "outputs": [],
   "source": [
    "X_train,X_test,Y_train, Y_test = train_test_split(X,Y, test_size=0.2, random_state=42)\n"
   ]
  },
  {
   "cell_type": "markdown",
   "id": "4e5a2bea",
   "metadata": {},
   "source": [
    "## Linear Model "
   ]
  },
  {
   "cell_type": "markdown",
   "id": "3685574e",
   "metadata": {},
   "source": [
    "### Linear Mode on All Data"
   ]
  },
  {
   "cell_type": "code",
   "execution_count": null,
   "id": "a6630d41",
   "metadata": {
    "ExecuteTime": {
     "end_time": "2024-03-03T21:38:25.144413Z",
     "start_time": "2024-03-03T21:38:25.144370Z"
    }
   },
   "outputs": [],
   "source": [
    "from sklearn.linear_model import LinearRegression\n",
    "from sklearn.metrics import mean_absolute_error, mean_squared_error\n",
    "from sklearn.model_selection import cross_val_score"
   ]
  },
  {
   "cell_type": "code",
   "execution_count": null,
   "id": "7b1a5216",
   "metadata": {
    "ExecuteTime": {
     "end_time": "2024-03-03T21:38:25.174769Z",
     "start_time": "2024-03-03T21:38:25.148350Z"
    },
    "scrolled": true
   },
   "outputs": [],
   "source": [
    "#Create and fit linear regression model \n",
    "lin_model = LinearRegression().fit(X_train,Y_train)\n",
    "\n",
    "#Make Predictions on test data\n",
    "y_preds = lin_model.predict(X_test)\n",
    "\n",
    "#Evaluate Model Performance \n",
    "mae = mean_absolute_error(Y_test, y_preds)\n",
    "mse = mean_squared_error(Y_test, y_preds)\n",
    "rmse = mean_squared_error(Y_test, y_preds, squared=False)\n",
    "\n",
    "print( 'MAE:', mae)\n",
    "print( 'MSE:', mse)\n",
    "print( 'RMSE:', rmse)"
   ]
  },
  {
   "cell_type": "code",
   "execution_count": null,
   "id": "63207896",
   "metadata": {
    "ExecuteTime": {
     "end_time": "2024-03-03T21:38:25.188185Z",
     "start_time": "2024-03-03T21:38:25.188148Z"
    }
   },
   "outputs": [],
   "source": [
    "import matplotlib.pyplot as plt\n",
    "\n",
    "plt.scatter(Y_test, y_preds)\n",
    "plt.xlabel(\"Actual Values\")\n",
    "plt.ylabel(\"Predicted Values\")\n",
    "plt.title(\"Actuals vs. Predictions\")\n",
    "plt.grid(True)\n",
    "plt.show()\n"
   ]
  },
  {
   "cell_type": "code",
   "execution_count": null,
   "id": "58505a8d",
   "metadata": {
    "ExecuteTime": {
     "end_time": "2024-03-03T21:38:25.212218Z",
     "start_time": "2024-03-03T21:38:25.212167Z"
    }
   },
   "outputs": [],
   "source": [
    "# Feature Importance Analysis \n",
    "coef = lin_model.coef_\n",
    "print('Feature Importance:', coef)"
   ]
  },
  {
   "cell_type": "code",
   "execution_count": null,
   "id": "6bcb81ef",
   "metadata": {
    "ExecuteTime": {
     "end_time": "2024-03-03T21:38:25.224921Z",
     "start_time": "2024-03-03T21:38:25.224876Z"
    }
   },
   "outputs": [],
   "source": [
    "lin_model.score(X_test,Y_test)"
   ]
  },
  {
   "cell_type": "code",
   "execution_count": null,
   "id": "b6a6906c",
   "metadata": {
    "ExecuteTime": {
     "end_time": "2024-03-03T21:38:25.265756Z",
     "start_time": "2024-03-03T21:38:25.265699Z"
    }
   },
   "outputs": [],
   "source": [
    "#Perform k-folk cross validation \n",
    "sell_trade_high_scores = cross_val_score(LinearRegression(),X, Y,cv=5, scoring ='neg_mean_absolute_error' )\n",
    "\n",
    "print('Cross-validation scores:', -sell_trade_high_scores)\n",
    "print('Average MAE:', -sell_trade_high_scores.mean())"
   ]
  },
  {
   "cell_type": "markdown",
   "id": "519d69e9",
   "metadata": {},
   "source": [
    "### Linear Model on Buy Trades HIGH "
   ]
  },
  {
   "cell_type": "code",
   "execution_count": null,
   "id": "59e44912",
   "metadata": {
    "ExecuteTime": {
     "end_time": "2024-03-03T21:38:25.340393Z",
     "start_time": "2024-03-03T21:38:25.340365Z"
    }
   },
   "outputs": [],
   "source": [
    "#Create a subset of df with Buy Trades \n",
    "buy_df =  df[df['Order Type_BUY'] == True]\n",
    "\n",
    "buy_df.shape"
   ]
  },
  {
   "cell_type": "code",
   "execution_count": null,
   "id": "b7b74539",
   "metadata": {
    "ExecuteTime": {
     "end_time": "2024-03-03T21:38:25.375657Z",
     "start_time": "2024-03-03T21:38:25.375628Z"
    }
   },
   "outputs": [],
   "source": [
    "#Visualize the high of buy trades \n",
    "fig = go.Figure(data=go.Scatter(\n",
    "    x=buy_df['close'],  # Access the 'x' column\n",
    "    y=buy_df['2D High in Pips'],  # Access the 'y' column\n",
    "    mode='markers',\n",
    "#     marker=dict(\n",
    "#         size=10,\n",
    "#         color=colors,  # Map colors from the 'color_column'\n",
    "#         opacity=0.8\n",
    "#     )\n",
    "))\n",
    "\n",
    "# Customize the layout\n",
    "fig.update_layout(\n",
    "    title=\"Buy Trades 2D High Price\",\n",
    "    xaxis_title=\"Closed Price at Trade Open\",\n",
    "    yaxis_title=\"2D High in Pips\",\n",
    "#     grid=True\n",
    ")\n",
    "fig.show()"
   ]
  },
  {
   "cell_type": "code",
   "execution_count": null,
   "id": "a68018ed",
   "metadata": {
    "ExecuteTime": {
     "end_time": "2024-03-03T21:38:25.397789Z",
     "start_time": "2024-03-03T21:38:25.397735Z"
    }
   },
   "outputs": [],
   "source": [
    "buy_trade_high_mean = buy_df['2D High in Pips'].mean()\n",
    "buy_trade_high_mean"
   ]
  },
  {
   "cell_type": "code",
   "execution_count": null,
   "id": "30720638",
   "metadata": {
    "ExecuteTime": {
     "end_time": "2024-03-03T21:38:25.409895Z",
     "start_time": "2024-03-03T21:38:25.409845Z"
    }
   },
   "outputs": [],
   "source": [
    "#Seperate features and label \n",
    "#Indepedent Variables \n",
    "X = buy_df[['open', 'high', 'low', 'close', '25EMA', '50EMA', '75EMA', '100EMA',\n",
    "       '125EMA', 'Spread','Trend Status_Bearish',\n",
    "       'Trend Status_Bullish', '5075 Trend Status_Bearish',\n",
    "       '5075 Trend Status_Bullish', '75100 Trend Status_Bearish',\n",
    "       '75100 Trend Status_Bullish', '100125 Trend Status_Bearish',\n",
    "       '100125 Trend Status_Bullish', 'Action_Ultimate Action',\n",
    "       'Opportunity_Optimal', 'Opportunity_Unfavorable','k_group_Oversold',\n",
    "       'k_group_Undersold', 'k_group_slightly_oversold','%K', '%D', 'ADX', 'ADXR', 'slowk', 'slowd']]\n",
    "#Dependent Variable\n",
    "Y = buy_df['2D High in Pips'] \n",
    "\n",
    "X_train,X_test,Y_train, Y_test = train_test_split(X,Y, test_size=0.2, random_state=42)"
   ]
  },
  {
   "cell_type": "code",
   "execution_count": null,
   "id": "546f4a6c",
   "metadata": {
    "ExecuteTime": {
     "end_time": "2024-03-03T21:38:25.412390Z",
     "start_time": "2024-03-03T21:38:25.412355Z"
    },
    "scrolled": true
   },
   "outputs": [],
   "source": [
    "#Create and fit linear regression model \n",
    "lin_model = LinearRegression().fit(X_train,Y_train)\n",
    "\n",
    "#Create and fit linear regression model \n",
    "lin_model = LinearRegression().fit(X_train,Y_train)\n",
    "\n",
    "#Make Predictions on test data\n",
    "y_preds = lin_model.predict(X_test)\n",
    "\n",
    "#Evaluate Model Performance \n",
    "mae = mean_absolute_error(Y_test, y_preds)\n",
    "mse = mean_squared_error(Y_test, y_preds)\n",
    "rmse = mean_squared_error(Y_test, y_preds, squared=False)\n",
    "\n",
    "print('Mean', buy_trade_high_mean)\n",
    "print( 'MAE:', mae)\n",
    "print( 'MSE:', mse)\n",
    "print( 'RMSE:', rmse)"
   ]
  },
  {
   "cell_type": "markdown",
   "id": "69b5632c",
   "metadata": {},
   "source": [
    "### Linear Model on SELL Trades HIGH "
   ]
  },
  {
   "cell_type": "code",
   "execution_count": null,
   "id": "42f58d2f",
   "metadata": {
    "ExecuteTime": {
     "end_time": "2024-03-03T21:38:25.415104Z",
     "start_time": "2024-03-03T21:38:25.415071Z"
    }
   },
   "outputs": [],
   "source": [
    "#Create a subset of df with Buy Trades \n",
    "sell_df =  df[df['Order Type_SELL'] == True]\n",
    "\n",
    "sell_df.shape"
   ]
  },
  {
   "cell_type": "code",
   "execution_count": null,
   "id": "679ece5c",
   "metadata": {
    "ExecuteTime": {
     "end_time": "2024-03-03T21:38:25.446718Z",
     "start_time": "2024-03-03T21:38:25.446695Z"
    }
   },
   "outputs": [],
   "source": [
    "#Visualize the high of sell trades \n",
    "fig = go.Figure(data=go.Scatter(\n",
    "    x=sell_df['close'],  # Access the 'x' column\n",
    "    y=sell_df['2D High in Pips'],  # Access the 'y' column\n",
    "    mode='markers',\n",
    "#     marker=dict(\n",
    "#         size=10,\n",
    "#         color=colors,  # Map colors from the 'color_column'\n",
    "#         opacity=0.8\n",
    "#     )\n",
    "))\n",
    "\n",
    "# Customize the layout\n",
    "fig.update_layout(\n",
    "    title=\"Buy Trades 2D High Price\",\n",
    "    xaxis_title=\"Closed Price at Trade Open\",\n",
    "    yaxis_title=\"2D High in Pips\",\n",
    "#     grid=True\n",
    ")\n",
    "fig.show()"
   ]
  },
  {
   "cell_type": "code",
   "execution_count": null,
   "id": "f76c82c9",
   "metadata": {
    "ExecuteTime": {
     "end_time": "2024-03-03T21:38:25.452212Z",
     "start_time": "2024-03-03T21:38:25.452189Z"
    }
   },
   "outputs": [],
   "source": [
    "sell_trade_high_mean = sell_df['2D High in Pips'].mean()\n",
    "sell_trade_high_mean"
   ]
  },
  {
   "cell_type": "code",
   "execution_count": null,
   "id": "36cc80f8",
   "metadata": {
    "ExecuteTime": {
     "end_time": "2024-03-03T21:38:25.462095Z",
     "start_time": "2024-03-03T21:38:25.462066Z"
    }
   },
   "outputs": [],
   "source": [
    "#Seperate features and label \n",
    "#Indepedent Variables \n",
    "X = sell_df[['open', 'high', 'low', 'close', '25EMA', '50EMA', '75EMA', '100EMA',\n",
    "       '125EMA', 'Spread','Trend Status_Bearish',\n",
    "       'Trend Status_Bullish', '5075 Trend Status_Bearish',\n",
    "       '5075 Trend Status_Bullish', '75100 Trend Status_Bearish',\n",
    "       '75100 Trend Status_Bullish', '100125 Trend Status_Bearish',\n",
    "       '100125 Trend Status_Bullish', 'Action_Ultimate Action',\n",
    "       'Opportunity_Optimal', 'Opportunity_Unfavorable','k_group_Oversold',\n",
    "       'k_group_Undersold', 'k_group_slightly_oversold','%K', '%D', 'ADX', 'ADXR', 'slowk', 'slowd']]\n",
    "#Dependent Variable\n",
    "Y = sell_df['2D High in Pips'] \n",
    "\n",
    "X_train,X_test,Y_train, Y_test = train_test_split(X,Y, test_size=0.3, random_state=42)"
   ]
  },
  {
   "cell_type": "code",
   "execution_count": null,
   "id": "af34859d",
   "metadata": {
    "ExecuteTime": {
     "end_time": "2024-03-03T21:38:25.489078Z",
     "start_time": "2024-03-03T21:38:25.489026Z"
    }
   },
   "outputs": [],
   "source": [
    "#Create and fit linear regression model \n",
    "lin_model = LinearRegression().fit(X_train,Y_train)\n",
    "\n",
    "#Create and fit linear regression model \n",
    "lin_model = LinearRegression().fit(X_train,Y_train)\n",
    "\n",
    "#Make Predictions on test data\n",
    "y_preds = lin_model.predict(X_test)\n",
    "\n",
    "#Evaluate Model Performance \n",
    "mae = mean_absolute_error(Y_test, y_preds)\n",
    "mse = mean_squared_error(Y_test, y_preds)\n",
    "rmse = mean_squared_error(Y_test, y_preds, squared=False)\n",
    "\n",
    "print( 'MAE:', mae)\n",
    "print( 'MSE:', mse)\n",
    "print( 'RMSE:', rmse)"
   ]
  },
  {
   "cell_type": "code",
   "execution_count": null,
   "id": "244fa9f8",
   "metadata": {
    "ExecuteTime": {
     "end_time": "2024-03-03T21:38:25.494986Z",
     "start_time": "2024-03-03T21:38:25.494947Z"
    }
   },
   "outputs": [],
   "source": [
    "import matplotlib.pyplot as plt\n",
    "\n",
    "plt.scatter(Y_test, y_preds)\n",
    "plt.xlabel(\"Actual Values\")\n",
    "plt.ylabel(\"Predicted Values\")\n",
    "plt.title(\"Actuals vs. Predictions\")\n",
    "plt.grid(True)\n",
    "plt.show()\n"
   ]
  },
  {
   "cell_type": "code",
   "execution_count": null,
   "id": "03bd0795",
   "metadata": {
    "ExecuteTime": {
     "end_time": "2024-03-03T21:38:25.510036Z",
     "start_time": "2024-03-03T21:38:25.509976Z"
    }
   },
   "outputs": [],
   "source": [
    "#Perform k-folk cross validation \n",
    "sell_trade_high_scores = cross_val_score(LinearRegression(),X, Y,cv=5, scoring ='neg_mean_absolute_error' )\n",
    "\n",
    "print('Cross-validation scores:', -sell_trade_high_scores)\n",
    "print('Average MAE:', -sell_trade_high_scores.mean())"
   ]
  },
  {
   "cell_type": "markdown",
   "id": "c7e35612",
   "metadata": {},
   "source": [
    "## Gradient Boosting Model "
   ]
  },
  {
   "cell_type": "markdown",
   "id": "27a674be",
   "metadata": {
    "ExecuteTime": {
     "end_time": "2024-01-13T19:41:11.062468Z",
     "start_time": "2024-01-13T19:41:11.039657Z"
    }
   },
   "source": [
    "### Gradient Boost Model on all Data"
   ]
  },
  {
   "cell_type": "code",
   "execution_count": null,
   "id": "cf6ce528",
   "metadata": {
    "ExecuteTime": {
     "end_time": "2024-03-03T21:38:25.528820Z",
     "start_time": "2024-03-03T21:38:25.528767Z"
    }
   },
   "outputs": [],
   "source": [
    "from sklearn.ensemble import GradientBoostingRegressor"
   ]
  },
  {
   "cell_type": "code",
   "execution_count": null,
   "id": "fa9f9689",
   "metadata": {
    "ExecuteTime": {
     "end_time": "2024-03-03T21:38:25.575364Z",
     "start_time": "2024-03-03T21:38:25.575318Z"
    }
   },
   "outputs": [],
   "source": [
    "#Indepedent Variables \n",
    "X = df[['open', 'high', 'low', 'close', '25EMA', '50EMA', '75EMA', '100EMA',\n",
    "       '125EMA', 'Spread','Trend Status_Bearish',\n",
    "       'Trend Status_Bullish', '5075 Trend Status_Bearish',\n",
    "       '5075 Trend Status_Bullish', '75100 Trend Status_Bearish',\n",
    "       '75100 Trend Status_Bullish', '100125 Trend Status_Bearish',\n",
    "       '100125 Trend Status_Bullish', 'Action_Ultimate Action',\n",
    "       'Opportunity_Optimal', 'Opportunity_Unfavorable', 'Order Type_BUY',\n",
    "       'Order Type_SELL','k_group_Oversold',\n",
    "       'k_group_Undersold', 'k_group_slightly_oversold','%K', '%D', 'ADX', 'ADXR', 'slowk', 'slowd']]\n",
    "#Dependent Variable\n",
    "Y = df['2D High in Pips'] "
   ]
  },
  {
   "cell_type": "code",
   "execution_count": null,
   "id": "34674305",
   "metadata": {
    "ExecuteTime": {
     "end_time": "2024-03-03T21:38:25.592508Z",
     "start_time": "2024-03-03T21:38:25.592447Z"
    }
   },
   "outputs": [],
   "source": [
    "X_train,X_test,Y_train, Y_test = train_test_split(X,Y, test_size=0.2, random_state=42)\n",
    "\n",
    "gbr = GradientBoostingRegressor(n_estimators=5,learning_rate= 0.1, random_state=0).fit(X_train,Y_train)\n",
    "\n",
    "y_preds =gbr.predict(X_test)\n",
    "    \n",
    "#Evaluate Model Performance \n",
    "mae = mean_absolute_error(Y_test, y_preds)\n",
    "mse = mean_squared_error(Y_test, y_preds)\n",
    "rmse = mean_squared_error(Y_test, y_preds, squared=False)\n",
    "gbr_score = gbr.score(X_test, Y_test)\n",
    "\n",
    "print( 'MAE:', mae)\n",
    "print( 'MSE:', mse)\n",
    "print( 'RMSE:', rmse)\n",
    "print('Score', gbr_score)"
   ]
  },
  {
   "cell_type": "code",
   "execution_count": null,
   "id": "33f97df2",
   "metadata": {
    "ExecuteTime": {
     "end_time": "2024-03-03T21:38:25.607657Z",
     "start_time": "2024-03-03T21:38:25.607622Z"
    }
   },
   "outputs": [],
   "source": [
    "#Perform k-folk cross validation \n",
    "all_trade_high_scores = cross_val_score(GradientBoostingRegressor(n_estimators=5,learning_rate= 0.1, random_state=0),X, Y,cv=5, scoring ='neg_mean_absolute_error' )\n",
    "\n",
    "print('Cross-validation scores:', -all_trade_high_scores)\n",
    "print('Average MAE:', -all_trade_high_scores.mean())"
   ]
  },
  {
   "cell_type": "code",
   "execution_count": null,
   "id": "a78a194e",
   "metadata": {
    "ExecuteTime": {
     "end_time": "2024-03-03T21:38:25.622677Z",
     "start_time": "2024-03-03T21:38:25.622592Z"
    }
   },
   "outputs": [],
   "source": [
    "plt.scatter(Y_test, y_preds)\n",
    "plt.xlabel(\"Actual Values\")\n",
    "plt.ylabel(\"Predicted Values\")\n",
    "plt.title(\"Actuals vs. Predictions\")\n",
    "plt.grid(True)\n",
    "plt.show()"
   ]
  },
  {
   "cell_type": "markdown",
   "id": "e3c51036",
   "metadata": {
    "ExecuteTime": {
     "end_time": "2024-01-13T20:15:09.583836Z",
     "start_time": "2024-01-13T20:15:09.569454Z"
    }
   },
   "source": [
    "### Gradient Boosting Model on Buy Trades HIGH "
   ]
  },
  {
   "cell_type": "code",
   "execution_count": null,
   "id": "5849aa7e",
   "metadata": {
    "ExecuteTime": {
     "end_time": "2024-03-03T21:38:25.626589Z",
     "start_time": "2024-03-03T21:38:25.626543Z"
    }
   },
   "outputs": [],
   "source": [
    "#Seperate features and label \n",
    "#Indepedent Variables \n",
    "X = buy_df[['open', 'high', 'low', 'close', '25EMA', '50EMA', '75EMA', '100EMA',\n",
    "       '125EMA', 'Spread','Trend Status_Bearish',\n",
    "       'Trend Status_Bullish', '5075 Trend Status_Bearish',\n",
    "       '5075 Trend Status_Bullish', '75100 Trend Status_Bearish',\n",
    "       '75100 Trend Status_Bullish', '100125 Trend Status_Bearish',\n",
    "       '100125 Trend Status_Bullish', 'Action_Ultimate Action',\n",
    "       'Opportunity_Optimal', 'Opportunity_Unfavorable','k_group_Oversold',\n",
    "       'k_group_Undersold', 'k_group_slightly_oversold','%K', '%D', 'ADX', 'ADXR', 'slowk', 'slowd']]\n",
    "#Dependent Variable\n",
    "Y = buy_df['2D High in Pips'] \n",
    "\n",
    "X_train,X_test,Y_train, Y_test = train_test_split(X,Y, test_size=0.2, random_state=42)"
   ]
  },
  {
   "cell_type": "code",
   "execution_count": null,
   "id": "717418d4",
   "metadata": {
    "ExecuteTime": {
     "end_time": "2024-03-03T21:38:25.642876Z",
     "start_time": "2024-03-03T21:38:25.642825Z"
    }
   },
   "outputs": [],
   "source": [
    "buy_trade_high_mean"
   ]
  },
  {
   "cell_type": "code",
   "execution_count": null,
   "id": "b534809c",
   "metadata": {
    "ExecuteTime": {
     "end_time": "2024-03-03T21:38:25.655788Z",
     "start_time": "2024-03-03T21:38:25.655672Z"
    }
   },
   "outputs": [],
   "source": [
    "gbr = GradientBoostingRegressor(n_estimators=100,learning_rate= 0.1, random_state=0).fit(X_train,Y_train)\n",
    "\n",
    "y_preds =gbr.predict(X_test)\n",
    "    \n",
    "#Evaluate Model Performance \n",
    "mae = mean_absolute_error(Y_test, y_preds)\n",
    "mse = mean_squared_error(Y_test, y_preds)\n",
    "rmse = mean_squared_error(Y_test, y_preds, squared=False)\n",
    "gbr_score = gbr.score(X_test, Y_test)\n",
    "\n",
    "print('Mean', buy_trade_high_mean)\n",
    "print( 'MAE:', mae)\n",
    "print( 'MSE:', mse)\n",
    "print( 'RMSE:', rmse)\n",
    "print('Score', gbr_score)"
   ]
  },
  {
   "cell_type": "code",
   "execution_count": null,
   "id": "52805544",
   "metadata": {
    "ExecuteTime": {
     "end_time": "2024-03-03T21:38:25.711966Z",
     "start_time": "2024-03-03T21:38:25.711938Z"
    }
   },
   "outputs": [],
   "source": [
    "#Perform k-folk cross validation \n",
    "all_trade_high_scores = cross_val_score(GradientBoostingRegressor(n_estimators=5,learning_rate= 0.1, random_state=0),X, Y,cv=5, scoring ='neg_mean_absolute_error' )\n",
    "\n",
    "print('Cross-validation scores:', -all_trade_high_scores)\n",
    "print('Average MAE:', -all_trade_high_scores.mean())"
   ]
  },
  {
   "cell_type": "code",
   "execution_count": null,
   "id": "fa2def3a",
   "metadata": {
    "ExecuteTime": {
     "end_time": "2024-03-03T21:38:25.745516Z",
     "start_time": "2024-03-03T21:38:25.745463Z"
    }
   },
   "outputs": [],
   "source": [
    "plt.scatter(Y_test, y_preds)\n",
    "plt.xlabel(\"Actual Values\")\n",
    "plt.ylabel(\"Predicted Values\")\n",
    "plt.title(\"Actuals vs. Predictions\")\n",
    "plt.grid(True)\n",
    "plt.show()"
   ]
  },
  {
   "cell_type": "markdown",
   "id": "3b542eb1",
   "metadata": {
    "ExecuteTime": {
     "end_time": "2024-01-13T21:46:16.914418Z",
     "start_time": "2024-01-13T21:46:16.885770Z"
    }
   },
   "source": [
    "### Gradient Boosting Model on SELL Trades HIGH "
   ]
  },
  {
   "cell_type": "code",
   "execution_count": null,
   "id": "6ff69640",
   "metadata": {
    "ExecuteTime": {
     "end_time": "2024-03-03T21:38:25.758559Z",
     "start_time": "2024-03-03T21:38:25.758513Z"
    }
   },
   "outputs": [],
   "source": [
    "#Seperate features and label \n",
    "#Indepedent Variables \n",
    "X = sell_df[['open', 'high', 'low', 'close', '25EMA', '50EMA', '75EMA', '100EMA',\n",
    "       '125EMA', 'Spread','Trend Status_Bearish',\n",
    "       'Trend Status_Bullish', '5075 Trend Status_Bearish',\n",
    "       '5075 Trend Status_Bullish', '75100 Trend Status_Bearish',\n",
    "       '75100 Trend Status_Bullish', '100125 Trend Status_Bearish',\n",
    "       '100125 Trend Status_Bullish', 'Action_Ultimate Action',\n",
    "       'Opportunity_Optimal', 'Opportunity_Unfavorable','k_group_Oversold',\n",
    "       'k_group_Undersold', 'k_group_slightly_oversold','%K', '%D', 'ADX', 'ADXR', 'slowk', 'slowd']]\n",
    "#Dependent Variable\n",
    "Y = sell_df['2D High in Pips'] \n",
    "\n",
    "X_train,X_test,Y_train, Y_test = train_test_split(X,Y, test_size=0.3, random_state=42)"
   ]
  },
  {
   "cell_type": "code",
   "execution_count": null,
   "id": "69290728",
   "metadata": {
    "ExecuteTime": {
     "end_time": "2024-03-03T21:38:25.760950Z",
     "start_time": "2024-03-03T21:38:25.760914Z"
    }
   },
   "outputs": [],
   "source": [
    "gbr = GradientBoostingRegressor(n_estimators=100,learning_rate= 0.1, random_state=0).fit(X_train,Y_train)\n",
    "\n",
    "y_preds =gbr.predict(X_test)\n",
    "    \n",
    "#Evaluate Model Performance \n",
    "mae = mean_absolute_error(Y_test, y_preds)\n",
    "mse = mean_squared_error(Y_test, y_preds)\n",
    "rmse = mean_squared_error(Y_test, y_preds, squared=False)\n",
    "gbr_score = gbr.score(X_test, Y_test)\n",
    "\n",
    "print('Mean', buy_trade_high_mean)\n",
    "print( 'MAE:', mae)\n",
    "print( 'MSE:', mse)\n",
    "print( 'RMSE:', rmse)\n",
    "print('Score', gbr_score)"
   ]
  },
  {
   "cell_type": "code",
   "execution_count": null,
   "id": "151ca6c1",
   "metadata": {
    "ExecuteTime": {
     "end_time": "2024-03-03T21:38:25.778569Z",
     "start_time": "2024-03-03T21:38:25.778505Z"
    }
   },
   "outputs": [],
   "source": [
    "#Perform k-folk cross validation \n",
    "sell_trade_high_scores = cross_val_score(GradientBoostingRegressor(n_estimators=5,learning_rate= 0.1, random_state=0),X, Y,cv=5, scoring ='neg_mean_absolute_error' )\n",
    "\n",
    "print('Cross-validation scores:', -sell_trade_high_scores)\n",
    "print('Average MAE:', -sell_trade_high_scores.mean())"
   ]
  },
  {
   "cell_type": "code",
   "execution_count": null,
   "id": "578f1458",
   "metadata": {
    "ExecuteTime": {
     "end_time": "2024-03-03T21:38:25.783055Z",
     "start_time": "2024-03-03T21:38:25.782992Z"
    }
   },
   "outputs": [],
   "source": [
    "plt.scatter(Y_test, y_preds)\n",
    "plt.xlabel(\"Actual Values\")\n",
    "plt.ylabel(\"Predicted Values\")\n",
    "plt.title(\"Actuals vs. Predictions\")\n",
    "plt.grid(True)\n",
    "plt.show()"
   ]
  },
  {
   "cell_type": "markdown",
   "id": "81a08f49",
   "metadata": {},
   "source": [
    "## Bagging & Gradient Boosting "
   ]
  },
  {
   "cell_type": "markdown",
   "id": "dcd36c66",
   "metadata": {},
   "source": [
    "### Bagging & Gradient Boosting All Trades"
   ]
  },
  {
   "cell_type": "code",
   "execution_count": null,
   "id": "31085056",
   "metadata": {
    "ExecuteTime": {
     "end_time": "2024-03-03T21:38:25.800873Z",
     "start_time": "2024-03-03T21:38:25.800828Z"
    }
   },
   "outputs": [],
   "source": [
    "from sklearn.ensemble import BaggingRegressor"
   ]
  },
  {
   "cell_type": "code",
   "execution_count": null,
   "id": "5dc376bc",
   "metadata": {
    "ExecuteTime": {
     "end_time": "2024-03-03T21:38:25.823972Z",
     "start_time": "2024-03-03T21:38:25.823916Z"
    }
   },
   "outputs": [],
   "source": [
    "#Indepedent Variables \n",
    "X = df[['open', 'high', 'low', 'close', '25EMA', '50EMA', '75EMA', '100EMA',\n",
    "       '125EMA', 'Spread','Trend Status_Bearish',\n",
    "       'Trend Status_Bullish', '5075 Trend Status_Bearish',\n",
    "       '5075 Trend Status_Bullish', '75100 Trend Status_Bearish',\n",
    "       '75100 Trend Status_Bullish', '100125 Trend Status_Bearish',\n",
    "       '100125 Trend Status_Bullish', 'Action_Ultimate Action',\n",
    "       'Opportunity_Optimal', 'Opportunity_Unfavorable', 'Order Type_BUY',\n",
    "       'Order Type_SELL','k_group_Oversold',\n",
    "       'k_group_Undersold', 'k_group_slightly_oversold','%K', '%D', 'ADX', 'ADXR', 'slowk', 'slowd']]\n",
    "#Dependent Variable\n",
    "Y = df['2D High in Pips'] \n",
    "\n",
    "X_train,X_test,Y_train, Y_test = train_test_split(X,Y, test_size=0.2, random_state=42)\n"
   ]
  },
  {
   "cell_type": "code",
   "execution_count": null,
   "id": "35a10e98",
   "metadata": {
    "ExecuteTime": {
     "end_time": "2024-03-03T21:38:25.837858Z",
     "start_time": "2024-03-03T21:38:25.834277Z"
    }
   },
   "outputs": [],
   "source": [
    "basic_bag_model = BaggingRegressor(\n",
    "    estimator=GradientBoostingRegressor(n_estimators=5,learning_rate= 0.1, random_state=0),\n",
    "    n_estimators=100,\n",
    "    max_samples=.8,\n",
    "    oob_score=True,\n",
    "    random_state=0\n",
    ")\n",
    "\n",
    "basic_bag_model.fit(X_train,Y_train)\n",
    "\n",
    "#fix variable name \n",
    "score = basic_bag_model.oob_score_\n",
    "\n",
    "y_preds = basic_bag_model.predict(X_test)\n",
    "\n",
    "\n",
    "#Evaluate Model Performance \n",
    "mae = mean_absolute_error(Y_test, y_preds)\n",
    "mse = mean_squared_error(Y_test, y_preds)\n",
    "rmse = mean_squared_error(Y_test, y_preds, squared=False)\n",
    "# gbr_score = gbr.score(X_test, Y_test)\n",
    "\n",
    "print('Mean', buy_trade_high_mean)\n",
    "print( 'MAE:', mae)\n",
    "print( 'MSE:', mse)\n",
    "print( 'RMSE:', rmse)\n",
    "print('Score', score)"
   ]
  },
  {
   "cell_type": "markdown",
   "id": "1c415b6b",
   "metadata": {},
   "source": [
    "### Bagging & Gradient Boosting BUY Trades\n"
   ]
  },
  {
   "cell_type": "code",
   "execution_count": null,
   "id": "45592f8d",
   "metadata": {
    "ExecuteTime": {
     "end_time": "2024-03-03T21:38:25.840254Z",
     "start_time": "2024-03-03T21:38:25.840223Z"
    }
   },
   "outputs": [],
   "source": [
    "#Seperate features and label \n",
    "#Indepedent Variables \n",
    "X = buy_df[['open', 'high', 'low', 'close', '25EMA', '50EMA', '75EMA', '100EMA',\n",
    "       '125EMA', 'Spread','Trend Status_Bearish',\n",
    "       'Trend Status_Bullish', '5075 Trend Status_Bearish',\n",
    "       '5075 Trend Status_Bullish', '75100 Trend Status_Bearish',\n",
    "       '75100 Trend Status_Bullish', '100125 Trend Status_Bearish',\n",
    "       '100125 Trend Status_Bullish', 'Action_Ultimate Action',\n",
    "       'Opportunity_Optimal', 'Opportunity_Unfavorable','k_group_Oversold',\n",
    "       'k_group_Undersold', 'k_group_slightly_oversold','%K', '%D', 'ADX', 'ADXR', 'slowk', 'slowd']]\n",
    "#Dependent Variable\n",
    "Y = buy_df['2D High in Pips'] \n",
    "\n",
    "X_train,X_test,Y_train, Y_test = train_test_split(X,Y, test_size=0.2, random_state=42)"
   ]
  },
  {
   "cell_type": "code",
   "execution_count": null,
   "id": "022864a6",
   "metadata": {},
   "outputs": [],
   "source": []
  },
  {
   "cell_type": "code",
   "execution_count": null,
   "id": "d304fe95",
   "metadata": {
    "ExecuteTime": {
     "end_time": "2024-03-03T21:38:25.847063Z",
     "start_time": "2024-03-03T21:38:25.846990Z"
    }
   },
   "outputs": [],
   "source": [
    "basic_bag_model = BaggingRegressor(\n",
    "    estimator=GradientBoostingRegressor(n_estimators=100,learning_rate= 0.1, random_state=0),\n",
    "    n_estimators=100,\n",
    "    max_samples=.8,\n",
    "    oob_score=True,\n",
    "    random_state=0\n",
    ")\n",
    "\n",
    "basic_bag_model.fit(X_train,Y_train)\n",
    "\n",
    "#fix variable name \n",
    "score = basic_bag_model.oob_score_\n",
    "\n",
    "y_preds = basic_bag_model.predict(X_test)\n",
    "\n",
    "\n",
    "#Evaluate Model Performance \n",
    "mae = mean_absolute_error(Y_test, y_preds)\n",
    "mse = mean_squared_error(Y_test, y_preds)\n",
    "rmse = mean_squared_error(Y_test, y_preds, squared=False)\n",
    "# gbr_score = gbr.score(X_test, Y_test)\n",
    "\n",
    "print('Mean', buy_trade_high_mean)\n",
    "print( 'MAE:', mae)\n",
    "print( 'MSE:', mse)\n",
    "print( 'RMSE:', rmse)\n",
    "print('Score', score)"
   ]
  },
  {
   "cell_type": "markdown",
   "id": "213e903d",
   "metadata": {
    "ExecuteTime": {
     "end_time": "2024-01-13T21:32:08.710193Z",
     "start_time": "2024-01-13T21:32:08.704715Z"
    }
   },
   "source": [
    "### Bagging & Gradient Boosting SELL Trades\n"
   ]
  },
  {
   "cell_type": "code",
   "execution_count": null,
   "id": "6f7eb780",
   "metadata": {
    "ExecuteTime": {
     "end_time": "2024-03-03T21:38:25.849389Z",
     "start_time": "2024-03-03T21:38:25.849355Z"
    }
   },
   "outputs": [],
   "source": [
    "#Seperate features and label \n",
    "#Indepedent Variables \n",
    "X = sell_df[['open', 'high', 'low', 'close', '25EMA', '50EMA', '75EMA', '100EMA',\n",
    "       '125EMA', 'Spread','Trend Status_Bearish',\n",
    "       'Trend Status_Bullish', '5075 Trend Status_Bearish',\n",
    "       '5075 Trend Status_Bullish', '75100 Trend Status_Bearish',\n",
    "       '75100 Trend Status_Bullish', '100125 Trend Status_Bearish',\n",
    "       '100125 Trend Status_Bullish', 'Action_Ultimate Action',\n",
    "       'Opportunity_Optimal', 'Opportunity_Unfavorable','k_group_Oversold',\n",
    "       'k_group_Undersold', 'k_group_slightly_oversold','%K', '%D', 'ADX', 'ADXR', 'slowk', 'slowd']]\n",
    "#Dependent Variable\n",
    "Y = sell_df['2D High in Pips'] \n",
    "\n",
    "X_train,X_test,Y_train, Y_test = train_test_split(X,Y, test_size=0.3, random_state=42)"
   ]
  },
  {
   "cell_type": "code",
   "execution_count": null,
   "id": "a17db715",
   "metadata": {
    "ExecuteTime": {
     "end_time": "2024-03-03T21:38:25.865627Z",
     "start_time": "2024-03-03T21:38:25.865402Z"
    }
   },
   "outputs": [],
   "source": [
    "basic_bag_model = BaggingRegressor(\n",
    "    estimator=GradientBoostingRegressor(n_estimators=100,learning_rate= 0.2, random_state=0),\n",
    "    n_estimators=100,\n",
    "    max_samples=.8,\n",
    "    oob_score=True,\n",
    "    random_state=0\n",
    ")\n",
    "\n",
    "basic_bag_model.fit(X_train,Y_train)\n",
    "\n",
    "#fix variable name \n",
    "score = basic_bag_model.oob_score_\n",
    "\n",
    "y_preds = basic_bag_model.predict(X_test)\n",
    "\n",
    "\n",
    "#Evaluate Model Performance \n",
    "mae = mean_absolute_error(Y_test, y_preds)\n",
    "mse = mean_squared_error(Y_test, y_preds)\n",
    "rmse = mean_squared_error(Y_test, y_preds, squared=False)\n",
    "# gbr_score = gbr.score(X_test, Y_test)\n",
    "\n",
    "print('Mean', sell_trade_high_mean)\n",
    "print( 'MAE:', mae)\n",
    "print( 'MSE:', mse)\n",
    "print( 'RMSE:', rmse)\n",
    "print('Score', score)"
   ]
  },
  {
   "cell_type": "code",
   "execution_count": null,
   "id": "13e3a246",
   "metadata": {},
   "outputs": [],
   "source": []
  }
 ],
 "metadata": {
  "kernelspec": {
   "display_name": "base_jupyter",
   "language": "python",
   "name": "base_jupyter"
  },
  "language_info": {
   "codemirror_mode": {
    "name": "ipython",
    "version": 3
   },
   "file_extension": ".py",
   "mimetype": "text/x-python",
   "name": "python",
   "nbconvert_exporter": "python",
   "pygments_lexer": "ipython3",
   "version": "3.9.2"
  }
 },
 "nbformat": 4,
 "nbformat_minor": 5
}
