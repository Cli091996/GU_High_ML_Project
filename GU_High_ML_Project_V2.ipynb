{
 "cells": [
  {
   "cell_type": "markdown",
   "id": "5dddbc2c",
   "metadata": {},
   "source": [
    "## Import Libraries \n"
   ]
  },
  {
   "cell_type": "code",
   "execution_count": 1,
   "id": "ae270712",
   "metadata": {
    "ExecuteTime": {
     "end_time": "2024-03-27T05:21:51.625301Z",
     "start_time": "2024-03-27T05:21:47.724149Z"
    }
   },
   "outputs": [
    {
     "data": {
      "text/html": [
       "<style>.container { width:100% !important; }</style>"
      ],
      "text/plain": [
       "<IPython.core.display.HTML object>"
      ]
     },
     "metadata": {},
     "output_type": "display_data"
    }
   ],
   "source": [
    "import pandas as pd\n",
    "import matplotlib.pyplot as plt\n",
    "# import plotly.express as px\n",
    "# from plotly.subplots import make_subplots\n",
    "from Standardization import metric_normalizer\n",
    "from sklearn.model_selection import train_test_split\n",
    "from IPython.display import display, HTML\n",
    "pd.set_option('display.max_columns', None)\n",
    "display(HTML(\"<style>.container { width:100% !important; }</style>\"))\n",
    "\n",
    "import numpy as np\n",
    "from sklearn.compose import make_column_transformer\n",
    "from sklearn.preprocessing import OneHotEncoder, OrdinalEncoder\n",
    "from sklearn.preprocessing import StandardScaler, Normalizer, MinMaxScaler\n",
    "from sklearn.decomposition import PCA \n",
    "from sklearn.pipeline import Pipeline \n",
    "\n",
    "\n",
    "\n",
    "\n",
    "from sklearn.metrics import mean_absolute_error\n",
    "\n",
    "\n",
    "from sklearn.feature_selection import SelectKBest, chi2\n",
    "from sklearn.linear_model import LinearRegression\n",
    "from sklearn.tree import DecisionTreeRegressor\n",
    "from sklearn.ensemble import RandomForestRegressor\n",
    "from sklearn.ensemble import GradientBoostingRegressor\n",
    "from sklearn.neighbors import KNeighborsRegressor\n",
    "\n",
    "\n",
    "import ipywidgets as wid\n",
    "import random\n",
    "\n",
    "import numpy as np\n",
    "from IPython.display import display\n"
   ]
  },
  {
   "cell_type": "code",
   "execution_count": 2,
   "id": "5d49aa92",
   "metadata": {
    "ExecuteTime": {
     "end_time": "2024-03-27T05:21:51.637110Z",
     "start_time": "2024-03-27T05:21:51.629068Z"
    }
   },
   "outputs": [
    {
     "name": "stdout",
     "output_type": "stream",
     "text": [
      "1.4.2\n"
     ]
    }
   ],
   "source": [
    "import sklearn\n",
    "print(sklearn.__version__)"
   ]
  },
  {
   "cell_type": "markdown",
   "id": "72c874d1",
   "metadata": {
    "ExecuteTime": {
     "end_time": "2024-01-07T19:06:16.248336Z",
     "start_time": "2024-01-07T19:06:16.234142Z"
    }
   },
   "source": [
    "## Read Data \n",
    "\n",
    "\n"
   ]
  },
  {
   "cell_type": "code",
   "execution_count": 3,
   "id": "e51819d7",
   "metadata": {
    "ExecuteTime": {
     "end_time": "2024-03-27T05:21:51.719425Z",
     "start_time": "2024-03-27T05:21:51.643350Z"
    }
   },
   "outputs": [],
   "source": [
    "df = pd.read_csv('/home/clivence/base_jupyter/Datadump/Model_Data/GU_Model_Data_V1_16k')\n",
    "\n",
    "# df.head(50)"
   ]
  },
  {
   "cell_type": "markdown",
   "id": "288f58fa",
   "metadata": {},
   "source": [
    "## Data Cleaning "
   ]
  },
  {
   "cell_type": "code",
   "execution_count": 4,
   "id": "05618576",
   "metadata": {
    "ExecuteTime": {
     "end_time": "2024-03-27T05:21:52.010603Z",
     "start_time": "2024-03-27T05:21:51.724021Z"
    }
   },
   "outputs": [],
   "source": [
    "#Filter out negative values - evetually need to research why this is happening \n",
    "df  = df[(df['2D Low in Pips'] > 0) | (df['2D Low in Pips'] > 0)] \n",
    "\n",
    "df = df[df['Action'] == 'Ultimate Action']\n",
    "df = df[df['Ticker'] == 'GBP/USD']\n",
    "\n",
    "df.fillna(0, inplace=True)\n",
    "\n",
    "#Standardize the dataset\n",
    "df =  metric_normalizer(df)\n",
    "\n",
    "#Set date to datetime \n",
    "df['Date'] = pd.to_datetime(df['Date'])\n",
    "\n",
    "#Create Date Derived Features \n",
    "df['Trade_Week_Year'] = df['Date'].dt.isocalendar().week\n",
    "df['Trade_Week_Month'] = (df['Date'].dt.day -1)//7+1\n",
    "df['Trade_Day_Week'] = df['Date'].dt.weekday + 1\n",
    "\n",
    "#Create a new feature to identify the status of the previous trade \n",
    "df['Previous_Trade_Status'] = df['2D Trade Status'].shift(fill_value=0)"
   ]
  },
  {
   "cell_type": "markdown",
   "id": "5fcd7a0a",
   "metadata": {
    "heading_collapsed": true
   },
   "source": [
    "### Unwanted for now "
   ]
  },
  {
   "cell_type": "markdown",
   "id": "99688193",
   "metadata": {},
   "source": [
    "## Preprocessing \n"
   ]
  },
  {
   "cell_type": "code",
   "execution_count": 21,
   "id": "89ec68b0",
   "metadata": {
    "ExecuteTime": {
     "end_time": "2024-03-27T05:21:52.581636Z",
     "start_time": "2024-03-27T05:21:52.060747Z"
    }
   },
   "outputs": [
    {
     "name": "stdout",
     "output_type": "stream",
     "text": [
      "Training Set: (384, 92)        \n",
      "Test Set: (99, 92)\n"
     ]
    },
    {
     "data": {
      "text/html": [
       "<style>#sk-container-id-2 {\n",
       "  /* Definition of color scheme common for light and dark mode */\n",
       "  --sklearn-color-text: black;\n",
       "  --sklearn-color-line: gray;\n",
       "  /* Definition of color scheme for unfitted estimators */\n",
       "  --sklearn-color-unfitted-level-0: #fff5e6;\n",
       "  --sklearn-color-unfitted-level-1: #f6e4d2;\n",
       "  --sklearn-color-unfitted-level-2: #ffe0b3;\n",
       "  --sklearn-color-unfitted-level-3: chocolate;\n",
       "  /* Definition of color scheme for fitted estimators */\n",
       "  --sklearn-color-fitted-level-0: #f0f8ff;\n",
       "  --sklearn-color-fitted-level-1: #d4ebff;\n",
       "  --sklearn-color-fitted-level-2: #b3dbfd;\n",
       "  --sklearn-color-fitted-level-3: cornflowerblue;\n",
       "\n",
       "  /* Specific color for light theme */\n",
       "  --sklearn-color-text-on-default-background: var(--sg-text-color, var(--theme-code-foreground, var(--jp-content-font-color1, black)));\n",
       "  --sklearn-color-background: var(--sg-background-color, var(--theme-background, var(--jp-layout-color0, white)));\n",
       "  --sklearn-color-border-box: var(--sg-text-color, var(--theme-code-foreground, var(--jp-content-font-color1, black)));\n",
       "  --sklearn-color-icon: #696969;\n",
       "\n",
       "  @media (prefers-color-scheme: dark) {\n",
       "    /* Redefinition of color scheme for dark theme */\n",
       "    --sklearn-color-text-on-default-background: var(--sg-text-color, var(--theme-code-foreground, var(--jp-content-font-color1, white)));\n",
       "    --sklearn-color-background: var(--sg-background-color, var(--theme-background, var(--jp-layout-color0, #111)));\n",
       "    --sklearn-color-border-box: var(--sg-text-color, var(--theme-code-foreground, var(--jp-content-font-color1, white)));\n",
       "    --sklearn-color-icon: #878787;\n",
       "  }\n",
       "}\n",
       "\n",
       "#sk-container-id-2 {\n",
       "  color: var(--sklearn-color-text);\n",
       "}\n",
       "\n",
       "#sk-container-id-2 pre {\n",
       "  padding: 0;\n",
       "}\n",
       "\n",
       "#sk-container-id-2 input.sk-hidden--visually {\n",
       "  border: 0;\n",
       "  clip: rect(1px 1px 1px 1px);\n",
       "  clip: rect(1px, 1px, 1px, 1px);\n",
       "  height: 1px;\n",
       "  margin: -1px;\n",
       "  overflow: hidden;\n",
       "  padding: 0;\n",
       "  position: absolute;\n",
       "  width: 1px;\n",
       "}\n",
       "\n",
       "#sk-container-id-2 div.sk-dashed-wrapped {\n",
       "  border: 1px dashed var(--sklearn-color-line);\n",
       "  margin: 0 0.4em 0.5em 0.4em;\n",
       "  box-sizing: border-box;\n",
       "  padding-bottom: 0.4em;\n",
       "  background-color: var(--sklearn-color-background);\n",
       "}\n",
       "\n",
       "#sk-container-id-2 div.sk-container {\n",
       "  /* jupyter's `normalize.less` sets `[hidden] { display: none; }`\n",
       "     but bootstrap.min.css set `[hidden] { display: none !important; }`\n",
       "     so we also need the `!important` here to be able to override the\n",
       "     default hidden behavior on the sphinx rendered scikit-learn.org.\n",
       "     See: https://github.com/scikit-learn/scikit-learn/issues/21755 */\n",
       "  display: inline-block !important;\n",
       "  position: relative;\n",
       "}\n",
       "\n",
       "#sk-container-id-2 div.sk-text-repr-fallback {\n",
       "  display: none;\n",
       "}\n",
       "\n",
       "div.sk-parallel-item,\n",
       "div.sk-serial,\n",
       "div.sk-item {\n",
       "  /* draw centered vertical line to link estimators */\n",
       "  background-image: linear-gradient(var(--sklearn-color-text-on-default-background), var(--sklearn-color-text-on-default-background));\n",
       "  background-size: 2px 100%;\n",
       "  background-repeat: no-repeat;\n",
       "  background-position: center center;\n",
       "}\n",
       "\n",
       "/* Parallel-specific style estimator block */\n",
       "\n",
       "#sk-container-id-2 div.sk-parallel-item::after {\n",
       "  content: \"\";\n",
       "  width: 100%;\n",
       "  border-bottom: 2px solid var(--sklearn-color-text-on-default-background);\n",
       "  flex-grow: 1;\n",
       "}\n",
       "\n",
       "#sk-container-id-2 div.sk-parallel {\n",
       "  display: flex;\n",
       "  align-items: stretch;\n",
       "  justify-content: center;\n",
       "  background-color: var(--sklearn-color-background);\n",
       "  position: relative;\n",
       "}\n",
       "\n",
       "#sk-container-id-2 div.sk-parallel-item {\n",
       "  display: flex;\n",
       "  flex-direction: column;\n",
       "}\n",
       "\n",
       "#sk-container-id-2 div.sk-parallel-item:first-child::after {\n",
       "  align-self: flex-end;\n",
       "  width: 50%;\n",
       "}\n",
       "\n",
       "#sk-container-id-2 div.sk-parallel-item:last-child::after {\n",
       "  align-self: flex-start;\n",
       "  width: 50%;\n",
       "}\n",
       "\n",
       "#sk-container-id-2 div.sk-parallel-item:only-child::after {\n",
       "  width: 0;\n",
       "}\n",
       "\n",
       "/* Serial-specific style estimator block */\n",
       "\n",
       "#sk-container-id-2 div.sk-serial {\n",
       "  display: flex;\n",
       "  flex-direction: column;\n",
       "  align-items: center;\n",
       "  background-color: var(--sklearn-color-background);\n",
       "  padding-right: 1em;\n",
       "  padding-left: 1em;\n",
       "}\n",
       "\n",
       "\n",
       "/* Toggleable style: style used for estimator/Pipeline/ColumnTransformer box that is\n",
       "clickable and can be expanded/collapsed.\n",
       "- Pipeline and ColumnTransformer use this feature and define the default style\n",
       "- Estimators will overwrite some part of the style using the `sk-estimator` class\n",
       "*/\n",
       "\n",
       "/* Pipeline and ColumnTransformer style (default) */\n",
       "\n",
       "#sk-container-id-2 div.sk-toggleable {\n",
       "  /* Default theme specific background. It is overwritten whether we have a\n",
       "  specific estimator or a Pipeline/ColumnTransformer */\n",
       "  background-color: var(--sklearn-color-background);\n",
       "}\n",
       "\n",
       "/* Toggleable label */\n",
       "#sk-container-id-2 label.sk-toggleable__label {\n",
       "  cursor: pointer;\n",
       "  display: block;\n",
       "  width: 100%;\n",
       "  margin-bottom: 0;\n",
       "  padding: 0.5em;\n",
       "  box-sizing: border-box;\n",
       "  text-align: center;\n",
       "}\n",
       "\n",
       "#sk-container-id-2 label.sk-toggleable__label-arrow:before {\n",
       "  /* Arrow on the left of the label */\n",
       "  content: \"▸\";\n",
       "  float: left;\n",
       "  margin-right: 0.25em;\n",
       "  color: var(--sklearn-color-icon);\n",
       "}\n",
       "\n",
       "#sk-container-id-2 label.sk-toggleable__label-arrow:hover:before {\n",
       "  color: var(--sklearn-color-text);\n",
       "}\n",
       "\n",
       "/* Toggleable content - dropdown */\n",
       "\n",
       "#sk-container-id-2 div.sk-toggleable__content {\n",
       "  max-height: 0;\n",
       "  max-width: 0;\n",
       "  overflow: hidden;\n",
       "  text-align: left;\n",
       "  /* unfitted */\n",
       "  background-color: var(--sklearn-color-unfitted-level-0);\n",
       "}\n",
       "\n",
       "#sk-container-id-2 div.sk-toggleable__content.fitted {\n",
       "  /* fitted */\n",
       "  background-color: var(--sklearn-color-fitted-level-0);\n",
       "}\n",
       "\n",
       "#sk-container-id-2 div.sk-toggleable__content pre {\n",
       "  margin: 0.2em;\n",
       "  border-radius: 0.25em;\n",
       "  color: var(--sklearn-color-text);\n",
       "  /* unfitted */\n",
       "  background-color: var(--sklearn-color-unfitted-level-0);\n",
       "}\n",
       "\n",
       "#sk-container-id-2 div.sk-toggleable__content.fitted pre {\n",
       "  /* unfitted */\n",
       "  background-color: var(--sklearn-color-fitted-level-0);\n",
       "}\n",
       "\n",
       "#sk-container-id-2 input.sk-toggleable__control:checked~div.sk-toggleable__content {\n",
       "  /* Expand drop-down */\n",
       "  max-height: 200px;\n",
       "  max-width: 100%;\n",
       "  overflow: auto;\n",
       "}\n",
       "\n",
       "#sk-container-id-2 input.sk-toggleable__control:checked~label.sk-toggleable__label-arrow:before {\n",
       "  content: \"▾\";\n",
       "}\n",
       "\n",
       "/* Pipeline/ColumnTransformer-specific style */\n",
       "\n",
       "#sk-container-id-2 div.sk-label input.sk-toggleable__control:checked~label.sk-toggleable__label {\n",
       "  color: var(--sklearn-color-text);\n",
       "  background-color: var(--sklearn-color-unfitted-level-2);\n",
       "}\n",
       "\n",
       "#sk-container-id-2 div.sk-label.fitted input.sk-toggleable__control:checked~label.sk-toggleable__label {\n",
       "  background-color: var(--sklearn-color-fitted-level-2);\n",
       "}\n",
       "\n",
       "/* Estimator-specific style */\n",
       "\n",
       "/* Colorize estimator box */\n",
       "#sk-container-id-2 div.sk-estimator input.sk-toggleable__control:checked~label.sk-toggleable__label {\n",
       "  /* unfitted */\n",
       "  background-color: var(--sklearn-color-unfitted-level-2);\n",
       "}\n",
       "\n",
       "#sk-container-id-2 div.sk-estimator.fitted input.sk-toggleable__control:checked~label.sk-toggleable__label {\n",
       "  /* fitted */\n",
       "  background-color: var(--sklearn-color-fitted-level-2);\n",
       "}\n",
       "\n",
       "#sk-container-id-2 div.sk-label label.sk-toggleable__label,\n",
       "#sk-container-id-2 div.sk-label label {\n",
       "  /* The background is the default theme color */\n",
       "  color: var(--sklearn-color-text-on-default-background);\n",
       "}\n",
       "\n",
       "/* On hover, darken the color of the background */\n",
       "#sk-container-id-2 div.sk-label:hover label.sk-toggleable__label {\n",
       "  color: var(--sklearn-color-text);\n",
       "  background-color: var(--sklearn-color-unfitted-level-2);\n",
       "}\n",
       "\n",
       "/* Label box, darken color on hover, fitted */\n",
       "#sk-container-id-2 div.sk-label.fitted:hover label.sk-toggleable__label.fitted {\n",
       "  color: var(--sklearn-color-text);\n",
       "  background-color: var(--sklearn-color-fitted-level-2);\n",
       "}\n",
       "\n",
       "/* Estimator label */\n",
       "\n",
       "#sk-container-id-2 div.sk-label label {\n",
       "  font-family: monospace;\n",
       "  font-weight: bold;\n",
       "  display: inline-block;\n",
       "  line-height: 1.2em;\n",
       "}\n",
       "\n",
       "#sk-container-id-2 div.sk-label-container {\n",
       "  text-align: center;\n",
       "}\n",
       "\n",
       "/* Estimator-specific */\n",
       "#sk-container-id-2 div.sk-estimator {\n",
       "  font-family: monospace;\n",
       "  border: 1px dotted var(--sklearn-color-border-box);\n",
       "  border-radius: 0.25em;\n",
       "  box-sizing: border-box;\n",
       "  margin-bottom: 0.5em;\n",
       "  /* unfitted */\n",
       "  background-color: var(--sklearn-color-unfitted-level-0);\n",
       "}\n",
       "\n",
       "#sk-container-id-2 div.sk-estimator.fitted {\n",
       "  /* fitted */\n",
       "  background-color: var(--sklearn-color-fitted-level-0);\n",
       "}\n",
       "\n",
       "/* on hover */\n",
       "#sk-container-id-2 div.sk-estimator:hover {\n",
       "  /* unfitted */\n",
       "  background-color: var(--sklearn-color-unfitted-level-2);\n",
       "}\n",
       "\n",
       "#sk-container-id-2 div.sk-estimator.fitted:hover {\n",
       "  /* fitted */\n",
       "  background-color: var(--sklearn-color-fitted-level-2);\n",
       "}\n",
       "\n",
       "/* Specification for estimator info (e.g. \"i\" and \"?\") */\n",
       "\n",
       "/* Common style for \"i\" and \"?\" */\n",
       "\n",
       ".sk-estimator-doc-link,\n",
       "a:link.sk-estimator-doc-link,\n",
       "a:visited.sk-estimator-doc-link {\n",
       "  float: right;\n",
       "  font-size: smaller;\n",
       "  line-height: 1em;\n",
       "  font-family: monospace;\n",
       "  background-color: var(--sklearn-color-background);\n",
       "  border-radius: 1em;\n",
       "  height: 1em;\n",
       "  width: 1em;\n",
       "  text-decoration: none !important;\n",
       "  margin-left: 1ex;\n",
       "  /* unfitted */\n",
       "  border: var(--sklearn-color-unfitted-level-1) 1pt solid;\n",
       "  color: var(--sklearn-color-unfitted-level-1);\n",
       "}\n",
       "\n",
       ".sk-estimator-doc-link.fitted,\n",
       "a:link.sk-estimator-doc-link.fitted,\n",
       "a:visited.sk-estimator-doc-link.fitted {\n",
       "  /* fitted */\n",
       "  border: var(--sklearn-color-fitted-level-1) 1pt solid;\n",
       "  color: var(--sklearn-color-fitted-level-1);\n",
       "}\n",
       "\n",
       "/* On hover */\n",
       "div.sk-estimator:hover .sk-estimator-doc-link:hover,\n",
       ".sk-estimator-doc-link:hover,\n",
       "div.sk-label-container:hover .sk-estimator-doc-link:hover,\n",
       ".sk-estimator-doc-link:hover {\n",
       "  /* unfitted */\n",
       "  background-color: var(--sklearn-color-unfitted-level-3);\n",
       "  color: var(--sklearn-color-background);\n",
       "  text-decoration: none;\n",
       "}\n",
       "\n",
       "div.sk-estimator.fitted:hover .sk-estimator-doc-link.fitted:hover,\n",
       ".sk-estimator-doc-link.fitted:hover,\n",
       "div.sk-label-container:hover .sk-estimator-doc-link.fitted:hover,\n",
       ".sk-estimator-doc-link.fitted:hover {\n",
       "  /* fitted */\n",
       "  background-color: var(--sklearn-color-fitted-level-3);\n",
       "  color: var(--sklearn-color-background);\n",
       "  text-decoration: none;\n",
       "}\n",
       "\n",
       "/* Span, style for the box shown on hovering the info icon */\n",
       ".sk-estimator-doc-link span {\n",
       "  display: none;\n",
       "  z-index: 9999;\n",
       "  position: relative;\n",
       "  font-weight: normal;\n",
       "  right: .2ex;\n",
       "  padding: .5ex;\n",
       "  margin: .5ex;\n",
       "  width: min-content;\n",
       "  min-width: 20ex;\n",
       "  max-width: 50ex;\n",
       "  color: var(--sklearn-color-text);\n",
       "  box-shadow: 2pt 2pt 4pt #999;\n",
       "  /* unfitted */\n",
       "  background: var(--sklearn-color-unfitted-level-0);\n",
       "  border: .5pt solid var(--sklearn-color-unfitted-level-3);\n",
       "}\n",
       "\n",
       ".sk-estimator-doc-link.fitted span {\n",
       "  /* fitted */\n",
       "  background: var(--sklearn-color-fitted-level-0);\n",
       "  border: var(--sklearn-color-fitted-level-3);\n",
       "}\n",
       "\n",
       ".sk-estimator-doc-link:hover span {\n",
       "  display: block;\n",
       "}\n",
       "\n",
       "/* \"?\"-specific style due to the `<a>` HTML tag */\n",
       "\n",
       "#sk-container-id-2 a.estimator_doc_link {\n",
       "  float: right;\n",
       "  font-size: 1rem;\n",
       "  line-height: 1em;\n",
       "  font-family: monospace;\n",
       "  background-color: var(--sklearn-color-background);\n",
       "  border-radius: 1rem;\n",
       "  height: 1rem;\n",
       "  width: 1rem;\n",
       "  text-decoration: none;\n",
       "  /* unfitted */\n",
       "  color: var(--sklearn-color-unfitted-level-1);\n",
       "  border: var(--sklearn-color-unfitted-level-1) 1pt solid;\n",
       "}\n",
       "\n",
       "#sk-container-id-2 a.estimator_doc_link.fitted {\n",
       "  /* fitted */\n",
       "  border: var(--sklearn-color-fitted-level-1) 1pt solid;\n",
       "  color: var(--sklearn-color-fitted-level-1);\n",
       "}\n",
       "\n",
       "/* On hover */\n",
       "#sk-container-id-2 a.estimator_doc_link:hover {\n",
       "  /* unfitted */\n",
       "  background-color: var(--sklearn-color-unfitted-level-3);\n",
       "  color: var(--sklearn-color-background);\n",
       "  text-decoration: none;\n",
       "}\n",
       "\n",
       "#sk-container-id-2 a.estimator_doc_link.fitted:hover {\n",
       "  /* fitted */\n",
       "  background-color: var(--sklearn-color-fitted-level-3);\n",
       "}\n",
       "</style><div id=\"sk-container-id-2\" class=\"sk-top-container\"><div class=\"sk-text-repr-fallback\"><pre>ColumnTransformer(remainder=&#x27;passthrough&#x27;,\n",
       "                  transformers=[(&#x27;standardscaler&#x27;, StandardScaler(),\n",
       "                                 [&#x27;volume&#x27;]),\n",
       "                                (&#x27;onehotencoder&#x27;,\n",
       "                                 OneHotEncoder(drop=&#x27;first&#x27;,\n",
       "                                               sparse_output=False),\n",
       "                                 [&#x27;Order Type&#x27;]),\n",
       "                                (&#x27;ordinalencoder&#x27;, OrdinalEncoder(),\n",
       "                                 [&#x27;Trend Status&#x27;, &#x27;5075 Trend Status&#x27;,\n",
       "                                  &#x27;75100 Trend Status&#x27;, &#x27;100125 Trend Status&#x27;,\n",
       "                                  &#x27;k_group&#x27;])])</pre><b>In a Jupyter environment, please rerun this cell to show the HTML representation or trust the notebook. <br />On GitHub, the HTML representation is unable to render, please try loading this page with nbviewer.org.</b></div><div class=\"sk-container\" hidden><div class=\"sk-item sk-dashed-wrapped\"><div class=\"sk-label-container\"><div class=\"sk-label  sk-toggleable\"><input class=\"sk-toggleable__control sk-hidden--visually\" id=\"sk-estimator-id-10\" type=\"checkbox\" ><label for=\"sk-estimator-id-10\" class=\"sk-toggleable__label  sk-toggleable__label-arrow \">&nbsp;&nbsp;ColumnTransformer<a class=\"sk-estimator-doc-link \" rel=\"noreferrer\" target=\"_blank\" href=\"https://scikit-learn.org/1.4/modules/generated/sklearn.compose.ColumnTransformer.html\">?<span>Documentation for ColumnTransformer</span></a><span class=\"sk-estimator-doc-link \">i<span>Not fitted</span></span></label><div class=\"sk-toggleable__content \"><pre>ColumnTransformer(remainder=&#x27;passthrough&#x27;,\n",
       "                  transformers=[(&#x27;standardscaler&#x27;, StandardScaler(),\n",
       "                                 [&#x27;volume&#x27;]),\n",
       "                                (&#x27;onehotencoder&#x27;,\n",
       "                                 OneHotEncoder(drop=&#x27;first&#x27;,\n",
       "                                               sparse_output=False),\n",
       "                                 [&#x27;Order Type&#x27;]),\n",
       "                                (&#x27;ordinalencoder&#x27;, OrdinalEncoder(),\n",
       "                                 [&#x27;Trend Status&#x27;, &#x27;5075 Trend Status&#x27;,\n",
       "                                  &#x27;75100 Trend Status&#x27;, &#x27;100125 Trend Status&#x27;,\n",
       "                                  &#x27;k_group&#x27;])])</pre></div> </div></div><div class=\"sk-parallel\"><div class=\"sk-parallel-item\"><div class=\"sk-item\"><div class=\"sk-label-container\"><div class=\"sk-label  sk-toggleable\"><input class=\"sk-toggleable__control sk-hidden--visually\" id=\"sk-estimator-id-11\" type=\"checkbox\" ><label for=\"sk-estimator-id-11\" class=\"sk-toggleable__label  sk-toggleable__label-arrow \">standardscaler</label><div class=\"sk-toggleable__content \"><pre>[&#x27;volume&#x27;]</pre></div> </div></div><div class=\"sk-serial\"><div class=\"sk-item\"><div class=\"sk-estimator  sk-toggleable\"><input class=\"sk-toggleable__control sk-hidden--visually\" id=\"sk-estimator-id-12\" type=\"checkbox\" ><label for=\"sk-estimator-id-12\" class=\"sk-toggleable__label  sk-toggleable__label-arrow \">&nbsp;StandardScaler<a class=\"sk-estimator-doc-link \" rel=\"noreferrer\" target=\"_blank\" href=\"https://scikit-learn.org/1.4/modules/generated/sklearn.preprocessing.StandardScaler.html\">?<span>Documentation for StandardScaler</span></a></label><div class=\"sk-toggleable__content \"><pre>StandardScaler()</pre></div> </div></div></div></div></div><div class=\"sk-parallel-item\"><div class=\"sk-item\"><div class=\"sk-label-container\"><div class=\"sk-label  sk-toggleable\"><input class=\"sk-toggleable__control sk-hidden--visually\" id=\"sk-estimator-id-13\" type=\"checkbox\" ><label for=\"sk-estimator-id-13\" class=\"sk-toggleable__label  sk-toggleable__label-arrow \">onehotencoder</label><div class=\"sk-toggleable__content \"><pre>[&#x27;Order Type&#x27;]</pre></div> </div></div><div class=\"sk-serial\"><div class=\"sk-item\"><div class=\"sk-estimator  sk-toggleable\"><input class=\"sk-toggleable__control sk-hidden--visually\" id=\"sk-estimator-id-14\" type=\"checkbox\" ><label for=\"sk-estimator-id-14\" class=\"sk-toggleable__label  sk-toggleable__label-arrow \">&nbsp;OneHotEncoder<a class=\"sk-estimator-doc-link \" rel=\"noreferrer\" target=\"_blank\" href=\"https://scikit-learn.org/1.4/modules/generated/sklearn.preprocessing.OneHotEncoder.html\">?<span>Documentation for OneHotEncoder</span></a></label><div class=\"sk-toggleable__content \"><pre>OneHotEncoder(drop=&#x27;first&#x27;, sparse_output=False)</pre></div> </div></div></div></div></div><div class=\"sk-parallel-item\"><div class=\"sk-item\"><div class=\"sk-label-container\"><div class=\"sk-label  sk-toggleable\"><input class=\"sk-toggleable__control sk-hidden--visually\" id=\"sk-estimator-id-15\" type=\"checkbox\" ><label for=\"sk-estimator-id-15\" class=\"sk-toggleable__label  sk-toggleable__label-arrow \">ordinalencoder</label><div class=\"sk-toggleable__content \"><pre>[&#x27;Trend Status&#x27;, &#x27;5075 Trend Status&#x27;, &#x27;75100 Trend Status&#x27;, &#x27;100125 Trend Status&#x27;, &#x27;k_group&#x27;]</pre></div> </div></div><div class=\"sk-serial\"><div class=\"sk-item\"><div class=\"sk-estimator  sk-toggleable\"><input class=\"sk-toggleable__control sk-hidden--visually\" id=\"sk-estimator-id-16\" type=\"checkbox\" ><label for=\"sk-estimator-id-16\" class=\"sk-toggleable__label  sk-toggleable__label-arrow \">&nbsp;OrdinalEncoder<a class=\"sk-estimator-doc-link \" rel=\"noreferrer\" target=\"_blank\" href=\"https://scikit-learn.org/1.4/modules/generated/sklearn.preprocessing.OrdinalEncoder.html\">?<span>Documentation for OrdinalEncoder</span></a></label><div class=\"sk-toggleable__content \"><pre>OrdinalEncoder()</pre></div> </div></div></div></div></div><div class=\"sk-parallel-item\"><div class=\"sk-item\"><div class=\"sk-label-container\"><div class=\"sk-label  sk-toggleable\"><input class=\"sk-toggleable__control sk-hidden--visually\" id=\"sk-estimator-id-17\" type=\"checkbox\" ><label for=\"sk-estimator-id-17\" class=\"sk-toggleable__label  sk-toggleable__label-arrow \">remainder</label><div class=\"sk-toggleable__content \"><pre></pre></div> </div></div><div class=\"sk-serial\"><div class=\"sk-item\"><div class=\"sk-estimator  sk-toggleable\"><input class=\"sk-toggleable__control sk-hidden--visually\" id=\"sk-estimator-id-18\" type=\"checkbox\" ><label for=\"sk-estimator-id-18\" class=\"sk-toggleable__label  sk-toggleable__label-arrow \">passthrough</label><div class=\"sk-toggleable__content \"><pre>passthrough</pre></div> </div></div></div></div></div></div></div></div></div>"
      ],
      "text/plain": [
       "ColumnTransformer(remainder='passthrough',\n",
       "                  transformers=[('standardscaler', StandardScaler(),\n",
       "                                 ['volume']),\n",
       "                                ('onehotencoder',\n",
       "                                 OneHotEncoder(drop='first',\n",
       "                                               sparse_output=False),\n",
       "                                 ['Order Type']),\n",
       "                                ('ordinalencoder', OrdinalEncoder(),\n",
       "                                 ['Trend Status', '5075 Trend Status',\n",
       "                                  '75100 Trend Status', '100125 Trend Status',\n",
       "                                  'k_group'])])"
      ]
     },
     "execution_count": 21,
     "metadata": {},
     "output_type": "execute_result"
    }
   ],
   "source": [
    "#Subset Selection\n",
    "X= df[['open', 'high', 'low', 'close', 'volume','Trade_Week_Year','Trade_Week_Month','Trade_Day_Week',\n",
    "       'Day','Month','25EMA', '50EMA', '75EMA','100EMA', '125EMA',\n",
    "        'Trend Status', 'Spread','5075 Trend Status', '75100 Trend Status',\n",
    "       '100125 Trend Status', 'Order Type', \n",
    "        '%K', '%D', 'k_group', 'ADX', 'ADXR', 'slowk','slowd','CDL2CROWS', 'CDL3BLACKCROWS',\n",
    "        'CDL3INSIDE', 'CDL3LINESTRIKE', 'CDL3OUTSIDE',\n",
    "        'CDL3STARSINSOUTH', 'CDL3WHITESOLDIERS', 'CDLABANDONEDBABY', 'CDLADVANCEBLOCK',\n",
    "        'CDLBELTHOLD', 'CDLBREAKAWAY', 'CDLCLOSINGMARUBOZU', 'CDLCONCEALBABYSWALL',\n",
    "        'CDLCOUNTERATTACK', 'CDLDARKCLOUDCOVER', 'CDLDOJI', 'CDLDOJISTAR', 'CDLDRAGONFLYDOJI',\n",
    "        'CDLENGULFING', 'CDLEVENINGDOJISTAR', 'CDLEVENINGSTAR', 'CDLGAPSIDESIDEWHITE',\n",
    "        'CDLGRAVESTONEDOJI', 'CDLHAMMER', 'CDLHANGINGMAN', 'CDLHARAMI', 'CDLHARAMICROSS',\n",
    "        'CDLHIGHWAVE', 'CDLHIKKAKE', 'CDLHIKKAKEMOD', 'CDLHOMINGPIGEON', 'CDLIDENTICAL3CROWS',\n",
    "        'CDLINNECK', 'CDLINVERTEDHAMMER', 'CDLKICKING', 'CDLKICKINGBYLENGTH', 'CDLLADDERBOTTOM',\n",
    "        'CDLLONGLEGGEDDOJI', 'CDLLONGLINE', 'CDLMARUBOZU', 'CDLMATCHINGLOW', 'CDLMATHOLD',\n",
    "        'CDLMORNINGDOJISTAR', 'CDLMORNINGSTAR', 'CDLONNECK', 'CDLPIERCING', 'CDLRICKSHAWMAN',\n",
    "        'CDLRISEFALL3METHODS', 'CDLSEPARATINGLINES', 'CDLSHOOTINGSTAR', 'CDLSHORTLINE',\n",
    "        'CDLSPINNINGTOP', 'CDLSTALLEDPATTERN', 'CDLSTICKSANDWICH', 'CDLTAKURI', 'CDLTASUKIGAP',\n",
    "        'CDLTHRUSTING', 'CDLTRISTAR', 'CDLUNIQUE3RIVER', 'CDLUPSIDEGAP2CROWS', 'CDLXSIDEGAP3METHODS',\n",
    "        'candle_bullish_score','candle_bearish_score','Previous_Trade_Status']]\n",
    "Y = df[['2D High in Pips']]\n",
    "\n",
    "\n",
    "#Create a list of columns to encode \n",
    "cat_cols_to_encode = ['Order Type']\n",
    "#Create a list of cols for ordinal encoding \n",
    "cat_cols_for_ordinal_encoding = ['Trend Status','5075 Trend Status', '75100 Trend Status',\n",
    "                    '100125 Trend Status','k_group']\n",
    "\n",
    "#Create a list of cols to scale \n",
    "num_cols_to_scale = ['volume']\n",
    "\n",
    "# #View row, cols count\n",
    "# df.shape ,  X.shape, Y.shape\n",
    "\n",
    " #Split the data into training and test set \n",
    "X_train, X_test, y_train, y_test = train_test_split( X, Y, test_size=.204, random_state=42, stratify=X['Order Type'])\n",
    "\n",
    "print(f\"Training Set: {X_train.shape}\\\n",
    "        \\nTest Set: {X_test.shape}\")\n",
    "\n",
    "#Create Column Tranformer \n",
    "Preprocessor = make_column_transformer(\n",
    "                                (StandardScaler(), num_cols_to_scale),\n",
    "                                (OneHotEncoder(drop='first',sparse_output=False),cat_cols_to_encode,{'prefix':'encoded'}),\n",
    "                                (OrdinalEncoder(), cat_cols_for_ordinal_encoding),\n",
    "                                remainder='passthrough')\n",
    "\n",
    "Preprocessor.set_output(transform='pandas')\n",
    "\n",
    "# X_train_transform = Preprocessor.fit_transform(X_train)\n",
    "\n",
    "# X_train_transform"
   ]
  },
  {
   "cell_type": "markdown",
   "id": "d577a73c",
   "metadata": {},
   "source": [
    "##  Baseline Model "
   ]
  },
  {
   "cell_type": "code",
   "execution_count": null,
   "id": "03b6e395",
   "metadata": {
    "ExecuteTime": {
     "end_time": "2024-03-27T05:21:52.614705Z",
     "start_time": "2024-03-27T05:21:52.614677Z"
    }
   },
   "outputs": [],
   "source": [
    "#Calculate the average of the label feature in the training set \n",
    "average_2d_high_pips= y_train['2D High in Pips'].mean()\n",
    "\n",
    "#Create a list of predictions for the test set using the average value as a baseline \n",
    "baseline_model_test_predictions = [average_2d_high_pips] * len(y_test)\n",
    "\n",
    "#Cacculate the the MAE between the baseline predictions and actual values in the test set \n",
    "test_set_mae = mean_absolute_error(baseline_model_test_predictions, y_test)\n",
    "\n",
    "#Convert actual values to numpy array and reshape it into a 1D array \n",
    "actual = np.array(y_test).reshape(-1)\n",
    "\n",
    "#Convert the baseline model predictions to numpy array and reshape it into a 1D array \n",
    "predicted = np.array(baseline_model_test_predictions).reshape(-1)\n",
    "\n",
    "#Extract the 'Order Type' feature from the test set to numpy array and reshape it into a 1D array \n",
    "order_type = np.array(X_test['Order Type']).reshape(-1)\n",
    "\n",
    "#Calculate the error(residuals) between the actuals and the base model predictions \n",
    "errors = actual - predicted\n",
    "\n",
    "print(f'Base Model Prediction: {average_2d_high_pips} \\nBase Model MAE: {test_set_mae}')"
   ]
  },
  {
   "cell_type": "code",
   "execution_count": null,
   "id": "13ce1c12",
   "metadata": {
    "ExecuteTime": {
     "end_time": "2024-03-27T05:21:52.624926Z",
     "start_time": "2024-03-27T05:21:52.624892Z"
    }
   },
   "outputs": [],
   "source": [
    "# Determine unique order types and assign colors\n",
    "unique_order_types = np.unique(order_type)\n",
    "colors = plt.cm.jet(np.linspace(0, 1, len(unique_order_types)))\n",
    "color_dict = dict(zip(unique_order_types, colors))\n",
    "\n",
    "def plot_filtered_data(selected_order_type='All'):\n",
    "    fig, axs = plt.subplots(figsize=(16, 9))\n",
    "\n",
    "    if selected_order_type == 'All':\n",
    "        for order in unique_order_types:\n",
    "            idx = order_type == order\n",
    "            axs.scatter(actual[idx], predicted[idx], alpha=0.5, color=color_dict[order], label=order)\n",
    "            axs.vlines(actual[idx], predicted[idx], actual[idx], color=color_dict[order], alpha=0.7, linewidth=0.5)\n",
    "    else:\n",
    "        idx = order_type == selected_order_type\n",
    "        axs.scatter(actual[idx], predicted[idx], alpha=0.5, color=color_dict[selected_order_type], label=selected_order_type)\n",
    "        axs.vlines(actual[idx], predicted[idx], actual[idx], color=color_dict[selected_order_type], alpha=0.7, linewidth=0.5)\n",
    "\n",
    "    axs.set_xlabel('Actual Values', fontsize=14, color='blue')\n",
    "    axs.set_ylabel('Predicted Values', fontsize=14, color='blue')\n",
    "    axs.tick_params(axis='both', which='major', labelsize=12, colors='green')\n",
    "    axs.set_title('Model Prediction vs Actuals with Error Visualization', fontsize=16, color='purple')\n",
    "\n",
    "    # Errors plotted on a secondary y-axis\n",
    "    ax3 = axs.twinx()\n",
    "    ax3.set_ylabel('Error', color='red', fontsize=14)\n",
    "    ax3.tick_params(axis='y', labelcolor='red', labelsize=12)\n",
    "    if selected_order_type != 'All':\n",
    "        error_idx = idx.reshape(-1)  # Reshape idx to match the length of errors\n",
    "        ax3.scatter(actual[error_idx], errors[error_idx], color='red', alpha=0.5, label='Error')\n",
    "    axs.legend(loc='upper left', fontsize=12)\n",
    "\n",
    "    fig.patch.set_facecolor('white')\n",
    "    plt.tight_layout()\n",
    "    plt.show()\n",
    "\n",
    "# Widget setup\n",
    "dropdown_order_type = wid.Dropdown(options=['All'] + list(unique_order_types), value='All', description='Order Type:')\n",
    "wid.interactive(plot_filtered_data, selected_order_type=dropdown_order_type)\n"
   ]
  },
  {
   "cell_type": "code",
   "execution_count": null,
   "id": "0cea6829",
   "metadata": {
    "ExecuteTime": {
     "end_time": "2024-03-27T05:21:52.627924Z",
     "start_time": "2024-03-27T05:21:52.627894Z"
    }
   },
   "outputs": [],
   "source": [
    "import pandas as pd\n",
    "import matplotlib.pyplot as plt\n",
    "\n",
    "# Assuming you have the data: actual, predicted, errors, and order_type\n",
    "# Create the DataFrame\n",
    "Model_Results = pd.DataFrame({'Actuals': actual,\n",
    "                   'order_type': order_type,\n",
    "                   'Base_Model_Predictions': predicted,\n",
    "                   'error': errors,\n",
    "                   })\n",
    "\n",
    "# Define the desired order of order types\n",
    "order_type_order = ['BUY', 'SELL']  # Add more order types as needed\n",
    "\n",
    "# Get unique order types and sort them according to the defined order\n",
    "unique_order_types = sorted(Model_Results['order_type'].unique(), key=lambda x: order_type_order.index(x))\n",
    "\n",
    "# Create plot figure\n",
    "num_order_types = len(unique_order_types)\n",
    "fig, ax = plt.subplots(num_order_types, 1, figsize=(20, 6*num_order_types))\n",
    "\n",
    "# Plot each order type in a subplot\n",
    "for i, order_type in enumerate(unique_order_types):\n",
    "    df_subset = Model_Results[Model_Results['order_type'] == order_type]\n",
    "    ax[i].plot(df_subset['Actuals'], label='Actuals',linewidth=2,marker='o')\n",
    "    ax[i].plot(df_subset['Base_Model_Predictions'], label='Base_Model_Predictions')\n",
    "    ax[i].set_title(f'{order_type} Trades: 2D High in Pips vs Baseline Predictions')\n",
    "    ax[i].set_xlabel('2D High in Pips')\n",
    "    ax[i].set_ylabel('2D High in Pips')\n",
    "    ax[i].legend()\n",
    "\n",
    "# Add overall title\n",
    "fig.suptitle('Order Types: 2D High in Pips vs Baseline Predictions', fontsize=18)\n",
    "\n",
    "plt.tight_layout()\n",
    "plt.show()\n"
   ]
  },
  {
   "cell_type": "code",
   "execution_count": null,
   "id": "cf2afb71",
   "metadata": {
    "ExecuteTime": {
     "end_time": "2024-03-27T05:21:52.630576Z",
     "start_time": "2024-03-27T05:21:52.630547Z"
    }
   },
   "outputs": [],
   "source": [
    "#Group by order type then plot \n",
    "group_df = Model_Results.groupby('order_type').mean().reset_index()\n",
    "\n",
    "#Create plot figure \n",
    "fig, axs = plt.subplots(1,2, figsize=(20,10))\n",
    "\n",
    "#Plot first subplot: order_type by actuals \n",
    "axs[0].plot(group_df['order_type'], group_df['Actuals'])\n",
    "axs[0].plot(group_df['order_type'], group_df['Base_Model_Predictions'])\n",
    "axs[0].set_xlabel('Order Type')\n",
    "axs[0].set_ylabel('2D High In Pips')\n",
    "axs[0].set_title('Order Type by Actuals and Predictions')\n",
    "\n",
    "#Plot first subplot: order_type by actuals \n",
    "axs[1].bar(group_df['order_type'], group_df['error'])\n",
    "axs[1].set_xlabel('Order Type')\n",
    "axs[1].set_ylabel('2D High In Pips')\n",
    "axs[1].set_title('Error by Order Type')\n",
    "\n",
    "#Add data labels to figure 2\n",
    "for i, txt in enumerate(group_df['error']):\n",
    "    axs[1].annotate(f' {txt}', (group_df['order_type'][i], group_df['error'][i]), textcoords='offset points', xytext=(0,10),ha='center')"
   ]
  },
  {
   "cell_type": "markdown",
   "id": "b83fe744",
   "metadata": {},
   "source": [
    "## Base Linear Regression Model"
   ]
  },
  {
   "cell_type": "code",
   "execution_count": 22,
   "id": "d659d9da",
   "metadata": {
    "ExecuteTime": {
     "end_time": "2024-03-27T05:21:52.633128Z",
     "start_time": "2024-03-27T05:21:52.633091Z"
    }
   },
   "outputs": [],
   "source": [
    "#Create Pieline to be used in Model\n",
    "Base_LinReg_Model_Pipeline = Pipeline(steps=[\n",
    "    ('Preprocessor', Preprocessor),\n",
    "    ('LinReg_Model',LinearRegression())])\n",
    "\n",
    "#View Pipeline \n",
    "# Base_RF_Model_Pipeline\n",
    "\n",
    "#Fit the training data \n",
    "Base_LinReg_Model_Pipeline.fit(X_train, y_train)\n",
    "\n",
    "#Make Predictions on the test set \n",
    "Base_LinReg_Model_Predictions = Base_LinReg_Model_Pipeline.predict(X_test)\n",
    "\n",
    "#Get Error Metrics of Random Forest Model\n",
    "LinReg_Model_MAE = mean_absolute_error(y_test, Base_LinReg_Model_Predictions)"
   ]
  },
  {
   "cell_type": "markdown",
   "id": "98297149-a343-4f5a-b09b-46fce7467d72",
   "metadata": {},
   "source": [
    "#### Linear Regression Feature Importance "
   ]
  },
  {
   "cell_type": "code",
   "execution_count": 53,
   "id": "4438e003-c389-4b01-9089-008bb67fb782",
   "metadata": {},
   "outputs": [
    {
     "data": {
      "text/html": [
       "<div>\n",
       "<style scoped>\n",
       "    .dataframe tbody tr th:only-of-type {\n",
       "        vertical-align: middle;\n",
       "    }\n",
       "\n",
       "    .dataframe tbody tr th {\n",
       "        vertical-align: top;\n",
       "    }\n",
       "\n",
       "    .dataframe thead th {\n",
       "        text-align: right;\n",
       "    }\n",
       "</style>\n",
       "<table border=\"1\" class=\"dataframe\">\n",
       "  <thead>\n",
       "    <tr style=\"text-align: right;\">\n",
       "      <th></th>\n",
       "      <th>Feature</th>\n",
       "      <th>Coefficient</th>\n",
       "    </tr>\n",
       "  </thead>\n",
       "  <tbody>\n",
       "    <tr>\n",
       "      <th>5</th>\n",
       "      <td>ordinalencoder__100125 Trend Status</td>\n",
       "      <td>13162531387529.45</td>\n",
       "    </tr>\n",
       "    <tr>\n",
       "      <th>1</th>\n",
       "      <td>onehotencoder__Order Type_SELL</td>\n",
       "      <td>9916017659509.90</td>\n",
       "    </tr>\n",
       "    <tr>\n",
       "      <th>43</th>\n",
       "      <td>remainder__CDLDOJI</td>\n",
       "      <td>7369446232371.96</td>\n",
       "    </tr>\n",
       "    <tr>\n",
       "      <th>70</th>\n",
       "      <td>remainder__CDLMORNINGDOJISTAR</td>\n",
       "      <td>3645260902277.39</td>\n",
       "    </tr>\n",
       "    <tr>\n",
       "      <th>80</th>\n",
       "      <td>remainder__CDLSTALLEDPATTERN</td>\n",
       "      <td>3645260902276.63</td>\n",
       "    </tr>\n",
       "  </tbody>\n",
       "</table>\n",
       "</div>"
      ],
      "text/plain": [
       "                                Feature       Coefficient\n",
       "5   ordinalencoder__100125 Trend Status 13162531387529.45\n",
       "1        onehotencoder__Order Type_SELL  9916017659509.90\n",
       "43                   remainder__CDLDOJI  7369446232371.96\n",
       "70        remainder__CDLMORNINGDOJISTAR  3645260902277.39\n",
       "80         remainder__CDLSTALLEDPATTERN  3645260902276.63"
      ]
     },
     "execution_count": 53,
     "metadata": {},
     "output_type": "execute_result"
    }
   ],
   "source": [
    "# get pipeline feature names\n",
    "Features_Names = Base_LinReg_Model_Pipeline[:-1].get_feature_names_out()\n",
    "\n",
    "#Get coeficient \n",
    "Coefficients = lin_reg_model.coef_\n",
    "\n",
    "# Create Dataframe\n",
    "Coefficients_DF = pd.DataFrame({'Feature': Features_Names, 'Coefficient': Coefficients[0]})\n",
    "# Set display options\n",
    "pd.set_option('display.float_format', '{:.2f}'.format)  # Format to 2 decimal places\n",
    "Coefficients_DF = Coefficients_DF.sort_values(by='Coefficient', ascending=False)\n",
    "\n",
    "Coefficients_DF.head(5)"
   ]
  },
  {
   "cell_type": "code",
   "execution_count": null,
   "id": "b20d95f0-02ec-4e6a-a9dc-8e2a3989f31c",
   "metadata": {},
   "outputs": [],
   "source": [
    "potential_noisy_features = Coefficients_Df[(Coefficients_Df['Coefficient'] < 5) and (Coefficients_Df['Coefficient'] > -5)]\n"
   ]
  },
  {
   "cell_type": "code",
   "execution_count": null,
   "id": "0961a46d-ead2-4daa-bdd9-405bada9fbc0",
   "metadata": {},
   "outputs": [],
   "source": []
  },
  {
   "cell_type": "code",
   "execution_count": null,
   "id": "85a68263",
   "metadata": {
    "ExecuteTime": {
     "end_time": "2024-03-27T05:21:52.635225Z",
     "start_time": "2024-03-27T05:21:52.635197Z"
    }
   },
   "outputs": [],
   "source": [
    "#Create a dictionary to store MAE for comparison \n",
    "MAE_Dict = {\n",
    "    'Metrics' : ['Base Model Mae','LinReg Base Model MAE',''],\n",
    "    'Value':[round(float(test_set_mae),2), round(float(LinReg_Model_MAE)), round(float())]\n",
    "}\n",
    "\n",
    "MAE_DF = pd.DataFrame(MAE_Dict)\n",
    "\n",
    "MAE_DF = MAE_DF.sort_values('Value', ascending=False)\n",
    "\n",
    "# MAE_DF.plot()\n",
    "fig, ax = plt.subplots(figsize=(12,6))\n",
    "# Now you can use ax to plot\n",
    "MAE_DF.plot(kind='line', x='Metrics', y='Value', ax=ax,marker='o')\n",
    "ax.set_title('Linear Regression Model MAE Comparison')\n",
    "ax.set_ylabel('MAE Value')\n",
    "plt.show()"
   ]
  },
  {
   "cell_type": "code",
   "execution_count": null,
   "id": "f119b1ea",
   "metadata": {
    "ExecuteTime": {
     "end_time": "2024-03-27T05:21:52.637231Z",
     "start_time": "2024-03-27T05:21:52.637205Z"
    }
   },
   "outputs": [],
   "source": [
    "import pandas as pd\n",
    "import matplotlib.pyplot as plt\n",
    "\n",
    "#Add New Model Predictions & Errors to Model Result_df \n",
    "Model_Results = Model_Results.assign(Base_LinReg_Model_Predictions=Base_LinReg_Model_Predictions,\n",
    "                                     LinReg_Model_MAE=LinReg_Model_MAE)\n",
    "\n",
    "\n",
    "Model_Results.head(20)\n",
    "\n",
    "unique_order_types = Model_Results['order_type'].unique()\n",
    "\n",
    "# Create plot figure\n",
    "num_order_types = len(unique_order_types)\n",
    "fig, ax = plt.subplots(num_order_types, 1, figsize=(20, 6*num_order_types))\n",
    "\n",
    "# Plot each order type in a subplot\n",
    "for i, order_type in enumerate(unique_order_types):\n",
    "    df_subset = Model_Results[Model_Results['order_type'] == order_type]\n",
    "    ax[i].plot(df_subset['Actuals'], label='Actuals')\n",
    "    ax[i].plot(df_subset['Base_LinReg_Model_Predictions'], label='Base_LinReg_Model_Predictions')\n",
    "    ax[i].plot(df_subset['Base_Model_Predictions'], label='Base_Model_Predictions')\n",
    "    ax[i].set_title(f'{order_type} Trades: 2D High in Pips vs Random Forest Model Predictions')\n",
    "    ax[i].set_xlabel('2D High in Pips')\n",
    "    ax[i].set_ylabel('2D High in Pips')\n",
    "    ax[i].legend()\n",
    "\n",
    "# Add overall title\n",
    "fig.suptitle('Order Types: 2D High in Pips vs Baseline Model Predictions', fontsize=18)\n",
    "\n",
    "plt.tight_layout()\n",
    "plt.show()\n"
   ]
  },
  {
   "cell_type": "code",
   "execution_count": null,
   "id": "2a3387cb",
   "metadata": {
    "ExecuteTime": {
     "end_time": "2024-03-27T05:21:52.644136Z",
     "start_time": "2024-03-27T05:21:52.644104Z"
    }
   },
   "outputs": [],
   "source": [
    "#Group by order type then plot \n",
    "group_df = Model_Results.groupby('order_type').mean().reset_index()\n",
    "\n",
    "#Create plot figure \n",
    "fig, axs = plt.subplots(1,2, figsize=(20,10))\n",
    "\n",
    "#Plot first subplot: order_type by actuals \n",
    "axs[0].plot(group_df['order_type'], group_df['Actuals'])\n",
    "axs[0].plot(group_df['order_type'], group_df['Base_LinReg_Model_Predictions'])\n",
    "axs[0].set_xlabel('Order Type')\n",
    "axs[0].set_ylabel('2D High In Pips')\n",
    "axs[0].set_title('Order Type by Actuals and Predictions')\n",
    "\n",
    "#Plot first subplot: order_type by actuals \n",
    "axs[1].bar(group_df['order_type'], group_df['error'])\n",
    "axs[1].set_xlabel('Order Type')\n",
    "axs[1].set_ylabel('2D High In Pips')\n",
    "axs[1].set_title('Error by Order Type')\n",
    "\n",
    "#Add data labels to figure 2\n",
    "for i, txt in enumerate(group_df['error']):\n",
    "    axs[1].annotate(f' {txt}', (group_df['order_type'][i], group_df['error'][i]), textcoords='offset points', xytext=(0,10),ha='center')"
   ]
  },
  {
   "cell_type": "markdown",
   "id": "abc194a1",
   "metadata": {
    "ExecuteTime": {
     "end_time": "2024-03-16T19:55:22.691511Z",
     "start_time": "2024-03-16T19:55:22.667552Z"
    }
   },
   "source": [
    "## Base Random Forest Model "
   ]
  },
  {
   "cell_type": "code",
   "execution_count": 59,
   "id": "aed63d4e-f90c-4e03-b7d6-0891571e608d",
   "metadata": {},
   "outputs": [],
   "source": [
    "Preprocessor = ColumnTransformer(\n",
    "    transformers=[\n",
    "        ('scaler', StandardScaler(), num_cols_to_scale),\n",
    "        ('onehot', OneHotEncoder(drop='first', sparse_output=False), cat_cols_to_encode),\n",
    "        ('ordinal', OrdinalEncoder(), cat_cols_for_ordinal_encoding)\n",
    "    ],\n",
    "    remainder='passthrough'\n",
    ")\n"
   ]
  },
  {
   "cell_type": "code",
   "execution_count": 60,
   "id": "6673d2de",
   "metadata": {
    "ExecuteTime": {
     "end_time": "2024-03-27T05:21:52.646043Z",
     "start_time": "2024-03-27T05:21:52.646011Z"
    }
   },
   "outputs": [
    {
     "name": "stderr",
     "output_type": "stream",
     "text": [
      "/home/clivence/base_jupyter/venv/lib/python3.11/site-packages/sklearn/base.py:1474: DataConversionWarning: A column-vector y was passed when a 1d array was expected. Please change the shape of y to (n_samples,), for example using ravel().\n",
      "  return fit_method(estimator, *args, **kwargs)\n"
     ]
    }
   ],
   "source": [
    "#Create Pieline to be used in Model\n",
    "Base_RF_Model_Pipeline = Pipeline(steps=[\n",
    "    ('Preprocessor', Preprocessor),\n",
    "    ('RF_Model',RandomForestRegressor())])\n",
    "\n",
    "#View Pipeline \n",
    "# Base_RF_Model_Pipeline\n",
    "\n",
    "#Fit the training data \n",
    "Base_RF_Model_Pipeline.fit(X_train, y_train)\n",
    "\n",
    "#Make Predictions on the test set \n",
    "Base_RF_Model_Predictions = Base_RF_Model_Pipeline.predict(X_test)\n",
    "\n",
    "#Get Error Metrics of Random Forest Model\n",
    "RF_Model_MAE = mean_absolute_error(y_test, Base_RF_Model_Predictions)"
   ]
  },
  {
   "cell_type": "code",
   "execution_count": 70,
   "id": "238cff2d-bf74-4a22-a279-05b9d425037a",
   "metadata": {},
   "outputs": [
    {
     "data": {
      "text/html": [
       "<div>\n",
       "<style scoped>\n",
       "    .dataframe tbody tr th:only-of-type {\n",
       "        vertical-align: middle;\n",
       "    }\n",
       "\n",
       "    .dataframe tbody tr th {\n",
       "        vertical-align: top;\n",
       "    }\n",
       "\n",
       "    .dataframe thead th {\n",
       "        text-align: right;\n",
       "    }\n",
       "</style>\n",
       "<table border=\"1\" class=\"dataframe\">\n",
       "  <thead>\n",
       "    <tr style=\"text-align: right;\">\n",
       "      <th></th>\n",
       "      <th>Feature Name</th>\n",
       "      <th>Importance</th>\n",
       "    </tr>\n",
       "  </thead>\n",
       "  <tbody>\n",
       "    <tr>\n",
       "      <th>60</th>\n",
       "      <td>remainder__CDLINNECK</td>\n",
       "      <td>0.00</td>\n",
       "    </tr>\n",
       "    <tr>\n",
       "      <th>61</th>\n",
       "      <td>remainder__CDLINVERTEDHAMMER</td>\n",
       "      <td>0.00</td>\n",
       "    </tr>\n",
       "    <tr>\n",
       "      <th>62</th>\n",
       "      <td>remainder__CDLKICKING</td>\n",
       "      <td>0.00</td>\n",
       "    </tr>\n",
       "    <tr>\n",
       "      <th>63</th>\n",
       "      <td>remainder__CDLKICKINGBYLENGTH</td>\n",
       "      <td>0.00</td>\n",
       "    </tr>\n",
       "    <tr>\n",
       "      <th>38</th>\n",
       "      <td>remainder__CDLBREAKAWAY</td>\n",
       "      <td>0.00</td>\n",
       "    </tr>\n",
       "    <tr>\n",
       "      <th>68</th>\n",
       "      <td>remainder__CDLMATCHINGLOW</td>\n",
       "      <td>0.00</td>\n",
       "    </tr>\n",
       "    <tr>\n",
       "      <th>47</th>\n",
       "      <td>remainder__CDLEVENINGDOJISTAR</td>\n",
       "      <td>0.00</td>\n",
       "    </tr>\n",
       "    <tr>\n",
       "      <th>29</th>\n",
       "      <td>remainder__CDL3BLACKCROWS</td>\n",
       "      <td>0.00</td>\n",
       "    </tr>\n",
       "    <tr>\n",
       "      <th>42</th>\n",
       "      <td>remainder__CDLDARKCLOUDCOVER</td>\n",
       "      <td>0.00</td>\n",
       "    </tr>\n",
       "    <tr>\n",
       "      <th>64</th>\n",
       "      <td>remainder__CDLLADDERBOTTOM</td>\n",
       "      <td>0.00</td>\n",
       "    </tr>\n",
       "  </tbody>\n",
       "</table>\n",
       "</div>"
      ],
      "text/plain": [
       "                     Feature Name  Importance\n",
       "60           remainder__CDLINNECK        0.00\n",
       "61   remainder__CDLINVERTEDHAMMER        0.00\n",
       "62          remainder__CDLKICKING        0.00\n",
       "63  remainder__CDLKICKINGBYLENGTH        0.00\n",
       "38        remainder__CDLBREAKAWAY        0.00\n",
       "68      remainder__CDLMATCHINGLOW        0.00\n",
       "47  remainder__CDLEVENINGDOJISTAR        0.00\n",
       "29      remainder__CDL3BLACKCROWS        0.00\n",
       "42   remainder__CDLDARKCLOUDCOVER        0.00\n",
       "64     remainder__CDLLADDERBOTTOM        0.00"
      ]
     },
     "execution_count": 70,
     "metadata": {},
     "output_type": "execute_result"
    }
   ],
   "source": [
    "features = Base_LinReg_Model_Pipeline[:-1].get_feature_names_out()\n",
    "\n",
    "importances = Base_RF_Model_Pipeline.named_steps['RF_Model'].feature_importances_\n",
    "\n",
    "feature_importance = pd.DataFrame({'Feature Name': features, 'Importance': importances})\n",
    "feature_importance = feature_importance.sort_values(by='Importance', ascending=False)\n",
    "feature_importance.tail(10)\n"
   ]
  },
  {
   "cell_type": "code",
   "execution_count": null,
   "id": "cdc1b263",
   "metadata": {
    "ExecuteTime": {
     "end_time": "2024-03-27T05:21:52.652773Z",
     "start_time": "2024-03-27T05:21:52.652735Z"
    }
   },
   "outputs": [],
   "source": [
    "#Create a dictionary to store MAE for comparison \n",
    "MAE_Dict = {\n",
    "    'Metrics' : ['Base Model Mae','LinReg Base Model MAE','RF Base Model MAE'],\n",
    "    'Value':[round(float(test_set_mae),2),round(float(RF_Model_MAE)), round(float(RF_Model_MAE),2)]\n",
    "}\n",
    "\n",
    "MAE_DF = pd.DataFrame(MAE_Dict)\n",
    "\n",
    "MAE_DF = MAE_DF.sort_values('Value', ascending=False)\n",
    "\n",
    "# MAE_DF.plot()\n",
    "fig, ax = plt.subplots(figsize=(12,6))\n",
    "# Now you can use ax to plot\n",
    "MAE_DF.plot(kind='line', x='Metrics', y='Value', ax=ax,marker='o')\n",
    "ax.set_title('Model MAE Comparison')\n",
    "ax.set_ylabel('MAE Value')\n",
    "plt.show()"
   ]
  },
  {
   "cell_type": "code",
   "execution_count": null,
   "id": "c0227a3a",
   "metadata": {
    "ExecuteTime": {
     "end_time": "2024-03-27T05:21:52.657102Z",
     "start_time": "2024-03-27T05:21:52.657072Z"
    }
   },
   "outputs": [],
   "source": [
    "import pandas as pd\n",
    "import matplotlib.pyplot as plt\n",
    "\n",
    "#Add New Model Predictions & Errors to Model Result_df \n",
    "Model_Results = Model_Results.assign(Base_RF_Model_Predictions=Base_RF_Model_Predictions,\n",
    "                                     Base_RF_Model_Error=Base_RF_Model_Error)\n",
    "\n",
    "unique_order_types = Model_Results['order_type'].unique()\n",
    "\n",
    "# Create plot figure\n",
    "num_order_types = len(unique_order_types)\n",
    "fig, ax = plt.subplots(num_order_types, 1, figsize=(20, 6*num_order_types))\n",
    "\n",
    "# Plot each order type in a subplot\n",
    "for i, order_type in enumerate(unique_order_types):\n",
    "    df_subset = Model_Results[Model_Results['order_type'] == order_type]\n",
    "    ax[i].plot(df_subset['Actuals'], label='Actuals')\n",
    "    ax[i].plot(df_subset['Base_RF_Model_Predictions'], label='Base_RF_Model_Predictions')\n",
    "    ax[i].plot(df_subset['Base_Model_Predictions'], label='Base_Model_Predictions')\n",
    "    ax[i].set_title(f'{order_type} Trades: 2D High in Pips vs Random Forest Model Predictions')\n",
    "    ax[i].set_xlabel('2D High in Pips')\n",
    "    ax[i].set_ylabel('2D High in Pips')\n",
    "    ax[i].legend()\n",
    "\n",
    "# Add overall title\n",
    "fig.suptitle('Order Types: 2D High in Pips vs Baseline Predictions', fontsize=18)\n",
    "\n",
    "plt.tight_layout()\n",
    "plt.show()\n"
   ]
  },
  {
   "cell_type": "code",
   "execution_count": null,
   "id": "35d2013b",
   "metadata": {
    "ExecuteTime": {
     "end_time": "2024-03-27T05:21:52.662994Z",
     "start_time": "2024-03-27T05:21:52.662946Z"
    }
   },
   "outputs": [],
   "source": [
    "#Group by order type then plot \n",
    "group_df = Model_Results.groupby('order_type').mean().reset_index()\n",
    "\n",
    "#Create plot figure \n",
    "fig, axs = plt.subplots(1,2, figsize=(20,10))\n",
    "\n",
    "#Plot first subplot: order_type by actuals \n",
    "axs[0].plot(group_df['order_type'], group_df['Actuals'])\n",
    "axs[0].plot(group_df['order_type'], group_df['Base_RF_Model_Predictions'])\n",
    "axs[0].set_xlabel('Order Type')\n",
    "axs[0].set_ylabel('2D High In Pips')\n",
    "axs[0].set_title('Order Type by Actuals and Predictions')\n",
    "\n",
    "#Plot first subplot: order_type by actuals \n",
    "axs[1].bar(group_df['order_type'], group_df['Base_RF_Model_Error'])\n",
    "axs[1].set_xlabel('Order Type')\n",
    "axs[1].set_ylabel('2D High In Pips')\n",
    "axs[1].set_title('Error by Order Type')\n",
    "\n",
    "#Add data labels to figure 2\n",
    "for i, txt in enumerate(group_df['error']):\n",
    "    axs[1].annotate(f' {txt}', (group_df['order_type'][i], group_df['error'][i]), textcoords='offset points', xytext=(0,10),ha='center')"
   ]
  },
  {
   "cell_type": "markdown",
   "id": "7fa10310",
   "metadata": {},
   "source": [
    "## Base Gradient Boosting Model"
   ]
  },
  {
   "cell_type": "code",
   "execution_count": null,
   "id": "39d79cad",
   "metadata": {
    "ExecuteTime": {
     "end_time": "2024-03-27T05:21:52.665264Z",
     "start_time": "2024-03-27T05:21:52.665232Z"
    }
   },
   "outputs": [],
   "source": [
    "#Create Pieline to be used in Model\n",
    "Base_GBR_Model_Pipeline = Pipeline(steps=[\n",
    "    ('Preprocessor', Preprocessor),\n",
    "    ('GBR_Model',GradientBoostingRegressor(learning_rate=0.01,\n",
    "    n_estimators=100,max_depth=5))])\n",
    "\n",
    "#View Pipeline \n",
    "# Base_RF_Model_Pipeline\n",
    "\n",
    "#Fit the training data \n",
    "Base_GBR_Model_Pipeline.fit(X_train, y_train)\n",
    "\n",
    "#Make Predictions on the test set \n",
    "Base_GBR_Model_Predictions = Base_GBR_Model_Pipeline.predict(X_test)\n",
    "\n",
    "#Get Error Metrics of Random Forest Model\n",
    "GBR_Model_MAE = mean_absolute_error(y_test, Base_GBR_Model_Predictions)"
   ]
  },
  {
   "cell_type": "code",
   "execution_count": null,
   "id": "a5ded02f",
   "metadata": {
    "ExecuteTime": {
     "end_time": "2024-03-27T05:21:52.667670Z",
     "start_time": "2024-03-27T05:21:52.667623Z"
    }
   },
   "outputs": [],
   "source": [
    "??GradientBoostingRegressor"
   ]
  },
  {
   "cell_type": "code",
   "execution_count": null,
   "id": "7834b0d4",
   "metadata": {
    "ExecuteTime": {
     "end_time": "2024-03-27T05:21:52.670834Z",
     "start_time": "2024-03-27T05:21:52.670813Z"
    }
   },
   "outputs": [],
   "source": [
    "#Create a dictionary to store MAE for comparison \n",
    "MAE_Dict = {\n",
    "    'Metrics' : ['Base Model Mae','LinReg Base Model MAE','RF Base Model MAE','GBR Base Model MAE'],\n",
    "    'Value':[round(float(test_set_mae),2),round(float(RF_Model_MAE)), round(float(RF_Model_MAE),2),\n",
    "             round(float(GBR_Model_MAE))]\n",
    "}\n",
    "\n",
    "MAE_DF = pd.DataFrame(MAE_Dict)\n",
    "\n",
    "MAE_DF = MAE_DF.sort_values('Value', ascending=False)\n",
    "\n",
    "# MAE_DF.plot()\n",
    "fig, ax = plt.subplots(figsize=(12,6))\n",
    "# Now you can use ax to plot\n",
    "MAE_DF.plot(kind='line', x='Metrics', y='Value', ax=ax,marker='o')\n",
    "ax.set_title('Base Model MAE Comparison')\n",
    "ax.set_ylabel('MAE Value')\n",
    "plt.show()"
   ]
  },
  {
   "cell_type": "code",
   "execution_count": null,
   "id": "faaf4780",
   "metadata": {
    "ExecuteTime": {
     "end_time": "2024-03-27T05:21:52.672614Z",
     "start_time": "2024-03-27T05:21:52.672594Z"
    }
   },
   "outputs": [],
   "source": [
    "import pandas as pd\n",
    "import matplotlib.pyplot as plt\n",
    "\n",
    "#Add New Model Predictions & Errors to Model Result_df \n",
    "Model_Results = Model_Results.assign(Base_GBR_Model_Predictions=Base_GBR_Model_Predictions,\n",
    "                                     GBR_Model_MAE=GBR_Model_MAE)\n",
    "\n",
    "\n",
    "Model_Results.head(20)\n",
    "\n",
    "unique_order_types = Model_Results['order_type'].unique()\n",
    "\n",
    "# Create plot figure\n",
    "num_order_types = len(unique_order_types)\n",
    "fig, ax = plt.subplots(num_order_types, 1, figsize=(20, 6*num_order_types))\n",
    "\n",
    "# Plot each order type in a subplot\n",
    "for i, order_type in enumerate(unique_order_types):\n",
    "    df_subset = Model_Results[Model_Results['order_type'] == order_type]\n",
    "    ax[i].plot(df_subset['Actuals'], label='Actuals')\n",
    "    ax[i].plot(df_subset['Base_LinReg_Model_Predictions'], label='Base_LinReg_Model_Predictions')\n",
    "    ax[i].plot(df_subset['Base_Model_Predictions'], label='Base_Model_Predictions')\n",
    "    ax[i].plot(df_subset['Base_GBR_Model_Predictions'], label='Base_GBR_Model_Predictions')\n",
    "    ax[i].set_title(f'{order_type} Trades: 2D High in Pips vs Random Forest Model Predictions')\n",
    "    ax[i].set_xlabel('2D High in Pips')\n",
    "    ax[i].set_ylabel('2D High in Pips')\n",
    "    ax[i].legend()\n",
    "\n",
    "# Add overall title\n",
    "fig.suptitle('Order Types: 2D High in Pips vs Baseline Model Predictions', fontsize=18)\n",
    "\n",
    "plt.tight_layout()\n",
    "plt.show()\n"
   ]
  },
  {
   "cell_type": "code",
   "execution_count": null,
   "id": "d5fef0ab",
   "metadata": {
    "ExecuteTime": {
     "end_time": "2024-03-27T05:21:52.674946Z",
     "start_time": "2024-03-27T05:21:52.674915Z"
    }
   },
   "outputs": [],
   "source": [
    "#Group by order type then plot \n",
    "group_df = Model_Results.groupby('order_type').mean().reset_index()\n",
    "\n",
    "#Create plot figure \n",
    "fig, axs = plt.subplots(1,2, figsize=(20,10))\n",
    "\n",
    "#Plot first subplot: order_type by actuals \n",
    "axs[0].plot(group_df['order_type'], group_df['Actuals'])\n",
    "axs[0].plot(group_df['order_type'], group_df['Base_GBR_Model_Predictions'])\n",
    "axs[0].set_xlabel('Order Type')\n",
    "axs[0].set_ylabel('2D High In Pips')\n",
    "axs[0].set_title('Order Type by Actuals and Predictions')\n",
    "\n",
    "#Plot first subplot: order_type by actuals \n",
    "axs[1].bar(group_df['order_type'], group_df['GBR_Model_MAE'])\n",
    "axs[1].set_xlabel('Order Type')\n",
    "axs[1].set_ylabel('2D High In Pips')\n",
    "axs[1].set_title('Error by Order Type')\n",
    "\n",
    "#Add data labels to figure 2\n",
    "for i, txt in enumerate(group_df['error']):\n",
    "    axs[1].annotate(f' {txt}', (group_df['order_type'][i], group_df['error'][i]), textcoords='offset points', xytext=(0,10),ha='center')"
   ]
  },
  {
   "cell_type": "markdown",
   "id": "e59c3a4f",
   "metadata": {
    "ExecuteTime": {
     "end_time": "2024-03-17T13:10:34.044803Z",
     "start_time": "2024-03-17T13:10:34.036659Z"
    }
   },
   "source": [
    "## Base Decision Tree Model"
   ]
  },
  {
   "cell_type": "code",
   "execution_count": null,
   "id": "2fbb451d",
   "metadata": {
    "ExecuteTime": {
     "end_time": "2024-03-27T05:21:52.676530Z",
     "start_time": "2024-03-27T05:21:52.676509Z"
    }
   },
   "outputs": [],
   "source": [
    "#Create Pieline to be used in Model\n",
    "Base_DT_Model_Pipeline = Pipeline(steps=[\n",
    "    ('Preprocessor', Preprocessor),\n",
    "    ('GBR_Model',DecisionTreeRegressor(max_depth=None,\n",
    "    min_samples_split=5,\n",
    "    min_samples_leaf=1,max_features=10))])\n",
    "\n",
    "#View Pipeline \n",
    "# Base_RF_Model_Pipeline\n",
    "\n",
    "#Fit the training data \n",
    "Base_DT_Model_Pipeline.fit(X_train, y_train)\n",
    "\n",
    "#Make Predictions on the test set \n",
    "Base_DT_Model_Predictions = Base_DT_Model_Pipeline.predict(X_test)\n",
    "\n",
    "#Get Error Metrics of Random Forest Model\n",
    "DT_Model_MAE = mean_absolute_error(y_test, Base_DT_Model_Predictions)"
   ]
  },
  {
   "cell_type": "code",
   "execution_count": null,
   "id": "f909d67f",
   "metadata": {
    "ExecuteTime": {
     "end_time": "2024-03-27T05:21:52.677841Z",
     "start_time": "2024-03-27T05:21:52.677820Z"
    }
   },
   "outputs": [],
   "source": [
    "#Create a dictionary to store MAE for comparison \n",
    "MAE_Dict = {\n",
    "    'Metrics' : ['Base Model Mae','LinReg Base Model MAE','RF Base Model MAE','GBR Base Model MAE','DT Base Model MAE'],\n",
    "    'Value':[round(float(test_set_mae),2),round(float(RF_Model_MAE)), round(float(RF_Model_MAE),2),\n",
    "             round(float(GBR_Model_MAE)),round(float(DT_Model_MAE))]\n",
    "}\n",
    "\n",
    "MAE_DF = pd.DataFrame(MAE_Dict)\n",
    "\n",
    "MAE_DF = MAE_DF.sort_values('Value', ascending=False)\n",
    "\n",
    "# MAE_DF.plot()\n",
    "fig, ax = plt.subplots(figsize=(12,6))\n",
    "# Now you can use ax to plot\n",
    "MAE_DF.plot(kind='line', x='Metrics', y='Value', ax=ax,marker='o')\n",
    "ax.set_title('Base Model MAE Comparison')\n",
    "ax.set_ylabel('MAE Value')\n",
    "plt.show()"
   ]
  },
  {
   "cell_type": "code",
   "execution_count": null,
   "id": "273ceef3",
   "metadata": {
    "ExecuteTime": {
     "end_time": "2024-03-27T05:21:52.689673Z",
     "start_time": "2024-03-27T05:21:52.689625Z"
    }
   },
   "outputs": [],
   "source": [
    "import pandas as pd\n",
    "import matplotlib.pyplot as plt\n",
    "\n",
    "#Add New Model Predictions & Errors to Model Result_df \n",
    "Model_Results = Model_Results.assign(Base_DT_Model_Predictions=Base_DT_Model_Predictions,\n",
    "                                     DT_Model_MAE=DT_Model_MAE)\n",
    "\n",
    "\n",
    "Model_Results.head(20)\n",
    "\n",
    "unique_order_types = Model_Results['order_type'].unique()\n",
    "\n",
    "# Create plot figure\n",
    "num_order_types = len(unique_order_types)\n",
    "fig, ax = plt.subplots(num_order_types, 1, figsize=(20, 6*num_order_types))\n",
    "\n",
    "# Plot each order type in a subplot\n",
    "for i, order_type in enumerate(unique_order_types):\n",
    "    df_subset = Model_Results[Model_Results['order_type'] == order_type]\n",
    "    ax[i].plot(df_subset['Actuals'], label='Actuals')\n",
    "    ax[i].plot(df_subset['Base_LinReg_Model_Predictions'], label='Base_LinReg_Model_Predictions')\n",
    "    ax[i].plot(df_subset['Base_Model_Predictions'], label='Base_Model_Predictions')\n",
    "    ax[i].plot(df_subset['Base_GBR_Model_Predictions'], label='Base_GBR_Model_Predictions')\n",
    "    ax[i].plot(df_subset['Base_DT_Model_Predictions'], label='Base_DT_Model_Predictions')\n",
    "    ax[i].set_title(f'{order_type} Trades: 2D High in Pips vs Random Forest Model Predictions')\n",
    "    ax[i].set_xlabel('2D High in Pips')\n",
    "    ax[i].set_ylabel('2D High in Pips')\n",
    "    ax[i].legend()\n",
    "\n",
    "# Add overall title\n",
    "fig.suptitle('Order Types: 2D High in Pips vs Baseline Model Predictions', fontsize=18)\n",
    "\n",
    "plt.tight_layout()\n",
    "plt.show()\n"
   ]
  },
  {
   "cell_type": "code",
   "execution_count": null,
   "id": "e2c417c7",
   "metadata": {
    "ExecuteTime": {
     "end_time": "2024-03-27T05:21:52.692545Z",
     "start_time": "2024-03-27T05:21:52.692508Z"
    }
   },
   "outputs": [],
   "source": [
    "#Group by order type then plot \n",
    "group_df = Model_Results.groupby('order_type').mean().reset_index()\n",
    "\n",
    "#Create plot figure \n",
    "fig, axs = plt.subplots(1,2, figsize=(20,10))\n",
    "\n",
    "#Plot first subplot: order_type by actuals \n",
    "axs[0].plot(group_df['order_type'], group_df['Actuals'])\n",
    "axs[0].plot(group_df['order_type'], group_df['Base_DT_Model_Predictions'])\n",
    "axs[0].set_xlabel('Order Type')\n",
    "axs[0].set_ylabel('2D High In Pips')\n",
    "axs[0].set_title('Order Type by Actuals and Predictions')\n",
    "\n",
    "#Plot first subplot: order_type by actuals \n",
    "axs[1].bar(group_df['order_type'], group_df['DT_Model_MAE'])\n",
    "axs[1].set_xlabel('Order Type')\n",
    "axs[1].set_ylabel('2D High In Pips')\n",
    "axs[1].set_title('Error by Order Type')\n",
    "\n",
    "#Add data labels to figure 2\n",
    "for i, txt in enumerate(group_df['error']):\n",
    "    axs[1].annotate(f' {txt}', (group_df['order_type'][i], group_df['error'][i]), textcoords='offset points', xytext=(0,10),ha='center')"
   ]
  },
  {
   "cell_type": "markdown",
   "id": "eedc34d2",
   "metadata": {},
   "source": [
    "## Base KNN Regression Model"
   ]
  },
  {
   "cell_type": "code",
   "execution_count": null,
   "id": "906b9b95",
   "metadata": {
    "ExecuteTime": {
     "end_time": "2024-03-27T05:21:52.695273Z",
     "start_time": "2024-03-27T05:21:52.695222Z"
    }
   },
   "outputs": [],
   "source": [
    "#Create Pieline to be used in Model\n",
    "Base_KNNR_Model_Pipeline = Pipeline(steps=[\n",
    "    ('Preprocessor', Preprocessor),\n",
    "    ('KNNR_Model',KNeighborsRegressor(n_neighbors=10))])\n",
    "\n",
    "#View Pipeline \n",
    "# Base_RF_Model_Pipeline\n",
    "\n",
    "#Fit the training data \n",
    "Base_KNNR_Model_Pipeline.fit(X_train, y_train)\n",
    "\n",
    "#Make Predictions on the test set \n",
    "Base_KNNR_Model_Predictions = Base_KNNR_Model_Pipeline.predict(X_test)\n",
    "\n",
    "#Get Error Metrics of Random Forest Model\n",
    "KNNR_Model_MAE = mean_absolute_error(y_test, Base_KNNR_Model_Predictions)"
   ]
  },
  {
   "cell_type": "code",
   "execution_count": null,
   "id": "d4c7d549",
   "metadata": {
    "ExecuteTime": {
     "end_time": "2024-03-27T05:21:52.698118Z",
     "start_time": "2024-03-27T05:21:52.698083Z"
    }
   },
   "outputs": [],
   "source": [
    "#Create a dictionary to store MAE for comparison \n",
    "MAE_Dict = {\n",
    "    'Metrics' : ['Base Model Mae','LinReg Base Model MAE','RF Base Model MAE','GBR Base Model MAE',\n",
    "                 'DT Base Model MAE','KNNR Base Model MAE'],\n",
    "    'Value':[round(float(test_set_mae),2),round(float(RF_Model_MAE)), round(float(RF_Model_MAE),2),\n",
    "             round(float(GBR_Model_MAE)),round(float(DT_Model_MAE)),round(float(KNNR_Model_MAE))]\n",
    "}\n",
    "\n",
    "MAE_DF = pd.DataFrame(MAE_Dict)\n",
    "\n",
    "MAE_DF = MAE_DF.sort_values('Value', ascending=False)\n",
    "\n",
    "# MAE_DF.plot()\n",
    "fig, ax = plt.subplots(figsize=(12,6))\n",
    "# Now you can use ax to plot\n",
    "MAE_DF.plot(kind='line', x='Metrics', y='Value', ax=ax,marker='o')\n",
    "ax.set_title('Base Model MAE Comparison')\n",
    "ax.set_ylabel('MAE Value')\n",
    "plt.show()"
   ]
  },
  {
   "cell_type": "code",
   "execution_count": null,
   "id": "5a482974",
   "metadata": {
    "ExecuteTime": {
     "end_time": "2024-03-27T05:21:52.700197Z",
     "start_time": "2024-03-27T05:21:52.700140Z"
    }
   },
   "outputs": [],
   "source": [
    "#Add New Model Predictions & Errors to Model Result_df \n",
    "Model_Results = Model_Results.assign(Base_KNNR_Model_Predictions=Base_KNNR_Model_Predictions,\n",
    "                                     KNNR_Model_MAE=KNNR_Model_MAE)\n",
    "\n",
    "\n",
    "Model_Results.head(20)\n",
    "\n",
    "unique_order_types = Model_Results['order_type'].unique()\n",
    "\n",
    "# Create plot figure\n",
    "num_order_types = len(unique_order_types)\n",
    "fig, ax = plt.subplots(num_order_types, 1, figsize=(20, 6*num_order_types))\n",
    "\n",
    "# Plot each order type in a subplot\n",
    "for i, order_type in enumerate(unique_order_types):\n",
    "    df_subset = Model_Results[Model_Results['order_type'] == order_type]\n",
    "    ax[i].plot(df_subset['Actuals'], label='Actuals',marker='o')\n",
    "    ax[i].plot(df_subset['Base_LinReg_Model_Predictions'], label='Base_LinReg_Model_Predictions')\n",
    "    ax[i].plot(df_subset['Base_Model_Predictions'], label='Base_Model_Predictions')\n",
    "    ax[i].plot(df_subset['Base_GBR_Model_Predictions'], label='Base_GBR_Model_Predictions',marker='*')\n",
    "    ax[i].plot(df_subset['Base_DT_Model_Predictions'], label='Base_DT_Model_Predictions')\n",
    "    ax[i].plot(df_subset['Base_KNNR_Model_Predictions'], label='Base_KNNR_Model_Predictions')\n",
    "\n",
    "    ax[i].set_title(f'{order_type} Trades: 2D High in Pips vs Random Forest Model Predictions')\n",
    "    ax[i].set_xlabel('2D High in Pips')\n",
    "    ax[i].set_ylabel('2D High in Pips')\n",
    "    ax[i].legend()\n",
    "\n",
    "# Add overall title\n",
    "fig.suptitle('Order Types: 2D High in Pips vs Baseline Model Predictions', fontsize=18)\n",
    "\n",
    "plt.tight_layout()\n",
    "plt.show()\n"
   ]
  },
  {
   "cell_type": "code",
   "execution_count": null,
   "id": "4992a386",
   "metadata": {},
   "outputs": [],
   "source": []
  },
  {
   "cell_type": "code",
   "execution_count": null,
   "id": "37ae6e8b",
   "metadata": {
    "ExecuteTime": {
     "end_time": "2024-03-27T05:21:52.702042Z",
     "start_time": "2024-03-27T05:21:52.702012Z"
    }
   },
   "outputs": [],
   "source": [
    "from sklearn.tree import DecisionTreeRegressor"
   ]
  },
  {
   "cell_type": "code",
   "execution_count": null,
   "id": "121c9fdd",
   "metadata": {
    "ExecuteTime": {
     "end_time": "2024-03-27T05:21:52.704006Z",
     "start_time": "2024-03-27T05:21:52.703971Z"
    }
   },
   "outputs": [],
   "source": [
    "??plt"
   ]
  },
  {
   "cell_type": "code",
   "execution_count": null,
   "id": "aba25228",
   "metadata": {},
   "outputs": [],
   "source": []
  },
  {
   "cell_type": "markdown",
   "id": "db2eb3ca",
   "metadata": {},
   "source": [
    "# Follow Everything From Tutorial"
   ]
  },
  {
   "cell_type": "code",
   "execution_count": null,
   "id": "2ef61d37",
   "metadata": {
    "ExecuteTime": {
     "end_time": "2024-03-27T05:21:52.706626Z",
     "start_time": "2024-03-27T05:21:52.706591Z"
    }
   },
   "outputs": [],
   "source": [
    "df_model = df_model.sample(frac=1, random_state=42)\n",
    "train_df = df_model[:386]\n",
    "train_df = train_df.reset_index(drop=True)\n",
    "\n",
    "test_df = df_model[386:]\n",
    "test_df = test_df.reset_index(drop=True)"
   ]
  },
  {
   "cell_type": "code",
   "execution_count": null,
   "id": "f542993a",
   "metadata": {
    "ExecuteTime": {
     "end_time": "2024-03-27T05:21:52.711387Z",
     "start_time": "2024-03-27T05:21:52.711352Z"
    }
   },
   "outputs": [],
   "source": [
    "y_train = train_df['remainder__2D High in Pips'].to_numpy()\n",
    "y_test = test_df['remainder__2D High in Pips'].to_numpy()\n",
    "\n",
    "y_train.shape, y_test.shape"
   ]
  },
  {
   "cell_type": "code",
   "execution_count": null,
   "id": "1f9d702a",
   "metadata": {
    "ExecuteTime": {
     "end_time": "2024-03-27T05:21:52.713818Z",
     "start_time": "2024-03-27T05:21:52.713786Z"
    }
   },
   "outputs": [],
   "source": [
    "\n",
    "from sklearn.metrics import mean_absolute_error\n",
    "\n",
    "average_median_house_value = train_df['remainder__2D High in Pips'].mean()\n",
    "baseline_model_test_predictions = [average_median_house_value] * len(test_df)\n",
    "\n",
    "mean_absolute_error(baseline_model_test_predictions, y_test)"
   ]
  },
  {
   "cell_type": "code",
   "execution_count": null,
   "id": "f9ad2fa7",
   "metadata": {
    "ExecuteTime": {
     "end_time": "2024-03-27T05:21:52.715844Z",
     "start_time": "2024-03-27T05:21:52.715812Z"
    }
   },
   "outputs": [],
   "source": [
    "\n",
    "import matplotlib.pyplot as plt\n",
    "import numpy as np\n",
    "\n",
    "# Sample data - replace with your actual and predicted values\n",
    "actual = np.array(y_test)  # Assuming y_test is your actual values\n",
    "predicted = np.array(baseline_model_test_predictions)  # Your predicted values\n",
    "errors = actual - predicted  # Calculate the errors\n",
    "\n",
    "# Create the primary plot with scatter points\n",
    "fig, ax1 = plt.subplots()\n",
    "\n",
    "# Scatter plot for actual vs. predicted values\n",
    "ax1.scatter(actual, predicted, alpha=0.5, color='blue', label='Predicted vs. Actual')\n",
    "ax1.set_xlabel('Actual Values')\n",
    "ax1.set_ylabel('Predicted Values', color='blue')\n",
    "ax1.tick_params(axis='y', labelcolor='blue')\n",
    "\n",
    "# Create the secondary y-axis for errors\n",
    "ax2 = ax1.twinx()  \n",
    "ax2.set_ylabel('Error', color='red')  \n",
    "ax2.tick_params(axis='y', labelcolor='red')\n",
    "\n",
    "# Adding vertical lines for each point to represent the error\n",
    "for i in range(len(actual)):\n",
    "    plt.vlines(actual[i], predicted[i], actual[i], color='red', alpha=0.7, linewidth=0.5)\n",
    "\n",
    "# Optional: Add legend\n",
    "ax1.legend()\n",
    "\n",
    "plt.title('Base Model Predictions vs Actuals with Error Visualization')\n",
    "plt.show()\n"
   ]
  },
  {
   "cell_type": "markdown",
   "id": "9add8167",
   "metadata": {
    "heading_collapsed": true
   },
   "source": [
    "### PCA"
   ]
  },
  {
   "cell_type": "code",
   "execution_count": null,
   "id": "89fff83c",
   "metadata": {
    "ExecuteTime": {
     "end_time": "2024-03-27T05:21:52.717812Z",
     "start_time": "2024-03-27T05:21:52.717773Z"
    },
    "hidden": true
   },
   "outputs": [],
   "source": [
    "train_df[['onehotencoder__Trend Status_Bullish',\n",
    " 'onehotencoder__5075 Trend Status_Bullish',\n",
    " 'onehotencoder__75100 Trend Status_Bullish',\n",
    " 'onehotencoder__100125 Trend Status_Bullish',\n",
    " 'onehotencoder__Opportunity_Unfavorable',\n",
    " 'onehotencoder__Order Type_SELL',\n",
    " 'onehotencoder__k_group_Oversold',\n",
    " 'onehotencoder__k_group_Undersold',\n",
    " 'onehotencoder__k_group_slightly_oversold',\n",
    " 'remainder__open',\n",
    " 'remainder__high',\n",
    " 'remainder__low',\n",
    " 'remainder__close',\n",
    " 'remainder__volume',\n",
    " 'remainder__Trade_Week_Year',\n",
    " 'remainder__Trade_Week_Month',\n",
    " 'remainder__Trade_Day_Week',\n",
    " 'remainder__Day',\n",
    " 'remainder__Month',\n",
    " 'remainder__25EMA',\n",
    " 'remainder__50EMA',\n",
    " 'remainder__75EMA',\n",
    " 'remainder__100EMA',\n",
    " 'remainder__125EMA',\n",
    " 'remainder__Spread',\n",
    " 'remainder__%K',\n",
    " 'remainder__%D',\n",
    " 'remainder__ADX',\n",
    " 'remainder__ADXR',\n",
    " 'remainder__slowk',\n",
    " 'remainder__slowd',\n",
    "'remainder__candle_bullish_score',\n",
    " 'remainder__candle_bearish_score',\n",
    "'remainder__Previous_Trade_Status']].corr()"
   ]
  },
  {
   "cell_type": "code",
   "execution_count": null,
   "id": "b30ef5f7",
   "metadata": {
    "ExecuteTime": {
     "end_time": "2024-03-27T05:21:52.726621Z",
     "start_time": "2024-03-27T05:21:52.726599Z"
    },
    "hidden": true
   },
   "outputs": [],
   "source": [
    "X_train_34 = train_df[['onehotencoder__Trend Status_Bullish',\n",
    " 'onehotencoder__5075 Trend Status_Bullish',\n",
    " 'onehotencoder__75100 Trend Status_Bullish',\n",
    " 'onehotencoder__100125 Trend Status_Bullish',\n",
    " 'onehotencoder__Opportunity_Unfavorable',\n",
    " 'onehotencoder__Order Type_SELL',\n",
    " 'onehotencoder__k_group_Oversold',\n",
    " 'onehotencoder__k_group_Undersold',\n",
    " 'onehotencoder__k_group_slightly_oversold',\n",
    " 'remainder__open',\n",
    " 'remainder__high',\n",
    " 'remainder__low',\n",
    " 'remainder__close',\n",
    " 'remainder__volume',\n",
    " 'remainder__Trade_Week_Year',\n",
    " 'remainder__Trade_Week_Month',\n",
    " 'remainder__Trade_Day_Week',\n",
    " 'remainder__Day',\n",
    " 'remainder__Month',\n",
    " 'remainder__25EMA',\n",
    " 'remainder__50EMA',\n",
    " 'remainder__75EMA',\n",
    " 'remainder__100EMA',\n",
    " 'remainder__125EMA',\n",
    " 'remainder__Spread',\n",
    " 'remainder__%K',\n",
    " 'remainder__%D',\n",
    " 'remainder__ADX',\n",
    " 'remainder__ADXR',\n",
    " 'remainder__slowk',\n",
    " 'remainder__slowd',\n",
    "'remainder__candle_bullish_score',\n",
    " 'remainder__candle_bearish_score',\n",
    " 'remainder__Previous_Trade_Status']].to_numpy()\n",
    "\n",
    "X_train_34.shape"
   ]
  },
  {
   "cell_type": "code",
   "execution_count": null,
   "id": "0e5bdf8d",
   "metadata": {
    "ExecuteTime": {
     "end_time": "2024-03-27T05:21:52.728220Z",
     "start_time": "2024-03-27T05:21:52.728199Z"
    },
    "hidden": true
   },
   "outputs": [],
   "source": [
    "X_test_34 = test_df[['onehotencoder__Trend Status_Bullish',\n",
    " 'onehotencoder__5075 Trend Status_Bullish',\n",
    " 'onehotencoder__75100 Trend Status_Bullish',\n",
    " 'onehotencoder__100125 Trend Status_Bullish',\n",
    " 'onehotencoder__Opportunity_Unfavorable',\n",
    " 'onehotencoder__Order Type_SELL',\n",
    " 'onehotencoder__k_group_Oversold',\n",
    " 'onehotencoder__k_group_Undersold',\n",
    " 'onehotencoder__k_group_slightly_oversold',\n",
    " 'remainder__open',\n",
    " 'remainder__high',\n",
    " 'remainder__low',\n",
    " 'remainder__close',\n",
    " 'remainder__volume',\n",
    " 'remainder__Trade_Week_Year',\n",
    " 'remainder__Trade_Week_Month',\n",
    " 'remainder__Trade_Day_Week',\n",
    " 'remainder__Day',\n",
    " 'remainder__Month',\n",
    " 'remainder__25EMA',\n",
    " 'remainder__50EMA',\n",
    " 'remainder__75EMA',\n",
    " 'remainder__100EMA',\n",
    " 'remainder__125EMA',\n",
    " 'remainder__Spread',\n",
    " 'remainder__%K',\n",
    " 'remainder__%D',\n",
    " 'remainder__ADX',\n",
    " 'remainder__ADXR',\n",
    " 'remainder__slowk',\n",
    " 'remainder__slowd',\n",
    "'remainder__candle_bullish_score',\n",
    " 'remainder__candle_bearish_score',\n",
    "'remainder__Previous_Trade_Status']].to_numpy()\n",
    "\n",
    "X_test_34.shape"
   ]
  },
  {
   "cell_type": "code",
   "execution_count": null,
   "id": "ddc075ba",
   "metadata": {
    "ExecuteTime": {
     "end_time": "2024-03-27T05:21:52.730562Z",
     "start_time": "2024-03-27T05:21:52.730539Z"
    },
    "hidden": true
   },
   "outputs": [],
   "source": [
    "\n",
    "forest_base = RandomForestRegressor(n_estimators=100, max_depth=5).fit(X_train_34, y_train)\n",
    "forest_base_test_predictions = forest_base.predict(X_test_34)\n",
    "mean_absolute_error(y_test, forest_base_test_predictions)"
   ]
  },
  {
   "cell_type": "code",
   "execution_count": null,
   "id": "0a49c877",
   "metadata": {
    "ExecuteTime": {
     "end_time": "2024-03-27T05:21:52.732148Z",
     "start_time": "2024-03-27T05:21:52.732127Z"
    },
    "hidden": true
   },
   "outputs": [],
   "source": [
    "# Plotting scatter plot\n",
    "plt.scatter(y_test, forest_base_test_predictions, alpha=0.5)\n",
    "plt.title('Scatter Plot of Predictions vs Actuals')\n",
    "plt.xlabel('Actual Values')\n",
    "plt.ylabel('Predicted Values')\n",
    "plt.show()"
   ]
  },
  {
   "cell_type": "code",
   "execution_count": null,
   "id": "7df453d1",
   "metadata": {
    "ExecuteTime": {
     "end_time": "2024-03-27T05:21:52.733927Z",
     "start_time": "2024-03-27T05:21:52.733906Z"
    },
    "hidden": true
   },
   "outputs": [],
   "source": [
    "# Sample data - replace with your actual and predicted values\n",
    "actual = np.array(y_test)  # Assuming y_test is your actual values\n",
    "predicted = np.array(forest_base_test_predictions)  # Your predicted values\n",
    "errors = actual - predicted  # Calculate the errors\n",
    "\n",
    "# Create the primary plot with scatter points\n",
    "fig, ax1 = plt.subplots()\n",
    "\n",
    "# Scatter plot for actual vs. predicted values\n",
    "ax1.scatter(actual, predicted, alpha=0.5, color='blue', label='Predicted vs. Actual')\n",
    "ax1.set_xlabel('Actual Values')\n",
    "ax1.set_ylabel('Predicted Values', color='blue')\n",
    "ax1.tick_params(axis='y', labelcolor='blue')\n",
    "\n",
    "# Create the secondary y-axis for errors\n",
    "ax2 = ax1.twinx()  \n",
    "ax2.set_ylabel('Error', color='red')  \n",
    "ax2.tick_params(axis='y', labelcolor='red')\n",
    "\n",
    "# Adding vertical lines for each point to represent the error\n",
    "for i in range(len(actual)):\n",
    "    plt.vlines(actual[i], predicted[i], actual[i], color='red', alpha=0.7, linewidth=0.5)\n",
    "\n",
    "# Optional: Add legend\n",
    "ax1.legend()\n",
    "\n",
    "plt.title('Random Forest Model Predictions vs Actuals with Error Visualization')\n",
    "plt.show()"
   ]
  },
  {
   "cell_type": "code",
   "execution_count": null,
   "id": "e350c78e",
   "metadata": {
    "ExecuteTime": {
     "end_time": "2024-03-27T05:21:52.735684Z",
     "start_time": "2024-03-27T05:21:52.735664Z"
    },
    "hidden": true
   },
   "outputs": [],
   "source": [
    "from sklearn.decomposition import PCA \n",
    "from sklearn.pipeline import Pipeline \n"
   ]
  },
  {
   "cell_type": "code",
   "execution_count": null,
   "id": "2eefacb8",
   "metadata": {
    "ExecuteTime": {
     "end_time": "2024-03-27T05:21:52.737413Z",
     "start_time": "2024-03-27T05:21:52.737394Z"
    },
    "hidden": true
   },
   "outputs": [],
   "source": [
    "pca = PCA(n_components=32)\n",
    "pca = pca.fit(X_train_34)\n",
    "\n",
    "pca"
   ]
  },
  {
   "cell_type": "code",
   "execution_count": null,
   "id": "1bf16c9a",
   "metadata": {
    "ExecuteTime": {
     "end_time": "2024-03-27T05:21:52.745326Z",
     "start_time": "2024-03-27T05:21:52.745306Z"
    },
    "hidden": true
   },
   "outputs": [],
   "source": [
    "X_train_pca = pca.transform(X_train_34)\n",
    "X_test_pca = pca.transform(X_test_34)\n",
    "\n",
    "X_train_pca.shape, X_test_pca.shape"
   ]
  },
  {
   "cell_type": "code",
   "execution_count": null,
   "id": "0513e775",
   "metadata": {
    "ExecuteTime": {
     "end_time": "2024-03-27T05:21:52.749450Z",
     "start_time": "2024-03-27T05:21:52.749429Z"
    },
    "hidden": true
   },
   "outputs": [],
   "source": [
    "# Get error of Random Forest training on (X_train_pca, y_train) and testing on (X_test_pca, y_test)\n",
    "\n",
    "forest_pca = RandomForestRegressor(n_estimators=100, max_depth=5).fit(X_train_pca, y_train)\n",
    "forest_pca_test_predictions = forest_pca.predict(X_test_pca)\n",
    "\n",
    "mean_absolute_error(y_test, forest_pca_test_predictions)"
   ]
  },
  {
   "cell_type": "code",
   "execution_count": null,
   "id": "0433cc04",
   "metadata": {
    "ExecuteTime": {
     "end_time": "2024-03-27T05:21:52.752272Z",
     "start_time": "2024-03-27T05:21:52.752250Z"
    },
    "hidden": true
   },
   "outputs": [],
   "source": [
    "from sklearn.preprocessing import StandardScaler, Normalizer, MinMaxScaler"
   ]
  },
  {
   "cell_type": "code",
   "execution_count": null,
   "id": "51a129c5",
   "metadata": {
    "ExecuteTime": {
     "end_time": "2024-03-27T05:21:52.753840Z",
     "start_time": "2024-03-27T05:21:52.753817Z"
    },
    "hidden": true
   },
   "outputs": [],
   "source": [
    "#Test Different Preprocessing Functions on Subset \n",
    "Scaler = Normalizer().fit(X_train_34)\n",
    "\n",
    "X_train_34_scaled = Scaler.transform(X_train_34)\n",
    "\n",
    "plt.hist(X_train_34_scaled[:,8])"
   ]
  },
  {
   "cell_type": "code",
   "execution_count": null,
   "id": "979f89ca",
   "metadata": {
    "ExecuteTime": {
     "end_time": "2024-03-27T05:21:52.756569Z",
     "start_time": "2024-03-27T05:21:52.756548Z"
    },
    "hidden": true
   },
   "outputs": [],
   "source": [
    "#Preprocess X_test \n",
    "X_test_34_scaled = Scaler.transform(X_test_34)\n",
    "\n",
    "X_test_34_scaled.shape\n"
   ]
  },
  {
   "cell_type": "code",
   "execution_count": null,
   "id": "3b6f4d7d",
   "metadata": {
    "ExecuteTime": {
     "end_time": "2024-03-27T05:21:52.760781Z",
     "start_time": "2024-03-27T05:21:52.760738Z"
    },
    "hidden": true
   },
   "outputs": [],
   "source": [
    "#Get error for RF Model training with scaled data and testing on scaled data \n",
    "\n",
    "RF_Model_Scaled = RandomForestRegressor(n_estimators=100, max_depth=5).fit(X_train_34_scaled, y_train)\n",
    "\n",
    "RF_Model_Scaled_Predictions =  RF_Model_Scaled.predict(X_test_34_scaled)\n",
    "\n",
    "mean_absolute_error(y_test, RF_Model_Scaled_Predictions)"
   ]
  },
  {
   "cell_type": "code",
   "execution_count": null,
   "id": "b3d0464c",
   "metadata": {
    "ExecuteTime": {
     "end_time": "2024-03-27T05:21:52.770024Z",
     "start_time": "2024-03-27T05:21:52.769978Z"
    },
    "hidden": true
   },
   "outputs": [],
   "source": [
    "#Create a Pipeline of Standardization, PCA, Random Forest \n",
    "\n",
    "\n",
    "Scaled_PCA_Pipeline_RF = Pipeline(\n",
    "                                steps=[('Scaler', Normalizer()),\n",
    "                                       ('PCA', PCA(n_components=32)),\n",
    "                                       ('RF', RandomForestRegressor(n_estimators=100, max_depth=5))])\n",
    "\n",
    "Scaled_PCA_Pipeline_RF"
   ]
  },
  {
   "cell_type": "code",
   "execution_count": null,
   "id": "d35ddfab",
   "metadata": {
    "ExecuteTime": {
     "end_time": "2024-03-27T05:21:52.773001Z",
     "start_time": "2024-03-27T05:21:52.772968Z"
    },
    "hidden": true
   },
   "outputs": [],
   "source": [
    "Scaled_PCA_Pipeline_RF.fit(X_train_34, y_train)\n",
    "\n",
    "Scaled_PCA_Pipeline_RF_Predictions = Scaled_PCA_Pipeline_RF.predict(X_test_34)\n",
    "\n",
    "mean_absolute_error(y_test, Scaled_PCA_Pipeline_RF_Predictions)"
   ]
  },
  {
   "cell_type": "code",
   "execution_count": null,
   "id": "89b9500a",
   "metadata": {
    "ExecuteTime": {
     "end_time": "2024-03-27T05:21:52.775457Z",
     "start_time": "2024-03-27T05:21:52.775423Z"
    },
    "hidden": true
   },
   "outputs": [],
   "source": [
    "#Create a Pipeline of Standardization, PCA, Random Forest \n",
    "\n",
    "from sklearn.pipeline import Pipeline \n",
    "\n",
    "Scaled_PCA_Pipeline_RF = Pipeline(\n",
    "                                steps=[('Encoder', )\n",
    "                                       ('Scaler', Normalizer()),\n",
    "                                       ('PCA', PCA(n_components=32)),\n",
    "                                       ('RF', RandomForestRegressor(n_estimators=100, max_depth=5))])\n",
    "\n",
    "Scaled_PCA_Pipeline_RF"
   ]
  },
  {
   "cell_type": "markdown",
   "id": "b8f9b81a",
   "metadata": {
    "heading_collapsed": true
   },
   "source": [
    "# Build a Model Based on the Encoded Features  "
   ]
  },
  {
   "cell_type": "code",
   "execution_count": null,
   "id": "e037964a",
   "metadata": {
    "ExecuteTime": {
     "end_time": "2024-03-27T05:21:52.777854Z",
     "start_time": "2024-03-27T05:21:52.777829Z"
    },
    "hidden": true
   },
   "outputs": [],
   "source": [
    "X_train_Dummies = train_df[['onehotencoder__Time_02:00:00', 'onehotencoder__Time_05:00:00',\n",
    "       'onehotencoder__Time_06:00:00', 'onehotencoder__Time_09:00:00',\n",
    "       'onehotencoder__Time_10:00:00', 'onehotencoder__Time_13:00:00',\n",
    "       'onehotencoder__Time_14:00:00', 'onehotencoder__Time_17:00:00',\n",
    "       'onehotencoder__Time_18:00:00', 'onehotencoder__Time_21:00:00',\n",
    "       'onehotencoder__Time_22:00:00', 'onehotencoder__Trend Status_Bullish',\n",
    "       'onehotencoder__5075 Trend Status_Bullish',\n",
    "       'onehotencoder__75100 Trend Status_Bullish',\n",
    "       'onehotencoder__100125 Trend Status_Bullish',\n",
    "       'onehotencoder__Opportunity_Unfavorable',\n",
    "       'onehotencoder__Order Type_SELL', 'onehotencoder__k_group_Oversold',\n",
    "       'onehotencoder__k_group_Undersold',\n",
    "       'onehotencoder__k_group_slightly_oversold']]\n",
    "\n",
    "X_test_Dummies = test_df[['onehotencoder__Time_02:00:00', 'onehotencoder__Time_05:00:00',\n",
    "       'onehotencoder__Time_06:00:00', 'onehotencoder__Time_09:00:00',\n",
    "       'onehotencoder__Time_10:00:00', 'onehotencoder__Time_13:00:00',\n",
    "       'onehotencoder__Time_14:00:00', 'onehotencoder__Time_17:00:00',\n",
    "       'onehotencoder__Time_18:00:00', 'onehotencoder__Time_21:00:00',\n",
    "       'onehotencoder__Time_22:00:00', 'onehotencoder__Trend Status_Bullish',\n",
    "       'onehotencoder__5075 Trend Status_Bullish',\n",
    "       'onehotencoder__75100 Trend Status_Bullish',\n",
    "       'onehotencoder__100125 Trend Status_Bullish',\n",
    "       'onehotencoder__Opportunity_Unfavorable',\n",
    "       'onehotencoder__Order Type_SELL', 'onehotencoder__k_group_Oversold',\n",
    "       'onehotencoder__k_group_Undersold',\n",
    "       'onehotencoder__k_group_slightly_oversold']]\n",
    "\n",
    "\n"
   ]
  },
  {
   "cell_type": "code",
   "execution_count": null,
   "id": "ce72c75f",
   "metadata": {
    "ExecuteTime": {
     "end_time": "2024-03-27T05:21:52.780492Z",
     "start_time": "2024-03-27T05:21:52.780447Z"
    },
    "hidden": true
   },
   "outputs": [],
   "source": [
    "X_train_Dummies.shape, X_test_Dummies.shape"
   ]
  },
  {
   "cell_type": "code",
   "execution_count": null,
   "id": "602a9e67",
   "metadata": {
    "ExecuteTime": {
     "end_time": "2024-03-27T05:21:52.782598Z",
     "start_time": "2024-03-27T05:21:52.782575Z"
    },
    "hidden": true
   },
   "outputs": [],
   "source": [
    "y_train.shape, y_test.shape"
   ]
  },
  {
   "cell_type": "code",
   "execution_count": null,
   "id": "71467876",
   "metadata": {
    "ExecuteTime": {
     "end_time": "2024-03-27T05:21:52.786540Z",
     "start_time": "2024-03-27T05:21:52.786514Z"
    },
    "hidden": true
   },
   "outputs": [],
   "source": [
    "from sklearn.linear_model import LinearRegression"
   ]
  },
  {
   "cell_type": "code",
   "execution_count": null,
   "id": "f5393ad9",
   "metadata": {
    "ExecuteTime": {
     "end_time": "2024-03-27T05:21:52.792502Z",
     "start_time": "2024-03-27T05:21:52.792437Z"
    },
    "hidden": true
   },
   "outputs": [],
   "source": [
    "#Create Linear Regresion Model\n",
    "Lin_Reg_Dummy_model = LinearRegression().fit(X_train_Dummies, y_train)\n",
    "Lin_Reg_Dummy_Prediction = Lin_Reg_Dummy_model.predict(X_test_Dummies)\n",
    "\n",
    "mean_absolute_error(y_test, Lin_Reg_Dummy_Prediction)"
   ]
  },
  {
   "cell_type": "markdown",
   "id": "4a16e3ba",
   "metadata": {
    "heading_collapsed": true,
    "hidden": true
   },
   "source": [
    "## Binning (Grouping Aggregating )"
   ]
  },
  {
   "cell_type": "code",
   "execution_count": null,
   "id": "dca0305f",
   "metadata": {
    "ExecuteTime": {
     "end_time": "2024-03-27T05:21:52.794838Z",
     "start_time": "2024-03-27T05:21:52.794805Z"
    },
    "hidden": true
   },
   "outputs": [],
   "source": [
    "train_df['remainder__2D High in Pips'].hist()"
   ]
  },
  {
   "cell_type": "markdown",
   "id": "1bbe49f6",
   "metadata": {
    "ExecuteTime": {
     "end_time": "2024-03-03T14:45:30.472971Z",
     "start_time": "2024-03-03T14:45:30.232625Z"
    },
    "hidden": true
   },
   "source": [
    "### Cluster "
   ]
  },
  {
   "cell_type": "code",
   "execution_count": null,
   "id": "db2b4cf6",
   "metadata": {
    "ExecuteTime": {
     "end_time": "2024-03-27T05:21:52.799408Z",
     "start_time": "2024-03-27T05:21:52.799376Z"
    },
    "hidden": true
   },
   "outputs": [],
   "source": [
    "plt.scatter(df['Trade_Week_Year'], df['volume'])"
   ]
  },
  {
   "cell_type": "code",
   "execution_count": null,
   "id": "43e4d3d5",
   "metadata": {
    "ExecuteTime": {
     "end_time": "2024-03-27T05:21:52.801567Z",
     "start_time": "2024-03-27T05:21:52.801532Z"
    },
    "hidden": true
   },
   "outputs": [],
   "source": [
    "from sklearn.cluster import KMeans\n",
    "\n",
    "X_Train_Trade_Week_Year_Volume = train_df[['remainder__Trade_Week_Year','remainder__volume']]\n",
    "\n",
    "KMeans = KMeans(n_clusters=7).fit(X_Train_Trade_Week_Year_Volume)\n",
    "\n",
    "KMeans.labels_"
   ]
  },
  {
   "cell_type": "code",
   "execution_count": null,
   "id": "25d82afc",
   "metadata": {
    "ExecuteTime": {
     "end_time": "2024-03-27T05:21:52.803912Z",
     "start_time": "2024-03-27T05:21:52.803874Z"
    },
    "hidden": true
   },
   "outputs": [],
   "source": [
    "import plotly.express as px"
   ]
  },
  {
   "cell_type": "code",
   "execution_count": null,
   "id": "458548e5",
   "metadata": {
    "ExecuteTime": {
     "end_time": "2024-03-27T05:21:52.816033Z",
     "start_time": "2024-03-27T05:21:52.815992Z"
    },
    "hidden": true
   },
   "outputs": [],
   "source": [
    "\n",
    "import plotly.io as pio\n",
    "pio.renderers.default = \"notebook_connected\"\n",
    "\n",
    "\n",
    "px.scatter(x=train_df['remainder__Trade_Week_Year'], y=train_df['remainder__volume'], color=KMeans.labels_)"
   ]
  },
  {
   "cell_type": "code",
   "execution_count": null,
   "id": "51e35b4a",
   "metadata": {
    "ExecuteTime": {
     "end_time": "2024-03-27T05:21:52.818102Z",
     "start_time": "2024-03-27T05:21:52.818067Z"
    },
    "hidden": true
   },
   "outputs": [],
   "source": [
    "X_train_Cluster = pd.get_dummies(pd.Series(KMeans.labels_)).astype(int).to_numpy()\n",
    "\n",
    "\n",
    "#Predict the clusters for the Test date \n",
    "X_Test_Trade_Week_Year_Volume = test_df[['remainder__Trade_Week_Year','remainder__volume']].to_numpy()\n",
    "X_Test_Cluster = pd.get_dummies(pd.Series(KMeans.predict(X_Test_Trade_Week_Year_Volume))).astype(int).to_numpy()\n",
    "\n",
    "\n",
    "Lin_Reg_Cluster  = LinearRegression().fit(X_train_Cluster, y_train)\n",
    "Lin_Reg_Cluster_Predictions = Lin_Reg_Cluster.predict(X_Test_Cluster)\n",
    "\n",
    "mean_absolute_error(y_test, Lin_Reg_Cluster_Predictions)"
   ]
  },
  {
   "cell_type": "code",
   "execution_count": null,
   "id": "fe648d2e",
   "metadata": {
    "ExecuteTime": {
     "end_time": "2024-03-03T20:39:48.566697Z",
     "start_time": "2024-03-03T20:39:48.529577Z"
    },
    "hidden": true
   },
   "outputs": [],
   "source": []
  },
  {
   "cell_type": "code",
   "execution_count": null,
   "id": "bf089588",
   "metadata": {
    "ExecuteTime": {
     "end_time": "2024-03-27T05:21:52.821836Z",
     "start_time": "2024-03-27T05:21:52.821800Z"
    },
    "hidden": true
   },
   "outputs": [],
   "source": [
    "import pandas as pd\n",
    "\n",
    "# Assume n_clusters is the number of clusters you used\n",
    "n_clusters = max(KMeans.labels_.max(), KMeans.predict(X_Test_Trade_Week_Year_Volume).max()) + 1\n",
    "all_possible_clusters = pd.Series(range(n_clusters))\n",
    "\n",
    "# For training data\n",
    "X_train_Cluster = pd.get_dummies(pd.Categorical(pd.Series(KMeans.labels_), categories=all_possible_clusters)).astype(int).to_numpy()\n",
    "\n",
    "# For test data\n",
    "test_clusters = KMeans.predict(X_Test_Trade_Week_Year_Volume)\n",
    "X_Test_Cluster = pd.get_dummies(pd.Categorical(pd.Series(test_clusters), categories=all_possible_clusters)).astype(int).to_numpy()\n"
   ]
  },
  {
   "cell_type": "code",
   "execution_count": null,
   "id": "3a6c5651",
   "metadata": {
    "ExecuteTime": {
     "end_time": "2024-03-27T05:21:52.830112Z",
     "start_time": "2024-03-27T05:21:52.830076Z"
    },
    "hidden": true
   },
   "outputs": [],
   "source": [
    "Lin_Reg_Cluster  = LinearRegression().fit(X_train_Cluster, y_train)\n",
    "Lin_Reg_Cluster_Predictions = Lin_Reg_Cluster.predict(X_Test_Cluster)\n",
    "\n",
    "mean_absolute_error(y_test, Lin_Reg_Cluster_Predictions)"
   ]
  },
  {
   "cell_type": "code",
   "execution_count": null,
   "id": "2ce3b9b2",
   "metadata": {
    "ExecuteTime": {
     "end_time": "2024-03-27T05:21:52.852296Z",
     "start_time": "2024-03-27T05:21:52.852275Z"
    },
    "hidden": true
   },
   "outputs": [],
   "source": [
    "# Plotting scatter plot\n",
    "plt.scatter(y_test, Lin_Reg_Cluster_Predictions, alpha=0.5)\n",
    "plt.title('Scatter Plot of Predictions vs Actuals')\n",
    "plt.xlabel('Actual Values')\n",
    "plt.ylabel('Predicted Values')\n",
    "plt.show()"
   ]
  },
  {
   "cell_type": "code",
   "execution_count": null,
   "id": "9f5cafc0",
   "metadata": {
    "ExecuteTime": {
     "end_time": "2024-03-27T05:21:52.877068Z",
     "start_time": "2024-03-27T05:21:52.877045Z"
    },
    "hidden": true
   },
   "outputs": [],
   "source": [
    "# Sample data - replace with your actual and predicted values\n",
    "actual = np.array(y_test)  # Assuming y_test is your actual values\n",
    "predicted = np.array(Lin_Reg_Cluster_Predictions)  # Your predicted values\n",
    "errors = actual - predicted  # Calculate the errors\n",
    "\n",
    "# Create the primary plot with scatter points\n",
    "fig, ax1 = plt.subplots()\n",
    "\n",
    "# Scatter plot for actual vs. predicted values\n",
    "ax1.scatter(actual, predicted, alpha=0.5, color='blue', label='Predicted vs. Actual')\n",
    "ax1.set_xlabel('Actual Values')\n",
    "ax1.set_ylabel('Predicted Values', color='blue')\n",
    "ax1.tick_params(axis='y', labelcolor='blue')\n",
    "\n",
    "# Create the secondary y-axis for errors\n",
    "ax2 = ax1.twinx()  \n",
    "ax2.set_ylabel('Error', color='red')  \n",
    "ax2.tick_params(axis='y', labelcolor='red')\n",
    "\n",
    "# Adding vertical lines for each point to represent the error\n",
    "for i in range(len(actual)):\n",
    "    plt.vlines(actual[i], predicted[i], actual[i], color='red', alpha=0.7, linewidth=0.5)\n",
    "\n",
    "# Optional: Add legend\n",
    "ax1.legend()\n",
    "\n",
    "plt.title('Random Forest Model Predictions vs Actuals with Error Visualization')\n",
    "plt.show()"
   ]
  },
  {
   "cell_type": "code",
   "execution_count": null,
   "id": "24e8395c",
   "metadata": {
    "ExecuteTime": {
     "end_time": "2024-03-27T05:21:52.894231Z",
     "start_time": "2024-03-27T05:21:52.894171Z"
    },
    "hidden": true
   },
   "outputs": [],
   "source": [
    "RF_Cluster  = RandomForestRegressor(n_estimators=100, max_depth=5).fit(X_train_Cluster, y_train)\n",
    "RF_Cluster_Predictions = RF_Cluster.predict(X_Test_Cluster)\n",
    "\n",
    "mean_absolute_error(y_test, RF_Cluster_Predictions)"
   ]
  },
  {
   "cell_type": "markdown",
   "id": "e48d3ab5",
   "metadata": {
    "ExecuteTime": {
     "end_time": "2024-03-03T15:57:21.852644Z",
     "start_time": "2024-03-03T15:57:21.534991Z"
    },
    "hidden": true
   },
   "source": [
    "### Feature Selection "
   ]
  },
  {
   "cell_type": "code",
   "execution_count": null,
   "id": "10cd4b02",
   "metadata": {
    "ExecuteTime": {
     "end_time": "2024-03-27T05:21:52.896816Z",
     "start_time": "2024-03-27T05:21:52.896778Z"
    },
    "hidden": true
   },
   "outputs": [],
   "source": [
    "X_train_Cluster.shape, X_train_Dummies.shape"
   ]
  },
  {
   "cell_type": "code",
   "execution_count": null,
   "id": "eba412e8",
   "metadata": {
    "ExecuteTime": {
     "end_time": "2024-03-27T05:21:52.898883Z",
     "start_time": "2024-03-27T05:21:52.898848Z"
    },
    "hidden": true
   },
   "outputs": [],
   "source": [
    "#Concatenante Training Arrays \n",
    "\n",
    "X_train_full = np.concatenate([X_train_Cluster, X_train_Dummies], axis=1)\n",
    "\n",
    "X_train_full.shape"
   ]
  },
  {
   "cell_type": "code",
   "execution_count": null,
   "id": "2600e655",
   "metadata": {
    "ExecuteTime": {
     "end_time": "2024-03-27T05:21:52.900954Z",
     "start_time": "2024-03-27T05:21:52.900919Z"
    },
    "hidden": true
   },
   "outputs": [],
   "source": [
    "X_Test_Cluster.shape,  X_test_Dummies.shape"
   ]
  },
  {
   "cell_type": "code",
   "execution_count": null,
   "id": "271b6735",
   "metadata": {
    "ExecuteTime": {
     "end_time": "2024-03-27T05:21:52.902855Z",
     "start_time": "2024-03-27T05:21:52.902823Z"
    },
    "hidden": true
   },
   "outputs": [],
   "source": [
    "#Concatenante Tets Arrays \n",
    "\n",
    "X_test_full = np.concatenate([X_Test_Cluster,  X_test_Dummies], axis=1)\n",
    "\n",
    "X_test_full.shape"
   ]
  },
  {
   "cell_type": "code",
   "execution_count": null,
   "id": "176d8ed0",
   "metadata": {
    "ExecuteTime": {
     "end_time": "2024-03-27T05:21:52.904901Z",
     "start_time": "2024-03-27T05:21:52.904864Z"
    },
    "hidden": true
   },
   "outputs": [],
   "source": [
    "RF_Model_Full = RandomForestRegressor(n_estimators=50, max_depth=5).fit(X_train_full, y_train)\n",
    "\n",
    "RF_Model_Predictions = RF_Model_Full.predict(X_test_full)\n",
    "\n",
    "mean_absolute_error(y_test, RF_Model_Predictions)"
   ]
  },
  {
   "cell_type": "code",
   "execution_count": null,
   "id": "50bc4c3d",
   "metadata": {
    "hidden": true
   },
   "outputs": [],
   "source": []
  },
  {
   "cell_type": "code",
   "execution_count": null,
   "id": "ff49b328",
   "metadata": {
    "hidden": true
   },
   "outputs": [],
   "source": []
  },
  {
   "cell_type": "code",
   "execution_count": null,
   "id": "6dc3e11a",
   "metadata": {
    "hidden": true
   },
   "outputs": [],
   "source": []
  },
  {
   "cell_type": "code",
   "execution_count": null,
   "id": "2e525e6f",
   "metadata": {
    "hidden": true
   },
   "outputs": [],
   "source": []
  },
  {
   "cell_type": "code",
   "execution_count": null,
   "id": "326b6d1a",
   "metadata": {
    "hidden": true
   },
   "outputs": [],
   "source": []
  },
  {
   "cell_type": "code",
   "execution_count": null,
   "id": "262cf301",
   "metadata": {
    "hidden": true
   },
   "outputs": [],
   "source": []
  },
  {
   "cell_type": "markdown",
   "id": "20e497aa",
   "metadata": {
    "ExecuteTime": {
     "end_time": "2024-03-02T15:39:25.531808Z",
     "start_time": "2024-03-02T15:39:25.319965Z"
    },
    "hidden": true
   },
   "source": [
    "### Test Train "
   ]
  },
  {
   "cell_type": "code",
   "execution_count": null,
   "id": "a6921431",
   "metadata": {
    "ExecuteTime": {
     "end_time": "2024-03-27T05:21:52.906855Z",
     "start_time": "2024-03-27T05:21:52.906822Z"
    },
    "hidden": true
   },
   "outputs": [],
   "source": [
    "from sklearn.model_selection import TimeSeriesSplit"
   ]
  },
  {
   "cell_type": "code",
   "execution_count": null,
   "id": "33b6d308",
   "metadata": {
    "ExecuteTime": {
     "end_time": "2024-03-27T05:21:52.911864Z",
     "start_time": "2024-03-27T05:21:52.911842Z"
    },
    "hidden": true
   },
   "outputs": [],
   "source": [
    "Y = df_model[['remainder__2D High in Pips']]\n",
    "X = df_model.drop('remainder__2D High in Pips', axis=1)"
   ]
  },
  {
   "cell_type": "code",
   "execution_count": null,
   "id": "b08bc2b4",
   "metadata": {
    "ExecuteTime": {
     "end_time": "2024-03-27T05:21:52.913000Z",
     "start_time": "2024-03-27T05:21:52.912981Z"
    },
    "hidden": true
   },
   "outputs": [],
   "source": [
    " #Split the data into training and test set \n",
    "X_train, X_test, y_train, y_test = train_test_split( X, Y, test_size=.204, random_state=42, stratify=X['onehotencoder__Order Type_SELL'])\n",
    "\n",
    "print(f\"Training Set: {X_train.shape}\\\n",
    "        \\nTest Set: {X_test.shape}\")"
   ]
  },
  {
   "cell_type": "markdown",
   "id": "05eb3efe",
   "metadata": {
    "ExecuteTime": {
     "end_time": "2024-03-02T16:47:42.947129Z",
     "start_time": "2024-03-02T16:47:42.911696Z"
    }
   },
   "source": [
    "# Baseline Model "
   ]
  },
  {
   "cell_type": "code",
   "execution_count": null,
   "id": "41c006e3",
   "metadata": {
    "ExecuteTime": {
     "end_time": "2024-03-27T05:21:52.914051Z",
     "start_time": "2024-03-27T05:21:52.914033Z"
    }
   },
   "outputs": [],
   "source": [
    "from sklearn.metrics import mean_absolute_error"
   ]
  },
  {
   "cell_type": "code",
   "execution_count": null,
   "id": "17341362",
   "metadata": {
    "ExecuteTime": {
     "end_time": "2024-03-27T05:21:52.926540Z",
     "start_time": "2024-03-27T05:21:52.926503Z"
    }
   },
   "outputs": [],
   "source": [
    "#Create a New Training DF based on the Split \n",
    "y_train = pd.DataFrame(y_train, index=X_train.index, columns=['remainder__2D High in Pips'])\n",
    "\n",
    "full_df_train = pd.concat([X_train,y_train ],axis=1)\n",
    "\n",
    "#Create a new Test DF based on the Split \n",
    "y_test = pd.DataFrame(y_test, index=X_test.index, columns=['remainder__2D High in Pips'])\n",
    "\n",
    "full_df_test = pd.concat([X_test,y_test ],axis=1)\n",
    "\n",
    "\n",
    "print(f\"Base_Model_Training Set: {full_df_train.shape}\\\n",
    "        \\nTBase_Model_Test Set: {full_df_test.shape}\")\n",
    "\n",
    "\n",
    "# train_df.fillna(0, inplace=True)\n",
    "# test_df.fillna(0, inplace=True)\n"
   ]
  },
  {
   "cell_type": "code",
   "execution_count": null,
   "id": "b431d6ba",
   "metadata": {
    "ExecuteTime": {
     "end_time": "2024-03-27T05:21:52.929319Z",
     "start_time": "2024-03-27T05:21:52.929286Z"
    }
   },
   "outputs": [],
   "source": [
    "#Extract the target variable from the train and test date \n",
    "y_train = full_df_train['remainder__2D High in Pips'].to_numpy()\n",
    "y_test = full_df_test['remainder__2D High in Pips'].to_numpy()\n",
    "\n",
    "#Calculate the average \n",
    "average_2d_high_for_all_trades = full_df_train['remainder__2D High in Pips'].mean()\n",
    "\n",
    "baseline_model_test_predictions =  [average_2d_high_for_all_trades] * len(y_test)\n",
    "\n",
    "mean_absolute_error(baseline_model_test_predictions, y_test)"
   ]
  },
  {
   "cell_type": "markdown",
   "id": "434b2b91",
   "metadata": {
    "ExecuteTime": {
     "end_time": "2024-03-02T18:34:03.193166Z",
     "start_time": "2024-03-02T18:34:03.139079Z"
    }
   },
   "source": [
    "### 1. Dimensionality Reduction (PCA)"
   ]
  },
  {
   "cell_type": "code",
   "execution_count": null,
   "id": "e94a303f",
   "metadata": {
    "ExecuteTime": {
     "end_time": "2024-03-27T05:21:52.931549Z",
     "start_time": "2024-03-27T05:21:52.931524Z"
    }
   },
   "outputs": [],
   "source": [
    "#Observe the correlation between 34 features \n",
    "\n",
    "full_df_train[['onehotencoder__Trend Status_Bullish',\n",
    " 'onehotencoder__5075 Trend Status_Bullish',\n",
    " 'onehotencoder__75100 Trend Status_Bullish',\n",
    " 'onehotencoder__100125 Trend Status_Bullish',\n",
    " 'onehotencoder__Opportunity_Unfavorable',\n",
    " 'onehotencoder__Order Type_SELL',\n",
    " 'onehotencoder__k_group_Oversold',\n",
    " 'onehotencoder__k_group_Undersold',\n",
    " 'onehotencoder__k_group_slightly_oversold',\n",
    " 'remainder__open',\n",
    " 'remainder__high',\n",
    " 'remainder__low',\n",
    " 'remainder__close',\n",
    " 'remainder__volume',\n",
    " 'remainder__Trade_Week_Year',\n",
    " 'remainder__Trade_Week_Month',\n",
    " 'remainder__Trade_Day_Week',\n",
    " 'remainder__Day',\n",
    " 'remainder__Month',\n",
    " 'remainder__25EMA',\n",
    " 'remainder__50EMA',\n",
    " 'remainder__75EMA',\n",
    " 'remainder__100EMA',\n",
    " 'remainder__125EMA',\n",
    " 'remainder__Spread',\n",
    " 'remainder__%K',\n",
    " 'remainder__%D',\n",
    " 'remainder__ADX',\n",
    " 'remainder__ADXR',\n",
    " 'remainder__slowk',\n",
    " 'remainder__slowd',\n",
    "'remainder__candle_bullish_score',\n",
    " 'remainder__candle_bearish_score']].corr()"
   ]
  },
  {
   "cell_type": "code",
   "execution_count": null,
   "id": "2c21329f",
   "metadata": {
    "ExecuteTime": {
     "end_time": "2024-03-27T05:21:52.933759Z",
     "start_time": "2024-03-27T05:21:52.933737Z"
    }
   },
   "outputs": [],
   "source": [
    "X_train34 = full_df_train[['onehotencoder__Trend Status_Bullish',\n",
    " 'onehotencoder__5075 Trend Status_Bullish',\n",
    " 'onehotencoder__75100 Trend Status_Bullish',\n",
    " 'onehotencoder__100125 Trend Status_Bullish',\n",
    " 'onehotencoder__Opportunity_Unfavorable',\n",
    " 'onehotencoder__Order Type_SELL',\n",
    " 'onehotencoder__k_group_Oversold',\n",
    " 'onehotencoder__k_group_Undersold',\n",
    " 'onehotencoder__k_group_slightly_oversold',\n",
    " 'remainder__open',\n",
    " 'remainder__high',\n",
    " 'remainder__low',\n",
    " 'remainder__close',\n",
    " 'remainder__volume',\n",
    " 'remainder__Trade_Week_Year',\n",
    " 'remainder__Trade_Week_Month',\n",
    " 'remainder__Trade_Day_Week',\n",
    " 'remainder__Day',\n",
    " 'remainder__Month',\n",
    " 'remainder__25EMA',\n",
    " 'remainder__50EMA',\n",
    " 'remainder__75EMA',\n",
    " 'remainder__100EMA',\n",
    " 'remainder__125EMA',\n",
    " 'remainder__Spread',\n",
    " 'remainder__%K',\n",
    " 'remainder__%D',\n",
    " 'remainder__ADX',\n",
    " 'remainder__ADXR',\n",
    " 'remainder__slowk',\n",
    " 'remainder__slowd',\n",
    "'remainder__candle_bullish_score',\n",
    " 'remainder__candle_bearish_score']].to_numpy()\n",
    "X_train34.shape"
   ]
  },
  {
   "cell_type": "code",
   "execution_count": null,
   "id": "35a29c2b",
   "metadata": {
    "ExecuteTime": {
     "end_time": "2024-03-27T05:21:52.937948Z",
     "start_time": "2024-03-27T05:21:52.937917Z"
    }
   },
   "outputs": [],
   "source": [
    "X_test34 = full_df_test[['onehotencoder__Trend Status_Bullish',\n",
    " 'onehotencoder__5075 Trend Status_Bullish',\n",
    " 'onehotencoder__75100 Trend Status_Bullish',\n",
    " 'onehotencoder__100125 Trend Status_Bullish',\n",
    " 'onehotencoder__Opportunity_Unfavorable',\n",
    " 'onehotencoder__Order Type_SELL',\n",
    " 'onehotencoder__k_group_Oversold',\n",
    " 'onehotencoder__k_group_Undersold',\n",
    " 'onehotencoder__k_group_slightly_oversold',\n",
    " 'remainder__open',\n",
    " 'remainder__high',\n",
    " 'remainder__low',\n",
    " 'remainder__close',\n",
    " 'remainder__volume',\n",
    " 'remainder__Trade_Week_Year',\n",
    " 'remainder__Trade_Week_Month',\n",
    " 'remainder__Trade_Day_Week',\n",
    " 'remainder__Day',\n",
    " 'remainder__Month',\n",
    " 'remainder__25EMA',\n",
    " 'remainder__50EMA',\n",
    " 'remainder__75EMA',\n",
    " 'remainder__100EMA',\n",
    " 'remainder__125EMA',\n",
    " 'remainder__Spread',\n",
    " 'remainder__%K',\n",
    " 'remainder__%D',\n",
    " 'remainder__ADX',\n",
    " 'remainder__ADXR',\n",
    " 'remainder__slowk',\n",
    " 'remainder__slowd',\n",
    "'remainder__candle_bullish_score',\n",
    " 'remainder__candle_bearish_score']].to_numpy()\n",
    "\n",
    "X_test34.shape"
   ]
  },
  {
   "cell_type": "code",
   "execution_count": null,
   "id": "2059c903",
   "metadata": {
    "ExecuteTime": {
     "end_time": "2024-03-27T05:21:52.941790Z",
     "start_time": "2024-03-27T05:21:52.941755Z"
    }
   },
   "outputs": [],
   "source": [
    "#Get errr of RF model on (X_train3, y_train) and testing on X_test3 and y_test)\n",
    "\n",
    "from sklearn.ensemble import RandomForestRegressor\n",
    "\n",
    "RF_model = RandomForestRegressor(n_estimators=50, max_depth=5).fit(X_train34, y_train)\n",
    "RF_predictions = RF_model.predict(X_test34)\n",
    "mean_absolute_error(y_test, RF_predictions)"
   ]
  },
  {
   "cell_type": "markdown",
   "id": "3df6a07d",
   "metadata": {},
   "source": [
    "### "
   ]
  },
  {
   "cell_type": "raw",
   "id": "4df32b76",
   "metadata": {},
   "source": []
  },
  {
   "cell_type": "code",
   "execution_count": null,
   "id": "d5e4deb5",
   "metadata": {},
   "outputs": [],
   "source": []
  },
  {
   "cell_type": "code",
   "execution_count": null,
   "id": "735b01c6",
   "metadata": {},
   "outputs": [],
   "source": []
  },
  {
   "cell_type": "code",
   "execution_count": null,
   "id": "fe366f34",
   "metadata": {},
   "outputs": [],
   "source": []
  },
  {
   "cell_type": "code",
   "execution_count": null,
   "id": "43fd7e3b",
   "metadata": {},
   "outputs": [],
   "source": []
  },
  {
   "cell_type": "code",
   "execution_count": null,
   "id": "62eb10e2",
   "metadata": {},
   "outputs": [],
   "source": []
  },
  {
   "cell_type": "code",
   "execution_count": null,
   "id": "d7919c87",
   "metadata": {},
   "outputs": [],
   "source": []
  },
  {
   "cell_type": "code",
   "execution_count": null,
   "id": "dc7b4939",
   "metadata": {},
   "outputs": [],
   "source": []
  },
  {
   "cell_type": "code",
   "execution_count": null,
   "id": "56a07508",
   "metadata": {},
   "outputs": [],
   "source": []
  },
  {
   "cell_type": "code",
   "execution_count": null,
   "id": "933e3763",
   "metadata": {},
   "outputs": [],
   "source": []
  },
  {
   "cell_type": "code",
   "execution_count": null,
   "id": "7d338b69",
   "metadata": {},
   "outputs": [],
   "source": []
  },
  {
   "cell_type": "code",
   "execution_count": null,
   "id": "6bad700f",
   "metadata": {
    "ExecuteTime": {
     "end_time": "2024-03-27T05:21:52.944447Z",
     "start_time": "2024-03-27T05:21:52.944413Z"
    }
   },
   "outputs": [],
   "source": [
    "y_train = train_df['remainder__2D High in Pips'].to_numpy()\n",
    "y_test = test_df['remainder__2D High in Pips'].to_numpy()\n",
    "\n",
    "average_2d_high_for_all_trades = train_df['remainder__2D High in Pips'].mean()\n",
    "\n",
    "baseline_model_test_predictions =  [average_2d_high_for_all_trades] * len(y_test)\n",
    "\n",
    "mean_absolute_error(baseline_model_test_predictions, y_test)"
   ]
  },
  {
   "cell_type": "code",
   "execution_count": null,
   "id": "906dbd13",
   "metadata": {
    "ExecuteTime": {
     "end_time": "2024-03-27T05:21:52.946893Z",
     "start_time": "2024-03-27T05:21:52.946850Z"
    }
   },
   "outputs": [],
   "source": [
    "average_2d_high_for_all_trades = train_df['remainder__2D High in Pips'].mean()\n",
    "\n",
    "baseline_model_test_predictions =  [average_2d_high_for_all_trades] * len(y_test)\n",
    "\n",
    "mean_absolute_error(baseline_model_test_predictions, y_test)"
   ]
  },
  {
   "cell_type": "code",
   "execution_count": null,
   "id": "487938ce",
   "metadata": {
    "ExecuteTime": {
     "end_time": "2024-03-27T05:21:52.949114Z",
     "start_time": "2024-03-27T05:21:52.949085Z"
    }
   },
   "outputs": [],
   "source": [
    "X = np.array(ct.fit_transform(X))"
   ]
  },
  {
   "cell_type": "code",
   "execution_count": null,
   "id": "0c8a8f5f",
   "metadata": {
    "ExecuteTime": {
     "end_time": "2024-03-27T05:21:52.951499Z",
     "start_time": "2024-03-27T05:21:52.951452Z"
    }
   },
   "outputs": [],
   "source": [
    "??pd.concat"
   ]
  },
  {
   "cell_type": "code",
   "execution_count": null,
   "id": "b3eb9e33",
   "metadata": {
    "ExecuteTime": {
     "end_time": "2024-03-27T05:21:52.954551Z",
     "start_time": "2024-03-27T05:21:52.954519Z"
    }
   },
   "outputs": [],
   "source": [
    "# test = ohe.fit_transform(df[['Trend Status','5075 Trend Status', '75100 Trend Status',\n",
    "#        '100125 Trend Status', 'Action', 'Opportunity', 'Order Type']]).to_array()\n",
    "\n",
    "# test.values"
   ]
  },
  {
   "cell_type": "code",
   "execution_count": null,
   "id": "3e5c614c",
   "metadata": {
    "ExecuteTime": {
     "end_time": "2024-03-27T05:21:52.958129Z",
     "start_time": "2024-03-27T05:21:52.958104Z"
    }
   },
   "outputs": [],
   "source": [
    "df.columns[20:40]"
   ]
  },
  {
   "cell_type": "code",
   "execution_count": null,
   "id": "7206a569",
   "metadata": {
    "ExecuteTime": {
     "end_time": "2024-03-27T05:21:52.962809Z",
     "start_time": "2024-03-27T05:21:52.962776Z"
    }
   },
   "outputs": [],
   "source": [
    "#Subset of features to keep\n",
    "df= df[['open', 'high', 'low', 'close', '25EMA', '50EMA', '75EMA','100EMA', '125EMA',\n",
    "        'Trend Status', 'Spread','5075 Trend Status', '75100 Trend Status',\n",
    "       '100125 Trend Status', 'Action', 'Opportunity', 'Order Type','2D Lowest Price',\n",
    "       '2D Highest Price', '2D Low in Pips', '2D High in Pips',\n",
    "       '2D Trade Status', '2D Hard Stop Price', '2D Hard Stop Loss',\n",
    "       '2D Trend Change Stop Price', '2D Trend Change Stop Loss', '%K', '%D', 'k_group', 'ADX', 'ADXR', 'slowk',\n",
    "       'slowd']]"
   ]
  },
  {
   "cell_type": "code",
   "execution_count": null,
   "id": "286f253d",
   "metadata": {
    "ExecuteTime": {
     "end_time": "2024-03-27T05:21:52.966046Z",
     "start_time": "2024-03-27T05:21:52.966016Z"
    }
   },
   "outputs": [],
   "source": [
    "#Apply one-hot encoding \n",
    "df= pd.get_dummies(df,columns=['Trend Status','5075 Trend Status', '75100 Trend Status',\n",
    "       '100125 Trend Status', 'Action', 'Opportunity', 'Order Type','k_group'])"
   ]
  },
  {
   "cell_type": "code",
   "execution_count": null,
   "id": "85db0599",
   "metadata": {
    "ExecuteTime": {
     "end_time": "2024-03-27T05:21:52.975724Z",
     "start_time": "2024-03-27T05:21:52.975685Z"
    }
   },
   "outputs": [],
   "source": [
    "df.columns"
   ]
  },
  {
   "cell_type": "code",
   "execution_count": null,
   "id": "ef80de3a",
   "metadata": {
    "ExecuteTime": {
     "end_time": "2024-03-27T05:21:52.978426Z",
     "start_time": "2024-03-27T05:21:52.978384Z"
    }
   },
   "outputs": [],
   "source": [
    "X_train,X_test,Y_train, Y_test = train_test_split(X,Y, test_size=0.2, random_state=42)\n"
   ]
  },
  {
   "cell_type": "markdown",
   "id": "4e5a2bea",
   "metadata": {},
   "source": [
    "## Linear Model "
   ]
  },
  {
   "cell_type": "markdown",
   "id": "3685574e",
   "metadata": {},
   "source": [
    "### Linear Mode on All Data"
   ]
  },
  {
   "cell_type": "code",
   "execution_count": null,
   "id": "a6630d41",
   "metadata": {
    "ExecuteTime": {
     "end_time": "2024-03-27T05:21:52.982325Z",
     "start_time": "2024-03-27T05:21:52.982287Z"
    }
   },
   "outputs": [],
   "source": [
    "from sklearn.linear_model import LinearRegression\n",
    "from sklearn.metrics import mean_absolute_error, mean_squared_error\n",
    "from sklearn.model_selection import cross_val_score"
   ]
  },
  {
   "cell_type": "code",
   "execution_count": null,
   "id": "7b1a5216",
   "metadata": {
    "ExecuteTime": {
     "end_time": "2024-03-27T05:21:52.985592Z",
     "start_time": "2024-03-27T05:21:52.985555Z"
    },
    "scrolled": true
   },
   "outputs": [],
   "source": [
    "#Create and fit linear regression model \n",
    "lin_model = LinearRegression().fit(X_train,Y_train)\n",
    "\n",
    "#Make Predictions on test data\n",
    "y_preds = lin_model.predict(X_test)\n",
    "\n",
    "#Evaluate Model Performance \n",
    "mae = mean_absolute_error(Y_test, y_preds)\n",
    "mse = mean_squared_error(Y_test, y_preds)\n",
    "rmse = mean_squared_error(Y_test, y_preds, squared=False)\n",
    "\n",
    "print( 'MAE:', mae)\n",
    "print( 'MSE:', mse)\n",
    "print( 'RMSE:', rmse)"
   ]
  },
  {
   "cell_type": "code",
   "execution_count": null,
   "id": "63207896",
   "metadata": {
    "ExecuteTime": {
     "end_time": "2024-03-27T05:21:53.012944Z",
     "start_time": "2024-03-27T05:21:53.012922Z"
    }
   },
   "outputs": [],
   "source": [
    "import matplotlib.pyplot as plt\n",
    "\n",
    "plt.scatter(Y_test, y_preds)\n",
    "plt.xlabel(\"Actual Values\")\n",
    "plt.ylabel(\"Predicted Values\")\n",
    "plt.title(\"Actuals vs. Predictions\")\n",
    "plt.grid(True)\n",
    "plt.show()\n"
   ]
  },
  {
   "cell_type": "code",
   "execution_count": null,
   "id": "58505a8d",
   "metadata": {
    "ExecuteTime": {
     "end_time": "2024-03-27T05:21:53.014315Z",
     "start_time": "2024-03-27T05:21:53.014295Z"
    }
   },
   "outputs": [],
   "source": [
    "# Feature Importance Analysis \n",
    "coef = lin_model.coef_\n",
    "print('Feature Importance:', coef)"
   ]
  },
  {
   "cell_type": "code",
   "execution_count": null,
   "id": "6bcb81ef",
   "metadata": {
    "ExecuteTime": {
     "end_time": "2024-03-27T05:21:53.016260Z",
     "start_time": "2024-03-27T05:21:53.016239Z"
    }
   },
   "outputs": [],
   "source": [
    "lin_model.score(X_test,Y_test)"
   ]
  },
  {
   "cell_type": "code",
   "execution_count": null,
   "id": "b6a6906c",
   "metadata": {
    "ExecuteTime": {
     "end_time": "2024-03-27T05:21:53.017473Z",
     "start_time": "2024-03-27T05:21:53.017453Z"
    }
   },
   "outputs": [],
   "source": [
    "#Perform k-folk cross validation \n",
    "sell_trade_high_scores = cross_val_score(LinearRegression(),X, Y,cv=5, scoring ='neg_mean_absolute_error' )\n",
    "\n",
    "print('Cross-validation scores:', -sell_trade_high_scores)\n",
    "print('Average MAE:', -sell_trade_high_scores.mean())"
   ]
  },
  {
   "cell_type": "markdown",
   "id": "519d69e9",
   "metadata": {},
   "source": [
    "### Linear Model on Buy Trades HIGH "
   ]
  },
  {
   "cell_type": "code",
   "execution_count": null,
   "id": "59e44912",
   "metadata": {
    "ExecuteTime": {
     "end_time": "2024-03-27T05:21:53.019424Z",
     "start_time": "2024-03-27T05:21:53.019396Z"
    }
   },
   "outputs": [],
   "source": [
    "#Create a subset of df with Buy Trades \n",
    "buy_df =  df[df['Order Type_BUY'] == True]\n",
    "\n",
    "buy_df.shape"
   ]
  },
  {
   "cell_type": "code",
   "execution_count": null,
   "id": "b7b74539",
   "metadata": {
    "ExecuteTime": {
     "end_time": "2024-03-27T05:21:53.021010Z",
     "start_time": "2024-03-27T05:21:53.020990Z"
    }
   },
   "outputs": [],
   "source": [
    "#Visualize the high of buy trades \n",
    "fig = go.Figure(data=go.Scatter(\n",
    "    x=buy_df['close'],  # Access the 'x' column\n",
    "    y=buy_df['2D High in Pips'],  # Access the 'y' column\n",
    "    mode='markers',\n",
    "#     marker=dict(\n",
    "#         size=10,\n",
    "#         color=colors,  # Map colors from the 'color_column'\n",
    "#         opacity=0.8\n",
    "#     )\n",
    "))\n",
    "\n",
    "# Customize the layout\n",
    "fig.update_layout(\n",
    "    title=\"Buy Trades 2D High Price\",\n",
    "    xaxis_title=\"Closed Price at Trade Open\",\n",
    "    yaxis_title=\"2D High in Pips\",\n",
    "#     grid=True\n",
    ")\n",
    "fig.show()"
   ]
  },
  {
   "cell_type": "code",
   "execution_count": null,
   "id": "a68018ed",
   "metadata": {
    "ExecuteTime": {
     "end_time": "2024-03-27T05:21:53.022400Z",
     "start_time": "2024-03-27T05:21:53.022381Z"
    }
   },
   "outputs": [],
   "source": [
    "buy_trade_high_mean = buy_df['2D High in Pips'].mean()\n",
    "buy_trade_high_mean"
   ]
  },
  {
   "cell_type": "code",
   "execution_count": null,
   "id": "30720638",
   "metadata": {
    "ExecuteTime": {
     "end_time": "2024-03-27T05:21:53.025053Z",
     "start_time": "2024-03-27T05:21:53.025033Z"
    }
   },
   "outputs": [],
   "source": [
    "#Seperate features and label \n",
    "#Indepedent Variables \n",
    "X = buy_df[['open', 'high', 'low', 'close', '25EMA', '50EMA', '75EMA', '100EMA',\n",
    "       '125EMA', 'Spread','Trend Status_Bearish',\n",
    "       'Trend Status_Bullish', '5075 Trend Status_Bearish',\n",
    "       '5075 Trend Status_Bullish', '75100 Trend Status_Bearish',\n",
    "       '75100 Trend Status_Bullish', '100125 Trend Status_Bearish',\n",
    "       '100125 Trend Status_Bullish', 'Action_Ultimate Action',\n",
    "       'Opportunity_Optimal', 'Opportunity_Unfavorable','k_group_Oversold',\n",
    "       'k_group_Undersold', 'k_group_slightly_oversold','%K', '%D', 'ADX', 'ADXR', 'slowk', 'slowd']]\n",
    "#Dependent Variable\n",
    "Y = buy_df['2D High in Pips'] \n",
    "\n",
    "X_train,X_test,Y_train, Y_test = train_test_split(X,Y, test_size=0.2, random_state=42)"
   ]
  },
  {
   "cell_type": "code",
   "execution_count": null,
   "id": "546f4a6c",
   "metadata": {
    "ExecuteTime": {
     "end_time": "2024-03-27T05:21:53.030592Z",
     "start_time": "2024-03-27T05:21:53.030569Z"
    },
    "scrolled": true
   },
   "outputs": [],
   "source": [
    "#Create and fit linear regression model \n",
    "lin_model = LinearRegression().fit(X_train,Y_train)\n",
    "\n",
    "#Create and fit linear regression model \n",
    "lin_model = LinearRegression().fit(X_train,Y_train)\n",
    "\n",
    "#Make Predictions on test data\n",
    "y_preds = lin_model.predict(X_test)\n",
    "\n",
    "#Evaluate Model Performance \n",
    "mae = mean_absolute_error(Y_test, y_preds)\n",
    "mse = mean_squared_error(Y_test, y_preds)\n",
    "rmse = mean_squared_error(Y_test, y_preds, squared=False)\n",
    "\n",
    "print('Mean', buy_trade_high_mean)\n",
    "print( 'MAE:', mae)\n",
    "print( 'MSE:', mse)\n",
    "print( 'RMSE:', rmse)"
   ]
  },
  {
   "cell_type": "markdown",
   "id": "69b5632c",
   "metadata": {},
   "source": [
    "### Linear Model on SELL Trades HIGH "
   ]
  },
  {
   "cell_type": "code",
   "execution_count": null,
   "id": "42f58d2f",
   "metadata": {
    "ExecuteTime": {
     "end_time": "2024-03-27T05:21:53.032040Z",
     "start_time": "2024-03-27T05:21:53.032020Z"
    }
   },
   "outputs": [],
   "source": [
    "#Create a subset of df with Buy Trades \n",
    "sell_df =  df[df['Order Type_SELL'] == True]\n",
    "\n",
    "sell_df.shape"
   ]
  },
  {
   "cell_type": "code",
   "execution_count": null,
   "id": "679ece5c",
   "metadata": {
    "ExecuteTime": {
     "end_time": "2024-03-27T05:21:53.034151Z",
     "start_time": "2024-03-27T05:21:53.034119Z"
    }
   },
   "outputs": [],
   "source": [
    "#Visualize the high of sell trades \n",
    "fig = go.Figure(data=go.Scatter(\n",
    "    x=sell_df['close'],  # Access the 'x' column\n",
    "    y=sell_df['2D High in Pips'],  # Access the 'y' column\n",
    "    mode='markers',\n",
    "#     marker=dict(\n",
    "#         size=10,\n",
    "#         color=colors,  # Map colors from the 'color_column'\n",
    "#         opacity=0.8\n",
    "#     )\n",
    "))\n",
    "\n",
    "# Customize the layout\n",
    "fig.update_layout(\n",
    "    title=\"Buy Trades 2D High Price\",\n",
    "    xaxis_title=\"Closed Price at Trade Open\",\n",
    "    yaxis_title=\"2D High in Pips\",\n",
    "#     grid=True\n",
    ")\n",
    "fig.show()"
   ]
  },
  {
   "cell_type": "code",
   "execution_count": null,
   "id": "f76c82c9",
   "metadata": {
    "ExecuteTime": {
     "end_time": "2024-03-27T05:21:53.038576Z",
     "start_time": "2024-03-27T05:21:53.038544Z"
    }
   },
   "outputs": [],
   "source": [
    "sell_trade_high_mean = sell_df['2D High in Pips'].mean()\n",
    "sell_trade_high_mean"
   ]
  },
  {
   "cell_type": "code",
   "execution_count": null,
   "id": "36cc80f8",
   "metadata": {
    "ExecuteTime": {
     "end_time": "2024-03-27T05:21:53.040149Z",
     "start_time": "2024-03-27T05:21:53.040129Z"
    }
   },
   "outputs": [],
   "source": [
    "#Seperate features and label \n",
    "#Indepedent Variables \n",
    "X = sell_df[['open', 'high', 'low', 'close', '25EMA', '50EMA', '75EMA', '100EMA',\n",
    "       '125EMA', 'Spread','Trend Status_Bearish',\n",
    "       'Trend Status_Bullish', '5075 Trend Status_Bearish',\n",
    "       '5075 Trend Status_Bullish', '75100 Trend Status_Bearish',\n",
    "       '75100 Trend Status_Bullish', '100125 Trend Status_Bearish',\n",
    "       '100125 Trend Status_Bullish', 'Action_Ultimate Action',\n",
    "       'Opportunity_Optimal', 'Opportunity_Unfavorable','k_group_Oversold',\n",
    "       'k_group_Undersold', 'k_group_slightly_oversold','%K', '%D', 'ADX', 'ADXR', 'slowk', 'slowd']]\n",
    "#Dependent Variable\n",
    "Y = sell_df['2D High in Pips'] \n",
    "\n",
    "X_train,X_test,Y_train, Y_test = train_test_split(X,Y, test_size=0.3, random_state=42)"
   ]
  },
  {
   "cell_type": "code",
   "execution_count": null,
   "id": "af34859d",
   "metadata": {
    "ExecuteTime": {
     "end_time": "2024-03-27T05:21:53.055912Z",
     "start_time": "2024-03-27T05:21:53.055890Z"
    }
   },
   "outputs": [],
   "source": [
    "#Create and fit linear regression model \n",
    "lin_model = LinearRegression().fit(X_train,Y_train)\n",
    "\n",
    "#Create and fit linear regression model \n",
    "lin_model = LinearRegression().fit(X_train,Y_train)\n",
    "\n",
    "#Make Predictions on test data\n",
    "y_preds = lin_model.predict(X_test)\n",
    "\n",
    "#Evaluate Model Performance \n",
    "mae = mean_absolute_error(Y_test, y_preds)\n",
    "mse = mean_squared_error(Y_test, y_preds)\n",
    "rmse = mean_squared_error(Y_test, y_preds, squared=False)\n",
    "\n",
    "print( 'MAE:', mae)\n",
    "print( 'MSE:', mse)\n",
    "print( 'RMSE:', rmse)"
   ]
  },
  {
   "cell_type": "code",
   "execution_count": null,
   "id": "244fa9f8",
   "metadata": {
    "ExecuteTime": {
     "end_time": "2024-03-27T05:21:53.065045Z",
     "start_time": "2024-03-27T05:21:53.065024Z"
    }
   },
   "outputs": [],
   "source": [
    "import matplotlib.pyplot as plt\n",
    "\n",
    "plt.scatter(Y_test, y_preds)\n",
    "plt.xlabel(\"Actual Values\")\n",
    "plt.ylabel(\"Predicted Values\")\n",
    "plt.title(\"Actuals vs. Predictions\")\n",
    "plt.grid(True)\n",
    "plt.show()\n"
   ]
  },
  {
   "cell_type": "code",
   "execution_count": null,
   "id": "03bd0795",
   "metadata": {
    "ExecuteTime": {
     "end_time": "2024-03-27T05:21:53.085940Z",
     "start_time": "2024-03-27T05:21:53.085897Z"
    }
   },
   "outputs": [],
   "source": [
    "#Perform k-folk cross validation \n",
    "sell_trade_high_scores = cross_val_score(LinearRegression(),X, Y,cv=5, scoring ='neg_mean_absolute_error' )\n",
    "\n",
    "print('Cross-validation scores:', -sell_trade_high_scores)\n",
    "print('Average MAE:', -sell_trade_high_scores.mean())"
   ]
  },
  {
   "cell_type": "markdown",
   "id": "c7e35612",
   "metadata": {},
   "source": [
    "## Gradient Boosting Model "
   ]
  },
  {
   "cell_type": "markdown",
   "id": "27a674be",
   "metadata": {
    "ExecuteTime": {
     "end_time": "2024-01-13T19:41:11.062468Z",
     "start_time": "2024-01-13T19:41:11.039657Z"
    }
   },
   "source": [
    "### Gradient Boost Model on all Data"
   ]
  },
  {
   "cell_type": "code",
   "execution_count": null,
   "id": "cf6ce528",
   "metadata": {
    "ExecuteTime": {
     "end_time": "2024-03-27T05:21:53.089026Z",
     "start_time": "2024-03-27T05:21:53.088991Z"
    }
   },
   "outputs": [],
   "source": [
    "from sklearn.ensemble import GradientBoostingRegressor"
   ]
  },
  {
   "cell_type": "code",
   "execution_count": null,
   "id": "fa9f9689",
   "metadata": {
    "ExecuteTime": {
     "end_time": "2024-03-27T05:21:53.101767Z",
     "start_time": "2024-03-27T05:21:53.101745Z"
    }
   },
   "outputs": [],
   "source": [
    "#Indepedent Variables \n",
    "X = df[['open', 'high', 'low', 'close', '25EMA', '50EMA', '75EMA', '100EMA',\n",
    "       '125EMA', 'Spread','Trend Status_Bearish',\n",
    "       'Trend Status_Bullish', '5075 Trend Status_Bearish',\n",
    "       '5075 Trend Status_Bullish', '75100 Trend Status_Bearish',\n",
    "       '75100 Trend Status_Bullish', '100125 Trend Status_Bearish',\n",
    "       '100125 Trend Status_Bullish', 'Action_Ultimate Action',\n",
    "       'Opportunity_Optimal', 'Opportunity_Unfavorable', 'Order Type_BUY',\n",
    "       'Order Type_SELL','k_group_Oversold',\n",
    "       'k_group_Undersold', 'k_group_slightly_oversold','%K', '%D', 'ADX', 'ADXR', 'slowk', 'slowd']]\n",
    "#Dependent Variable\n",
    "Y = df['2D High in Pips'] "
   ]
  },
  {
   "cell_type": "code",
   "execution_count": null,
   "id": "34674305",
   "metadata": {
    "ExecuteTime": {
     "end_time": "2024-03-27T05:21:53.124395Z",
     "start_time": "2024-03-27T05:21:53.124363Z"
    }
   },
   "outputs": [],
   "source": [
    "X_train,X_test,Y_train, Y_test = train_test_split(X,Y, test_size=0.2, random_state=42)\n",
    "\n",
    "gbr = GradientBoostingRegressor(n_estimators=5,learning_rate= 0.1, random_state=0).fit(X_train,Y_train)\n",
    "\n",
    "y_preds =gbr.predict(X_test)\n",
    "    \n",
    "#Evaluate Model Performance \n",
    "mae = mean_absolute_error(Y_test, y_preds)\n",
    "mse = mean_squared_error(Y_test, y_preds)\n",
    "rmse = mean_squared_error(Y_test, y_preds, squared=False)\n",
    "gbr_score = gbr.score(X_test, Y_test)\n",
    "\n",
    "print( 'MAE:', mae)\n",
    "print( 'MSE:', mse)\n",
    "print( 'RMSE:', rmse)\n",
    "print('Score', gbr_score)"
   ]
  },
  {
   "cell_type": "code",
   "execution_count": null,
   "id": "33f97df2",
   "metadata": {
    "ExecuteTime": {
     "end_time": "2024-03-27T05:21:53.130798Z",
     "start_time": "2024-03-27T05:21:53.130776Z"
    }
   },
   "outputs": [],
   "source": [
    "#Perform k-folk cross validation \n",
    "all_trade_high_scores = cross_val_score(GradientBoostingRegressor(n_estimators=5,learning_rate= 0.1, random_state=0),X, Y,cv=5, scoring ='neg_mean_absolute_error' )\n",
    "\n",
    "print('Cross-validation scores:', -all_trade_high_scores)\n",
    "print('Average MAE:', -all_trade_high_scores.mean())"
   ]
  },
  {
   "cell_type": "code",
   "execution_count": null,
   "id": "a78a194e",
   "metadata": {
    "ExecuteTime": {
     "end_time": "2024-03-27T05:21:53.157634Z",
     "start_time": "2024-03-27T05:21:53.157611Z"
    }
   },
   "outputs": [],
   "source": [
    "plt.scatter(Y_test, y_preds)\n",
    "plt.xlabel(\"Actual Values\")\n",
    "plt.ylabel(\"Predicted Values\")\n",
    "plt.title(\"Actuals vs. Predictions\")\n",
    "plt.grid(True)\n",
    "plt.show()"
   ]
  },
  {
   "cell_type": "markdown",
   "id": "e3c51036",
   "metadata": {
    "ExecuteTime": {
     "end_time": "2024-01-13T20:15:09.583836Z",
     "start_time": "2024-01-13T20:15:09.569454Z"
    }
   },
   "source": [
    "### Gradient Boosting Model on Buy Trades HIGH "
   ]
  },
  {
   "cell_type": "code",
   "execution_count": null,
   "id": "5849aa7e",
   "metadata": {
    "ExecuteTime": {
     "end_time": "2024-03-27T05:21:53.163693Z",
     "start_time": "2024-03-27T05:21:53.163671Z"
    }
   },
   "outputs": [],
   "source": [
    "#Seperate features and label \n",
    "#Indepedent Variables \n",
    "X = buy_df[['open', 'high', 'low', 'close', '25EMA', '50EMA', '75EMA', '100EMA',\n",
    "       '125EMA', 'Spread','Trend Status_Bearish',\n",
    "       'Trend Status_Bullish', '5075 Trend Status_Bearish',\n",
    "       '5075 Trend Status_Bullish', '75100 Trend Status_Bearish',\n",
    "       '75100 Trend Status_Bullish', '100125 Trend Status_Bearish',\n",
    "       '100125 Trend Status_Bullish', 'Action_Ultimate Action',\n",
    "       'Opportunity_Optimal', 'Opportunity_Unfavorable','k_group_Oversold',\n",
    "       'k_group_Undersold', 'k_group_slightly_oversold','%K', '%D', 'ADX', 'ADXR', 'slowk', 'slowd']]\n",
    "#Dependent Variable\n",
    "Y = buy_df['2D High in Pips'] \n",
    "\n",
    "X_train,X_test,Y_train, Y_test = train_test_split(X,Y, test_size=0.2, random_state=42)"
   ]
  },
  {
   "cell_type": "code",
   "execution_count": null,
   "id": "717418d4",
   "metadata": {
    "ExecuteTime": {
     "end_time": "2024-03-27T05:21:53.172431Z",
     "start_time": "2024-03-27T05:21:53.172409Z"
    }
   },
   "outputs": [],
   "source": [
    "buy_trade_high_mean"
   ]
  },
  {
   "cell_type": "code",
   "execution_count": null,
   "id": "b534809c",
   "metadata": {
    "ExecuteTime": {
     "end_time": "2024-03-27T05:21:53.179664Z",
     "start_time": "2024-03-27T05:21:53.179611Z"
    }
   },
   "outputs": [],
   "source": [
    "gbr = GradientBoostingRegressor(n_estimators=100,learning_rate= 0.1, random_state=0).fit(X_train,Y_train)\n",
    "\n",
    "y_preds =gbr.predict(X_test)\n",
    "    \n",
    "#Evaluate Model Performance \n",
    "mae = mean_absolute_error(Y_test, y_preds)\n",
    "mse = mean_squared_error(Y_test, y_preds)\n",
    "rmse = mean_squared_error(Y_test, y_preds, squared=False)\n",
    "gbr_score = gbr.score(X_test, Y_test)\n",
    "\n",
    "print('Mean', buy_trade_high_mean)\n",
    "print( 'MAE:', mae)\n",
    "print( 'MSE:', mse)\n",
    "print( 'RMSE:', rmse)\n",
    "print('Score', gbr_score)"
   ]
  },
  {
   "cell_type": "code",
   "execution_count": null,
   "id": "52805544",
   "metadata": {
    "ExecuteTime": {
     "end_time": "2024-03-27T05:21:53.185323Z",
     "start_time": "2024-03-27T05:21:53.185282Z"
    }
   },
   "outputs": [],
   "source": [
    "#Perform k-folk cross validation \n",
    "all_trade_high_scores = cross_val_score(GradientBoostingRegressor(n_estimators=5,learning_rate= 0.1, random_state=0),X, Y,cv=5, scoring ='neg_mean_absolute_error' )\n",
    "\n",
    "print('Cross-validation scores:', -all_trade_high_scores)\n",
    "print('Average MAE:', -all_trade_high_scores.mean())"
   ]
  },
  {
   "cell_type": "code",
   "execution_count": null,
   "id": "fa2def3a",
   "metadata": {
    "ExecuteTime": {
     "end_time": "2024-03-27T05:21:53.188838Z",
     "start_time": "2024-03-27T05:21:53.188807Z"
    }
   },
   "outputs": [],
   "source": [
    "plt.scatter(Y_test, y_preds)\n",
    "plt.xlabel(\"Actual Values\")\n",
    "plt.ylabel(\"Predicted Values\")\n",
    "plt.title(\"Actuals vs. Predictions\")\n",
    "plt.grid(True)\n",
    "plt.show()"
   ]
  },
  {
   "cell_type": "markdown",
   "id": "3b542eb1",
   "metadata": {
    "ExecuteTime": {
     "end_time": "2024-01-13T21:46:16.914418Z",
     "start_time": "2024-01-13T21:46:16.885770Z"
    }
   },
   "source": [
    "### Gradient Boosting Model on SELL Trades HIGH "
   ]
  },
  {
   "cell_type": "code",
   "execution_count": null,
   "id": "6ff69640",
   "metadata": {
    "ExecuteTime": {
     "end_time": "2024-03-27T05:21:53.190601Z",
     "start_time": "2024-03-27T05:21:53.190567Z"
    }
   },
   "outputs": [],
   "source": [
    "#Seperate features and label \n",
    "#Indepedent Variables \n",
    "X = sell_df[['open', 'high', 'low', 'close', '25EMA', '50EMA', '75EMA', '100EMA',\n",
    "       '125EMA', 'Spread','Trend Status_Bearish',\n",
    "       'Trend Status_Bullish', '5075 Trend Status_Bearish',\n",
    "       '5075 Trend Status_Bullish', '75100 Trend Status_Bearish',\n",
    "       '75100 Trend Status_Bullish', '100125 Trend Status_Bearish',\n",
    "       '100125 Trend Status_Bullish', 'Action_Ultimate Action',\n",
    "       'Opportunity_Optimal', 'Opportunity_Unfavorable','k_group_Oversold',\n",
    "       'k_group_Undersold', 'k_group_slightly_oversold','%K', '%D', 'ADX', 'ADXR', 'slowk', 'slowd']]\n",
    "#Dependent Variable\n",
    "Y = sell_df['2D High in Pips'] \n",
    "\n",
    "X_train,X_test,Y_train, Y_test = train_test_split(X,Y, test_size=0.3, random_state=42)"
   ]
  },
  {
   "cell_type": "code",
   "execution_count": null,
   "id": "69290728",
   "metadata": {
    "ExecuteTime": {
     "end_time": "2024-03-27T05:21:53.198902Z",
     "start_time": "2024-03-27T05:21:53.198869Z"
    }
   },
   "outputs": [],
   "source": [
    "gbr = GradientBoostingRegressor(n_estimators=100,learning_rate= 0.1, random_state=0).fit(X_train,Y_train)\n",
    "\n",
    "y_preds =gbr.predict(X_test)\n",
    "    \n",
    "#Evaluate Model Performance \n",
    "mae = mean_absolute_error(Y_test, y_preds)\n",
    "mse = mean_squared_error(Y_test, y_preds)\n",
    "rmse = mean_squared_error(Y_test, y_preds, squared=False)\n",
    "gbr_score = gbr.score(X_test, Y_test)\n",
    "\n",
    "print('Mean', buy_trade_high_mean)\n",
    "print( 'MAE:', mae)\n",
    "print( 'MSE:', mse)\n",
    "print( 'RMSE:', rmse)\n",
    "print('Score', gbr_score)"
   ]
  },
  {
   "cell_type": "code",
   "execution_count": null,
   "id": "151ca6c1",
   "metadata": {
    "ExecuteTime": {
     "end_time": "2024-03-27T05:21:53.201282Z",
     "start_time": "2024-03-27T05:21:53.201250Z"
    }
   },
   "outputs": [],
   "source": [
    "#Perform k-folk cross validation \n",
    "sell_trade_high_scores = cross_val_score(GradientBoostingRegressor(n_estimators=5,learning_rate= 0.1, random_state=0),X, Y,cv=5, scoring ='neg_mean_absolute_error' )\n",
    "\n",
    "print('Cross-validation scores:', -sell_trade_high_scores)\n",
    "print('Average MAE:', -sell_trade_high_scores.mean())"
   ]
  },
  {
   "cell_type": "code",
   "execution_count": null,
   "id": "578f1458",
   "metadata": {
    "ExecuteTime": {
     "end_time": "2024-03-27T05:21:53.207632Z",
     "start_time": "2024-03-27T05:21:53.207600Z"
    }
   },
   "outputs": [],
   "source": [
    "plt.scatter(Y_test, y_preds)\n",
    "plt.xlabel(\"Actual Values\")\n",
    "plt.ylabel(\"Predicted Values\")\n",
    "plt.title(\"Actuals vs. Predictions\")\n",
    "plt.grid(True)\n",
    "plt.show()"
   ]
  },
  {
   "cell_type": "markdown",
   "id": "81a08f49",
   "metadata": {},
   "source": [
    "## Bagging & Gradient Boosting "
   ]
  },
  {
   "cell_type": "markdown",
   "id": "dcd36c66",
   "metadata": {},
   "source": [
    "### Bagging & Gradient Boosting All Trades"
   ]
  },
  {
   "cell_type": "code",
   "execution_count": null,
   "id": "31085056",
   "metadata": {
    "ExecuteTime": {
     "end_time": "2024-03-27T05:21:53.215580Z",
     "start_time": "2024-03-27T05:21:53.215537Z"
    }
   },
   "outputs": [],
   "source": [
    "from sklearn.ensemble import BaggingRegressor"
   ]
  },
  {
   "cell_type": "code",
   "execution_count": null,
   "id": "5dc376bc",
   "metadata": {
    "ExecuteTime": {
     "end_time": "2024-03-27T05:21:53.222772Z",
     "start_time": "2024-03-27T05:21:53.222589Z"
    }
   },
   "outputs": [],
   "source": [
    "#Indepedent Variables \n",
    "X = df[['open', 'high', 'low', 'close', '25EMA', '50EMA', '75EMA', '100EMA',\n",
    "       '125EMA', 'Spread','Trend Status_Bearish',\n",
    "       'Trend Status_Bullish', '5075 Trend Status_Bearish',\n",
    "       '5075 Trend Status_Bullish', '75100 Trend Status_Bearish',\n",
    "       '75100 Trend Status_Bullish', '100125 Trend Status_Bearish',\n",
    "       '100125 Trend Status_Bullish', 'Action_Ultimate Action',\n",
    "       'Opportunity_Optimal', 'Opportunity_Unfavorable', 'Order Type_BUY',\n",
    "       'Order Type_SELL','k_group_Oversold',\n",
    "       'k_group_Undersold', 'k_group_slightly_oversold','%K', '%D', 'ADX', 'ADXR', 'slowk', 'slowd']]\n",
    "#Dependent Variable\n",
    "Y = df['2D High in Pips'] \n",
    "\n",
    "X_train,X_test,Y_train, Y_test = train_test_split(X,Y, test_size=0.2, random_state=42)\n"
   ]
  },
  {
   "cell_type": "code",
   "execution_count": null,
   "id": "35a10e98",
   "metadata": {
    "ExecuteTime": {
     "end_time": "2024-03-27T05:21:53.227279Z",
     "start_time": "2024-03-27T05:21:53.227242Z"
    }
   },
   "outputs": [],
   "source": [
    "basic_bag_model = BaggingRegressor(\n",
    "    estimator=GradientBoostingRegressor(n_estimators=5,learning_rate= 0.1, random_state=0),\n",
    "    n_estimators=100,\n",
    "    max_samples=.8,\n",
    "    oob_score=True,\n",
    "    random_state=0\n",
    ")\n",
    "\n",
    "basic_bag_model.fit(X_train,Y_train)\n",
    "\n",
    "#fix variable name \n",
    "score = basic_bag_model.oob_score_\n",
    "\n",
    "y_preds = basic_bag_model.predict(X_test)\n",
    "\n",
    "\n",
    "#Evaluate Model Performance \n",
    "mae = mean_absolute_error(Y_test, y_preds)\n",
    "mse = mean_squared_error(Y_test, y_preds)\n",
    "rmse = mean_squared_error(Y_test, y_preds, squared=False)\n",
    "# gbr_score = gbr.score(X_test, Y_test)\n",
    "\n",
    "print('Mean', buy_trade_high_mean)\n",
    "print( 'MAE:', mae)\n",
    "print( 'MSE:', mse)\n",
    "print( 'RMSE:', rmse)\n",
    "print('Score', score)"
   ]
  },
  {
   "cell_type": "markdown",
   "id": "1c415b6b",
   "metadata": {},
   "source": [
    "### Bagging & Gradient Boosting BUY Trades\n"
   ]
  },
  {
   "cell_type": "code",
   "execution_count": null,
   "id": "45592f8d",
   "metadata": {
    "ExecuteTime": {
     "end_time": "2024-03-27T05:21:53.231457Z",
     "start_time": "2024-03-27T05:21:53.231414Z"
    }
   },
   "outputs": [],
   "source": [
    "#Seperate features and label \n",
    "#Indepedent Variables \n",
    "X = buy_df[['open', 'high', 'low', 'close', '25EMA', '50EMA', '75EMA', '100EMA',\n",
    "       '125EMA', 'Spread','Trend Status_Bearish',\n",
    "       'Trend Status_Bullish', '5075 Trend Status_Bearish',\n",
    "       '5075 Trend Status_Bullish', '75100 Trend Status_Bearish',\n",
    "       '75100 Trend Status_Bullish', '100125 Trend Status_Bearish',\n",
    "       '100125 Trend Status_Bullish', 'Action_Ultimate Action',\n",
    "       'Opportunity_Optimal', 'Opportunity_Unfavorable','k_group_Oversold',\n",
    "       'k_group_Undersold', 'k_group_slightly_oversold','%K', '%D', 'ADX', 'ADXR', 'slowk', 'slowd']]\n",
    "#Dependent Variable\n",
    "Y = buy_df['2D High in Pips'] \n",
    "\n",
    "X_train,X_test,Y_train, Y_test = train_test_split(X,Y, test_size=0.2, random_state=42)"
   ]
  },
  {
   "cell_type": "code",
   "execution_count": null,
   "id": "022864a6",
   "metadata": {},
   "outputs": [],
   "source": []
  },
  {
   "cell_type": "code",
   "execution_count": null,
   "id": "d304fe95",
   "metadata": {
    "ExecuteTime": {
     "end_time": "2024-03-27T05:21:53.235103Z",
     "start_time": "2024-03-27T05:21:53.235031Z"
    }
   },
   "outputs": [],
   "source": [
    "basic_bag_model = BaggingRegressor(\n",
    "    estimator=GradientBoostingRegressor(n_estimators=100,learning_rate= 0.1, random_state=0),\n",
    "    n_estimators=100,\n",
    "    max_samples=.8,\n",
    "    oob_score=True,\n",
    "    random_state=0\n",
    ")\n",
    "\n",
    "basic_bag_model.fit(X_train,Y_train)\n",
    "\n",
    "#fix variable name \n",
    "score = basic_bag_model.oob_score_\n",
    "\n",
    "y_preds = basic_bag_model.predict(X_test)\n",
    "\n",
    "\n",
    "#Evaluate Model Performance \n",
    "mae = mean_absolute_error(Y_test, y_preds)\n",
    "mse = mean_squared_error(Y_test, y_preds)\n",
    "rmse = mean_squared_error(Y_test, y_preds, squared=False)\n",
    "# gbr_score = gbr.score(X_test, Y_test)\n",
    "\n",
    "print('Mean', buy_trade_high_mean)\n",
    "print( 'MAE:', mae)\n",
    "print( 'MSE:', mse)\n",
    "print( 'RMSE:', rmse)\n",
    "print('Score', score)"
   ]
  },
  {
   "cell_type": "markdown",
   "id": "213e903d",
   "metadata": {
    "ExecuteTime": {
     "end_time": "2024-01-13T21:32:08.710193Z",
     "start_time": "2024-01-13T21:32:08.704715Z"
    }
   },
   "source": [
    "### Bagging & Gradient Boosting SELL Trades\n"
   ]
  },
  {
   "cell_type": "code",
   "execution_count": null,
   "id": "6f7eb780",
   "metadata": {
    "ExecuteTime": {
     "end_time": "2024-03-27T05:21:53.240682Z",
     "start_time": "2024-03-27T05:21:53.240641Z"
    }
   },
   "outputs": [],
   "source": [
    "#Seperate features and label \n",
    "#Indepedent Variables \n",
    "X = sell_df[['open', 'high', 'low', 'close', '25EMA', '50EMA', '75EMA', '100EMA',\n",
    "       '125EMA', 'Spread','Trend Status_Bearish',\n",
    "       'Trend Status_Bullish', '5075 Trend Status_Bearish',\n",
    "       '5075 Trend Status_Bullish', '75100 Trend Status_Bearish',\n",
    "       '75100 Trend Status_Bullish', '100125 Trend Status_Bearish',\n",
    "       '100125 Trend Status_Bullish', 'Action_Ultimate Action',\n",
    "       'Opportunity_Optimal', 'Opportunity_Unfavorable','k_group_Oversold',\n",
    "       'k_group_Undersold', 'k_group_slightly_oversold','%K', '%D', 'ADX', 'ADXR', 'slowk', 'slowd']]\n",
    "#Dependent Variable\n",
    "Y = sell_df['2D High in Pips'] \n",
    "\n",
    "X_train,X_test,Y_train, Y_test = train_test_split(X,Y, test_size=0.3, random_state=42)"
   ]
  },
  {
   "cell_type": "code",
   "execution_count": null,
   "id": "a17db715",
   "metadata": {
    "ExecuteTime": {
     "end_time": "2024-03-27T05:21:53.246291Z",
     "start_time": "2024-03-27T05:21:53.246219Z"
    }
   },
   "outputs": [],
   "source": [
    "basic_bag_model = BaggingRegressor(\n",
    "    estimator=GradientBoostingRegressor(n_estimators=100,learning_rate= 0.2, random_state=0),\n",
    "    n_estimators=100,\n",
    "    max_samples=.8,\n",
    "    oob_score=True,\n",
    "    random_state=0\n",
    ")\n",
    "\n",
    "basic_bag_model.fit(X_train,Y_train)\n",
    "\n",
    "#fix variable name \n",
    "score = basic_bag_model.oob_score_\n",
    "\n",
    "y_preds = basic_bag_model.predict(X_test)\n",
    "\n",
    "\n",
    "#Evaluate Model Performance \n",
    "mae = mean_absolute_error(Y_test, y_preds)\n",
    "mse = mean_squared_error(Y_test, y_preds)\n",
    "rmse = mean_squared_error(Y_test, y_preds, squared=False)\n",
    "# gbr_score = gbr.score(X_test, Y_test)\n",
    "\n",
    "print('Mean', sell_trade_high_mean)\n",
    "print( 'MAE:', mae)\n",
    "print( 'MSE:', mse)\n",
    "print( 'RMSE:', rmse)\n",
    "print('Score', score)"
   ]
  },
  {
   "cell_type": "code",
   "execution_count": null,
   "id": "13e3a246",
   "metadata": {},
   "outputs": [],
   "source": []
  }
 ],
 "metadata": {
  "kernelspec": {
   "display_name": "base_jupyter",
   "language": "python",
   "name": "base_jupyter"
  },
  "language_info": {
   "codemirror_mode": {
    "name": "ipython",
    "version": 3
   },
   "file_extension": ".py",
   "mimetype": "text/x-python",
   "name": "python",
   "nbconvert_exporter": "python",
   "pygments_lexer": "ipython3",
   "version": "3.11.2"
  }
 },
 "nbformat": 4,
 "nbformat_minor": 5
}
