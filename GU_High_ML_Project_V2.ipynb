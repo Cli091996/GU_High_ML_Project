{
 "cells": [
  {
   "cell_type": "markdown",
   "id": "5dddbc2c",
   "metadata": {},
   "source": [
    "## Import Libraries \n"
   ]
  },
  {
   "cell_type": "code",
   "execution_count": 46,
   "id": "ae270712",
   "metadata": {
    "ExecuteTime": {
     "end_time": "2024-03-15T00:30:11.657650Z",
     "start_time": "2024-03-15T00:30:11.528010Z"
    }
   },
   "outputs": [
    {
     "data": {
      "text/html": [
       "<style>.container { width:100% !important; }</style>"
      ],
      "text/plain": [
       "<IPython.core.display.HTML object>"
      ]
     },
     "metadata": {},
     "output_type": "display_data"
    }
   ],
   "source": [
    "import pandas as pd\n",
    "import matplotlib.pyplot as plt\n",
    "import plotly.express as px\n",
    "from plotly.subplots import make_subplots\n",
    "from Standardization import metric_normalizer\n",
    "from sklearn.model_selection import train_test_split\n",
    "from IPython.display import display, HTML\n",
    "pd.set_option('display.max_columns', None)\n",
    "display(HTML(\"<style>.container { width:100% !important; }</style>\"))\n",
    "\n",
    "import numpy as np\n",
    "from sklearn.compose import make_column_transformer\n",
    "from sklearn.preprocessing import OneHotEncoder, OrdinalEncoder\n",
    "from sklearn.preprocessing import StandardScaler, Normalizer, MinMaxScaler\n",
    "from sklearn.decomposition import PCA \n",
    "from sklearn.pipeline import Pipeline \n",
    "from sklearn.ensemble import RandomForestRegressor\n",
    "from sklearn.metrics import mean_absolute_error\n",
    "from sklearn.feature_selection import SelectKBest, chi2\n",
    "\n",
    "\n",
    "import ipywidgets as wid"
   ]
  },
  {
   "cell_type": "markdown",
   "id": "72c874d1",
   "metadata": {
    "ExecuteTime": {
     "end_time": "2024-01-07T19:06:16.248336Z",
     "start_time": "2024-01-07T19:06:16.234142Z"
    }
   },
   "source": [
    "## Read Data \n",
    "\n",
    "\n"
   ]
  },
  {
   "cell_type": "code",
   "execution_count": 19,
   "id": "e51819d7",
   "metadata": {
    "ExecuteTime": {
     "end_time": "2024-03-14T23:40:25.407643Z",
     "start_time": "2024-03-14T23:40:25.366512Z"
    }
   },
   "outputs": [],
   "source": [
    "df = pd.read_csv('/home/clivence/base_jupyter/Datadump/Model_Data/GU_Model_Data_V1_16k')"
   ]
  },
  {
   "cell_type": "markdown",
   "id": "288f58fa",
   "metadata": {},
   "source": [
    "## Data Cleaning "
   ]
  },
  {
   "cell_type": "code",
   "execution_count": 20,
   "id": "05618576",
   "metadata": {
    "ExecuteTime": {
     "end_time": "2024-03-14T23:40:28.443088Z",
     "start_time": "2024-03-14T23:40:28.224114Z"
    }
   },
   "outputs": [],
   "source": [
    "#Filter out negative values - evetually need to research why this is happening \n",
    "df  = df[(df['2D Low in Pips'] > 0) | (df['2D Low in Pips'] > 0)] \n",
    "\n",
    "df = df[df['Action'] == 'Ultimate Action']\n",
    "df = df[df['Ticker'] == 'GBP/USD']\n",
    "\n",
    "df.fillna(0, inplace=True)\n",
    "\n",
    "#Standardize the dataset\n",
    "df =  metric_normalizer(df)\n",
    "\n",
    "#Set date to datetime \n",
    "df['Date'] = pd.to_datetime(df['Date'])\n",
    "\n",
    "#Create Date Derived Features \n",
    "df['Trade_Week_Year'] = df['Date'].dt.isocalendar().week\n",
    "df['Trade_Week_Month'] = (df['Date'].dt.day -1)//7+1\n",
    "df['Trade_Day_Week'] = df['Date'].dt.weekday + 1\n",
    "\n",
    "#Create a new feature to identify the status of the previous trade \n",
    "df['Previous_Trade_Status'] = df['2D Trade Status'].shift(fill_value=0)"
   ]
  },
  {
   "cell_type": "markdown",
   "id": "5fcd7a0a",
   "metadata": {
    "heading_collapsed": true
   },
   "source": [
    "### Unwanted for now "
   ]
  },
  {
   "cell_type": "code",
   "execution_count": 4,
   "id": "997f50b3",
   "metadata": {
    "ExecuteTime": {
     "end_time": "2024-03-14T23:33:15.100200Z",
     "start_time": "2024-03-14T23:33:15.090367Z"
    },
    "hidden": true,
    "scrolled": false
   },
   "outputs": [],
   "source": [
    "# import plotly.graph_objects as go\n",
    "\n",
    "# # Create a list of colors based on the 'color_column'\n",
    "# colors = ['green' if val == 'BUY' else 'RED' for val in df['Order Type']]\n",
    "\n",
    "# fig = go.Figure(data=go.Scatter(\n",
    "#     x=df['Date'],  # Access the 'x' column\n",
    "#     y=df['2D High in Pips'],  # Access the 'y' column\n",
    "#     mode='markers',\n",
    "#     marker=dict(\n",
    "#         size=10,\n",
    "#         color=colors,  # Map colors from the 'color_column'\n",
    "#         opacity=0.8\n",
    "#     )\n",
    "# ))\n",
    "\n",
    "# # Customize the layout\n",
    "# fig.update_layout(\n",
    "#     title=\"Order Type by Date\",\n",
    "#     xaxis_title=\"Date\",\n",
    "#     yaxis_title=\"2D High In Pips\",\n",
    "# #     grid=True\n",
    "# )\n",
    "# fig.show()"
   ]
  },
  {
   "cell_type": "code",
   "execution_count": 5,
   "id": "98efd1eb",
   "metadata": {
    "ExecuteTime": {
     "end_time": "2024-03-14T23:33:15.185470Z",
     "start_time": "2024-03-14T23:33:15.118522Z"
    },
    "hidden": true
   },
   "outputs": [],
   "source": [
    "# # Create a list of colors based on the 'color_column'\n",
    "# # colors = ['green' if val == 'BUY' else 'RED' for val in df['Order Type']]\n",
    "\n",
    "# fig = go.Figure(data=go.Scatter(\n",
    "#     x=df['close'],  # Access the 'x' column\n",
    "#     y=df['2D High in Pips'],  # Access the 'y' column\n",
    "#     mode='markers',\n",
    "#     marker=dict(\n",
    "#         size=10,\n",
    "#         color=colors,  # Map colors from the 'color_column'\n",
    "#         opacity=0.8\n",
    "#     )\n",
    "# ))\n",
    "\n",
    "# # Customize the layout\n",
    "# fig.update_layout(\n",
    "#     title=\"Scatter Plot from DataFrame\",\n",
    "#     xaxis_title=\"Close\",\n",
    "#     yaxis_title=\"2D High In Pips\",\n",
    "# #     grid=True\n",
    "# )\n",
    "# fig.show()"
   ]
  },
  {
   "cell_type": "markdown",
   "id": "99688193",
   "metadata": {},
   "source": [
    "## Data Preprocessing \n"
   ]
  },
  {
   "cell_type": "code",
   "execution_count": 21,
   "id": "89ec68b0",
   "metadata": {
    "ExecuteTime": {
     "end_time": "2024-03-14T23:40:31.719234Z",
     "start_time": "2024-03-14T23:40:31.687593Z"
    }
   },
   "outputs": [
    {
     "data": {
      "text/plain": [
       "((483, 112), (483, 95), (483, 1))"
      ]
     },
     "execution_count": 21,
     "metadata": {},
     "output_type": "execute_result"
    }
   ],
   "source": [
    "#Subset Selection\n",
    "X= df[['open', 'high', 'low', 'close', 'volume','Trade_Week_Year','Trade_Week_Month','Trade_Day_Week',\n",
    "       'Day','Month','Time','25EMA', '50EMA', '75EMA','100EMA', '125EMA',\n",
    "        'Trend Status', 'Spread','5075 Trend Status', '75100 Trend Status',\n",
    "       '100125 Trend Status', 'Action', 'Opportunity', 'Order Type', \n",
    "        '%K', '%D', 'k_group', 'ADX', 'ADXR', 'slowk','slowd','CDL2CROWS', 'CDL3BLACKCROWS',\n",
    "        'CDL3INSIDE', 'CDL3LINESTRIKE', 'CDL3OUTSIDE',\n",
    "        'CDL3STARSINSOUTH', 'CDL3WHITESOLDIERS', 'CDLABANDONEDBABY', 'CDLADVANCEBLOCK',\n",
    "        'CDLBELTHOLD', 'CDLBREAKAWAY', 'CDLCLOSINGMARUBOZU', 'CDLCONCEALBABYSWALL',\n",
    "        'CDLCOUNTERATTACK', 'CDLDARKCLOUDCOVER', 'CDLDOJI', 'CDLDOJISTAR', 'CDLDRAGONFLYDOJI',\n",
    "        'CDLENGULFING', 'CDLEVENINGDOJISTAR', 'CDLEVENINGSTAR', 'CDLGAPSIDESIDEWHITE',\n",
    "        'CDLGRAVESTONEDOJI', 'CDLHAMMER', 'CDLHANGINGMAN', 'CDLHARAMI', 'CDLHARAMICROSS',\n",
    "        'CDLHIGHWAVE', 'CDLHIKKAKE', 'CDLHIKKAKEMOD', 'CDLHOMINGPIGEON', 'CDLIDENTICAL3CROWS',\n",
    "        'CDLINNECK', 'CDLINVERTEDHAMMER', 'CDLKICKING', 'CDLKICKINGBYLENGTH', 'CDLLADDERBOTTOM',\n",
    "        'CDLLONGLEGGEDDOJI', 'CDLLONGLINE', 'CDLMARUBOZU', 'CDLMATCHINGLOW', 'CDLMATHOLD',\n",
    "        'CDLMORNINGDOJISTAR', 'CDLMORNINGSTAR', 'CDLONNECK', 'CDLPIERCING', 'CDLRICKSHAWMAN',\n",
    "        'CDLRISEFALL3METHODS', 'CDLSEPARATINGLINES', 'CDLSHOOTINGSTAR', 'CDLSHORTLINE',\n",
    "        'CDLSPINNINGTOP', 'CDLSTALLEDPATTERN', 'CDLSTICKSANDWICH', 'CDLTAKURI', 'CDLTASUKIGAP',\n",
    "        'CDLTHRUSTING', 'CDLTRISTAR', 'CDLUNIQUE3RIVER', 'CDLUPSIDEGAP2CROWS', 'CDLXSIDEGAP3METHODS',\n",
    "        'candle_bullish_score','candle_bearish_score','Previous_Trade_Status']]\n",
    "Y = df[['2D High in Pips']]\n",
    "\n",
    "\n",
    "#Create a list of columns to encode \n",
    "cat_cols_to_encode = ['Time','Trend Status','5075 Trend Status', '75100 Trend Status',\n",
    "                    '100125 Trend Status', 'Action', 'Opportunity', 'Order Type',\n",
    "                    'k_group']\n",
    "#Create a list of cols for ordinal encoding \n",
    "cat_cols_for_ordinal_encoding = []\n",
    "\n",
    "#Create a list of cols to scale \n",
    "num_cols_to_scale = ['volume']\n",
    "\n",
    "#View row, cols count\n",
    "df.shape ,  X.shape, Y.shape"
   ]
  },
  {
   "cell_type": "code",
   "execution_count": 73,
   "id": "328e5580",
   "metadata": {
    "ExecuteTime": {
     "end_time": "2024-03-15T03:21:09.857639Z",
     "start_time": "2024-03-15T03:21:09.799659Z"
    }
   },
   "outputs": [
    {
     "name": "stdout",
     "output_type": "stream",
     "text": [
      "Training Set: (384, 95)       \n",
      "Test Set: (99, 95)\n"
     ]
    }
   ],
   "source": [
    " #Split the data into training and test set \n",
    "X_train, X_test, y_train, y_test = train_test_split( X, Y, test_size=.204, random_state=42, stratify=X['Order Type'])\n",
    "\n",
    "print(f\"Training Set: {X_train.shape}\\\n",
    "        \\nTest Set: {X_test.shape}\")\n"
   ]
  },
  {
   "cell_type": "code",
   "execution_count": 8,
   "id": "6673d2de",
   "metadata": {
    "ExecuteTime": {
     "end_time": "2024-03-14T23:33:15.634454Z",
     "start_time": "2024-03-14T23:33:15.474023Z"
    }
   },
   "outputs": [
    {
     "data": {
      "text/html": [
       "<style>#sk-container-id-1 {color: black;}#sk-container-id-1 pre{padding: 0;}#sk-container-id-1 div.sk-toggleable {background-color: white;}#sk-container-id-1 label.sk-toggleable__label {cursor: pointer;display: block;width: 100%;margin-bottom: 0;padding: 0.3em;box-sizing: border-box;text-align: center;}#sk-container-id-1 label.sk-toggleable__label-arrow:before {content: \"▸\";float: left;margin-right: 0.25em;color: #696969;}#sk-container-id-1 label.sk-toggleable__label-arrow:hover:before {color: black;}#sk-container-id-1 div.sk-estimator:hover label.sk-toggleable__label-arrow:before {color: black;}#sk-container-id-1 div.sk-toggleable__content {max-height: 0;max-width: 0;overflow: hidden;text-align: left;background-color: #f0f8ff;}#sk-container-id-1 div.sk-toggleable__content pre {margin: 0.2em;color: black;border-radius: 0.25em;background-color: #f0f8ff;}#sk-container-id-1 input.sk-toggleable__control:checked~div.sk-toggleable__content {max-height: 200px;max-width: 100%;overflow: auto;}#sk-container-id-1 input.sk-toggleable__control:checked~label.sk-toggleable__label-arrow:before {content: \"▾\";}#sk-container-id-1 div.sk-estimator input.sk-toggleable__control:checked~label.sk-toggleable__label {background-color: #d4ebff;}#sk-container-id-1 div.sk-label input.sk-toggleable__control:checked~label.sk-toggleable__label {background-color: #d4ebff;}#sk-container-id-1 input.sk-hidden--visually {border: 0;clip: rect(1px 1px 1px 1px);clip: rect(1px, 1px, 1px, 1px);height: 1px;margin: -1px;overflow: hidden;padding: 0;position: absolute;width: 1px;}#sk-container-id-1 div.sk-estimator {font-family: monospace;background-color: #f0f8ff;border: 1px dotted black;border-radius: 0.25em;box-sizing: border-box;margin-bottom: 0.5em;}#sk-container-id-1 div.sk-estimator:hover {background-color: #d4ebff;}#sk-container-id-1 div.sk-parallel-item::after {content: \"\";width: 100%;border-bottom: 1px solid gray;flex-grow: 1;}#sk-container-id-1 div.sk-label:hover label.sk-toggleable__label {background-color: #d4ebff;}#sk-container-id-1 div.sk-serial::before {content: \"\";position: absolute;border-left: 1px solid gray;box-sizing: border-box;top: 0;bottom: 0;left: 50%;z-index: 0;}#sk-container-id-1 div.sk-serial {display: flex;flex-direction: column;align-items: center;background-color: white;padding-right: 0.2em;padding-left: 0.2em;position: relative;}#sk-container-id-1 div.sk-item {position: relative;z-index: 1;}#sk-container-id-1 div.sk-parallel {display: flex;align-items: stretch;justify-content: center;background-color: white;position: relative;}#sk-container-id-1 div.sk-item::before, #sk-container-id-1 div.sk-parallel-item::before {content: \"\";position: absolute;border-left: 1px solid gray;box-sizing: border-box;top: 0;bottom: 0;left: 50%;z-index: -1;}#sk-container-id-1 div.sk-parallel-item {display: flex;flex-direction: column;z-index: 1;position: relative;background-color: white;}#sk-container-id-1 div.sk-parallel-item:first-child::after {align-self: flex-end;width: 50%;}#sk-container-id-1 div.sk-parallel-item:last-child::after {align-self: flex-start;width: 50%;}#sk-container-id-1 div.sk-parallel-item:only-child::after {width: 0;}#sk-container-id-1 div.sk-dashed-wrapped {border: 1px dashed gray;margin: 0 0.4em 0.5em 0.4em;box-sizing: border-box;padding-bottom: 0.4em;background-color: white;}#sk-container-id-1 div.sk-label label {font-family: monospace;font-weight: bold;display: inline-block;line-height: 1.2em;}#sk-container-id-1 div.sk-label-container {text-align: center;}#sk-container-id-1 div.sk-container {/* jupyter's `normalize.less` sets `[hidden] { display: none; }` but bootstrap.min.css set `[hidden] { display: none !important; }` so we also need the `!important` here to be able to override the default hidden behavior on the sphinx rendered scikit-learn.org. See: https://github.com/scikit-learn/scikit-learn/issues/21755 */display: inline-block !important;position: relative;}#sk-container-id-1 div.sk-text-repr-fallback {display: none;}</style><div id=\"sk-container-id-1\" class=\"sk-top-container\"><div class=\"sk-text-repr-fallback\"><pre>Pipeline(steps=[(&#x27;Preprocessor&#x27;,\n",
       "                 ColumnTransformer(remainder=&#x27;passthrough&#x27;,\n",
       "                                   transformers=[(&#x27;standardscaler&#x27;,\n",
       "                                                  StandardScaler(),\n",
       "                                                  [&#x27;volume&#x27;]),\n",
       "                                                 (&#x27;onehotencoder&#x27;,\n",
       "                                                  OneHotEncoder(drop=&#x27;first&#x27;,\n",
       "                                                                feature_name_combiner=&lt;function custom_combiner at 0x7bd4b2a4b3a0&gt;,\n",
       "                                                                sparse_output=False),\n",
       "                                                  [&#x27;Time&#x27;, &#x27;Trend Status&#x27;,\n",
       "                                                   &#x27;5075 Trend Status&#x27;,\n",
       "                                                   &#x27;75100 Trend Status&#x27;,\n",
       "                                                   &#x27;100125 Trend Status&#x27;,\n",
       "                                                   &#x27;Action&#x27;, &#x27;Opportunity&#x27;,\n",
       "                                                   &#x27;Order Type&#x27;,\n",
       "                                                   &#x27;k_group&#x27;])])),\n",
       "                (&#x27;RF_Model&#x27;, RandomForestRegressor(max_depth=5))])</pre><b>In a Jupyter environment, please rerun this cell to show the HTML representation or trust the notebook. <br />On GitHub, the HTML representation is unable to render, please try loading this page with nbviewer.org.</b></div><div class=\"sk-container\" hidden><div class=\"sk-item sk-dashed-wrapped\"><div class=\"sk-label-container\"><div class=\"sk-label sk-toggleable\"><input class=\"sk-toggleable__control sk-hidden--visually\" id=\"sk-estimator-id-1\" type=\"checkbox\" ><label for=\"sk-estimator-id-1\" class=\"sk-toggleable__label sk-toggleable__label-arrow\">Pipeline</label><div class=\"sk-toggleable__content\"><pre>Pipeline(steps=[(&#x27;Preprocessor&#x27;,\n",
       "                 ColumnTransformer(remainder=&#x27;passthrough&#x27;,\n",
       "                                   transformers=[(&#x27;standardscaler&#x27;,\n",
       "                                                  StandardScaler(),\n",
       "                                                  [&#x27;volume&#x27;]),\n",
       "                                                 (&#x27;onehotencoder&#x27;,\n",
       "                                                  OneHotEncoder(drop=&#x27;first&#x27;,\n",
       "                                                                feature_name_combiner=&lt;function custom_combiner at 0x7bd4b2a4b3a0&gt;,\n",
       "                                                                sparse_output=False),\n",
       "                                                  [&#x27;Time&#x27;, &#x27;Trend Status&#x27;,\n",
       "                                                   &#x27;5075 Trend Status&#x27;,\n",
       "                                                   &#x27;75100 Trend Status&#x27;,\n",
       "                                                   &#x27;100125 Trend Status&#x27;,\n",
       "                                                   &#x27;Action&#x27;, &#x27;Opportunity&#x27;,\n",
       "                                                   &#x27;Order Type&#x27;,\n",
       "                                                   &#x27;k_group&#x27;])])),\n",
       "                (&#x27;RF_Model&#x27;, RandomForestRegressor(max_depth=5))])</pre></div></div></div><div class=\"sk-serial\"><div class=\"sk-item sk-dashed-wrapped\"><div class=\"sk-label-container\"><div class=\"sk-label sk-toggleable\"><input class=\"sk-toggleable__control sk-hidden--visually\" id=\"sk-estimator-id-2\" type=\"checkbox\" ><label for=\"sk-estimator-id-2\" class=\"sk-toggleable__label sk-toggleable__label-arrow\">Preprocessor: ColumnTransformer</label><div class=\"sk-toggleable__content\"><pre>ColumnTransformer(remainder=&#x27;passthrough&#x27;,\n",
       "                  transformers=[(&#x27;standardscaler&#x27;, StandardScaler(),\n",
       "                                 [&#x27;volume&#x27;]),\n",
       "                                (&#x27;onehotencoder&#x27;,\n",
       "                                 OneHotEncoder(drop=&#x27;first&#x27;,\n",
       "                                               feature_name_combiner=&lt;function custom_combiner at 0x7bd4b2a4b3a0&gt;,\n",
       "                                               sparse_output=False),\n",
       "                                 [&#x27;Time&#x27;, &#x27;Trend Status&#x27;, &#x27;5075 Trend Status&#x27;,\n",
       "                                  &#x27;75100 Trend Status&#x27;, &#x27;100125 Trend Status&#x27;,\n",
       "                                  &#x27;Action&#x27;, &#x27;Opportunity&#x27;, &#x27;Order Type&#x27;,\n",
       "                                  &#x27;k_group&#x27;])])</pre></div></div></div><div class=\"sk-parallel\"><div class=\"sk-parallel-item\"><div class=\"sk-item\"><div class=\"sk-label-container\"><div class=\"sk-label sk-toggleable\"><input class=\"sk-toggleable__control sk-hidden--visually\" id=\"sk-estimator-id-3\" type=\"checkbox\" ><label for=\"sk-estimator-id-3\" class=\"sk-toggleable__label sk-toggleable__label-arrow\">standardscaler</label><div class=\"sk-toggleable__content\"><pre>[&#x27;volume&#x27;]</pre></div></div></div><div class=\"sk-serial\"><div class=\"sk-item\"><div class=\"sk-estimator sk-toggleable\"><input class=\"sk-toggleable__control sk-hidden--visually\" id=\"sk-estimator-id-4\" type=\"checkbox\" ><label for=\"sk-estimator-id-4\" class=\"sk-toggleable__label sk-toggleable__label-arrow\">StandardScaler</label><div class=\"sk-toggleable__content\"><pre>StandardScaler()</pre></div></div></div></div></div></div><div class=\"sk-parallel-item\"><div class=\"sk-item\"><div class=\"sk-label-container\"><div class=\"sk-label sk-toggleable\"><input class=\"sk-toggleable__control sk-hidden--visually\" id=\"sk-estimator-id-5\" type=\"checkbox\" ><label for=\"sk-estimator-id-5\" class=\"sk-toggleable__label sk-toggleable__label-arrow\">onehotencoder</label><div class=\"sk-toggleable__content\"><pre>[&#x27;Time&#x27;, &#x27;Trend Status&#x27;, &#x27;5075 Trend Status&#x27;, &#x27;75100 Trend Status&#x27;, &#x27;100125 Trend Status&#x27;, &#x27;Action&#x27;, &#x27;Opportunity&#x27;, &#x27;Order Type&#x27;, &#x27;k_group&#x27;]</pre></div></div></div><div class=\"sk-serial\"><div class=\"sk-item\"><div class=\"sk-estimator sk-toggleable\"><input class=\"sk-toggleable__control sk-hidden--visually\" id=\"sk-estimator-id-6\" type=\"checkbox\" ><label for=\"sk-estimator-id-6\" class=\"sk-toggleable__label sk-toggleable__label-arrow\">OneHotEncoder</label><div class=\"sk-toggleable__content\"><pre>OneHotEncoder(drop=&#x27;first&#x27;,\n",
       "              feature_name_combiner=&lt;function custom_combiner at 0x7bd4b2a4b3a0&gt;,\n",
       "              sparse_output=False)</pre></div></div></div></div></div></div><div class=\"sk-parallel-item\"><div class=\"sk-item\"><div class=\"sk-label-container\"><div class=\"sk-label sk-toggleable\"><input class=\"sk-toggleable__control sk-hidden--visually\" id=\"sk-estimator-id-7\" type=\"checkbox\" ><label for=\"sk-estimator-id-7\" class=\"sk-toggleable__label sk-toggleable__label-arrow\">remainder</label><div class=\"sk-toggleable__content\"><pre></pre></div></div></div><div class=\"sk-serial\"><div class=\"sk-item\"><div class=\"sk-estimator sk-toggleable\"><input class=\"sk-toggleable__control sk-hidden--visually\" id=\"sk-estimator-id-8\" type=\"checkbox\" ><label for=\"sk-estimator-id-8\" class=\"sk-toggleable__label sk-toggleable__label-arrow\">passthrough</label><div class=\"sk-toggleable__content\"><pre>passthrough</pre></div></div></div></div></div></div></div></div><div class=\"sk-item\"><div class=\"sk-estimator sk-toggleable\"><input class=\"sk-toggleable__control sk-hidden--visually\" id=\"sk-estimator-id-9\" type=\"checkbox\" ><label for=\"sk-estimator-id-9\" class=\"sk-toggleable__label sk-toggleable__label-arrow\">RandomForestRegressor</label><div class=\"sk-toggleable__content\"><pre>RandomForestRegressor(max_depth=5)</pre></div></div></div></div></div></div></div>"
      ],
      "text/plain": [
       "Pipeline(steps=[('Preprocessor',\n",
       "                 ColumnTransformer(remainder='passthrough',\n",
       "                                   transformers=[('standardscaler',\n",
       "                                                  StandardScaler(),\n",
       "                                                  ['volume']),\n",
       "                                                 ('onehotencoder',\n",
       "                                                  OneHotEncoder(drop='first',\n",
       "                                                                feature_name_combiner=<function custom_combiner at 0x7bd4b2a4b3a0>,\n",
       "                                                                sparse_output=False),\n",
       "                                                  ['Time', 'Trend Status',\n",
       "                                                   '5075 Trend Status',\n",
       "                                                   '75100 Trend Status',\n",
       "                                                   '100125 Trend Status',\n",
       "                                                   'Action', 'Opportunity',\n",
       "                                                   'Order Type',\n",
       "                                                   'k_group'])])),\n",
       "                ('RF_Model', RandomForestRegressor(max_depth=5))])"
      ]
     },
     "execution_count": 8,
     "metadata": {},
     "output_type": "execute_result"
    }
   ],
   "source": [
    "def custom_combiner(feature, ):\n",
    "    name = 'encoded'\n",
    "    return str(name)+ \"_\" + str(feature)\n",
    "\n",
    "#Create Column Tranformer \n",
    "Preprocessor = make_column_transformer(\n",
    "                                (StandardScaler(), num_cols_to_scale),\n",
    "                                (OneHotEncoder(feature_name_combiner=custom_combiner,drop='first',sparse_output=False),cat_cols_to_encode,{'prefix':'encoded'}),\n",
    "#                                 (OrdinalEncoder(), cat_cols_for_ordinal_encoding),\n",
    "                                remainder='passthrough')\n",
    "\n",
    "# Preprocessor.set_output(transform='pandas')\n",
    "\n",
    "#Create Pieline to be used in Model\n",
    "Model_Pipeline = Pipeline(steps=[\n",
    "    ('Preprocessor', Preprocessor),\n",
    "    ('RF_Model',RandomForestRegressor(n_estimators=100, max_depth=5))])\n",
    "\n",
    "#View Pipeline \n",
    "Model_Pipeline"
   ]
  },
  {
   "cell_type": "code",
   "execution_count": 60,
   "id": "980ccf8a",
   "metadata": {
    "ExecuteTime": {
     "end_time": "2024-03-15T02:41:39.297558Z",
     "start_time": "2024-03-15T02:41:38.759067Z"
    }
   },
   "outputs": [
    {
     "name": "stderr",
     "output_type": "stream",
     "text": [
      "/home/clivence/base_jupyter/venv/lib/python3.9/site-packages/sklearn/base.py:1151: DataConversionWarning: A column-vector y was passed when a 1d array was expected. Please change the shape of y to (n_samples,), for example using ravel().\n",
      "  return fit_method(estimator, *args, **kwargs)\n"
     ]
    },
    {
     "data": {
      "text/plain": [
       "50.5985164911775"
      ]
     },
     "execution_count": 60,
     "metadata": {},
     "output_type": "execute_result"
    }
   ],
   "source": [
    "#Fit the training data \n",
    "Model_Pipeline.fit(X_train, y_train)\n",
    "\n",
    "#Make Predictions on the test set \n",
    "RF_Model_Predictions = Model_Pipeline.predict(X_test)\n",
    "\n",
    "#Get Error Metrics of Random Forest Model\n",
    "mean_absolute_error(y_test, RF_Model_Predictions)"
   ]
  },
  {
   "cell_type": "markdown",
   "id": "d577a73c",
   "metadata": {},
   "source": [
    "### Build Baseline Model "
   ]
  },
  {
   "cell_type": "code",
   "execution_count": 74,
   "id": "03b6e395",
   "metadata": {
    "ExecuteTime": {
     "end_time": "2024-03-15T03:21:18.385756Z",
     "start_time": "2024-03-15T03:21:18.306855Z"
    }
   },
   "outputs": [
    {
     "data": {
      "text/plain": [
       "51.01187657828274"
      ]
     },
     "execution_count": 74,
     "metadata": {},
     "output_type": "execute_result"
    }
   ],
   "source": [
    "average_2d_high_pips= y_train['2D High in Pips'].mean()\n",
    "baseline_model_test_predictions = [average_2d_high_pips] * len(y_test)\n",
    "\n",
    "mean_absolute_error(baseline_model_test_predictions, y_test)"
   ]
  },
  {
   "cell_type": "code",
   "execution_count": 75,
   "id": "7ab7c709",
   "metadata": {
    "ExecuteTime": {
     "end_time": "2024-03-15T03:21:26.902106Z",
     "start_time": "2024-03-15T03:21:26.882333Z"
    }
   },
   "outputs": [],
   "source": [
    "# Sample data for the second set (make a copy)\n",
    "actual2 = np.array(y_test).reshape(-1)\n",
    "predicted2 = np.array(baseline_model_test_predictions).reshape(-1)\n",
    "\n",
    "# Sample data for the order type column (replace this with your actual order_type data)\n",
    "# order_type = np.random.choice(['Type A', 'Type B'], len(actual2))\n",
    "order_type = X_test['Order Type']\n",
    "\n",
    "# Calculate the errors for the second set\n",
    "errors2 = actual2 - predicted2"
   ]
  },
  {
   "cell_type": "code",
   "execution_count": 45,
   "id": "c2628f7f",
   "metadata": {
    "ExecuteTime": {
     "end_time": "2024-03-15T00:22:45.134597Z",
     "start_time": "2024-03-15T00:22:45.114006Z"
    },
    "scrolled": false
   },
   "outputs": [],
   "source": [
    "# import numpy as np\n",
    "# import matplotlib.pyplot as plt\n",
    "\n",
    "# # Sample data for the second set (make a copy)\n",
    "# actual2 = np.array(y_test)  \n",
    "# predicted2 = np.array(baseline_model_test_predictions)\n",
    "# order_type = X_test['Order Type']\n",
    "\n",
    "# # Calculate the errors for the second set\n",
    "# errors2 = actual2 - predicted2\n",
    "\n",
    "# # Create the primary plot with scatter points for the first set\n",
    "# fig, axs = plt.subplots(figsize=(8, 5))\n",
    "\n",
    "# # Second subplot (1, 2, 2)\n",
    "# axs.scatter(actual2, predicted2, alpha=0.5, color='blue', label='Predicted vs. Actual')\n",
    "# axs.set_xlabel('Actual Values')\n",
    "# axs.set_ylabel('Predicted Values', color='blue')\n",
    "# axs.tick_params(axis='y', labelcolor='blue')\n",
    "# axs.legend()\n",
    "# axs.set_title('Baseline Model Prediction vs Actuals with Error Visualization')\n",
    "\n",
    "# # Create the secondary y-axis for errors for the second set\n",
    "# ax3 = axs.twinx()  \n",
    "# ax3.set_ylabel('Error', color='red')  \n",
    "# ax3.tick_params(axis='y', labelcolor='red')\n",
    "\n",
    "# # Adding vertical lines for each point to represent the error for the second set\n",
    "# for i in range(len(actual2)):\n",
    "#     plt.vlines(actual2[i], predicted2[i], actual2[i], color='red', alpha=0.7, linewidth=0.5)\n",
    "\n",
    "# # Adjust layout for better spacing\n",
    "# plt.tight_layout()\n",
    "\n",
    "# plt.show()"
   ]
  },
  {
   "cell_type": "code",
   "execution_count": 48,
   "id": "d09b301c",
   "metadata": {
    "ExecuteTime": {
     "end_time": "2024-03-15T00:32:20.510439Z",
     "start_time": "2024-03-15T00:32:20.499353Z"
    },
    "scrolled": false
   },
   "outputs": [],
   "source": [
    "# import numpy as np\n",
    "# import matplotlib.pyplot as plt\n",
    "\n",
    "# # Assuming y_test, baseline_model_test_predictions, and X_test are predefined\n",
    "# # For the sake of example, let's create dummy data\n",
    "\n",
    "\n",
    "# actual = np.array(y_test).reshape(-1)\n",
    "# predicted = np.array(baseline_model_test_predictions)\n",
    "# order_type = np.array(X_test['Order Type'])\n",
    "\n",
    "# # Calculate errors\n",
    "# errors2 = actual - predicted\n",
    "\n",
    "# # Determine unique order types and assign colors\n",
    "# unique_order_types = np.unique(order_type)\n",
    "# colors = plt.cm.jet(np.linspace(0, 1, len(unique_order_types)))\n",
    "# color_dict = dict(zip(unique_order_types, colors))\n",
    "\n",
    "# fig, axs = plt.subplots(figsize=(8, 5))\n",
    "\n",
    "# # Iterate over each point to plot\n",
    "# for i, (actual, predicted, error, order) in enumerate(zip(y_test, baseline_model_test_predictions, errors2, order_type)):\n",
    "#     color = color_dict[order]  # Select color based on order type\n",
    "#     axs.scatter(actual, predicted, alpha=0.5, color=color, label=order if order not in axs.get_legend_handles_labels()[1] else \"\")\n",
    "#     plt.vlines(actual, predicted, actual, color=color, alpha=0.7, linewidth=0.5)\n",
    "\n",
    "# axs.set_xlabel('Actual Values')\n",
    "# axs.set_ylabel('Predicted Values', color='blue')\n",
    "# axs.tick_params(axis='y', labelcolor='blue')\n",
    "# axs.set_title('Baseline Model Prediction vs Actuals with Error Visualization')\n",
    "\n",
    "# ax3 = axs.twinx()  \n",
    "# ax3.set_ylabel('Error', color='red')  \n",
    "# ax3.tick_params(axis='y', labelcolor='red')\n",
    "\n",
    "# # Adjust layout and show plot\n",
    "# plt.tight_layout()\n",
    "# plt.legend(title=\"Order Type\")\n",
    "# plt.show()\n",
    "\n",
    "# # actual, predicted, order_type"
   ]
  },
  {
   "cell_type": "code",
   "execution_count": 67,
   "id": "dea58869",
   "metadata": {
    "ExecuteTime": {
     "end_time": "2024-03-15T02:46:53.469859Z",
     "start_time": "2024-03-15T02:46:51.852532Z"
    }
   },
   "outputs": [
    {
     "data": {
      "image/png": "[encoded data removed]",
      "text/plain": [
       "<Figure size 1600x900 with 2 Axes>"
      ]
     },
     "metadata": {},
     "output_type": "display_data"
    }
   ],
   "source": [
    "import numpy as np\n",
    "import matplotlib.pyplot as plt\n",
    "\n",
    "actual = np.array(y_test).reshape(-1)\n",
    "predicted = np.array(baseline_model_test_predictions).reshape(-1)\n",
    "order_type = np.array(X_test['Order Type']).reshape(-1)\n",
    "\n",
    "# Calculate errors\n",
    "errors2 = actual - predicted\n",
    "\n",
    "# Determine unique order types and assign colors\n",
    "unique_order_types = np.unique(order_type)\n",
    "colors = plt.cm.jet(np.linspace(0, 1, len(unique_order_types)))\n",
    "color_dict = dict(zip(unique_order_types, colors))\n",
    "\n",
    "fig, axs = plt.subplots(figsize=(16, 9))\n",
    "\n",
    "# To handle the legend for unique labels\n",
    "handles_dict = {}\n",
    "\n",
    "# Iterate over each point to plot\n",
    "for i in range(len(actual)):\n",
    "    order = order_type[i]\n",
    "    color = color_dict[order]\n",
    "    if order not in handles_dict:  # If the label is not already added to handles_dict\n",
    "        handles_dict[order] = axs.scatter(actual[i], predicted[i], alpha=0.5, color=color, label=order)\n",
    "    else:\n",
    "        axs.scatter(actual[i], predicted[i], alpha=0.5, color=color)\n",
    "    plt.vlines(actual[i], predicted[i], actual[i], color=color, alpha=0.7, linewidth=0.5)\n",
    "\n",
    "# Customizing axis labels and ticks\n",
    "axs.set_xlabel('Actual Values', fontsize=14, color='blue')  # Customize label and color\n",
    "axs.set_ylabel('Predicted Values', fontsize=14, color='blue')  # Customize label and color\n",
    "axs.tick_params(axis='both', which='major', labelsize=12, colors='green')  # Customize tick size and color\n",
    "\n",
    "axs.set_title('Baseline Model Prediction vs Actuals with Error Visualization', fontsize=16, color='purple')  # Customize title and color\n",
    "\n",
    "# Create secondary y-axis for actual errors\n",
    "ax3 = axs.twinx()\n",
    "ax3.scatter(actual, errors2, color='red', alpha=0.5, label='Error')  # Plotting the errors\n",
    "ax3.set_ylabel('Error', color='red', fontsize=14)  \n",
    "ax3.tick_params(axis='y', labelcolor='red', labelsize=12)  # Customize tick color and size\n",
    "\n",
    "# Adjusting the legend to include error information\n",
    "handles, labels = axs.get_legend_handles_labels()\n",
    "error_handle = plt.Line2D((0,1),(0,0), color='red', alpha=0.5)  # Creating a custom handle for the error legend\n",
    "handles.append(error_handle)\n",
    "labels.append('Error')\n",
    "\n",
    "# Placing the combined legend to the left and customizing legend font\n",
    "axs.legend(handles, labels, loc='upper left', fontsize=12)\n",
    "\n",
    "# Customize the figure background color\n",
    "fig.patch.set_facecolor('white')\n",
    "\n",
    "plt.tight_layout()\n",
    "plt.show()\n"
   ]
  },
  {
   "cell_type": "code",
   "execution_count": 68,
   "id": "6666eaa1",
   "metadata": {
    "ExecuteTime": {
     "end_time": "2024-03-15T02:53:49.108327Z",
     "start_time": "2024-03-15T02:53:49.010896Z"
    }
   },
   "outputs": [
    {
     "data": {
      "application/vnd.jupyter.widget-view+json": {
       "model_id": "dfb748d298b948be96fa69697e789aa4",
       "version_major": 2,
       "version_minor": 0
      },
      "text/plain": [
       "Dropdown(description='Order Type:', options=('BUY', 'SELL'), value='BUY')"
      ]
     },
     "metadata": {},
     "output_type": "display_data"
    },
    {
     "ename": "NameError",
     "evalue": "name 'selected_order_type' is not defined",
     "output_type": "error",
     "traceback": [
      "\u001b[0;31m---------------------------------------------------------------------------\u001b[0m",
      "\u001b[0;31mNameError\u001b[0m                                 Traceback (most recent call last)",
      "Cell \u001b[0;32mIn[68], line 60\u001b[0m\n\u001b[1;32m     58\u001b[0m \u001b[38;5;66;03m# Initial plot\u001b[39;00m\n\u001b[1;32m     59\u001b[0m display(order_type_dropdown)\n\u001b[0;32m---> 60\u001b[0m \u001b[43mplot_with_filter\u001b[49m\u001b[43m(\u001b[49m\u001b[43munique_order_types\u001b[49m\u001b[43m[\u001b[49m\u001b[38;5;241;43m0\u001b[39;49m\u001b[43m]\u001b[49m\u001b[43m)\u001b[49m  \u001b[38;5;66;03m# Initially display for the first order type\u001b[39;00m\n",
      "Cell \u001b[0;32mIn[68], line 10\u001b[0m, in \u001b[0;36mplot_with_filter\u001b[0;34m(order_type)\u001b[0m\n\u001b[1;32m      8\u001b[0m \u001b[38;5;28;01mdef\u001b[39;00m \u001b[38;5;21mplot_with_filter\u001b[39m(order_type):\n\u001b[1;32m      9\u001b[0m     \u001b[38;5;66;03m# Filter data based on selected order type\u001b[39;00m\n\u001b[0;32m---> 10\u001b[0m     filtered_actual \u001b[38;5;241m=\u001b[39m actual[order_type \u001b[38;5;241m==\u001b[39m \u001b[43mselected_order_type\u001b[49m]\n\u001b[1;32m     11\u001b[0m     filtered_predicted \u001b[38;5;241m=\u001b[39m predicted[order_type \u001b[38;5;241m==\u001b[39m selected_order_type]\n\u001b[1;32m     12\u001b[0m     filtered_errors \u001b[38;5;241m=\u001b[39m errors2[order_type \u001b[38;5;241m==\u001b[39m selected_order_type]\n",
      "\u001b[0;31mNameError\u001b[0m: name 'selected_order_type' is not defined"
     ]
    }
   ],
   "source": [
    "import numpy as np\n",
    "import matplotlib.pyplot as plt\n",
    "import ipywidgets as widgets\n",
    "from IPython.display import display\n",
    "\n",
    "# Assuming you have already defined actual, predicted, and order_type arrays\n",
    "\n",
    "def plot_with_filter(order_type):\n",
    "    # Filter data based on selected order type\n",
    "    filtered_actual = actual[order_type == selected_order_type]\n",
    "    filtered_predicted = predicted[order_type == selected_order_type]\n",
    "    filtered_errors = errors2[order_type == selected_order_type]\n",
    "    \n",
    "    fig, axs = plt.subplots(figsize=(16, 9))\n",
    "    \n",
    "    axs.scatter(filtered_actual, filtered_predicted, alpha=0.5, color=color_dict[selected_order_type], label=selected_order_type)\n",
    "    axs.vlines(filtered_actual, filtered_predicted, filtered_actual, color=color_dict[selected_order_type], alpha=0.7, linewidth=0.5)\n",
    "\n",
    "    axs.set_xlabel('Actual Values', fontsize=14, color='blue')\n",
    "    axs.set_ylabel('Predicted Values', fontsize=14, color='blue')\n",
    "    axs.tick_params(axis='both', which='major', labelsize=12, colors='green')\n",
    "    axs.set_title('Baseline Model Prediction vs Actuals with Error Visualization', fontsize=16, color='purple')\n",
    "\n",
    "    ax3 = axs.twinx()\n",
    "    ax3.scatter(filtered_actual, filtered_errors, color='red', alpha=0.5, label='Error')\n",
    "    ax3.set_ylabel('Error', color='red', fontsize=14)  \n",
    "    ax3.tick_params(axis='y', labelcolor='red', labelsize=12)\n",
    "\n",
    "    handles, labels = axs.get_legend_handles_labels()\n",
    "    error_handle = plt.Line2D((0,1),(0,0), color='red', alpha=0.5)\n",
    "    handles.append(error_handle)\n",
    "    labels.append('Error')\n",
    "\n",
    "    axs.legend(handles, labels, loc='upper left', fontsize=12)\n",
    "\n",
    "    fig.patch.set_facecolor('white')\n",
    "\n",
    "    plt.tight_layout()\n",
    "    plt.show()\n",
    "\n",
    "# Calculate errors\n",
    "errors2 = actual - predicted\n",
    "\n",
    "# Determine unique order types and assign colors\n",
    "unique_order_types = np.unique(order_type)\n",
    "colors = plt.cm.jet(np.linspace(0, 1, len(unique_order_types)))\n",
    "color_dict = dict(zip(unique_order_types, colors))\n",
    "\n",
    "# Create dropdown widget\n",
    "order_type_dropdown = widgets.Dropdown(options=unique_order_types, description='Order Type:')\n",
    "\n",
    "# Define function to update plot based on dropdown selection\n",
    "def update_plot(change):\n",
    "    plot_with_filter(change.new)\n",
    "\n",
    "order_type_dropdown.observe(update_plot, names='value')\n",
    "\n",
    "# Initial plot\n",
    "display(order_type_dropdown)\n",
    "plot_with_filter(unique_order_types[0])  # Initially display for the first order type\n"
   ]
  },
  {
   "cell_type": "code",
   "execution_count": 69,
   "id": "4f8c2180",
   "metadata": {
    "ExecuteTime": {
     "end_time": "2024-03-15T02:58:08.185704Z",
     "start_time": "2024-03-15T02:58:07.465129Z"
    }
   },
   "outputs": [
    {
     "data": {
      "application/vnd.jupyter.widget-view+json": {
       "model_id": "6ed3af9233b14f2f898946a569d3c437",
       "version_major": 2,
       "version_minor": 0
      },
      "text/plain": [
       "interactive(children=(Dropdown(description='Order Type:', options=('All', 'A', 'B', 'C'), value='All'), Output…"
      ]
     },
     "execution_count": 69,
     "metadata": {},
     "output_type": "execute_result"
    }
   ],
   "source": [
    "import numpy as np\n",
    "import matplotlib.pyplot as plt\n",
    "import ipywidgets as widgets\n",
    "from IPython.display import display\n",
    "\n",
    "# Assuming your data is prepared and variables `actual`, `predicted`, and `order_type` are already defined\n",
    "# For demonstration, I'll use placeholders for these arrays. Replace them with your actual data arrays.\n",
    "# Example Data (Replace with your data)\n",
    "y_test = np.random.rand(100)\n",
    "baseline_model_test_predictions = np.random.rand(100)\n",
    "X_test = {'Order Type': np.random.choice(['A', 'B', 'C'], size=100)}\n",
    "\n",
    "actual = np.array(y_test).reshape(-1)\n",
    "predicted = np.array(baseline_model_test_predictions).reshape(-1)\n",
    "order_type = np.array(X_test['Order Type']).reshape(-1)\n",
    "\n",
    "# Calculate errors\n",
    "errors = actual - predicted\n",
    "\n",
    "# Determine unique order types and assign colors\n",
    "unique_order_types = np.unique(order_type)\n",
    "colors = plt.cm.jet(np.linspace(0, 1, len(unique_order_types)))\n",
    "color_dict = dict(zip(unique_order_types, colors))\n",
    "\n",
    "def plot_filtered_data(selected_order_type='All'):\n",
    "    fig, axs = plt.subplots(figsize=(16, 9))\n",
    "    \n",
    "    if selected_order_type == 'All':\n",
    "        for order in unique_order_types:\n",
    "            idx = order_type == order\n",
    "            axs.scatter(actual[idx], predicted[idx], alpha=0.5, color=color_dict[order], label=order)\n",
    "            axs.vlines(actual[idx], predicted[idx], actual[idx], color=color_dict[order], alpha=0.7, linewidth=0.5)\n",
    "    else:\n",
    "        idx = order_type == selected_order_type\n",
    "        axs.scatter(actual[idx], predicted[idx], alpha=0.5, color=color_dict[selected_order_type], label=selected_order_type)\n",
    "        axs.vlines(actual[idx], predicted[idx], actual[idx], color=color_dict[selected_order_type], alpha=0.7, linewidth=0.5)\n",
    "    \n",
    "    axs.set_xlabel('Actual Values', fontsize=14, color='blue')\n",
    "    axs.set_ylabel('Predicted Values', fontsize=14, color='blue')\n",
    "    axs.tick_params(axis='both', which='major', labelsize=12, colors='green')\n",
    "    axs.set_title('Model Prediction vs Actuals with Error Visualization', fontsize=16, color='purple')\n",
    "    \n",
    "    # Errors plotted on a secondary y-axis\n",
    "    ax3 = axs.twinx()\n",
    "    ax3.set_ylabel('Error', color='red', fontsize=14)\n",
    "    ax3.tick_params(axis='y', labelcolor='red', labelsize=12)\n",
    "    if selected_order_type != 'All':\n",
    "        ax3.scatter(actual[idx], errors[idx], color='red', alpha=0.5, label='Error')\n",
    "    axs.legend(loc='upper left', fontsize=12)\n",
    "    \n",
    "    fig.patch.set_facecolor('white')\n",
    "    plt.tight_layout()\n",
    "    plt.show()\n",
    "\n",
    "# Widget setup\n",
    "dropdown_order_type = widgets.Dropdown(options=['All'] + list(unique_order_types), value='All', description='Order Type:')\n",
    "widgets.interactive(plot_filtered_data, selected_order_type=dropdown_order_type)\n"
   ]
  },
  {
   "cell_type": "code",
   "execution_count": 76,
   "id": "661b161d",
   "metadata": {
    "ExecuteTime": {
     "end_time": "2024-03-15T03:21:49.372651Z",
     "start_time": "2024-03-15T03:21:48.001205Z"
    }
   },
   "outputs": [
    {
     "data": {
      "application/vnd.jupyter.widget-view+json": {
       "model_id": "96f634b2119742c5a2d4e723b829e5c8",
       "version_major": 2,
       "version_minor": 0
      },
      "text/plain": [
       "Dropdown(description='Order Type:', index=2, options=('All', 'BUY', 'SELL'), value='SELL')"
      ]
     },
     "metadata": {},
     "output_type": "display_data"
    },
    {
     "data": {
      "image/png": "[encoded data removed]",
      "text/plain": [
       "<Figure size 1600x900 with 2 Axes>"
      ]
     },
     "metadata": {},
     "output_type": "display_data"
    }
   ],
   "source": [
    "import numpy as np\n",
    "import matplotlib.pyplot as plt\n",
    "import ipywidgets as widgets\n",
    "from IPython.display import display, clear_output\n",
    "\n",
    "# # Example Data (Replace with your actual data)\n",
    "# y_test = np.random.rand(100) * 100  # Example actual values\n",
    "# baseline_model_test_predictions = y_test + (np.random.rand(100) - 0.5) * 20  # Example predictions with some noise\n",
    "# X_test = {'Order Type': np.random.choice(['A', 'B', 'C'], size=100)}  # Example order types\n",
    "\n",
    "actual = np.array(y_test).reshape(-1)\n",
    "predicted = np.array(baseline_model_test_predictions).reshape(-1)\n",
    "order_type = np.array(X_test['Order Type']).reshape(-1)\n",
    "\n",
    "# Calculate errors\n",
    "errors = actual - predicted\n",
    "\n",
    "# Determine unique order types and assign colors\n",
    "unique_order_types = np.unique(order_type)\n",
    "colors = plt.cm.jet(np.linspace(0, 1, len(unique_order_types)))\n",
    "color_dict = dict(zip(unique_order_types, colors))\n",
    "\n",
    "def plot_filtered_data(selected_order_type):\n",
    "    clear_output(wait=True)\n",
    "    display(dropdown_order_type)  # To keep the dropdown displayed\n",
    "\n",
    "    fig, axs = plt.subplots(figsize=(16, 9))\n",
    "    \n",
    "    if selected_order_type == 'All':\n",
    "        for order in unique_order_types:\n",
    "            idx = order_type == order\n",
    "            axs.scatter(actual[idx], predicted[idx], alpha=0.5, color=color_dict[order], label=order)\n",
    "            axs.vlines(actual[idx], predicted[idx], actual[idx], color=color_dict[order], alpha=0.7, linewidth=0.5)\n",
    "    else:\n",
    "        idx = order_type == selected_order_type\n",
    "        axs.scatter(actual[idx], predicted[idx], alpha=0.5, color=color_dict[selected_order_type], label=selected_order_type)\n",
    "        axs.vlines(actual[idx], predicted[idx], actual[idx], color=color_dict[selected_order_type], alpha=0.7, linewidth=0.5)\n",
    "\n",
    "    axs.set_xlabel('Actual Values', fontsize=14, color='blue')\n",
    "    axs.set_ylabel('Predicted Values', fontsize=14, color='blue')\n",
    "    axs.tick_params(axis='both', which='major', labelsize=12, colors='green')\n",
    "    axs.set_title('Model Prediction vs Actuals with Error Visualization', fontsize=16, color='purple')\n",
    "    \n",
    "    ax3 = axs.twinx()\n",
    "    if selected_order_type != 'All':\n",
    "        ax3.scatter(actual[idx], errors[idx], color='red', alpha=0.5, label='Error')\n",
    "    ax3.set_ylabel('Error', color='red', fontsize=14)\n",
    "    ax3.tick_params(axis='y', labelcolor='red', labelsize=12)\n",
    "\n",
    "    axs.legend(loc='upper left', fontsize=12)\n",
    "\n",
    "    fig.patch.set_facecolor('white')\n",
    "    plt.tight_layout()\n",
    "    plt.show()\n",
    "\n",
    "# Setup the widget\n",
    "dropdown_order_type = widgets.Dropdown(options=['All'] + list(unique_order_types), value='All', description='Order Type:')\n",
    "dropdown_order_type.observe(lambda change: plot_filtered_data(change.new), names='value')\n",
    "\n",
    "display(dropdown_order_type)  # Initial display\n",
    "plot_filtered_data('All')  # Initial plot showing all data\n"
   ]
  },
  {
   "cell_type": "code",
   "execution_count": 47,
   "id": "a57e923c",
   "metadata": {
    "ExecuteTime": {
     "end_time": "2024-03-15T00:31:30.741950Z",
     "start_time": "2024-03-15T00:31:30.231456Z"
    }
   },
   "outputs": [
    {
     "data": {
      "application/vnd.jupyter.widget-view+json": {
       "model_id": "dc52e541968843fb856f471530e2ee8a",
       "version_major": 2,
       "version_minor": 0
      },
      "text/plain": [
       "interactive(children=(IntSlider(value=5, description='Frequency', max=10, min=1), Output()), _dom_classes=('wi…"
      ]
     },
     "metadata": {},
     "output_type": "display_data"
    },
    {
     "data": {
      "text/plain": [
       "<function __main__.update(freq)>"
      ]
     },
     "execution_count": 47,
     "metadata": {},
     "output_type": "execute_result"
    }
   ],
   "source": [
    "from ipywidgets import interact, IntSlider\n",
    "import matplotlib.pyplot as plt\n",
    "import numpy as np\n",
    "\n",
    "def update(freq):\n",
    "  # Clear the existing plot\n",
    "  plt.cla()\n",
    "\n",
    "  x = np.linspace(0, 2*np.pi, 100)\n",
    "  y = np.sin(freq * x)\n",
    "\n",
    "  plt.plot(x, y)\n",
    "  plt.xlabel(\"X\")\n",
    "  plt.ylabel(\"Y\")\n",
    "  plt.title(\"Sine Wave\")\n",
    "  plt.grid(True)\n",
    "\n",
    "  # Display the updated plot\n",
    "  plt.show()\n",
    "\n",
    "# Create a slider to control the frequency\n",
    "slider = IntSlider(min=1, max=10, value=5, description=\"Frequency\")\n",
    "\n",
    "# Link the slider to the update function\n",
    "interact(update, freq=slider)\n"
   ]
  },
  {
   "cell_type": "code",
   "execution_count": 13,
   "id": "5f2215e9",
   "metadata": {
    "ExecuteTime": {
     "end_time": "2024-03-14T23:33:21.313353Z",
     "start_time": "2024-03-14T23:33:18.685571Z"
    },
    "scrolled": false
   },
   "outputs": [
    {
     "ename": "ValueError",
     "evalue": "Per-column arrays must each be 1-dimensional",
     "output_type": "error",
     "traceback": [
      "\u001b[0;31m---------------------------------------------------------------------------\u001b[0m",
      "\u001b[0;31mValueError\u001b[0m                                Traceback (most recent call last)",
      "Cell \u001b[0;32mIn[13], line 12\u001b[0m\n\u001b[1;32m      9\u001b[0m errors2 \u001b[38;5;241m=\u001b[39m errors2  \u001b[38;5;66;03m# Make sure you have defined errors2 somewhere in your code\u001b[39;00m\n\u001b[1;32m     10\u001b[0m order_type \u001b[38;5;241m=\u001b[39m order_type\n\u001b[0;32m---> 12\u001b[0m df \u001b[38;5;241m=\u001b[39m \u001b[43mpd\u001b[49m\u001b[38;5;241;43m.\u001b[39;49m\u001b[43mDataFrame\u001b[49m\u001b[43m(\u001b[49m\u001b[43m{\u001b[49m\u001b[38;5;124;43m'\u001b[39;49m\u001b[38;5;124;43mActual\u001b[39;49m\u001b[38;5;124;43m'\u001b[39;49m\u001b[43m:\u001b[49m\u001b[43m \u001b[49m\u001b[43mactual2\u001b[49m\u001b[43m,\u001b[49m\u001b[43m \u001b[49m\u001b[38;5;124;43m'\u001b[39;49m\u001b[38;5;124;43mPredicted\u001b[39;49m\u001b[38;5;124;43m'\u001b[39;49m\u001b[43m:\u001b[49m\u001b[43m \u001b[49m\u001b[43mpredicted2\u001b[49m\u001b[43m,\u001b[49m\u001b[43m \u001b[49m\u001b[38;5;124;43m'\u001b[39;49m\u001b[38;5;124;43mError\u001b[39;49m\u001b[38;5;124;43m'\u001b[39;49m\u001b[43m:\u001b[49m\u001b[43m \u001b[49m\u001b[43merrors2\u001b[49m\u001b[43m,\u001b[49m\u001b[43m \u001b[49m\u001b[38;5;124;43m'\u001b[39;49m\u001b[38;5;124;43mOrderType\u001b[39;49m\u001b[38;5;124;43m'\u001b[39;49m\u001b[43m:\u001b[49m\u001b[43m \u001b[49m\u001b[43morder_type\u001b[49m\u001b[43m}\u001b[49m\u001b[43m)\u001b[49m\n\u001b[1;32m     14\u001b[0m \u001b[38;5;66;03m# Define your base title here\u001b[39;00m\n\u001b[1;32m     15\u001b[0m base_title \u001b[38;5;241m=\u001b[39m \u001b[38;5;124m'\u001b[39m\u001b[38;5;124mBaseline Model Prediction vs Actuals with Error Visualization\u001b[39m\u001b[38;5;124m'\u001b[39m\n",
      "File \u001b[0;32m~/base_jupyter/venv/lib/python3.9/site-packages/pandas/core/frame.py:708\u001b[0m, in \u001b[0;36mDataFrame.__init__\u001b[0;34m(self, data, index, columns, dtype, copy)\u001b[0m\n\u001b[1;32m    702\u001b[0m     mgr \u001b[38;5;241m=\u001b[39m \u001b[38;5;28mself\u001b[39m\u001b[38;5;241m.\u001b[39m_init_mgr(\n\u001b[1;32m    703\u001b[0m         data, axes\u001b[38;5;241m=\u001b[39m{\u001b[38;5;124m\"\u001b[39m\u001b[38;5;124mindex\u001b[39m\u001b[38;5;124m\"\u001b[39m: index, \u001b[38;5;124m\"\u001b[39m\u001b[38;5;124mcolumns\u001b[39m\u001b[38;5;124m\"\u001b[39m: columns}, dtype\u001b[38;5;241m=\u001b[39mdtype, copy\u001b[38;5;241m=\u001b[39mcopy\n\u001b[1;32m    704\u001b[0m     )\n\u001b[1;32m    706\u001b[0m \u001b[38;5;28;01melif\u001b[39;00m \u001b[38;5;28misinstance\u001b[39m(data, \u001b[38;5;28mdict\u001b[39m):\n\u001b[1;32m    707\u001b[0m     \u001b[38;5;66;03m# GH#38939 de facto copy defaults to False only in non-dict cases\u001b[39;00m\n\u001b[0;32m--> 708\u001b[0m     mgr \u001b[38;5;241m=\u001b[39m \u001b[43mdict_to_mgr\u001b[49m\u001b[43m(\u001b[49m\u001b[43mdata\u001b[49m\u001b[43m,\u001b[49m\u001b[43m \u001b[49m\u001b[43mindex\u001b[49m\u001b[43m,\u001b[49m\u001b[43m \u001b[49m\u001b[43mcolumns\u001b[49m\u001b[43m,\u001b[49m\u001b[43m \u001b[49m\u001b[43mdtype\u001b[49m\u001b[38;5;241;43m=\u001b[39;49m\u001b[43mdtype\u001b[49m\u001b[43m,\u001b[49m\u001b[43m \u001b[49m\u001b[43mcopy\u001b[49m\u001b[38;5;241;43m=\u001b[39;49m\u001b[43mcopy\u001b[49m\u001b[43m,\u001b[49m\u001b[43m \u001b[49m\u001b[43mtyp\u001b[49m\u001b[38;5;241;43m=\u001b[39;49m\u001b[43mmanager\u001b[49m\u001b[43m)\u001b[49m\n\u001b[1;32m    709\u001b[0m \u001b[38;5;28;01melif\u001b[39;00m \u001b[38;5;28misinstance\u001b[39m(data, ma\u001b[38;5;241m.\u001b[39mMaskedArray):\n\u001b[1;32m    710\u001b[0m     \u001b[38;5;28;01mfrom\u001b[39;00m \u001b[38;5;21;01mnumpy\u001b[39;00m\u001b[38;5;21;01m.\u001b[39;00m\u001b[38;5;21;01mma\u001b[39;00m \u001b[38;5;28;01mimport\u001b[39;00m mrecords\n",
      "File \u001b[0;32m~/base_jupyter/venv/lib/python3.9/site-packages/pandas/core/internals/construction.py:481\u001b[0m, in \u001b[0;36mdict_to_mgr\u001b[0;34m(data, index, columns, dtype, typ, copy)\u001b[0m\n\u001b[1;32m    477\u001b[0m     \u001b[38;5;28;01melse\u001b[39;00m:\n\u001b[1;32m    478\u001b[0m         \u001b[38;5;66;03m# dtype check to exclude e.g. range objects, scalars\u001b[39;00m\n\u001b[1;32m    479\u001b[0m         arrays \u001b[38;5;241m=\u001b[39m [x\u001b[38;5;241m.\u001b[39mcopy() \u001b[38;5;28;01mif\u001b[39;00m \u001b[38;5;28mhasattr\u001b[39m(x, \u001b[38;5;124m\"\u001b[39m\u001b[38;5;124mdtype\u001b[39m\u001b[38;5;124m\"\u001b[39m) \u001b[38;5;28;01melse\u001b[39;00m x \u001b[38;5;28;01mfor\u001b[39;00m x \u001b[38;5;129;01min\u001b[39;00m arrays]\n\u001b[0;32m--> 481\u001b[0m \u001b[38;5;28;01mreturn\u001b[39;00m \u001b[43marrays_to_mgr\u001b[49m\u001b[43m(\u001b[49m\u001b[43marrays\u001b[49m\u001b[43m,\u001b[49m\u001b[43m \u001b[49m\u001b[43mcolumns\u001b[49m\u001b[43m,\u001b[49m\u001b[43m \u001b[49m\u001b[43mindex\u001b[49m\u001b[43m,\u001b[49m\u001b[43m \u001b[49m\u001b[43mdtype\u001b[49m\u001b[38;5;241;43m=\u001b[39;49m\u001b[43mdtype\u001b[49m\u001b[43m,\u001b[49m\u001b[43m \u001b[49m\u001b[43mtyp\u001b[49m\u001b[38;5;241;43m=\u001b[39;49m\u001b[43mtyp\u001b[49m\u001b[43m,\u001b[49m\u001b[43m \u001b[49m\u001b[43mconsolidate\u001b[49m\u001b[38;5;241;43m=\u001b[39;49m\u001b[43mcopy\u001b[49m\u001b[43m)\u001b[49m\n",
      "File \u001b[0;32m~/base_jupyter/venv/lib/python3.9/site-packages/pandas/core/internals/construction.py:115\u001b[0m, in \u001b[0;36marrays_to_mgr\u001b[0;34m(arrays, columns, index, dtype, verify_integrity, typ, consolidate)\u001b[0m\n\u001b[1;32m    112\u001b[0m \u001b[38;5;28;01mif\u001b[39;00m verify_integrity:\n\u001b[1;32m    113\u001b[0m     \u001b[38;5;66;03m# figure out the index, if necessary\u001b[39;00m\n\u001b[1;32m    114\u001b[0m     \u001b[38;5;28;01mif\u001b[39;00m index \u001b[38;5;129;01mis\u001b[39;00m \u001b[38;5;28;01mNone\u001b[39;00m:\n\u001b[0;32m--> 115\u001b[0m         index \u001b[38;5;241m=\u001b[39m \u001b[43m_extract_index\u001b[49m\u001b[43m(\u001b[49m\u001b[43marrays\u001b[49m\u001b[43m)\u001b[49m\n\u001b[1;32m    116\u001b[0m     \u001b[38;5;28;01melse\u001b[39;00m:\n\u001b[1;32m    117\u001b[0m         index \u001b[38;5;241m=\u001b[39m ensure_index(index)\n",
      "File \u001b[0;32m~/base_jupyter/venv/lib/python3.9/site-packages/pandas/core/internals/construction.py:642\u001b[0m, in \u001b[0;36m_extract_index\u001b[0;34m(data)\u001b[0m\n\u001b[1;32m    640\u001b[0m         raw_lengths\u001b[38;5;241m.\u001b[39mappend(\u001b[38;5;28mlen\u001b[39m(val))\n\u001b[1;32m    641\u001b[0m     \u001b[38;5;28;01melif\u001b[39;00m \u001b[38;5;28misinstance\u001b[39m(val, np\u001b[38;5;241m.\u001b[39mndarray) \u001b[38;5;129;01mand\u001b[39;00m val\u001b[38;5;241m.\u001b[39mndim \u001b[38;5;241m>\u001b[39m \u001b[38;5;241m1\u001b[39m:\n\u001b[0;32m--> 642\u001b[0m         \u001b[38;5;28;01mraise\u001b[39;00m \u001b[38;5;167;01mValueError\u001b[39;00m(\u001b[38;5;124m\"\u001b[39m\u001b[38;5;124mPer-column arrays must each be 1-dimensional\u001b[39m\u001b[38;5;124m\"\u001b[39m)\n\u001b[1;32m    644\u001b[0m \u001b[38;5;28;01mif\u001b[39;00m \u001b[38;5;129;01mnot\u001b[39;00m indexes \u001b[38;5;129;01mand\u001b[39;00m \u001b[38;5;129;01mnot\u001b[39;00m raw_lengths:\n\u001b[1;32m    645\u001b[0m     \u001b[38;5;28;01mraise\u001b[39;00m \u001b[38;5;167;01mValueError\u001b[39;00m(\u001b[38;5;124m\"\u001b[39m\u001b[38;5;124mIf using all scalar values, you must pass an index\u001b[39m\u001b[38;5;124m\"\u001b[39m)\n",
      "\u001b[0;31mValueError\u001b[0m: Per-column arrays must each be 1-dimensional"
     ]
    }
   ],
   "source": [
    "import plotly.express as px\n",
    "import plotly.graph_objects as go\n",
    "import numpy as np\n",
    "import pandas as pd\n",
    "\n",
    "# Assuming actual2, predicted2, errors2, and order_type are predefined lists or arrays\n",
    "actual2 = actual2\n",
    "predicted2 = predicted2\n",
    "errors2 = errors2  # Make sure you have defined errors2 somewhere in your code\n",
    "order_type = order_type\n",
    "\n",
    "df = pd.DataFrame({'Actual': actual2, 'Predicted': predicted2, 'Error': errors2, 'OrderType': order_type})\n",
    "\n",
    "# Define your base title here\n",
    "base_title = 'Baseline Model Prediction vs Actuals with Error Visualization'\n",
    "\n",
    "# Create a new figure with the desired height and width\n",
    "fig = px.scatter(df, x='Actual', y='Predicted', color='OrderType', opacity=0.5,\n",
    "                 labels={'Actual': 'Actual Values', 'Predicted': 'Predicted Values'},\n",
    "                 title=base_title)\n",
    "\n",
    "# Adding error lines using iterrows\n",
    "for index, row in df.iterrows():\n",
    "    fig.add_shape(\n",
    "        go.layout.Shape(\n",
    "            type=\"line\",\n",
    "            x0=row['Actual'],\n",
    "            y0=row['Predicted'],\n",
    "            x1=row['Actual'],\n",
    "            y1=row['Actual'] + row['Error'],\n",
    "            line=dict(color='red', width=1, dash='solid'),\n",
    "            visible=False  # Set the initial visibility to False\n",
    "        )\n",
    "    )\n",
    "\n",
    "# Add error trend on secondary y-axis\n",
    "fig.add_trace(\n",
    "    go.Scatter(\n",
    "        x=df['Actual'],\n",
    "        y=df['Error'],\n",
    "        mode='lines',\n",
    "        line=dict(dash='dot', color='red', width=.0001),\n",
    "        marker=dict(color='red', size=1, opacity=0.1),\n",
    "        yaxis='y2',\n",
    "        name='Errors Trend',\n",
    "        visible=False  # Ensure the trendline is initially hidden\n",
    "    )\n",
    ")\n",
    "\n",
    "# Dropdown menus\n",
    "order_types = df['OrderType'].unique()\n",
    "dropdown_buttons = [\n",
    "    dict(label='All',\n",
    "         method='update',\n",
    "         args=[{'visible': [True] + [False] * len(df) + [False] * len(order_types) * 2},\n",
    "               {'title': f'{base_title} - All Order Types', 'yaxis2.title': 'Error', 'yaxis2.overlaying': 'y', 'yaxis2.side': 'right'}])\n",
    "]\n",
    "\n",
    "for ot in order_types:\n",
    "    errors_trend_visibility = (ot == \"Sell\")\n",
    "\n",
    "    # Set the visibility of the 'Errors Trend' trace directly\n",
    "    fig.data[-1].visible = errors_trend_visibility\n",
    "\n",
    "    # Set the visibility of error lines for each trace\n",
    "    for index, row in df.iterrows():\n",
    "        fig.data[index + 1].visible = (row['OrderType'] == ot)\n",
    "\n",
    "    visible = ([row['OrderType'] == ot for _, row in df.iterrows()] * 2) + [errors_trend_visibility]\n",
    "    dropdown_buttons.append(\n",
    "        dict(label=ot,\n",
    "             method='update',\n",
    "             args=[{'visible': visible},\n",
    "                   {'title': f'{base_title} - Order Type: {ot}',\n",
    "                    'yaxis2.title': 'Error',\n",
    "                    'yaxis2.overlaying': 'y',\n",
    "                    'yaxis2.side': 'right'}])\n",
    "    )\n",
    "\n",
    "# Update layout with dropdown and ensure the secondary Y-axis is correctly configured\n",
    "fig.update_layout(\n",
    "    updatemenus=[\n",
    "        dict(\n",
    "            buttons=dropdown_buttons,\n",
    "            direction=\"down\",\n",
    "            pad={\"r\": 10, \"t\": 10},\n",
    "            showactive=True,\n",
    "            x=0.11,\n",
    "            xanchor=\"left\",\n",
    "            y=1.15,\n",
    "            yanchor=\"top\"\n",
    "        ),\n",
    "    ],\n",
    "    yaxis2=dict(\n",
    "        title='Error',\n",
    "        overlaying='y',\n",
    "        side='right',\n",
    "        showgrid=False,\n",
    "        showticklabels=True,\n",
    "    ),\n",
    "    # Set the desired height and width\n",
    "    height=800,  # Adjust the height as needed\n",
    "    # width=800,  # Uncomment and adjust if you also want to change the width\n",
    ")\n",
    "\n",
    "fig.show()\n",
    "\n"
   ]
  },
  {
   "cell_type": "code",
   "execution_count": null,
   "id": "339c42db",
   "metadata": {
    "ExecuteTime": {
     "end_time": "2024-03-14T23:33:21.344096Z",
     "start_time": "2024-03-14T23:33:21.344072Z"
    }
   },
   "outputs": [],
   "source": [
    "import plotly.express as px\n",
    "import plotly.graph_objects as go\n",
    "import numpy as np\n",
    "import pandas as pd\n",
    "\n",
    "# Assuming actual2, predicted2, errors2, and order_type are predefined lists or arrays\n",
    "actual2 = actual2\n",
    "predicted2 = predicted2\n",
    "errors2 = errors2  # Make sure you have defined errors2 somewhere in your code\n",
    "order_type = order_type\n",
    "\n",
    "df = pd.DataFrame({'Actual': actual2, 'Predicted': predicted2, 'Error': errors2, 'OrderType': order_type})\n",
    "\n",
    "# Define your base title here\n",
    "base_title = 'Baseline Model Prediction vs Actuals with Error Visualization'\n",
    "\n",
    "# Initial scatter plot with the base title\n",
    "fig = px.scatter(df, x='Actual', y='Predicted', color='OrderType', opacity=0.5,\n",
    "                 labels={'Actual': 'Actual Values', 'Predicted': 'Predicted Values'},\n",
    "                 title=base_title)\n",
    "\n",
    "# Adding error lines using iterrows\n",
    "for index, row in df.iterrows():\n",
    "    fig.add_shape(\n",
    "        go.layout.Shape(\n",
    "            type=\"line\",\n",
    "            x0=row['Actual'],\n",
    "            y0=row['Predicted'],\n",
    "            x1=row['Actual'],\n",
    "            y1=row['Actual'] + row['Error'],\n",
    "            line=dict(color='red', width=1, dash='solid'),\n",
    "        )\n",
    "    )\n",
    "\n",
    "# Add error trend on secondary y-axis\n",
    "fig.add_trace(\n",
    "    go.Scatter(\n",
    "        x=df['Actual'],\n",
    "        y=df['Error'],\n",
    "        mode='lines',\n",
    "        line=dict(dash='dot', color='red', width=.0001),\n",
    "        marker=dict(color='red', size=1, opacity=0.1),\n",
    "        yaxis='y2',\n",
    "        name='Errors Trend',\n",
    "        visible=False  # Ensure the trendline is initially hidden\n",
    "    )\n",
    ")\n",
    "\n",
    "# Dropdown menus\n",
    "order_types = df['OrderType'].unique()\n",
    "dropdown_buttons = [\n",
    "    dict(label='All',\n",
    "         method='update',\n",
    "         args=[{'visible': [True] * (len(df) + 1) + [False] * len(order_types) * 2},\n",
    "               {'title': f'{base_title} - All Order Types', 'yaxis2.title': 'Error', 'yaxis2.overlaying': 'y', 'yaxis2.side': 'right'}])\n",
    "]\n",
    "\n",
    "for ot in order_types:\n",
    "    errors_trend_visibility = (ot == \"Sell\")\n",
    "\n",
    "    visible = ([row['OrderType'] == ot for _, row in df.iterrows()] * 2) + [errors_trend_visibility]\n",
    "    dropdown_buttons.append(\n",
    "        dict(label=ot,\n",
    "             method='update',\n",
    "             args=[{'visible': visible},\n",
    "                   {'title': f'{base_title} - Order Type: {ot}',\n",
    "                    'yaxis2.title': 'Error',\n",
    "                    'yaxis2.overlaying': 'y',\n",
    "                    'yaxis2.side': 'right'}])\n",
    "    )\n",
    "\n",
    "# Update layout with dropdown and ensure the secondary Y-axis is correctly configured\n",
    "fig.update_layout(\n",
    "    updatemenus=[\n",
    "        dict(\n",
    "            buttons=dropdown_buttons,\n",
    "            direction=\"down\",\n",
    "            pad={\"r\": 10, \"t\": 10},\n",
    "            showactive=True,\n",
    "            x=0.11,\n",
    "            xanchor=\"left\",\n",
    "            y=1.15,\n",
    "            yanchor=\"top\"\n",
    "        ),\n",
    "    ],\n",
    "    yaxis2=dict(\n",
    "        title='Error',\n",
    "        overlaying='y',\n",
    "        side='right',\n",
    "        showgrid=False,\n",
    "        showticklabels=True,\n",
    "    )\n",
    ")\n",
    "\n",
    "fig.show()\n",
    "\n"
   ]
  },
  {
   "cell_type": "markdown",
   "id": "db2eb3ca",
   "metadata": {},
   "source": [
    "# Follow Everything From Tutorial"
   ]
  },
  {
   "cell_type": "code",
   "execution_count": null,
   "id": "2ef61d37",
   "metadata": {
    "ExecuteTime": {
     "end_time": "2024-03-14T23:33:21.350216Z",
     "start_time": "2024-03-14T23:33:21.350172Z"
    }
   },
   "outputs": [],
   "source": [
    "df_model = df_model.sample(frac=1, random_state=42)\n",
    "train_df = df_model[:386]\n",
    "train_df = train_df.reset_index(drop=True)\n",
    "\n",
    "test_df = df_model[386:]\n",
    "test_df = test_df.reset_index(drop=True)"
   ]
  },
  {
   "cell_type": "code",
   "execution_count": null,
   "id": "f542993a",
   "metadata": {
    "ExecuteTime": {
     "end_time": "2024-03-14T23:33:21.353416Z",
     "start_time": "2024-03-14T23:33:21.353371Z"
    }
   },
   "outputs": [],
   "source": [
    "y_train = train_df['remainder__2D High in Pips'].to_numpy()\n",
    "y_test = test_df['remainder__2D High in Pips'].to_numpy()\n",
    "\n",
    "y_train.shape, y_test.shape"
   ]
  },
  {
   "cell_type": "code",
   "execution_count": null,
   "id": "1f9d702a",
   "metadata": {
    "ExecuteTime": {
     "end_time": "2024-03-14T23:33:21.358043Z",
     "start_time": "2024-03-14T23:33:21.358020Z"
    }
   },
   "outputs": [],
   "source": [
    "\n",
    "from sklearn.metrics import mean_absolute_error\n",
    "\n",
    "average_median_house_value = train_df['remainder__2D High in Pips'].mean()\n",
    "baseline_model_test_predictions = [average_median_house_value] * len(test_df)\n",
    "\n",
    "mean_absolute_error(baseline_model_test_predictions, y_test)"
   ]
  },
  {
   "cell_type": "code",
   "execution_count": null,
   "id": "f9ad2fa7",
   "metadata": {
    "ExecuteTime": {
     "end_time": "2024-03-14T23:33:21.360813Z",
     "start_time": "2024-03-14T23:33:21.360785Z"
    }
   },
   "outputs": [],
   "source": [
    "\n",
    "import matplotlib.pyplot as plt\n",
    "import numpy as np\n",
    "\n",
    "# Sample data - replace with your actual and predicted values\n",
    "actual = np.array(y_test)  # Assuming y_test is your actual values\n",
    "predicted = np.array(baseline_model_test_predictions)  # Your predicted values\n",
    "errors = actual - predicted  # Calculate the errors\n",
    "\n",
    "# Create the primary plot with scatter points\n",
    "fig, ax1 = plt.subplots()\n",
    "\n",
    "# Scatter plot for actual vs. predicted values\n",
    "ax1.scatter(actual, predicted, alpha=0.5, color='blue', label='Predicted vs. Actual')\n",
    "ax1.set_xlabel('Actual Values')\n",
    "ax1.set_ylabel('Predicted Values', color='blue')\n",
    "ax1.tick_params(axis='y', labelcolor='blue')\n",
    "\n",
    "# Create the secondary y-axis for errors\n",
    "ax2 = ax1.twinx()  \n",
    "ax2.set_ylabel('Error', color='red')  \n",
    "ax2.tick_params(axis='y', labelcolor='red')\n",
    "\n",
    "# Adding vertical lines for each point to represent the error\n",
    "for i in range(len(actual)):\n",
    "    plt.vlines(actual[i], predicted[i], actual[i], color='red', alpha=0.7, linewidth=0.5)\n",
    "\n",
    "# Optional: Add legend\n",
    "ax1.legend()\n",
    "\n",
    "plt.title('Base Model Predictions vs Actuals with Error Visualization')\n",
    "plt.show()\n"
   ]
  },
  {
   "cell_type": "markdown",
   "id": "9add8167",
   "metadata": {
    "heading_collapsed": true
   },
   "source": [
    "### PCA"
   ]
  },
  {
   "cell_type": "code",
   "execution_count": null,
   "id": "89fff83c",
   "metadata": {
    "ExecuteTime": {
     "end_time": "2024-03-14T23:33:21.381614Z",
     "start_time": "2024-03-14T23:33:21.381580Z"
    },
    "hidden": true
   },
   "outputs": [],
   "source": [
    "train_df[['onehotencoder__Trend Status_Bullish',\n",
    " 'onehotencoder__5075 Trend Status_Bullish',\n",
    " 'onehotencoder__75100 Trend Status_Bullish',\n",
    " 'onehotencoder__100125 Trend Status_Bullish',\n",
    " 'onehotencoder__Opportunity_Unfavorable',\n",
    " 'onehotencoder__Order Type_SELL',\n",
    " 'onehotencoder__k_group_Oversold',\n",
    " 'onehotencoder__k_group_Undersold',\n",
    " 'onehotencoder__k_group_slightly_oversold',\n",
    " 'remainder__open',\n",
    " 'remainder__high',\n",
    " 'remainder__low',\n",
    " 'remainder__close',\n",
    " 'remainder__volume',\n",
    " 'remainder__Trade_Week_Year',\n",
    " 'remainder__Trade_Week_Month',\n",
    " 'remainder__Trade_Day_Week',\n",
    " 'remainder__Day',\n",
    " 'remainder__Month',\n",
    " 'remainder__25EMA',\n",
    " 'remainder__50EMA',\n",
    " 'remainder__75EMA',\n",
    " 'remainder__100EMA',\n",
    " 'remainder__125EMA',\n",
    " 'remainder__Spread',\n",
    " 'remainder__%K',\n",
    " 'remainder__%D',\n",
    " 'remainder__ADX',\n",
    " 'remainder__ADXR',\n",
    " 'remainder__slowk',\n",
    " 'remainder__slowd',\n",
    "'remainder__candle_bullish_score',\n",
    " 'remainder__candle_bearish_score',\n",
    "'remainder__Previous_Trade_Status']].corr()"
   ]
  },
  {
   "cell_type": "code",
   "execution_count": null,
   "id": "b30ef5f7",
   "metadata": {
    "ExecuteTime": {
     "end_time": "2024-03-14T23:33:21.384204Z",
     "start_time": "2024-03-14T23:33:21.384168Z"
    },
    "hidden": true
   },
   "outputs": [],
   "source": [
    "X_train_34 = train_df[['onehotencoder__Trend Status_Bullish',\n",
    " 'onehotencoder__5075 Trend Status_Bullish',\n",
    " 'onehotencoder__75100 Trend Status_Bullish',\n",
    " 'onehotencoder__100125 Trend Status_Bullish',\n",
    " 'onehotencoder__Opportunity_Unfavorable',\n",
    " 'onehotencoder__Order Type_SELL',\n",
    " 'onehotencoder__k_group_Oversold',\n",
    " 'onehotencoder__k_group_Undersold',\n",
    " 'onehotencoder__k_group_slightly_oversold',\n",
    " 'remainder__open',\n",
    " 'remainder__high',\n",
    " 'remainder__low',\n",
    " 'remainder__close',\n",
    " 'remainder__volume',\n",
    " 'remainder__Trade_Week_Year',\n",
    " 'remainder__Trade_Week_Month',\n",
    " 'remainder__Trade_Day_Week',\n",
    " 'remainder__Day',\n",
    " 'remainder__Month',\n",
    " 'remainder__25EMA',\n",
    " 'remainder__50EMA',\n",
    " 'remainder__75EMA',\n",
    " 'remainder__100EMA',\n",
    " 'remainder__125EMA',\n",
    " 'remainder__Spread',\n",
    " 'remainder__%K',\n",
    " 'remainder__%D',\n",
    " 'remainder__ADX',\n",
    " 'remainder__ADXR',\n",
    " 'remainder__slowk',\n",
    " 'remainder__slowd',\n",
    "'remainder__candle_bullish_score',\n",
    " 'remainder__candle_bearish_score',\n",
    " 'remainder__Previous_Trade_Status']].to_numpy()\n",
    "\n",
    "X_train_34.shape"
   ]
  },
  {
   "cell_type": "code",
   "execution_count": null,
   "id": "0e5bdf8d",
   "metadata": {
    "ExecuteTime": {
     "end_time": "2024-03-14T23:33:21.386496Z",
     "start_time": "2024-03-14T23:33:21.386232Z"
    },
    "hidden": true
   },
   "outputs": [],
   "source": [
    "X_test_34 = test_df[['onehotencoder__Trend Status_Bullish',\n",
    " 'onehotencoder__5075 Trend Status_Bullish',\n",
    " 'onehotencoder__75100 Trend Status_Bullish',\n",
    " 'onehotencoder__100125 Trend Status_Bullish',\n",
    " 'onehotencoder__Opportunity_Unfavorable',\n",
    " 'onehotencoder__Order Type_SELL',\n",
    " 'onehotencoder__k_group_Oversold',\n",
    " 'onehotencoder__k_group_Undersold',\n",
    " 'onehotencoder__k_group_slightly_oversold',\n",
    " 'remainder__open',\n",
    " 'remainder__high',\n",
    " 'remainder__low',\n",
    " 'remainder__close',\n",
    " 'remainder__volume',\n",
    " 'remainder__Trade_Week_Year',\n",
    " 'remainder__Trade_Week_Month',\n",
    " 'remainder__Trade_Day_Week',\n",
    " 'remainder__Day',\n",
    " 'remainder__Month',\n",
    " 'remainder__25EMA',\n",
    " 'remainder__50EMA',\n",
    " 'remainder__75EMA',\n",
    " 'remainder__100EMA',\n",
    " 'remainder__125EMA',\n",
    " 'remainder__Spread',\n",
    " 'remainder__%K',\n",
    " 'remainder__%D',\n",
    " 'remainder__ADX',\n",
    " 'remainder__ADXR',\n",
    " 'remainder__slowk',\n",
    " 'remainder__slowd',\n",
    "'remainder__candle_bullish_score',\n",
    " 'remainder__candle_bearish_score',\n",
    "'remainder__Previous_Trade_Status']].to_numpy()\n",
    "\n",
    "X_test_34.shape"
   ]
  },
  {
   "cell_type": "code",
   "execution_count": null,
   "id": "ddc075ba",
   "metadata": {
    "ExecuteTime": {
     "end_time": "2024-03-14T23:33:21.399535Z",
     "start_time": "2024-03-14T23:33:21.399492Z"
    },
    "hidden": true
   },
   "outputs": [],
   "source": [
    "\n",
    "forest_base = RandomForestRegressor(n_estimators=100, max_depth=5).fit(X_train_34, y_train)\n",
    "forest_base_test_predictions = forest_base.predict(X_test_34)\n",
    "mean_absolute_error(y_test, forest_base_test_predictions)"
   ]
  },
  {
   "cell_type": "code",
   "execution_count": null,
   "id": "0a49c877",
   "metadata": {
    "ExecuteTime": {
     "end_time": "2024-03-14T23:33:21.401842Z",
     "start_time": "2024-03-14T23:33:21.401811Z"
    },
    "hidden": true
   },
   "outputs": [],
   "source": [
    "# Plotting scatter plot\n",
    "plt.scatter(y_test, forest_base_test_predictions, alpha=0.5)\n",
    "plt.title('Scatter Plot of Predictions vs Actuals')\n",
    "plt.xlabel('Actual Values')\n",
    "plt.ylabel('Predicted Values')\n",
    "plt.show()"
   ]
  },
  {
   "cell_type": "code",
   "execution_count": null,
   "id": "7df453d1",
   "metadata": {
    "ExecuteTime": {
     "end_time": "2024-03-14T23:33:21.411691Z",
     "start_time": "2024-03-14T23:33:21.411622Z"
    },
    "hidden": true
   },
   "outputs": [],
   "source": [
    "# Sample data - replace with your actual and predicted values\n",
    "actual = np.array(y_test)  # Assuming y_test is your actual values\n",
    "predicted = np.array(forest_base_test_predictions)  # Your predicted values\n",
    "errors = actual - predicted  # Calculate the errors\n",
    "\n",
    "# Create the primary plot with scatter points\n",
    "fig, ax1 = plt.subplots()\n",
    "\n",
    "# Scatter plot for actual vs. predicted values\n",
    "ax1.scatter(actual, predicted, alpha=0.5, color='blue', label='Predicted vs. Actual')\n",
    "ax1.set_xlabel('Actual Values')\n",
    "ax1.set_ylabel('Predicted Values', color='blue')\n",
    "ax1.tick_params(axis='y', labelcolor='blue')\n",
    "\n",
    "# Create the secondary y-axis for errors\n",
    "ax2 = ax1.twinx()  \n",
    "ax2.set_ylabel('Error', color='red')  \n",
    "ax2.tick_params(axis='y', labelcolor='red')\n",
    "\n",
    "# Adding vertical lines for each point to represent the error\n",
    "for i in range(len(actual)):\n",
    "    plt.vlines(actual[i], predicted[i], actual[i], color='red', alpha=0.7, linewidth=0.5)\n",
    "\n",
    "# Optional: Add legend\n",
    "ax1.legend()\n",
    "\n",
    "plt.title('Random Forest Model Predictions vs Actuals with Error Visualization')\n",
    "plt.show()"
   ]
  },
  {
   "cell_type": "code",
   "execution_count": null,
   "id": "e350c78e",
   "metadata": {
    "ExecuteTime": {
     "end_time": "2024-03-14T23:33:21.420791Z",
     "start_time": "2024-03-14T23:33:21.420736Z"
    },
    "hidden": true
   },
   "outputs": [],
   "source": [
    "from sklearn.decomposition import PCA \n",
    "from sklearn.pipeline import Pipeline \n"
   ]
  },
  {
   "cell_type": "code",
   "execution_count": null,
   "id": "2eefacb8",
   "metadata": {
    "ExecuteTime": {
     "end_time": "2024-03-14T23:33:21.423747Z",
     "start_time": "2024-03-14T23:33:21.423700Z"
    },
    "hidden": true
   },
   "outputs": [],
   "source": [
    "pca = PCA(n_components=32)\n",
    "pca = pca.fit(X_train_34)\n",
    "\n",
    "pca"
   ]
  },
  {
   "cell_type": "code",
   "execution_count": null,
   "id": "1bf16c9a",
   "metadata": {
    "ExecuteTime": {
     "end_time": "2024-03-14T23:33:21.429115Z",
     "start_time": "2024-03-14T23:33:21.429093Z"
    },
    "hidden": true
   },
   "outputs": [],
   "source": [
    "X_train_pca = pca.transform(X_train_34)\n",
    "X_test_pca = pca.transform(X_test_34)\n",
    "\n",
    "X_train_pca.shape, X_test_pca.shape"
   ]
  },
  {
   "cell_type": "code",
   "execution_count": null,
   "id": "0513e775",
   "metadata": {
    "ExecuteTime": {
     "end_time": "2024-03-14T23:33:21.430568Z",
     "start_time": "2024-03-14T23:33:21.430546Z"
    },
    "hidden": true
   },
   "outputs": [],
   "source": [
    "# Get error of Random Forest training on (X_train_pca, y_train) and testing on (X_test_pca, y_test)\n",
    "\n",
    "forest_pca = RandomForestRegressor(n_estimators=100, max_depth=5).fit(X_train_pca, y_train)\n",
    "forest_pca_test_predictions = forest_pca.predict(X_test_pca)\n",
    "\n",
    "mean_absolute_error(y_test, forest_pca_test_predictions)"
   ]
  },
  {
   "cell_type": "code",
   "execution_count": null,
   "id": "0433cc04",
   "metadata": {
    "ExecuteTime": {
     "end_time": "2024-03-14T23:33:21.436849Z",
     "start_time": "2024-03-14T23:33:21.436817Z"
    },
    "hidden": true
   },
   "outputs": [],
   "source": [
    "from sklearn.preprocessing import StandardScaler, Normalizer, MinMaxScaler"
   ]
  },
  {
   "cell_type": "code",
   "execution_count": null,
   "id": "51a129c5",
   "metadata": {
    "ExecuteTime": {
     "end_time": "2024-03-14T23:33:21.438877Z",
     "start_time": "2024-03-14T23:33:21.438853Z"
    },
    "hidden": true
   },
   "outputs": [],
   "source": [
    "#Test Different Preprocessing Functions on Subset \n",
    "Scaler = Normalizer().fit(X_train_34)\n",
    "\n",
    "X_train_34_scaled = Scaler.transform(X_train_34)\n",
    "\n",
    "plt.hist(X_train_34_scaled[:,8])"
   ]
  },
  {
   "cell_type": "code",
   "execution_count": null,
   "id": "979f89ca",
   "metadata": {
    "ExecuteTime": {
     "end_time": "2024-03-14T23:33:21.460619Z",
     "start_time": "2024-03-14T23:33:21.460585Z"
    },
    "hidden": true
   },
   "outputs": [],
   "source": [
    "#Preprocess X_test \n",
    "X_test_34_scaled = Scaler.transform(X_test_34)\n",
    "\n",
    "X_test_34_scaled.shape\n"
   ]
  },
  {
   "cell_type": "code",
   "execution_count": null,
   "id": "3b6f4d7d",
   "metadata": {
    "ExecuteTime": {
     "end_time": "2024-03-14T23:33:21.466827Z",
     "start_time": "2024-03-14T23:33:21.466679Z"
    },
    "hidden": true
   },
   "outputs": [],
   "source": [
    "#Get error for RF Model training with scaled data and testing on scaled data \n",
    "\n",
    "RF_Model_Scaled = RandomForestRegressor(n_estimators=100, max_depth=5).fit(X_train_34_scaled, y_train)\n",
    "\n",
    "RF_Model_Scaled_Predictions =  RF_Model_Scaled.predict(X_test_34_scaled)\n",
    "\n",
    "mean_absolute_error(y_test, RF_Model_Scaled_Predictions)"
   ]
  },
  {
   "cell_type": "code",
   "execution_count": null,
   "id": "b3d0464c",
   "metadata": {
    "ExecuteTime": {
     "end_time": "2024-03-14T23:33:21.470544Z",
     "start_time": "2024-03-14T23:33:21.470505Z"
    },
    "hidden": true
   },
   "outputs": [],
   "source": [
    "#Create a Pipeline of Standardization, PCA, Random Forest \n",
    "\n",
    "\n",
    "Scaled_PCA_Pipeline_RF = Pipeline(\n",
    "                                steps=[('Scaler', Normalizer()),\n",
    "                                       ('PCA', PCA(n_components=32)),\n",
    "                                       ('RF', RandomForestRegressor(n_estimators=100, max_depth=5))])\n",
    "\n",
    "Scaled_PCA_Pipeline_RF"
   ]
  },
  {
   "cell_type": "code",
   "execution_count": null,
   "id": "d35ddfab",
   "metadata": {
    "ExecuteTime": {
     "end_time": "2024-03-14T23:33:21.473403Z",
     "start_time": "2024-03-14T23:33:21.473363Z"
    },
    "hidden": true
   },
   "outputs": [],
   "source": [
    "Scaled_PCA_Pipeline_RF.fit(X_train_34, y_train)\n",
    "\n",
    "Scaled_PCA_Pipeline_RF_Predictions = Scaled_PCA_Pipeline_RF.predict(X_test_34)\n",
    "\n",
    "mean_absolute_error(y_test, Scaled_PCA_Pipeline_RF_Predictions)"
   ]
  },
  {
   "cell_type": "code",
   "execution_count": null,
   "id": "89b9500a",
   "metadata": {
    "ExecuteTime": {
     "end_time": "2024-03-14T23:33:21.485367Z",
     "start_time": "2024-03-14T23:33:21.485314Z"
    },
    "hidden": true
   },
   "outputs": [],
   "source": [
    "#Create a Pipeline of Standardization, PCA, Random Forest \n",
    "\n",
    "from sklearn.pipeline import Pipeline \n",
    "\n",
    "Scaled_PCA_Pipeline_RF = Pipeline(\n",
    "                                steps=[('Encoder', )\n",
    "                                       ('Scaler', Normalizer()),\n",
    "                                       ('PCA', PCA(n_components=32)),\n",
    "                                       ('RF', RandomForestRegressor(n_estimators=100, max_depth=5))])\n",
    "\n",
    "Scaled_PCA_Pipeline_RF"
   ]
  },
  {
   "cell_type": "markdown",
   "id": "b8f9b81a",
   "metadata": {
    "heading_collapsed": true
   },
   "source": [
    "# Build a Model Based on the Encoded Features  "
   ]
  },
  {
   "cell_type": "code",
   "execution_count": null,
   "id": "e037964a",
   "metadata": {
    "ExecuteTime": {
     "end_time": "2024-03-14T23:33:21.488197Z",
     "start_time": "2024-03-14T23:33:21.488161Z"
    },
    "hidden": true
   },
   "outputs": [],
   "source": [
    "X_train_Dummies = train_df[['onehotencoder__Time_02:00:00', 'onehotencoder__Time_05:00:00',\n",
    "       'onehotencoder__Time_06:00:00', 'onehotencoder__Time_09:00:00',\n",
    "       'onehotencoder__Time_10:00:00', 'onehotencoder__Time_13:00:00',\n",
    "       'onehotencoder__Time_14:00:00', 'onehotencoder__Time_17:00:00',\n",
    "       'onehotencoder__Time_18:00:00', 'onehotencoder__Time_21:00:00',\n",
    "       'onehotencoder__Time_22:00:00', 'onehotencoder__Trend Status_Bullish',\n",
    "       'onehotencoder__5075 Trend Status_Bullish',\n",
    "       'onehotencoder__75100 Trend Status_Bullish',\n",
    "       'onehotencoder__100125 Trend Status_Bullish',\n",
    "       'onehotencoder__Opportunity_Unfavorable',\n",
    "       'onehotencoder__Order Type_SELL', 'onehotencoder__k_group_Oversold',\n",
    "       'onehotencoder__k_group_Undersold',\n",
    "       'onehotencoder__k_group_slightly_oversold']]\n",
    "\n",
    "X_test_Dummies = test_df[['onehotencoder__Time_02:00:00', 'onehotencoder__Time_05:00:00',\n",
    "       'onehotencoder__Time_06:00:00', 'onehotencoder__Time_09:00:00',\n",
    "       'onehotencoder__Time_10:00:00', 'onehotencoder__Time_13:00:00',\n",
    "       'onehotencoder__Time_14:00:00', 'onehotencoder__Time_17:00:00',\n",
    "       'onehotencoder__Time_18:00:00', 'onehotencoder__Time_21:00:00',\n",
    "       'onehotencoder__Time_22:00:00', 'onehotencoder__Trend Status_Bullish',\n",
    "       'onehotencoder__5075 Trend Status_Bullish',\n",
    "       'onehotencoder__75100 Trend Status_Bullish',\n",
    "       'onehotencoder__100125 Trend Status_Bullish',\n",
    "       'onehotencoder__Opportunity_Unfavorable',\n",
    "       'onehotencoder__Order Type_SELL', 'onehotencoder__k_group_Oversold',\n",
    "       'onehotencoder__k_group_Undersold',\n",
    "       'onehotencoder__k_group_slightly_oversold']]\n",
    "\n",
    "\n"
   ]
  },
  {
   "cell_type": "code",
   "execution_count": null,
   "id": "ce72c75f",
   "metadata": {
    "ExecuteTime": {
     "end_time": "2024-03-14T23:33:21.501753Z",
     "start_time": "2024-03-14T23:33:21.501701Z"
    },
    "hidden": true
   },
   "outputs": [],
   "source": [
    "X_train_Dummies.shape, X_test_Dummies.shape"
   ]
  },
  {
   "cell_type": "code",
   "execution_count": null,
   "id": "602a9e67",
   "metadata": {
    "ExecuteTime": {
     "end_time": "2024-03-14T23:33:21.510714Z",
     "start_time": "2024-03-14T23:33:21.510664Z"
    },
    "hidden": true
   },
   "outputs": [],
   "source": [
    "y_train.shape, y_test.shape"
   ]
  },
  {
   "cell_type": "code",
   "execution_count": null,
   "id": "71467876",
   "metadata": {
    "ExecuteTime": {
     "end_time": "2024-03-14T23:33:21.519476Z",
     "start_time": "2024-03-14T23:33:21.519440Z"
    },
    "hidden": true
   },
   "outputs": [],
   "source": [
    "from sklearn.linear_model import LinearRegression"
   ]
  },
  {
   "cell_type": "code",
   "execution_count": null,
   "id": "f5393ad9",
   "metadata": {
    "ExecuteTime": {
     "end_time": "2024-03-14T23:33:21.526784Z",
     "start_time": "2024-03-14T23:33:21.526736Z"
    },
    "hidden": true
   },
   "outputs": [],
   "source": [
    "#Create Linear Regresion Model\n",
    "Lin_Reg_Dummy_model = LinearRegression().fit(X_train_Dummies, y_train)\n",
    "Lin_Reg_Dummy_Prediction = Lin_Reg_Dummy_model.predict(X_test_Dummies)\n",
    "\n",
    "mean_absolute_error(y_test, Lin_Reg_Dummy_Prediction)"
   ]
  },
  {
   "cell_type": "markdown",
   "id": "4a16e3ba",
   "metadata": {
    "heading_collapsed": true,
    "hidden": true
   },
   "source": [
    "## Binning (Grouping Aggregating )"
   ]
  },
  {
   "cell_type": "code",
   "execution_count": null,
   "id": "dca0305f",
   "metadata": {
    "ExecuteTime": {
     "end_time": "2024-03-14T23:33:21.532995Z",
     "start_time": "2024-03-14T23:33:21.532936Z"
    },
    "hidden": true
   },
   "outputs": [],
   "source": [
    "train_df['remainder__2D High in Pips'].hist()"
   ]
  },
  {
   "cell_type": "markdown",
   "id": "1bbe49f6",
   "metadata": {
    "ExecuteTime": {
     "end_time": "2024-03-03T14:45:30.472971Z",
     "start_time": "2024-03-03T14:45:30.232625Z"
    },
    "hidden": true
   },
   "source": [
    "### Cluster "
   ]
  },
  {
   "cell_type": "code",
   "execution_count": null,
   "id": "db2b4cf6",
   "metadata": {
    "ExecuteTime": {
     "end_time": "2024-03-14T23:33:21.540597Z",
     "start_time": "2024-03-14T23:33:21.540544Z"
    },
    "hidden": true
   },
   "outputs": [],
   "source": [
    "plt.scatter(df['Trade_Week_Year'], df['volume'])"
   ]
  },
  {
   "cell_type": "code",
   "execution_count": null,
   "id": "43e4d3d5",
   "metadata": {
    "ExecuteTime": {
     "end_time": "2024-03-14T23:33:21.545783Z",
     "start_time": "2024-03-14T23:33:21.545731Z"
    },
    "hidden": true
   },
   "outputs": [],
   "source": [
    "from sklearn.cluster import KMeans\n",
    "\n",
    "X_Train_Trade_Week_Year_Volume = train_df[['remainder__Trade_Week_Year','remainder__volume']]\n",
    "\n",
    "KMeans = KMeans(n_clusters=7).fit(X_Train_Trade_Week_Year_Volume)\n",
    "\n",
    "KMeans.labels_"
   ]
  },
  {
   "cell_type": "code",
   "execution_count": null,
   "id": "25d82afc",
   "metadata": {
    "ExecuteTime": {
     "end_time": "2024-03-14T23:33:21.549937Z",
     "start_time": "2024-03-14T23:33:21.549902Z"
    },
    "hidden": true
   },
   "outputs": [],
   "source": [
    "import plotly.express as px"
   ]
  },
  {
   "cell_type": "code",
   "execution_count": null,
   "id": "458548e5",
   "metadata": {
    "ExecuteTime": {
     "end_time": "2024-03-14T23:33:21.556231Z",
     "start_time": "2024-03-14T23:33:21.556176Z"
    },
    "hidden": true
   },
   "outputs": [],
   "source": [
    "\n",
    "import plotly.io as pio\n",
    "pio.renderers.default = \"notebook_connected\"\n",
    "\n",
    "\n",
    "px.scatter(x=train_df['remainder__Trade_Week_Year'], y=train_df['remainder__volume'], color=KMeans.labels_)"
   ]
  },
  {
   "cell_type": "code",
   "execution_count": null,
   "id": "51e35b4a",
   "metadata": {
    "ExecuteTime": {
     "end_time": "2024-03-14T23:33:21.634083Z",
     "start_time": "2024-03-14T23:33:21.634050Z"
    },
    "hidden": true
   },
   "outputs": [],
   "source": [
    "X_train_Cluster = pd.get_dummies(pd.Series(KMeans.labels_)).astype(int).to_numpy()\n",
    "\n",
    "\n",
    "#Predict the clusters for the Test date \n",
    "X_Test_Trade_Week_Year_Volume = test_df[['remainder__Trade_Week_Year','remainder__volume']].to_numpy()\n",
    "X_Test_Cluster = pd.get_dummies(pd.Series(KMeans.predict(X_Test_Trade_Week_Year_Volume))).astype(int).to_numpy()\n",
    "\n",
    "\n",
    "Lin_Reg_Cluster  = LinearRegression().fit(X_train_Cluster, y_train)\n",
    "Lin_Reg_Cluster_Predictions = Lin_Reg_Cluster.predict(X_Test_Cluster)\n",
    "\n",
    "mean_absolute_error(y_test, Lin_Reg_Cluster_Predictions)"
   ]
  },
  {
   "cell_type": "code",
   "execution_count": null,
   "id": "fe648d2e",
   "metadata": {
    "ExecuteTime": {
     "end_time": "2024-03-03T20:39:48.566697Z",
     "start_time": "2024-03-03T20:39:48.529577Z"
    },
    "hidden": true
   },
   "outputs": [],
   "source": []
  },
  {
   "cell_type": "code",
   "execution_count": null,
   "id": "bf089588",
   "metadata": {
    "ExecuteTime": {
     "end_time": "2024-03-14T23:33:21.643929Z",
     "start_time": "2024-03-14T23:33:21.643864Z"
    },
    "hidden": true
   },
   "outputs": [],
   "source": [
    "import pandas as pd\n",
    "\n",
    "# Assume n_clusters is the number of clusters you used\n",
    "n_clusters = max(KMeans.labels_.max(), KMeans.predict(X_Test_Trade_Week_Year_Volume).max()) + 1\n",
    "all_possible_clusters = pd.Series(range(n_clusters))\n",
    "\n",
    "# For training data\n",
    "X_train_Cluster = pd.get_dummies(pd.Categorical(pd.Series(KMeans.labels_), categories=all_possible_clusters)).astype(int).to_numpy()\n",
    "\n",
    "# For test data\n",
    "test_clusters = KMeans.predict(X_Test_Trade_Week_Year_Volume)\n",
    "X_Test_Cluster = pd.get_dummies(pd.Categorical(pd.Series(test_clusters), categories=all_possible_clusters)).astype(int).to_numpy()\n"
   ]
  },
  {
   "cell_type": "code",
   "execution_count": null,
   "id": "3a6c5651",
   "metadata": {
    "ExecuteTime": {
     "end_time": "2024-03-14T23:33:21.646674Z",
     "start_time": "2024-03-14T23:33:21.646639Z"
    },
    "hidden": true
   },
   "outputs": [],
   "source": [
    "Lin_Reg_Cluster  = LinearRegression().fit(X_train_Cluster, y_train)\n",
    "Lin_Reg_Cluster_Predictions = Lin_Reg_Cluster.predict(X_Test_Cluster)\n",
    "\n",
    "mean_absolute_error(y_test, Lin_Reg_Cluster_Predictions)"
   ]
  },
  {
   "cell_type": "code",
   "execution_count": null,
   "id": "2ce3b9b2",
   "metadata": {
    "ExecuteTime": {
     "end_time": "2024-03-14T23:33:21.653213Z",
     "start_time": "2024-03-14T23:33:21.653155Z"
    },
    "hidden": true
   },
   "outputs": [],
   "source": [
    "# Plotting scatter plot\n",
    "plt.scatter(y_test, Lin_Reg_Cluster_Predictions, alpha=0.5)\n",
    "plt.title('Scatter Plot of Predictions vs Actuals')\n",
    "plt.xlabel('Actual Values')\n",
    "plt.ylabel('Predicted Values')\n",
    "plt.show()"
   ]
  },
  {
   "cell_type": "code",
   "execution_count": null,
   "id": "9f5cafc0",
   "metadata": {
    "ExecuteTime": {
     "end_time": "2024-03-14T23:33:21.657340Z",
     "start_time": "2024-03-14T23:33:21.657280Z"
    },
    "hidden": true
   },
   "outputs": [],
   "source": [
    "# Sample data - replace with your actual and predicted values\n",
    "actual = np.array(y_test)  # Assuming y_test is your actual values\n",
    "predicted = np.array(Lin_Reg_Cluster_Predictions)  # Your predicted values\n",
    "errors = actual - predicted  # Calculate the errors\n",
    "\n",
    "# Create the primary plot with scatter points\n",
    "fig, ax1 = plt.subplots()\n",
    "\n",
    "# Scatter plot for actual vs. predicted values\n",
    "ax1.scatter(actual, predicted, alpha=0.5, color='blue', label='Predicted vs. Actual')\n",
    "ax1.set_xlabel('Actual Values')\n",
    "ax1.set_ylabel('Predicted Values', color='blue')\n",
    "ax1.tick_params(axis='y', labelcolor='blue')\n",
    "\n",
    "# Create the secondary y-axis for errors\n",
    "ax2 = ax1.twinx()  \n",
    "ax2.set_ylabel('Error', color='red')  \n",
    "ax2.tick_params(axis='y', labelcolor='red')\n",
    "\n",
    "# Adding vertical lines for each point to represent the error\n",
    "for i in range(len(actual)):\n",
    "    plt.vlines(actual[i], predicted[i], actual[i], color='red', alpha=0.7, linewidth=0.5)\n",
    "\n",
    "# Optional: Add legend\n",
    "ax1.legend()\n",
    "\n",
    "plt.title('Random Forest Model Predictions vs Actuals with Error Visualization')\n",
    "plt.show()"
   ]
  },
  {
   "cell_type": "code",
   "execution_count": null,
   "id": "24e8395c",
   "metadata": {
    "ExecuteTime": {
     "end_time": "2024-03-14T23:33:21.753083Z",
     "start_time": "2024-03-14T23:33:21.753020Z"
    },
    "hidden": true
   },
   "outputs": [],
   "source": [
    "RF_Cluster  = RandomForestRegressor(n_estimators=100, max_depth=5).fit(X_train_Cluster, y_train)\n",
    "RF_Cluster_Predictions = RF_Cluster.predict(X_Test_Cluster)\n",
    "\n",
    "mean_absolute_error(y_test, RF_Cluster_Predictions)"
   ]
  },
  {
   "cell_type": "markdown",
   "id": "e48d3ab5",
   "metadata": {
    "ExecuteTime": {
     "end_time": "2024-03-03T15:57:21.852644Z",
     "start_time": "2024-03-03T15:57:21.534991Z"
    },
    "hidden": true
   },
   "source": [
    "### Feature Selection "
   ]
  },
  {
   "cell_type": "code",
   "execution_count": null,
   "id": "10cd4b02",
   "metadata": {
    "ExecuteTime": {
     "end_time": "2024-03-14T23:33:21.758745Z",
     "start_time": "2024-03-14T23:33:21.758701Z"
    },
    "hidden": true
   },
   "outputs": [],
   "source": [
    "X_train_Cluster.shape, X_train_Dummies.shape"
   ]
  },
  {
   "cell_type": "code",
   "execution_count": null,
   "id": "eba412e8",
   "metadata": {
    "ExecuteTime": {
     "end_time": "2024-03-14T23:33:21.764965Z",
     "start_time": "2024-03-14T23:33:21.764909Z"
    },
    "hidden": true
   },
   "outputs": [],
   "source": [
    "#Concatenante Training Arrays \n",
    "\n",
    "X_train_full = np.concatenate([X_train_Cluster, X_train_Dummies], axis=1)\n",
    "\n",
    "X_train_full.shape"
   ]
  },
  {
   "cell_type": "code",
   "execution_count": null,
   "id": "2600e655",
   "metadata": {
    "ExecuteTime": {
     "end_time": "2024-03-14T23:33:21.767904Z",
     "start_time": "2024-03-14T23:33:21.767820Z"
    },
    "hidden": true
   },
   "outputs": [],
   "source": [
    "X_Test_Cluster.shape,  X_test_Dummies.shape"
   ]
  },
  {
   "cell_type": "code",
   "execution_count": null,
   "id": "271b6735",
   "metadata": {
    "ExecuteTime": {
     "end_time": "2024-03-14T23:33:21.786173Z",
     "start_time": "2024-03-14T23:33:21.786122Z"
    },
    "hidden": true
   },
   "outputs": [],
   "source": [
    "#Concatenante Tets Arrays \n",
    "\n",
    "X_test_full = np.concatenate([X_Test_Cluster,  X_test_Dummies], axis=1)\n",
    "\n",
    "X_test_full.shape"
   ]
  },
  {
   "cell_type": "code",
   "execution_count": null,
   "id": "176d8ed0",
   "metadata": {
    "ExecuteTime": {
     "end_time": "2024-03-14T23:33:21.790890Z",
     "start_time": "2024-03-14T23:33:21.790839Z"
    },
    "hidden": true
   },
   "outputs": [],
   "source": [
    "RF_Model_Full = RandomForestRegressor(n_estimators=50, max_depth=5).fit(X_train_full, y_train)\n",
    "\n",
    "RF_Model_Predictions = RF_Model_Full.predict(X_test_full)\n",
    "\n",
    "mean_absolute_error(y_test, RF_Model_Predictions)"
   ]
  },
  {
   "cell_type": "code",
   "execution_count": null,
   "id": "50bc4c3d",
   "metadata": {
    "hidden": true
   },
   "outputs": [],
   "source": []
  },
  {
   "cell_type": "code",
   "execution_count": null,
   "id": "ff49b328",
   "metadata": {
    "hidden": true
   },
   "outputs": [],
   "source": []
  },
  {
   "cell_type": "code",
   "execution_count": null,
   "id": "6dc3e11a",
   "metadata": {
    "hidden": true
   },
   "outputs": [],
   "source": []
  },
  {
   "cell_type": "code",
   "execution_count": null,
   "id": "2e525e6f",
   "metadata": {
    "hidden": true
   },
   "outputs": [],
   "source": []
  },
  {
   "cell_type": "code",
   "execution_count": null,
   "id": "326b6d1a",
   "metadata": {
    "hidden": true
   },
   "outputs": [],
   "source": []
  },
  {
   "cell_type": "code",
   "execution_count": null,
   "id": "262cf301",
   "metadata": {
    "hidden": true
   },
   "outputs": [],
   "source": []
  },
  {
   "cell_type": "markdown",
   "id": "20e497aa",
   "metadata": {
    "ExecuteTime": {
     "end_time": "2024-03-02T15:39:25.531808Z",
     "start_time": "2024-03-02T15:39:25.319965Z"
    },
    "hidden": true
   },
   "source": [
    "### Test Train "
   ]
  },
  {
   "cell_type": "code",
   "execution_count": null,
   "id": "a6921431",
   "metadata": {
    "ExecuteTime": {
     "end_time": "2024-03-14T23:33:21.805444Z",
     "start_time": "2024-03-14T23:33:21.805392Z"
    },
    "hidden": true
   },
   "outputs": [],
   "source": [
    "from sklearn.model_selection import TimeSeriesSplit"
   ]
  },
  {
   "cell_type": "code",
   "execution_count": null,
   "id": "33b6d308",
   "metadata": {
    "ExecuteTime": {
     "end_time": "2024-03-14T23:33:21.826656Z",
     "start_time": "2024-03-14T23:33:21.826601Z"
    },
    "hidden": true
   },
   "outputs": [],
   "source": [
    "Y = df_model[['remainder__2D High in Pips']]\n",
    "X = df_model.drop('remainder__2D High in Pips', axis=1)"
   ]
  },
  {
   "cell_type": "code",
   "execution_count": null,
   "id": "b08bc2b4",
   "metadata": {
    "ExecuteTime": {
     "end_time": "2024-03-14T23:33:21.840150Z",
     "start_time": "2024-03-14T23:33:21.840104Z"
    },
    "hidden": true
   },
   "outputs": [],
   "source": [
    " #Split the data into training and test set \n",
    "X_train, X_test, y_train, y_test = train_test_split( X, Y, test_size=.204, random_state=42, stratify=X['onehotencoder__Order Type_SELL'])\n",
    "\n",
    "print(f\"Training Set: {X_train.shape}\\\n",
    "        \\nTest Set: {X_test.shape}\")"
   ]
  },
  {
   "cell_type": "markdown",
   "id": "05eb3efe",
   "metadata": {
    "ExecuteTime": {
     "end_time": "2024-03-02T16:47:42.947129Z",
     "start_time": "2024-03-02T16:47:42.911696Z"
    }
   },
   "source": [
    "# Baseline Model "
   ]
  },
  {
   "cell_type": "code",
   "execution_count": null,
   "id": "41c006e3",
   "metadata": {
    "ExecuteTime": {
     "end_time": "2024-03-14T23:33:21.854674Z",
     "start_time": "2024-03-14T23:33:21.854619Z"
    }
   },
   "outputs": [],
   "source": [
    "from sklearn.metrics import mean_absolute_error"
   ]
  },
  {
   "cell_type": "code",
   "execution_count": null,
   "id": "17341362",
   "metadata": {
    "ExecuteTime": {
     "end_time": "2024-03-14T23:33:21.863631Z",
     "start_time": "2024-03-14T23:33:21.863574Z"
    }
   },
   "outputs": [],
   "source": [
    "#Create a New Training DF based on the Split \n",
    "y_train = pd.DataFrame(y_train, index=X_train.index, columns=['remainder__2D High in Pips'])\n",
    "\n",
    "full_df_train = pd.concat([X_train,y_train ],axis=1)\n",
    "\n",
    "#Create a new Test DF based on the Split \n",
    "y_test = pd.DataFrame(y_test, index=X_test.index, columns=['remainder__2D High in Pips'])\n",
    "\n",
    "full_df_test = pd.concat([X_test,y_test ],axis=1)\n",
    "\n",
    "\n",
    "print(f\"Base_Model_Training Set: {full_df_train.shape}\\\n",
    "        \\nTBase_Model_Test Set: {full_df_test.shape}\")\n",
    "\n",
    "\n",
    "# train_df.fillna(0, inplace=True)\n",
    "# test_df.fillna(0, inplace=True)\n"
   ]
  },
  {
   "cell_type": "code",
   "execution_count": null,
   "id": "b431d6ba",
   "metadata": {
    "ExecuteTime": {
     "end_time": "2024-03-14T23:33:21.876666Z",
     "start_time": "2024-03-14T23:33:21.876616Z"
    }
   },
   "outputs": [],
   "source": [
    "#Extract the target variable from the train and test date \n",
    "y_train = full_df_train['remainder__2D High in Pips'].to_numpy()\n",
    "y_test = full_df_test['remainder__2D High in Pips'].to_numpy()\n",
    "\n",
    "#Calculate the average \n",
    "average_2d_high_for_all_trades = full_df_train['remainder__2D High in Pips'].mean()\n",
    "\n",
    "baseline_model_test_predictions =  [average_2d_high_for_all_trades] * len(y_test)\n",
    "\n",
    "mean_absolute_error(baseline_model_test_predictions, y_test)"
   ]
  },
  {
   "cell_type": "markdown",
   "id": "434b2b91",
   "metadata": {
    "ExecuteTime": {
     "end_time": "2024-03-02T18:34:03.193166Z",
     "start_time": "2024-03-02T18:34:03.139079Z"
    }
   },
   "source": [
    "### 1. Dimensionality Reduction (PCA)"
   ]
  },
  {
   "cell_type": "code",
   "execution_count": null,
   "id": "e94a303f",
   "metadata": {
    "ExecuteTime": {
     "end_time": "2024-03-14T23:33:21.882132Z",
     "start_time": "2024-03-14T23:33:21.882080Z"
    }
   },
   "outputs": [],
   "source": [
    "#Observe the correlation between 34 features \n",
    "\n",
    "full_df_train[['onehotencoder__Trend Status_Bullish',\n",
    " 'onehotencoder__5075 Trend Status_Bullish',\n",
    " 'onehotencoder__75100 Trend Status_Bullish',\n",
    " 'onehotencoder__100125 Trend Status_Bullish',\n",
    " 'onehotencoder__Opportunity_Unfavorable',\n",
    " 'onehotencoder__Order Type_SELL',\n",
    " 'onehotencoder__k_group_Oversold',\n",
    " 'onehotencoder__k_group_Undersold',\n",
    " 'onehotencoder__k_group_slightly_oversold',\n",
    " 'remainder__open',\n",
    " 'remainder__high',\n",
    " 'remainder__low',\n",
    " 'remainder__close',\n",
    " 'remainder__volume',\n",
    " 'remainder__Trade_Week_Year',\n",
    " 'remainder__Trade_Week_Month',\n",
    " 'remainder__Trade_Day_Week',\n",
    " 'remainder__Day',\n",
    " 'remainder__Month',\n",
    " 'remainder__25EMA',\n",
    " 'remainder__50EMA',\n",
    " 'remainder__75EMA',\n",
    " 'remainder__100EMA',\n",
    " 'remainder__125EMA',\n",
    " 'remainder__Spread',\n",
    " 'remainder__%K',\n",
    " 'remainder__%D',\n",
    " 'remainder__ADX',\n",
    " 'remainder__ADXR',\n",
    " 'remainder__slowk',\n",
    " 'remainder__slowd',\n",
    "'remainder__candle_bullish_score',\n",
    " 'remainder__candle_bearish_score']].corr()"
   ]
  },
  {
   "cell_type": "code",
   "execution_count": null,
   "id": "2c21329f",
   "metadata": {
    "ExecuteTime": {
     "end_time": "2024-03-14T23:33:21.897446Z",
     "start_time": "2024-03-14T23:33:21.897386Z"
    }
   },
   "outputs": [],
   "source": [
    "X_train34 = full_df_train[['onehotencoder__Trend Status_Bullish',\n",
    " 'onehotencoder__5075 Trend Status_Bullish',\n",
    " 'onehotencoder__75100 Trend Status_Bullish',\n",
    " 'onehotencoder__100125 Trend Status_Bullish',\n",
    " 'onehotencoder__Opportunity_Unfavorable',\n",
    " 'onehotencoder__Order Type_SELL',\n",
    " 'onehotencoder__k_group_Oversold',\n",
    " 'onehotencoder__k_group_Undersold',\n",
    " 'onehotencoder__k_group_slightly_oversold',\n",
    " 'remainder__open',\n",
    " 'remainder__high',\n",
    " 'remainder__low',\n",
    " 'remainder__close',\n",
    " 'remainder__volume',\n",
    " 'remainder__Trade_Week_Year',\n",
    " 'remainder__Trade_Week_Month',\n",
    " 'remainder__Trade_Day_Week',\n",
    " 'remainder__Day',\n",
    " 'remainder__Month',\n",
    " 'remainder__25EMA',\n",
    " 'remainder__50EMA',\n",
    " 'remainder__75EMA',\n",
    " 'remainder__100EMA',\n",
    " 'remainder__125EMA',\n",
    " 'remainder__Spread',\n",
    " 'remainder__%K',\n",
    " 'remainder__%D',\n",
    " 'remainder__ADX',\n",
    " 'remainder__ADXR',\n",
    " 'remainder__slowk',\n",
    " 'remainder__slowd',\n",
    "'remainder__candle_bullish_score',\n",
    " 'remainder__candle_bearish_score']].to_numpy()\n",
    "X_train34.shape"
   ]
  },
  {
   "cell_type": "code",
   "execution_count": null,
   "id": "35a29c2b",
   "metadata": {
    "ExecuteTime": {
     "end_time": "2024-03-14T23:33:21.900065Z",
     "start_time": "2024-03-14T23:33:21.900031Z"
    }
   },
   "outputs": [],
   "source": [
    "X_test34 = full_df_test[['onehotencoder__Trend Status_Bullish',\n",
    " 'onehotencoder__5075 Trend Status_Bullish',\n",
    " 'onehotencoder__75100 Trend Status_Bullish',\n",
    " 'onehotencoder__100125 Trend Status_Bullish',\n",
    " 'onehotencoder__Opportunity_Unfavorable',\n",
    " 'onehotencoder__Order Type_SELL',\n",
    " 'onehotencoder__k_group_Oversold',\n",
    " 'onehotencoder__k_group_Undersold',\n",
    " 'onehotencoder__k_group_slightly_oversold',\n",
    " 'remainder__open',\n",
    " 'remainder__high',\n",
    " 'remainder__low',\n",
    " 'remainder__close',\n",
    " 'remainder__volume',\n",
    " 'remainder__Trade_Week_Year',\n",
    " 'remainder__Trade_Week_Month',\n",
    " 'remainder__Trade_Day_Week',\n",
    " 'remainder__Day',\n",
    " 'remainder__Month',\n",
    " 'remainder__25EMA',\n",
    " 'remainder__50EMA',\n",
    " 'remainder__75EMA',\n",
    " 'remainder__100EMA',\n",
    " 'remainder__125EMA',\n",
    " 'remainder__Spread',\n",
    " 'remainder__%K',\n",
    " 'remainder__%D',\n",
    " 'remainder__ADX',\n",
    " 'remainder__ADXR',\n",
    " 'remainder__slowk',\n",
    " 'remainder__slowd',\n",
    "'remainder__candle_bullish_score',\n",
    " 'remainder__candle_bearish_score']].to_numpy()\n",
    "\n",
    "X_test34.shape"
   ]
  },
  {
   "cell_type": "code",
   "execution_count": null,
   "id": "2059c903",
   "metadata": {
    "ExecuteTime": {
     "end_time": "2024-03-14T23:33:21.917043Z",
     "start_time": "2024-03-14T23:33:21.917002Z"
    }
   },
   "outputs": [],
   "source": [
    "#Get errr of RF model on (X_train3, y_train) and testing on X_test3 and y_test)\n",
    "\n",
    "from sklearn.ensemble import RandomForestRegressor\n",
    "\n",
    "RF_model = RandomForestRegressor(n_estimators=50, max_depth=5).fit(X_train34, y_train)\n",
    "RF_predictions = RF_model.predict(X_test34)\n",
    "mean_absolute_error(y_test, RF_predictions)"
   ]
  },
  {
   "cell_type": "markdown",
   "id": "3df6a07d",
   "metadata": {},
   "source": [
    "### "
   ]
  },
  {
   "cell_type": "raw",
   "id": "4df32b76",
   "metadata": {},
   "source": []
  },
  {
   "cell_type": "code",
   "execution_count": null,
   "id": "d5e4deb5",
   "metadata": {},
   "outputs": [],
   "source": []
  },
  {
   "cell_type": "code",
   "execution_count": null,
   "id": "735b01c6",
   "metadata": {},
   "outputs": [],
   "source": []
  },
  {
   "cell_type": "code",
   "execution_count": null,
   "id": "fe366f34",
   "metadata": {},
   "outputs": [],
   "source": []
  },
  {
   "cell_type": "code",
   "execution_count": null,
   "id": "43fd7e3b",
   "metadata": {},
   "outputs": [],
   "source": []
  },
  {
   "cell_type": "code",
   "execution_count": null,
   "id": "62eb10e2",
   "metadata": {},
   "outputs": [],
   "source": []
  },
  {
   "cell_type": "code",
   "execution_count": null,
   "id": "d7919c87",
   "metadata": {},
   "outputs": [],
   "source": []
  },
  {
   "cell_type": "code",
   "execution_count": null,
   "id": "dc7b4939",
   "metadata": {},
   "outputs": [],
   "source": []
  },
  {
   "cell_type": "code",
   "execution_count": null,
   "id": "56a07508",
   "metadata": {},
   "outputs": [],
   "source": []
  },
  {
   "cell_type": "code",
   "execution_count": null,
   "id": "933e3763",
   "metadata": {},
   "outputs": [],
   "source": []
  },
  {
   "cell_type": "code",
   "execution_count": null,
   "id": "7d338b69",
   "metadata": {},
   "outputs": [],
   "source": []
  },
  {
   "cell_type": "code",
   "execution_count": null,
   "id": "6bad700f",
   "metadata": {
    "ExecuteTime": {
     "end_time": "2024-03-14T23:33:21.929229Z",
     "start_time": "2024-03-14T23:33:21.929179Z"
    }
   },
   "outputs": [],
   "source": [
    "y_train = train_df['remainder__2D High in Pips'].to_numpy()\n",
    "y_test = test_df['remainder__2D High in Pips'].to_numpy()\n",
    "\n",
    "average_2d_high_for_all_trades = train_df['remainder__2D High in Pips'].mean()\n",
    "\n",
    "baseline_model_test_predictions =  [average_2d_high_for_all_trades] * len(y_test)\n",
    "\n",
    "mean_absolute_error(baseline_model_test_predictions, y_test)"
   ]
  },
  {
   "cell_type": "code",
   "execution_count": null,
   "id": "906dbd13",
   "metadata": {
    "ExecuteTime": {
     "end_time": "2024-03-14T23:33:21.940154Z",
     "start_time": "2024-03-14T23:33:21.940105Z"
    }
   },
   "outputs": [],
   "source": [
    "average_2d_high_for_all_trades = train_df['remainder__2D High in Pips'].mean()\n",
    "\n",
    "baseline_model_test_predictions =  [average_2d_high_for_all_trades] * len(y_test)\n",
    "\n",
    "mean_absolute_error(baseline_model_test_predictions, y_test)"
   ]
  },
  {
   "cell_type": "code",
   "execution_count": null,
   "id": "487938ce",
   "metadata": {
    "ExecuteTime": {
     "end_time": "2024-03-14T23:33:21.946453Z",
     "start_time": "2024-03-14T23:33:21.946407Z"
    }
   },
   "outputs": [],
   "source": [
    "X = np.array(ct.fit_transform(X))"
   ]
  },
  {
   "cell_type": "code",
   "execution_count": null,
   "id": "0c8a8f5f",
   "metadata": {
    "ExecuteTime": {
     "end_time": "2024-03-14T23:33:21.959570Z",
     "start_time": "2024-03-14T23:33:21.959314Z"
    }
   },
   "outputs": [],
   "source": [
    "??pd.concat"
   ]
  },
  {
   "cell_type": "code",
   "execution_count": null,
   "id": "b3eb9e33",
   "metadata": {
    "ExecuteTime": {
     "end_time": "2024-03-14T23:33:21.964748Z",
     "start_time": "2024-03-14T23:33:21.964716Z"
    }
   },
   "outputs": [],
   "source": [
    "# test = ohe.fit_transform(df[['Trend Status','5075 Trend Status', '75100 Trend Status',\n",
    "#        '100125 Trend Status', 'Action', 'Opportunity', 'Order Type']]).to_array()\n",
    "\n",
    "# test.values"
   ]
  },
  {
   "cell_type": "code",
   "execution_count": null,
   "id": "3e5c614c",
   "metadata": {
    "ExecuteTime": {
     "end_time": "2024-03-14T23:33:21.978029Z",
     "start_time": "2024-03-14T23:33:21.977983Z"
    }
   },
   "outputs": [],
   "source": [
    "df.columns[20:40]"
   ]
  },
  {
   "cell_type": "code",
   "execution_count": null,
   "id": "7206a569",
   "metadata": {
    "ExecuteTime": {
     "end_time": "2024-03-14T23:33:21.989892Z",
     "start_time": "2024-03-14T23:33:21.989846Z"
    }
   },
   "outputs": [],
   "source": [
    "#Subset of features to keep\n",
    "df= df[['open', 'high', 'low', 'close', '25EMA', '50EMA', '75EMA','100EMA', '125EMA',\n",
    "        'Trend Status', 'Spread','5075 Trend Status', '75100 Trend Status',\n",
    "       '100125 Trend Status', 'Action', 'Opportunity', 'Order Type','2D Lowest Price',\n",
    "       '2D Highest Price', '2D Low in Pips', '2D High in Pips',\n",
    "       '2D Trade Status', '2D Hard Stop Price', '2D Hard Stop Loss',\n",
    "       '2D Trend Change Stop Price', '2D Trend Change Stop Loss', '%K', '%D', 'k_group', 'ADX', 'ADXR', 'slowk',\n",
    "       'slowd']]"
   ]
  },
  {
   "cell_type": "code",
   "execution_count": null,
   "id": "286f253d",
   "metadata": {
    "ExecuteTime": {
     "end_time": "2024-03-14T23:33:22.002307Z",
     "start_time": "2024-03-14T23:33:22.002223Z"
    }
   },
   "outputs": [],
   "source": [
    "#Apply one-hot encoding \n",
    "df= pd.get_dummies(df,columns=['Trend Status','5075 Trend Status', '75100 Trend Status',\n",
    "       '100125 Trend Status', 'Action', 'Opportunity', 'Order Type','k_group'])"
   ]
  },
  {
   "cell_type": "code",
   "execution_count": null,
   "id": "85db0599",
   "metadata": {
    "ExecuteTime": {
     "end_time": "2024-03-14T23:33:22.020136Z",
     "start_time": "2024-03-14T23:33:22.020072Z"
    }
   },
   "outputs": [],
   "source": [
    "df.columns"
   ]
  },
  {
   "cell_type": "code",
   "execution_count": null,
   "id": "ef80de3a",
   "metadata": {
    "ExecuteTime": {
     "end_time": "2024-03-14T23:33:22.031648Z",
     "start_time": "2024-03-14T23:33:22.031593Z"
    }
   },
   "outputs": [],
   "source": [
    "X_train,X_test,Y_train, Y_test = train_test_split(X,Y, test_size=0.2, random_state=42)\n"
   ]
  },
  {
   "cell_type": "markdown",
   "id": "4e5a2bea",
   "metadata": {},
   "source": [
    "## Linear Model "
   ]
  },
  {
   "cell_type": "markdown",
   "id": "3685574e",
   "metadata": {},
   "source": [
    "### Linear Mode on All Data"
   ]
  },
  {
   "cell_type": "code",
   "execution_count": null,
   "id": "a6630d41",
   "metadata": {
    "ExecuteTime": {
     "end_time": "2024-03-14T23:33:22.044529Z",
     "start_time": "2024-03-14T23:33:22.044404Z"
    }
   },
   "outputs": [],
   "source": [
    "from sklearn.linear_model import LinearRegression\n",
    "from sklearn.metrics import mean_absolute_error, mean_squared_error\n",
    "from sklearn.model_selection import cross_val_score"
   ]
  },
  {
   "cell_type": "code",
   "execution_count": null,
   "id": "7b1a5216",
   "metadata": {
    "ExecuteTime": {
     "end_time": "2024-03-14T23:33:22.057756Z",
     "start_time": "2024-03-14T23:33:22.057702Z"
    },
    "scrolled": true
   },
   "outputs": [],
   "source": [
    "#Create and fit linear regression model \n",
    "lin_model = LinearRegression().fit(X_train,Y_train)\n",
    "\n",
    "#Make Predictions on test data\n",
    "y_preds = lin_model.predict(X_test)\n",
    "\n",
    "#Evaluate Model Performance \n",
    "mae = mean_absolute_error(Y_test, y_preds)\n",
    "mse = mean_squared_error(Y_test, y_preds)\n",
    "rmse = mean_squared_error(Y_test, y_preds, squared=False)\n",
    "\n",
    "print( 'MAE:', mae)\n",
    "print( 'MSE:', mse)\n",
    "print( 'RMSE:', rmse)"
   ]
  },
  {
   "cell_type": "code",
   "execution_count": null,
   "id": "63207896",
   "metadata": {
    "ExecuteTime": {
     "end_time": "2024-03-14T23:33:22.068470Z",
     "start_time": "2024-03-14T23:33:22.068422Z"
    }
   },
   "outputs": [],
   "source": [
    "import matplotlib.pyplot as plt\n",
    "\n",
    "plt.scatter(Y_test, y_preds)\n",
    "plt.xlabel(\"Actual Values\")\n",
    "plt.ylabel(\"Predicted Values\")\n",
    "plt.title(\"Actuals vs. Predictions\")\n",
    "plt.grid(True)\n",
    "plt.show()\n"
   ]
  },
  {
   "cell_type": "code",
   "execution_count": null,
   "id": "58505a8d",
   "metadata": {
    "ExecuteTime": {
     "end_time": "2024-03-14T23:33:22.075310Z",
     "start_time": "2024-03-14T23:33:22.075278Z"
    }
   },
   "outputs": [],
   "source": [
    "# Feature Importance Analysis \n",
    "coef = lin_model.coef_\n",
    "print('Feature Importance:', coef)"
   ]
  },
  {
   "cell_type": "code",
   "execution_count": null,
   "id": "6bcb81ef",
   "metadata": {
    "ExecuteTime": {
     "end_time": "2024-03-14T23:33:22.087083Z",
     "start_time": "2024-03-14T23:33:22.087042Z"
    }
   },
   "outputs": [],
   "source": [
    "lin_model.score(X_test,Y_test)"
   ]
  },
  {
   "cell_type": "code",
   "execution_count": null,
   "id": "b6a6906c",
   "metadata": {
    "ExecuteTime": {
     "end_time": "2024-03-14T23:33:22.102613Z",
     "start_time": "2024-03-14T23:33:22.102552Z"
    }
   },
   "outputs": [],
   "source": [
    "#Perform k-folk cross validation \n",
    "sell_trade_high_scores = cross_val_score(LinearRegression(),X, Y,cv=5, scoring ='neg_mean_absolute_error' )\n",
    "\n",
    "print('Cross-validation scores:', -sell_trade_high_scores)\n",
    "print('Average MAE:', -sell_trade_high_scores.mean())"
   ]
  },
  {
   "cell_type": "markdown",
   "id": "519d69e9",
   "metadata": {},
   "source": [
    "### Linear Model on Buy Trades HIGH "
   ]
  },
  {
   "cell_type": "code",
   "execution_count": null,
   "id": "59e44912",
   "metadata": {
    "ExecuteTime": {
     "end_time": "2024-03-14T23:33:22.120276Z",
     "start_time": "2024-03-14T23:33:22.120235Z"
    }
   },
   "outputs": [],
   "source": [
    "#Create a subset of df with Buy Trades \n",
    "buy_df =  df[df['Order Type_BUY'] == True]\n",
    "\n",
    "buy_df.shape"
   ]
  },
  {
   "cell_type": "code",
   "execution_count": null,
   "id": "b7b74539",
   "metadata": {
    "ExecuteTime": {
     "end_time": "2024-03-14T23:33:22.161610Z",
     "start_time": "2024-03-14T23:33:22.161567Z"
    }
   },
   "outputs": [],
   "source": [
    "#Visualize the high of buy trades \n",
    "fig = go.Figure(data=go.Scatter(\n",
    "    x=buy_df['close'],  # Access the 'x' column\n",
    "    y=buy_df['2D High in Pips'],  # Access the 'y' column\n",
    "    mode='markers',\n",
    "#     marker=dict(\n",
    "#         size=10,\n",
    "#         color=colors,  # Map colors from the 'color_column'\n",
    "#         opacity=0.8\n",
    "#     )\n",
    "))\n",
    "\n",
    "# Customize the layout\n",
    "fig.update_layout(\n",
    "    title=\"Buy Trades 2D High Price\",\n",
    "    xaxis_title=\"Closed Price at Trade Open\",\n",
    "    yaxis_title=\"2D High in Pips\",\n",
    "#     grid=True\n",
    ")\n",
    "fig.show()"
   ]
  },
  {
   "cell_type": "code",
   "execution_count": null,
   "id": "a68018ed",
   "metadata": {
    "ExecuteTime": {
     "end_time": "2024-03-14T23:33:22.167547Z",
     "start_time": "2024-03-14T23:33:22.167503Z"
    }
   },
   "outputs": [],
   "source": [
    "buy_trade_high_mean = buy_df['2D High in Pips'].mean()\n",
    "buy_trade_high_mean"
   ]
  },
  {
   "cell_type": "code",
   "execution_count": null,
   "id": "30720638",
   "metadata": {
    "ExecuteTime": {
     "end_time": "2024-03-14T23:33:22.170856Z",
     "start_time": "2024-03-14T23:33:22.170823Z"
    }
   },
   "outputs": [],
   "source": [
    "#Seperate features and label \n",
    "#Indepedent Variables \n",
    "X = buy_df[['open', 'high', 'low', 'close', '25EMA', '50EMA', '75EMA', '100EMA',\n",
    "       '125EMA', 'Spread','Trend Status_Bearish',\n",
    "       'Trend Status_Bullish', '5075 Trend Status_Bearish',\n",
    "       '5075 Trend Status_Bullish', '75100 Trend Status_Bearish',\n",
    "       '75100 Trend Status_Bullish', '100125 Trend Status_Bearish',\n",
    "       '100125 Trend Status_Bullish', 'Action_Ultimate Action',\n",
    "       'Opportunity_Optimal', 'Opportunity_Unfavorable','k_group_Oversold',\n",
    "       'k_group_Undersold', 'k_group_slightly_oversold','%K', '%D', 'ADX', 'ADXR', 'slowk', 'slowd']]\n",
    "#Dependent Variable\n",
    "Y = buy_df['2D High in Pips'] \n",
    "\n",
    "X_train,X_test,Y_train, Y_test = train_test_split(X,Y, test_size=0.2, random_state=42)"
   ]
  },
  {
   "cell_type": "code",
   "execution_count": null,
   "id": "546f4a6c",
   "metadata": {
    "ExecuteTime": {
     "end_time": "2024-03-14T23:33:22.181495Z",
     "start_time": "2024-03-14T23:33:22.181435Z"
    },
    "scrolled": true
   },
   "outputs": [],
   "source": [
    "#Create and fit linear regression model \n",
    "lin_model = LinearRegression().fit(X_train,Y_train)\n",
    "\n",
    "#Create and fit linear regression model \n",
    "lin_model = LinearRegression().fit(X_train,Y_train)\n",
    "\n",
    "#Make Predictions on test data\n",
    "y_preds = lin_model.predict(X_test)\n",
    "\n",
    "#Evaluate Model Performance \n",
    "mae = mean_absolute_error(Y_test, y_preds)\n",
    "mse = mean_squared_error(Y_test, y_preds)\n",
    "rmse = mean_squared_error(Y_test, y_preds, squared=False)\n",
    "\n",
    "print('Mean', buy_trade_high_mean)\n",
    "print( 'MAE:', mae)\n",
    "print( 'MSE:', mse)\n",
    "print( 'RMSE:', rmse)"
   ]
  },
  {
   "cell_type": "markdown",
   "id": "69b5632c",
   "metadata": {},
   "source": [
    "### Linear Model on SELL Trades HIGH "
   ]
  },
  {
   "cell_type": "code",
   "execution_count": null,
   "id": "42f58d2f",
   "metadata": {
    "ExecuteTime": {
     "end_time": "2024-03-14T23:33:22.186446Z",
     "start_time": "2024-03-14T23:33:22.186390Z"
    }
   },
   "outputs": [],
   "source": [
    "#Create a subset of df with Buy Trades \n",
    "sell_df =  df[df['Order Type_SELL'] == True]\n",
    "\n",
    "sell_df.shape"
   ]
  },
  {
   "cell_type": "code",
   "execution_count": null,
   "id": "679ece5c",
   "metadata": {
    "ExecuteTime": {
     "end_time": "2024-03-14T23:33:22.192152Z",
     "start_time": "2024-03-14T23:33:22.192104Z"
    }
   },
   "outputs": [],
   "source": [
    "#Visualize the high of sell trades \n",
    "fig = go.Figure(data=go.Scatter(\n",
    "    x=sell_df['close'],  # Access the 'x' column\n",
    "    y=sell_df['2D High in Pips'],  # Access the 'y' column\n",
    "    mode='markers',\n",
    "#     marker=dict(\n",
    "#         size=10,\n",
    "#         color=colors,  # Map colors from the 'color_column'\n",
    "#         opacity=0.8\n",
    "#     )\n",
    "))\n",
    "\n",
    "# Customize the layout\n",
    "fig.update_layout(\n",
    "    title=\"Buy Trades 2D High Price\",\n",
    "    xaxis_title=\"Closed Price at Trade Open\",\n",
    "    yaxis_title=\"2D High in Pips\",\n",
    "#     grid=True\n",
    ")\n",
    "fig.show()"
   ]
  },
  {
   "cell_type": "code",
   "execution_count": null,
   "id": "f76c82c9",
   "metadata": {
    "ExecuteTime": {
     "end_time": "2024-03-14T23:33:22.200588Z",
     "start_time": "2024-03-14T23:33:22.200543Z"
    }
   },
   "outputs": [],
   "source": [
    "sell_trade_high_mean = sell_df['2D High in Pips'].mean()\n",
    "sell_trade_high_mean"
   ]
  },
  {
   "cell_type": "code",
   "execution_count": null,
   "id": "36cc80f8",
   "metadata": {
    "ExecuteTime": {
     "end_time": "2024-03-14T23:33:22.207194Z",
     "start_time": "2024-03-14T23:33:22.207152Z"
    }
   },
   "outputs": [],
   "source": [
    "#Seperate features and label \n",
    "#Indepedent Variables \n",
    "X = sell_df[['open', 'high', 'low', 'close', '25EMA', '50EMA', '75EMA', '100EMA',\n",
    "       '125EMA', 'Spread','Trend Status_Bearish',\n",
    "       'Trend Status_Bullish', '5075 Trend Status_Bearish',\n",
    "       '5075 Trend Status_Bullish', '75100 Trend Status_Bearish',\n",
    "       '75100 Trend Status_Bullish', '100125 Trend Status_Bearish',\n",
    "       '100125 Trend Status_Bullish', 'Action_Ultimate Action',\n",
    "       'Opportunity_Optimal', 'Opportunity_Unfavorable','k_group_Oversold',\n",
    "       'k_group_Undersold', 'k_group_slightly_oversold','%K', '%D', 'ADX', 'ADXR', 'slowk', 'slowd']]\n",
    "#Dependent Variable\n",
    "Y = sell_df['2D High in Pips'] \n",
    "\n",
    "X_train,X_test,Y_train, Y_test = train_test_split(X,Y, test_size=0.3, random_state=42)"
   ]
  },
  {
   "cell_type": "code",
   "execution_count": null,
   "id": "af34859d",
   "metadata": {
    "ExecuteTime": {
     "end_time": "2024-03-14T23:33:22.211982Z",
     "start_time": "2024-03-14T23:33:22.211943Z"
    }
   },
   "outputs": [],
   "source": [
    "#Create and fit linear regression model \n",
    "lin_model = LinearRegression().fit(X_train,Y_train)\n",
    "\n",
    "#Create and fit linear regression model \n",
    "lin_model = LinearRegression().fit(X_train,Y_train)\n",
    "\n",
    "#Make Predictions on test data\n",
    "y_preds = lin_model.predict(X_test)\n",
    "\n",
    "#Evaluate Model Performance \n",
    "mae = mean_absolute_error(Y_test, y_preds)\n",
    "mse = mean_squared_error(Y_test, y_preds)\n",
    "rmse = mean_squared_error(Y_test, y_preds, squared=False)\n",
    "\n",
    "print( 'MAE:', mae)\n",
    "print( 'MSE:', mse)\n",
    "print( 'RMSE:', rmse)"
   ]
  },
  {
   "cell_type": "code",
   "execution_count": null,
   "id": "244fa9f8",
   "metadata": {
    "ExecuteTime": {
     "end_time": "2024-03-14T23:33:22.221358Z",
     "start_time": "2024-03-14T23:33:22.221301Z"
    }
   },
   "outputs": [],
   "source": [
    "import matplotlib.pyplot as plt\n",
    "\n",
    "plt.scatter(Y_test, y_preds)\n",
    "plt.xlabel(\"Actual Values\")\n",
    "plt.ylabel(\"Predicted Values\")\n",
    "plt.title(\"Actuals vs. Predictions\")\n",
    "plt.grid(True)\n",
    "plt.show()\n"
   ]
  },
  {
   "cell_type": "code",
   "execution_count": null,
   "id": "03bd0795",
   "metadata": {
    "ExecuteTime": {
     "end_time": "2024-03-14T23:33:22.251038Z",
     "start_time": "2024-03-14T23:33:22.251001Z"
    }
   },
   "outputs": [],
   "source": [
    "#Perform k-folk cross validation \n",
    "sell_trade_high_scores = cross_val_score(LinearRegression(),X, Y,cv=5, scoring ='neg_mean_absolute_error' )\n",
    "\n",
    "print('Cross-validation scores:', -sell_trade_high_scores)\n",
    "print('Average MAE:', -sell_trade_high_scores.mean())"
   ]
  },
  {
   "cell_type": "markdown",
   "id": "c7e35612",
   "metadata": {},
   "source": [
    "## Gradient Boosting Model "
   ]
  },
  {
   "cell_type": "markdown",
   "id": "27a674be",
   "metadata": {
    "ExecuteTime": {
     "end_time": "2024-01-13T19:41:11.062468Z",
     "start_time": "2024-01-13T19:41:11.039657Z"
    }
   },
   "source": [
    "### Gradient Boost Model on all Data"
   ]
  },
  {
   "cell_type": "code",
   "execution_count": null,
   "id": "cf6ce528",
   "metadata": {
    "ExecuteTime": {
     "end_time": "2024-03-14T23:33:22.254458Z",
     "start_time": "2024-03-14T23:33:22.254418Z"
    }
   },
   "outputs": [],
   "source": [
    "from sklearn.ensemble import GradientBoostingRegressor"
   ]
  },
  {
   "cell_type": "code",
   "execution_count": null,
   "id": "fa9f9689",
   "metadata": {
    "ExecuteTime": {
     "end_time": "2024-03-14T23:33:22.263745Z",
     "start_time": "2024-03-14T23:33:22.263689Z"
    }
   },
   "outputs": [],
   "source": [
    "#Indepedent Variables \n",
    "X = df[['open', 'high', 'low', 'close', '25EMA', '50EMA', '75EMA', '100EMA',\n",
    "       '125EMA', 'Spread','Trend Status_Bearish',\n",
    "       'Trend Status_Bullish', '5075 Trend Status_Bearish',\n",
    "       '5075 Trend Status_Bullish', '75100 Trend Status_Bearish',\n",
    "       '75100 Trend Status_Bullish', '100125 Trend Status_Bearish',\n",
    "       '100125 Trend Status_Bullish', 'Action_Ultimate Action',\n",
    "       'Opportunity_Optimal', 'Opportunity_Unfavorable', 'Order Type_BUY',\n",
    "       'Order Type_SELL','k_group_Oversold',\n",
    "       'k_group_Undersold', 'k_group_slightly_oversold','%K', '%D', 'ADX', 'ADXR', 'slowk', 'slowd']]\n",
    "#Dependent Variable\n",
    "Y = df['2D High in Pips'] "
   ]
  },
  {
   "cell_type": "code",
   "execution_count": null,
   "id": "34674305",
   "metadata": {
    "ExecuteTime": {
     "end_time": "2024-03-14T23:33:22.270901Z",
     "start_time": "2024-03-14T23:33:22.270851Z"
    }
   },
   "outputs": [],
   "source": [
    "X_train,X_test,Y_train, Y_test = train_test_split(X,Y, test_size=0.2, random_state=42)\n",
    "\n",
    "gbr = GradientBoostingRegressor(n_estimators=5,learning_rate= 0.1, random_state=0).fit(X_train,Y_train)\n",
    "\n",
    "y_preds =gbr.predict(X_test)\n",
    "    \n",
    "#Evaluate Model Performance \n",
    "mae = mean_absolute_error(Y_test, y_preds)\n",
    "mse = mean_squared_error(Y_test, y_preds)\n",
    "rmse = mean_squared_error(Y_test, y_preds, squared=False)\n",
    "gbr_score = gbr.score(X_test, Y_test)\n",
    "\n",
    "print( 'MAE:', mae)\n",
    "print( 'MSE:', mse)\n",
    "print( 'RMSE:', rmse)\n",
    "print('Score', gbr_score)"
   ]
  },
  {
   "cell_type": "code",
   "execution_count": null,
   "id": "33f97df2",
   "metadata": {
    "ExecuteTime": {
     "end_time": "2024-03-14T23:33:22.279813Z",
     "start_time": "2024-03-14T23:33:22.279768Z"
    }
   },
   "outputs": [],
   "source": [
    "#Perform k-folk cross validation \n",
    "all_trade_high_scores = cross_val_score(GradientBoostingRegressor(n_estimators=5,learning_rate= 0.1, random_state=0),X, Y,cv=5, scoring ='neg_mean_absolute_error' )\n",
    "\n",
    "print('Cross-validation scores:', -all_trade_high_scores)\n",
    "print('Average MAE:', -all_trade_high_scores.mean())"
   ]
  },
  {
   "cell_type": "code",
   "execution_count": null,
   "id": "a78a194e",
   "metadata": {
    "ExecuteTime": {
     "end_time": "2024-03-14T23:33:22.289873Z",
     "start_time": "2024-03-14T23:33:22.289825Z"
    }
   },
   "outputs": [],
   "source": [
    "plt.scatter(Y_test, y_preds)\n",
    "plt.xlabel(\"Actual Values\")\n",
    "plt.ylabel(\"Predicted Values\")\n",
    "plt.title(\"Actuals vs. Predictions\")\n",
    "plt.grid(True)\n",
    "plt.show()"
   ]
  },
  {
   "cell_type": "markdown",
   "id": "e3c51036",
   "metadata": {
    "ExecuteTime": {
     "end_time": "2024-01-13T20:15:09.583836Z",
     "start_time": "2024-01-13T20:15:09.569454Z"
    }
   },
   "source": [
    "### Gradient Boosting Model on Buy Trades HIGH "
   ]
  },
  {
   "cell_type": "code",
   "execution_count": null,
   "id": "5849aa7e",
   "metadata": {
    "ExecuteTime": {
     "end_time": "2024-03-14T23:33:22.299570Z",
     "start_time": "2024-03-14T23:33:22.299519Z"
    }
   },
   "outputs": [],
   "source": [
    "#Seperate features and label \n",
    "#Indepedent Variables \n",
    "X = buy_df[['open', 'high', 'low', 'close', '25EMA', '50EMA', '75EMA', '100EMA',\n",
    "       '125EMA', 'Spread','Trend Status_Bearish',\n",
    "       'Trend Status_Bullish', '5075 Trend Status_Bearish',\n",
    "       '5075 Trend Status_Bullish', '75100 Trend Status_Bearish',\n",
    "       '75100 Trend Status_Bullish', '100125 Trend Status_Bearish',\n",
    "       '100125 Trend Status_Bullish', 'Action_Ultimate Action',\n",
    "       'Opportunity_Optimal', 'Opportunity_Unfavorable','k_group_Oversold',\n",
    "       'k_group_Undersold', 'k_group_slightly_oversold','%K', '%D', 'ADX', 'ADXR', 'slowk', 'slowd']]\n",
    "#Dependent Variable\n",
    "Y = buy_df['2D High in Pips'] \n",
    "\n",
    "X_train,X_test,Y_train, Y_test = train_test_split(X,Y, test_size=0.2, random_state=42)"
   ]
  },
  {
   "cell_type": "code",
   "execution_count": null,
   "id": "717418d4",
   "metadata": {
    "ExecuteTime": {
     "end_time": "2024-03-14T23:33:22.311974Z",
     "start_time": "2024-03-14T23:33:22.311921Z"
    }
   },
   "outputs": [],
   "source": [
    "buy_trade_high_mean"
   ]
  },
  {
   "cell_type": "code",
   "execution_count": null,
   "id": "b534809c",
   "metadata": {
    "ExecuteTime": {
     "end_time": "2024-03-14T23:33:22.325888Z",
     "start_time": "2024-03-14T23:33:22.325835Z"
    }
   },
   "outputs": [],
   "source": [
    "gbr = GradientBoostingRegressor(n_estimators=100,learning_rate= 0.1, random_state=0).fit(X_train,Y_train)\n",
    "\n",
    "y_preds =gbr.predict(X_test)\n",
    "    \n",
    "#Evaluate Model Performance \n",
    "mae = mean_absolute_error(Y_test, y_preds)\n",
    "mse = mean_squared_error(Y_test, y_preds)\n",
    "rmse = mean_squared_error(Y_test, y_preds, squared=False)\n",
    "gbr_score = gbr.score(X_test, Y_test)\n",
    "\n",
    "print('Mean', buy_trade_high_mean)\n",
    "print( 'MAE:', mae)\n",
    "print( 'MSE:', mse)\n",
    "print( 'RMSE:', rmse)\n",
    "print('Score', gbr_score)"
   ]
  },
  {
   "cell_type": "code",
   "execution_count": null,
   "id": "52805544",
   "metadata": {
    "ExecuteTime": {
     "end_time": "2024-03-14T23:33:22.336579Z",
     "start_time": "2024-03-14T23:33:22.336531Z"
    }
   },
   "outputs": [],
   "source": [
    "#Perform k-folk cross validation \n",
    "all_trade_high_scores = cross_val_score(GradientBoostingRegressor(n_estimators=5,learning_rate= 0.1, random_state=0),X, Y,cv=5, scoring ='neg_mean_absolute_error' )\n",
    "\n",
    "print('Cross-validation scores:', -all_trade_high_scores)\n",
    "print('Average MAE:', -all_trade_high_scores.mean())"
   ]
  },
  {
   "cell_type": "code",
   "execution_count": null,
   "id": "fa2def3a",
   "metadata": {
    "ExecuteTime": {
     "end_time": "2024-03-14T23:33:22.346800Z",
     "start_time": "2024-03-14T23:33:22.346756Z"
    }
   },
   "outputs": [],
   "source": [
    "plt.scatter(Y_test, y_preds)\n",
    "plt.xlabel(\"Actual Values\")\n",
    "plt.ylabel(\"Predicted Values\")\n",
    "plt.title(\"Actuals vs. Predictions\")\n",
    "plt.grid(True)\n",
    "plt.show()"
   ]
  },
  {
   "cell_type": "markdown",
   "id": "3b542eb1",
   "metadata": {
    "ExecuteTime": {
     "end_time": "2024-01-13T21:46:16.914418Z",
     "start_time": "2024-01-13T21:46:16.885770Z"
    }
   },
   "source": [
    "### Gradient Boosting Model on SELL Trades HIGH "
   ]
  },
  {
   "cell_type": "code",
   "execution_count": null,
   "id": "6ff69640",
   "metadata": {
    "ExecuteTime": {
     "end_time": "2024-03-14T23:33:22.355925Z",
     "start_time": "2024-03-14T23:33:22.355880Z"
    }
   },
   "outputs": [],
   "source": [
    "#Seperate features and label \n",
    "#Indepedent Variables \n",
    "X = sell_df[['open', 'high', 'low', 'close', '25EMA', '50EMA', '75EMA', '100EMA',\n",
    "       '125EMA', 'Spread','Trend Status_Bearish',\n",
    "       'Trend Status_Bullish', '5075 Trend Status_Bearish',\n",
    "       '5075 Trend Status_Bullish', '75100 Trend Status_Bearish',\n",
    "       '75100 Trend Status_Bullish', '100125 Trend Status_Bearish',\n",
    "       '100125 Trend Status_Bullish', 'Action_Ultimate Action',\n",
    "       'Opportunity_Optimal', 'Opportunity_Unfavorable','k_group_Oversold',\n",
    "       'k_group_Undersold', 'k_group_slightly_oversold','%K', '%D', 'ADX', 'ADXR', 'slowk', 'slowd']]\n",
    "#Dependent Variable\n",
    "Y = sell_df['2D High in Pips'] \n",
    "\n",
    "X_train,X_test,Y_train, Y_test = train_test_split(X,Y, test_size=0.3, random_state=42)"
   ]
  },
  {
   "cell_type": "code",
   "execution_count": null,
   "id": "69290728",
   "metadata": {
    "ExecuteTime": {
     "end_time": "2024-03-14T23:33:22.368780Z",
     "start_time": "2024-03-14T23:33:22.368733Z"
    }
   },
   "outputs": [],
   "source": [
    "gbr = GradientBoostingRegressor(n_estimators=100,learning_rate= 0.1, random_state=0).fit(X_train,Y_train)\n",
    "\n",
    "y_preds =gbr.predict(X_test)\n",
    "    \n",
    "#Evaluate Model Performance \n",
    "mae = mean_absolute_error(Y_test, y_preds)\n",
    "mse = mean_squared_error(Y_test, y_preds)\n",
    "rmse = mean_squared_error(Y_test, y_preds, squared=False)\n",
    "gbr_score = gbr.score(X_test, Y_test)\n",
    "\n",
    "print('Mean', buy_trade_high_mean)\n",
    "print( 'MAE:', mae)\n",
    "print( 'MSE:', mse)\n",
    "print( 'RMSE:', rmse)\n",
    "print('Score', gbr_score)"
   ]
  },
  {
   "cell_type": "code",
   "execution_count": null,
   "id": "151ca6c1",
   "metadata": {
    "ExecuteTime": {
     "end_time": "2024-03-14T23:33:22.378289Z",
     "start_time": "2024-03-14T23:33:22.378214Z"
    }
   },
   "outputs": [],
   "source": [
    "#Perform k-folk cross validation \n",
    "sell_trade_high_scores = cross_val_score(GradientBoostingRegressor(n_estimators=5,learning_rate= 0.1, random_state=0),X, Y,cv=5, scoring ='neg_mean_absolute_error' )\n",
    "\n",
    "print('Cross-validation scores:', -sell_trade_high_scores)\n",
    "print('Average MAE:', -sell_trade_high_scores.mean())"
   ]
  },
  {
   "cell_type": "code",
   "execution_count": null,
   "id": "578f1458",
   "metadata": {
    "ExecuteTime": {
     "end_time": "2024-03-14T23:33:22.389230Z",
     "start_time": "2024-03-14T23:33:22.389188Z"
    }
   },
   "outputs": [],
   "source": [
    "plt.scatter(Y_test, y_preds)\n",
    "plt.xlabel(\"Actual Values\")\n",
    "plt.ylabel(\"Predicted Values\")\n",
    "plt.title(\"Actuals vs. Predictions\")\n",
    "plt.grid(True)\n",
    "plt.show()"
   ]
  },
  {
   "cell_type": "markdown",
   "id": "81a08f49",
   "metadata": {},
   "source": [
    "## Bagging & Gradient Boosting "
   ]
  },
  {
   "cell_type": "markdown",
   "id": "dcd36c66",
   "metadata": {},
   "source": [
    "### Bagging & Gradient Boosting All Trades"
   ]
  },
  {
   "cell_type": "code",
   "execution_count": null,
   "id": "31085056",
   "metadata": {
    "ExecuteTime": {
     "end_time": "2024-03-14T23:33:22.402636Z",
     "start_time": "2024-03-14T23:33:22.402589Z"
    }
   },
   "outputs": [],
   "source": [
    "from sklearn.ensemble import BaggingRegressor"
   ]
  },
  {
   "cell_type": "code",
   "execution_count": null,
   "id": "5dc376bc",
   "metadata": {
    "ExecuteTime": {
     "end_time": "2024-03-14T23:33:22.417370Z",
     "start_time": "2024-03-14T23:33:22.417311Z"
    }
   },
   "outputs": [],
   "source": [
    "#Indepedent Variables \n",
    "X = df[['open', 'high', 'low', 'close', '25EMA', '50EMA', '75EMA', '100EMA',\n",
    "       '125EMA', 'Spread','Trend Status_Bearish',\n",
    "       'Trend Status_Bullish', '5075 Trend Status_Bearish',\n",
    "       '5075 Trend Status_Bullish', '75100 Trend Status_Bearish',\n",
    "       '75100 Trend Status_Bullish', '100125 Trend Status_Bearish',\n",
    "       '100125 Trend Status_Bullish', 'Action_Ultimate Action',\n",
    "       'Opportunity_Optimal', 'Opportunity_Unfavorable', 'Order Type_BUY',\n",
    "       'Order Type_SELL','k_group_Oversold',\n",
    "       'k_group_Undersold', 'k_group_slightly_oversold','%K', '%D', 'ADX', 'ADXR', 'slowk', 'slowd']]\n",
    "#Dependent Variable\n",
    "Y = df['2D High in Pips'] \n",
    "\n",
    "X_train,X_test,Y_train, Y_test = train_test_split(X,Y, test_size=0.2, random_state=42)\n"
   ]
  },
  {
   "cell_type": "code",
   "execution_count": null,
   "id": "35a10e98",
   "metadata": {
    "ExecuteTime": {
     "end_time": "2024-03-14T23:33:22.425666Z",
     "start_time": "2024-03-14T23:33:22.425621Z"
    }
   },
   "outputs": [],
   "source": [
    "basic_bag_model = BaggingRegressor(\n",
    "    estimator=GradientBoostingRegressor(n_estimators=5,learning_rate= 0.1, random_state=0),\n",
    "    n_estimators=100,\n",
    "    max_samples=.8,\n",
    "    oob_score=True,\n",
    "    random_state=0\n",
    ")\n",
    "\n",
    "basic_bag_model.fit(X_train,Y_train)\n",
    "\n",
    "#fix variable name \n",
    "score = basic_bag_model.oob_score_\n",
    "\n",
    "y_preds = basic_bag_model.predict(X_test)\n",
    "\n",
    "\n",
    "#Evaluate Model Performance \n",
    "mae = mean_absolute_error(Y_test, y_preds)\n",
    "mse = mean_squared_error(Y_test, y_preds)\n",
    "rmse = mean_squared_error(Y_test, y_preds, squared=False)\n",
    "# gbr_score = gbr.score(X_test, Y_test)\n",
    "\n",
    "print('Mean', buy_trade_high_mean)\n",
    "print( 'MAE:', mae)\n",
    "print( 'MSE:', mse)\n",
    "print( 'RMSE:', rmse)\n",
    "print('Score', score)"
   ]
  },
  {
   "cell_type": "markdown",
   "id": "1c415b6b",
   "metadata": {},
   "source": [
    "### Bagging & Gradient Boosting BUY Trades\n"
   ]
  },
  {
   "cell_type": "code",
   "execution_count": null,
   "id": "45592f8d",
   "metadata": {
    "ExecuteTime": {
     "end_time": "2024-03-14T23:33:22.434047Z",
     "start_time": "2024-03-14T23:33:22.434008Z"
    }
   },
   "outputs": [],
   "source": [
    "#Seperate features and label \n",
    "#Indepedent Variables \n",
    "X = buy_df[['open', 'high', 'low', 'close', '25EMA', '50EMA', '75EMA', '100EMA',\n",
    "       '125EMA', 'Spread','Trend Status_Bearish',\n",
    "       'Trend Status_Bullish', '5075 Trend Status_Bearish',\n",
    "       '5075 Trend Status_Bullish', '75100 Trend Status_Bearish',\n",
    "       '75100 Trend Status_Bullish', '100125 Trend Status_Bearish',\n",
    "       '100125 Trend Status_Bullish', 'Action_Ultimate Action',\n",
    "       'Opportunity_Optimal', 'Opportunity_Unfavorable','k_group_Oversold',\n",
    "       'k_group_Undersold', 'k_group_slightly_oversold','%K', '%D', 'ADX', 'ADXR', 'slowk', 'slowd']]\n",
    "#Dependent Variable\n",
    "Y = buy_df['2D High in Pips'] \n",
    "\n",
    "X_train,X_test,Y_train, Y_test = train_test_split(X,Y, test_size=0.2, random_state=42)"
   ]
  },
  {
   "cell_type": "code",
   "execution_count": null,
   "id": "022864a6",
   "metadata": {},
   "outputs": [],
   "source": []
  },
  {
   "cell_type": "code",
   "execution_count": null,
   "id": "d304fe95",
   "metadata": {
    "ExecuteTime": {
     "end_time": "2024-03-14T23:33:22.442618Z",
     "start_time": "2024-03-14T23:33:22.442570Z"
    }
   },
   "outputs": [],
   "source": [
    "basic_bag_model = BaggingRegressor(\n",
    "    estimator=GradientBoostingRegressor(n_estimators=100,learning_rate= 0.1, random_state=0),\n",
    "    n_estimators=100,\n",
    "    max_samples=.8,\n",
    "    oob_score=True,\n",
    "    random_state=0\n",
    ")\n",
    "\n",
    "basic_bag_model.fit(X_train,Y_train)\n",
    "\n",
    "#fix variable name \n",
    "score = basic_bag_model.oob_score_\n",
    "\n",
    "y_preds = basic_bag_model.predict(X_test)\n",
    "\n",
    "\n",
    "#Evaluate Model Performance \n",
    "mae = mean_absolute_error(Y_test, y_preds)\n",
    "mse = mean_squared_error(Y_test, y_preds)\n",
    "rmse = mean_squared_error(Y_test, y_preds, squared=False)\n",
    "# gbr_score = gbr.score(X_test, Y_test)\n",
    "\n",
    "print('Mean', buy_trade_high_mean)\n",
    "print( 'MAE:', mae)\n",
    "print( 'MSE:', mse)\n",
    "print( 'RMSE:', rmse)\n",
    "print('Score', score)"
   ]
  },
  {
   "cell_type": "markdown",
   "id": "213e903d",
   "metadata": {
    "ExecuteTime": {
     "end_time": "2024-01-13T21:32:08.710193Z",
     "start_time": "2024-01-13T21:32:08.704715Z"
    }
   },
   "source": [
    "### Bagging & Gradient Boosting SELL Trades\n"
   ]
  },
  {
   "cell_type": "code",
   "execution_count": null,
   "id": "6f7eb780",
   "metadata": {
    "ExecuteTime": {
     "end_time": "2024-03-14T23:33:22.456884Z",
     "start_time": "2024-03-14T23:33:22.456846Z"
    }
   },
   "outputs": [],
   "source": [
    "#Seperate features and label \n",
    "#Indepedent Variables \n",
    "X = sell_df[['open', 'high', 'low', 'close', '25EMA', '50EMA', '75EMA', '100EMA',\n",
    "       '125EMA', 'Spread','Trend Status_Bearish',\n",
    "       'Trend Status_Bullish', '5075 Trend Status_Bearish',\n",
    "       '5075 Trend Status_Bullish', '75100 Trend Status_Bearish',\n",
    "       '75100 Trend Status_Bullish', '100125 Trend Status_Bearish',\n",
    "       '100125 Trend Status_Bullish', 'Action_Ultimate Action',\n",
    "       'Opportunity_Optimal', 'Opportunity_Unfavorable','k_group_Oversold',\n",
    "       'k_group_Undersold', 'k_group_slightly_oversold','%K', '%D', 'ADX', 'ADXR', 'slowk', 'slowd']]\n",
    "#Dependent Variable\n",
    "Y = sell_df['2D High in Pips'] \n",
    "\n",
    "X_train,X_test,Y_train, Y_test = train_test_split(X,Y, test_size=0.3, random_state=42)"
   ]
  },
  {
   "cell_type": "code",
   "execution_count": null,
   "id": "a17db715",
   "metadata": {
    "ExecuteTime": {
     "end_time": "2024-03-14T23:33:22.464139Z",
     "start_time": "2024-03-14T23:33:22.464097Z"
    }
   },
   "outputs": [],
   "source": [
    "basic_bag_model = BaggingRegressor(\n",
    "    estimator=GradientBoostingRegressor(n_estimators=100,learning_rate= 0.2, random_state=0),\n",
    "    n_estimators=100,\n",
    "    max_samples=.8,\n",
    "    oob_score=True,\n",
    "    random_state=0\n",
    ")\n",
    "\n",
    "basic_bag_model.fit(X_train,Y_train)\n",
    "\n",
    "#fix variable name \n",
    "score = basic_bag_model.oob_score_\n",
    "\n",
    "y_preds = basic_bag_model.predict(X_test)\n",
    "\n",
    "\n",
    "#Evaluate Model Performance \n",
    "mae = mean_absolute_error(Y_test, y_preds)\n",
    "mse = mean_squared_error(Y_test, y_preds)\n",
    "rmse = mean_squared_error(Y_test, y_preds, squared=False)\n",
    "# gbr_score = gbr.score(X_test, Y_test)\n",
    "\n",
    "print('Mean', sell_trade_high_mean)\n",
    "print( 'MAE:', mae)\n",
    "print( 'MSE:', mse)\n",
    "print( 'RMSE:', rmse)\n",
    "print('Score', score)"
   ]
  },
  {
   "cell_type": "code",
   "execution_count": null,
   "id": "13e3a246",
   "metadata": {},
   "outputs": [],
   "source": []
  }
 ],
 "metadata": {
  "kernelspec": {
   "display_name": "base_jupyter",
   "language": "python",
   "name": "base_jupyter"
  },
  "language_info": {
   "codemirror_mode": {
    "name": "ipython",
    "version": 3
   },
   "file_extension": ".py",
   "mimetype": "text/x-python",
   "name": "python",
   "nbconvert_exporter": "python",
   "pygments_lexer": "ipython3",
   "version": "3.9.2"
  }
 },
 "nbformat": 4,
 "nbformat_minor": 5
}
